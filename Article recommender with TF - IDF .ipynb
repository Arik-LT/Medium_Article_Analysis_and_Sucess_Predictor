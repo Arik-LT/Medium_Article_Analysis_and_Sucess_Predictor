{
 "cells": [
  {
   "cell_type": "code",
   "execution_count": 1,
   "id": "23ca27a8",
   "metadata": {
    "ExecuteTime": {
     "end_time": "2022-06-15T12:44:22.603467Z",
     "start_time": "2022-06-15T12:44:16.628995Z"
    }
   },
   "outputs": [],
   "source": [
    "import pandas as pd\n",
    "import matplotlib.pyplot as plt\n",
    "\n",
    "from sklearn.feature_extraction.text import TfidfVectorizer\n",
    "from sklearn.metrics.pairwise import cosine_similarity, euclidean_distances\n",
    "\n",
    "from nltk.corpus import stopwords\n",
    "stop_words = stopwords.words('english')\n",
    "\n",
    "import nltk\n",
    "from textblob import Word\n",
    "#nltk.download()"
   ]
  },
  {
   "cell_type": "code",
   "execution_count": 2,
   "id": "f49abad7",
   "metadata": {
    "ExecuteTime": {
     "end_time": "2022-06-15T12:44:29.086826Z",
     "start_time": "2022-06-15T12:44:22.611747Z"
    }
   },
   "outputs": [],
   "source": [
    "df = pd.read_csv('data_fot_recommender.csv')"
   ]
  },
  {
   "cell_type": "markdown",
   "id": "00056725",
   "metadata": {},
   "source": [
    "### Cleaning columns"
   ]
  },
  {
   "cell_type": "markdown",
   "id": "8bb83571",
   "metadata": {},
   "source": [
    "#### I clean the text column but not the title as the user should be able to insert the text as it is originally, to get recommendations for articles."
   ]
  },
  {
   "cell_type": "code",
   "execution_count": 3,
   "id": "89cb6acb",
   "metadata": {
    "ExecuteTime": {
     "end_time": "2022-06-15T12:49:57.045853Z",
     "start_time": "2022-06-15T12:44:29.087945Z"
    }
   },
   "outputs": [
    {
     "name": "stderr",
     "output_type": "stream",
     "text": [
      "/var/folders/0g/2n4dpfnj6xg2x7twpn7nk6nh0000gn/T/ipykernel_92151/2329294110.py:4: FutureWarning: The default value of regex will change from True to False in a future version.\n",
      "  df['text'] = df['text'].str.replace('[^a-z ]', '')\n",
      "/var/folders/0g/2n4dpfnj6xg2x7twpn7nk6nh0000gn/T/ipykernel_92151/2329294110.py:5: FutureWarning: The default value of regex will change from True to False in a future version.\n",
      "  df['text'] = df['text'].str.replace(r\"\\s\\s+\",' ') # this replaces two or more white spcaes with just one\n"
     ]
    }
   ],
   "source": [
    "# lower case\n",
    "df['text'] = df['text'].apply(lambda x: \" \".join(word.lower() for word in str(x).split()))\n",
    "# remove punctuation\n",
    "df['text'] = df['text'].str.replace('[^a-z ]', '')\n",
    "df['text'] = df['text'].str.replace(r\"\\s\\s+\",' ') # this replaces two or more white spcaes with just one\n",
    "# remove stop words\n",
    "df['text'] = df['text'].apply(lambda x: \" \".join(word for word in x.split() if word not in stop_words))\n",
    "# lemmatize\n",
    "df['text'] = df['text'].apply(lambda x: \" \".join(Word(word).lemmatize() for word in x.split()))"
   ]
  },
  {
   "cell_type": "code",
   "execution_count": 4,
   "id": "986046d4",
   "metadata": {
    "ExecuteTime": {
     "end_time": "2022-06-15T12:49:57.069631Z",
     "start_time": "2022-06-15T12:49:57.047001Z"
    }
   },
   "outputs": [
    {
     "data": {
      "text/html": [
       "<div>\n",
       "<style scoped>\n",
       "    .dataframe tbody tr th:only-of-type {\n",
       "        vertical-align: middle;\n",
       "    }\n",
       "\n",
       "    .dataframe tbody tr th {\n",
       "        vertical-align: top;\n",
       "    }\n",
       "\n",
       "    .dataframe thead th {\n",
       "        text-align: right;\n",
       "    }\n",
       "</style>\n",
       "<table border=\"1\" class=\"dataframe\">\n",
       "  <thead>\n",
       "    <tr style=\"text-align: right;\">\n",
       "      <th></th>\n",
       "      <th>date</th>\n",
       "      <th>title</th>\n",
       "      <th>subtitle</th>\n",
       "      <th>claps</th>\n",
       "      <th>responses</th>\n",
       "      <th>author_handle</th>\n",
       "      <th>story_url</th>\n",
       "      <th>reading_time</th>\n",
       "      <th>text</th>\n",
       "      <th>author_followers</th>\n",
       "      <th>publication</th>\n",
       "      <th>number_of_words</th>\n",
       "      <th>number_of_characters</th>\n",
       "      <th>day_of_the_week</th>\n",
       "      <th>month</th>\n",
       "    </tr>\n",
       "  </thead>\n",
       "  <tbody>\n",
       "    <tr>\n",
       "      <th>0</th>\n",
       "      <td>01/01/2020</td>\n",
       "      <td>Making Python Programs Blazingly Fast</td>\n",
       "      <td>Let’s look at the performance of our Python pr...</td>\n",
       "      <td>3400.0</td>\n",
       "      <td>3</td>\n",
       "      <td>@martin.heinz</td>\n",
       "      <td>https://towardsdatascience.com/making-python-p...</td>\n",
       "      <td>5</td>\n",
       "      <td>making python program blazingly fast let look ...</td>\n",
       "      <td>3800.0</td>\n",
       "      <td>towardsdatascience</td>\n",
       "      <td>1056</td>\n",
       "      <td>6175</td>\n",
       "      <td>2</td>\n",
       "      <td>1</td>\n",
       "    </tr>\n",
       "    <tr>\n",
       "      <th>1</th>\n",
       "      <td>01/01/2020</td>\n",
       "      <td>Implementing a fully convolutional network (FC...</td>\n",
       "      <td>A tutorial on building, training and…</td>\n",
       "      <td>543.0</td>\n",
       "      <td>4</td>\n",
       "      <td>@himanshurawlani</td>\n",
       "      <td>https://towardsdatascience.com/implementing-a-...</td>\n",
       "      <td>11</td>\n",
       "      <td>understanding implementing fully convolutional...</td>\n",
       "      <td>331.0</td>\n",
       "      <td>towardsdatascience</td>\n",
       "      <td>2527</td>\n",
       "      <td>15729</td>\n",
       "      <td>2</td>\n",
       "      <td>1</td>\n",
       "    </tr>\n",
       "    <tr>\n",
       "      <th>2</th>\n",
       "      <td>01/01/2020</td>\n",
       "      <td>6 New Features in Python 3.8 for Python Newbies</td>\n",
       "      <td>Python Beginner</td>\n",
       "      <td>1800.0</td>\n",
       "      <td>4</td>\n",
       "      <td>@edenau</td>\n",
       "      <td>https://towardsdatascience.com/6-new-features-...</td>\n",
       "      <td>4</td>\n",
       "      <td>python beginner new feature python python newb...</td>\n",
       "      <td>1700.0</td>\n",
       "      <td>towardsdatascience</td>\n",
       "      <td>712</td>\n",
       "      <td>4174</td>\n",
       "      <td>2</td>\n",
       "      <td>1</td>\n",
       "    </tr>\n",
       "    <tr>\n",
       "      <th>3</th>\n",
       "      <td>01/01/2020</td>\n",
       "      <td>How to be fancy with Python</td>\n",
       "      <td>Python tricks that will make your life easier</td>\n",
       "      <td>1700.0</td>\n",
       "      <td>12</td>\n",
       "      <td>@dipam44</td>\n",
       "      <td>https://towardsdatascience.com/how-to-be-fancy...</td>\n",
       "      <td>5</td>\n",
       "      <td>fancy python python cool really cool however l...</td>\n",
       "      <td>625.0</td>\n",
       "      <td>towardsdatascience</td>\n",
       "      <td>607</td>\n",
       "      <td>3328</td>\n",
       "      <td>2</td>\n",
       "      <td>1</td>\n",
       "    </tr>\n",
       "    <tr>\n",
       "      <th>4</th>\n",
       "      <td>01/01/2020</td>\n",
       "      <td>From scratch to search: playing with your data...</td>\n",
       "      <td>One Pipeline to rule…</td>\n",
       "      <td>239.0</td>\n",
       "      <td>1</td>\n",
       "      <td>@stanislavprihoda</td>\n",
       "      <td>https://towardsdatascience.com/from-scratch-to...</td>\n",
       "      <td>9</td>\n",
       "      <td>scratch search playing data elasticsearch inge...</td>\n",
       "      <td>88.0</td>\n",
       "      <td>towardsdatascience</td>\n",
       "      <td>2158</td>\n",
       "      <td>14087</td>\n",
       "      <td>2</td>\n",
       "      <td>1</td>\n",
       "    </tr>\n",
       "  </tbody>\n",
       "</table>\n",
       "</div>"
      ],
      "text/plain": [
       "         date                                              title  \\\n",
       "0  01/01/2020              Making Python Programs Blazingly Fast   \n",
       "1  01/01/2020  Implementing a fully convolutional network (FC...   \n",
       "2  01/01/2020    6 New Features in Python 3.8 for Python Newbies   \n",
       "3  01/01/2020                        How to be fancy with Python   \n",
       "4  01/01/2020  From scratch to search: playing with your data...   \n",
       "\n",
       "                                            subtitle   claps  responses  \\\n",
       "0  Let’s look at the performance of our Python pr...  3400.0          3   \n",
       "1              A tutorial on building, training and…   543.0          4   \n",
       "2                                    Python Beginner  1800.0          4   \n",
       "3      Python tricks that will make your life easier  1700.0         12   \n",
       "4                              One Pipeline to rule…   239.0          1   \n",
       "\n",
       "       author_handle                                          story_url  \\\n",
       "0      @martin.heinz  https://towardsdatascience.com/making-python-p...   \n",
       "1   @himanshurawlani  https://towardsdatascience.com/implementing-a-...   \n",
       "2            @edenau  https://towardsdatascience.com/6-new-features-...   \n",
       "3           @dipam44  https://towardsdatascience.com/how-to-be-fancy...   \n",
       "4  @stanislavprihoda  https://towardsdatascience.com/from-scratch-to...   \n",
       "\n",
       "   reading_time                                               text  \\\n",
       "0             5  making python program blazingly fast let look ...   \n",
       "1            11  understanding implementing fully convolutional...   \n",
       "2             4  python beginner new feature python python newb...   \n",
       "3             5  fancy python python cool really cool however l...   \n",
       "4             9  scratch search playing data elasticsearch inge...   \n",
       "\n",
       "   author_followers         publication  number_of_words  \\\n",
       "0            3800.0  towardsdatascience             1056   \n",
       "1             331.0  towardsdatascience             2527   \n",
       "2            1700.0  towardsdatascience              712   \n",
       "3             625.0  towardsdatascience              607   \n",
       "4              88.0  towardsdatascience             2158   \n",
       "\n",
       "   number_of_characters  day_of_the_week  month  \n",
       "0                  6175                2      1  \n",
       "1                 15729                2      1  \n",
       "2                  4174                2      1  \n",
       "3                  3328                2      1  \n",
       "4                 14087                2      1  "
      ]
     },
     "execution_count": 4,
     "metadata": {},
     "output_type": "execute_result"
    }
   ],
   "source": [
    "df.head()"
   ]
  },
  {
   "cell_type": "markdown",
   "id": "fbdf2521",
   "metadata": {},
   "source": [
    "### TF-IDf"
   ]
  },
  {
   "cell_type": "code",
   "execution_count": 5,
   "id": "3a527ec5",
   "metadata": {
    "ExecuteTime": {
     "end_time": "2022-06-15T12:49:57.073070Z",
     "start_time": "2022-06-15T12:49:57.071444Z"
    }
   },
   "outputs": [],
   "source": [
    "# create a tf-idf vectorizer object\n",
    "tfidf = TfidfVectorizer(max_features=60000)"
   ]
  },
  {
   "cell_type": "code",
   "execution_count": 6,
   "id": "94384de7",
   "metadata": {
    "ExecuteTime": {
     "end_time": "2022-06-15T12:50:25.949736Z",
     "start_time": "2022-06-15T12:49:57.074034Z"
    }
   },
   "outputs": [],
   "source": [
    "X = tfidf.fit_transform(df['text'])"
   ]
  },
  {
   "cell_type": "markdown",
   "id": "772c868e",
   "metadata": {},
   "source": [
    "#### Reversing index order\n",
    "\n",
    "Reversing order of index and film so that when we search for a title we get the corresponding index this will be used later to obtain the article recommendations."
   ]
  },
  {
   "cell_type": "code",
   "execution_count": 7,
   "id": "3d05ea97",
   "metadata": {
    "ExecuteTime": {
     "end_time": "2022-06-15T12:50:25.966392Z",
     "start_time": "2022-06-15T12:50:25.950720Z"
    }
   },
   "outputs": [
    {
     "data": {
      "text/plain": [
       "title\n",
       "Making Python Programs Blazingly Fast                                                  0\n",
       "Implementing a fully convolutional network (FCN) in TensorFlow 2                       1\n",
       "6 New Features in Python 3.8 for Python Newbies                                        2\n",
       "How to be fancy with Python                                                            3\n",
       "From scratch to search: playing with your data (Elasticsearch Ingest Pipelines)        4\n",
       "                                                                                   ...  \n",
       "The way ahead                                                                      69195\n",
       "The most beautiful theory of all                                                   69196\n",
       "Why people get happier as they get older                                           69197\n",
       "Is The Economist left- or right-wing?                                              69198\n",
       "How the internet unleashed a burst of cartooning creativity                        69199\n",
       "Length: 69200, dtype: int64"
      ]
     },
     "execution_count": 7,
     "metadata": {},
     "output_type": "execute_result"
    }
   ],
   "source": [
    "title2idx = pd.Series(df.index, index=df['title'])\n",
    "title2idx"
   ]
  },
  {
   "cell_type": "code",
   "execution_count": 8,
   "id": "c9488601",
   "metadata": {
    "ExecuteTime": {
     "end_time": "2022-06-15T12:50:25.970250Z",
     "start_time": "2022-06-15T12:50:25.967313Z"
    }
   },
   "outputs": [
    {
     "data": {
      "text/plain": [
       "'Why people get happier as they get\\xa0older'"
      ]
     },
     "execution_count": 8,
     "metadata": {},
     "output_type": "execute_result"
    }
   ],
   "source": [
    "df['title'].iloc[69197]"
   ]
  },
  {
   "cell_type": "code",
   "execution_count": 9,
   "id": "eea63589",
   "metadata": {
    "ExecuteTime": {
     "end_time": "2022-06-15T12:50:25.975678Z",
     "start_time": "2022-06-15T12:50:25.971315Z"
    }
   },
   "outputs": [
    {
     "data": {
      "text/plain": [
       "69197"
      ]
     },
     "execution_count": 9,
     "metadata": {},
     "output_type": "execute_result"
    }
   ],
   "source": [
    "idx = title2idx['Why people get happier as they get\\xa0older']\n",
    "idx"
   ]
  },
  {
   "cell_type": "markdown",
   "id": "59439931",
   "metadata": {},
   "source": [
    "Below represents one row of the sparse matrix with 600000 columns as that was the established word limit."
   ]
  },
  {
   "cell_type": "code",
   "execution_count": 10,
   "id": "5371beae",
   "metadata": {
    "ExecuteTime": {
     "end_time": "2022-06-15T12:50:25.979670Z",
     "start_time": "2022-06-15T12:50:25.976598Z"
    }
   },
   "outputs": [
    {
     "data": {
      "text/plain": [
       "<1x60000 sparse matrix of type '<class 'numpy.float64'>'\n",
       "\twith 686 stored elements in Compressed Sparse Row format>"
      ]
     },
     "execution_count": 10,
     "metadata": {},
     "output_type": "execute_result"
    }
   ],
   "source": [
    "query = X[idx]\n",
    "query"
   ]
  },
  {
   "cell_type": "markdown",
   "id": "3186f4bd",
   "metadata": {},
   "source": [
    "#### Compare cosine similarity with the query vector and every vector in X, including the vector itself"
   ]
  },
  {
   "cell_type": "code",
   "execution_count": 11,
   "id": "376abc57",
   "metadata": {
    "ExecuteTime": {
     "end_time": "2022-06-15T12:50:26.483949Z",
     "start_time": "2022-06-15T12:50:25.980653Z"
    }
   },
   "outputs": [
    {
     "name": "stdout",
     "output_type": "stream",
     "text": [
      "(1, 69200)\n",
      "[[0.05378748 0.02409477 0.03498535 ... 1.         0.11315619 0.05615479]]\n"
     ]
    }
   ],
   "source": [
    "scores = cosine_similarity(query, X)\n",
    "print(scores.shape)\n",
    "print(scores)"
   ]
  },
  {
   "cell_type": "markdown",
   "id": "6a2f92ff",
   "metadata": {},
   "source": [
    "Flatten scoers to get a 1d array"
   ]
  },
  {
   "cell_type": "code",
   "execution_count": 12,
   "id": "7b6e158a",
   "metadata": {
    "ExecuteTime": {
     "end_time": "2022-06-15T12:50:26.487301Z",
     "start_time": "2022-06-15T12:50:26.485206Z"
    }
   },
   "outputs": [
    {
     "name": "stdout",
     "output_type": "stream",
     "text": [
      "(69200,)\n"
     ]
    }
   ],
   "source": [
    "scores = scores.flatten()\n",
    "print(scores.shape)"
   ]
  },
  {
   "cell_type": "markdown",
   "id": "307280d2",
   "metadata": {},
   "source": [
    "#### Plot of cosine similarity with vector chosen"
   ]
  },
  {
   "cell_type": "code",
   "execution_count": 13,
   "id": "d340d107",
   "metadata": {
    "ExecuteTime": {
     "end_time": "2022-06-15T12:50:26.632816Z",
     "start_time": "2022-06-15T12:50:26.488190Z"
    },
    "scrolled": true
   },
   "outputs": [
    {
     "data": {
      "image/png": "[encoded data removed]",
      "text/plain": [
       "<Figure size 1296x432 with 1 Axes>"
      ]
     },
     "metadata": {
      "needs_background": "light"
     },
     "output_type": "display_data"
    }
   ],
   "source": [
    "plt.figure(figsize=(18,6))\n",
    "plt.plot(scores);"
   ]
  },
  {
   "cell_type": "markdown",
   "id": "458bf0d0",
   "metadata": {},
   "source": [
    "Very noisy with one big spike, which is the vector itself"
   ]
  },
  {
   "cell_type": "markdown",
   "id": "861a389d",
   "metadata": {},
   "source": [
    "We want to sort the movies but not by the score itself, argsort tells us which order the movies go in, if we sorted by the scores. ie below we have the indexes sorted by order of similarity to our query"
   ]
  },
  {
   "cell_type": "code",
   "execution_count": 73,
   "id": "491083b8",
   "metadata": {
    "ExecuteTime": {
     "end_time": "2022-06-10T06:49:04.894835Z",
     "start_time": "2022-06-10T06:49:04.874798Z"
    }
   },
   "outputs": [
    {
     "data": {
      "text/plain": [
       "array([69197, 31009, 38993, ..., 63848,  3067, 35382])"
      ]
     },
     "execution_count": 73,
     "metadata": {},
     "output_type": "execute_result"
    }
   ],
   "source": [
    "(-scores).argsort()"
   ]
  },
  {
   "cell_type": "code",
   "execution_count": 74,
   "id": "81d1ec02",
   "metadata": {
    "ExecuteTime": {
     "end_time": "2022-06-10T06:49:06.643971Z",
     "start_time": "2022-06-10T06:49:06.545490Z"
    }
   },
   "outputs": [
    {
     "data": {
      "image/png": "[encoded data removed]",
      "text/plain": [
       "<Figure size 432x288 with 1 Axes>"
      ]
     },
     "metadata": {
      "needs_background": "light"
     },
     "output_type": "display_data"
    }
   ],
   "source": [
    "plt.plot(scores[(-scores).argsort()]);"
   ]
  },
  {
   "cell_type": "markdown",
   "id": "d7f6b827",
   "metadata": {},
   "source": [
    "#### Now we just get the top indexes excluding the first one"
   ]
  },
  {
   "cell_type": "code",
   "execution_count": 75,
   "id": "c1e985b2",
   "metadata": {
    "ExecuteTime": {
     "end_time": "2022-06-10T06:49:08.087163Z",
     "start_time": "2022-06-10T06:49:08.064970Z"
    }
   },
   "outputs": [
    {
     "data": {
      "text/plain": [
       "array([31009, 38993, 52590,  2232, 13017])"
      ]
     },
     "execution_count": 75,
     "metadata": {},
     "output_type": "execute_result"
    }
   ],
   "source": [
    "# get top 5 matches\n",
    "# exclude self (similarity between query and itself yields max score)\n",
    "recommended_idx = (-scores).argsort()[1:6]\n",
    "recommended_idx"
   ]
  },
  {
   "cell_type": "markdown",
   "id": "9301ce2a",
   "metadata": {},
   "source": [
    "Now using the reversed dataframe we created above, we can match with iloc to obtain the index"
   ]
  },
  {
   "cell_type": "code",
   "execution_count": 76,
   "id": "d979ab46",
   "metadata": {
    "ExecuteTime": {
     "end_time": "2022-06-10T06:49:09.245601Z",
     "start_time": "2022-06-10T06:49:09.233344Z"
    }
   },
   "outputs": [
    {
     "data": {
      "text/plain": [
       "<1x60000 sparse matrix of type '<class 'numpy.float64'>'\n",
       "\twith 686 stored elements in Compressed Sparse Row format>"
      ]
     },
     "execution_count": 76,
     "metadata": {},
     "output_type": "execute_result"
    }
   ],
   "source": [
    "query"
   ]
  },
  {
   "cell_type": "code",
   "execution_count": 77,
   "id": "c201406f",
   "metadata": {
    "ExecuteTime": {
     "end_time": "2022-06-10T06:49:10.228234Z",
     "start_time": "2022-06-10T06:49:10.216808Z"
    }
   },
   "outputs": [
    {
     "data": {
      "text/plain": [
       "'Why people get happier as they get\\xa0older'"
      ]
     },
     "execution_count": 77,
     "metadata": {},
     "output_type": "execute_result"
    }
   ],
   "source": [
    "df.title.iloc[69197]"
   ]
  },
  {
   "cell_type": "markdown",
   "id": "7602f388",
   "metadata": {},
   "source": [
    "#### First test"
   ]
  },
  {
   "cell_type": "code",
   "execution_count": 78,
   "id": "46148940",
   "metadata": {
    "ExecuteTime": {
     "end_time": "2022-06-10T06:49:10.651603Z",
     "start_time": "2022-06-10T06:49:10.648274Z"
    }
   },
   "outputs": [
    {
     "data": {
      "text/plain": [
       "31009    Surprising Ways to Become Happier, Backed by R...\n",
       "38993    Understanding Happiness Dynamics with Data (Pa...\n",
       "52590               Money Can’t Buy Happiness — Or Can It?\n",
       "2232                                            Data Happy\n",
       "13017                             The Pursuit of Happiness\n",
       "Name: title, dtype: object"
      ]
     },
     "execution_count": 78,
     "metadata": {},
     "output_type": "execute_result"
    }
   ],
   "source": [
    "# convert indices back to titles\n",
    "df['title'].iloc[recommended_idx]"
   ]
  },
  {
   "cell_type": "markdown",
   "id": "54520878",
   "metadata": {},
   "source": [
    "### Function"
   ]
  },
  {
   "cell_type": "code",
   "execution_count": 79,
   "id": "5cd44639",
   "metadata": {
    "ExecuteTime": {
     "end_time": "2022-06-10T06:49:18.668756Z",
     "start_time": "2022-06-10T06:49:18.656501Z"
    }
   },
   "outputs": [],
   "source": [
    "# create a function that generates recommendations\n",
    "def recommend(title):\n",
    "  # get the row in the dataframe for this movie\n",
    "    idx = title2idx[title]\n",
    "    if type(idx) == pd.Series:\n",
    "        idx = idx.iloc[0]\n",
    "\n",
    "  # calculate the pairwise similarities for this movie\n",
    "    query = X[idx]\n",
    "    scores = cosine_similarity(query, X)\n",
    "\n",
    "  # currently the array is 1 x N, make it just a 1-D array\n",
    "    scores = scores.flatten()\n",
    "\n",
    "  # get the indexes of the highest scoring movies\n",
    "  # get the first K recommendations\n",
    "  # don't return itself!\n",
    "    recommended_idx = (-scores).argsort()[1:6]\n",
    "\n",
    "  # return the titles of the recommendations\n",
    "    return df['title'].iloc[recommended_idx]"
   ]
  },
  {
   "cell_type": "code",
   "execution_count": 80,
   "id": "db4c1c5d",
   "metadata": {
    "ExecuteTime": {
     "end_time": "2022-06-10T06:49:20.163117Z",
     "start_time": "2022-06-10T06:49:20.144683Z"
    }
   },
   "outputs": [
    {
     "data": {
      "text/plain": [
       "array(['towardsdatascience', 'swlh', 'writingcooperative',\n",
       "       'datadriveninvestor', 'uxdesign', 'the-mission', 'personal-growth',\n",
       "       'startup-grind', 'uxplanet', 'better-humans', 'better-marketing'],\n",
       "      dtype=object)"
      ]
     },
     "execution_count": 80,
     "metadata": {},
     "output_type": "execute_result"
    }
   ],
   "source": [
    "df.publication.unique()"
   ]
  },
  {
   "cell_type": "code",
   "execution_count": 81,
   "id": "ce8dca0d",
   "metadata": {
    "ExecuteTime": {
     "end_time": "2022-06-10T06:49:20.712791Z",
     "start_time": "2022-06-10T06:49:20.693420Z"
    }
   },
   "outputs": [
    {
     "data": {
      "text/html": [
       "<div>\n",
       "<style scoped>\n",
       "    .dataframe tbody tr th:only-of-type {\n",
       "        vertical-align: middle;\n",
       "    }\n",
       "\n",
       "    .dataframe tbody tr th {\n",
       "        vertical-align: top;\n",
       "    }\n",
       "\n",
       "    .dataframe thead th {\n",
       "        text-align: right;\n",
       "    }\n",
       "</style>\n",
       "<table border=\"1\" class=\"dataframe\">\n",
       "  <thead>\n",
       "    <tr style=\"text-align: right;\">\n",
       "      <th></th>\n",
       "      <th>date</th>\n",
       "      <th>title</th>\n",
       "      <th>subtitle</th>\n",
       "      <th>claps</th>\n",
       "      <th>responses</th>\n",
       "      <th>author_handle</th>\n",
       "      <th>story_url</th>\n",
       "      <th>reading_time</th>\n",
       "      <th>text</th>\n",
       "      <th>author_followers</th>\n",
       "      <th>publication</th>\n",
       "      <th>number_of_words</th>\n",
       "      <th>number_of_characters</th>\n",
       "      <th>day_of_the_week</th>\n",
       "      <th>month</th>\n",
       "    </tr>\n",
       "  </thead>\n",
       "  <tbody>\n",
       "    <tr>\n",
       "      <th>24418</th>\n",
       "      <td>01/01/2019</td>\n",
       "      <td>How I Use Online Games to Skyrocket My Remote ...</td>\n",
       "      <td>What I discovered after 7 months of…</td>\n",
       "      <td>1600.0</td>\n",
       "      <td>8</td>\n",
       "      <td>@hoyinc</td>\n",
       "      <td>https://medium.com/startup-grind/how-i-use-onl...</td>\n",
       "      <td>13</td>\n",
       "      <td>note none link affiliate link check based expe...</td>\n",
       "      <td>62.0</td>\n",
       "      <td>startup-grind</td>\n",
       "      <td>2608</td>\n",
       "      <td>15291</td>\n",
       "      <td>1</td>\n",
       "      <td>1</td>\n",
       "    </tr>\n",
       "    <tr>\n",
       "      <th>24419</th>\n",
       "      <td>01/01/2019</td>\n",
       "      <td>These 6 Signs Indicate Your Startup Is Destine...</td>\n",
       "      <td>Be honest with yourself: How do…</td>\n",
       "      <td>902.0</td>\n",
       "      <td>6</td>\n",
       "      <td>@NateRez</td>\n",
       "      <td>https://medium.com/startup-grind/these-6-signs...</td>\n",
       "      <td>4</td>\n",
       "      <td>sign indicate startup destined booming success...</td>\n",
       "      <td>1000.0</td>\n",
       "      <td>startup-grind</td>\n",
       "      <td>979</td>\n",
       "      <td>5670</td>\n",
       "      <td>1</td>\n",
       "      <td>1</td>\n",
       "    </tr>\n",
       "    <tr>\n",
       "      <th>24420</th>\n",
       "      <td>01/01/2019</td>\n",
       "      <td>The Big Bang Theory of Startup India</td>\n",
       "      <td>-</td>\n",
       "      <td>25.0</td>\n",
       "      <td>1</td>\n",
       "      <td>@shubhamhackz</td>\n",
       "      <td>https://medium.com/startup-grind/https-medium-...</td>\n",
       "      <td>7</td>\n",
       "      <td>big bang theory startup india india becoming s...</td>\n",
       "      <td>384.0</td>\n",
       "      <td>startup-grind</td>\n",
       "      <td>1462</td>\n",
       "      <td>8364</td>\n",
       "      <td>1</td>\n",
       "      <td>1</td>\n",
       "    </tr>\n",
       "    <tr>\n",
       "      <th>24421</th>\n",
       "      <td>01/01/2019</td>\n",
       "      <td>Sneak Peek of #SGGlobal 2019: Announcing the F...</td>\n",
       "      <td>Happy New Year! The…</td>\n",
       "      <td>165.0</td>\n",
       "      <td>1</td>\n",
       "      <td>@startupgrind</td>\n",
       "      <td>https://medium.com/startup-grind/sneak-peek-of...</td>\n",
       "      <td>3</td>\n",
       "      <td>sneak peek sgglobal announcing first round exh...</td>\n",
       "      <td>61000.0</td>\n",
       "      <td>startup-grind</td>\n",
       "      <td>407</td>\n",
       "      <td>2527</td>\n",
       "      <td>1</td>\n",
       "      <td>1</td>\n",
       "    </tr>\n",
       "    <tr>\n",
       "      <th>24422</th>\n",
       "      <td>01/01/2019</td>\n",
       "      <td>#SGGlobal 2019 Startup Program: Announcing Our...</td>\n",
       "      <td>We’re nearing the…</td>\n",
       "      <td>59.0</td>\n",
       "      <td>0</td>\n",
       "      <td>@startupgrind</td>\n",
       "      <td>https://medium.com/startup-grind/sgglobal-2019...</td>\n",
       "      <td>3</td>\n",
       "      <td>sgglobal startup program announcing full list ...</td>\n",
       "      <td>61000.0</td>\n",
       "      <td>startup-grind</td>\n",
       "      <td>445</td>\n",
       "      <td>2757</td>\n",
       "      <td>1</td>\n",
       "      <td>1</td>\n",
       "    </tr>\n",
       "  </tbody>\n",
       "</table>\n",
       "</div>"
      ],
      "text/plain": [
       "             date                                              title  \\\n",
       "24418  01/01/2019  How I Use Online Games to Skyrocket My Remote ...   \n",
       "24419  01/01/2019  These 6 Signs Indicate Your Startup Is Destine...   \n",
       "24420  01/01/2019               The Big Bang Theory of Startup India   \n",
       "24421  01/01/2019  Sneak Peek of #SGGlobal 2019: Announcing the F...   \n",
       "24422  01/01/2019  #SGGlobal 2019 Startup Program: Announcing Our...   \n",
       "\n",
       "                                   subtitle   claps  responses  author_handle  \\\n",
       "24418  What I discovered after 7 months of…  1600.0          8        @hoyinc   \n",
       "24419      Be honest with yourself: How do…   902.0          6       @NateRez   \n",
       "24420                                     -    25.0          1  @shubhamhackz   \n",
       "24421                  Happy New Year! The…   165.0          1  @startupgrind   \n",
       "24422                    We’re nearing the…    59.0          0  @startupgrind   \n",
       "\n",
       "                                               story_url  reading_time  \\\n",
       "24418  https://medium.com/startup-grind/how-i-use-onl...            13   \n",
       "24419  https://medium.com/startup-grind/these-6-signs...             4   \n",
       "24420  https://medium.com/startup-grind/https-medium-...             7   \n",
       "24421  https://medium.com/startup-grind/sneak-peek-of...             3   \n",
       "24422  https://medium.com/startup-grind/sgglobal-2019...             3   \n",
       "\n",
       "                                                    text  author_followers  \\\n",
       "24418  note none link affiliate link check based expe...              62.0   \n",
       "24419  sign indicate startup destined booming success...            1000.0   \n",
       "24420  big bang theory startup india india becoming s...             384.0   \n",
       "24421  sneak peek sgglobal announcing first round exh...           61000.0   \n",
       "24422  sgglobal startup program announcing full list ...           61000.0   \n",
       "\n",
       "         publication  number_of_words  number_of_characters  day_of_the_week  \\\n",
       "24418  startup-grind             2608                 15291                1   \n",
       "24419  startup-grind              979                  5670                1   \n",
       "24420  startup-grind             1462                  8364                1   \n",
       "24421  startup-grind              407                  2527                1   \n",
       "24422  startup-grind              445                  2757                1   \n",
       "\n",
       "       month  \n",
       "24418      1  \n",
       "24419      1  \n",
       "24420      1  \n",
       "24421      1  \n",
       "24422      1  "
      ]
     },
     "execution_count": 81,
     "metadata": {},
     "output_type": "execute_result"
    }
   ],
   "source": [
    "df[df.publication == 'startup-grind'].head()"
   ]
  },
  {
   "cell_type": "code",
   "execution_count": 82,
   "id": "806381da",
   "metadata": {
    "ExecuteTime": {
     "end_time": "2022-06-10T06:49:22.164441Z",
     "start_time": "2022-06-10T06:49:22.151626Z"
    }
   },
   "outputs": [
    {
     "data": {
      "text/plain": [
       "'How I Use Online Games to Skyrocket My Remote Team’s Productivity'"
      ]
     },
     "execution_count": 82,
     "metadata": {},
     "output_type": "execute_result"
    }
   ],
   "source": [
    "df['title'].iloc[24418]"
   ]
  },
  {
   "cell_type": "code",
   "execution_count": 83,
   "id": "d27e078b",
   "metadata": {
    "ExecuteTime": {
     "end_time": "2022-06-10T06:49:23.043448Z",
     "start_time": "2022-06-10T06:49:22.670133Z"
    }
   },
   "outputs": [
    {
     "data": {
      "text/plain": [
       "61961               Why Team Players Make the Best Leaders\n",
       "34934             Can we add fun to teams through ‘games’?\n",
       "47196          Five steps to effectively set up a new team\n",
       "62789    The Unconventional Creator Economy for Games H...\n",
       "755      How to Improve Sports Betting Odds — Step by S...\n",
       "Name: title, dtype: object"
      ]
     },
     "execution_count": 83,
     "metadata": {},
     "output_type": "execute_result"
    }
   ],
   "source": [
    "recommend(df['title'].iloc[24418])"
   ]
  },
  {
   "cell_type": "code",
   "execution_count": null,
   "id": "7887ab64",
   "metadata": {},
   "outputs": [],
   "source": []
  }
 ],
 "metadata": {
  "kernelspec": {
   "display_name": "Python 3 (ipykernel)",
   "language": "python",
   "name": "python3"
  },
  "language_info": {
   "codemirror_mode": {
    "name": "ipython",
    "version": 3
   },
   "file_extension": ".py",
   "mimetype": "text/x-python",
   "name": "python",
   "nbconvert_exporter": "python",
   "pygments_lexer": "ipython3",
   "version": "3.9.7"
  },
  "toc": {
   "base_numbering": 1,
   "nav_menu": {},
   "number_sections": true,
   "sideBar": true,
   "skip_h1_title": false,
   "title_cell": "Table of Contents",
   "title_sidebar": "Contents",
   "toc_cell": false,
   "toc_position": {
    "height": "calc(100% - 180px)",
    "left": "10px",
    "top": "150px",
    "width": "454.091px"
   },
   "toc_section_display": true,
   "toc_window_display": true
  },
  "varInspector": {
   "cols": {
    "lenName": 16,
    "lenType": 16,
    "lenVar": 40
   },
   "kernels_config": {
    "python": {
     "delete_cmd_postfix": "",
     "delete_cmd_prefix": "del ",
     "library": "var_list.py",
     "varRefreshCmd": "print(var_dic_list())"
    },
    "r": {
     "delete_cmd_postfix": ") ",
     "delete_cmd_prefix": "rm(",
     "library": "var_list.r",
     "varRefreshCmd": "cat(var_dic_list()) "
    }
   },
   "types_to_exclude": [
    "module",
    "function",
    "builtin_function_or_method",
    "instance",
    "_Feature"
   ],
   "window_display": false
  }
 },
 "nbformat": 4,
 "nbformat_minor": 5
}
