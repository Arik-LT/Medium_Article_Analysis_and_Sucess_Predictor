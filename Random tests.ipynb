{
 "cells": [
  {
   "cell_type": "code",
   "execution_count": 2,
   "id": "5a14673f",
   "metadata": {
    "ExecuteTime": {
     "end_time": "2022-06-14T06:59:51.275744Z",
     "start_time": "2022-06-14T06:59:48.625504Z"
    }
   },
   "outputs": [],
   "source": [
    "import pandas as pd\n",
    "import numpy as np\n",
    "import re\n",
    "\n",
    "from textblob import TextBlob, Word\n",
    "\n",
    "import matplotlib.pyplot as plt\n",
    "import seaborn as sns\n",
    "import plotly.express as px\n",
    "import nltk"
   ]
  },
  {
   "cell_type": "code",
   "execution_count": 3,
   "id": "5e248e30",
   "metadata": {
    "ExecuteTime": {
     "end_time": "2022-06-14T07:00:01.304570Z",
     "start_time": "2022-06-14T06:59:51.281638Z"
    }
   },
   "outputs": [],
   "source": [
    "df = pd.read_csv('raw_full_dataset.csv')"
   ]
  },
  {
   "cell_type": "code",
   "execution_count": 8,
   "id": "cab45d17",
   "metadata": {
    "ExecuteTime": {
     "end_time": "2022-06-11T16:14:46.451641Z",
     "start_time": "2022-06-11T16:14:45.788153Z"
    }
   },
   "outputs": [],
   "source": [
    "df.drop_duplicates(subset=['story_url'], inplace=True)\n",
    "df.drop_duplicates(subset=['title'], inplace=True)\n",
    "df = df[df.story_url != '-']\n",
    "df = df[df.author_followers != '-']\n",
    "\n",
    "df.reset_index(inplace=True, drop=True)"
   ]
  },
  {
   "cell_type": "code",
   "execution_count": 5,
   "id": "fc7156f4",
   "metadata": {
    "ExecuteTime": {
     "end_time": "2022-06-14T07:00:29.491528Z",
     "start_time": "2022-06-14T07:00:29.481714Z"
    }
   },
   "outputs": [
    {
     "data": {
      "text/html": [
       "<div>\n",
       "<style scoped>\n",
       "    .dataframe tbody tr th:only-of-type {\n",
       "        vertical-align: middle;\n",
       "    }\n",
       "\n",
       "    .dataframe tbody tr th {\n",
       "        vertical-align: top;\n",
       "    }\n",
       "\n",
       "    .dataframe thead th {\n",
       "        text-align: right;\n",
       "    }\n",
       "</style>\n",
       "<table border=\"1\" class=\"dataframe\">\n",
       "  <thead>\n",
       "    <tr style=\"text-align: right;\">\n",
       "      <th></th>\n",
       "      <th>date</th>\n",
       "      <th>title</th>\n",
       "      <th>subtitle</th>\n",
       "      <th>claps</th>\n",
       "      <th>responses</th>\n",
       "      <th>author_handle</th>\n",
       "      <th>story_url</th>\n",
       "      <th>reading_time</th>\n",
       "      <th>text</th>\n",
       "      <th>author_followers</th>\n",
       "      <th>publication</th>\n",
       "    </tr>\n",
       "  </thead>\n",
       "  <tbody>\n",
       "    <tr>\n",
       "      <th>0</th>\n",
       "      <td>01/01/2020</td>\n",
       "      <td>Making Python Programs Blazingly Fast</td>\n",
       "      <td>Let’s look at the performance of our Python pr...</td>\n",
       "      <td>3.4K</td>\n",
       "      <td>3</td>\n",
       "      <td>https://towardsdatascience.com/@martin.heinz</td>\n",
       "      <td>https://towardsdatascience.com/making-python-p...</td>\n",
       "      <td>5</td>\n",
       "      <td>Making Python Programs Blazingly Fast\\n\\nLet’s...</td>\n",
       "      <td>3.8K</td>\n",
       "      <td>NaN</td>\n",
       "    </tr>\n",
       "    <tr>\n",
       "      <th>1</th>\n",
       "      <td>01/01/2020</td>\n",
       "      <td>Implementing a fully convolutional network (FC...</td>\n",
       "      <td>A tutorial on building, training and…</td>\n",
       "      <td>543</td>\n",
       "      <td>4</td>\n",
       "      <td>https://towardsdatascience.com/@himanshurawlani</td>\n",
       "      <td>https://towardsdatascience.com/implementing-a-...</td>\n",
       "      <td>11</td>\n",
       "      <td>Understanding and implementing a fully convolu...</td>\n",
       "      <td>331</td>\n",
       "      <td>NaN</td>\n",
       "    </tr>\n",
       "    <tr>\n",
       "      <th>2</th>\n",
       "      <td>01/01/2020</td>\n",
       "      <td>6 New Features in Python 3.8 for Python Newbies</td>\n",
       "      <td>Python Beginner</td>\n",
       "      <td>1.8K</td>\n",
       "      <td>4</td>\n",
       "      <td>https://towardsdatascience.com/@edenau</td>\n",
       "      <td>https://towardsdatascience.com/6-new-features-...</td>\n",
       "      <td>4</td>\n",
       "      <td>Python Beginner 6 New Features in Python 3.8 f...</td>\n",
       "      <td>1.7K</td>\n",
       "      <td>NaN</td>\n",
       "    </tr>\n",
       "    <tr>\n",
       "      <th>3</th>\n",
       "      <td>01/01/2020</td>\n",
       "      <td>How to be fancy with Python</td>\n",
       "      <td>Python tricks that will make your life easier</td>\n",
       "      <td>1.7K</td>\n",
       "      <td>12</td>\n",
       "      <td>https://towardsdatascience.com/@dipam44</td>\n",
       "      <td>https://towardsdatascience.com/how-to-be-fancy...</td>\n",
       "      <td>5</td>\n",
       "      <td>How to be fancy with Python\\n\\nPython is cool....</td>\n",
       "      <td>625</td>\n",
       "      <td>NaN</td>\n",
       "    </tr>\n",
       "    <tr>\n",
       "      <th>4</th>\n",
       "      <td>01/01/2020</td>\n",
       "      <td>Perfectly Privacy-Preserving AI</td>\n",
       "      <td>Data Privacy</td>\n",
       "      <td>0</td>\n",
       "      <td>0</td>\n",
       "      <td>https://towardsdatascience.com/@patriciathaine</td>\n",
       "      <td>-</td>\n",
       "      <td>10</td>\n",
       "      <td>-</td>\n",
       "      <td>-</td>\n",
       "      <td>NaN</td>\n",
       "    </tr>\n",
       "  </tbody>\n",
       "</table>\n",
       "</div>"
      ],
      "text/plain": [
       "         date                                              title  \\\n",
       "0  01/01/2020              Making Python Programs Blazingly Fast   \n",
       "1  01/01/2020  Implementing a fully convolutional network (FC...   \n",
       "2  01/01/2020    6 New Features in Python 3.8 for Python Newbies   \n",
       "3  01/01/2020                        How to be fancy with Python   \n",
       "4  01/01/2020                    Perfectly Privacy-Preserving AI   \n",
       "\n",
       "                                            subtitle claps  responses  \\\n",
       "0  Let’s look at the performance of our Python pr...  3.4K          3   \n",
       "1              A tutorial on building, training and…   543          4   \n",
       "2                                    Python Beginner  1.8K          4   \n",
       "3      Python tricks that will make your life easier  1.7K         12   \n",
       "4                                       Data Privacy     0          0   \n",
       "\n",
       "                                     author_handle  \\\n",
       "0     https://towardsdatascience.com/@martin.heinz   \n",
       "1  https://towardsdatascience.com/@himanshurawlani   \n",
       "2           https://towardsdatascience.com/@edenau   \n",
       "3          https://towardsdatascience.com/@dipam44   \n",
       "4   https://towardsdatascience.com/@patriciathaine   \n",
       "\n",
       "                                           story_url  reading_time  \\\n",
       "0  https://towardsdatascience.com/making-python-p...             5   \n",
       "1  https://towardsdatascience.com/implementing-a-...            11   \n",
       "2  https://towardsdatascience.com/6-new-features-...             4   \n",
       "3  https://towardsdatascience.com/how-to-be-fancy...             5   \n",
       "4                                                  -            10   \n",
       "\n",
       "                                                text author_followers  \\\n",
       "0  Making Python Programs Blazingly Fast\\n\\nLet’s...             3.8K   \n",
       "1  Understanding and implementing a fully convolu...              331   \n",
       "2  Python Beginner 6 New Features in Python 3.8 f...             1.7K   \n",
       "3  How to be fancy with Python\\n\\nPython is cool....              625   \n",
       "4                                                  -                -   \n",
       "\n",
       "  publication  \n",
       "0         NaN  \n",
       "1         NaN  \n",
       "2         NaN  \n",
       "3         NaN  \n",
       "4         NaN  "
      ]
     },
     "execution_count": 5,
     "metadata": {},
     "output_type": "execute_result"
    }
   ],
   "source": [
    "df.head()"
   ]
  },
  {
   "cell_type": "code",
   "execution_count": 8,
   "id": "5a63ee61",
   "metadata": {
    "ExecuteTime": {
     "end_time": "2022-06-14T07:04:12.038257Z",
     "start_time": "2022-06-14T07:04:12.024702Z"
    }
   },
   "outputs": [],
   "source": [
    "from nltk.corpus import stopwords\n",
    "stop_words = stopwords.words('english')"
   ]
  },
  {
   "cell_type": "code",
   "execution_count": 9,
   "id": "c862714d",
   "metadata": {
    "ExecuteTime": {
     "end_time": "2022-06-14T07:04:12.838428Z",
     "start_time": "2022-06-14T07:04:12.834795Z"
    }
   },
   "outputs": [],
   "source": [
    "def clean_text(df, column_name):\n",
    "    # lower case\n",
    "    df[column_name] = df[column_name].apply(lambda x: \" \".join(word.lower() for word in str(x).split()))\n",
    "    \n",
    "    # remove punctuation\n",
    "    df[column_name] = df[column_name].str.replace('[^a-z ]', '')\n",
    "    \n",
    "    # this replaces two or more white spcaes with just one\n",
    "    df[column_name] = df[column_name].str.replace(r\"\\s\\s+\",' ') \n",
    "    \n",
    "    # remove stop words\n",
    "    df[column_name] = df[column_name].apply(lambda x: \" \".join(word for word in x.split() if word not in stop_words))\n",
    "    \n",
    "    # lemmatize\n",
    "    df[column_name] = df[column_name].apply(lambda x: \" \".join(Word(word).lemmatize() for word in x.split()))\n",
    "    \n",
    "    return df"
   ]
  },
  {
   "cell_type": "code",
   "execution_count": 10,
   "id": "d05f2a97",
   "metadata": {
    "ExecuteTime": {
     "end_time": "2022-06-14T07:12:34.112833Z",
     "start_time": "2022-06-14T07:04:13.419965Z"
    }
   },
   "outputs": [
    {
     "name": "stderr",
     "output_type": "stream",
     "text": [
      "/var/folders/0g/2n4dpfnj6xg2x7twpn7nk6nh0000gn/T/ipykernel_66657/3869721140.py:6: FutureWarning: The default value of regex will change from True to False in a future version.\n",
      "  df[column_name] = df[column_name].str.replace('[^a-z ]', '')\n",
      "/var/folders/0g/2n4dpfnj6xg2x7twpn7nk6nh0000gn/T/ipykernel_66657/3869721140.py:9: FutureWarning: The default value of regex will change from True to False in a future version.\n",
      "  df[column_name] = df[column_name].str.replace(r\"\\s\\s+\",' ')\n"
     ]
    },
    {
     "data": {
      "text/html": [
       "<div>\n",
       "<style scoped>\n",
       "    .dataframe tbody tr th:only-of-type {\n",
       "        vertical-align: middle;\n",
       "    }\n",
       "\n",
       "    .dataframe tbody tr th {\n",
       "        vertical-align: top;\n",
       "    }\n",
       "\n",
       "    .dataframe thead th {\n",
       "        text-align: right;\n",
       "    }\n",
       "</style>\n",
       "<table border=\"1\" class=\"dataframe\">\n",
       "  <thead>\n",
       "    <tr style=\"text-align: right;\">\n",
       "      <th></th>\n",
       "      <th>date</th>\n",
       "      <th>title</th>\n",
       "      <th>subtitle</th>\n",
       "      <th>claps</th>\n",
       "      <th>responses</th>\n",
       "      <th>author_handle</th>\n",
       "      <th>story_url</th>\n",
       "      <th>reading_time</th>\n",
       "      <th>text</th>\n",
       "      <th>author_followers</th>\n",
       "      <th>publication</th>\n",
       "    </tr>\n",
       "  </thead>\n",
       "  <tbody>\n",
       "    <tr>\n",
       "      <th>0</th>\n",
       "      <td>01/01/2020</td>\n",
       "      <td>Making Python Programs Blazingly Fast</td>\n",
       "      <td>Let’s look at the performance of our Python pr...</td>\n",
       "      <td>3.4K</td>\n",
       "      <td>3</td>\n",
       "      <td>https://towardsdatascience.com/@martin.heinz</td>\n",
       "      <td>https://towardsdatascience.com/making-python-p...</td>\n",
       "      <td>5</td>\n",
       "      <td>making python program blazingly fast let look ...</td>\n",
       "      <td>3.8K</td>\n",
       "      <td>NaN</td>\n",
       "    </tr>\n",
       "    <tr>\n",
       "      <th>1</th>\n",
       "      <td>01/01/2020</td>\n",
       "      <td>Implementing a fully convolutional network (FC...</td>\n",
       "      <td>A tutorial on building, training and…</td>\n",
       "      <td>543</td>\n",
       "      <td>4</td>\n",
       "      <td>https://towardsdatascience.com/@himanshurawlani</td>\n",
       "      <td>https://towardsdatascience.com/implementing-a-...</td>\n",
       "      <td>11</td>\n",
       "      <td>understanding implementing fully convolutional...</td>\n",
       "      <td>331</td>\n",
       "      <td>NaN</td>\n",
       "    </tr>\n",
       "    <tr>\n",
       "      <th>2</th>\n",
       "      <td>01/01/2020</td>\n",
       "      <td>6 New Features in Python 3.8 for Python Newbies</td>\n",
       "      <td>Python Beginner</td>\n",
       "      <td>1.8K</td>\n",
       "      <td>4</td>\n",
       "      <td>https://towardsdatascience.com/@edenau</td>\n",
       "      <td>https://towardsdatascience.com/6-new-features-...</td>\n",
       "      <td>4</td>\n",
       "      <td>python beginner new feature python python newb...</td>\n",
       "      <td>1.7K</td>\n",
       "      <td>NaN</td>\n",
       "    </tr>\n",
       "    <tr>\n",
       "      <th>3</th>\n",
       "      <td>01/01/2020</td>\n",
       "      <td>How to be fancy with Python</td>\n",
       "      <td>Python tricks that will make your life easier</td>\n",
       "      <td>1.7K</td>\n",
       "      <td>12</td>\n",
       "      <td>https://towardsdatascience.com/@dipam44</td>\n",
       "      <td>https://towardsdatascience.com/how-to-be-fancy...</td>\n",
       "      <td>5</td>\n",
       "      <td>fancy python python cool really cool however l...</td>\n",
       "      <td>625</td>\n",
       "      <td>NaN</td>\n",
       "    </tr>\n",
       "    <tr>\n",
       "      <th>4</th>\n",
       "      <td>01/01/2020</td>\n",
       "      <td>Perfectly Privacy-Preserving AI</td>\n",
       "      <td>Data Privacy</td>\n",
       "      <td>0</td>\n",
       "      <td>0</td>\n",
       "      <td>https://towardsdatascience.com/@patriciathaine</td>\n",
       "      <td>-</td>\n",
       "      <td>10</td>\n",
       "      <td></td>\n",
       "      <td>-</td>\n",
       "      <td>NaN</td>\n",
       "    </tr>\n",
       "  </tbody>\n",
       "</table>\n",
       "</div>"
      ],
      "text/plain": [
       "         date                                              title  \\\n",
       "0  01/01/2020              Making Python Programs Blazingly Fast   \n",
       "1  01/01/2020  Implementing a fully convolutional network (FC...   \n",
       "2  01/01/2020    6 New Features in Python 3.8 for Python Newbies   \n",
       "3  01/01/2020                        How to be fancy with Python   \n",
       "4  01/01/2020                    Perfectly Privacy-Preserving AI   \n",
       "\n",
       "                                            subtitle claps  responses  \\\n",
       "0  Let’s look at the performance of our Python pr...  3.4K          3   \n",
       "1              A tutorial on building, training and…   543          4   \n",
       "2                                    Python Beginner  1.8K          4   \n",
       "3      Python tricks that will make your life easier  1.7K         12   \n",
       "4                                       Data Privacy     0          0   \n",
       "\n",
       "                                     author_handle  \\\n",
       "0     https://towardsdatascience.com/@martin.heinz   \n",
       "1  https://towardsdatascience.com/@himanshurawlani   \n",
       "2           https://towardsdatascience.com/@edenau   \n",
       "3          https://towardsdatascience.com/@dipam44   \n",
       "4   https://towardsdatascience.com/@patriciathaine   \n",
       "\n",
       "                                           story_url  reading_time  \\\n",
       "0  https://towardsdatascience.com/making-python-p...             5   \n",
       "1  https://towardsdatascience.com/implementing-a-...            11   \n",
       "2  https://towardsdatascience.com/6-new-features-...             4   \n",
       "3  https://towardsdatascience.com/how-to-be-fancy...             5   \n",
       "4                                                  -            10   \n",
       "\n",
       "                                                text author_followers  \\\n",
       "0  making python program blazingly fast let look ...             3.8K   \n",
       "1  understanding implementing fully convolutional...              331   \n",
       "2  python beginner new feature python python newb...             1.7K   \n",
       "3  fancy python python cool really cool however l...              625   \n",
       "4                                                                   -   \n",
       "\n",
       "  publication  \n",
       "0         NaN  \n",
       "1         NaN  \n",
       "2         NaN  \n",
       "3         NaN  \n",
       "4         NaN  "
      ]
     },
     "execution_count": 10,
     "metadata": {},
     "output_type": "execute_result"
    }
   ],
   "source": [
    "df = clean_text(df, 'text')\n",
    "df.head()"
   ]
  },
  {
   "cell_type": "code",
   "execution_count": null,
   "id": "1d738ad4",
   "metadata": {},
   "outputs": [],
   "source": []
  },
  {
   "cell_type": "code",
   "execution_count": null,
   "id": "baa1f818",
   "metadata": {},
   "outputs": [],
   "source": []
  },
  {
   "cell_type": "code",
   "execution_count": null,
   "id": "f13f0e2b",
   "metadata": {},
   "outputs": [],
   "source": []
  },
  {
   "cell_type": "code",
   "execution_count": null,
   "id": "dbfcfdd9",
   "metadata": {},
   "outputs": [],
   "source": []
  },
  {
   "cell_type": "code",
   "execution_count": null,
   "id": "844b6a7a",
   "metadata": {},
   "outputs": [],
   "source": []
  },
  {
   "cell_type": "code",
   "execution_count": 23,
   "id": "62db60e8",
   "metadata": {
    "ExecuteTime": {
     "end_time": "2022-06-11T18:09:41.643497Z",
     "start_time": "2022-06-11T18:09:41.625166Z"
    }
   },
   "outputs": [],
   "source": [
    "def preprocess(df):\n",
    "    stopwords = nltk.corpus.stopwords.words('english')\n",
    "    df['title_process'] = df['title'].astype(str)\n",
    "    df['title_process'] = df['title_process'].apply(lambda x : x.lower())\n",
    "    df['title_process'] = df['title_process'].apply(lambda x : nltk.word_tokenize(x))\n",
    "    df['title_process'] = df['title_process'].apply(lambda x : [item for item in x if item not in stopwords])\n",
    "    df['title_process'] = df['title_process'].apply(lambda x : \" \".join(x))\n",
    "    df['title_process'] = df['title_process'].str.replace('@[^\\s]+', \"\")\n",
    "    df['title_process'] = df['title_process'].str.replace('https?:\\/\\/.*[\\r\\n]*', '')\n",
    "    df['title_process'] = df['title_process'].str.normalize('NFKD').str.encode('ascii', errors='ignore').str.decode('utf-8')\n",
    "    df['title_process'] = df['title_process'].str.replace('\\d+', '')\n",
    "    df['title_process'] = df['title_process'].str.replace('[^\\w\\s]', '')\n",
    "    return df"
   ]
  },
  {
   "cell_type": "code",
   "execution_count": 24,
   "id": "59ba78b6",
   "metadata": {
    "ExecuteTime": {
     "end_time": "2022-06-11T18:09:49.558709Z",
     "start_time": "2022-06-11T18:09:42.011182Z"
    }
   },
   "outputs": [
    {
     "name": "stderr",
     "output_type": "stream",
     "text": [
      "/var/folders/0g/2n4dpfnj6xg2x7twpn7nk6nh0000gn/T/ipykernel_9052/241149828.py:8: FutureWarning: The default value of regex will change from True to False in a future version.\n",
      "  df['title_process'] = df['title_process'].str.replace('@[^\\s]+', \"\")\n",
      "/var/folders/0g/2n4dpfnj6xg2x7twpn7nk6nh0000gn/T/ipykernel_9052/241149828.py:9: FutureWarning: The default value of regex will change from True to False in a future version.\n",
      "  df['title_process'] = df['title_process'].str.replace('https?:\\/\\/.*[\\r\\n]*', '')\n",
      "/var/folders/0g/2n4dpfnj6xg2x7twpn7nk6nh0000gn/T/ipykernel_9052/241149828.py:11: FutureWarning: The default value of regex will change from True to False in a future version.\n",
      "  df['title_process'] = df['title_process'].str.replace('\\d+', '')\n",
      "/var/folders/0g/2n4dpfnj6xg2x7twpn7nk6nh0000gn/T/ipykernel_9052/241149828.py:12: FutureWarning: The default value of regex will change from True to False in a future version.\n",
      "  df['title_process'] = df['title_process'].str.replace('[^\\w\\s]', '')\n"
     ]
    }
   ],
   "source": [
    "df = preprocess(df)"
   ]
  },
  {
   "cell_type": "code",
   "execution_count": 27,
   "id": "eec7413a",
   "metadata": {
    "ExecuteTime": {
     "end_time": "2022-06-12T08:26:39.752709Z",
     "start_time": "2022-06-12T08:26:39.716086Z"
    }
   },
   "outputs": [
    {
     "name": "stdout",
     "output_type": "stream",
     "text": [
      "the most beautiful theory of all\n",
      "\n",
      "a century ago albert einstein changed the way humans saw the universe. his work is still offering new insights today\n",
      "\n",
      "“alfred, it’s spinning.” roy kerr, a new zealand-born physicist in his late 20s, had, for half an hour, been chain-smoking his way through some fiendish mathematics. alfred schild, his boss at the newly built centre for relativity at the university of texas, had sat and watched. now, having broken the silence, kerr put down his pencil. he had been searching for a new solution to albert einstein’s equations of general relativity, and at last he could see in his numbers and symbols a precise description of how space-time — the four-dimensional universal fabric those equations describe — could be wrapped into a spinning ball. he had found what he was looking for.\n",
      "\n",
      "when this happened, in 1962, the general theory of relativity had been around for almost half a century. it was customarily held up as one of the highest intellectual achievements of humanity. and it was also something of an intellectual backwater. it was mathematically taxing and mostly applied to simple models with little resemblance to the real world, and thus not widely worked on. kerr’s spinning solution changed that. given that pretty much everything in the universe is part of a system that spins at some rate or other, the new solution had a relevance to real-world possibilities — or, rather, out-of-this-world ones — that previous work in the field had lacked. it provided science with a theoretical basis for understanding a bizarre object that would soon bewitch the public imagination: the black hole.\n",
      "\n",
      "general relativity was presented to the prussian academy of sciences over the course of four lectures in november 1915; it was published on december 2nd that year. the theory explained, to begin with, remarkably little, and unlike quantum theory, the only comparable revolution in 20th-century physics, it offered no insights into the issues that physicists of the time cared about most. yet it was quickly and widely accepted, not least thanks to the sheer beauty of its mathematical expression; a hundred years on, no discussion of the role of aesthetics in scientific theory seems complete without its inclusion.\n",
      "\n",
      "when gravity fails\n",
      "\n",
      "today its appeal goes beyond its elegance. it provides a theoretical underpinning to the wonders of modern cosmology, from black holes to the big bang itself. its equations have recently turned out to be useful in describing the physics of earthly stuff too. and it may still have secrets to give up: enormous experiments are under way to see how the theory holds in the most extreme physical environments that the universe has to offer.\n",
      "\n",
      "the theory built on the insights of einstein’s first theory of relativity, the “special theory”, one of a trio of breakthroughs that made his reputation in 1905. that theory dramatically abandoned the time-honoured description of the world in terms of absolute space and time in favour of a four dimensional space-time (three spatial dimensions, one temporal one). in this new space-time observers moving at different speeds got different answers when measuring lengths and durations; for example, a clock moving quickly with respect to a stationary observer would tell the time more slowly than one sitting still. the only thing that remained fixed was the speed of light, c, which all observers had to agree on (and which also got a starring role in the signature equation with which the theory related matter to energy, e=mc2).\n",
      "\n",
      "special relativity applied only to special cases: those of observers moving at constant speeds in a straight line. einstein knew that a general theory would need to deal with accelerations. it would also have to be reconciled with isaac newton’s theory of gravity, which relied on absolute space, made no explicit mention of time at all, and was believed to act not at the speed of light but instantaneously.\n",
      "\n",
      "einstein developed all his ideas about relativity with “thought experiments”: careful imaginary assessments of highly stylised states of affairs. in 1907 one of these provided him with what he would later refer to as his “happiest thought”: that someone falling off a roof would not feel his own weight. objects in free-fall, he realised, do not experience gravity. but the curved trajectories produced by gravity — be they the courses of golf balls or planets — seemed to imply some sort of pushing or pulling. if golf balls and planets, like people falling off roofs, felt no sort of push or pull, why then did they not fall in straight lines?\n",
      "\n",
      "the central brilliance of general relativity lay in einstein’s subsequent assertion that they did. objects falling free, like rays of light, follow straight lines through space-time. but that space-time itself is curved. and the thing that made it curve was mass. gravity is not a force; it is a distortion of space-time. as john wheeler, a physicist given to pithy dictums about tricky physics, put it decades later: “space-time tells matter how to move; matter tells space-time how to curve.”\n",
      "\n",
      "the problem was that, in order to build a theory on this insight, einstein needed to be able to create those descriptions in warped four-dimensional space-time. the euclidean geometry used by newton and everyone else was not up to this job; fundamentally different and much more challenging mathematics were required. max planck, the physicist who set off the revolution in quantum mechanics, thought this presented einstein with an insurmountable problem. “i must advise you against it,” he wrote to einstein in 1913, “for in the first place you will not succeed, and even if you succeed no one will believe you.”\n",
      "\n",
      "handily for einstein, though, an old university chum, marcel grossmann, was an expert in riemannian geometry, a piece of previously pure mathematics created to describe curved multi-dimensional surfaces. by the time of his lectures in 1915 einstein had, by making use of this unorthodox geometry, boiled his grand idea down to the elegant but taxing equations through which it would become known.\n",
      "\n",
      "just before the fourth lecture was to be delivered on november 25th, he realised he might have a bit more to offer than thought experiments and equations. astronomers had long known that the point in mercury’s orbit closest to the sun changed over time in a way newton’s gravity could not explain. in the 1840s oddities in the orbit of uranus had been explained in terms of the gravity of a more distant planet; the subsequent discovery of that planet, neptune, had been hailed as a great confirmation of newton’s law. attempts to explain mercury’s misbehaviour in terms of an undiscovered planet, though, had come to naught.\n",
      "\n",
      "famous long ago\n",
      "\n",
      "einstein found that the curvature of space-time near the sun explained mercury’s behaviour very nicely. at the time of the lectures it was the only thing he could point to that general relativity explained and previous science did not. martin rees, britain’s astronomer royal, is one of those who sees the nugatory role played by evidence in the development of the theory as one of the things “that makes einstein seem even more remarkable: he wasn’t motivated by any mysterious phenomena he couldn’t explain.” he depended simply on his insight into what sort of thing gravity must be, and the beauty of the mathematics required to describe it.\n",
      "\n",
      "after the theory was published, einstein started to look for ways to test it through observation. one of them was to compare the apparent positions of stars that were in the same part of the sky as the sun during a solar eclipse with their apparent positions at other times. rays of light, like free-falling objects, trace straight lines in space-time. because the sun’s mass warps that space-time, the positions of the stars would seem to change when the rays skirted the sun (see diagram).\n",
      "\n",
      "in 1919 arthur eddington, a famed british astronomer, announced that observations of an eclipse made on the atlantic island of principe showed just the distortion einstein had predicted (one of his images is pictured). “lights all askew in the heavens”, read the new york times headline, adding helpfully that “nobody need worry”. einstein, while pleased, had faith enough in his idea not to have been on tenterhooks. when asked what he would have done had eddington found a different result, he replied, “then i would feel sorry for the good lord. the theory is correct.”\n",
      "\n",
      "as far as the rest of the world was concerned, eddington’s result put general relativity more or less beyond doubt. but that did not make it mainstream. for one thing it was hard to grasp. at a public event eddington was momentarily stumped by the suggestion that he “must be one of the three persons in the world who understand general relativity”. when the silence was taken for modesty, he replied “on the contrary, i am trying to think who the third person is!”\n",
      "\n",
      "general relativity also seemed somewhat beside the point. the quantum revolution that planck had begun, and that einstein had contributed to in one of his other great papers of 1905, was bearing fascinating fruit. together with a blossoming understanding of the atomic nucleus, it was at the centre of physicists’ attention. special relativity had a role in the excitement; its most famous expression, e=mc2, gave a measure of the energy stored in those fascinating nuclei. general relativity had none.\n",
      "\n",
      "what it offered instead was a way to ask questions not about what was in the universe, but about the structure of the universe as a whole. there were solutions to the equations in which the universe was expanding; there were others in which it was contracting. this became a topic of impassioned debate between einstein and willem de sitter, a dutch physicist who had found one of the expanding-universe solutions. einstein wanted a static universe. in 1917 he added to his equations a “cosmological constant” which could be used to fix the universe at a given size.\n",
      "\n",
      "that became an embarrassment when, in 1929, an american astronomer put forward strong evidence that the universe was, indeed, getting bigger. edwin hubble had measured the colour of the light from distant galaxies as a way of studying their motion; light from objects approaching the earth looks bluer than it would otherwise, light from objects receding looks redder. hubble found that, on average, the more distant the galaxy, the more its light was shifted towards the red; things receded faster the farther away they were. the evidence for an expanding universe these red-shifts provided led einstein to reject the cosmological constant as the “greatest blunder of my life”.\n",
      "\n",
      "the theory had other implications at which its architect initially balked. in the 1930s nuclear physicists worked out that stars were powered by nuclear reactions, and that when those reactions ran out of fuel the stars would collapse. something like the sun would collapse into a “white dwarf” about the size of the earth. bigger stars would collapse yet further into “neutron stars” as dense as an atomic nucleus and just 20 kilometres or so across. and the biggest stars would collapse into something with no length, breadth or depth but infinite density: a singularity.\n",
      "\n",
      "finding singularities in a theory is highly distasteful to the mathematically minded; they are normally signs of a mistake. einstein did not want any of them in his universe, and in 1939 he published a paper attempting to show that the collapse of giant stars would be halted before a singularity could be formed. robert oppenheimer, a brilliant young physicist at berkeley, used the same relativistic physics to contradict the great man and suggest that such extreme collapses were possible, warping space-time so much that they would create regions from which neither light nor anything else could ever escape: black holes.\n",
      "\n",
      "oppenheimer’s paper, though, was published on the day germany invaded poland, which rather put the debate on hold. just a month before, einstein had written to franklin roosevelt highlighting the military implications of e=mc2; it would be for realising those implications, rather than for black holes, that oppenheimer would be remembered.\n",
      "\n",
      "in part because of oppenheimer’s government-bewitching success, new sorts of physical research flourished in the post-war years. one such field, radio astronomy, revealed cosmic dramas that observations using light had never hinted at. among its discoveries were sources of radio waves that seemed at the same time small, spectacularly powerful and, judging by their red-shifts, phenomenally distant. the astronomers dubbed them quasars, and wondered what could possibly produce radio signals with the power of hundreds of billions of stars from a volume little bigger than a solar system.\n",
      "\n",
      "roy kerr’s solution to the equations of general relativity provided the answer: a supermassive spinning black hole. its rotation would create a region just outside the hole’s “event horizon” — the point of no return for light and everything else — in which matter falling inward would be spun up to enormous speeds. some of that matter would be squirted out along the axis of rotation, forming the jets seen in radio observations of quasars.\n",
      "\n",
      "disappear like smoke\n",
      "\n",
      "for the first time, general relativity was explaining new phenomena in the world. bright young minds rushed into the field; wild ideas that had been speculated on in the fallow decades were buffed up and taken further. there was talk of “wormholes” in space-time that could connect seemingly distant parts of the universe. there were “closed time-like curves” that seemed as though they might make possible travel into the past. less speculatively, but with more profound impact, stephen hawking, a physicist (pictured, with a quasar), and roger penrose, a mathematician, showed that relativistic descriptions of the singularities in black holes could be used to describe the big bang in which the expansion of the universe began — that they were, in fact, the only way to make sense of it. general relativity gave humans their first physical account of the creation.\n",
      "\n",
      "dr hawking went on to bring elements of quantum theory into science’s understanding of the black hole. quantum mechanics says that if you look at space on the tiniest of scales you will see a constant ferment in which pairs of particles pop into existence and then recombine into nothingness. dr hawking argued that when this happens at the event horizon of a black hole, some of the particles will be swallowed up, while some will escape. these escaping particles mean, in dr hawking’s words, that “black holes ain’t so black” — they give off what is now called “hawking radiation”. the energy lost this way comes ultimately from the black hole itself, which gives up mass in the process. thus, it seems, a black hole must eventually evaporate away to nothingness.\n",
      "\n",
      "adding quantum mechanics to the description of black holes was a step towards what has become perhaps the greatest challenge in theoretical physics: reconciling the theory used to describe all the fields and particles within the universe with the one that explains its overall shape. the two theories view reality in very different ways. in quantum theory everything is, at some scale, bitty. the equations of relativity are fundamentally smooth. quantum mechanics deals exclusively in probabilities — not because of a lack of information, but because that is the way the world actually is. in relativity all is certain. and quantum mechanics is “non-local”; an object’s behaviour in one place can be “entangled” with that of an object kilometres or light-years away. relativity is proudly local; einstein was sure that the “spooky action at a distance” implied by quantum mechanics would disappear when a better understanding was reached.\n",
      "\n",
      "it hasn’t. experiment after experiment confirms the non-local nature of the physical world. quantum theory has been stunningly successful in other ways, too. quantum theories give richly interlinked accounts of electromagnetism and of the strong and weak nuclear forces — the processes that hold most atoms together and split some apart. this unified “standard model” now covers all observable forms of matter and all their interactions — except those due to gravity.\n",
      "\n",
      "some people might be satisfied just to let each theory be used for what it is good for and to worry no further. but people like that do not become theoretical physicists. nor will they ever explain the intricacies of the big bang — a crucible to which grandiose theory-unifiers are ceaselessly drawn. in the very early universe space-time itself seems to have been subject to the sort of fluctuations fundamental to the quantum world (like those responsible for hawking radiation). getting to the heart of such shenanigans requires a theory that combines the two approaches.\n",
      "\n",
      "there have been many rich and subtle attempts at this. dr penrose has spent decades elaborating an elegant way of looking at all fields and particles as new mathematical entities called “twistors”. others have pursued a way of adding quantum bittiness to the fabric of space-time under the rubric of “loop quantum gravity”. then there is the “exceptionally simple theory of everything” — which isn’t. as steven weinberg, one of the unifiers whose work built the standard model, puts it, “there are so many theories and so few observations that we’re not getting very far.”\n",
      "\n",
      "dr weinberg, like many of his colleagues, fancies an approach called superstring theory. it is an outgrowth of an outgrowth of the standard model with various added features that seem as though they would help in the understanding of space-time and which its proponents find mathematically beguiling. ed witten of the institute for advanced study (ias) in princeton, einstein’s institutional home for the last 22 years of his life, is one of those who has raised it to its current favoured status. but he warns that much of the theory remains to be discovered, and that no-one knows how much. “we only understand bits and pieces — but the bits and pieces are staggeringly beautiful.”\n",
      "\n",
      "this piecemeal progress, as dr witten tells it, offers a nice counterpoint to the process which led up to november 1915. “einstein had the conception behind general relativity before he had the theory. that’s in part why it has stood: it was complete when it was formulated,” he says. “string theory is the opposite, with many manifestations discovered by happy accident decades ago.”\n",
      "\n",
      "entangled up in blue\n",
      "\n",
      "and the happy accidents continue. in 1997 juan maldacena, an argentine theoretician who now also works at the ias, showed that there is a deep connection between formulations of quantum mechanics known as conformal field theories and solutions to the einstein equations called anti-de sitter spaces (similar to the expanding-universe solution derived by willem de sitter, but static and much favoured by string theorists). neither provides an account of the real world, but the connection between them lets physicists recast intractable problems in quantum mechanics into the sort of equations found in general relativity, making them easier to crack.\n",
      "\n",
      "this approach is being gainfully employed solving problems in materials science, superconductivity and quantum computing. it is also “influencing the field in a totally unexpected way,” says leonard susskind, of stanford university. “it’s a shift in our tools and our methodology and our way of thinking about how phenomena are connected.” one possibility dr maldacena and dr susskind have developed by looking at things this way is that the “wormholes” relativity allows (which can be found in the anti-de sitter space) may be the same thing as the entanglement between distant particles in quantum mechanics (which is part of the conformal field theory). the irony of einstein’s spooky quantum bête noire playing such a crucial role has not gone unremarked.\n",
      "\n",
      "there is more to the future of relativity, though, than its eventual subsumption into some still unforeseeable follow-up theory. as well as offering new ways of understanding the universe, it is also providing new ways of observing it.\n",
      "\n",
      "this is helpful, because there are bits of the universe that are hard to observe in other ways. much of the universe consists of “dark matter” which emits no radiation. but it has mass, and so it warps space, distorting the picture of more distant objects just as the eclipse-darkened sun distorted the positions of eddington’s stars. studying distortions created by such “gravitational lenses” — both luminous (pictured, with einstein) and dark — allows astronomers with the precise images of the deep sky today’s best telescopes provide to measure the distribution of mass around the universe in a new way.\n",
      "\n",
      "another form of relativity-assisted astronomy uses gravitation directly. einstein’s equations predict that when masses accelerate around each other they will create ripples in space-time: gravitational waves. as with black holes and the expanding universe, einstein was not keen on this idea. again, later work has shown it to be true. a pair of neutron stars discovered spinning round each other in the 1970s are exactly the sort of system that should produce such waves. because producing gravitational waves requires energy, it was realised that these neutron stars should be losing some. and so they proved to be — at exactly the rate that relativity predicts. this indirect but convincing discovery garnered a nobel prize in 1993.\n",
      "\n",
      "as yet, though, no one has seen a wave in action by catching the expansion and contraction of space that should be seen as one goes by, because the effects involved are ludicrously small. but researchers at america’s recently upgraded laser interferometer gravitational-wave observatory (ligo) now think they can do it. at ligo’s two facilities, one in louisiana and one in washington state, laser beams bounce up and down 4km-long tubes dozens of times before being combined in a detector to make a pattern. a passing gravitational wave that squashes space-time by a tiny fraction of the radius of an atomic nucleus in one arm but not the other will make a discernible change to that pattern. comparing measurements at the two sites could give a sense of the wave’s direction.\n",
      "\n",
      "step into the light\n",
      "\n",
      "the aim is not just to detect gravitational waves — though that would be a spectacular achievement — but to learn about the processes that produce them, such as mergers of neutron stars and black holes. the strengths of the warping effects in such cataclysms are unlike anything seen to date; their observation would provide a whole new type of test for the theory.\n",
      "\n",
      "and history suggests there should be completely unanticipated discoveries, too. kip thorne, a specialist in relativity at the california institute of technology and co-founder of ligo, says that “every time we’ve opened a new window on the cosmos with new radiation, there have been unexpected surprises”. for example, the pioneers of radio astronomy had no inkling that they would discover a universe full of quasars — and thus black holes. a future global array of gravitational-wave observatories could open a whole new branch of observational astronomy.\n",
      "\n",
      "a century ago general relativity answered no-one’s questions except its creator’s. many theories are hit upon by two or more people at almost the same time; but if einstein had not devoted years to it, the curvature of space-time which is the essence of gravity might not have been discovered for decades. now it has changed the way astronomers think about the universe, has challenged them to try and build theories to explain its origin, and even offered them new ways to inspect its contents. and still it retains what most commended it to einstein: its singular beauty, revealed first to his eyes alone but appreciated today by all who have followed. “the einstein equations of general relativity are his best epitaph and memorial,” stephen hawking has written. “they should last as long as the universe.”\n",
      "\n",
      "this article originally appeared in the economist\n"
     ]
    }
   ],
   "source": [
    "print(df.text.iloc[76359])"
   ]
  },
  {
   "cell_type": "code",
   "execution_count": 9,
   "id": "f4ffa652",
   "metadata": {
    "ExecuteTime": {
     "end_time": "2022-06-10T08:53:43.006974Z",
     "start_time": "2022-06-10T08:53:27.665483Z"
    }
   },
   "outputs": [
    {
     "data": {
      "text/plain": [
       "0        making python programs blazingly fast let’s lo...\n",
       "1        understanding and implementing a fully convolu...\n",
       "2        python beginner 6 new features in python 3.8 f...\n",
       "3        how to be fancy with python python is cool. re...\n",
       "4        from scratch to search: playing with your data...\n",
       "                               ...                        \n",
       "76359    the most beautiful theory of all a century ago...\n",
       "76360    why people get happier as they get older as pe...\n",
       "76361    is the economist left- or right-wing? neither....\n",
       "76362    how the internet unleashed a burst of cartooni...\n",
       "76363    remove paywalls from search results “for the c...\n",
       "Name: text, Length: 76364, dtype: object"
      ]
     },
     "execution_count": 9,
     "metadata": {},
     "output_type": "execute_result"
    }
   ],
   "source": [
    "# lower case\n",
    "df['text'] = df['text'].apply(lambda x: \" \".join(word.lower() for word in str(x).split()))\n",
    "# remove punctuation\n",
    "df['text']"
   ]
  }
 ],
 "metadata": {
  "kernelspec": {
   "display_name": "Python 3 (ipykernel)",
   "language": "python",
   "name": "python3"
  },
  "language_info": {
   "codemirror_mode": {
    "name": "ipython",
    "version": 3
   },
   "file_extension": ".py",
   "mimetype": "text/x-python",
   "name": "python",
   "nbconvert_exporter": "python",
   "pygments_lexer": "ipython3",
   "version": "3.9.7"
  },
  "toc": {
   "base_numbering": 1,
   "nav_menu": {},
   "number_sections": true,
   "sideBar": true,
   "skip_h1_title": false,
   "title_cell": "Table of Contents",
   "title_sidebar": "Contents",
   "toc_cell": false,
   "toc_position": {},
   "toc_section_display": true,
   "toc_window_display": false
  },
  "varInspector": {
   "cols": {
    "lenName": 16,
    "lenType": 16,
    "lenVar": 40
   },
   "kernels_config": {
    "python": {
     "delete_cmd_postfix": "",
     "delete_cmd_prefix": "del ",
     "library": "var_list.py",
     "varRefreshCmd": "print(var_dic_list())"
    },
    "r": {
     "delete_cmd_postfix": ") ",
     "delete_cmd_prefix": "rm(",
     "library": "var_list.r",
     "varRefreshCmd": "cat(var_dic_list()) "
    }
   },
   "types_to_exclude": [
    "module",
    "function",
    "builtin_function_or_method",
    "instance",
    "_Feature"
   ],
   "window_display": false
  }
 },
 "nbformat": 4,
 "nbformat_minor": 5
}
