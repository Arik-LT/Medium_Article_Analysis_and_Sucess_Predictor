{
 "cells": [
  {
   "cell_type": "code",
   "execution_count": 1,
   "id": "5a14673f",
   "metadata": {
    "ExecuteTime": {
     "end_time": "2022-06-16T08:36:38.339996Z",
     "start_time": "2022-06-16T08:36:20.043967Z"
    }
   },
   "outputs": [],
   "source": [
    "import pandas as pd\n",
    "import numpy as np\n",
    "import re\n",
    "\n",
    "from textblob import TextBlob, Word\n",
    "\n",
    "import matplotlib.pyplot as plt\n",
    "import seaborn as sns\n",
    "import plotly.express as px\n",
    "import nltk\n",
    "\n",
    "\n",
    "from sklearn.feature_extraction.text import CountVectorizer\n",
    "from sklearn.decomposition import LatentDirichletAllocation"
   ]
  },
  {
   "cell_type": "code",
   "execution_count": 2,
   "id": "cab45d17",
   "metadata": {
    "ExecuteTime": {
     "end_time": "2022-06-16T08:36:41.773539Z",
     "start_time": "2022-06-16T08:36:38.341288Z"
    }
   },
   "outputs": [],
   "source": [
    "df = pd.read_csv('df_final_no_numbers.csv')\n",
    "df.subtitle = df.subtitle.apply(lambda x: 0 if x == '-' else 1)\n",
    "df.subtitle = df.subtitle.apply(str)\n",
    "df = df[(df['publication'] != 'personal-growth') & (df['publication'] != 'uxplanet')]\n",
    "df.reset_index(drop=True, inplace=True)"
   ]
  },
  {
   "cell_type": "code",
   "execution_count": 24,
   "id": "6243b3cf",
   "metadata": {
    "ExecuteTime": {
     "end_time": "2022-06-16T15:14:19.602050Z",
     "start_time": "2022-06-16T15:14:19.577293Z"
    }
   },
   "outputs": [
    {
     "data": {
      "text/plain": [
       "array(['towardsdatascience', 'swlh', 'writingcooperative',\n",
       "       'datadriveninvestor', 'uxdesign', 'the-mission', 'startup-grind',\n",
       "       'better-humans', 'better-marketing'], dtype=object)"
      ]
     },
     "execution_count": 24,
     "metadata": {},
     "output_type": "execute_result"
    }
   ],
   "source": [
    "df.publication.unique()"
   ]
  },
  {
   "cell_type": "code",
   "execution_count": 3,
   "id": "03d94a44",
   "metadata": {
    "ExecuteTime": {
     "end_time": "2022-06-13T12:23:55.621447Z",
     "start_time": "2022-06-13T12:23:55.595993Z"
    }
   },
   "outputs": [
    {
     "data": {
      "text/html": [
       "<div>\n",
       "<style scoped>\n",
       "    .dataframe tbody tr th:only-of-type {\n",
       "        vertical-align: middle;\n",
       "    }\n",
       "\n",
       "    .dataframe tbody tr th {\n",
       "        vertical-align: top;\n",
       "    }\n",
       "\n",
       "    .dataframe thead th {\n",
       "        text-align: right;\n",
       "    }\n",
       "</style>\n",
       "<table border=\"1\" class=\"dataframe\">\n",
       "  <thead>\n",
       "    <tr style=\"text-align: right;\">\n",
       "      <th></th>\n",
       "      <th>date</th>\n",
       "      <th>title</th>\n",
       "      <th>subtitle</th>\n",
       "      <th>claps</th>\n",
       "      <th>responses</th>\n",
       "      <th>author_handle</th>\n",
       "      <th>story_url</th>\n",
       "      <th>reading_time</th>\n",
       "      <th>text</th>\n",
       "      <th>author_followers</th>\n",
       "      <th>publication</th>\n",
       "      <th>number_of_words</th>\n",
       "      <th>number_of_characters</th>\n",
       "      <th>day_of_the_week</th>\n",
       "      <th>month</th>\n",
       "      <th>polarity</th>\n",
       "      <th>subjectivity</th>\n",
       "      <th>claps_per_quartile</th>\n",
       "      <th>claps_binary</th>\n",
       "    </tr>\n",
       "  </thead>\n",
       "  <tbody>\n",
       "    <tr>\n",
       "      <th>0</th>\n",
       "      <td>01/01/2020</td>\n",
       "      <td>making python program blazingly fast</td>\n",
       "      <td>1</td>\n",
       "      <td>3400.0</td>\n",
       "      <td>3</td>\n",
       "      <td>@martin.heinz</td>\n",
       "      <td>https://towardsdatascience.com/making-python-p...</td>\n",
       "      <td>5</td>\n",
       "      <td>making python program blazingly fast let look ...</td>\n",
       "      <td>3800.0</td>\n",
       "      <td>towardsdatascience</td>\n",
       "      <td>1056</td>\n",
       "      <td>6175</td>\n",
       "      <td>2</td>\n",
       "      <td>1</td>\n",
       "      <td>0.049713</td>\n",
       "      <td>0.407731</td>\n",
       "      <td>3</td>\n",
       "      <td>1</td>\n",
       "    </tr>\n",
       "    <tr>\n",
       "      <th>1</th>\n",
       "      <td>01/01/2020</td>\n",
       "      <td>implementing fully convolutional network fcn t...</td>\n",
       "      <td>1</td>\n",
       "      <td>543.0</td>\n",
       "      <td>4</td>\n",
       "      <td>@himanshurawlani</td>\n",
       "      <td>https://towardsdatascience.com/implementing-a-...</td>\n",
       "      <td>11</td>\n",
       "      <td>understanding implementing fully convolutional...</td>\n",
       "      <td>331.0</td>\n",
       "      <td>towardsdatascience</td>\n",
       "      <td>2527</td>\n",
       "      <td>15729</td>\n",
       "      <td>2</td>\n",
       "      <td>1</td>\n",
       "      <td>0.110434</td>\n",
       "      <td>0.398271</td>\n",
       "      <td>3</td>\n",
       "      <td>1</td>\n",
       "    </tr>\n",
       "    <tr>\n",
       "      <th>2</th>\n",
       "      <td>01/01/2020</td>\n",
       "      <td>new feature python python newbie</td>\n",
       "      <td>1</td>\n",
       "      <td>1800.0</td>\n",
       "      <td>4</td>\n",
       "      <td>@edenau</td>\n",
       "      <td>https://towardsdatascience.com/6-new-features-...</td>\n",
       "      <td>4</td>\n",
       "      <td>python beginner new feature python python newb...</td>\n",
       "      <td>1700.0</td>\n",
       "      <td>towardsdatascience</td>\n",
       "      <td>712</td>\n",
       "      <td>4174</td>\n",
       "      <td>2</td>\n",
       "      <td>1</td>\n",
       "      <td>0.081111</td>\n",
       "      <td>0.470741</td>\n",
       "      <td>3</td>\n",
       "      <td>1</td>\n",
       "    </tr>\n",
       "    <tr>\n",
       "      <th>3</th>\n",
       "      <td>01/01/2020</td>\n",
       "      <td>fancy python</td>\n",
       "      <td>1</td>\n",
       "      <td>1700.0</td>\n",
       "      <td>12</td>\n",
       "      <td>@dipam44</td>\n",
       "      <td>https://towardsdatascience.com/how-to-be-fancy...</td>\n",
       "      <td>5</td>\n",
       "      <td>fancy python python cool really cool however l...</td>\n",
       "      <td>625.0</td>\n",
       "      <td>towardsdatascience</td>\n",
       "      <td>607</td>\n",
       "      <td>3328</td>\n",
       "      <td>2</td>\n",
       "      <td>1</td>\n",
       "      <td>0.209636</td>\n",
       "      <td>0.480786</td>\n",
       "      <td>3</td>\n",
       "      <td>1</td>\n",
       "    </tr>\n",
       "    <tr>\n",
       "      <th>4</th>\n",
       "      <td>01/01/2020</td>\n",
       "      <td>scratch search playing data elasticsearch inge...</td>\n",
       "      <td>1</td>\n",
       "      <td>239.0</td>\n",
       "      <td>1</td>\n",
       "      <td>@stanislavprihoda</td>\n",
       "      <td>https://towardsdatascience.com/from-scratch-to...</td>\n",
       "      <td>9</td>\n",
       "      <td>scratch search playing data elasticsearch inge...</td>\n",
       "      <td>88.0</td>\n",
       "      <td>towardsdatascience</td>\n",
       "      <td>2158</td>\n",
       "      <td>14087</td>\n",
       "      <td>2</td>\n",
       "      <td>1</td>\n",
       "      <td>0.090842</td>\n",
       "      <td>0.435970</td>\n",
       "      <td>3</td>\n",
       "      <td>1</td>\n",
       "    </tr>\n",
       "  </tbody>\n",
       "</table>\n",
       "</div>"
      ],
      "text/plain": [
       "         date                                              title subtitle  \\\n",
       "0  01/01/2020               making python program blazingly fast        1   \n",
       "1  01/01/2020  implementing fully convolutional network fcn t...        1   \n",
       "2  01/01/2020                   new feature python python newbie        1   \n",
       "3  01/01/2020                                       fancy python        1   \n",
       "4  01/01/2020  scratch search playing data elasticsearch inge...        1   \n",
       "\n",
       "    claps  responses      author_handle  \\\n",
       "0  3400.0          3      @martin.heinz   \n",
       "1   543.0          4   @himanshurawlani   \n",
       "2  1800.0          4            @edenau   \n",
       "3  1700.0         12           @dipam44   \n",
       "4   239.0          1  @stanislavprihoda   \n",
       "\n",
       "                                           story_url  reading_time  \\\n",
       "0  https://towardsdatascience.com/making-python-p...             5   \n",
       "1  https://towardsdatascience.com/implementing-a-...            11   \n",
       "2  https://towardsdatascience.com/6-new-features-...             4   \n",
       "3  https://towardsdatascience.com/how-to-be-fancy...             5   \n",
       "4  https://towardsdatascience.com/from-scratch-to...             9   \n",
       "\n",
       "                                                text  author_followers  \\\n",
       "0  making python program blazingly fast let look ...            3800.0   \n",
       "1  understanding implementing fully convolutional...             331.0   \n",
       "2  python beginner new feature python python newb...            1700.0   \n",
       "3  fancy python python cool really cool however l...             625.0   \n",
       "4  scratch search playing data elasticsearch inge...              88.0   \n",
       "\n",
       "          publication  number_of_words  number_of_characters  day_of_the_week  \\\n",
       "0  towardsdatascience             1056                  6175                2   \n",
       "1  towardsdatascience             2527                 15729                2   \n",
       "2  towardsdatascience              712                  4174                2   \n",
       "3  towardsdatascience              607                  3328                2   \n",
       "4  towardsdatascience             2158                 14087                2   \n",
       "\n",
       "   month  polarity  subjectivity  claps_per_quartile  claps_binary  \n",
       "0      1  0.049713      0.407731                   3             1  \n",
       "1      1  0.110434      0.398271                   3             1  \n",
       "2      1  0.081111      0.470741                   3             1  \n",
       "3      1  0.209636      0.480786                   3             1  \n",
       "4      1  0.090842      0.435970                   3             1  "
      ]
     },
     "execution_count": 3,
     "metadata": {},
     "output_type": "execute_result"
    }
   ],
   "source": [
    "df.head()"
   ]
  },
  {
   "cell_type": "markdown",
   "id": "4a16a790",
   "metadata": {},
   "source": [
    "LDA is based on wordcounts and not distributions"
   ]
  },
  {
   "cell_type": "code",
   "execution_count": 3,
   "id": "3cbb9367",
   "metadata": {
    "ExecuteTime": {
     "end_time": "2022-06-16T08:56:46.987741Z",
     "start_time": "2022-06-16T08:56:46.902948Z"
    }
   },
   "outputs": [],
   "source": [
    "stops = set(nltk.corpus.stopwords.words('english'))"
   ]
  },
  {
   "cell_type": "code",
   "execution_count": 9,
   "id": "e9fbe8a5",
   "metadata": {
    "ExecuteTime": {
     "end_time": "2022-06-16T08:59:17.252247Z",
     "start_time": "2022-06-16T08:59:17.247269Z"
    }
   },
   "outputs": [],
   "source": [
    "stops = stops.union(['use', 'using', 'way', 'dont'])"
   ]
  },
  {
   "cell_type": "code",
   "execution_count": 10,
   "id": "f0fe5d60",
   "metadata": {
    "ExecuteTime": {
     "end_time": "2022-06-16T09:00:06.245953Z",
     "start_time": "2022-06-16T08:59:20.894783Z"
    }
   },
   "outputs": [],
   "source": [
    "vectorizer = CountVectorizer(stop_words=stops)\n",
    "X = vectorizer.fit_transform(df['text'])"
   ]
  },
  {
   "cell_type": "code",
   "execution_count": 6,
   "id": "be0d02ce",
   "metadata": {
    "ExecuteTime": {
     "end_time": "2022-06-13T12:24:26.442647Z",
     "start_time": "2022-06-13T12:24:26.434926Z"
    }
   },
   "outputs": [
    {
     "data": {
      "text/plain": [
       "array(['towardsdatascience', 'swlh', 'writingcooperative',\n",
       "       'datadriveninvestor', 'uxdesign', 'the-mission', 'startup-grind',\n",
       "       'better-humans', 'better-marketing'], dtype=object)"
      ]
     },
     "execution_count": 6,
     "metadata": {},
     "output_type": "execute_result"
    }
   ],
   "source": [
    "df.publication.unique()"
   ]
  },
  {
   "cell_type": "code",
   "execution_count": 14,
   "id": "301a8122",
   "metadata": {
    "ExecuteTime": {
     "end_time": "2022-06-16T10:38:33.364402Z",
     "start_time": "2022-06-16T10:29:56.839509Z"
    }
   },
   "outputs": [
    {
     "data": {
      "text/plain": [
       "LatentDirichletAllocation(n_components=6, random_state=12345)"
      ]
     },
     "execution_count": 14,
     "metadata": {},
     "output_type": "execute_result"
    }
   ],
   "source": [
    "lda = LatentDirichletAllocation(\n",
    "    n_components=6, # default: 10\n",
    "    random_state=12345,\n",
    ")\n",
    "\n",
    "lda.fit(X)"
   ]
  },
  {
   "cell_type": "code",
   "execution_count": 17,
   "id": "a7937e20",
   "metadata": {
    "ExecuteTime": {
     "end_time": "2022-06-16T10:49:43.005906Z",
     "start_time": "2022-06-16T10:49:42.978028Z"
    }
   },
   "outputs": [],
   "source": [
    "def plot_top_words(model, feature_names, n_top_words=10):\n",
    "    fig, axes = plt.subplots(2, 3, figsize=(30, 15), sharex=True)\n",
    "    axes = axes.flatten()\n",
    "    for topic_idx, topic in enumerate(model.components_):\n",
    "        top_features_ind = topic.argsort()[: -n_top_words - 1 : -1]\n",
    "        top_features = [feature_names[i] for i in top_features_ind]\n",
    "        weights = topic[top_features_ind]\n",
    "\n",
    "        ax = axes[topic_idx]\n",
    "        ax.barh(top_features, weights, height=0.7)\n",
    "        ax.set_title(f\"Topic {topic_idx +1}\", fontdict={\"fontsize\": 30})\n",
    "        ax.invert_yaxis()\n",
    "        ax.tick_params(axis=\"both\", which=\"major\", labelsize=20)\n",
    "        for i in \"top right left\".split():\n",
    "            ax.spines[i].set_visible(False)\n",
    "        fig.suptitle('LDA', fontsize=40)\n",
    "\n",
    "    plt.subplots_adjust(top=0.90, bottom=0.05, wspace=0.90, hspace=0.3)"
   ]
  },
  {
   "cell_type": "code",
   "execution_count": 18,
   "id": "a5e0cf1b",
   "metadata": {
    "ExecuteTime": {
     "end_time": "2022-06-16T10:49:44.852931Z",
     "start_time": "2022-06-16T10:49:43.409249Z"
    }
   },
   "outputs": [
    {
     "name": "stderr",
     "output_type": "stream",
     "text": [
      "/Users/ariklevy/opt/anaconda3/envs/firstEnv/lib/python3.10/site-packages/sklearn/utils/deprecation.py:87: FutureWarning: Function get_feature_names is deprecated; get_feature_names is deprecated in 1.0 and will be removed in 1.2. Please use get_feature_names_out instead.\n",
      "  warnings.warn(msg, category=FutureWarning)\n"
     ]
    },
    {
     "data": {
      "image/png": "[encoded data removed]",
      "text/plain": [
       "<Figure size 2160x1080 with 6 Axes>"
      ]
     },
     "metadata": {
      "needs_background": "light"
     },
     "output_type": "display_data"
    }
   ],
   "source": [
    "feature_names = vectorizer.get_feature_names()\n",
    "plot_top_words(lda, feature_names);"
   ]
  },
  {
   "cell_type": "markdown",
   "id": "11c23684",
   "metadata": {},
   "source": [
    "------"
   ]
  },
  {
   "cell_type": "markdown",
   "id": "82356558",
   "metadata": {},
   "source": [
    "------"
   ]
  },
  {
   "cell_type": "code",
   "execution_count": 19,
   "id": "64bc1ab4",
   "metadata": {
    "ExecuteTime": {
     "end_time": "2022-06-16T13:11:12.349884Z",
     "start_time": "2022-06-16T13:11:10.801125Z"
    }
   },
   "outputs": [],
   "source": [
    "import gensim\n",
    "import gensim.corpora as corpora\n",
    "from gensim.corpora import Dictionary\n",
    "from gensim.models.coherencemodel import CoherenceModel\n",
    "from gensim.models.ldamodel import LdaModel"
   ]
  },
  {
   "cell_type": "code",
   "execution_count": 22,
   "id": "8d659be5",
   "metadata": {
    "ExecuteTime": {
     "end_time": "2022-06-16T13:14:42.941555Z",
     "start_time": "2022-06-16T13:14:42.920072Z"
    }
   },
   "outputs": [],
   "source": [
    "from nltk.tokenize import RegexpTokenizer"
   ]
  },
  {
   "cell_type": "code",
   "execution_count": 23,
   "id": "84cc66fe",
   "metadata": {
    "ExecuteTime": {
     "end_time": "2022-06-16T13:14:51.124240Z",
     "start_time": "2022-06-16T13:14:51.117632Z"
    }
   },
   "outputs": [],
   "source": [
    "tokenizer = RegexpTokenizer(r'\\w+')"
   ]
  },
  {
   "cell_type": "code",
   "execution_count": 21,
   "id": "dc97d2b7",
   "metadata": {
    "ExecuteTime": {
     "end_time": "2022-06-16T13:14:18.944566Z",
     "start_time": "2022-06-16T13:14:18.928149Z"
    }
   },
   "outputs": [
    {
     "data": {
      "text/plain": [
       "0        making python program blazingly fast let look ...\n",
       "1        understanding implementing fully convolutional...\n",
       "2        python beginner new feature python python newb...\n",
       "3        fancy python python cool really cool however l...\n",
       "4        scratch search playing data elasticsearch inge...\n",
       "                               ...                        \n",
       "69130    svbs access innovation program building divers...\n",
       "69131    dei month meet vortle dei month startup grind ...\n",
       "69132    privileged catch joe discus future company hop...\n",
       "69133    startup share thing matter startup need succes...\n",
       "69134    privileged sit robert doore president ceo dive...\n",
       "Name: text, Length: 69135, dtype: object"
      ]
     },
     "execution_count": 21,
     "metadata": {},
     "output_type": "execute_result"
    }
   ],
   "source": [
    "docs = [df.text]"
   ]
  },
  {
   "cell_type": "code",
   "execution_count": null,
   "id": "46d00ded",
   "metadata": {},
   "outputs": [],
   "source": []
  }
 ],
 "metadata": {
  "kernelspec": {
   "display_name": "firstEnv",
   "language": "python",
   "name": "firstenv"
  },
  "language_info": {
   "codemirror_mode": {
    "name": "ipython",
    "version": 3
   },
   "file_extension": ".py",
   "mimetype": "text/x-python",
   "name": "python",
   "nbconvert_exporter": "python",
   "pygments_lexer": "ipython3",
   "version": "3.10.4"
  },
  "toc": {
   "base_numbering": 1,
   "nav_menu": {},
   "number_sections": true,
   "sideBar": true,
   "skip_h1_title": false,
   "title_cell": "Table of Contents",
   "title_sidebar": "Contents",
   "toc_cell": false,
   "toc_position": {},
   "toc_section_display": true,
   "toc_window_display": false
  },
  "varInspector": {
   "cols": {
    "lenName": 16,
    "lenType": 16,
    "lenVar": 40
   },
   "kernels_config": {
    "python": {
     "delete_cmd_postfix": "",
     "delete_cmd_prefix": "del ",
     "library": "var_list.py",
     "varRefreshCmd": "print(var_dic_list())"
    },
    "r": {
     "delete_cmd_postfix": ") ",
     "delete_cmd_prefix": "rm(",
     "library": "var_list.r",
     "varRefreshCmd": "cat(var_dic_list()) "
    }
   },
   "types_to_exclude": [
    "module",
    "function",
    "builtin_function_or_method",
    "instance",
    "_Feature"
   ],
   "window_display": false
  }
 },
 "nbformat": 4,
 "nbformat_minor": 5
}
