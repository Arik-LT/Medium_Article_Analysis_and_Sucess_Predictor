{
 "cells": [
  {
   "cell_type": "markdown",
   "id": "07d58bb5",
   "metadata": {
    "heading_collapsed": true
   },
   "source": [
    "## Imports"
   ]
  },
  {
   "cell_type": "code",
   "execution_count": 40,
   "id": "dcb2e724",
   "metadata": {
    "ExecuteTime": {
     "end_time": "2022-06-22T13:48:01.165078Z",
     "start_time": "2022-06-22T13:48:01.142967Z"
    },
    "hidden": true
   },
   "outputs": [],
   "source": [
    "import pandas as pd\n",
    "import numpy as np\n",
    "import re\n",
    "\n",
    "from textblob import TextBlob, Word\n",
    "\n",
    "import matplotlib.pyplot as plt\n",
    "import seaborn as sns\n",
    "import plotly.express as px\n",
    "import scipy\n",
    "from datetime import datetime"
   ]
  },
  {
   "cell_type": "code",
   "execution_count": 41,
   "id": "0ab1f996",
   "metadata": {
    "ExecuteTime": {
     "end_time": "2022-06-22T13:48:01.180185Z",
     "start_time": "2022-06-22T13:48:01.168095Z"
    },
    "hidden": true
   },
   "outputs": [],
   "source": [
    "from sklearn.model_selection import train_test_split\n",
    "from sklearn.preprocessing import StandardScaler\n",
    "\n",
    "from sklearn.feature_extraction.text import CountVectorizer\n",
    "\n",
    "from sklearn.linear_model import LogisticRegression, LogisticRegressionCV, ElasticNetCV\n",
    "from sklearn.model_selection import cross_val_score, StratifiedKFold\n",
    "from sklearn.naive_bayes import MultinomialNB\n",
    "from sklearn.ensemble import RandomForestClassifier, GradientBoostingClassifier\n",
    "from sklearn.model_selection import GridSearchCV, RandomizedSearchCV\n",
    "from sklearn.svm import LinearSVC\n",
    "from xgboost import XGBClassifier\n",
    "from sklearn.metrics import accuracy_score\n",
    "\n",
    "from sklearn.pipeline import Pipeline\n",
    "from sklearn.metrics import roc_auc_score, plot_roc_curve, f1_score, plot_precision_recall_curve"
   ]
  },
  {
   "cell_type": "markdown",
   "id": "c4753b18",
   "metadata": {
    "heading_collapsed": true,
    "hidden": true
   },
   "source": [
    "### Last clean before model"
   ]
  },
  {
   "cell_type": "code",
   "execution_count": 13,
   "id": "64c140e2",
   "metadata": {
    "ExecuteTime": {
     "end_time": "2022-06-22T13:48:06.201263Z",
     "start_time": "2022-06-22T13:48:01.181388Z"
    },
    "hidden": true
   },
   "outputs": [],
   "source": [
    "df = pd.read_csv('df_final_no_numbers.csv')\n",
    "df.subtitle = df.subtitle.apply(lambda x: 0 if x == '-' else 1)\n",
    "df.subtitle = df.subtitle.apply(str)\n",
    "df.day_of_the_week = df.day_of_the_week.apply(str)\n",
    "df = df[(df['publication'] != 'personal-growth')\n",
    "        & (df['publication'] != 'uxplanet')]\n",
    "df.reset_index(drop=True, inplace=True)"
   ]
  },
  {
   "cell_type": "code",
   "execution_count": 14,
   "id": "a4cc33ff",
   "metadata": {
    "ExecuteTime": {
     "end_time": "2022-06-22T13:48:06.223135Z",
     "start_time": "2022-06-22T13:48:06.202200Z"
    },
    "hidden": true
   },
   "outputs": [
    {
     "data": {
      "text/html": [
       "<div>\n",
       "<style scoped>\n",
       "    .dataframe tbody tr th:only-of-type {\n",
       "        vertical-align: middle;\n",
       "    }\n",
       "\n",
       "    .dataframe tbody tr th {\n",
       "        vertical-align: top;\n",
       "    }\n",
       "\n",
       "    .dataframe thead th {\n",
       "        text-align: right;\n",
       "    }\n",
       "</style>\n",
       "<table border=\"1\" class=\"dataframe\">\n",
       "  <thead>\n",
       "    <tr style=\"text-align: right;\">\n",
       "      <th></th>\n",
       "      <th>date</th>\n",
       "      <th>title</th>\n",
       "      <th>subtitle</th>\n",
       "      <th>claps</th>\n",
       "      <th>responses</th>\n",
       "      <th>author_handle</th>\n",
       "      <th>story_url</th>\n",
       "      <th>reading_time</th>\n",
       "      <th>text</th>\n",
       "      <th>author_followers</th>\n",
       "      <th>publication</th>\n",
       "      <th>number_of_words</th>\n",
       "      <th>number_of_characters</th>\n",
       "      <th>day_of_the_week</th>\n",
       "      <th>month</th>\n",
       "      <th>polarity</th>\n",
       "      <th>subjectivity</th>\n",
       "      <th>claps_per_quartile</th>\n",
       "      <th>claps_binary</th>\n",
       "    </tr>\n",
       "  </thead>\n",
       "  <tbody>\n",
       "    <tr>\n",
       "      <th>0</th>\n",
       "      <td>01/01/2020</td>\n",
       "      <td>making python program blazingly fast</td>\n",
       "      <td>1</td>\n",
       "      <td>3400.0</td>\n",
       "      <td>3</td>\n",
       "      <td>@martin.heinz</td>\n",
       "      <td>https://towardsdatascience.com/making-python-p...</td>\n",
       "      <td>5</td>\n",
       "      <td>making python program blazingly fast let look ...</td>\n",
       "      <td>3800.0</td>\n",
       "      <td>towardsdatascience</td>\n",
       "      <td>1056</td>\n",
       "      <td>6175</td>\n",
       "      <td>2</td>\n",
       "      <td>1</td>\n",
       "      <td>0.049713</td>\n",
       "      <td>0.407731</td>\n",
       "      <td>3</td>\n",
       "      <td>1</td>\n",
       "    </tr>\n",
       "    <tr>\n",
       "      <th>1</th>\n",
       "      <td>01/01/2020</td>\n",
       "      <td>implementing fully convolutional network fcn t...</td>\n",
       "      <td>1</td>\n",
       "      <td>543.0</td>\n",
       "      <td>4</td>\n",
       "      <td>@himanshurawlani</td>\n",
       "      <td>https://towardsdatascience.com/implementing-a-...</td>\n",
       "      <td>11</td>\n",
       "      <td>understanding implementing fully convolutional...</td>\n",
       "      <td>331.0</td>\n",
       "      <td>towardsdatascience</td>\n",
       "      <td>2527</td>\n",
       "      <td>15729</td>\n",
       "      <td>2</td>\n",
       "      <td>1</td>\n",
       "      <td>0.110434</td>\n",
       "      <td>0.398271</td>\n",
       "      <td>3</td>\n",
       "      <td>1</td>\n",
       "    </tr>\n",
       "    <tr>\n",
       "      <th>2</th>\n",
       "      <td>01/01/2020</td>\n",
       "      <td>new feature python python newbie</td>\n",
       "      <td>1</td>\n",
       "      <td>1800.0</td>\n",
       "      <td>4</td>\n",
       "      <td>@edenau</td>\n",
       "      <td>https://towardsdatascience.com/6-new-features-...</td>\n",
       "      <td>4</td>\n",
       "      <td>python beginner new feature python python newb...</td>\n",
       "      <td>1700.0</td>\n",
       "      <td>towardsdatascience</td>\n",
       "      <td>712</td>\n",
       "      <td>4174</td>\n",
       "      <td>2</td>\n",
       "      <td>1</td>\n",
       "      <td>0.081111</td>\n",
       "      <td>0.470741</td>\n",
       "      <td>3</td>\n",
       "      <td>1</td>\n",
       "    </tr>\n",
       "    <tr>\n",
       "      <th>3</th>\n",
       "      <td>01/01/2020</td>\n",
       "      <td>fancy python</td>\n",
       "      <td>1</td>\n",
       "      <td>1700.0</td>\n",
       "      <td>12</td>\n",
       "      <td>@dipam44</td>\n",
       "      <td>https://towardsdatascience.com/how-to-be-fancy...</td>\n",
       "      <td>5</td>\n",
       "      <td>fancy python python cool really cool however l...</td>\n",
       "      <td>625.0</td>\n",
       "      <td>towardsdatascience</td>\n",
       "      <td>607</td>\n",
       "      <td>3328</td>\n",
       "      <td>2</td>\n",
       "      <td>1</td>\n",
       "      <td>0.209636</td>\n",
       "      <td>0.480786</td>\n",
       "      <td>3</td>\n",
       "      <td>1</td>\n",
       "    </tr>\n",
       "    <tr>\n",
       "      <th>4</th>\n",
       "      <td>01/01/2020</td>\n",
       "      <td>scratch search playing data elasticsearch inge...</td>\n",
       "      <td>1</td>\n",
       "      <td>239.0</td>\n",
       "      <td>1</td>\n",
       "      <td>@stanislavprihoda</td>\n",
       "      <td>https://towardsdatascience.com/from-scratch-to...</td>\n",
       "      <td>9</td>\n",
       "      <td>scratch search playing data elasticsearch inge...</td>\n",
       "      <td>88.0</td>\n",
       "      <td>towardsdatascience</td>\n",
       "      <td>2158</td>\n",
       "      <td>14087</td>\n",
       "      <td>2</td>\n",
       "      <td>1</td>\n",
       "      <td>0.090842</td>\n",
       "      <td>0.435970</td>\n",
       "      <td>3</td>\n",
       "      <td>1</td>\n",
       "    </tr>\n",
       "  </tbody>\n",
       "</table>\n",
       "</div>"
      ],
      "text/plain": [
       "         date                                              title subtitle  \\\n",
       "0  01/01/2020               making python program blazingly fast        1   \n",
       "1  01/01/2020  implementing fully convolutional network fcn t...        1   \n",
       "2  01/01/2020                   new feature python python newbie        1   \n",
       "3  01/01/2020                                       fancy python        1   \n",
       "4  01/01/2020  scratch search playing data elasticsearch inge...        1   \n",
       "\n",
       "    claps  responses      author_handle  \\\n",
       "0  3400.0          3      @martin.heinz   \n",
       "1   543.0          4   @himanshurawlani   \n",
       "2  1800.0          4            @edenau   \n",
       "3  1700.0         12           @dipam44   \n",
       "4   239.0          1  @stanislavprihoda   \n",
       "\n",
       "                                           story_url  reading_time  \\\n",
       "0  https://towardsdatascience.com/making-python-p...             5   \n",
       "1  https://towardsdatascience.com/implementing-a-...            11   \n",
       "2  https://towardsdatascience.com/6-new-features-...             4   \n",
       "3  https://towardsdatascience.com/how-to-be-fancy...             5   \n",
       "4  https://towardsdatascience.com/from-scratch-to...             9   \n",
       "\n",
       "                                                text  author_followers  \\\n",
       "0  making python program blazingly fast let look ...            3800.0   \n",
       "1  understanding implementing fully convolutional...             331.0   \n",
       "2  python beginner new feature python python newb...            1700.0   \n",
       "3  fancy python python cool really cool however l...             625.0   \n",
       "4  scratch search playing data elasticsearch inge...              88.0   \n",
       "\n",
       "          publication  number_of_words  number_of_characters day_of_the_week  \\\n",
       "0  towardsdatascience             1056                  6175               2   \n",
       "1  towardsdatascience             2527                 15729               2   \n",
       "2  towardsdatascience              712                  4174               2   \n",
       "3  towardsdatascience              607                  3328               2   \n",
       "4  towardsdatascience             2158                 14087               2   \n",
       "\n",
       "   month  polarity  subjectivity  claps_per_quartile  claps_binary  \n",
       "0      1  0.049713      0.407731                   3             1  \n",
       "1      1  0.110434      0.398271                   3             1  \n",
       "2      1  0.081111      0.470741                   3             1  \n",
       "3      1  0.209636      0.480786                   3             1  \n",
       "4      1  0.090842      0.435970                   3             1  "
      ]
     },
     "execution_count": 14,
     "metadata": {},
     "output_type": "execute_result"
    }
   ],
   "source": [
    "df.head()"
   ]
  },
  {
   "cell_type": "markdown",
   "id": "3f81eb38",
   "metadata": {
    "hidden": true
   },
   "source": [
    "------"
   ]
  },
  {
   "cell_type": "markdown",
   "id": "654711d3",
   "metadata": {},
   "source": [
    "## Simple look at data"
   ]
  },
  {
   "cell_type": "code",
   "execution_count": 15,
   "id": "40b72af7",
   "metadata": {
    "ExecuteTime": {
     "end_time": "2022-06-22T13:48:06.245105Z",
     "start_time": "2022-06-22T13:48:06.225365Z"
    }
   },
   "outputs": [
    {
     "data": {
      "text/plain": [
       "towardsdatascience    27195\n",
       "datadriveninvestor    14261\n",
       "swlh                   9986\n",
       "uxdesign               6553\n",
       "writingcooperative     4448\n",
       "better-marketing       4418\n",
       "better-humans          1506\n",
       "the-mission             472\n",
       "startup-grind           296\n",
       "Name: publication, dtype: int64"
      ]
     },
     "execution_count": 15,
     "metadata": {},
     "output_type": "execute_result"
    }
   ],
   "source": [
    "df.publication.value_counts()"
   ]
  },
  {
   "cell_type": "code",
   "execution_count": 16,
   "id": "d538f34a",
   "metadata": {
    "ExecuteTime": {
     "end_time": "2022-06-22T13:48:06.323488Z",
     "start_time": "2022-06-22T13:48:06.246358Z"
    }
   },
   "outputs": [
    {
     "data": {
      "text/html": [
       "<div>\n",
       "<style scoped>\n",
       "    .dataframe tbody tr th:only-of-type {\n",
       "        vertical-align: middle;\n",
       "    }\n",
       "\n",
       "    .dataframe tbody tr th {\n",
       "        vertical-align: top;\n",
       "    }\n",
       "\n",
       "    .dataframe thead th {\n",
       "        text-align: right;\n",
       "    }\n",
       "</style>\n",
       "<table border=\"1\" class=\"dataframe\">\n",
       "  <thead>\n",
       "    <tr style=\"text-align: right;\">\n",
       "      <th></th>\n",
       "      <th>claps</th>\n",
       "      <th>responses</th>\n",
       "      <th>reading_time</th>\n",
       "      <th>author_followers</th>\n",
       "      <th>number_of_words</th>\n",
       "      <th>number_of_characters</th>\n",
       "      <th>month</th>\n",
       "      <th>polarity</th>\n",
       "      <th>subjectivity</th>\n",
       "      <th>claps_per_quartile</th>\n",
       "      <th>claps_binary</th>\n",
       "    </tr>\n",
       "  </thead>\n",
       "  <tbody>\n",
       "    <tr>\n",
       "      <th>count</th>\n",
       "      <td>69135.000000</td>\n",
       "      <td>69135.000000</td>\n",
       "      <td>69135.000000</td>\n",
       "      <td>69135.000000</td>\n",
       "      <td>69135.000000</td>\n",
       "      <td>69135.000000</td>\n",
       "      <td>69135.000000</td>\n",
       "      <td>69135.000000</td>\n",
       "      <td>69135.000000</td>\n",
       "      <td>69135.000000</td>\n",
       "      <td>69135.000000</td>\n",
       "    </tr>\n",
       "    <tr>\n",
       "      <th>mean</th>\n",
       "      <td>257.153569</td>\n",
       "      <td>1.912938</td>\n",
       "      <td>6.491690</td>\n",
       "      <td>3780.866233</td>\n",
       "      <td>1314.883633</td>\n",
       "      <td>7971.710103</td>\n",
       "      <td>6.095711</td>\n",
       "      <td>0.117113</td>\n",
       "      <td>0.461171</td>\n",
       "      <td>1.504578</td>\n",
       "      <td>0.501309</td>\n",
       "    </tr>\n",
       "    <tr>\n",
       "      <th>std</th>\n",
       "      <td>806.714441</td>\n",
       "      <td>6.620316</td>\n",
       "      <td>3.584353</td>\n",
       "      <td>17869.251507</td>\n",
       "      <td>826.495984</td>\n",
       "      <td>5113.054354</td>\n",
       "      <td>3.486655</td>\n",
       "      <td>0.067479</td>\n",
       "      <td>0.064929</td>\n",
       "      <td>1.115267</td>\n",
       "      <td>0.500002</td>\n",
       "    </tr>\n",
       "    <tr>\n",
       "      <th>min</th>\n",
       "      <td>0.000000</td>\n",
       "      <td>0.000000</td>\n",
       "      <td>1.000000</td>\n",
       "      <td>1.000000</td>\n",
       "      <td>201.000000</td>\n",
       "      <td>1044.000000</td>\n",
       "      <td>1.000000</td>\n",
       "      <td>-0.373631</td>\n",
       "      <td>0.117686</td>\n",
       "      <td>0.000000</td>\n",
       "      <td>0.000000</td>\n",
       "    </tr>\n",
       "    <tr>\n",
       "      <th>25%</th>\n",
       "      <td>40.000000</td>\n",
       "      <td>0.000000</td>\n",
       "      <td>4.000000</td>\n",
       "      <td>57.000000</td>\n",
       "      <td>798.000000</td>\n",
       "      <td>4785.000000</td>\n",
       "      <td>3.000000</td>\n",
       "      <td>0.074728</td>\n",
       "      <td>0.421012</td>\n",
       "      <td>1.000000</td>\n",
       "      <td>0.000000</td>\n",
       "    </tr>\n",
       "    <tr>\n",
       "      <th>50%</th>\n",
       "      <td>95.000000</td>\n",
       "      <td>0.000000</td>\n",
       "      <td>6.000000</td>\n",
       "      <td>241.000000</td>\n",
       "      <td>1130.000000</td>\n",
       "      <td>6801.000000</td>\n",
       "      <td>6.000000</td>\n",
       "      <td>0.115497</td>\n",
       "      <td>0.463336</td>\n",
       "      <td>2.000000</td>\n",
       "      <td>1.000000</td>\n",
       "    </tr>\n",
       "    <tr>\n",
       "      <th>75%</th>\n",
       "      <td>222.000000</td>\n",
       "      <td>2.000000</td>\n",
       "      <td>8.000000</td>\n",
       "      <td>1300.000000</td>\n",
       "      <td>1607.000000</td>\n",
       "      <td>9754.000000</td>\n",
       "      <td>9.000000</td>\n",
       "      <td>0.158415</td>\n",
       "      <td>0.503280</td>\n",
       "      <td>3.000000</td>\n",
       "      <td>1.000000</td>\n",
       "    </tr>\n",
       "    <tr>\n",
       "      <th>max</th>\n",
       "      <td>70000.000000</td>\n",
       "      <td>433.000000</td>\n",
       "      <td>292.000000</td>\n",
       "      <td>268000.000000</td>\n",
       "      <td>17364.000000</td>\n",
       "      <td>100000.000000</td>\n",
       "      <td>12.000000</td>\n",
       "      <td>0.636302</td>\n",
       "      <td>0.782483</td>\n",
       "      <td>3.000000</td>\n",
       "      <td>1.000000</td>\n",
       "    </tr>\n",
       "  </tbody>\n",
       "</table>\n",
       "</div>"
      ],
      "text/plain": [
       "              claps     responses  reading_time  author_followers  \\\n",
       "count  69135.000000  69135.000000  69135.000000      69135.000000   \n",
       "mean     257.153569      1.912938      6.491690       3780.866233   \n",
       "std      806.714441      6.620316      3.584353      17869.251507   \n",
       "min        0.000000      0.000000      1.000000          1.000000   \n",
       "25%       40.000000      0.000000      4.000000         57.000000   \n",
       "50%       95.000000      0.000000      6.000000        241.000000   \n",
       "75%      222.000000      2.000000      8.000000       1300.000000   \n",
       "max    70000.000000    433.000000    292.000000     268000.000000   \n",
       "\n",
       "       number_of_words  number_of_characters         month      polarity  \\\n",
       "count     69135.000000          69135.000000  69135.000000  69135.000000   \n",
       "mean       1314.883633           7971.710103      6.095711      0.117113   \n",
       "std         826.495984           5113.054354      3.486655      0.067479   \n",
       "min         201.000000           1044.000000      1.000000     -0.373631   \n",
       "25%         798.000000           4785.000000      3.000000      0.074728   \n",
       "50%        1130.000000           6801.000000      6.000000      0.115497   \n",
       "75%        1607.000000           9754.000000      9.000000      0.158415   \n",
       "max       17364.000000         100000.000000     12.000000      0.636302   \n",
       "\n",
       "       subjectivity  claps_per_quartile  claps_binary  \n",
       "count  69135.000000        69135.000000  69135.000000  \n",
       "mean       0.461171            1.504578      0.501309  \n",
       "std        0.064929            1.115267      0.500002  \n",
       "min        0.117686            0.000000      0.000000  \n",
       "25%        0.421012            1.000000      0.000000  \n",
       "50%        0.463336            2.000000      1.000000  \n",
       "75%        0.503280            3.000000      1.000000  \n",
       "max        0.782483            3.000000      1.000000  "
      ]
     },
     "execution_count": 16,
     "metadata": {},
     "output_type": "execute_result"
    }
   ],
   "source": [
    "df.describe()"
   ]
  },
  {
   "cell_type": "markdown",
   "id": "ded4349f",
   "metadata": {},
   "source": [
    "------"
   ]
  },
  {
   "cell_type": "markdown",
   "id": "85f5dd43",
   "metadata": {},
   "source": [
    "## Data Pre Processing"
   ]
  },
  {
   "cell_type": "markdown",
   "id": "31d14991",
   "metadata": {},
   "source": [
    "### Selecting X and y for models"
   ]
  },
  {
   "cell_type": "code",
   "execution_count": 17,
   "id": "0623af83",
   "metadata": {
    "ExecuteTime": {
     "end_time": "2022-06-22T13:48:06.353284Z",
     "start_time": "2022-06-22T13:48:06.329756Z"
    }
   },
   "outputs": [
    {
     "data": {
      "text/plain": [
       "array(['towardsdatascience', 'swlh', 'writingcooperative',\n",
       "       'datadriveninvestor', 'uxdesign', 'the-mission', 'startup-grind',\n",
       "       'better-humans', 'better-marketing'], dtype=object)"
      ]
     },
     "execution_count": 17,
     "metadata": {},
     "output_type": "execute_result"
    }
   ],
   "source": [
    "df.publication.unique()\n"
   ]
  },
  {
   "cell_type": "code",
   "execution_count": 18,
   "id": "833968ad",
   "metadata": {
    "ExecuteTime": {
     "end_time": "2022-06-22T13:48:06.410419Z",
     "start_time": "2022-06-22T13:48:06.354339Z"
    }
   },
   "outputs": [],
   "source": [
    "y = df.claps_binary\n"
   ]
  },
  {
   "cell_type": "code",
   "execution_count": 19,
   "id": "c7c16752",
   "metadata": {
    "ExecuteTime": {
     "end_time": "2022-06-22T13:48:06.474954Z",
     "start_time": "2022-06-22T13:48:06.411420Z"
    },
    "scrolled": true
   },
   "outputs": [
    {
     "name": "stdout",
     "output_type": "stream",
     "text": [
      "<class 'pandas.core.frame.DataFrame'>\n",
      "RangeIndex: 69135 entries, 0 to 69134\n",
      "Data columns (total 19 columns):\n",
      " #   Column                Non-Null Count  Dtype  \n",
      "---  ------                --------------  -----  \n",
      " 0   date                  69135 non-null  object \n",
      " 1   title                 69135 non-null  object \n",
      " 2   subtitle              69135 non-null  object \n",
      " 3   claps                 69135 non-null  float64\n",
      " 4   responses             69135 non-null  int64  \n",
      " 5   author_handle         69135 non-null  object \n",
      " 6   story_url             69135 non-null  object \n",
      " 7   reading_time          69135 non-null  int64  \n",
      " 8   text                  69135 non-null  object \n",
      " 9   author_followers      69135 non-null  float64\n",
      " 10  publication           69135 non-null  object \n",
      " 11  number_of_words       69135 non-null  int64  \n",
      " 12  number_of_characters  69135 non-null  int64  \n",
      " 13  day_of_the_week       69135 non-null  object \n",
      " 14  month                 69135 non-null  int64  \n",
      " 15  polarity              69135 non-null  float64\n",
      " 16  subjectivity          69135 non-null  float64\n",
      " 17  claps_per_quartile    69135 non-null  int64  \n",
      " 18  claps_binary          69135 non-null  int64  \n",
      "dtypes: float64(4), int64(7), object(8)\n",
      "memory usage: 10.0+ MB\n"
     ]
    }
   ],
   "source": [
    "df.info()\n"
   ]
  },
  {
   "cell_type": "code",
   "execution_count": 20,
   "id": "77a53002",
   "metadata": {
    "ExecuteTime": {
     "end_time": "2022-06-22T13:48:06.548774Z",
     "start_time": "2022-06-22T13:48:06.476618Z"
    }
   },
   "outputs": [
    {
     "data": {
      "text/html": [
       "<div>\n",
       "<style scoped>\n",
       "    .dataframe tbody tr th:only-of-type {\n",
       "        vertical-align: middle;\n",
       "    }\n",
       "\n",
       "    .dataframe tbody tr th {\n",
       "        vertical-align: top;\n",
       "    }\n",
       "\n",
       "    .dataframe thead th {\n",
       "        text-align: right;\n",
       "    }\n",
       "</style>\n",
       "<table border=\"1\" class=\"dataframe\">\n",
       "  <thead>\n",
       "    <tr style=\"text-align: right;\">\n",
       "      <th></th>\n",
       "      <th>title</th>\n",
       "      <th>text</th>\n",
       "      <th>author_followers</th>\n",
       "      <th>number_of_words</th>\n",
       "      <th>polarity</th>\n",
       "      <th>subjectivity</th>\n",
       "      <th>publication_better-marketing</th>\n",
       "      <th>publication_datadriveninvestor</th>\n",
       "      <th>publication_startup-grind</th>\n",
       "      <th>publication_swlh</th>\n",
       "      <th>...</th>\n",
       "      <th>publication_towardsdatascience</th>\n",
       "      <th>publication_uxdesign</th>\n",
       "      <th>publication_writingcooperative</th>\n",
       "      <th>day_of_the_week_1</th>\n",
       "      <th>day_of_the_week_2</th>\n",
       "      <th>day_of_the_week_3</th>\n",
       "      <th>day_of_the_week_4</th>\n",
       "      <th>day_of_the_week_5</th>\n",
       "      <th>day_of_the_week_6</th>\n",
       "      <th>subtitle_1</th>\n",
       "    </tr>\n",
       "  </thead>\n",
       "  <tbody>\n",
       "    <tr>\n",
       "      <th>0</th>\n",
       "      <td>making python program blazingly fast</td>\n",
       "      <td>making python program blazingly fast let look ...</td>\n",
       "      <td>3800.0</td>\n",
       "      <td>1056</td>\n",
       "      <td>0.049713</td>\n",
       "      <td>0.407731</td>\n",
       "      <td>0</td>\n",
       "      <td>0</td>\n",
       "      <td>0</td>\n",
       "      <td>0</td>\n",
       "      <td>...</td>\n",
       "      <td>1</td>\n",
       "      <td>0</td>\n",
       "      <td>0</td>\n",
       "      <td>0</td>\n",
       "      <td>1</td>\n",
       "      <td>0</td>\n",
       "      <td>0</td>\n",
       "      <td>0</td>\n",
       "      <td>0</td>\n",
       "      <td>1</td>\n",
       "    </tr>\n",
       "    <tr>\n",
       "      <th>1</th>\n",
       "      <td>implementing fully convolutional network fcn t...</td>\n",
       "      <td>understanding implementing fully convolutional...</td>\n",
       "      <td>331.0</td>\n",
       "      <td>2527</td>\n",
       "      <td>0.110434</td>\n",
       "      <td>0.398271</td>\n",
       "      <td>0</td>\n",
       "      <td>0</td>\n",
       "      <td>0</td>\n",
       "      <td>0</td>\n",
       "      <td>...</td>\n",
       "      <td>1</td>\n",
       "      <td>0</td>\n",
       "      <td>0</td>\n",
       "      <td>0</td>\n",
       "      <td>1</td>\n",
       "      <td>0</td>\n",
       "      <td>0</td>\n",
       "      <td>0</td>\n",
       "      <td>0</td>\n",
       "      <td>1</td>\n",
       "    </tr>\n",
       "    <tr>\n",
       "      <th>2</th>\n",
       "      <td>new feature python python newbie</td>\n",
       "      <td>python beginner new feature python python newb...</td>\n",
       "      <td>1700.0</td>\n",
       "      <td>712</td>\n",
       "      <td>0.081111</td>\n",
       "      <td>0.470741</td>\n",
       "      <td>0</td>\n",
       "      <td>0</td>\n",
       "      <td>0</td>\n",
       "      <td>0</td>\n",
       "      <td>...</td>\n",
       "      <td>1</td>\n",
       "      <td>0</td>\n",
       "      <td>0</td>\n",
       "      <td>0</td>\n",
       "      <td>1</td>\n",
       "      <td>0</td>\n",
       "      <td>0</td>\n",
       "      <td>0</td>\n",
       "      <td>0</td>\n",
       "      <td>1</td>\n",
       "    </tr>\n",
       "    <tr>\n",
       "      <th>3</th>\n",
       "      <td>fancy python</td>\n",
       "      <td>fancy python python cool really cool however l...</td>\n",
       "      <td>625.0</td>\n",
       "      <td>607</td>\n",
       "      <td>0.209636</td>\n",
       "      <td>0.480786</td>\n",
       "      <td>0</td>\n",
       "      <td>0</td>\n",
       "      <td>0</td>\n",
       "      <td>0</td>\n",
       "      <td>...</td>\n",
       "      <td>1</td>\n",
       "      <td>0</td>\n",
       "      <td>0</td>\n",
       "      <td>0</td>\n",
       "      <td>1</td>\n",
       "      <td>0</td>\n",
       "      <td>0</td>\n",
       "      <td>0</td>\n",
       "      <td>0</td>\n",
       "      <td>1</td>\n",
       "    </tr>\n",
       "    <tr>\n",
       "      <th>4</th>\n",
       "      <td>scratch search playing data elasticsearch inge...</td>\n",
       "      <td>scratch search playing data elasticsearch inge...</td>\n",
       "      <td>88.0</td>\n",
       "      <td>2158</td>\n",
       "      <td>0.090842</td>\n",
       "      <td>0.435970</td>\n",
       "      <td>0</td>\n",
       "      <td>0</td>\n",
       "      <td>0</td>\n",
       "      <td>0</td>\n",
       "      <td>...</td>\n",
       "      <td>1</td>\n",
       "      <td>0</td>\n",
       "      <td>0</td>\n",
       "      <td>0</td>\n",
       "      <td>1</td>\n",
       "      <td>0</td>\n",
       "      <td>0</td>\n",
       "      <td>0</td>\n",
       "      <td>0</td>\n",
       "      <td>1</td>\n",
       "    </tr>\n",
       "  </tbody>\n",
       "</table>\n",
       "<p>5 rows × 21 columns</p>\n",
       "</div>"
      ],
      "text/plain": [
       "                                               title  \\\n",
       "0               making python program blazingly fast   \n",
       "1  implementing fully convolutional network fcn t...   \n",
       "2                   new feature python python newbie   \n",
       "3                                       fancy python   \n",
       "4  scratch search playing data elasticsearch inge...   \n",
       "\n",
       "                                                text  author_followers  \\\n",
       "0  making python program blazingly fast let look ...            3800.0   \n",
       "1  understanding implementing fully convolutional...             331.0   \n",
       "2  python beginner new feature python python newb...            1700.0   \n",
       "3  fancy python python cool really cool however l...             625.0   \n",
       "4  scratch search playing data elasticsearch inge...              88.0   \n",
       "\n",
       "   number_of_words  polarity  subjectivity  publication_better-marketing  \\\n",
       "0             1056  0.049713      0.407731                             0   \n",
       "1             2527  0.110434      0.398271                             0   \n",
       "2              712  0.081111      0.470741                             0   \n",
       "3              607  0.209636      0.480786                             0   \n",
       "4             2158  0.090842      0.435970                             0   \n",
       "\n",
       "   publication_datadriveninvestor  publication_startup-grind  \\\n",
       "0                               0                          0   \n",
       "1                               0                          0   \n",
       "2                               0                          0   \n",
       "3                               0                          0   \n",
       "4                               0                          0   \n",
       "\n",
       "   publication_swlh  ...  publication_towardsdatascience  \\\n",
       "0                 0  ...                               1   \n",
       "1                 0  ...                               1   \n",
       "2                 0  ...                               1   \n",
       "3                 0  ...                               1   \n",
       "4                 0  ...                               1   \n",
       "\n",
       "   publication_uxdesign  publication_writingcooperative  day_of_the_week_1  \\\n",
       "0                     0                               0                  0   \n",
       "1                     0                               0                  0   \n",
       "2                     0                               0                  0   \n",
       "3                     0                               0                  0   \n",
       "4                     0                               0                  0   \n",
       "\n",
       "   day_of_the_week_2  day_of_the_week_3  day_of_the_week_4  day_of_the_week_5  \\\n",
       "0                  1                  0                  0                  0   \n",
       "1                  1                  0                  0                  0   \n",
       "2                  1                  0                  0                  0   \n",
       "3                  1                  0                  0                  0   \n",
       "4                  1                  0                  0                  0   \n",
       "\n",
       "   day_of_the_week_6  subtitle_1  \n",
       "0                  0           1  \n",
       "1                  0           1  \n",
       "2                  0           1  \n",
       "3                  0           1  \n",
       "4                  0           1  \n",
       "\n",
       "[5 rows x 21 columns]"
      ]
     },
     "execution_count": 20,
     "metadata": {},
     "output_type": "execute_result"
    }
   ],
   "source": [
    "X_ = df[['title', 'text','subtitle', 'author_followers', 'publication', 'number_of_words', 'day_of_the_week', 'polarity', 'subjectivity']]\n",
    "X_ = pd.get_dummies(X_, columns=['publication', 'day_of_the_week', 'subtitle'], drop_first=True)\n",
    "\n",
    "X_.head()"
   ]
  },
  {
   "cell_type": "markdown",
   "id": "6bb533df",
   "metadata": {},
   "source": [
    "------"
   ]
  },
  {
   "cell_type": "markdown",
   "id": "6b067209",
   "metadata": {},
   "source": [
    "### Train test split"
   ]
  },
  {
   "cell_type": "code",
   "execution_count": 21,
   "id": "f6f72c3c",
   "metadata": {
    "ExecuteTime": {
     "end_time": "2022-06-22T13:48:06.666279Z",
     "start_time": "2022-06-22T13:48:06.550098Z"
    }
   },
   "outputs": [
    {
     "name": "stdout",
     "output_type": "stream",
     "text": [
      "(46320, 21)\n",
      "(22815, 21)\n",
      "(46320,)\n",
      "(22815,)\n"
     ]
    }
   ],
   "source": [
    "X_train, X_test, y_train, y_test = train_test_split(X_, y, test_size=0.33, random_state=42, stratify=y)\n",
    "\n",
    "print(X_train.shape)\n",
    "print(X_test.shape)\n",
    "print(y_train.shape)\n",
    "print(y_test.shape)\n"
   ]
  },
  {
   "cell_type": "markdown",
   "id": "36abacbd",
   "metadata": {},
   "source": [
    "### Work on training set"
   ]
  },
  {
   "cell_type": "markdown",
   "id": "efd36fbe",
   "metadata": {},
   "source": [
    "#### Cvec text of training set"
   ]
  },
  {
   "cell_type": "code",
   "execution_count": 22,
   "id": "abcb214b",
   "metadata": {
    "ExecuteTime": {
     "end_time": "2022-06-22T13:49:54.543811Z",
     "start_time": "2022-06-22T13:48:06.667703Z"
    }
   },
   "outputs": [
    {
     "data": {
      "text/plain": [
       "(46320, 1000000)"
      ]
     },
     "execution_count": 22,
     "metadata": {},
     "output_type": "execute_result"
    }
   ],
   "source": [
    "cvec = CountVectorizer(ngram_range=(1,2), max_features=1000000)\n",
    "\n",
    "X_train_text = cvec.fit_transform(X_train.text)\n",
    "X_train_text.shape\n"
   ]
  },
  {
   "cell_type": "markdown",
   "id": "0c092c61",
   "metadata": {},
   "source": [
    "#### Cvec title of training set"
   ]
  },
  {
   "cell_type": "code",
   "execution_count": 23,
   "id": "2531d470",
   "metadata": {
    "ExecuteTime": {
     "end_time": "2022-06-22T13:49:55.245916Z",
     "start_time": "2022-06-22T13:49:54.550326Z"
    }
   },
   "outputs": [
    {
     "data": {
      "text/plain": [
       "(46320, 154499)"
      ]
     },
     "execution_count": 23,
     "metadata": {},
     "output_type": "execute_result"
    }
   ],
   "source": [
    "cvec_2 = CountVectorizer(ngram_range=(1,2))\n",
    "\n",
    "X_train_title = cvec_2.fit_transform(X_train.title)\n",
    "X_train_title.shape\n"
   ]
  },
  {
   "cell_type": "markdown",
   "id": "b6778454",
   "metadata": {},
   "source": [
    "#### Turn remaining columns into sparse matrix form"
   ]
  },
  {
   "cell_type": "code",
   "execution_count": 24,
   "id": "01885a34",
   "metadata": {
    "ExecuteTime": {
     "end_time": "2022-06-22T13:49:55.273503Z",
     "start_time": "2022-06-22T13:49:55.247187Z"
    }
   },
   "outputs": [],
   "source": [
    "train_to_sparse = X_train.drop(['title', 'text'], axis=1)\n",
    "sparse_df_train = scipy.sparse.csr_matrix(train_to_sparse.values)\n"
   ]
  },
  {
   "cell_type": "markdown",
   "id": "dee62f01",
   "metadata": {},
   "source": [
    "#### Merge three train columns together"
   ]
  },
  {
   "cell_type": "code",
   "execution_count": 25,
   "id": "6b103323",
   "metadata": {
    "ExecuteTime": {
     "end_time": "2022-06-22T13:49:56.619448Z",
     "start_time": "2022-06-22T13:49:55.274720Z"
    }
   },
   "outputs": [
    {
     "data": {
      "text/plain": [
       "(46320, 1154518)"
      ]
     },
     "execution_count": 25,
     "metadata": {},
     "output_type": "execute_result"
    }
   ],
   "source": [
    "X_train = scipy.sparse.hstack((X_train_text, X_train_title, sparse_df_train))\n",
    "X_train.shape"
   ]
  },
  {
   "cell_type": "markdown",
   "id": "b366b3f6",
   "metadata": {},
   "source": [
    "-------"
   ]
  },
  {
   "cell_type": "markdown",
   "id": "cf27271c",
   "metadata": {},
   "source": [
    "### Work on test set"
   ]
  },
  {
   "cell_type": "markdown",
   "id": "f57100f8",
   "metadata": {},
   "source": [
    "#### Cvec text of test set"
   ]
  },
  {
   "cell_type": "code",
   "execution_count": 26,
   "id": "c3e9d1bc",
   "metadata": {
    "ExecuteTime": {
     "end_time": "2022-06-22T13:50:21.001543Z",
     "start_time": "2022-06-22T13:49:56.620440Z"
    }
   },
   "outputs": [
    {
     "data": {
      "text/plain": [
       "(22815, 1000000)"
      ]
     },
     "execution_count": 26,
     "metadata": {},
     "output_type": "execute_result"
    }
   ],
   "source": [
    "X_test_text = cvec.transform(X_test.text)\n",
    "X_test_text.shape\n"
   ]
  },
  {
   "cell_type": "markdown",
   "id": "349a6c24",
   "metadata": {},
   "source": [
    "#### Cvec title of test set"
   ]
  },
  {
   "cell_type": "code",
   "execution_count": 27,
   "id": "e1e1032e",
   "metadata": {
    "ExecuteTime": {
     "end_time": "2022-06-22T13:50:21.225527Z",
     "start_time": "2022-06-22T13:50:21.003261Z"
    }
   },
   "outputs": [
    {
     "data": {
      "text/plain": [
       "(22815, 154499)"
      ]
     },
     "execution_count": 27,
     "metadata": {},
     "output_type": "execute_result"
    }
   ],
   "source": [
    "X_test_title = cvec_2.transform(X_test.title)\n",
    "X_test_title.shape\n"
   ]
  },
  {
   "cell_type": "markdown",
   "id": "54e2122b",
   "metadata": {},
   "source": [
    "#### Turn remaining columns into sparse matrix form"
   ]
  },
  {
   "cell_type": "code",
   "execution_count": 28,
   "id": "00c4702e",
   "metadata": {
    "ExecuteTime": {
     "end_time": "2022-06-22T13:50:21.243544Z",
     "start_time": "2022-06-22T13:50:21.226470Z"
    }
   },
   "outputs": [],
   "source": [
    "test_to_sparse = X_test.drop(['title', 'text'], axis=1)\n",
    "sparse_df_test = scipy.sparse.csr_matrix(test_to_sparse.values)\n"
   ]
  },
  {
   "cell_type": "markdown",
   "id": "9d388bc7",
   "metadata": {},
   "source": [
    "#### Merge three train columns together"
   ]
  },
  {
   "cell_type": "code",
   "execution_count": 29,
   "id": "9427b462",
   "metadata": {
    "ExecuteTime": {
     "end_time": "2022-06-22T13:50:21.668990Z",
     "start_time": "2022-06-22T13:50:21.244604Z"
    }
   },
   "outputs": [
    {
     "data": {
      "text/plain": [
       "(22815, 1154518)"
      ]
     },
     "execution_count": 29,
     "metadata": {},
     "output_type": "execute_result"
    }
   ],
   "source": [
    "X_test = scipy.sparse.hstack((X_test_text, X_test_title, sparse_df_test))\n",
    "X_test.shape\n"
   ]
  },
  {
   "cell_type": "code",
   "execution_count": 30,
   "id": "5431c6df",
   "metadata": {
    "ExecuteTime": {
     "end_time": "2022-06-22T13:50:27.112607Z",
     "start_time": "2022-06-22T13:50:21.673187Z"
    }
   },
   "outputs": [],
   "source": [
    "scaler=StandardScaler(with_mean=False)\n",
    "\n",
    "X_train = scaler.fit_transform(X_train)\n",
    "X_test = scaler.transform(X_test)"
   ]
  },
  {
   "cell_type": "code",
   "execution_count": 31,
   "id": "0de3aa65",
   "metadata": {
    "ExecuteTime": {
     "end_time": "2022-06-22T15:36:44.862149Z",
     "start_time": "2022-06-22T15:36:44.860077Z"
    }
   },
   "outputs": [
    {
     "name": "stdout",
     "output_type": "stream",
     "text": [
      "(46320, 1154518)\n",
      "(22815, 1154518)\n"
     ]
    }
   ],
   "source": [
    "print(X_train.shape)\n",
    "print(X_test.shape)"
   ]
  },
  {
   "cell_type": "markdown",
   "id": "e453912c",
   "metadata": {},
   "source": [
    "Adding the string title to each of the token feature names of the title column so that they can be distinguished from the text tokens when interpreting coefficients and feature importance"
   ]
  },
  {
   "cell_type": "code",
   "execution_count": 32,
   "id": "ac24295f",
   "metadata": {
    "ExecuteTime": {
     "end_time": "2022-06-22T13:50:27.268127Z",
     "start_time": "2022-06-22T13:50:27.123096Z"
    }
   },
   "outputs": [
    {
     "data": {
      "text/plain": [
       "['aaa (Title)',\n",
       " 'aaa dilemma (Title)',\n",
       " 'aaa game (Title)',\n",
       " 'aaa testing (Title)',\n",
       " 'aadhaar (Title)',\n",
       " 'aadhaar website (Title)',\n",
       " 'aamas (Title)',\n",
       " 'aamas free (Title)',\n",
       " 'aapl (Title)',\n",
       " 'aapl record (Title)']"
      ]
     },
     "execution_count": 32,
     "metadata": {},
     "output_type": "execute_result"
    }
   ],
   "source": [
    "title_feature_names = [token + ' (Title)' for token in cvec_2.get_feature_names()]\n",
    "title_feature_names[:10]\n"
   ]
  },
  {
   "cell_type": "code",
   "execution_count": 33,
   "id": "6887e88b",
   "metadata": {
    "ExecuteTime": {
     "end_time": "2022-06-22T13:50:29.091444Z",
     "start_time": "2022-06-22T13:50:27.269136Z"
    }
   },
   "outputs": [],
   "source": [
    "feature_names = cvec.get_feature_names() + title_feature_names + list(train_to_sparse.columns)"
   ]
  },
  {
   "cell_type": "markdown",
   "id": "e418b265",
   "metadata": {},
   "source": [
    "## Modelling"
   ]
  },
  {
   "cell_type": "markdown",
   "id": "6dfd2c5f",
   "metadata": {},
   "source": [
    "### Logistic Regression"
   ]
  },
  {
   "cell_type": "code",
   "execution_count": 345,
   "id": "5ca217e9",
   "metadata": {
    "ExecuteTime": {
     "end_time": "2022-06-22T13:53:52.588831Z",
     "start_time": "2022-06-22T13:50:29.092879Z"
    },
    "scrolled": true
   },
   "outputs": [
    {
     "name": "stdout",
     "output_type": "stream",
     "text": [
      "Training Score: 1.0\n",
      "Test Score: 0.6567609029147491\n",
      "Cross Validation Score: [0.66126943 0.65695164 0.66126943 0.66429188 0.65500864]\n",
      "Mean cross Validation Score: 0.6597582037996546\n",
      "Standard Deviation of Cross Validation Score: 0.0033333780769635056\n"
     ]
    }
   ],
   "source": [
    "log_model = LogisticRegression(n_jobs=7, max_iter=5000)\n",
    "log_model.fit(X_train, y_train)\n",
    "\n",
    "cv = cross_val_score(log_model, X_train, y_train, cv=5)\n",
    "\n",
    "print('Training Score:', log_model.score(X_train, y_train))\n",
    "print('Test Score:', log_model.score(X_test, y_test))\n",
    "print('Cross Validation Score:', cv)\n",
    "print('Mean cross Validation Score:', cv.mean())\n",
    "print('Standard Deviation of Cross Validation Score:', cv.std())"
   ]
  },
  {
   "cell_type": "code",
   "execution_count": 346,
   "id": "2708c2f2",
   "metadata": {
    "ExecuteTime": {
     "end_time": "2022-06-22T13:53:52.646624Z",
     "start_time": "2022-06-22T13:53:52.590718Z"
    }
   },
   "outputs": [
    {
     "name": "stdout",
     "output_type": "stream",
     "text": [
      "              precision    recall  f1-score   support\n",
      "\n",
      "           0       0.64      0.70      0.67     11378\n",
      "           1       0.67      0.61      0.64     11437\n",
      "\n",
      "    accuracy                           0.66     22815\n",
      "   macro avg       0.66      0.66      0.66     22815\n",
      "weighted avg       0.66      0.66      0.66     22815\n",
      "\n"
     ]
    }
   ],
   "source": [
    "y_pred = log_model.predict(X_test)\n",
    "\n",
    "print(classification_report(y_test, y_pred))"
   ]
  },
  {
   "cell_type": "code",
   "execution_count": 347,
   "id": "69e66652",
   "metadata": {
    "ExecuteTime": {
     "end_time": "2022-06-22T13:53:53.205990Z",
     "start_time": "2022-06-22T13:53:52.647592Z"
    }
   },
   "outputs": [
    {
     "data": {
      "image/png": "[encoded data removed]",
      "text/plain": [
       "<Figure size 432x288 with 2 Axes>"
      ]
     },
     "metadata": {
      "needs_background": "light"
     },
     "output_type": "display_data"
    }
   ],
   "source": [
    "plot_confusion_matrix(log_model, X_test, y_test, cmap='Blues', labels=[1, 0], values_format='.0f')\n",
    "plt.show()"
   ]
  },
  {
   "cell_type": "markdown",
   "id": "97979f21",
   "metadata": {},
   "source": [
    "#### Model Coefficients"
   ]
  },
  {
   "cell_type": "markdown",
   "id": "0c61cc02",
   "metadata": {},
   "source": [
    "Extracting the absolute value of all the coefficients so we know how much of an influence they have on the target, whether positive or negative."
   ]
  },
  {
   "cell_type": "code",
   "execution_count": null,
   "id": "30944ce0",
   "metadata": {},
   "outputs": [],
   "source": [
    "log_coef = log_model.coef_[0]\n",
    "absolute_values = np.absolute(log_coef)"
   ]
  },
  {
   "cell_type": "code",
   "execution_count": 380,
   "id": "3543d571",
   "metadata": {
    "ExecuteTime": {
     "end_time": "2022-06-22T18:19:59.337520Z",
     "start_time": "2022-06-22T18:19:59.313040Z"
    }
   },
   "outputs": [],
   "source": [
    "def calc_effect(coefs): \n",
    "    effect = []\n",
    "    for item in coefs:\n",
    "        if item > 0:\n",
    "            effect.append('Positive')\n",
    "        elif item < 0:\n",
    "            effect.append('Negative')\n",
    "        else:\n",
    "            effect.append('No Effect')\n",
    "    \n",
    "    return effect"
   ]
  },
  {
   "cell_type": "code",
   "execution_count": 349,
   "id": "dc03e31b",
   "metadata": {
    "ExecuteTime": {
     "end_time": "2022-06-22T13:53:54.221532Z",
     "start_time": "2022-06-22T13:53:53.564832Z"
    }
   },
   "outputs": [
    {
     "data": {
      "text/html": [
       "<div>\n",
       "<style scoped>\n",
       "    .dataframe tbody tr th:only-of-type {\n",
       "        vertical-align: middle;\n",
       "    }\n",
       "\n",
       "    .dataframe tbody tr th {\n",
       "        vertical-align: top;\n",
       "    }\n",
       "\n",
       "    .dataframe thead th {\n",
       "        text-align: right;\n",
       "    }\n",
       "</style>\n",
       "<table border=\"1\" class=\"dataframe\">\n",
       "  <thead>\n",
       "    <tr style=\"text-align: right;\">\n",
       "      <th></th>\n",
       "      <th>feature_names</th>\n",
       "      <th>absolute_coefs</th>\n",
       "      <th>effect</th>\n",
       "    </tr>\n",
       "  </thead>\n",
       "  <tbody>\n",
       "    <tr>\n",
       "      <th>1154503</th>\n",
       "      <td>publication_better-marketing</td>\n",
       "      <td>0.079156</td>\n",
       "      <td>Positive</td>\n",
       "    </tr>\n",
       "    <tr>\n",
       "      <th>1154504</th>\n",
       "      <td>publication_datadriveninvestor</td>\n",
       "      <td>0.075855</td>\n",
       "      <td>Negative</td>\n",
       "    </tr>\n",
       "    <tr>\n",
       "      <th>1154517</th>\n",
       "      <td>subtitle_1</td>\n",
       "      <td>0.064069</td>\n",
       "      <td>Positive</td>\n",
       "    </tr>\n",
       "    <tr>\n",
       "      <th>1154499</th>\n",
       "      <td>author_followers</td>\n",
       "      <td>0.046744</td>\n",
       "      <td>Positive</td>\n",
       "    </tr>\n",
       "    <tr>\n",
       "      <th>1154509</th>\n",
       "      <td>publication_uxdesign</td>\n",
       "      <td>0.032421</td>\n",
       "      <td>Positive</td>\n",
       "    </tr>\n",
       "    <tr>\n",
       "      <th>1154510</th>\n",
       "      <td>publication_writingcooperative</td>\n",
       "      <td>0.031329</td>\n",
       "      <td>Positive</td>\n",
       "    </tr>\n",
       "    <tr>\n",
       "      <th>1145710</th>\n",
       "      <td>ux week (Title)</td>\n",
       "      <td>0.031199</td>\n",
       "      <td>Positive</td>\n",
       "    </tr>\n",
       "    <tr>\n",
       "      <th>1049433</th>\n",
       "      <td>feeling fomo (Title)</td>\n",
       "      <td>0.030186</td>\n",
       "      <td>Negative</td>\n",
       "    </tr>\n",
       "    <tr>\n",
       "      <th>1111933</th>\n",
       "      <td>regret life (Title)</td>\n",
       "      <td>0.022819</td>\n",
       "      <td>Negative</td>\n",
       "    </tr>\n",
       "    <tr>\n",
       "      <th>1081213</th>\n",
       "      <td>manage chronic (Title)</td>\n",
       "      <td>0.022033</td>\n",
       "      <td>Positive</td>\n",
       "    </tr>\n",
       "    <tr>\n",
       "      <th>1096869</th>\n",
       "      <td>pain diet (Title)</td>\n",
       "      <td>0.022033</td>\n",
       "      <td>Positive</td>\n",
       "    </tr>\n",
       "    <tr>\n",
       "      <th>1128075</th>\n",
       "      <td>step help (Title)</td>\n",
       "      <td>0.021529</td>\n",
       "      <td>Negative</td>\n",
       "    </tr>\n",
       "    <tr>\n",
       "      <th>1152714</th>\n",
       "      <td>writing (Title)</td>\n",
       "      <td>0.019775</td>\n",
       "      <td>Positive</td>\n",
       "    </tr>\n",
       "    <tr>\n",
       "      <th>988608</th>\n",
       "      <td>writer</td>\n",
       "      <td>0.019512</td>\n",
       "      <td>Positive</td>\n",
       "    </tr>\n",
       "    <tr>\n",
       "      <th>1079551</th>\n",
       "      <td>love data (Title)</td>\n",
       "      <td>0.018979</td>\n",
       "      <td>Positive</td>\n",
       "    </tr>\n",
       "    <tr>\n",
       "      <th>1035459</th>\n",
       "      <td>design (Title)</td>\n",
       "      <td>0.018864</td>\n",
       "      <td>Positive</td>\n",
       "    </tr>\n",
       "    <tr>\n",
       "      <th>1014232</th>\n",
       "      <td>bitcoinblockchain journey (Title)</td>\n",
       "      <td>0.018762</td>\n",
       "      <td>Positive</td>\n",
       "    </tr>\n",
       "    <tr>\n",
       "      <th>1014231</th>\n",
       "      <td>bitcoinblockchain (Title)</td>\n",
       "      <td>0.018762</td>\n",
       "      <td>Positive</td>\n",
       "    </tr>\n",
       "    <tr>\n",
       "      <th>1040982</th>\n",
       "      <td>earning read (Title)</td>\n",
       "      <td>0.018497</td>\n",
       "      <td>Negative</td>\n",
       "    </tr>\n",
       "    <tr>\n",
       "      <th>1084153</th>\n",
       "      <td>medium vocal (Title)</td>\n",
       "      <td>0.018497</td>\n",
       "      <td>Negative</td>\n",
       "    </tr>\n",
       "    <tr>\n",
       "      <th>987508</th>\n",
       "      <td>write</td>\n",
       "      <td>0.018401</td>\n",
       "      <td>Positive</td>\n",
       "    </tr>\n",
       "    <tr>\n",
       "      <th>989561</th>\n",
       "      <td>writing</td>\n",
       "      <td>0.018394</td>\n",
       "      <td>Positive</td>\n",
       "    </tr>\n",
       "    <tr>\n",
       "      <th>1108316</th>\n",
       "      <td>quandl webinar (Title)</td>\n",
       "      <td>0.017524</td>\n",
       "      <td>Positive</td>\n",
       "    </tr>\n",
       "    <tr>\n",
       "      <th>390519</th>\n",
       "      <td>here</td>\n",
       "      <td>0.017303</td>\n",
       "      <td>Positive</td>\n",
       "    </tr>\n",
       "    <tr>\n",
       "      <th>1111864</th>\n",
       "      <td>regression numpy (Title)</td>\n",
       "      <td>0.017034</td>\n",
       "      <td>Negative</td>\n",
       "    </tr>\n",
       "    <tr>\n",
       "      <th>1072757</th>\n",
       "      <td>kind priority (Title)</td>\n",
       "      <td>0.016834</td>\n",
       "      <td>Positive</td>\n",
       "    </tr>\n",
       "    <tr>\n",
       "      <th>1068944</th>\n",
       "      <td>interview checklist (Title)</td>\n",
       "      <td>0.016466</td>\n",
       "      <td>Positive</td>\n",
       "    </tr>\n",
       "    <tr>\n",
       "      <th>1036003</th>\n",
       "      <td>designer (Title)</td>\n",
       "      <td>0.016436</td>\n",
       "      <td>Positive</td>\n",
       "    </tr>\n",
       "    <tr>\n",
       "      <th>576360</th>\n",
       "      <td>next commerce</td>\n",
       "      <td>0.016353</td>\n",
       "      <td>Negative</td>\n",
       "    </tr>\n",
       "    <tr>\n",
       "      <th>1107396</th>\n",
       "      <td>python (Title)</td>\n",
       "      <td>0.015790</td>\n",
       "      <td>Positive</td>\n",
       "    </tr>\n",
       "  </tbody>\n",
       "</table>\n",
       "</div>"
      ],
      "text/plain": [
       "                             feature_names  absolute_coefs    effect\n",
       "1154503       publication_better-marketing        0.079156  Positive\n",
       "1154504     publication_datadriveninvestor        0.075855  Negative\n",
       "1154517                         subtitle_1        0.064069  Positive\n",
       "1154499                   author_followers        0.046744  Positive\n",
       "1154509               publication_uxdesign        0.032421  Positive\n",
       "1154510     publication_writingcooperative        0.031329  Positive\n",
       "1145710                    ux week (Title)        0.031199  Positive\n",
       "1049433               feeling fomo (Title)        0.030186  Negative\n",
       "1111933                regret life (Title)        0.022819  Negative\n",
       "1081213             manage chronic (Title)        0.022033  Positive\n",
       "1096869                  pain diet (Title)        0.022033  Positive\n",
       "1128075                  step help (Title)        0.021529  Negative\n",
       "1152714                    writing (Title)        0.019775  Positive\n",
       "988608                              writer        0.019512  Positive\n",
       "1079551                  love data (Title)        0.018979  Positive\n",
       "1035459                     design (Title)        0.018864  Positive\n",
       "1014232  bitcoinblockchain journey (Title)        0.018762  Positive\n",
       "1014231          bitcoinblockchain (Title)        0.018762  Positive\n",
       "1040982               earning read (Title)        0.018497  Negative\n",
       "1084153               medium vocal (Title)        0.018497  Negative\n",
       "987508                               write        0.018401  Positive\n",
       "989561                             writing        0.018394  Positive\n",
       "1108316             quandl webinar (Title)        0.017524  Positive\n",
       "390519                                here        0.017303  Positive\n",
       "1111864           regression numpy (Title)        0.017034  Negative\n",
       "1072757              kind priority (Title)        0.016834  Positive\n",
       "1068944        interview checklist (Title)        0.016466  Positive\n",
       "1036003                   designer (Title)        0.016436  Positive\n",
       "576360                       next commerce        0.016353  Negative\n",
       "1107396                     python (Title)        0.015790  Positive"
      ]
     },
     "execution_count": 349,
     "metadata": {},
     "output_type": "execute_result"
    }
   ],
   "source": [
    "dict_features = {'feature_names': feature_names,\n",
    "                 'absolute_coefs': absolute_values, 'effect': effect}\n",
    "log_coefs_absolute = pd.DataFrame(dict_features).sort_values(\n",
    "    'absolute_coefs', ascending=False).head(30)\n",
    "log_coefs_absolute"
   ]
  },
  {
   "cell_type": "markdown",
   "id": "1b6294ec",
   "metadata": {},
   "source": [
    "------"
   ]
  },
  {
   "cell_type": "markdown",
   "id": "f4d53b8c",
   "metadata": {},
   "source": [
    "The presence of a these features will result in an increase or decrease of logit(p) of the value of the coefficients. Where logit(p) is log(p/1-p). and p is the probability of Y being class 1. \n",
    "\n",
    "Y can take two values, either 0 or 1. P{Y=1} is called the probability of success. Hence logit(p) = log(P{Y=1}/P{Y=0}). This is called the log-odds ratio.\n",
    "\n",
    "Hence a 1 unit increase in X₁ (or in this case, the presence of the feature) will result in b increase in the log-odds ratio of success : failure.\n",
    "\n",
    "The log-odds ratio is simply the logarithm of the odds ratio. The reason logarithm is introduced is simply because the logarithmic function will yield a lovely normal distribution while shrinking extremely large values of P{Y=1}/P{Y=0}. Also, the logarithmic function is monotonically increasing, so it won’t ruin the order of the original sequence of numbers.\n",
    "\n",
    "Lets take the case of having python in the title: It will result in a 1.036517 increase in logit(p) or log(p/1-p). Now, if log(p/1–p) increases by 1.036517, that means that p/(1 — p) will increase by exp(1.036517) = 2.81.\n",
    "\n",
    "This is a 181% increase in the odds of belonging to class 1, i.e having an amount of claps higher than 95 (assuming that the variable female remains fixed).\n"
   ]
  },
  {
   "cell_type": "code",
   "execution_count": 350,
   "id": "efe4808d",
   "metadata": {
    "ExecuteTime": {
     "end_time": "2022-06-22T13:53:54.365318Z",
     "start_time": "2022-06-22T13:53:54.222324Z"
    }
   },
   "outputs": [
    {
     "data": {
      "application/vnd.plotly.v1+json": {
       "config": {
        "plotlyServerURL": "https://plot.ly"
       },
       "data": [
        {
         "alignmentgroup": "True",
         "hovertemplate": "effect=Positive<br>absolute_coefs=%{x}<br>feature_names=%{y}<extra></extra>",
         "legendgroup": "Positive",
         "marker": {
          "color": "#636efa",
          "pattern": {
           "shape": ""
          }
         },
         "name": "Positive",
         "offsetgroup": "Positive",
         "orientation": "h",
         "showlegend": true,
         "textposition": "auto",
         "type": "bar",
         "x": [
          0.07915566865881889,
          0.06406938431053644,
          0.04674383022375643,
          0.03242072705606248,
          0.031329151579381195,
          0.03119909599019916,
          0.02203307375177168,
          0.02203307375177168,
          0.019775420553216776,
          0.019511715097877164,
          0.0189787727028441,
          0.01886415295960875,
          0.01876151909735844,
          0.01876151909735844,
          0.018400620760621017,
          0.018393689771181786,
          0.01752353510787771,
          0.017302625564047127,
          0.01683381275348457,
          0.016466142392666184,
          0.016435548743186527,
          0.015790087867319873
         ],
         "xaxis": "x",
         "y": [
          "publication_better-marketing",
          "subtitle_1",
          "author_followers",
          "publication_uxdesign",
          "publication_writingcooperative",
          "ux week (Title)",
          "manage chronic (Title)",
          "pain diet (Title)",
          "writing (Title)",
          "writer",
          "love data (Title)",
          "design (Title)",
          "bitcoinblockchain journey (Title)",
          "bitcoinblockchain (Title)",
          "write",
          "writing",
          "quandl webinar (Title)",
          "here",
          "kind priority (Title)",
          "interview checklist (Title)",
          "designer (Title)",
          "python (Title)"
         ],
         "yaxis": "y"
        },
        {
         "alignmentgroup": "True",
         "hovertemplate": "effect=Negative<br>absolute_coefs=%{x}<br>feature_names=%{y}<extra></extra>",
         "legendgroup": "Negative",
         "marker": {
          "color": "#EF553B",
          "pattern": {
           "shape": ""
          }
         },
         "name": "Negative",
         "offsetgroup": "Negative",
         "orientation": "h",
         "showlegend": true,
         "textposition": "auto",
         "type": "bar",
         "x": [
          0.07585515648279113,
          0.030186379741893695,
          0.022818681853441915,
          0.021529098055594213,
          0.01849660222066811,
          0.01849660222066811,
          0.017033726897381096,
          0.01635342424412951
         ],
         "xaxis": "x",
         "y": [
          "publication_datadriveninvestor",
          "feeling fomo (Title)",
          "regret life (Title)",
          "step help (Title)",
          "earning read (Title)",
          "medium vocal (Title)",
          "regression numpy (Title)",
          "next commerce"
         ],
         "yaxis": "y"
        }
       ],
       "layout": {
        "barmode": "relative",
        "height": 800,
        "legend": {
         "title": {
          "text": "effect"
         },
         "tracegroupgap": 0
        },
        "template": {
         "data": {
          "bar": [
           {
            "error_x": {
             "color": "#2a3f5f"
            },
            "error_y": {
             "color": "#2a3f5f"
            },
            "marker": {
             "line": {
              "color": "#E5ECF6",
              "width": 0.5
             },
             "pattern": {
              "fillmode": "overlay",
              "size": 10,
              "solidity": 0.2
             }
            },
            "type": "bar"
           }
          ],
          "barpolar": [
           {
            "marker": {
             "line": {
              "color": "#E5ECF6",
              "width": 0.5
             },
             "pattern": {
              "fillmode": "overlay",
              "size": 10,
              "solidity": 0.2
             }
            },
            "type": "barpolar"
           }
          ],
          "carpet": [
           {
            "aaxis": {
             "endlinecolor": "#2a3f5f",
             "gridcolor": "white",
             "linecolor": "white",
             "minorgridcolor": "white",
             "startlinecolor": "#2a3f5f"
            },
            "baxis": {
             "endlinecolor": "#2a3f5f",
             "gridcolor": "white",
             "linecolor": "white",
             "minorgridcolor": "white",
             "startlinecolor": "#2a3f5f"
            },
            "type": "carpet"
           }
          ],
          "choropleth": [
           {
            "colorbar": {
             "outlinewidth": 0,
             "ticks": ""
            },
            "type": "choropleth"
           }
          ],
          "contour": [
           {
            "colorbar": {
             "outlinewidth": 0,
             "ticks": ""
            },
            "colorscale": [
             [
              0,
              "#0d0887"
             ],
             [
              0.1111111111111111,
              "#46039f"
             ],
             [
              0.2222222222222222,
              "#7201a8"
             ],
             [
              0.3333333333333333,
              "#9c179e"
             ],
             [
              0.4444444444444444,
              "#bd3786"
             ],
             [
              0.5555555555555556,
              "#d8576b"
             ],
             [
              0.6666666666666666,
              "#ed7953"
             ],
             [
              0.7777777777777778,
              "#fb9f3a"
             ],
             [
              0.8888888888888888,
              "#fdca26"
             ],
             [
              1,
              "#f0f921"
             ]
            ],
            "type": "contour"
           }
          ],
          "contourcarpet": [
           {
            "colorbar": {
             "outlinewidth": 0,
             "ticks": ""
            },
            "type": "contourcarpet"
           }
          ],
          "heatmap": [
           {
            "colorbar": {
             "outlinewidth": 0,
             "ticks": ""
            },
            "colorscale": [
             [
              0,
              "#0d0887"
             ],
             [
              0.1111111111111111,
              "#46039f"
             ],
             [
              0.2222222222222222,
              "#7201a8"
             ],
             [
              0.3333333333333333,
              "#9c179e"
             ],
             [
              0.4444444444444444,
              "#bd3786"
             ],
             [
              0.5555555555555556,
              "#d8576b"
             ],
             [
              0.6666666666666666,
              "#ed7953"
             ],
             [
              0.7777777777777778,
              "#fb9f3a"
             ],
             [
              0.8888888888888888,
              "#fdca26"
             ],
             [
              1,
              "#f0f921"
             ]
            ],
            "type": "heatmap"
           }
          ],
          "heatmapgl": [
           {
            "colorbar": {
             "outlinewidth": 0,
             "ticks": ""
            },
            "colorscale": [
             [
              0,
              "#0d0887"
             ],
             [
              0.1111111111111111,
              "#46039f"
             ],
             [
              0.2222222222222222,
              "#7201a8"
             ],
             [
              0.3333333333333333,
              "#9c179e"
             ],
             [
              0.4444444444444444,
              "#bd3786"
             ],
             [
              0.5555555555555556,
              "#d8576b"
             ],
             [
              0.6666666666666666,
              "#ed7953"
             ],
             [
              0.7777777777777778,
              "#fb9f3a"
             ],
             [
              0.8888888888888888,
              "#fdca26"
             ],
             [
              1,
              "#f0f921"
             ]
            ],
            "type": "heatmapgl"
           }
          ],
          "histogram": [
           {
            "marker": {
             "pattern": {
              "fillmode": "overlay",
              "size": 10,
              "solidity": 0.2
             }
            },
            "type": "histogram"
           }
          ],
          "histogram2d": [
           {
            "colorbar": {
             "outlinewidth": 0,
             "ticks": ""
            },
            "colorscale": [
             [
              0,
              "#0d0887"
             ],
             [
              0.1111111111111111,
              "#46039f"
             ],
             [
              0.2222222222222222,
              "#7201a8"
             ],
             [
              0.3333333333333333,
              "#9c179e"
             ],
             [
              0.4444444444444444,
              "#bd3786"
             ],
             [
              0.5555555555555556,
              "#d8576b"
             ],
             [
              0.6666666666666666,
              "#ed7953"
             ],
             [
              0.7777777777777778,
              "#fb9f3a"
             ],
             [
              0.8888888888888888,
              "#fdca26"
             ],
             [
              1,
              "#f0f921"
             ]
            ],
            "type": "histogram2d"
           }
          ],
          "histogram2dcontour": [
           {
            "colorbar": {
             "outlinewidth": 0,
             "ticks": ""
            },
            "colorscale": [
             [
              0,
              "#0d0887"
             ],
             [
              0.1111111111111111,
              "#46039f"
             ],
             [
              0.2222222222222222,
              "#7201a8"
             ],
             [
              0.3333333333333333,
              "#9c179e"
             ],
             [
              0.4444444444444444,
              "#bd3786"
             ],
             [
              0.5555555555555556,
              "#d8576b"
             ],
             [
              0.6666666666666666,
              "#ed7953"
             ],
             [
              0.7777777777777778,
              "#fb9f3a"
             ],
             [
              0.8888888888888888,
              "#fdca26"
             ],
             [
              1,
              "#f0f921"
             ]
            ],
            "type": "histogram2dcontour"
           }
          ],
          "mesh3d": [
           {
            "colorbar": {
             "outlinewidth": 0,
             "ticks": ""
            },
            "type": "mesh3d"
           }
          ],
          "parcoords": [
           {
            "line": {
             "colorbar": {
              "outlinewidth": 0,
              "ticks": ""
             }
            },
            "type": "parcoords"
           }
          ],
          "pie": [
           {
            "automargin": true,
            "type": "pie"
           }
          ],
          "scatter": [
           {
            "fillpattern": {
             "fillmode": "overlay",
             "size": 10,
             "solidity": 0.2
            },
            "type": "scatter"
           }
          ],
          "scatter3d": [
           {
            "line": {
             "colorbar": {
              "outlinewidth": 0,
              "ticks": ""
             }
            },
            "marker": {
             "colorbar": {
              "outlinewidth": 0,
              "ticks": ""
             }
            },
            "type": "scatter3d"
           }
          ],
          "scattercarpet": [
           {
            "marker": {
             "colorbar": {
              "outlinewidth": 0,
              "ticks": ""
             }
            },
            "type": "scattercarpet"
           }
          ],
          "scattergeo": [
           {
            "marker": {
             "colorbar": {
              "outlinewidth": 0,
              "ticks": ""
             }
            },
            "type": "scattergeo"
           }
          ],
          "scattergl": [
           {
            "marker": {
             "colorbar": {
              "outlinewidth": 0,
              "ticks": ""
             }
            },
            "type": "scattergl"
           }
          ],
          "scattermapbox": [
           {
            "marker": {
             "colorbar": {
              "outlinewidth": 0,
              "ticks": ""
             }
            },
            "type": "scattermapbox"
           }
          ],
          "scatterpolar": [
           {
            "marker": {
             "colorbar": {
              "outlinewidth": 0,
              "ticks": ""
             }
            },
            "type": "scatterpolar"
           }
          ],
          "scatterpolargl": [
           {
            "marker": {
             "colorbar": {
              "outlinewidth": 0,
              "ticks": ""
             }
            },
            "type": "scatterpolargl"
           }
          ],
          "scatterternary": [
           {
            "marker": {
             "colorbar": {
              "outlinewidth": 0,
              "ticks": ""
             }
            },
            "type": "scatterternary"
           }
          ],
          "surface": [
           {
            "colorbar": {
             "outlinewidth": 0,
             "ticks": ""
            },
            "colorscale": [
             [
              0,
              "#0d0887"
             ],
             [
              0.1111111111111111,
              "#46039f"
             ],
             [
              0.2222222222222222,
              "#7201a8"
             ],
             [
              0.3333333333333333,
              "#9c179e"
             ],
             [
              0.4444444444444444,
              "#bd3786"
             ],
             [
              0.5555555555555556,
              "#d8576b"
             ],
             [
              0.6666666666666666,
              "#ed7953"
             ],
             [
              0.7777777777777778,
              "#fb9f3a"
             ],
             [
              0.8888888888888888,
              "#fdca26"
             ],
             [
              1,
              "#f0f921"
             ]
            ],
            "type": "surface"
           }
          ],
          "table": [
           {
            "cells": {
             "fill": {
              "color": "#EBF0F8"
             },
             "line": {
              "color": "white"
             }
            },
            "header": {
             "fill": {
              "color": "#C8D4E3"
             },
             "line": {
              "color": "white"
             }
            },
            "type": "table"
           }
          ]
         },
         "layout": {
          "annotationdefaults": {
           "arrowcolor": "#2a3f5f",
           "arrowhead": 0,
           "arrowwidth": 1
          },
          "autotypenumbers": "strict",
          "coloraxis": {
           "colorbar": {
            "outlinewidth": 0,
            "ticks": ""
           }
          },
          "colorscale": {
           "diverging": [
            [
             0,
             "#8e0152"
            ],
            [
             0.1,
             "#c51b7d"
            ],
            [
             0.2,
             "#de77ae"
            ],
            [
             0.3,
             "#f1b6da"
            ],
            [
             0.4,
             "#fde0ef"
            ],
            [
             0.5,
             "#f7f7f7"
            ],
            [
             0.6,
             "#e6f5d0"
            ],
            [
             0.7,
             "#b8e186"
            ],
            [
             0.8,
             "#7fbc41"
            ],
            [
             0.9,
             "#4d9221"
            ],
            [
             1,
             "#276419"
            ]
           ],
           "sequential": [
            [
             0,
             "#0d0887"
            ],
            [
             0.1111111111111111,
             "#46039f"
            ],
            [
             0.2222222222222222,
             "#7201a8"
            ],
            [
             0.3333333333333333,
             "#9c179e"
            ],
            [
             0.4444444444444444,
             "#bd3786"
            ],
            [
             0.5555555555555556,
             "#d8576b"
            ],
            [
             0.6666666666666666,
             "#ed7953"
            ],
            [
             0.7777777777777778,
             "#fb9f3a"
            ],
            [
             0.8888888888888888,
             "#fdca26"
            ],
            [
             1,
             "#f0f921"
            ]
           ],
           "sequentialminus": [
            [
             0,
             "#0d0887"
            ],
            [
             0.1111111111111111,
             "#46039f"
            ],
            [
             0.2222222222222222,
             "#7201a8"
            ],
            [
             0.3333333333333333,
             "#9c179e"
            ],
            [
             0.4444444444444444,
             "#bd3786"
            ],
            [
             0.5555555555555556,
             "#d8576b"
            ],
            [
             0.6666666666666666,
             "#ed7953"
            ],
            [
             0.7777777777777778,
             "#fb9f3a"
            ],
            [
             0.8888888888888888,
             "#fdca26"
            ],
            [
             1,
             "#f0f921"
            ]
           ]
          },
          "colorway": [
           "#636efa",
           "#EF553B",
           "#00cc96",
           "#ab63fa",
           "#FFA15A",
           "#19d3f3",
           "#FF6692",
           "#B6E880",
           "#FF97FF",
           "#FECB52"
          ],
          "font": {
           "color": "#2a3f5f"
          },
          "geo": {
           "bgcolor": "white",
           "lakecolor": "white",
           "landcolor": "#E5ECF6",
           "showlakes": true,
           "showland": true,
           "subunitcolor": "white"
          },
          "hoverlabel": {
           "align": "left"
          },
          "hovermode": "closest",
          "mapbox": {
           "style": "light"
          },
          "paper_bgcolor": "white",
          "plot_bgcolor": "#E5ECF6",
          "polar": {
           "angularaxis": {
            "gridcolor": "white",
            "linecolor": "white",
            "ticks": ""
           },
           "bgcolor": "#E5ECF6",
           "radialaxis": {
            "gridcolor": "white",
            "linecolor": "white",
            "ticks": ""
           }
          },
          "scene": {
           "xaxis": {
            "backgroundcolor": "#E5ECF6",
            "gridcolor": "white",
            "gridwidth": 2,
            "linecolor": "white",
            "showbackground": true,
            "ticks": "",
            "zerolinecolor": "white"
           },
           "yaxis": {
            "backgroundcolor": "#E5ECF6",
            "gridcolor": "white",
            "gridwidth": 2,
            "linecolor": "white",
            "showbackground": true,
            "ticks": "",
            "zerolinecolor": "white"
           },
           "zaxis": {
            "backgroundcolor": "#E5ECF6",
            "gridcolor": "white",
            "gridwidth": 2,
            "linecolor": "white",
            "showbackground": true,
            "ticks": "",
            "zerolinecolor": "white"
           }
          },
          "shapedefaults": {
           "line": {
            "color": "#2a3f5f"
           }
          },
          "ternary": {
           "aaxis": {
            "gridcolor": "white",
            "linecolor": "white",
            "ticks": ""
           },
           "baxis": {
            "gridcolor": "white",
            "linecolor": "white",
            "ticks": ""
           },
           "bgcolor": "#E5ECF6",
           "caxis": {
            "gridcolor": "white",
            "linecolor": "white",
            "ticks": ""
           }
          },
          "title": {
           "x": 0.05
          },
          "xaxis": {
           "automargin": true,
           "gridcolor": "white",
           "linecolor": "white",
           "ticks": "",
           "title": {
            "standoff": 15
           },
           "zerolinecolor": "white",
           "zerolinewidth": 2
          },
          "yaxis": {
           "automargin": true,
           "gridcolor": "white",
           "linecolor": "white",
           "ticks": "",
           "title": {
            "standoff": 15
           },
           "zerolinecolor": "white",
           "zerolinewidth": 2
          }
         }
        },
        "title": {
         "text": "Absolute coefficients"
        },
        "width": 700,
        "xaxis": {
         "anchor": "y",
         "autorange": true,
         "domain": [
          0,
          1
         ],
         "range": [
          0,
          0.08332175648296725
         ],
         "title": {
          "text": "absolute_coefs"
         },
         "type": "linear"
        },
        "yaxis": {
         "anchor": "x",
         "autorange": true,
         "domain": [
          0,
          1
         ],
         "range": [
          -0.5,
          29.5
         ],
         "title": {
          "text": "feature_names"
         },
         "type": "category"
        }
       }
      },
      "text/html": [
       "<div>                            <div id=\"c12e0766-7087-4bae-ac65-a372c2129ffb\" class=\"plotly-graph-div\" style=\"height:800px; width:700px;\"></div>            <script type=\"text/javascript\">                require([\"plotly\"], function(Plotly) {                    window.PLOTLYENV=window.PLOTLYENV || {};                                    if (document.getElementById(\"c12e0766-7087-4bae-ac65-a372c2129ffb\")) {                    Plotly.newPlot(                        \"c12e0766-7087-4bae-ac65-a372c2129ffb\",                        [{\"alignmentgroup\":\"True\",\"hovertemplate\":\"effect=Positive<br>absolute_coefs=%{x}<br>feature_names=%{y}<extra></extra>\",\"legendgroup\":\"Positive\",\"marker\":{\"color\":\"#636efa\",\"pattern\":{\"shape\":\"\"}},\"name\":\"Positive\",\"offsetgroup\":\"Positive\",\"orientation\":\"h\",\"showlegend\":true,\"textposition\":\"auto\",\"x\":[0.07915566865881889,0.06406938431053644,0.04674383022375643,0.03242072705606248,0.031329151579381195,0.03119909599019916,0.02203307375177168,0.02203307375177168,0.019775420553216776,0.019511715097877164,0.0189787727028441,0.01886415295960875,0.01876151909735844,0.01876151909735844,0.018400620760621017,0.018393689771181786,0.01752353510787771,0.017302625564047127,0.01683381275348457,0.016466142392666184,0.016435548743186527,0.015790087867319873],\"xaxis\":\"x\",\"y\":[\"publication_better-marketing\",\"subtitle_1\",\"author_followers\",\"publication_uxdesign\",\"publication_writingcooperative\",\"ux week (Title)\",\"manage chronic (Title)\",\"pain diet (Title)\",\"writing (Title)\",\"writer\",\"love data (Title)\",\"design (Title)\",\"bitcoinblockchain journey (Title)\",\"bitcoinblockchain (Title)\",\"write\",\"writing\",\"quandl webinar (Title)\",\"here\",\"kind priority (Title)\",\"interview checklist (Title)\",\"designer (Title)\",\"python (Title)\"],\"yaxis\":\"y\",\"type\":\"bar\"},{\"alignmentgroup\":\"True\",\"hovertemplate\":\"effect=Negative<br>absolute_coefs=%{x}<br>feature_names=%{y}<extra></extra>\",\"legendgroup\":\"Negative\",\"marker\":{\"color\":\"#EF553B\",\"pattern\":{\"shape\":\"\"}},\"name\":\"Negative\",\"offsetgroup\":\"Negative\",\"orientation\":\"h\",\"showlegend\":true,\"textposition\":\"auto\",\"x\":[0.07585515648279113,0.030186379741893695,0.022818681853441915,0.021529098055594213,0.01849660222066811,0.01849660222066811,0.017033726897381096,0.01635342424412951],\"xaxis\":\"x\",\"y\":[\"publication_datadriveninvestor\",\"feeling fomo (Title)\",\"regret life (Title)\",\"step help (Title)\",\"earning read (Title)\",\"medium vocal (Title)\",\"regression numpy (Title)\",\"next commerce\"],\"yaxis\":\"y\",\"type\":\"bar\"}],                        {\"template\":{\"data\":{\"histogram2dcontour\":[{\"type\":\"histogram2dcontour\",\"colorbar\":{\"outlinewidth\":0,\"ticks\":\"\"},\"colorscale\":[[0.0,\"#0d0887\"],[0.1111111111111111,\"#46039f\"],[0.2222222222222222,\"#7201a8\"],[0.3333333333333333,\"#9c179e\"],[0.4444444444444444,\"#bd3786\"],[0.5555555555555556,\"#d8576b\"],[0.6666666666666666,\"#ed7953\"],[0.7777777777777778,\"#fb9f3a\"],[0.8888888888888888,\"#fdca26\"],[1.0,\"#f0f921\"]]}],\"choropleth\":[{\"type\":\"choropleth\",\"colorbar\":{\"outlinewidth\":0,\"ticks\":\"\"}}],\"histogram2d\":[{\"type\":\"histogram2d\",\"colorbar\":{\"outlinewidth\":0,\"ticks\":\"\"},\"colorscale\":[[0.0,\"#0d0887\"],[0.1111111111111111,\"#46039f\"],[0.2222222222222222,\"#7201a8\"],[0.3333333333333333,\"#9c179e\"],[0.4444444444444444,\"#bd3786\"],[0.5555555555555556,\"#d8576b\"],[0.6666666666666666,\"#ed7953\"],[0.7777777777777778,\"#fb9f3a\"],[0.8888888888888888,\"#fdca26\"],[1.0,\"#f0f921\"]]}],\"heatmap\":[{\"type\":\"heatmap\",\"colorbar\":{\"outlinewidth\":0,\"ticks\":\"\"},\"colorscale\":[[0.0,\"#0d0887\"],[0.1111111111111111,\"#46039f\"],[0.2222222222222222,\"#7201a8\"],[0.3333333333333333,\"#9c179e\"],[0.4444444444444444,\"#bd3786\"],[0.5555555555555556,\"#d8576b\"],[0.6666666666666666,\"#ed7953\"],[0.7777777777777778,\"#fb9f3a\"],[0.8888888888888888,\"#fdca26\"],[1.0,\"#f0f921\"]]}],\"heatmapgl\":[{\"type\":\"heatmapgl\",\"colorbar\":{\"outlinewidth\":0,\"ticks\":\"\"},\"colorscale\":[[0.0,\"#0d0887\"],[0.1111111111111111,\"#46039f\"],[0.2222222222222222,\"#7201a8\"],[0.3333333333333333,\"#9c179e\"],[0.4444444444444444,\"#bd3786\"],[0.5555555555555556,\"#d8576b\"],[0.6666666666666666,\"#ed7953\"],[0.7777777777777778,\"#fb9f3a\"],[0.8888888888888888,\"#fdca26\"],[1.0,\"#f0f921\"]]}],\"contourcarpet\":[{\"type\":\"contourcarpet\",\"colorbar\":{\"outlinewidth\":0,\"ticks\":\"\"}}],\"contour\":[{\"type\":\"contour\",\"colorbar\":{\"outlinewidth\":0,\"ticks\":\"\"},\"colorscale\":[[0.0,\"#0d0887\"],[0.1111111111111111,\"#46039f\"],[0.2222222222222222,\"#7201a8\"],[0.3333333333333333,\"#9c179e\"],[0.4444444444444444,\"#bd3786\"],[0.5555555555555556,\"#d8576b\"],[0.6666666666666666,\"#ed7953\"],[0.7777777777777778,\"#fb9f3a\"],[0.8888888888888888,\"#fdca26\"],[1.0,\"#f0f921\"]]}],\"surface\":[{\"type\":\"surface\",\"colorbar\":{\"outlinewidth\":0,\"ticks\":\"\"},\"colorscale\":[[0.0,\"#0d0887\"],[0.1111111111111111,\"#46039f\"],[0.2222222222222222,\"#7201a8\"],[0.3333333333333333,\"#9c179e\"],[0.4444444444444444,\"#bd3786\"],[0.5555555555555556,\"#d8576b\"],[0.6666666666666666,\"#ed7953\"],[0.7777777777777778,\"#fb9f3a\"],[0.8888888888888888,\"#fdca26\"],[1.0,\"#f0f921\"]]}],\"mesh3d\":[{\"type\":\"mesh3d\",\"colorbar\":{\"outlinewidth\":0,\"ticks\":\"\"}}],\"scatter\":[{\"fillpattern\":{\"fillmode\":\"overlay\",\"size\":10,\"solidity\":0.2},\"type\":\"scatter\"}],\"parcoords\":[{\"type\":\"parcoords\",\"line\":{\"colorbar\":{\"outlinewidth\":0,\"ticks\":\"\"}}}],\"scatterpolargl\":[{\"type\":\"scatterpolargl\",\"marker\":{\"colorbar\":{\"outlinewidth\":0,\"ticks\":\"\"}}}],\"bar\":[{\"error_x\":{\"color\":\"#2a3f5f\"},\"error_y\":{\"color\":\"#2a3f5f\"},\"marker\":{\"line\":{\"color\":\"#E5ECF6\",\"width\":0.5},\"pattern\":{\"fillmode\":\"overlay\",\"size\":10,\"solidity\":0.2}},\"type\":\"bar\"}],\"scattergeo\":[{\"type\":\"scattergeo\",\"marker\":{\"colorbar\":{\"outlinewidth\":0,\"ticks\":\"\"}}}],\"scatterpolar\":[{\"type\":\"scatterpolar\",\"marker\":{\"colorbar\":{\"outlinewidth\":0,\"ticks\":\"\"}}}],\"histogram\":[{\"marker\":{\"pattern\":{\"fillmode\":\"overlay\",\"size\":10,\"solidity\":0.2}},\"type\":\"histogram\"}],\"scattergl\":[{\"type\":\"scattergl\",\"marker\":{\"colorbar\":{\"outlinewidth\":0,\"ticks\":\"\"}}}],\"scatter3d\":[{\"type\":\"scatter3d\",\"line\":{\"colorbar\":{\"outlinewidth\":0,\"ticks\":\"\"}},\"marker\":{\"colorbar\":{\"outlinewidth\":0,\"ticks\":\"\"}}}],\"scattermapbox\":[{\"type\":\"scattermapbox\",\"marker\":{\"colorbar\":{\"outlinewidth\":0,\"ticks\":\"\"}}}],\"scatterternary\":[{\"type\":\"scatterternary\",\"marker\":{\"colorbar\":{\"outlinewidth\":0,\"ticks\":\"\"}}}],\"scattercarpet\":[{\"type\":\"scattercarpet\",\"marker\":{\"colorbar\":{\"outlinewidth\":0,\"ticks\":\"\"}}}],\"carpet\":[{\"aaxis\":{\"endlinecolor\":\"#2a3f5f\",\"gridcolor\":\"white\",\"linecolor\":\"white\",\"minorgridcolor\":\"white\",\"startlinecolor\":\"#2a3f5f\"},\"baxis\":{\"endlinecolor\":\"#2a3f5f\",\"gridcolor\":\"white\",\"linecolor\":\"white\",\"minorgridcolor\":\"white\",\"startlinecolor\":\"#2a3f5f\"},\"type\":\"carpet\"}],\"table\":[{\"cells\":{\"fill\":{\"color\":\"#EBF0F8\"},\"line\":{\"color\":\"white\"}},\"header\":{\"fill\":{\"color\":\"#C8D4E3\"},\"line\":{\"color\":\"white\"}},\"type\":\"table\"}],\"barpolar\":[{\"marker\":{\"line\":{\"color\":\"#E5ECF6\",\"width\":0.5},\"pattern\":{\"fillmode\":\"overlay\",\"size\":10,\"solidity\":0.2}},\"type\":\"barpolar\"}],\"pie\":[{\"automargin\":true,\"type\":\"pie\"}]},\"layout\":{\"autotypenumbers\":\"strict\",\"colorway\":[\"#636efa\",\"#EF553B\",\"#00cc96\",\"#ab63fa\",\"#FFA15A\",\"#19d3f3\",\"#FF6692\",\"#B6E880\",\"#FF97FF\",\"#FECB52\"],\"font\":{\"color\":\"#2a3f5f\"},\"hovermode\":\"closest\",\"hoverlabel\":{\"align\":\"left\"},\"paper_bgcolor\":\"white\",\"plot_bgcolor\":\"#E5ECF6\",\"polar\":{\"bgcolor\":\"#E5ECF6\",\"angularaxis\":{\"gridcolor\":\"white\",\"linecolor\":\"white\",\"ticks\":\"\"},\"radialaxis\":{\"gridcolor\":\"white\",\"linecolor\":\"white\",\"ticks\":\"\"}},\"ternary\":{\"bgcolor\":\"#E5ECF6\",\"aaxis\":{\"gridcolor\":\"white\",\"linecolor\":\"white\",\"ticks\":\"\"},\"baxis\":{\"gridcolor\":\"white\",\"linecolor\":\"white\",\"ticks\":\"\"},\"caxis\":{\"gridcolor\":\"white\",\"linecolor\":\"white\",\"ticks\":\"\"}},\"coloraxis\":{\"colorbar\":{\"outlinewidth\":0,\"ticks\":\"\"}},\"colorscale\":{\"sequential\":[[0.0,\"#0d0887\"],[0.1111111111111111,\"#46039f\"],[0.2222222222222222,\"#7201a8\"],[0.3333333333333333,\"#9c179e\"],[0.4444444444444444,\"#bd3786\"],[0.5555555555555556,\"#d8576b\"],[0.6666666666666666,\"#ed7953\"],[0.7777777777777778,\"#fb9f3a\"],[0.8888888888888888,\"#fdca26\"],[1.0,\"#f0f921\"]],\"sequentialminus\":[[0.0,\"#0d0887\"],[0.1111111111111111,\"#46039f\"],[0.2222222222222222,\"#7201a8\"],[0.3333333333333333,\"#9c179e\"],[0.4444444444444444,\"#bd3786\"],[0.5555555555555556,\"#d8576b\"],[0.6666666666666666,\"#ed7953\"],[0.7777777777777778,\"#fb9f3a\"],[0.8888888888888888,\"#fdca26\"],[1.0,\"#f0f921\"]],\"diverging\":[[0,\"#8e0152\"],[0.1,\"#c51b7d\"],[0.2,\"#de77ae\"],[0.3,\"#f1b6da\"],[0.4,\"#fde0ef\"],[0.5,\"#f7f7f7\"],[0.6,\"#e6f5d0\"],[0.7,\"#b8e186\"],[0.8,\"#7fbc41\"],[0.9,\"#4d9221\"],[1,\"#276419\"]]},\"xaxis\":{\"gridcolor\":\"white\",\"linecolor\":\"white\",\"ticks\":\"\",\"title\":{\"standoff\":15},\"zerolinecolor\":\"white\",\"automargin\":true,\"zerolinewidth\":2},\"yaxis\":{\"gridcolor\":\"white\",\"linecolor\":\"white\",\"ticks\":\"\",\"title\":{\"standoff\":15},\"zerolinecolor\":\"white\",\"automargin\":true,\"zerolinewidth\":2},\"scene\":{\"xaxis\":{\"backgroundcolor\":\"#E5ECF6\",\"gridcolor\":\"white\",\"linecolor\":\"white\",\"showbackground\":true,\"ticks\":\"\",\"zerolinecolor\":\"white\",\"gridwidth\":2},\"yaxis\":{\"backgroundcolor\":\"#E5ECF6\",\"gridcolor\":\"white\",\"linecolor\":\"white\",\"showbackground\":true,\"ticks\":\"\",\"zerolinecolor\":\"white\",\"gridwidth\":2},\"zaxis\":{\"backgroundcolor\":\"#E5ECF6\",\"gridcolor\":\"white\",\"linecolor\":\"white\",\"showbackground\":true,\"ticks\":\"\",\"zerolinecolor\":\"white\",\"gridwidth\":2}},\"shapedefaults\":{\"line\":{\"color\":\"#2a3f5f\"}},\"annotationdefaults\":{\"arrowcolor\":\"#2a3f5f\",\"arrowhead\":0,\"arrowwidth\":1},\"geo\":{\"bgcolor\":\"white\",\"landcolor\":\"#E5ECF6\",\"subunitcolor\":\"white\",\"showland\":true,\"showlakes\":true,\"lakecolor\":\"white\"},\"title\":{\"x\":0.05},\"mapbox\":{\"style\":\"light\"}}},\"xaxis\":{\"anchor\":\"y\",\"domain\":[0.0,1.0],\"title\":{\"text\":\"absolute_coefs\"}},\"yaxis\":{\"anchor\":\"x\",\"domain\":[0.0,1.0],\"title\":{\"text\":\"feature_names\"}},\"legend\":{\"title\":{\"text\":\"effect\"},\"tracegroupgap\":0},\"title\":{\"text\":\"Absolute coefficients\"},\"barmode\":\"relative\",\"height\":800,\"width\":700},                        {\"responsive\": true}                    ).then(function(){\n",
       "                            \n",
       "var gd = document.getElementById('c12e0766-7087-4bae-ac65-a372c2129ffb');\n",
       "var x = new MutationObserver(function (mutations, observer) {{\n",
       "        var display = window.getComputedStyle(gd).display;\n",
       "        if (!display || display === 'none') {{\n",
       "            console.log([gd, 'removed!']);\n",
       "            Plotly.purge(gd);\n",
       "            observer.disconnect();\n",
       "        }}\n",
       "}});\n",
       "\n",
       "// Listen for the removal of the full notebook cells\n",
       "var notebookContainer = gd.closest('#notebook-container');\n",
       "if (notebookContainer) {{\n",
       "    x.observe(notebookContainer, {childList: true});\n",
       "}}\n",
       "\n",
       "// Listen for the clearing of the current output cell\n",
       "var outputEl = gd.closest('.output');\n",
       "if (outputEl) {{\n",
       "    x.observe(outputEl, {childList: true});\n",
       "}}\n",
       "\n",
       "                        })                };                });            </script>        </div>"
      ]
     },
     "metadata": {},
     "output_type": "display_data"
    }
   ],
   "source": [
    "fig = px.bar(log_coefs_absolute, x='absolute_coefs',\n",
    "             y='feature_names', color='effect', title='Absolute coefficients', width=700, height=800)\n",
    "\n",
    "fig.show()"
   ]
  },
  {
   "cell_type": "markdown",
   "id": "5e53eae5",
   "metadata": {},
   "source": [
    "-----"
   ]
  },
  {
   "cell_type": "markdown",
   "id": "06c5bcc6",
   "metadata": {},
   "source": [
    "#### Coefficients for each category i.e Text, Title and other features"
   ]
  },
  {
   "cell_type": "code",
   "execution_count": 370,
   "id": "3d26edb1",
   "metadata": {
    "ExecuteTime": {
     "end_time": "2022-06-22T18:02:55.350781Z",
     "start_time": "2022-06-22T18:02:53.627697Z"
    }
   },
   "outputs": [
    {
     "name": "stdout",
     "output_type": "stream",
     "text": [
      "1000000\n",
      "154499\n",
      "19\n",
      "1154518\n"
     ]
    }
   ],
   "source": [
    "print(len(cvec.get_feature_names()))\n",
    "print(len(title_feature_names))\n",
    "print(len(train_to_sparse.columns))\n",
    "print(len(feature_names))"
   ]
  },
  {
   "cell_type": "code",
   "execution_count": 386,
   "id": "d3df0cd4",
   "metadata": {
    "ExecuteTime": {
     "end_time": "2022-06-22T19:52:10.157501Z",
     "start_time": "2022-06-22T19:52:10.154214Z"
    }
   },
   "outputs": [],
   "source": [
    "n_effect = calc_effect(log_coef[-19:])"
   ]
  },
  {
   "cell_type": "code",
   "execution_count": 388,
   "id": "4a7174e7",
   "metadata": {
    "ExecuteTime": {
     "end_time": "2022-06-22T19:52:52.680742Z",
     "start_time": "2022-06-22T19:52:52.676154Z"
    },
    "scrolled": true
   },
   "outputs": [],
   "source": [
    "n_features_dict = {'Feature names': train_to_sparse.columns,\n",
    "                   'Absolute coefficients': np.absolute(log_coef[-19:]), 'Effect': n_effect}\n",
    "feautres_coef_df = pd.DataFrame(n_features_dict).sort_values(\n",
    "    by='Absolute coefficients', ascending=False)"
   ]
  },
  {
   "cell_type": "code",
   "execution_count": 394,
   "id": "7cc813f8",
   "metadata": {
    "ExecuteTime": {
     "end_time": "2022-06-22T19:55:28.277435Z",
     "start_time": "2022-06-22T19:55:28.201139Z"
    }
   },
   "outputs": [
    {
     "data": {
      "application/vnd.plotly.v1+json": {
       "config": {
        "plotlyServerURL": "https://plot.ly"
       },
       "data": [
        {
         "alignmentgroup": "True",
         "hovertemplate": "Effect=Positive<br>Feature names=%{x}<br>Absolute coefficients=%{y}<extra></extra>",
         "legendgroup": "Positive",
         "marker": {
          "color": "#636efa",
          "pattern": {
           "shape": ""
          }
         },
         "name": "Positive",
         "offsetgroup": "Positive",
         "orientation": "v",
         "showlegend": true,
         "textposition": "auto",
         "type": "bar",
         "x": [
          "publication_better-marketing",
          "subtitle_1",
          "author_followers",
          "publication_uxdesign",
          "publication_writingcooperative",
          "subjectivity",
          "polarity",
          "number_of_words",
          "day_of_the_week_4",
          "day_of_the_week_3",
          "day_of_the_week_2"
         ],
         "xaxis": "x",
         "y": [
          0.07915566865881889,
          0.06406938431053644,
          0.04674383022375643,
          0.03242072705606248,
          0.031329151579381195,
          0.014286127054695242,
          0.009664755497959143,
          0.006532389560650966,
          0.002805016780441908,
          0.001846518493872536,
          0.0015732909268239591
         ],
         "yaxis": "y"
        },
        {
         "alignmentgroup": "True",
         "hovertemplate": "Effect=Negative<br>Feature names=%{x}<br>Absolute coefficients=%{y}<extra></extra>",
         "legendgroup": "Negative",
         "marker": {
          "color": "#EF553B",
          "pattern": {
           "shape": ""
          }
         },
         "name": "Negative",
         "offsetgroup": "Negative",
         "orientation": "v",
         "showlegend": true,
         "textposition": "auto",
         "type": "bar",
         "x": [
          "publication_datadriveninvestor",
          "publication_startup-grind",
          "publication_the-mission",
          "publication_towardsdatascience",
          "publication_swlh",
          "day_of_the_week_5",
          "day_of_the_week_6",
          "day_of_the_week_1"
         ],
         "xaxis": "x",
         "y": [
          0.07585515648279113,
          0.011971836936566397,
          0.011515314034744276,
          0.01101345137190342,
          0.0059837558852030735,
          0.0023449660256375546,
          0.002102722363078941,
          5.456149863993515e-05
         ],
         "yaxis": "y"
        }
       ],
       "layout": {
        "barmode": "relative",
        "height": 600,
        "legend": {
         "title": {
          "text": "Effect"
         },
         "tracegroupgap": 0
        },
        "template": {
         "data": {
          "bar": [
           {
            "error_x": {
             "color": "#2a3f5f"
            },
            "error_y": {
             "color": "#2a3f5f"
            },
            "marker": {
             "line": {
              "color": "#E5ECF6",
              "width": 0.5
             },
             "pattern": {
              "fillmode": "overlay",
              "size": 10,
              "solidity": 0.2
             }
            },
            "type": "bar"
           }
          ],
          "barpolar": [
           {
            "marker": {
             "line": {
              "color": "#E5ECF6",
              "width": 0.5
             },
             "pattern": {
              "fillmode": "overlay",
              "size": 10,
              "solidity": 0.2
             }
            },
            "type": "barpolar"
           }
          ],
          "carpet": [
           {
            "aaxis": {
             "endlinecolor": "#2a3f5f",
             "gridcolor": "white",
             "linecolor": "white",
             "minorgridcolor": "white",
             "startlinecolor": "#2a3f5f"
            },
            "baxis": {
             "endlinecolor": "#2a3f5f",
             "gridcolor": "white",
             "linecolor": "white",
             "minorgridcolor": "white",
             "startlinecolor": "#2a3f5f"
            },
            "type": "carpet"
           }
          ],
          "choropleth": [
           {
            "colorbar": {
             "outlinewidth": 0,
             "ticks": ""
            },
            "type": "choropleth"
           }
          ],
          "contour": [
           {
            "colorbar": {
             "outlinewidth": 0,
             "ticks": ""
            },
            "colorscale": [
             [
              0,
              "#0d0887"
             ],
             [
              0.1111111111111111,
              "#46039f"
             ],
             [
              0.2222222222222222,
              "#7201a8"
             ],
             [
              0.3333333333333333,
              "#9c179e"
             ],
             [
              0.4444444444444444,
              "#bd3786"
             ],
             [
              0.5555555555555556,
              "#d8576b"
             ],
             [
              0.6666666666666666,
              "#ed7953"
             ],
             [
              0.7777777777777778,
              "#fb9f3a"
             ],
             [
              0.8888888888888888,
              "#fdca26"
             ],
             [
              1,
              "#f0f921"
             ]
            ],
            "type": "contour"
           }
          ],
          "contourcarpet": [
           {
            "colorbar": {
             "outlinewidth": 0,
             "ticks": ""
            },
            "type": "contourcarpet"
           }
          ],
          "heatmap": [
           {
            "colorbar": {
             "outlinewidth": 0,
             "ticks": ""
            },
            "colorscale": [
             [
              0,
              "#0d0887"
             ],
             [
              0.1111111111111111,
              "#46039f"
             ],
             [
              0.2222222222222222,
              "#7201a8"
             ],
             [
              0.3333333333333333,
              "#9c179e"
             ],
             [
              0.4444444444444444,
              "#bd3786"
             ],
             [
              0.5555555555555556,
              "#d8576b"
             ],
             [
              0.6666666666666666,
              "#ed7953"
             ],
             [
              0.7777777777777778,
              "#fb9f3a"
             ],
             [
              0.8888888888888888,
              "#fdca26"
             ],
             [
              1,
              "#f0f921"
             ]
            ],
            "type": "heatmap"
           }
          ],
          "heatmapgl": [
           {
            "colorbar": {
             "outlinewidth": 0,
             "ticks": ""
            },
            "colorscale": [
             [
              0,
              "#0d0887"
             ],
             [
              0.1111111111111111,
              "#46039f"
             ],
             [
              0.2222222222222222,
              "#7201a8"
             ],
             [
              0.3333333333333333,
              "#9c179e"
             ],
             [
              0.4444444444444444,
              "#bd3786"
             ],
             [
              0.5555555555555556,
              "#d8576b"
             ],
             [
              0.6666666666666666,
              "#ed7953"
             ],
             [
              0.7777777777777778,
              "#fb9f3a"
             ],
             [
              0.8888888888888888,
              "#fdca26"
             ],
             [
              1,
              "#f0f921"
             ]
            ],
            "type": "heatmapgl"
           }
          ],
          "histogram": [
           {
            "marker": {
             "pattern": {
              "fillmode": "overlay",
              "size": 10,
              "solidity": 0.2
             }
            },
            "type": "histogram"
           }
          ],
          "histogram2d": [
           {
            "colorbar": {
             "outlinewidth": 0,
             "ticks": ""
            },
            "colorscale": [
             [
              0,
              "#0d0887"
             ],
             [
              0.1111111111111111,
              "#46039f"
             ],
             [
              0.2222222222222222,
              "#7201a8"
             ],
             [
              0.3333333333333333,
              "#9c179e"
             ],
             [
              0.4444444444444444,
              "#bd3786"
             ],
             [
              0.5555555555555556,
              "#d8576b"
             ],
             [
              0.6666666666666666,
              "#ed7953"
             ],
             [
              0.7777777777777778,
              "#fb9f3a"
             ],
             [
              0.8888888888888888,
              "#fdca26"
             ],
             [
              1,
              "#f0f921"
             ]
            ],
            "type": "histogram2d"
           }
          ],
          "histogram2dcontour": [
           {
            "colorbar": {
             "outlinewidth": 0,
             "ticks": ""
            },
            "colorscale": [
             [
              0,
              "#0d0887"
             ],
             [
              0.1111111111111111,
              "#46039f"
             ],
             [
              0.2222222222222222,
              "#7201a8"
             ],
             [
              0.3333333333333333,
              "#9c179e"
             ],
             [
              0.4444444444444444,
              "#bd3786"
             ],
             [
              0.5555555555555556,
              "#d8576b"
             ],
             [
              0.6666666666666666,
              "#ed7953"
             ],
             [
              0.7777777777777778,
              "#fb9f3a"
             ],
             [
              0.8888888888888888,
              "#fdca26"
             ],
             [
              1,
              "#f0f921"
             ]
            ],
            "type": "histogram2dcontour"
           }
          ],
          "mesh3d": [
           {
            "colorbar": {
             "outlinewidth": 0,
             "ticks": ""
            },
            "type": "mesh3d"
           }
          ],
          "parcoords": [
           {
            "line": {
             "colorbar": {
              "outlinewidth": 0,
              "ticks": ""
             }
            },
            "type": "parcoords"
           }
          ],
          "pie": [
           {
            "automargin": true,
            "type": "pie"
           }
          ],
          "scatter": [
           {
            "fillpattern": {
             "fillmode": "overlay",
             "size": 10,
             "solidity": 0.2
            },
            "type": "scatter"
           }
          ],
          "scatter3d": [
           {
            "line": {
             "colorbar": {
              "outlinewidth": 0,
              "ticks": ""
             }
            },
            "marker": {
             "colorbar": {
              "outlinewidth": 0,
              "ticks": ""
             }
            },
            "type": "scatter3d"
           }
          ],
          "scattercarpet": [
           {
            "marker": {
             "colorbar": {
              "outlinewidth": 0,
              "ticks": ""
             }
            },
            "type": "scattercarpet"
           }
          ],
          "scattergeo": [
           {
            "marker": {
             "colorbar": {
              "outlinewidth": 0,
              "ticks": ""
             }
            },
            "type": "scattergeo"
           }
          ],
          "scattergl": [
           {
            "marker": {
             "colorbar": {
              "outlinewidth": 0,
              "ticks": ""
             }
            },
            "type": "scattergl"
           }
          ],
          "scattermapbox": [
           {
            "marker": {
             "colorbar": {
              "outlinewidth": 0,
              "ticks": ""
             }
            },
            "type": "scattermapbox"
           }
          ],
          "scatterpolar": [
           {
            "marker": {
             "colorbar": {
              "outlinewidth": 0,
              "ticks": ""
             }
            },
            "type": "scatterpolar"
           }
          ],
          "scatterpolargl": [
           {
            "marker": {
             "colorbar": {
              "outlinewidth": 0,
              "ticks": ""
             }
            },
            "type": "scatterpolargl"
           }
          ],
          "scatterternary": [
           {
            "marker": {
             "colorbar": {
              "outlinewidth": 0,
              "ticks": ""
             }
            },
            "type": "scatterternary"
           }
          ],
          "surface": [
           {
            "colorbar": {
             "outlinewidth": 0,
             "ticks": ""
            },
            "colorscale": [
             [
              0,
              "#0d0887"
             ],
             [
              0.1111111111111111,
              "#46039f"
             ],
             [
              0.2222222222222222,
              "#7201a8"
             ],
             [
              0.3333333333333333,
              "#9c179e"
             ],
             [
              0.4444444444444444,
              "#bd3786"
             ],
             [
              0.5555555555555556,
              "#d8576b"
             ],
             [
              0.6666666666666666,
              "#ed7953"
             ],
             [
              0.7777777777777778,
              "#fb9f3a"
             ],
             [
              0.8888888888888888,
              "#fdca26"
             ],
             [
              1,
              "#f0f921"
             ]
            ],
            "type": "surface"
           }
          ],
          "table": [
           {
            "cells": {
             "fill": {
              "color": "#EBF0F8"
             },
             "line": {
              "color": "white"
             }
            },
            "header": {
             "fill": {
              "color": "#C8D4E3"
             },
             "line": {
              "color": "white"
             }
            },
            "type": "table"
           }
          ]
         },
         "layout": {
          "annotationdefaults": {
           "arrowcolor": "#2a3f5f",
           "arrowhead": 0,
           "arrowwidth": 1
          },
          "autotypenumbers": "strict",
          "coloraxis": {
           "colorbar": {
            "outlinewidth": 0,
            "ticks": ""
           }
          },
          "colorscale": {
           "diverging": [
            [
             0,
             "#8e0152"
            ],
            [
             0.1,
             "#c51b7d"
            ],
            [
             0.2,
             "#de77ae"
            ],
            [
             0.3,
             "#f1b6da"
            ],
            [
             0.4,
             "#fde0ef"
            ],
            [
             0.5,
             "#f7f7f7"
            ],
            [
             0.6,
             "#e6f5d0"
            ],
            [
             0.7,
             "#b8e186"
            ],
            [
             0.8,
             "#7fbc41"
            ],
            [
             0.9,
             "#4d9221"
            ],
            [
             1,
             "#276419"
            ]
           ],
           "sequential": [
            [
             0,
             "#0d0887"
            ],
            [
             0.1111111111111111,
             "#46039f"
            ],
            [
             0.2222222222222222,
             "#7201a8"
            ],
            [
             0.3333333333333333,
             "#9c179e"
            ],
            [
             0.4444444444444444,
             "#bd3786"
            ],
            [
             0.5555555555555556,
             "#d8576b"
            ],
            [
             0.6666666666666666,
             "#ed7953"
            ],
            [
             0.7777777777777778,
             "#fb9f3a"
            ],
            [
             0.8888888888888888,
             "#fdca26"
            ],
            [
             1,
             "#f0f921"
            ]
           ],
           "sequentialminus": [
            [
             0,
             "#0d0887"
            ],
            [
             0.1111111111111111,
             "#46039f"
            ],
            [
             0.2222222222222222,
             "#7201a8"
            ],
            [
             0.3333333333333333,
             "#9c179e"
            ],
            [
             0.4444444444444444,
             "#bd3786"
            ],
            [
             0.5555555555555556,
             "#d8576b"
            ],
            [
             0.6666666666666666,
             "#ed7953"
            ],
            [
             0.7777777777777778,
             "#fb9f3a"
            ],
            [
             0.8888888888888888,
             "#fdca26"
            ],
            [
             1,
             "#f0f921"
            ]
           ]
          },
          "colorway": [
           "#636efa",
           "#EF553B",
           "#00cc96",
           "#ab63fa",
           "#FFA15A",
           "#19d3f3",
           "#FF6692",
           "#B6E880",
           "#FF97FF",
           "#FECB52"
          ],
          "font": {
           "color": "#2a3f5f"
          },
          "geo": {
           "bgcolor": "white",
           "lakecolor": "white",
           "landcolor": "#E5ECF6",
           "showlakes": true,
           "showland": true,
           "subunitcolor": "white"
          },
          "hoverlabel": {
           "align": "left"
          },
          "hovermode": "closest",
          "mapbox": {
           "style": "light"
          },
          "paper_bgcolor": "white",
          "plot_bgcolor": "#E5ECF6",
          "polar": {
           "angularaxis": {
            "gridcolor": "white",
            "linecolor": "white",
            "ticks": ""
           },
           "bgcolor": "#E5ECF6",
           "radialaxis": {
            "gridcolor": "white",
            "linecolor": "white",
            "ticks": ""
           }
          },
          "scene": {
           "xaxis": {
            "backgroundcolor": "#E5ECF6",
            "gridcolor": "white",
            "gridwidth": 2,
            "linecolor": "white",
            "showbackground": true,
            "ticks": "",
            "zerolinecolor": "white"
           },
           "yaxis": {
            "backgroundcolor": "#E5ECF6",
            "gridcolor": "white",
            "gridwidth": 2,
            "linecolor": "white",
            "showbackground": true,
            "ticks": "",
            "zerolinecolor": "white"
           },
           "zaxis": {
            "backgroundcolor": "#E5ECF6",
            "gridcolor": "white",
            "gridwidth": 2,
            "linecolor": "white",
            "showbackground": true,
            "ticks": "",
            "zerolinecolor": "white"
           }
          },
          "shapedefaults": {
           "line": {
            "color": "#2a3f5f"
           }
          },
          "ternary": {
           "aaxis": {
            "gridcolor": "white",
            "linecolor": "white",
            "ticks": ""
           },
           "baxis": {
            "gridcolor": "white",
            "linecolor": "white",
            "ticks": ""
           },
           "bgcolor": "#E5ECF6",
           "caxis": {
            "gridcolor": "white",
            "linecolor": "white",
            "ticks": ""
           }
          },
          "title": {
           "x": 0.05
          },
          "xaxis": {
           "automargin": true,
           "gridcolor": "white",
           "linecolor": "white",
           "ticks": "",
           "title": {
            "standoff": 15
           },
           "zerolinecolor": "white",
           "zerolinewidth": 2
          },
          "yaxis": {
           "automargin": true,
           "gridcolor": "white",
           "linecolor": "white",
           "ticks": "",
           "title": {
            "standoff": 15
           },
           "zerolinecolor": "white",
           "zerolinewidth": 2
          }
         }
        },
        "title": {
         "text": "Absolute coefficients"
        },
        "width": 900,
        "xaxis": {
         "anchor": "y",
         "autorange": true,
         "domain": [
          0,
          1
         ],
         "range": [
          -0.5,
          18.5
         ],
         "title": {
          "text": "Feature names"
         },
         "type": "category"
        },
        "yaxis": {
         "anchor": "x",
         "autorange": true,
         "domain": [
          0,
          1
         ],
         "range": [
          0,
          0.08332175648296725
         ],
         "title": {
          "text": "Absolute coefficients"
         },
         "type": "linear"
        }
       }
      },
      "text/html": [
       "<div>                            <div id=\"46f26b9e-a560-4995-9bd4-c27fd896336d\" class=\"plotly-graph-div\" style=\"height:600px; width:900px;\"></div>            <script type=\"text/javascript\">                require([\"plotly\"], function(Plotly) {                    window.PLOTLYENV=window.PLOTLYENV || {};                                    if (document.getElementById(\"46f26b9e-a560-4995-9bd4-c27fd896336d\")) {                    Plotly.newPlot(                        \"46f26b9e-a560-4995-9bd4-c27fd896336d\",                        [{\"alignmentgroup\":\"True\",\"hovertemplate\":\"Effect=Positive<br>Feature names=%{x}<br>Absolute coefficients=%{y}<extra></extra>\",\"legendgroup\":\"Positive\",\"marker\":{\"color\":\"#636efa\",\"pattern\":{\"shape\":\"\"}},\"name\":\"Positive\",\"offsetgroup\":\"Positive\",\"orientation\":\"v\",\"showlegend\":true,\"textposition\":\"auto\",\"x\":[\"publication_better-marketing\",\"subtitle_1\",\"author_followers\",\"publication_uxdesign\",\"publication_writingcooperative\",\"subjectivity\",\"polarity\",\"number_of_words\",\"day_of_the_week_4\",\"day_of_the_week_3\",\"day_of_the_week_2\"],\"xaxis\":\"x\",\"y\":[0.07915566865881889,0.06406938431053644,0.04674383022375643,0.03242072705606248,0.031329151579381195,0.014286127054695242,0.009664755497959143,0.006532389560650966,0.002805016780441908,0.001846518493872536,0.0015732909268239591],\"yaxis\":\"y\",\"type\":\"bar\"},{\"alignmentgroup\":\"True\",\"hovertemplate\":\"Effect=Negative<br>Feature names=%{x}<br>Absolute coefficients=%{y}<extra></extra>\",\"legendgroup\":\"Negative\",\"marker\":{\"color\":\"#EF553B\",\"pattern\":{\"shape\":\"\"}},\"name\":\"Negative\",\"offsetgroup\":\"Negative\",\"orientation\":\"v\",\"showlegend\":true,\"textposition\":\"auto\",\"x\":[\"publication_datadriveninvestor\",\"publication_startup-grind\",\"publication_the-mission\",\"publication_towardsdatascience\",\"publication_swlh\",\"day_of_the_week_5\",\"day_of_the_week_6\",\"day_of_the_week_1\"],\"xaxis\":\"x\",\"y\":[0.07585515648279113,0.011971836936566397,0.011515314034744276,0.01101345137190342,0.0059837558852030735,0.0023449660256375546,0.002102722363078941,5.456149863993515e-05],\"yaxis\":\"y\",\"type\":\"bar\"}],                        {\"template\":{\"data\":{\"histogram2dcontour\":[{\"type\":\"histogram2dcontour\",\"colorbar\":{\"outlinewidth\":0,\"ticks\":\"\"},\"colorscale\":[[0.0,\"#0d0887\"],[0.1111111111111111,\"#46039f\"],[0.2222222222222222,\"#7201a8\"],[0.3333333333333333,\"#9c179e\"],[0.4444444444444444,\"#bd3786\"],[0.5555555555555556,\"#d8576b\"],[0.6666666666666666,\"#ed7953\"],[0.7777777777777778,\"#fb9f3a\"],[0.8888888888888888,\"#fdca26\"],[1.0,\"#f0f921\"]]}],\"choropleth\":[{\"type\":\"choropleth\",\"colorbar\":{\"outlinewidth\":0,\"ticks\":\"\"}}],\"histogram2d\":[{\"type\":\"histogram2d\",\"colorbar\":{\"outlinewidth\":0,\"ticks\":\"\"},\"colorscale\":[[0.0,\"#0d0887\"],[0.1111111111111111,\"#46039f\"],[0.2222222222222222,\"#7201a8\"],[0.3333333333333333,\"#9c179e\"],[0.4444444444444444,\"#bd3786\"],[0.5555555555555556,\"#d8576b\"],[0.6666666666666666,\"#ed7953\"],[0.7777777777777778,\"#fb9f3a\"],[0.8888888888888888,\"#fdca26\"],[1.0,\"#f0f921\"]]}],\"heatmap\":[{\"type\":\"heatmap\",\"colorbar\":{\"outlinewidth\":0,\"ticks\":\"\"},\"colorscale\":[[0.0,\"#0d0887\"],[0.1111111111111111,\"#46039f\"],[0.2222222222222222,\"#7201a8\"],[0.3333333333333333,\"#9c179e\"],[0.4444444444444444,\"#bd3786\"],[0.5555555555555556,\"#d8576b\"],[0.6666666666666666,\"#ed7953\"],[0.7777777777777778,\"#fb9f3a\"],[0.8888888888888888,\"#fdca26\"],[1.0,\"#f0f921\"]]}],\"heatmapgl\":[{\"type\":\"heatmapgl\",\"colorbar\":{\"outlinewidth\":0,\"ticks\":\"\"},\"colorscale\":[[0.0,\"#0d0887\"],[0.1111111111111111,\"#46039f\"],[0.2222222222222222,\"#7201a8\"],[0.3333333333333333,\"#9c179e\"],[0.4444444444444444,\"#bd3786\"],[0.5555555555555556,\"#d8576b\"],[0.6666666666666666,\"#ed7953\"],[0.7777777777777778,\"#fb9f3a\"],[0.8888888888888888,\"#fdca26\"],[1.0,\"#f0f921\"]]}],\"contourcarpet\":[{\"type\":\"contourcarpet\",\"colorbar\":{\"outlinewidth\":0,\"ticks\":\"\"}}],\"contour\":[{\"type\":\"contour\",\"colorbar\":{\"outlinewidth\":0,\"ticks\":\"\"},\"colorscale\":[[0.0,\"#0d0887\"],[0.1111111111111111,\"#46039f\"],[0.2222222222222222,\"#7201a8\"],[0.3333333333333333,\"#9c179e\"],[0.4444444444444444,\"#bd3786\"],[0.5555555555555556,\"#d8576b\"],[0.6666666666666666,\"#ed7953\"],[0.7777777777777778,\"#fb9f3a\"],[0.8888888888888888,\"#fdca26\"],[1.0,\"#f0f921\"]]}],\"surface\":[{\"type\":\"surface\",\"colorbar\":{\"outlinewidth\":0,\"ticks\":\"\"},\"colorscale\":[[0.0,\"#0d0887\"],[0.1111111111111111,\"#46039f\"],[0.2222222222222222,\"#7201a8\"],[0.3333333333333333,\"#9c179e\"],[0.4444444444444444,\"#bd3786\"],[0.5555555555555556,\"#d8576b\"],[0.6666666666666666,\"#ed7953\"],[0.7777777777777778,\"#fb9f3a\"],[0.8888888888888888,\"#fdca26\"],[1.0,\"#f0f921\"]]}],\"mesh3d\":[{\"type\":\"mesh3d\",\"colorbar\":{\"outlinewidth\":0,\"ticks\":\"\"}}],\"scatter\":[{\"fillpattern\":{\"fillmode\":\"overlay\",\"size\":10,\"solidity\":0.2},\"type\":\"scatter\"}],\"parcoords\":[{\"type\":\"parcoords\",\"line\":{\"colorbar\":{\"outlinewidth\":0,\"ticks\":\"\"}}}],\"scatterpolargl\":[{\"type\":\"scatterpolargl\",\"marker\":{\"colorbar\":{\"outlinewidth\":0,\"ticks\":\"\"}}}],\"bar\":[{\"error_x\":{\"color\":\"#2a3f5f\"},\"error_y\":{\"color\":\"#2a3f5f\"},\"marker\":{\"line\":{\"color\":\"#E5ECF6\",\"width\":0.5},\"pattern\":{\"fillmode\":\"overlay\",\"size\":10,\"solidity\":0.2}},\"type\":\"bar\"}],\"scattergeo\":[{\"type\":\"scattergeo\",\"marker\":{\"colorbar\":{\"outlinewidth\":0,\"ticks\":\"\"}}}],\"scatterpolar\":[{\"type\":\"scatterpolar\",\"marker\":{\"colorbar\":{\"outlinewidth\":0,\"ticks\":\"\"}}}],\"histogram\":[{\"marker\":{\"pattern\":{\"fillmode\":\"overlay\",\"size\":10,\"solidity\":0.2}},\"type\":\"histogram\"}],\"scattergl\":[{\"type\":\"scattergl\",\"marker\":{\"colorbar\":{\"outlinewidth\":0,\"ticks\":\"\"}}}],\"scatter3d\":[{\"type\":\"scatter3d\",\"line\":{\"colorbar\":{\"outlinewidth\":0,\"ticks\":\"\"}},\"marker\":{\"colorbar\":{\"outlinewidth\":0,\"ticks\":\"\"}}}],\"scattermapbox\":[{\"type\":\"scattermapbox\",\"marker\":{\"colorbar\":{\"outlinewidth\":0,\"ticks\":\"\"}}}],\"scatterternary\":[{\"type\":\"scatterternary\",\"marker\":{\"colorbar\":{\"outlinewidth\":0,\"ticks\":\"\"}}}],\"scattercarpet\":[{\"type\":\"scattercarpet\",\"marker\":{\"colorbar\":{\"outlinewidth\":0,\"ticks\":\"\"}}}],\"carpet\":[{\"aaxis\":{\"endlinecolor\":\"#2a3f5f\",\"gridcolor\":\"white\",\"linecolor\":\"white\",\"minorgridcolor\":\"white\",\"startlinecolor\":\"#2a3f5f\"},\"baxis\":{\"endlinecolor\":\"#2a3f5f\",\"gridcolor\":\"white\",\"linecolor\":\"white\",\"minorgridcolor\":\"white\",\"startlinecolor\":\"#2a3f5f\"},\"type\":\"carpet\"}],\"table\":[{\"cells\":{\"fill\":{\"color\":\"#EBF0F8\"},\"line\":{\"color\":\"white\"}},\"header\":{\"fill\":{\"color\":\"#C8D4E3\"},\"line\":{\"color\":\"white\"}},\"type\":\"table\"}],\"barpolar\":[{\"marker\":{\"line\":{\"color\":\"#E5ECF6\",\"width\":0.5},\"pattern\":{\"fillmode\":\"overlay\",\"size\":10,\"solidity\":0.2}},\"type\":\"barpolar\"}],\"pie\":[{\"automargin\":true,\"type\":\"pie\"}]},\"layout\":{\"autotypenumbers\":\"strict\",\"colorway\":[\"#636efa\",\"#EF553B\",\"#00cc96\",\"#ab63fa\",\"#FFA15A\",\"#19d3f3\",\"#FF6692\",\"#B6E880\",\"#FF97FF\",\"#FECB52\"],\"font\":{\"color\":\"#2a3f5f\"},\"hovermode\":\"closest\",\"hoverlabel\":{\"align\":\"left\"},\"paper_bgcolor\":\"white\",\"plot_bgcolor\":\"#E5ECF6\",\"polar\":{\"bgcolor\":\"#E5ECF6\",\"angularaxis\":{\"gridcolor\":\"white\",\"linecolor\":\"white\",\"ticks\":\"\"},\"radialaxis\":{\"gridcolor\":\"white\",\"linecolor\":\"white\",\"ticks\":\"\"}},\"ternary\":{\"bgcolor\":\"#E5ECF6\",\"aaxis\":{\"gridcolor\":\"white\",\"linecolor\":\"white\",\"ticks\":\"\"},\"baxis\":{\"gridcolor\":\"white\",\"linecolor\":\"white\",\"ticks\":\"\"},\"caxis\":{\"gridcolor\":\"white\",\"linecolor\":\"white\",\"ticks\":\"\"}},\"coloraxis\":{\"colorbar\":{\"outlinewidth\":0,\"ticks\":\"\"}},\"colorscale\":{\"sequential\":[[0.0,\"#0d0887\"],[0.1111111111111111,\"#46039f\"],[0.2222222222222222,\"#7201a8\"],[0.3333333333333333,\"#9c179e\"],[0.4444444444444444,\"#bd3786\"],[0.5555555555555556,\"#d8576b\"],[0.6666666666666666,\"#ed7953\"],[0.7777777777777778,\"#fb9f3a\"],[0.8888888888888888,\"#fdca26\"],[1.0,\"#f0f921\"]],\"sequentialminus\":[[0.0,\"#0d0887\"],[0.1111111111111111,\"#46039f\"],[0.2222222222222222,\"#7201a8\"],[0.3333333333333333,\"#9c179e\"],[0.4444444444444444,\"#bd3786\"],[0.5555555555555556,\"#d8576b\"],[0.6666666666666666,\"#ed7953\"],[0.7777777777777778,\"#fb9f3a\"],[0.8888888888888888,\"#fdca26\"],[1.0,\"#f0f921\"]],\"diverging\":[[0,\"#8e0152\"],[0.1,\"#c51b7d\"],[0.2,\"#de77ae\"],[0.3,\"#f1b6da\"],[0.4,\"#fde0ef\"],[0.5,\"#f7f7f7\"],[0.6,\"#e6f5d0\"],[0.7,\"#b8e186\"],[0.8,\"#7fbc41\"],[0.9,\"#4d9221\"],[1,\"#276419\"]]},\"xaxis\":{\"gridcolor\":\"white\",\"linecolor\":\"white\",\"ticks\":\"\",\"title\":{\"standoff\":15},\"zerolinecolor\":\"white\",\"automargin\":true,\"zerolinewidth\":2},\"yaxis\":{\"gridcolor\":\"white\",\"linecolor\":\"white\",\"ticks\":\"\",\"title\":{\"standoff\":15},\"zerolinecolor\":\"white\",\"automargin\":true,\"zerolinewidth\":2},\"scene\":{\"xaxis\":{\"backgroundcolor\":\"#E5ECF6\",\"gridcolor\":\"white\",\"linecolor\":\"white\",\"showbackground\":true,\"ticks\":\"\",\"zerolinecolor\":\"white\",\"gridwidth\":2},\"yaxis\":{\"backgroundcolor\":\"#E5ECF6\",\"gridcolor\":\"white\",\"linecolor\":\"white\",\"showbackground\":true,\"ticks\":\"\",\"zerolinecolor\":\"white\",\"gridwidth\":2},\"zaxis\":{\"backgroundcolor\":\"#E5ECF6\",\"gridcolor\":\"white\",\"linecolor\":\"white\",\"showbackground\":true,\"ticks\":\"\",\"zerolinecolor\":\"white\",\"gridwidth\":2}},\"shapedefaults\":{\"line\":{\"color\":\"#2a3f5f\"}},\"annotationdefaults\":{\"arrowcolor\":\"#2a3f5f\",\"arrowhead\":0,\"arrowwidth\":1},\"geo\":{\"bgcolor\":\"white\",\"landcolor\":\"#E5ECF6\",\"subunitcolor\":\"white\",\"showland\":true,\"showlakes\":true,\"lakecolor\":\"white\"},\"title\":{\"x\":0.05},\"mapbox\":{\"style\":\"light\"}}},\"xaxis\":{\"anchor\":\"y\",\"domain\":[0.0,1.0],\"title\":{\"text\":\"Feature names\"}},\"yaxis\":{\"anchor\":\"x\",\"domain\":[0.0,1.0],\"title\":{\"text\":\"Absolute coefficients\"}},\"legend\":{\"title\":{\"text\":\"Effect\"},\"tracegroupgap\":0},\"title\":{\"text\":\"Absolute coefficients\"},\"barmode\":\"relative\",\"height\":600,\"width\":900},                        {\"responsive\": true}                    ).then(function(){\n",
       "                            \n",
       "var gd = document.getElementById('46f26b9e-a560-4995-9bd4-c27fd896336d');\n",
       "var x = new MutationObserver(function (mutations, observer) {{\n",
       "        var display = window.getComputedStyle(gd).display;\n",
       "        if (!display || display === 'none') {{\n",
       "            console.log([gd, 'removed!']);\n",
       "            Plotly.purge(gd);\n",
       "            observer.disconnect();\n",
       "        }}\n",
       "}});\n",
       "\n",
       "// Listen for the removal of the full notebook cells\n",
       "var notebookContainer = gd.closest('#notebook-container');\n",
       "if (notebookContainer) {{\n",
       "    x.observe(notebookContainer, {childList: true});\n",
       "}}\n",
       "\n",
       "// Listen for the clearing of the current output cell\n",
       "var outputEl = gd.closest('.output');\n",
       "if (outputEl) {{\n",
       "    x.observe(outputEl, {childList: true});\n",
       "}}\n",
       "\n",
       "                        })                };                });            </script>        </div>"
      ]
     },
     "metadata": {},
     "output_type": "display_data"
    }
   ],
   "source": [
    "fig = px.bar(feautres_coef_df, y='Absolute coefficients',\n",
    "             x='Feature names', color='Effect', title='Absolute coefficients', width=900, height=600)\n",
    "\n",
    "fig.show()"
   ]
  },
  {
   "cell_type": "markdown",
   "id": "98b3afb6",
   "metadata": {},
   "source": [
    "------"
   ]
  },
  {
   "cell_type": "markdown",
   "id": "6f1c6088",
   "metadata": {},
   "source": [
    "Title"
   ]
  },
  {
   "cell_type": "code",
   "execution_count": 401,
   "id": "148b589d",
   "metadata": {
    "ExecuteTime": {
     "end_time": "2022-06-22T20:00:31.959057Z",
     "start_time": "2022-06-22T20:00:31.910949Z"
    }
   },
   "outputs": [],
   "source": [
    "n_effect = calc_effect(log_coef[1000000:1154499])"
   ]
  },
  {
   "cell_type": "code",
   "execution_count": 406,
   "id": "98dc2ce4",
   "metadata": {
    "ExecuteTime": {
     "end_time": "2022-06-22T20:01:54.993531Z",
     "start_time": "2022-06-22T20:01:54.954483Z"
    },
    "scrolled": true
   },
   "outputs": [
    {
     "data": {
      "text/html": [
       "<div>\n",
       "<style scoped>\n",
       "    .dataframe tbody tr th:only-of-type {\n",
       "        vertical-align: middle;\n",
       "    }\n",
       "\n",
       "    .dataframe tbody tr th {\n",
       "        vertical-align: top;\n",
       "    }\n",
       "\n",
       "    .dataframe thead th {\n",
       "        text-align: right;\n",
       "    }\n",
       "</style>\n",
       "<table border=\"1\" class=\"dataframe\">\n",
       "  <thead>\n",
       "    <tr style=\"text-align: right;\">\n",
       "      <th></th>\n",
       "      <th>Feature names</th>\n",
       "      <th>Absolute coefficients</th>\n",
       "      <th>Effect</th>\n",
       "    </tr>\n",
       "  </thead>\n",
       "  <tbody>\n",
       "    <tr>\n",
       "      <th>145710</th>\n",
       "      <td>ux week (Title)</td>\n",
       "      <td>0.031199</td>\n",
       "      <td>Positive</td>\n",
       "    </tr>\n",
       "    <tr>\n",
       "      <th>49433</th>\n",
       "      <td>feeling fomo (Title)</td>\n",
       "      <td>0.030186</td>\n",
       "      <td>Negative</td>\n",
       "    </tr>\n",
       "    <tr>\n",
       "      <th>111933</th>\n",
       "      <td>regret life (Title)</td>\n",
       "      <td>0.022819</td>\n",
       "      <td>Negative</td>\n",
       "    </tr>\n",
       "    <tr>\n",
       "      <th>96869</th>\n",
       "      <td>pain diet (Title)</td>\n",
       "      <td>0.022033</td>\n",
       "      <td>Positive</td>\n",
       "    </tr>\n",
       "    <tr>\n",
       "      <th>81213</th>\n",
       "      <td>manage chronic (Title)</td>\n",
       "      <td>0.022033</td>\n",
       "      <td>Positive</td>\n",
       "    </tr>\n",
       "    <tr>\n",
       "      <th>128075</th>\n",
       "      <td>step help (Title)</td>\n",
       "      <td>0.021529</td>\n",
       "      <td>Negative</td>\n",
       "    </tr>\n",
       "    <tr>\n",
       "      <th>152714</th>\n",
       "      <td>writing (Title)</td>\n",
       "      <td>0.019775</td>\n",
       "      <td>Positive</td>\n",
       "    </tr>\n",
       "    <tr>\n",
       "      <th>79551</th>\n",
       "      <td>love data (Title)</td>\n",
       "      <td>0.018979</td>\n",
       "      <td>Positive</td>\n",
       "    </tr>\n",
       "    <tr>\n",
       "      <th>35459</th>\n",
       "      <td>design (Title)</td>\n",
       "      <td>0.018864</td>\n",
       "      <td>Positive</td>\n",
       "    </tr>\n",
       "    <tr>\n",
       "      <th>14232</th>\n",
       "      <td>bitcoinblockchain journey (Title)</td>\n",
       "      <td>0.018762</td>\n",
       "      <td>Positive</td>\n",
       "    </tr>\n",
       "    <tr>\n",
       "      <th>14231</th>\n",
       "      <td>bitcoinblockchain (Title)</td>\n",
       "      <td>0.018762</td>\n",
       "      <td>Positive</td>\n",
       "    </tr>\n",
       "    <tr>\n",
       "      <th>40982</th>\n",
       "      <td>earning read (Title)</td>\n",
       "      <td>0.018497</td>\n",
       "      <td>Negative</td>\n",
       "    </tr>\n",
       "    <tr>\n",
       "      <th>84153</th>\n",
       "      <td>medium vocal (Title)</td>\n",
       "      <td>0.018497</td>\n",
       "      <td>Negative</td>\n",
       "    </tr>\n",
       "    <tr>\n",
       "      <th>108316</th>\n",
       "      <td>quandl webinar (Title)</td>\n",
       "      <td>0.017524</td>\n",
       "      <td>Positive</td>\n",
       "    </tr>\n",
       "    <tr>\n",
       "      <th>111864</th>\n",
       "      <td>regression numpy (Title)</td>\n",
       "      <td>0.017034</td>\n",
       "      <td>Negative</td>\n",
       "    </tr>\n",
       "  </tbody>\n",
       "</table>\n",
       "</div>"
      ],
      "text/plain": [
       "                            Feature names  Absolute coefficients    Effect\n",
       "145710                    ux week (Title)               0.031199  Positive\n",
       "49433                feeling fomo (Title)               0.030186  Negative\n",
       "111933                regret life (Title)               0.022819  Negative\n",
       "96869                   pain diet (Title)               0.022033  Positive\n",
       "81213              manage chronic (Title)               0.022033  Positive\n",
       "128075                  step help (Title)               0.021529  Negative\n",
       "152714                    writing (Title)               0.019775  Positive\n",
       "79551                   love data (Title)               0.018979  Positive\n",
       "35459                      design (Title)               0.018864  Positive\n",
       "14232   bitcoinblockchain journey (Title)               0.018762  Positive\n",
       "14231           bitcoinblockchain (Title)               0.018762  Positive\n",
       "40982                earning read (Title)               0.018497  Negative\n",
       "84153                medium vocal (Title)               0.018497  Negative\n",
       "108316             quandl webinar (Title)               0.017524  Positive\n",
       "111864           regression numpy (Title)               0.017034  Negative"
      ]
     },
     "execution_count": 406,
     "metadata": {},
     "output_type": "execute_result"
    }
   ],
   "source": [
    "n_features_dict = {'Feature names': title_feature_names,\n",
    "                   'Absolute coefficients': np.absolute(log_coef[1000000:1154499]), 'Effect': n_effect}\n",
    "feautres_coef_df = pd.DataFrame(n_features_dict).sort_values(\n",
    "    by='Absolute coefficients', ascending=False).iloc[:15,:]\n",
    "feautres_coef_df"
   ]
  },
  {
   "cell_type": "code",
   "execution_count": 407,
   "id": "93f7cbb8",
   "metadata": {
    "ExecuteTime": {
     "end_time": "2022-06-22T20:02:04.417363Z",
     "start_time": "2022-06-22T20:02:04.371770Z"
    }
   },
   "outputs": [
    {
     "data": {
      "application/vnd.plotly.v1+json": {
       "config": {
        "plotlyServerURL": "https://plot.ly"
       },
       "data": [
        {
         "alignmentgroup": "True",
         "hovertemplate": "Effect=Positive<br>Feature names=%{x}<br>Absolute coefficients=%{y}<extra></extra>",
         "legendgroup": "Positive",
         "marker": {
          "color": "#636efa",
          "pattern": {
           "shape": ""
          }
         },
         "name": "Positive",
         "offsetgroup": "Positive",
         "orientation": "v",
         "showlegend": true,
         "textposition": "auto",
         "type": "bar",
         "x": [
          "ux week (Title)",
          "pain diet (Title)",
          "manage chronic (Title)",
          "writing (Title)",
          "love data (Title)",
          "design (Title)",
          "bitcoinblockchain journey (Title)",
          "bitcoinblockchain (Title)",
          "quandl webinar (Title)"
         ],
         "xaxis": "x",
         "y": [
          0.03119909599019916,
          0.02203307375177168,
          0.02203307375177168,
          0.019775420553216776,
          0.0189787727028441,
          0.01886415295960875,
          0.01876151909735844,
          0.01876151909735844,
          0.01752353510787771
         ],
         "yaxis": "y"
        },
        {
         "alignmentgroup": "True",
         "hovertemplate": "Effect=Negative<br>Feature names=%{x}<br>Absolute coefficients=%{y}<extra></extra>",
         "legendgroup": "Negative",
         "marker": {
          "color": "#EF553B",
          "pattern": {
           "shape": ""
          }
         },
         "name": "Negative",
         "offsetgroup": "Negative",
         "orientation": "v",
         "showlegend": true,
         "textposition": "auto",
         "type": "bar",
         "x": [
          "feeling fomo (Title)",
          "regret life (Title)",
          "step help (Title)",
          "earning read (Title)",
          "medium vocal (Title)",
          "regression numpy (Title)"
         ],
         "xaxis": "x",
         "y": [
          0.030186379741893695,
          0.022818681853441915,
          0.021529098055594213,
          0.01849660222066811,
          0.01849660222066811,
          0.017033726897381096
         ],
         "yaxis": "y"
        }
       ],
       "layout": {
        "barmode": "relative",
        "height": 600,
        "legend": {
         "title": {
          "text": "Effect"
         },
         "tracegroupgap": 0
        },
        "template": {
         "data": {
          "bar": [
           {
            "error_x": {
             "color": "#2a3f5f"
            },
            "error_y": {
             "color": "#2a3f5f"
            },
            "marker": {
             "line": {
              "color": "#E5ECF6",
              "width": 0.5
             },
             "pattern": {
              "fillmode": "overlay",
              "size": 10,
              "solidity": 0.2
             }
            },
            "type": "bar"
           }
          ],
          "barpolar": [
           {
            "marker": {
             "line": {
              "color": "#E5ECF6",
              "width": 0.5
             },
             "pattern": {
              "fillmode": "overlay",
              "size": 10,
              "solidity": 0.2
             }
            },
            "type": "barpolar"
           }
          ],
          "carpet": [
           {
            "aaxis": {
             "endlinecolor": "#2a3f5f",
             "gridcolor": "white",
             "linecolor": "white",
             "minorgridcolor": "white",
             "startlinecolor": "#2a3f5f"
            },
            "baxis": {
             "endlinecolor": "#2a3f5f",
             "gridcolor": "white",
             "linecolor": "white",
             "minorgridcolor": "white",
             "startlinecolor": "#2a3f5f"
            },
            "type": "carpet"
           }
          ],
          "choropleth": [
           {
            "colorbar": {
             "outlinewidth": 0,
             "ticks": ""
            },
            "type": "choropleth"
           }
          ],
          "contour": [
           {
            "colorbar": {
             "outlinewidth": 0,
             "ticks": ""
            },
            "colorscale": [
             [
              0,
              "#0d0887"
             ],
             [
              0.1111111111111111,
              "#46039f"
             ],
             [
              0.2222222222222222,
              "#7201a8"
             ],
             [
              0.3333333333333333,
              "#9c179e"
             ],
             [
              0.4444444444444444,
              "#bd3786"
             ],
             [
              0.5555555555555556,
              "#d8576b"
             ],
             [
              0.6666666666666666,
              "#ed7953"
             ],
             [
              0.7777777777777778,
              "#fb9f3a"
             ],
             [
              0.8888888888888888,
              "#fdca26"
             ],
             [
              1,
              "#f0f921"
             ]
            ],
            "type": "contour"
           }
          ],
          "contourcarpet": [
           {
            "colorbar": {
             "outlinewidth": 0,
             "ticks": ""
            },
            "type": "contourcarpet"
           }
          ],
          "heatmap": [
           {
            "colorbar": {
             "outlinewidth": 0,
             "ticks": ""
            },
            "colorscale": [
             [
              0,
              "#0d0887"
             ],
             [
              0.1111111111111111,
              "#46039f"
             ],
             [
              0.2222222222222222,
              "#7201a8"
             ],
             [
              0.3333333333333333,
              "#9c179e"
             ],
             [
              0.4444444444444444,
              "#bd3786"
             ],
             [
              0.5555555555555556,
              "#d8576b"
             ],
             [
              0.6666666666666666,
              "#ed7953"
             ],
             [
              0.7777777777777778,
              "#fb9f3a"
             ],
             [
              0.8888888888888888,
              "#fdca26"
             ],
             [
              1,
              "#f0f921"
             ]
            ],
            "type": "heatmap"
           }
          ],
          "heatmapgl": [
           {
            "colorbar": {
             "outlinewidth": 0,
             "ticks": ""
            },
            "colorscale": [
             [
              0,
              "#0d0887"
             ],
             [
              0.1111111111111111,
              "#46039f"
             ],
             [
              0.2222222222222222,
              "#7201a8"
             ],
             [
              0.3333333333333333,
              "#9c179e"
             ],
             [
              0.4444444444444444,
              "#bd3786"
             ],
             [
              0.5555555555555556,
              "#d8576b"
             ],
             [
              0.6666666666666666,
              "#ed7953"
             ],
             [
              0.7777777777777778,
              "#fb9f3a"
             ],
             [
              0.8888888888888888,
              "#fdca26"
             ],
             [
              1,
              "#f0f921"
             ]
            ],
            "type": "heatmapgl"
           }
          ],
          "histogram": [
           {
            "marker": {
             "pattern": {
              "fillmode": "overlay",
              "size": 10,
              "solidity": 0.2
             }
            },
            "type": "histogram"
           }
          ],
          "histogram2d": [
           {
            "colorbar": {
             "outlinewidth": 0,
             "ticks": ""
            },
            "colorscale": [
             [
              0,
              "#0d0887"
             ],
             [
              0.1111111111111111,
              "#46039f"
             ],
             [
              0.2222222222222222,
              "#7201a8"
             ],
             [
              0.3333333333333333,
              "#9c179e"
             ],
             [
              0.4444444444444444,
              "#bd3786"
             ],
             [
              0.5555555555555556,
              "#d8576b"
             ],
             [
              0.6666666666666666,
              "#ed7953"
             ],
             [
              0.7777777777777778,
              "#fb9f3a"
             ],
             [
              0.8888888888888888,
              "#fdca26"
             ],
             [
              1,
              "#f0f921"
             ]
            ],
            "type": "histogram2d"
           }
          ],
          "histogram2dcontour": [
           {
            "colorbar": {
             "outlinewidth": 0,
             "ticks": ""
            },
            "colorscale": [
             [
              0,
              "#0d0887"
             ],
             [
              0.1111111111111111,
              "#46039f"
             ],
             [
              0.2222222222222222,
              "#7201a8"
             ],
             [
              0.3333333333333333,
              "#9c179e"
             ],
             [
              0.4444444444444444,
              "#bd3786"
             ],
             [
              0.5555555555555556,
              "#d8576b"
             ],
             [
              0.6666666666666666,
              "#ed7953"
             ],
             [
              0.7777777777777778,
              "#fb9f3a"
             ],
             [
              0.8888888888888888,
              "#fdca26"
             ],
             [
              1,
              "#f0f921"
             ]
            ],
            "type": "histogram2dcontour"
           }
          ],
          "mesh3d": [
           {
            "colorbar": {
             "outlinewidth": 0,
             "ticks": ""
            },
            "type": "mesh3d"
           }
          ],
          "parcoords": [
           {
            "line": {
             "colorbar": {
              "outlinewidth": 0,
              "ticks": ""
             }
            },
            "type": "parcoords"
           }
          ],
          "pie": [
           {
            "automargin": true,
            "type": "pie"
           }
          ],
          "scatter": [
           {
            "fillpattern": {
             "fillmode": "overlay",
             "size": 10,
             "solidity": 0.2
            },
            "type": "scatter"
           }
          ],
          "scatter3d": [
           {
            "line": {
             "colorbar": {
              "outlinewidth": 0,
              "ticks": ""
             }
            },
            "marker": {
             "colorbar": {
              "outlinewidth": 0,
              "ticks": ""
             }
            },
            "type": "scatter3d"
           }
          ],
          "scattercarpet": [
           {
            "marker": {
             "colorbar": {
              "outlinewidth": 0,
              "ticks": ""
             }
            },
            "type": "scattercarpet"
           }
          ],
          "scattergeo": [
           {
            "marker": {
             "colorbar": {
              "outlinewidth": 0,
              "ticks": ""
             }
            },
            "type": "scattergeo"
           }
          ],
          "scattergl": [
           {
            "marker": {
             "colorbar": {
              "outlinewidth": 0,
              "ticks": ""
             }
            },
            "type": "scattergl"
           }
          ],
          "scattermapbox": [
           {
            "marker": {
             "colorbar": {
              "outlinewidth": 0,
              "ticks": ""
             }
            },
            "type": "scattermapbox"
           }
          ],
          "scatterpolar": [
           {
            "marker": {
             "colorbar": {
              "outlinewidth": 0,
              "ticks": ""
             }
            },
            "type": "scatterpolar"
           }
          ],
          "scatterpolargl": [
           {
            "marker": {
             "colorbar": {
              "outlinewidth": 0,
              "ticks": ""
             }
            },
            "type": "scatterpolargl"
           }
          ],
          "scatterternary": [
           {
            "marker": {
             "colorbar": {
              "outlinewidth": 0,
              "ticks": ""
             }
            },
            "type": "scatterternary"
           }
          ],
          "surface": [
           {
            "colorbar": {
             "outlinewidth": 0,
             "ticks": ""
            },
            "colorscale": [
             [
              0,
              "#0d0887"
             ],
             [
              0.1111111111111111,
              "#46039f"
             ],
             [
              0.2222222222222222,
              "#7201a8"
             ],
             [
              0.3333333333333333,
              "#9c179e"
             ],
             [
              0.4444444444444444,
              "#bd3786"
             ],
             [
              0.5555555555555556,
              "#d8576b"
             ],
             [
              0.6666666666666666,
              "#ed7953"
             ],
             [
              0.7777777777777778,
              "#fb9f3a"
             ],
             [
              0.8888888888888888,
              "#fdca26"
             ],
             [
              1,
              "#f0f921"
             ]
            ],
            "type": "surface"
           }
          ],
          "table": [
           {
            "cells": {
             "fill": {
              "color": "#EBF0F8"
             },
             "line": {
              "color": "white"
             }
            },
            "header": {
             "fill": {
              "color": "#C8D4E3"
             },
             "line": {
              "color": "white"
             }
            },
            "type": "table"
           }
          ]
         },
         "layout": {
          "annotationdefaults": {
           "arrowcolor": "#2a3f5f",
           "arrowhead": 0,
           "arrowwidth": 1
          },
          "autotypenumbers": "strict",
          "coloraxis": {
           "colorbar": {
            "outlinewidth": 0,
            "ticks": ""
           }
          },
          "colorscale": {
           "diverging": [
            [
             0,
             "#8e0152"
            ],
            [
             0.1,
             "#c51b7d"
            ],
            [
             0.2,
             "#de77ae"
            ],
            [
             0.3,
             "#f1b6da"
            ],
            [
             0.4,
             "#fde0ef"
            ],
            [
             0.5,
             "#f7f7f7"
            ],
            [
             0.6,
             "#e6f5d0"
            ],
            [
             0.7,
             "#b8e186"
            ],
            [
             0.8,
             "#7fbc41"
            ],
            [
             0.9,
             "#4d9221"
            ],
            [
             1,
             "#276419"
            ]
           ],
           "sequential": [
            [
             0,
             "#0d0887"
            ],
            [
             0.1111111111111111,
             "#46039f"
            ],
            [
             0.2222222222222222,
             "#7201a8"
            ],
            [
             0.3333333333333333,
             "#9c179e"
            ],
            [
             0.4444444444444444,
             "#bd3786"
            ],
            [
             0.5555555555555556,
             "#d8576b"
            ],
            [
             0.6666666666666666,
             "#ed7953"
            ],
            [
             0.7777777777777778,
             "#fb9f3a"
            ],
            [
             0.8888888888888888,
             "#fdca26"
            ],
            [
             1,
             "#f0f921"
            ]
           ],
           "sequentialminus": [
            [
             0,
             "#0d0887"
            ],
            [
             0.1111111111111111,
             "#46039f"
            ],
            [
             0.2222222222222222,
             "#7201a8"
            ],
            [
             0.3333333333333333,
             "#9c179e"
            ],
            [
             0.4444444444444444,
             "#bd3786"
            ],
            [
             0.5555555555555556,
             "#d8576b"
            ],
            [
             0.6666666666666666,
             "#ed7953"
            ],
            [
             0.7777777777777778,
             "#fb9f3a"
            ],
            [
             0.8888888888888888,
             "#fdca26"
            ],
            [
             1,
             "#f0f921"
            ]
           ]
          },
          "colorway": [
           "#636efa",
           "#EF553B",
           "#00cc96",
           "#ab63fa",
           "#FFA15A",
           "#19d3f3",
           "#FF6692",
           "#B6E880",
           "#FF97FF",
           "#FECB52"
          ],
          "font": {
           "color": "#2a3f5f"
          },
          "geo": {
           "bgcolor": "white",
           "lakecolor": "white",
           "landcolor": "#E5ECF6",
           "showlakes": true,
           "showland": true,
           "subunitcolor": "white"
          },
          "hoverlabel": {
           "align": "left"
          },
          "hovermode": "closest",
          "mapbox": {
           "style": "light"
          },
          "paper_bgcolor": "white",
          "plot_bgcolor": "#E5ECF6",
          "polar": {
           "angularaxis": {
            "gridcolor": "white",
            "linecolor": "white",
            "ticks": ""
           },
           "bgcolor": "#E5ECF6",
           "radialaxis": {
            "gridcolor": "white",
            "linecolor": "white",
            "ticks": ""
           }
          },
          "scene": {
           "xaxis": {
            "backgroundcolor": "#E5ECF6",
            "gridcolor": "white",
            "gridwidth": 2,
            "linecolor": "white",
            "showbackground": true,
            "ticks": "",
            "zerolinecolor": "white"
           },
           "yaxis": {
            "backgroundcolor": "#E5ECF6",
            "gridcolor": "white",
            "gridwidth": 2,
            "linecolor": "white",
            "showbackground": true,
            "ticks": "",
            "zerolinecolor": "white"
           },
           "zaxis": {
            "backgroundcolor": "#E5ECF6",
            "gridcolor": "white",
            "gridwidth": 2,
            "linecolor": "white",
            "showbackground": true,
            "ticks": "",
            "zerolinecolor": "white"
           }
          },
          "shapedefaults": {
           "line": {
            "color": "#2a3f5f"
           }
          },
          "ternary": {
           "aaxis": {
            "gridcolor": "white",
            "linecolor": "white",
            "ticks": ""
           },
           "baxis": {
            "gridcolor": "white",
            "linecolor": "white",
            "ticks": ""
           },
           "bgcolor": "#E5ECF6",
           "caxis": {
            "gridcolor": "white",
            "linecolor": "white",
            "ticks": ""
           }
          },
          "title": {
           "x": 0.05
          },
          "xaxis": {
           "automargin": true,
           "gridcolor": "white",
           "linecolor": "white",
           "ticks": "",
           "title": {
            "standoff": 15
           },
           "zerolinecolor": "white",
           "zerolinewidth": 2
          },
          "yaxis": {
           "automargin": true,
           "gridcolor": "white",
           "linecolor": "white",
           "ticks": "",
           "title": {
            "standoff": 15
           },
           "zerolinecolor": "white",
           "zerolinewidth": 2
          }
         }
        },
        "title": {
         "text": "Absolute coefficients"
        },
        "width": 900,
        "xaxis": {
         "anchor": "y",
         "autorange": true,
         "domain": [
          0,
          1
         ],
         "range": [
          -0.5,
          14.5
         ],
         "title": {
          "text": "Feature names"
         },
         "type": "category"
        },
        "yaxis": {
         "anchor": "x",
         "autorange": true,
         "domain": [
          0,
          1
         ],
         "range": [
          0,
          0.03284115367389385
         ],
         "title": {
          "text": "Absolute coefficients"
         },
         "type": "linear"
        }
       }
      },
      "text/html": [
       "<div>                            <div id=\"48dd465d-1cc9-4223-bc22-8f40fa919439\" class=\"plotly-graph-div\" style=\"height:600px; width:900px;\"></div>            <script type=\"text/javascript\">                require([\"plotly\"], function(Plotly) {                    window.PLOTLYENV=window.PLOTLYENV || {};                                    if (document.getElementById(\"48dd465d-1cc9-4223-bc22-8f40fa919439\")) {                    Plotly.newPlot(                        \"48dd465d-1cc9-4223-bc22-8f40fa919439\",                        [{\"alignmentgroup\":\"True\",\"hovertemplate\":\"Effect=Positive<br>Feature names=%{x}<br>Absolute coefficients=%{y}<extra></extra>\",\"legendgroup\":\"Positive\",\"marker\":{\"color\":\"#636efa\",\"pattern\":{\"shape\":\"\"}},\"name\":\"Positive\",\"offsetgroup\":\"Positive\",\"orientation\":\"v\",\"showlegend\":true,\"textposition\":\"auto\",\"x\":[\"ux week (Title)\",\"pain diet (Title)\",\"manage chronic (Title)\",\"writing (Title)\",\"love data (Title)\",\"design (Title)\",\"bitcoinblockchain journey (Title)\",\"bitcoinblockchain (Title)\",\"quandl webinar (Title)\"],\"xaxis\":\"x\",\"y\":[0.03119909599019916,0.02203307375177168,0.02203307375177168,0.019775420553216776,0.0189787727028441,0.01886415295960875,0.01876151909735844,0.01876151909735844,0.01752353510787771],\"yaxis\":\"y\",\"type\":\"bar\"},{\"alignmentgroup\":\"True\",\"hovertemplate\":\"Effect=Negative<br>Feature names=%{x}<br>Absolute coefficients=%{y}<extra></extra>\",\"legendgroup\":\"Negative\",\"marker\":{\"color\":\"#EF553B\",\"pattern\":{\"shape\":\"\"}},\"name\":\"Negative\",\"offsetgroup\":\"Negative\",\"orientation\":\"v\",\"showlegend\":true,\"textposition\":\"auto\",\"x\":[\"feeling fomo (Title)\",\"regret life (Title)\",\"step help (Title)\",\"earning read (Title)\",\"medium vocal (Title)\",\"regression numpy (Title)\"],\"xaxis\":\"x\",\"y\":[0.030186379741893695,0.022818681853441915,0.021529098055594213,0.01849660222066811,0.01849660222066811,0.017033726897381096],\"yaxis\":\"y\",\"type\":\"bar\"}],                        {\"template\":{\"data\":{\"histogram2dcontour\":[{\"type\":\"histogram2dcontour\",\"colorbar\":{\"outlinewidth\":0,\"ticks\":\"\"},\"colorscale\":[[0.0,\"#0d0887\"],[0.1111111111111111,\"#46039f\"],[0.2222222222222222,\"#7201a8\"],[0.3333333333333333,\"#9c179e\"],[0.4444444444444444,\"#bd3786\"],[0.5555555555555556,\"#d8576b\"],[0.6666666666666666,\"#ed7953\"],[0.7777777777777778,\"#fb9f3a\"],[0.8888888888888888,\"#fdca26\"],[1.0,\"#f0f921\"]]}],\"choropleth\":[{\"type\":\"choropleth\",\"colorbar\":{\"outlinewidth\":0,\"ticks\":\"\"}}],\"histogram2d\":[{\"type\":\"histogram2d\",\"colorbar\":{\"outlinewidth\":0,\"ticks\":\"\"},\"colorscale\":[[0.0,\"#0d0887\"],[0.1111111111111111,\"#46039f\"],[0.2222222222222222,\"#7201a8\"],[0.3333333333333333,\"#9c179e\"],[0.4444444444444444,\"#bd3786\"],[0.5555555555555556,\"#d8576b\"],[0.6666666666666666,\"#ed7953\"],[0.7777777777777778,\"#fb9f3a\"],[0.8888888888888888,\"#fdca26\"],[1.0,\"#f0f921\"]]}],\"heatmap\":[{\"type\":\"heatmap\",\"colorbar\":{\"outlinewidth\":0,\"ticks\":\"\"},\"colorscale\":[[0.0,\"#0d0887\"],[0.1111111111111111,\"#46039f\"],[0.2222222222222222,\"#7201a8\"],[0.3333333333333333,\"#9c179e\"],[0.4444444444444444,\"#bd3786\"],[0.5555555555555556,\"#d8576b\"],[0.6666666666666666,\"#ed7953\"],[0.7777777777777778,\"#fb9f3a\"],[0.8888888888888888,\"#fdca26\"],[1.0,\"#f0f921\"]]}],\"heatmapgl\":[{\"type\":\"heatmapgl\",\"colorbar\":{\"outlinewidth\":0,\"ticks\":\"\"},\"colorscale\":[[0.0,\"#0d0887\"],[0.1111111111111111,\"#46039f\"],[0.2222222222222222,\"#7201a8\"],[0.3333333333333333,\"#9c179e\"],[0.4444444444444444,\"#bd3786\"],[0.5555555555555556,\"#d8576b\"],[0.6666666666666666,\"#ed7953\"],[0.7777777777777778,\"#fb9f3a\"],[0.8888888888888888,\"#fdca26\"],[1.0,\"#f0f921\"]]}],\"contourcarpet\":[{\"type\":\"contourcarpet\",\"colorbar\":{\"outlinewidth\":0,\"ticks\":\"\"}}],\"contour\":[{\"type\":\"contour\",\"colorbar\":{\"outlinewidth\":0,\"ticks\":\"\"},\"colorscale\":[[0.0,\"#0d0887\"],[0.1111111111111111,\"#46039f\"],[0.2222222222222222,\"#7201a8\"],[0.3333333333333333,\"#9c179e\"],[0.4444444444444444,\"#bd3786\"],[0.5555555555555556,\"#d8576b\"],[0.6666666666666666,\"#ed7953\"],[0.7777777777777778,\"#fb9f3a\"],[0.8888888888888888,\"#fdca26\"],[1.0,\"#f0f921\"]]}],\"surface\":[{\"type\":\"surface\",\"colorbar\":{\"outlinewidth\":0,\"ticks\":\"\"},\"colorscale\":[[0.0,\"#0d0887\"],[0.1111111111111111,\"#46039f\"],[0.2222222222222222,\"#7201a8\"],[0.3333333333333333,\"#9c179e\"],[0.4444444444444444,\"#bd3786\"],[0.5555555555555556,\"#d8576b\"],[0.6666666666666666,\"#ed7953\"],[0.7777777777777778,\"#fb9f3a\"],[0.8888888888888888,\"#fdca26\"],[1.0,\"#f0f921\"]]}],\"mesh3d\":[{\"type\":\"mesh3d\",\"colorbar\":{\"outlinewidth\":0,\"ticks\":\"\"}}],\"scatter\":[{\"fillpattern\":{\"fillmode\":\"overlay\",\"size\":10,\"solidity\":0.2},\"type\":\"scatter\"}],\"parcoords\":[{\"type\":\"parcoords\",\"line\":{\"colorbar\":{\"outlinewidth\":0,\"ticks\":\"\"}}}],\"scatterpolargl\":[{\"type\":\"scatterpolargl\",\"marker\":{\"colorbar\":{\"outlinewidth\":0,\"ticks\":\"\"}}}],\"bar\":[{\"error_x\":{\"color\":\"#2a3f5f\"},\"error_y\":{\"color\":\"#2a3f5f\"},\"marker\":{\"line\":{\"color\":\"#E5ECF6\",\"width\":0.5},\"pattern\":{\"fillmode\":\"overlay\",\"size\":10,\"solidity\":0.2}},\"type\":\"bar\"}],\"scattergeo\":[{\"type\":\"scattergeo\",\"marker\":{\"colorbar\":{\"outlinewidth\":0,\"ticks\":\"\"}}}],\"scatterpolar\":[{\"type\":\"scatterpolar\",\"marker\":{\"colorbar\":{\"outlinewidth\":0,\"ticks\":\"\"}}}],\"histogram\":[{\"marker\":{\"pattern\":{\"fillmode\":\"overlay\",\"size\":10,\"solidity\":0.2}},\"type\":\"histogram\"}],\"scattergl\":[{\"type\":\"scattergl\",\"marker\":{\"colorbar\":{\"outlinewidth\":0,\"ticks\":\"\"}}}],\"scatter3d\":[{\"type\":\"scatter3d\",\"line\":{\"colorbar\":{\"outlinewidth\":0,\"ticks\":\"\"}},\"marker\":{\"colorbar\":{\"outlinewidth\":0,\"ticks\":\"\"}}}],\"scattermapbox\":[{\"type\":\"scattermapbox\",\"marker\":{\"colorbar\":{\"outlinewidth\":0,\"ticks\":\"\"}}}],\"scatterternary\":[{\"type\":\"scatterternary\",\"marker\":{\"colorbar\":{\"outlinewidth\":0,\"ticks\":\"\"}}}],\"scattercarpet\":[{\"type\":\"scattercarpet\",\"marker\":{\"colorbar\":{\"outlinewidth\":0,\"ticks\":\"\"}}}],\"carpet\":[{\"aaxis\":{\"endlinecolor\":\"#2a3f5f\",\"gridcolor\":\"white\",\"linecolor\":\"white\",\"minorgridcolor\":\"white\",\"startlinecolor\":\"#2a3f5f\"},\"baxis\":{\"endlinecolor\":\"#2a3f5f\",\"gridcolor\":\"white\",\"linecolor\":\"white\",\"minorgridcolor\":\"white\",\"startlinecolor\":\"#2a3f5f\"},\"type\":\"carpet\"}],\"table\":[{\"cells\":{\"fill\":{\"color\":\"#EBF0F8\"},\"line\":{\"color\":\"white\"}},\"header\":{\"fill\":{\"color\":\"#C8D4E3\"},\"line\":{\"color\":\"white\"}},\"type\":\"table\"}],\"barpolar\":[{\"marker\":{\"line\":{\"color\":\"#E5ECF6\",\"width\":0.5},\"pattern\":{\"fillmode\":\"overlay\",\"size\":10,\"solidity\":0.2}},\"type\":\"barpolar\"}],\"pie\":[{\"automargin\":true,\"type\":\"pie\"}]},\"layout\":{\"autotypenumbers\":\"strict\",\"colorway\":[\"#636efa\",\"#EF553B\",\"#00cc96\",\"#ab63fa\",\"#FFA15A\",\"#19d3f3\",\"#FF6692\",\"#B6E880\",\"#FF97FF\",\"#FECB52\"],\"font\":{\"color\":\"#2a3f5f\"},\"hovermode\":\"closest\",\"hoverlabel\":{\"align\":\"left\"},\"paper_bgcolor\":\"white\",\"plot_bgcolor\":\"#E5ECF6\",\"polar\":{\"bgcolor\":\"#E5ECF6\",\"angularaxis\":{\"gridcolor\":\"white\",\"linecolor\":\"white\",\"ticks\":\"\"},\"radialaxis\":{\"gridcolor\":\"white\",\"linecolor\":\"white\",\"ticks\":\"\"}},\"ternary\":{\"bgcolor\":\"#E5ECF6\",\"aaxis\":{\"gridcolor\":\"white\",\"linecolor\":\"white\",\"ticks\":\"\"},\"baxis\":{\"gridcolor\":\"white\",\"linecolor\":\"white\",\"ticks\":\"\"},\"caxis\":{\"gridcolor\":\"white\",\"linecolor\":\"white\",\"ticks\":\"\"}},\"coloraxis\":{\"colorbar\":{\"outlinewidth\":0,\"ticks\":\"\"}},\"colorscale\":{\"sequential\":[[0.0,\"#0d0887\"],[0.1111111111111111,\"#46039f\"],[0.2222222222222222,\"#7201a8\"],[0.3333333333333333,\"#9c179e\"],[0.4444444444444444,\"#bd3786\"],[0.5555555555555556,\"#d8576b\"],[0.6666666666666666,\"#ed7953\"],[0.7777777777777778,\"#fb9f3a\"],[0.8888888888888888,\"#fdca26\"],[1.0,\"#f0f921\"]],\"sequentialminus\":[[0.0,\"#0d0887\"],[0.1111111111111111,\"#46039f\"],[0.2222222222222222,\"#7201a8\"],[0.3333333333333333,\"#9c179e\"],[0.4444444444444444,\"#bd3786\"],[0.5555555555555556,\"#d8576b\"],[0.6666666666666666,\"#ed7953\"],[0.7777777777777778,\"#fb9f3a\"],[0.8888888888888888,\"#fdca26\"],[1.0,\"#f0f921\"]],\"diverging\":[[0,\"#8e0152\"],[0.1,\"#c51b7d\"],[0.2,\"#de77ae\"],[0.3,\"#f1b6da\"],[0.4,\"#fde0ef\"],[0.5,\"#f7f7f7\"],[0.6,\"#e6f5d0\"],[0.7,\"#b8e186\"],[0.8,\"#7fbc41\"],[0.9,\"#4d9221\"],[1,\"#276419\"]]},\"xaxis\":{\"gridcolor\":\"white\",\"linecolor\":\"white\",\"ticks\":\"\",\"title\":{\"standoff\":15},\"zerolinecolor\":\"white\",\"automargin\":true,\"zerolinewidth\":2},\"yaxis\":{\"gridcolor\":\"white\",\"linecolor\":\"white\",\"ticks\":\"\",\"title\":{\"standoff\":15},\"zerolinecolor\":\"white\",\"automargin\":true,\"zerolinewidth\":2},\"scene\":{\"xaxis\":{\"backgroundcolor\":\"#E5ECF6\",\"gridcolor\":\"white\",\"linecolor\":\"white\",\"showbackground\":true,\"ticks\":\"\",\"zerolinecolor\":\"white\",\"gridwidth\":2},\"yaxis\":{\"backgroundcolor\":\"#E5ECF6\",\"gridcolor\":\"white\",\"linecolor\":\"white\",\"showbackground\":true,\"ticks\":\"\",\"zerolinecolor\":\"white\",\"gridwidth\":2},\"zaxis\":{\"backgroundcolor\":\"#E5ECF6\",\"gridcolor\":\"white\",\"linecolor\":\"white\",\"showbackground\":true,\"ticks\":\"\",\"zerolinecolor\":\"white\",\"gridwidth\":2}},\"shapedefaults\":{\"line\":{\"color\":\"#2a3f5f\"}},\"annotationdefaults\":{\"arrowcolor\":\"#2a3f5f\",\"arrowhead\":0,\"arrowwidth\":1},\"geo\":{\"bgcolor\":\"white\",\"landcolor\":\"#E5ECF6\",\"subunitcolor\":\"white\",\"showland\":true,\"showlakes\":true,\"lakecolor\":\"white\"},\"title\":{\"x\":0.05},\"mapbox\":{\"style\":\"light\"}}},\"xaxis\":{\"anchor\":\"y\",\"domain\":[0.0,1.0],\"title\":{\"text\":\"Feature names\"}},\"yaxis\":{\"anchor\":\"x\",\"domain\":[0.0,1.0],\"title\":{\"text\":\"Absolute coefficients\"}},\"legend\":{\"title\":{\"text\":\"Effect\"},\"tracegroupgap\":0},\"title\":{\"text\":\"Absolute coefficients\"},\"barmode\":\"relative\",\"height\":600,\"width\":900},                        {\"responsive\": true}                    ).then(function(){\n",
       "                            \n",
       "var gd = document.getElementById('48dd465d-1cc9-4223-bc22-8f40fa919439');\n",
       "var x = new MutationObserver(function (mutations, observer) {{\n",
       "        var display = window.getComputedStyle(gd).display;\n",
       "        if (!display || display === 'none') {{\n",
       "            console.log([gd, 'removed!']);\n",
       "            Plotly.purge(gd);\n",
       "            observer.disconnect();\n",
       "        }}\n",
       "}});\n",
       "\n",
       "// Listen for the removal of the full notebook cells\n",
       "var notebookContainer = gd.closest('#notebook-container');\n",
       "if (notebookContainer) {{\n",
       "    x.observe(notebookContainer, {childList: true});\n",
       "}}\n",
       "\n",
       "// Listen for the clearing of the current output cell\n",
       "var outputEl = gd.closest('.output');\n",
       "if (outputEl) {{\n",
       "    x.observe(outputEl, {childList: true});\n",
       "}}\n",
       "\n",
       "                        })                };                });            </script>        </div>"
      ]
     },
     "metadata": {},
     "output_type": "display_data"
    }
   ],
   "source": [
    "fig = px.bar(feautres_coef_df, y='Absolute coefficients',\n",
    "             x='Feature names', color='Effect', title='Absolute coefficients', width=900, height=600)\n",
    "\n",
    "fig.show()"
   ]
  },
  {
   "cell_type": "markdown",
   "id": "f8d55220",
   "metadata": {},
   "source": [
    "Text"
   ]
  },
  {
   "cell_type": "code",
   "execution_count": 408,
   "id": "8ef6e5b6",
   "metadata": {
    "ExecuteTime": {
     "end_time": "2022-06-22T20:04:45.415153Z",
     "start_time": "2022-06-22T20:04:45.109339Z"
    }
   },
   "outputs": [],
   "source": [
    "n_effect = calc_effect(log_coef[:1000000])"
   ]
  },
  {
   "cell_type": "code",
   "execution_count": 410,
   "id": "ff2a6047",
   "metadata": {
    "ExecuteTime": {
     "end_time": "2022-06-22T20:05:22.320043Z",
     "start_time": "2022-06-22T20:05:20.016756Z"
    },
    "scrolled": true
   },
   "outputs": [
    {
     "data": {
      "text/html": [
       "<div>\n",
       "<style scoped>\n",
       "    .dataframe tbody tr th:only-of-type {\n",
       "        vertical-align: middle;\n",
       "    }\n",
       "\n",
       "    .dataframe tbody tr th {\n",
       "        vertical-align: top;\n",
       "    }\n",
       "\n",
       "    .dataframe thead th {\n",
       "        text-align: right;\n",
       "    }\n",
       "</style>\n",
       "<table border=\"1\" class=\"dataframe\">\n",
       "  <thead>\n",
       "    <tr style=\"text-align: right;\">\n",
       "      <th></th>\n",
       "      <th>Feature names</th>\n",
       "      <th>Absolute coefficients</th>\n",
       "      <th>Effect</th>\n",
       "    </tr>\n",
       "  </thead>\n",
       "  <tbody>\n",
       "    <tr>\n",
       "      <th>988608</th>\n",
       "      <td>writer</td>\n",
       "      <td>0.019512</td>\n",
       "      <td>Positive</td>\n",
       "    </tr>\n",
       "    <tr>\n",
       "      <th>987508</th>\n",
       "      <td>write</td>\n",
       "      <td>0.018401</td>\n",
       "      <td>Positive</td>\n",
       "    </tr>\n",
       "    <tr>\n",
       "      <th>989561</th>\n",
       "      <td>writing</td>\n",
       "      <td>0.018394</td>\n",
       "      <td>Positive</td>\n",
       "    </tr>\n",
       "    <tr>\n",
       "      <th>390519</th>\n",
       "      <td>here</td>\n",
       "      <td>0.017303</td>\n",
       "      <td>Positive</td>\n",
       "    </tr>\n",
       "    <tr>\n",
       "      <th>576360</th>\n",
       "      <td>next commerce</td>\n",
       "      <td>0.016353</td>\n",
       "      <td>Negative</td>\n",
       "    </tr>\n",
       "    <tr>\n",
       "      <th>98923</th>\n",
       "      <td>brought salesforce</td>\n",
       "      <td>0.015460</td>\n",
       "      <td>Negative</td>\n",
       "    </tr>\n",
       "    <tr>\n",
       "      <th>754862</th>\n",
       "      <td>salesforcecomcommerce</td>\n",
       "      <td>0.015452</td>\n",
       "      <td>Negative</td>\n",
       "    </tr>\n",
       "    <tr>\n",
       "      <th>469528</th>\n",
       "      <td>learn salesforcecomcommerce</td>\n",
       "      <td>0.015452</td>\n",
       "      <td>Negative</td>\n",
       "    </tr>\n",
       "    <tr>\n",
       "      <th>150602</th>\n",
       "      <td>commerce brought</td>\n",
       "      <td>0.015452</td>\n",
       "      <td>Negative</td>\n",
       "    </tr>\n",
       "    <tr>\n",
       "      <th>78169</th>\n",
       "      <td>beginning june</td>\n",
       "      <td>0.015304</td>\n",
       "      <td>Negative</td>\n",
       "    </tr>\n",
       "    <tr>\n",
       "      <th>754847</th>\n",
       "      <td>salesforce commerce</td>\n",
       "      <td>0.014952</td>\n",
       "      <td>Negative</td>\n",
       "    </tr>\n",
       "    <tr>\n",
       "      <th>150608</th>\n",
       "      <td>commerce next</td>\n",
       "      <td>0.014921</td>\n",
       "      <td>Negative</td>\n",
       "    </tr>\n",
       "    <tr>\n",
       "      <th>51893</th>\n",
       "      <td>article</td>\n",
       "      <td>0.014835</td>\n",
       "      <td>Positive</td>\n",
       "    </tr>\n",
       "    <tr>\n",
       "      <th>226170</th>\n",
       "      <td>design</td>\n",
       "      <td>0.014561</td>\n",
       "      <td>Positive</td>\n",
       "    </tr>\n",
       "    <tr>\n",
       "      <th>140162</th>\n",
       "      <td>cloud learn</td>\n",
       "      <td>0.014517</td>\n",
       "      <td>Negative</td>\n",
       "    </tr>\n",
       "  </tbody>\n",
       "</table>\n",
       "</div>"
      ],
      "text/plain": [
       "                      Feature names  Absolute coefficients    Effect\n",
       "988608                       writer               0.019512  Positive\n",
       "987508                        write               0.018401  Positive\n",
       "989561                      writing               0.018394  Positive\n",
       "390519                         here               0.017303  Positive\n",
       "576360                next commerce               0.016353  Negative\n",
       "98923            brought salesforce               0.015460  Negative\n",
       "754862        salesforcecomcommerce               0.015452  Negative\n",
       "469528  learn salesforcecomcommerce               0.015452  Negative\n",
       "150602             commerce brought               0.015452  Negative\n",
       "78169                beginning june               0.015304  Negative\n",
       "754847          salesforce commerce               0.014952  Negative\n",
       "150608                commerce next               0.014921  Negative\n",
       "51893                       article               0.014835  Positive\n",
       "226170                       design               0.014561  Positive\n",
       "140162                  cloud learn               0.014517  Negative"
      ]
     },
     "execution_count": 410,
     "metadata": {},
     "output_type": "execute_result"
    }
   ],
   "source": [
    "n_features_dict = {'Feature names': cvec.get_feature_names(),\n",
    "                   'Absolute coefficients': np.absolute(log_coef[:1000000]), 'Effect': n_effect}\n",
    "feautres_coef_df = pd.DataFrame(n_features_dict).sort_values(\n",
    "    by='Absolute coefficients', ascending=False).iloc[:15,:]\n",
    "feautres_coef_df"
   ]
  },
  {
   "cell_type": "code",
   "execution_count": 411,
   "id": "19b86a5e",
   "metadata": {
    "ExecuteTime": {
     "end_time": "2022-06-22T20:05:37.017117Z",
     "start_time": "2022-06-22T20:05:36.933444Z"
    }
   },
   "outputs": [
    {
     "data": {
      "application/vnd.plotly.v1+json": {
       "config": {
        "plotlyServerURL": "https://plot.ly"
       },
       "data": [
        {
         "alignmentgroup": "True",
         "hovertemplate": "Effect=Positive<br>Feature names=%{x}<br>Absolute coefficients=%{y}<extra></extra>",
         "legendgroup": "Positive",
         "marker": {
          "color": "#636efa",
          "pattern": {
           "shape": ""
          }
         },
         "name": "Positive",
         "offsetgroup": "Positive",
         "orientation": "v",
         "showlegend": true,
         "textposition": "auto",
         "type": "bar",
         "x": [
          "writer",
          "write",
          "writing",
          "here",
          "article",
          "design"
         ],
         "xaxis": "x",
         "y": [
          0.019511715097877164,
          0.018400620760621017,
          0.018393689771181786,
          0.017302625564047127,
          0.014835275861470282,
          0.014561372581946173
         ],
         "yaxis": "y"
        },
        {
         "alignmentgroup": "True",
         "hovertemplate": "Effect=Negative<br>Feature names=%{x}<br>Absolute coefficients=%{y}<extra></extra>",
         "legendgroup": "Negative",
         "marker": {
          "color": "#EF553B",
          "pattern": {
           "shape": ""
          }
         },
         "name": "Negative",
         "offsetgroup": "Negative",
         "orientation": "v",
         "showlegend": true,
         "textposition": "auto",
         "type": "bar",
         "x": [
          "next commerce",
          "brought salesforce",
          "salesforcecomcommerce",
          "learn salesforcecomcommerce",
          "commerce brought",
          "beginning june",
          "salesforce commerce",
          "commerce next",
          "cloud learn"
         ],
         "xaxis": "x",
         "y": [
          0.01635342424412951,
          0.015459995774465397,
          0.015451613533588227,
          0.015451613533588227,
          0.015451613533588227,
          0.015303776563971002,
          0.014951666398806594,
          0.014921067112865852,
          0.014517368486653635
         ],
         "yaxis": "y"
        }
       ],
       "layout": {
        "barmode": "relative",
        "height": 600,
        "legend": {
         "title": {
          "text": "Effect"
         },
         "tracegroupgap": 0
        },
        "template": {
         "data": {
          "bar": [
           {
            "error_x": {
             "color": "#2a3f5f"
            },
            "error_y": {
             "color": "#2a3f5f"
            },
            "marker": {
             "line": {
              "color": "#E5ECF6",
              "width": 0.5
             },
             "pattern": {
              "fillmode": "overlay",
              "size": 10,
              "solidity": 0.2
             }
            },
            "type": "bar"
           }
          ],
          "barpolar": [
           {
            "marker": {
             "line": {
              "color": "#E5ECF6",
              "width": 0.5
             },
             "pattern": {
              "fillmode": "overlay",
              "size": 10,
              "solidity": 0.2
             }
            },
            "type": "barpolar"
           }
          ],
          "carpet": [
           {
            "aaxis": {
             "endlinecolor": "#2a3f5f",
             "gridcolor": "white",
             "linecolor": "white",
             "minorgridcolor": "white",
             "startlinecolor": "#2a3f5f"
            },
            "baxis": {
             "endlinecolor": "#2a3f5f",
             "gridcolor": "white",
             "linecolor": "white",
             "minorgridcolor": "white",
             "startlinecolor": "#2a3f5f"
            },
            "type": "carpet"
           }
          ],
          "choropleth": [
           {
            "colorbar": {
             "outlinewidth": 0,
             "ticks": ""
            },
            "type": "choropleth"
           }
          ],
          "contour": [
           {
            "colorbar": {
             "outlinewidth": 0,
             "ticks": ""
            },
            "colorscale": [
             [
              0,
              "#0d0887"
             ],
             [
              0.1111111111111111,
              "#46039f"
             ],
             [
              0.2222222222222222,
              "#7201a8"
             ],
             [
              0.3333333333333333,
              "#9c179e"
             ],
             [
              0.4444444444444444,
              "#bd3786"
             ],
             [
              0.5555555555555556,
              "#d8576b"
             ],
             [
              0.6666666666666666,
              "#ed7953"
             ],
             [
              0.7777777777777778,
              "#fb9f3a"
             ],
             [
              0.8888888888888888,
              "#fdca26"
             ],
             [
              1,
              "#f0f921"
             ]
            ],
            "type": "contour"
           }
          ],
          "contourcarpet": [
           {
            "colorbar": {
             "outlinewidth": 0,
             "ticks": ""
            },
            "type": "contourcarpet"
           }
          ],
          "heatmap": [
           {
            "colorbar": {
             "outlinewidth": 0,
             "ticks": ""
            },
            "colorscale": [
             [
              0,
              "#0d0887"
             ],
             [
              0.1111111111111111,
              "#46039f"
             ],
             [
              0.2222222222222222,
              "#7201a8"
             ],
             [
              0.3333333333333333,
              "#9c179e"
             ],
             [
              0.4444444444444444,
              "#bd3786"
             ],
             [
              0.5555555555555556,
              "#d8576b"
             ],
             [
              0.6666666666666666,
              "#ed7953"
             ],
             [
              0.7777777777777778,
              "#fb9f3a"
             ],
             [
              0.8888888888888888,
              "#fdca26"
             ],
             [
              1,
              "#f0f921"
             ]
            ],
            "type": "heatmap"
           }
          ],
          "heatmapgl": [
           {
            "colorbar": {
             "outlinewidth": 0,
             "ticks": ""
            },
            "colorscale": [
             [
              0,
              "#0d0887"
             ],
             [
              0.1111111111111111,
              "#46039f"
             ],
             [
              0.2222222222222222,
              "#7201a8"
             ],
             [
              0.3333333333333333,
              "#9c179e"
             ],
             [
              0.4444444444444444,
              "#bd3786"
             ],
             [
              0.5555555555555556,
              "#d8576b"
             ],
             [
              0.6666666666666666,
              "#ed7953"
             ],
             [
              0.7777777777777778,
              "#fb9f3a"
             ],
             [
              0.8888888888888888,
              "#fdca26"
             ],
             [
              1,
              "#f0f921"
             ]
            ],
            "type": "heatmapgl"
           }
          ],
          "histogram": [
           {
            "marker": {
             "pattern": {
              "fillmode": "overlay",
              "size": 10,
              "solidity": 0.2
             }
            },
            "type": "histogram"
           }
          ],
          "histogram2d": [
           {
            "colorbar": {
             "outlinewidth": 0,
             "ticks": ""
            },
            "colorscale": [
             [
              0,
              "#0d0887"
             ],
             [
              0.1111111111111111,
              "#46039f"
             ],
             [
              0.2222222222222222,
              "#7201a8"
             ],
             [
              0.3333333333333333,
              "#9c179e"
             ],
             [
              0.4444444444444444,
              "#bd3786"
             ],
             [
              0.5555555555555556,
              "#d8576b"
             ],
             [
              0.6666666666666666,
              "#ed7953"
             ],
             [
              0.7777777777777778,
              "#fb9f3a"
             ],
             [
              0.8888888888888888,
              "#fdca26"
             ],
             [
              1,
              "#f0f921"
             ]
            ],
            "type": "histogram2d"
           }
          ],
          "histogram2dcontour": [
           {
            "colorbar": {
             "outlinewidth": 0,
             "ticks": ""
            },
            "colorscale": [
             [
              0,
              "#0d0887"
             ],
             [
              0.1111111111111111,
              "#46039f"
             ],
             [
              0.2222222222222222,
              "#7201a8"
             ],
             [
              0.3333333333333333,
              "#9c179e"
             ],
             [
              0.4444444444444444,
              "#bd3786"
             ],
             [
              0.5555555555555556,
              "#d8576b"
             ],
             [
              0.6666666666666666,
              "#ed7953"
             ],
             [
              0.7777777777777778,
              "#fb9f3a"
             ],
             [
              0.8888888888888888,
              "#fdca26"
             ],
             [
              1,
              "#f0f921"
             ]
            ],
            "type": "histogram2dcontour"
           }
          ],
          "mesh3d": [
           {
            "colorbar": {
             "outlinewidth": 0,
             "ticks": ""
            },
            "type": "mesh3d"
           }
          ],
          "parcoords": [
           {
            "line": {
             "colorbar": {
              "outlinewidth": 0,
              "ticks": ""
             }
            },
            "type": "parcoords"
           }
          ],
          "pie": [
           {
            "automargin": true,
            "type": "pie"
           }
          ],
          "scatter": [
           {
            "fillpattern": {
             "fillmode": "overlay",
             "size": 10,
             "solidity": 0.2
            },
            "type": "scatter"
           }
          ],
          "scatter3d": [
           {
            "line": {
             "colorbar": {
              "outlinewidth": 0,
              "ticks": ""
             }
            },
            "marker": {
             "colorbar": {
              "outlinewidth": 0,
              "ticks": ""
             }
            },
            "type": "scatter3d"
           }
          ],
          "scattercarpet": [
           {
            "marker": {
             "colorbar": {
              "outlinewidth": 0,
              "ticks": ""
             }
            },
            "type": "scattercarpet"
           }
          ],
          "scattergeo": [
           {
            "marker": {
             "colorbar": {
              "outlinewidth": 0,
              "ticks": ""
             }
            },
            "type": "scattergeo"
           }
          ],
          "scattergl": [
           {
            "marker": {
             "colorbar": {
              "outlinewidth": 0,
              "ticks": ""
             }
            },
            "type": "scattergl"
           }
          ],
          "scattermapbox": [
           {
            "marker": {
             "colorbar": {
              "outlinewidth": 0,
              "ticks": ""
             }
            },
            "type": "scattermapbox"
           }
          ],
          "scatterpolar": [
           {
            "marker": {
             "colorbar": {
              "outlinewidth": 0,
              "ticks": ""
             }
            },
            "type": "scatterpolar"
           }
          ],
          "scatterpolargl": [
           {
            "marker": {
             "colorbar": {
              "outlinewidth": 0,
              "ticks": ""
             }
            },
            "type": "scatterpolargl"
           }
          ],
          "scatterternary": [
           {
            "marker": {
             "colorbar": {
              "outlinewidth": 0,
              "ticks": ""
             }
            },
            "type": "scatterternary"
           }
          ],
          "surface": [
           {
            "colorbar": {
             "outlinewidth": 0,
             "ticks": ""
            },
            "colorscale": [
             [
              0,
              "#0d0887"
             ],
             [
              0.1111111111111111,
              "#46039f"
             ],
             [
              0.2222222222222222,
              "#7201a8"
             ],
             [
              0.3333333333333333,
              "#9c179e"
             ],
             [
              0.4444444444444444,
              "#bd3786"
             ],
             [
              0.5555555555555556,
              "#d8576b"
             ],
             [
              0.6666666666666666,
              "#ed7953"
             ],
             [
              0.7777777777777778,
              "#fb9f3a"
             ],
             [
              0.8888888888888888,
              "#fdca26"
             ],
             [
              1,
              "#f0f921"
             ]
            ],
            "type": "surface"
           }
          ],
          "table": [
           {
            "cells": {
             "fill": {
              "color": "#EBF0F8"
             },
             "line": {
              "color": "white"
             }
            },
            "header": {
             "fill": {
              "color": "#C8D4E3"
             },
             "line": {
              "color": "white"
             }
            },
            "type": "table"
           }
          ]
         },
         "layout": {
          "annotationdefaults": {
           "arrowcolor": "#2a3f5f",
           "arrowhead": 0,
           "arrowwidth": 1
          },
          "autotypenumbers": "strict",
          "coloraxis": {
           "colorbar": {
            "outlinewidth": 0,
            "ticks": ""
           }
          },
          "colorscale": {
           "diverging": [
            [
             0,
             "#8e0152"
            ],
            [
             0.1,
             "#c51b7d"
            ],
            [
             0.2,
             "#de77ae"
            ],
            [
             0.3,
             "#f1b6da"
            ],
            [
             0.4,
             "#fde0ef"
            ],
            [
             0.5,
             "#f7f7f7"
            ],
            [
             0.6,
             "#e6f5d0"
            ],
            [
             0.7,
             "#b8e186"
            ],
            [
             0.8,
             "#7fbc41"
            ],
            [
             0.9,
             "#4d9221"
            ],
            [
             1,
             "#276419"
            ]
           ],
           "sequential": [
            [
             0,
             "#0d0887"
            ],
            [
             0.1111111111111111,
             "#46039f"
            ],
            [
             0.2222222222222222,
             "#7201a8"
            ],
            [
             0.3333333333333333,
             "#9c179e"
            ],
            [
             0.4444444444444444,
             "#bd3786"
            ],
            [
             0.5555555555555556,
             "#d8576b"
            ],
            [
             0.6666666666666666,
             "#ed7953"
            ],
            [
             0.7777777777777778,
             "#fb9f3a"
            ],
            [
             0.8888888888888888,
             "#fdca26"
            ],
            [
             1,
             "#f0f921"
            ]
           ],
           "sequentialminus": [
            [
             0,
             "#0d0887"
            ],
            [
             0.1111111111111111,
             "#46039f"
            ],
            [
             0.2222222222222222,
             "#7201a8"
            ],
            [
             0.3333333333333333,
             "#9c179e"
            ],
            [
             0.4444444444444444,
             "#bd3786"
            ],
            [
             0.5555555555555556,
             "#d8576b"
            ],
            [
             0.6666666666666666,
             "#ed7953"
            ],
            [
             0.7777777777777778,
             "#fb9f3a"
            ],
            [
             0.8888888888888888,
             "#fdca26"
            ],
            [
             1,
             "#f0f921"
            ]
           ]
          },
          "colorway": [
           "#636efa",
           "#EF553B",
           "#00cc96",
           "#ab63fa",
           "#FFA15A",
           "#19d3f3",
           "#FF6692",
           "#B6E880",
           "#FF97FF",
           "#FECB52"
          ],
          "font": {
           "color": "#2a3f5f"
          },
          "geo": {
           "bgcolor": "white",
           "lakecolor": "white",
           "landcolor": "#E5ECF6",
           "showlakes": true,
           "showland": true,
           "subunitcolor": "white"
          },
          "hoverlabel": {
           "align": "left"
          },
          "hovermode": "closest",
          "mapbox": {
           "style": "light"
          },
          "paper_bgcolor": "white",
          "plot_bgcolor": "#E5ECF6",
          "polar": {
           "angularaxis": {
            "gridcolor": "white",
            "linecolor": "white",
            "ticks": ""
           },
           "bgcolor": "#E5ECF6",
           "radialaxis": {
            "gridcolor": "white",
            "linecolor": "white",
            "ticks": ""
           }
          },
          "scene": {
           "xaxis": {
            "backgroundcolor": "#E5ECF6",
            "gridcolor": "white",
            "gridwidth": 2,
            "linecolor": "white",
            "showbackground": true,
            "ticks": "",
            "zerolinecolor": "white"
           },
           "yaxis": {
            "backgroundcolor": "#E5ECF6",
            "gridcolor": "white",
            "gridwidth": 2,
            "linecolor": "white",
            "showbackground": true,
            "ticks": "",
            "zerolinecolor": "white"
           },
           "zaxis": {
            "backgroundcolor": "#E5ECF6",
            "gridcolor": "white",
            "gridwidth": 2,
            "linecolor": "white",
            "showbackground": true,
            "ticks": "",
            "zerolinecolor": "white"
           }
          },
          "shapedefaults": {
           "line": {
            "color": "#2a3f5f"
           }
          },
          "ternary": {
           "aaxis": {
            "gridcolor": "white",
            "linecolor": "white",
            "ticks": ""
           },
           "baxis": {
            "gridcolor": "white",
            "linecolor": "white",
            "ticks": ""
           },
           "bgcolor": "#E5ECF6",
           "caxis": {
            "gridcolor": "white",
            "linecolor": "white",
            "ticks": ""
           }
          },
          "title": {
           "x": 0.05
          },
          "xaxis": {
           "automargin": true,
           "gridcolor": "white",
           "linecolor": "white",
           "ticks": "",
           "title": {
            "standoff": 15
           },
           "zerolinecolor": "white",
           "zerolinewidth": 2
          },
          "yaxis": {
           "automargin": true,
           "gridcolor": "white",
           "linecolor": "white",
           "ticks": "",
           "title": {
            "standoff": 15
           },
           "zerolinecolor": "white",
           "zerolinewidth": 2
          }
         }
        },
        "title": {
         "text": "Absolute coefficients"
        },
        "width": 900,
        "xaxis": {
         "anchor": "y",
         "autorange": true,
         "domain": [
          0,
          1
         ],
         "range": [
          -0.5,
          14.5
         ],
         "title": {
          "text": "Feature names"
         },
         "type": "category"
        },
        "yaxis": {
         "anchor": "x",
         "autorange": true,
         "domain": [
          0,
          1
         ],
         "range": [
          0,
          0.020538647471449647
         ],
         "title": {
          "text": "Absolute coefficients"
         },
         "type": "linear"
        }
       }
      },
      "text/html": [
       "<div>                            <div id=\"f4b3423d-dd51-44a7-8865-f840f8fbd454\" class=\"plotly-graph-div\" style=\"height:600px; width:900px;\"></div>            <script type=\"text/javascript\">                require([\"plotly\"], function(Plotly) {                    window.PLOTLYENV=window.PLOTLYENV || {};                                    if (document.getElementById(\"f4b3423d-dd51-44a7-8865-f840f8fbd454\")) {                    Plotly.newPlot(                        \"f4b3423d-dd51-44a7-8865-f840f8fbd454\",                        [{\"alignmentgroup\":\"True\",\"hovertemplate\":\"Effect=Positive<br>Feature names=%{x}<br>Absolute coefficients=%{y}<extra></extra>\",\"legendgroup\":\"Positive\",\"marker\":{\"color\":\"#636efa\",\"pattern\":{\"shape\":\"\"}},\"name\":\"Positive\",\"offsetgroup\":\"Positive\",\"orientation\":\"v\",\"showlegend\":true,\"textposition\":\"auto\",\"x\":[\"writer\",\"write\",\"writing\",\"here\",\"article\",\"design\"],\"xaxis\":\"x\",\"y\":[0.019511715097877164,0.018400620760621017,0.018393689771181786,0.017302625564047127,0.014835275861470282,0.014561372581946173],\"yaxis\":\"y\",\"type\":\"bar\"},{\"alignmentgroup\":\"True\",\"hovertemplate\":\"Effect=Negative<br>Feature names=%{x}<br>Absolute coefficients=%{y}<extra></extra>\",\"legendgroup\":\"Negative\",\"marker\":{\"color\":\"#EF553B\",\"pattern\":{\"shape\":\"\"}},\"name\":\"Negative\",\"offsetgroup\":\"Negative\",\"orientation\":\"v\",\"showlegend\":true,\"textposition\":\"auto\",\"x\":[\"next commerce\",\"brought salesforce\",\"salesforcecomcommerce\",\"learn salesforcecomcommerce\",\"commerce brought\",\"beginning june\",\"salesforce commerce\",\"commerce next\",\"cloud learn\"],\"xaxis\":\"x\",\"y\":[0.01635342424412951,0.015459995774465397,0.015451613533588227,0.015451613533588227,0.015451613533588227,0.015303776563971002,0.014951666398806594,0.014921067112865852,0.014517368486653635],\"yaxis\":\"y\",\"type\":\"bar\"}],                        {\"template\":{\"data\":{\"histogram2dcontour\":[{\"type\":\"histogram2dcontour\",\"colorbar\":{\"outlinewidth\":0,\"ticks\":\"\"},\"colorscale\":[[0.0,\"#0d0887\"],[0.1111111111111111,\"#46039f\"],[0.2222222222222222,\"#7201a8\"],[0.3333333333333333,\"#9c179e\"],[0.4444444444444444,\"#bd3786\"],[0.5555555555555556,\"#d8576b\"],[0.6666666666666666,\"#ed7953\"],[0.7777777777777778,\"#fb9f3a\"],[0.8888888888888888,\"#fdca26\"],[1.0,\"#f0f921\"]]}],\"choropleth\":[{\"type\":\"choropleth\",\"colorbar\":{\"outlinewidth\":0,\"ticks\":\"\"}}],\"histogram2d\":[{\"type\":\"histogram2d\",\"colorbar\":{\"outlinewidth\":0,\"ticks\":\"\"},\"colorscale\":[[0.0,\"#0d0887\"],[0.1111111111111111,\"#46039f\"],[0.2222222222222222,\"#7201a8\"],[0.3333333333333333,\"#9c179e\"],[0.4444444444444444,\"#bd3786\"],[0.5555555555555556,\"#d8576b\"],[0.6666666666666666,\"#ed7953\"],[0.7777777777777778,\"#fb9f3a\"],[0.8888888888888888,\"#fdca26\"],[1.0,\"#f0f921\"]]}],\"heatmap\":[{\"type\":\"heatmap\",\"colorbar\":{\"outlinewidth\":0,\"ticks\":\"\"},\"colorscale\":[[0.0,\"#0d0887\"],[0.1111111111111111,\"#46039f\"],[0.2222222222222222,\"#7201a8\"],[0.3333333333333333,\"#9c179e\"],[0.4444444444444444,\"#bd3786\"],[0.5555555555555556,\"#d8576b\"],[0.6666666666666666,\"#ed7953\"],[0.7777777777777778,\"#fb9f3a\"],[0.8888888888888888,\"#fdca26\"],[1.0,\"#f0f921\"]]}],\"heatmapgl\":[{\"type\":\"heatmapgl\",\"colorbar\":{\"outlinewidth\":0,\"ticks\":\"\"},\"colorscale\":[[0.0,\"#0d0887\"],[0.1111111111111111,\"#46039f\"],[0.2222222222222222,\"#7201a8\"],[0.3333333333333333,\"#9c179e\"],[0.4444444444444444,\"#bd3786\"],[0.5555555555555556,\"#d8576b\"],[0.6666666666666666,\"#ed7953\"],[0.7777777777777778,\"#fb9f3a\"],[0.8888888888888888,\"#fdca26\"],[1.0,\"#f0f921\"]]}],\"contourcarpet\":[{\"type\":\"contourcarpet\",\"colorbar\":{\"outlinewidth\":0,\"ticks\":\"\"}}],\"contour\":[{\"type\":\"contour\",\"colorbar\":{\"outlinewidth\":0,\"ticks\":\"\"},\"colorscale\":[[0.0,\"#0d0887\"],[0.1111111111111111,\"#46039f\"],[0.2222222222222222,\"#7201a8\"],[0.3333333333333333,\"#9c179e\"],[0.4444444444444444,\"#bd3786\"],[0.5555555555555556,\"#d8576b\"],[0.6666666666666666,\"#ed7953\"],[0.7777777777777778,\"#fb9f3a\"],[0.8888888888888888,\"#fdca26\"],[1.0,\"#f0f921\"]]}],\"surface\":[{\"type\":\"surface\",\"colorbar\":{\"outlinewidth\":0,\"ticks\":\"\"},\"colorscale\":[[0.0,\"#0d0887\"],[0.1111111111111111,\"#46039f\"],[0.2222222222222222,\"#7201a8\"],[0.3333333333333333,\"#9c179e\"],[0.4444444444444444,\"#bd3786\"],[0.5555555555555556,\"#d8576b\"],[0.6666666666666666,\"#ed7953\"],[0.7777777777777778,\"#fb9f3a\"],[0.8888888888888888,\"#fdca26\"],[1.0,\"#f0f921\"]]}],\"mesh3d\":[{\"type\":\"mesh3d\",\"colorbar\":{\"outlinewidth\":0,\"ticks\":\"\"}}],\"scatter\":[{\"fillpattern\":{\"fillmode\":\"overlay\",\"size\":10,\"solidity\":0.2},\"type\":\"scatter\"}],\"parcoords\":[{\"type\":\"parcoords\",\"line\":{\"colorbar\":{\"outlinewidth\":0,\"ticks\":\"\"}}}],\"scatterpolargl\":[{\"type\":\"scatterpolargl\",\"marker\":{\"colorbar\":{\"outlinewidth\":0,\"ticks\":\"\"}}}],\"bar\":[{\"error_x\":{\"color\":\"#2a3f5f\"},\"error_y\":{\"color\":\"#2a3f5f\"},\"marker\":{\"line\":{\"color\":\"#E5ECF6\",\"width\":0.5},\"pattern\":{\"fillmode\":\"overlay\",\"size\":10,\"solidity\":0.2}},\"type\":\"bar\"}],\"scattergeo\":[{\"type\":\"scattergeo\",\"marker\":{\"colorbar\":{\"outlinewidth\":0,\"ticks\":\"\"}}}],\"scatterpolar\":[{\"type\":\"scatterpolar\",\"marker\":{\"colorbar\":{\"outlinewidth\":0,\"ticks\":\"\"}}}],\"histogram\":[{\"marker\":{\"pattern\":{\"fillmode\":\"overlay\",\"size\":10,\"solidity\":0.2}},\"type\":\"histogram\"}],\"scattergl\":[{\"type\":\"scattergl\",\"marker\":{\"colorbar\":{\"outlinewidth\":0,\"ticks\":\"\"}}}],\"scatter3d\":[{\"type\":\"scatter3d\",\"line\":{\"colorbar\":{\"outlinewidth\":0,\"ticks\":\"\"}},\"marker\":{\"colorbar\":{\"outlinewidth\":0,\"ticks\":\"\"}}}],\"scattermapbox\":[{\"type\":\"scattermapbox\",\"marker\":{\"colorbar\":{\"outlinewidth\":0,\"ticks\":\"\"}}}],\"scatterternary\":[{\"type\":\"scatterternary\",\"marker\":{\"colorbar\":{\"outlinewidth\":0,\"ticks\":\"\"}}}],\"scattercarpet\":[{\"type\":\"scattercarpet\",\"marker\":{\"colorbar\":{\"outlinewidth\":0,\"ticks\":\"\"}}}],\"carpet\":[{\"aaxis\":{\"endlinecolor\":\"#2a3f5f\",\"gridcolor\":\"white\",\"linecolor\":\"white\",\"minorgridcolor\":\"white\",\"startlinecolor\":\"#2a3f5f\"},\"baxis\":{\"endlinecolor\":\"#2a3f5f\",\"gridcolor\":\"white\",\"linecolor\":\"white\",\"minorgridcolor\":\"white\",\"startlinecolor\":\"#2a3f5f\"},\"type\":\"carpet\"}],\"table\":[{\"cells\":{\"fill\":{\"color\":\"#EBF0F8\"},\"line\":{\"color\":\"white\"}},\"header\":{\"fill\":{\"color\":\"#C8D4E3\"},\"line\":{\"color\":\"white\"}},\"type\":\"table\"}],\"barpolar\":[{\"marker\":{\"line\":{\"color\":\"#E5ECF6\",\"width\":0.5},\"pattern\":{\"fillmode\":\"overlay\",\"size\":10,\"solidity\":0.2}},\"type\":\"barpolar\"}],\"pie\":[{\"automargin\":true,\"type\":\"pie\"}]},\"layout\":{\"autotypenumbers\":\"strict\",\"colorway\":[\"#636efa\",\"#EF553B\",\"#00cc96\",\"#ab63fa\",\"#FFA15A\",\"#19d3f3\",\"#FF6692\",\"#B6E880\",\"#FF97FF\",\"#FECB52\"],\"font\":{\"color\":\"#2a3f5f\"},\"hovermode\":\"closest\",\"hoverlabel\":{\"align\":\"left\"},\"paper_bgcolor\":\"white\",\"plot_bgcolor\":\"#E5ECF6\",\"polar\":{\"bgcolor\":\"#E5ECF6\",\"angularaxis\":{\"gridcolor\":\"white\",\"linecolor\":\"white\",\"ticks\":\"\"},\"radialaxis\":{\"gridcolor\":\"white\",\"linecolor\":\"white\",\"ticks\":\"\"}},\"ternary\":{\"bgcolor\":\"#E5ECF6\",\"aaxis\":{\"gridcolor\":\"white\",\"linecolor\":\"white\",\"ticks\":\"\"},\"baxis\":{\"gridcolor\":\"white\",\"linecolor\":\"white\",\"ticks\":\"\"},\"caxis\":{\"gridcolor\":\"white\",\"linecolor\":\"white\",\"ticks\":\"\"}},\"coloraxis\":{\"colorbar\":{\"outlinewidth\":0,\"ticks\":\"\"}},\"colorscale\":{\"sequential\":[[0.0,\"#0d0887\"],[0.1111111111111111,\"#46039f\"],[0.2222222222222222,\"#7201a8\"],[0.3333333333333333,\"#9c179e\"],[0.4444444444444444,\"#bd3786\"],[0.5555555555555556,\"#d8576b\"],[0.6666666666666666,\"#ed7953\"],[0.7777777777777778,\"#fb9f3a\"],[0.8888888888888888,\"#fdca26\"],[1.0,\"#f0f921\"]],\"sequentialminus\":[[0.0,\"#0d0887\"],[0.1111111111111111,\"#46039f\"],[0.2222222222222222,\"#7201a8\"],[0.3333333333333333,\"#9c179e\"],[0.4444444444444444,\"#bd3786\"],[0.5555555555555556,\"#d8576b\"],[0.6666666666666666,\"#ed7953\"],[0.7777777777777778,\"#fb9f3a\"],[0.8888888888888888,\"#fdca26\"],[1.0,\"#f0f921\"]],\"diverging\":[[0,\"#8e0152\"],[0.1,\"#c51b7d\"],[0.2,\"#de77ae\"],[0.3,\"#f1b6da\"],[0.4,\"#fde0ef\"],[0.5,\"#f7f7f7\"],[0.6,\"#e6f5d0\"],[0.7,\"#b8e186\"],[0.8,\"#7fbc41\"],[0.9,\"#4d9221\"],[1,\"#276419\"]]},\"xaxis\":{\"gridcolor\":\"white\",\"linecolor\":\"white\",\"ticks\":\"\",\"title\":{\"standoff\":15},\"zerolinecolor\":\"white\",\"automargin\":true,\"zerolinewidth\":2},\"yaxis\":{\"gridcolor\":\"white\",\"linecolor\":\"white\",\"ticks\":\"\",\"title\":{\"standoff\":15},\"zerolinecolor\":\"white\",\"automargin\":true,\"zerolinewidth\":2},\"scene\":{\"xaxis\":{\"backgroundcolor\":\"#E5ECF6\",\"gridcolor\":\"white\",\"linecolor\":\"white\",\"showbackground\":true,\"ticks\":\"\",\"zerolinecolor\":\"white\",\"gridwidth\":2},\"yaxis\":{\"backgroundcolor\":\"#E5ECF6\",\"gridcolor\":\"white\",\"linecolor\":\"white\",\"showbackground\":true,\"ticks\":\"\",\"zerolinecolor\":\"white\",\"gridwidth\":2},\"zaxis\":{\"backgroundcolor\":\"#E5ECF6\",\"gridcolor\":\"white\",\"linecolor\":\"white\",\"showbackground\":true,\"ticks\":\"\",\"zerolinecolor\":\"white\",\"gridwidth\":2}},\"shapedefaults\":{\"line\":{\"color\":\"#2a3f5f\"}},\"annotationdefaults\":{\"arrowcolor\":\"#2a3f5f\",\"arrowhead\":0,\"arrowwidth\":1},\"geo\":{\"bgcolor\":\"white\",\"landcolor\":\"#E5ECF6\",\"subunitcolor\":\"white\",\"showland\":true,\"showlakes\":true,\"lakecolor\":\"white\"},\"title\":{\"x\":0.05},\"mapbox\":{\"style\":\"light\"}}},\"xaxis\":{\"anchor\":\"y\",\"domain\":[0.0,1.0],\"title\":{\"text\":\"Feature names\"}},\"yaxis\":{\"anchor\":\"x\",\"domain\":[0.0,1.0],\"title\":{\"text\":\"Absolute coefficients\"}},\"legend\":{\"title\":{\"text\":\"Effect\"},\"tracegroupgap\":0},\"title\":{\"text\":\"Absolute coefficients\"},\"barmode\":\"relative\",\"height\":600,\"width\":900},                        {\"responsive\": true}                    ).then(function(){\n",
       "                            \n",
       "var gd = document.getElementById('f4b3423d-dd51-44a7-8865-f840f8fbd454');\n",
       "var x = new MutationObserver(function (mutations, observer) {{\n",
       "        var display = window.getComputedStyle(gd).display;\n",
       "        if (!display || display === 'none') {{\n",
       "            console.log([gd, 'removed!']);\n",
       "            Plotly.purge(gd);\n",
       "            observer.disconnect();\n",
       "        }}\n",
       "}});\n",
       "\n",
       "// Listen for the removal of the full notebook cells\n",
       "var notebookContainer = gd.closest('#notebook-container');\n",
       "if (notebookContainer) {{\n",
       "    x.observe(notebookContainer, {childList: true});\n",
       "}}\n",
       "\n",
       "// Listen for the clearing of the current output cell\n",
       "var outputEl = gd.closest('.output');\n",
       "if (outputEl) {{\n",
       "    x.observe(outputEl, {childList: true});\n",
       "}}\n",
       "\n",
       "                        })                };                });            </script>        </div>"
      ]
     },
     "metadata": {},
     "output_type": "display_data"
    }
   ],
   "source": [
    "fig = px.bar(feautres_coef_df, y='Absolute coefficients',\n",
    "             x='Feature names', color='Effect', title='Absolute coefficients', width=900, height=600)\n",
    "\n",
    "fig.show()"
   ]
  },
  {
   "cell_type": "markdown",
   "id": "7cfd970f",
   "metadata": {},
   "source": [
    "--------"
   ]
  },
  {
   "cell_type": "markdown",
   "id": "1e13e7d0",
   "metadata": {},
   "source": [
    "### Logistic Regression - Grid Search"
   ]
  },
  {
   "cell_type": "markdown",
   "id": "c768042e",
   "metadata": {},
   "source": [
    "'saga' solver works faster for large datasets and also can be used in conjunction with l1 and l2 penalties"
   ]
  },
  {
   "cell_type": "code",
   "execution_count": 202,
   "id": "f6323690",
   "metadata": {
    "ExecuteTime": {
     "end_time": "2022-06-19T07:25:51.683636Z",
     "start_time": "2022-06-18T14:27:41.497982Z"
    },
    "scrolled": true
   },
   "outputs": [
    {
     "name": "stdout",
     "output_type": "stream",
     "text": [
      "Fitting 5 folds for each of 14 candidates, totalling 70 fits\n"
     ]
    },
    {
     "name": "stderr",
     "output_type": "stream",
     "text": [
      "/Users/ariklevy/opt/anaconda3/lib/python3.9/site-packages/sklearn/linear_model/_sag.py:328: ConvergenceWarning: The max_iter was reached which means the coef_ did not converge\n",
      "  warnings.warn(\"The max_iter was reached which means \"\n",
      "/Users/ariklevy/opt/anaconda3/lib/python3.9/site-packages/sklearn/linear_model/_sag.py:328: ConvergenceWarning: The max_iter was reached which means the coef_ did not converge\n",
      "  warnings.warn(\"The max_iter was reached which means \"\n",
      "/Users/ariklevy/opt/anaconda3/lib/python3.9/site-packages/sklearn/linear_model/_sag.py:328: ConvergenceWarning: The max_iter was reached which means the coef_ did not converge\n",
      "  warnings.warn(\"The max_iter was reached which means \"\n",
      "/Users/ariklevy/opt/anaconda3/lib/python3.9/site-packages/sklearn/linear_model/_sag.py:328: ConvergenceWarning: The max_iter was reached which means the coef_ did not converge\n",
      "  warnings.warn(\"The max_iter was reached which means \"\n",
      "/Users/ariklevy/opt/anaconda3/lib/python3.9/site-packages/sklearn/linear_model/_sag.py:328: ConvergenceWarning: The max_iter was reached which means the coef_ did not converge\n",
      "  warnings.warn(\"The max_iter was reached which means \"\n",
      "/Users/ariklevy/opt/anaconda3/lib/python3.9/site-packages/sklearn/linear_model/_sag.py:328: ConvergenceWarning: The max_iter was reached which means the coef_ did not converge\n",
      "  warnings.warn(\"The max_iter was reached which means \"\n",
      "/Users/ariklevy/opt/anaconda3/lib/python3.9/site-packages/sklearn/linear_model/_sag.py:328: ConvergenceWarning: The max_iter was reached which means the coef_ did not converge\n",
      "  warnings.warn(\"The max_iter was reached which means \"\n",
      "/Users/ariklevy/opt/anaconda3/lib/python3.9/site-packages/sklearn/linear_model/_sag.py:328: ConvergenceWarning: The max_iter was reached which means the coef_ did not converge\n",
      "  warnings.warn(\"The max_iter was reached which means \"\n",
      "/Users/ariklevy/opt/anaconda3/lib/python3.9/site-packages/sklearn/linear_model/_sag.py:328: ConvergenceWarning: The max_iter was reached which means the coef_ did not converge\n",
      "  warnings.warn(\"The max_iter was reached which means \"\n",
      "/Users/ariklevy/opt/anaconda3/lib/python3.9/site-packages/sklearn/linear_model/_sag.py:328: ConvergenceWarning: The max_iter was reached which means the coef_ did not converge\n",
      "  warnings.warn(\"The max_iter was reached which means \"\n",
      "/Users/ariklevy/opt/anaconda3/lib/python3.9/site-packages/sklearn/linear_model/_sag.py:328: ConvergenceWarning: The max_iter was reached which means the coef_ did not converge\n",
      "  warnings.warn(\"The max_iter was reached which means \"\n",
      "/Users/ariklevy/opt/anaconda3/lib/python3.9/site-packages/sklearn/linear_model/_sag.py:328: ConvergenceWarning: The max_iter was reached which means the coef_ did not converge\n",
      "  warnings.warn(\"The max_iter was reached which means \"\n",
      "/Users/ariklevy/opt/anaconda3/lib/python3.9/site-packages/sklearn/linear_model/_sag.py:328: ConvergenceWarning: The max_iter was reached which means the coef_ did not converge\n",
      "  warnings.warn(\"The max_iter was reached which means \"\n",
      "/Users/ariklevy/opt/anaconda3/lib/python3.9/site-packages/sklearn/linear_model/_sag.py:328: ConvergenceWarning: The max_iter was reached which means the coef_ did not converge\n",
      "  warnings.warn(\"The max_iter was reached which means \"\n",
      "/Users/ariklevy/opt/anaconda3/lib/python3.9/site-packages/sklearn/linear_model/_sag.py:328: ConvergenceWarning: The max_iter was reached which means the coef_ did not converge\n",
      "  warnings.warn(\"The max_iter was reached which means \"\n",
      "/Users/ariklevy/opt/anaconda3/lib/python3.9/site-packages/sklearn/linear_model/_sag.py:328: ConvergenceWarning: The max_iter was reached which means the coef_ did not converge\n",
      "  warnings.warn(\"The max_iter was reached which means \"\n",
      "/Users/ariklevy/opt/anaconda3/lib/python3.9/site-packages/sklearn/linear_model/_sag.py:328: ConvergenceWarning: The max_iter was reached which means the coef_ did not converge\n",
      "  warnings.warn(\"The max_iter was reached which means \"\n",
      "/Users/ariklevy/opt/anaconda3/lib/python3.9/site-packages/sklearn/linear_model/_sag.py:328: ConvergenceWarning: The max_iter was reached which means the coef_ did not converge\n",
      "  warnings.warn(\"The max_iter was reached which means \"\n",
      "/Users/ariklevy/opt/anaconda3/lib/python3.9/site-packages/sklearn/linear_model/_sag.py:328: ConvergenceWarning: The max_iter was reached which means the coef_ did not converge\n",
      "  warnings.warn(\"The max_iter was reached which means \"\n",
      "/Users/ariklevy/opt/anaconda3/lib/python3.9/site-packages/sklearn/linear_model/_sag.py:328: ConvergenceWarning: The max_iter was reached which means the coef_ did not converge\n",
      "  warnings.warn(\"The max_iter was reached which means \"\n",
      "/Users/ariklevy/opt/anaconda3/lib/python3.9/site-packages/sklearn/linear_model/_sag.py:328: ConvergenceWarning: The max_iter was reached which means the coef_ did not converge\n",
      "  warnings.warn(\"The max_iter was reached which means \"\n",
      "/Users/ariklevy/opt/anaconda3/lib/python3.9/site-packages/sklearn/linear_model/_sag.py:328: ConvergenceWarning: The max_iter was reached which means the coef_ did not converge\n",
      "  warnings.warn(\"The max_iter was reached which means \"\n",
      "/Users/ariklevy/opt/anaconda3/lib/python3.9/site-packages/sklearn/linear_model/_sag.py:328: ConvergenceWarning: The max_iter was reached which means the coef_ did not converge\n",
      "  warnings.warn(\"The max_iter was reached which means \"\n",
      "/Users/ariklevy/opt/anaconda3/lib/python3.9/site-packages/sklearn/linear_model/_sag.py:328: ConvergenceWarning: The max_iter was reached which means the coef_ did not converge\n",
      "  warnings.warn(\"The max_iter was reached which means \"\n",
      "/Users/ariklevy/opt/anaconda3/lib/python3.9/site-packages/sklearn/linear_model/_sag.py:328: ConvergenceWarning: The max_iter was reached which means the coef_ did not converge\n",
      "  warnings.warn(\"The max_iter was reached which means \"\n",
      "/Users/ariklevy/opt/anaconda3/lib/python3.9/site-packages/sklearn/linear_model/_sag.py:328: ConvergenceWarning: The max_iter was reached which means the coef_ did not converge\n",
      "  warnings.warn(\"The max_iter was reached which means \"\n",
      "/Users/ariklevy/opt/anaconda3/lib/python3.9/site-packages/sklearn/linear_model/_sag.py:328: ConvergenceWarning: The max_iter was reached which means the coef_ did not converge\n",
      "  warnings.warn(\"The max_iter was reached which means \"\n",
      "/Users/ariklevy/opt/anaconda3/lib/python3.9/site-packages/sklearn/linear_model/_sag.py:328: ConvergenceWarning: The max_iter was reached which means the coef_ did not converge\n",
      "  warnings.warn(\"The max_iter was reached which means \"\n",
      "/Users/ariklevy/opt/anaconda3/lib/python3.9/site-packages/sklearn/linear_model/_sag.py:328: ConvergenceWarning: The max_iter was reached which means the coef_ did not converge\n",
      "  warnings.warn(\"The max_iter was reached which means \"\n",
      "/Users/ariklevy/opt/anaconda3/lib/python3.9/site-packages/sklearn/linear_model/_sag.py:328: ConvergenceWarning: The max_iter was reached which means the coef_ did not converge\n",
      "  warnings.warn(\"The max_iter was reached which means \"\n",
      "/Users/ariklevy/opt/anaconda3/lib/python3.9/site-packages/sklearn/linear_model/_sag.py:328: ConvergenceWarning: The max_iter was reached which means the coef_ did not converge\n",
      "  warnings.warn(\"The max_iter was reached which means \"\n",
      "/Users/ariklevy/opt/anaconda3/lib/python3.9/site-packages/sklearn/linear_model/_sag.py:328: ConvergenceWarning: The max_iter was reached which means the coef_ did not converge\n",
      "  warnings.warn(\"The max_iter was reached which means \"\n",
      "/Users/ariklevy/opt/anaconda3/lib/python3.9/site-packages/sklearn/linear_model/_sag.py:328: ConvergenceWarning: The max_iter was reached which means the coef_ did not converge\n",
      "  warnings.warn(\"The max_iter was reached which means \"\n",
      "/Users/ariklevy/opt/anaconda3/lib/python3.9/site-packages/sklearn/linear_model/_sag.py:328: ConvergenceWarning: The max_iter was reached which means the coef_ did not converge\n",
      "  warnings.warn(\"The max_iter was reached which means \"\n",
      "/Users/ariklevy/opt/anaconda3/lib/python3.9/site-packages/sklearn/linear_model/_sag.py:328: ConvergenceWarning: The max_iter was reached which means the coef_ did not converge\n",
      "  warnings.warn(\"The max_iter was reached which means \"\n",
      "/Users/ariklevy/opt/anaconda3/lib/python3.9/site-packages/sklearn/linear_model/_sag.py:328: ConvergenceWarning: The max_iter was reached which means the coef_ did not converge\n",
      "  warnings.warn(\"The max_iter was reached which means \"\n",
      "/Users/ariklevy/opt/anaconda3/lib/python3.9/site-packages/sklearn/linear_model/_sag.py:328: ConvergenceWarning: The max_iter was reached which means the coef_ did not converge\n",
      "  warnings.warn(\"The max_iter was reached which means \"\n",
      "/Users/ariklevy/opt/anaconda3/lib/python3.9/site-packages/sklearn/linear_model/_sag.py:328: ConvergenceWarning: The max_iter was reached which means the coef_ did not converge\n",
      "  warnings.warn(\"The max_iter was reached which means \"\n",
      "/Users/ariklevy/opt/anaconda3/lib/python3.9/site-packages/sklearn/linear_model/_sag.py:328: ConvergenceWarning: The max_iter was reached which means the coef_ did not converge\n",
      "  warnings.warn(\"The max_iter was reached which means \"\n",
      "/Users/ariklevy/opt/anaconda3/lib/python3.9/site-packages/sklearn/linear_model/_sag.py:328: ConvergenceWarning: The max_iter was reached which means the coef_ did not converge\n",
      "  warnings.warn(\"The max_iter was reached which means \"\n",
      "/Users/ariklevy/opt/anaconda3/lib/python3.9/site-packages/sklearn/linear_model/_sag.py:328: ConvergenceWarning: The max_iter was reached which means the coef_ did not converge\n",
      "  warnings.warn(\"The max_iter was reached which means \"\n",
      "/Users/ariklevy/opt/anaconda3/lib/python3.9/site-packages/sklearn/linear_model/_sag.py:328: ConvergenceWarning: The max_iter was reached which means the coef_ did not converge\n",
      "  warnings.warn(\"The max_iter was reached which means \"\n",
      "/Users/ariklevy/opt/anaconda3/lib/python3.9/site-packages/sklearn/linear_model/_sag.py:328: ConvergenceWarning: The max_iter was reached which means the coef_ did not converge\n",
      "  warnings.warn(\"The max_iter was reached which means \"\n",
      "/Users/ariklevy/opt/anaconda3/lib/python3.9/site-packages/sklearn/linear_model/_sag.py:328: ConvergenceWarning: The max_iter was reached which means the coef_ did not converge\n",
      "  warnings.warn(\"The max_iter was reached which means \"\n",
      "/Users/ariklevy/opt/anaconda3/lib/python3.9/site-packages/sklearn/linear_model/_sag.py:328: ConvergenceWarning: The max_iter was reached which means the coef_ did not converge\n",
      "  warnings.warn(\"The max_iter was reached which means \"\n",
      "/Users/ariklevy/opt/anaconda3/lib/python3.9/site-packages/sklearn/linear_model/_sag.py:328: ConvergenceWarning: The max_iter was reached which means the coef_ did not converge\n",
      "  warnings.warn(\"The max_iter was reached which means \"\n",
      "/Users/ariklevy/opt/anaconda3/lib/python3.9/site-packages/sklearn/linear_model/_sag.py:328: ConvergenceWarning: The max_iter was reached which means the coef_ did not converge\n",
      "  warnings.warn(\"The max_iter was reached which means \"\n",
      "/Users/ariklevy/opt/anaconda3/lib/python3.9/site-packages/sklearn/linear_model/_sag.py:328: ConvergenceWarning: The max_iter was reached which means the coef_ did not converge\n",
      "  warnings.warn(\"The max_iter was reached which means \"\n",
      "/Users/ariklevy/opt/anaconda3/lib/python3.9/site-packages/sklearn/linear_model/_sag.py:328: ConvergenceWarning: The max_iter was reached which means the coef_ did not converge\n",
      "  warnings.warn(\"The max_iter was reached which means \"\n",
      "/Users/ariklevy/opt/anaconda3/lib/python3.9/site-packages/sklearn/linear_model/_sag.py:328: ConvergenceWarning: The max_iter was reached which means the coef_ did not converge\n",
      "  warnings.warn(\"The max_iter was reached which means \"\n",
      "/Users/ariklevy/opt/anaconda3/lib/python3.9/site-packages/sklearn/linear_model/_sag.py:328: ConvergenceWarning: The max_iter was reached which means the coef_ did not converge\n",
      "  warnings.warn(\"The max_iter was reached which means \"\n",
      "/Users/ariklevy/opt/anaconda3/lib/python3.9/site-packages/sklearn/linear_model/_sag.py:328: ConvergenceWarning: The max_iter was reached which means the coef_ did not converge\n",
      "  warnings.warn(\"The max_iter was reached which means \"\n",
      "/Users/ariklevy/opt/anaconda3/lib/python3.9/site-packages/sklearn/linear_model/_sag.py:328: ConvergenceWarning: The max_iter was reached which means the coef_ did not converge\n",
      "  warnings.warn(\"The max_iter was reached which means \"\n",
      "/Users/ariklevy/opt/anaconda3/lib/python3.9/site-packages/sklearn/linear_model/_sag.py:328: ConvergenceWarning: The max_iter was reached which means the coef_ did not converge\n",
      "  warnings.warn(\"The max_iter was reached which means \"\n",
      "/Users/ariklevy/opt/anaconda3/lib/python3.9/site-packages/sklearn/linear_model/_sag.py:328: ConvergenceWarning: The max_iter was reached which means the coef_ did not converge\n",
      "  warnings.warn(\"The max_iter was reached which means \"\n",
      "/Users/ariklevy/opt/anaconda3/lib/python3.9/site-packages/sklearn/linear_model/_sag.py:328: ConvergenceWarning: The max_iter was reached which means the coef_ did not converge\n",
      "  warnings.warn(\"The max_iter was reached which means \"\n",
      "/Users/ariklevy/opt/anaconda3/lib/python3.9/site-packages/sklearn/linear_model/_sag.py:328: ConvergenceWarning: The max_iter was reached which means the coef_ did not converge\n",
      "  warnings.warn(\"The max_iter was reached which means \"\n",
      "/Users/ariklevy/opt/anaconda3/lib/python3.9/site-packages/sklearn/linear_model/_sag.py:328: ConvergenceWarning: The max_iter was reached which means the coef_ did not converge\n",
      "  warnings.warn(\"The max_iter was reached which means \"\n",
      "/Users/ariklevy/opt/anaconda3/lib/python3.9/site-packages/sklearn/linear_model/_sag.py:328: ConvergenceWarning: The max_iter was reached which means the coef_ did not converge\n",
      "  warnings.warn(\"The max_iter was reached which means \"\n",
      "/Users/ariklevy/opt/anaconda3/lib/python3.9/site-packages/sklearn/linear_model/_sag.py:328: ConvergenceWarning: The max_iter was reached which means the coef_ did not converge\n",
      "  warnings.warn(\"The max_iter was reached which means \"\n",
      "/Users/ariklevy/opt/anaconda3/lib/python3.9/site-packages/sklearn/linear_model/_sag.py:328: ConvergenceWarning: The max_iter was reached which means the coef_ did not converge\n",
      "  warnings.warn(\"The max_iter was reached which means \"\n",
      "/Users/ariklevy/opt/anaconda3/lib/python3.9/site-packages/sklearn/linear_model/_sag.py:328: ConvergenceWarning: The max_iter was reached which means the coef_ did not converge\n",
      "  warnings.warn(\"The max_iter was reached which means \"\n",
      "/Users/ariklevy/opt/anaconda3/lib/python3.9/site-packages/sklearn/linear_model/_sag.py:328: ConvergenceWarning: The max_iter was reached which means the coef_ did not converge\n",
      "  warnings.warn(\"The max_iter was reached which means \"\n",
      "/Users/ariklevy/opt/anaconda3/lib/python3.9/site-packages/sklearn/linear_model/_sag.py:328: ConvergenceWarning: The max_iter was reached which means the coef_ did not converge\n",
      "  warnings.warn(\"The max_iter was reached which means \"\n",
      "/Users/ariklevy/opt/anaconda3/lib/python3.9/site-packages/sklearn/linear_model/_sag.py:328: ConvergenceWarning: The max_iter was reached which means the coef_ did not converge\n",
      "  warnings.warn(\"The max_iter was reached which means \"\n"
     ]
    },
    {
     "name": "stdout",
     "output_type": "stream",
     "text": [
      "[CV] END ...................C=0.001, penalty=l2, solver=saga; total time= 1.7min\n",
      "[CV] END ....................C=0.01, penalty=l1, solver=saga; total time= 3.5min\n",
      "[CV] END .....................C=0.1, penalty=l2, solver=saga; total time= 1.2min\n",
      "[CV] END ....................C=1.0, penalty=l1, solver=saga; total time=285.6min\n",
      "[CV] END ..................C=100.0, penalty=l1, solver=saga; total time=517.5min\n",
      "[CV] END ..................C=1000.0, penalty=l2, solver=saga; total time= 1.2min\n",
      "[CV] END ...................C=0.001, penalty=l2, solver=saga; total time= 1.7min\n",
      "[CV] END ....................C=0.01, penalty=l1, solver=saga; total time= 2.9min\n",
      "[CV] END .....................C=0.1, penalty=l2, solver=saga; total time= 1.4min\n",
      "[CV] END ....................C=1.0, penalty=l1, solver=saga; total time=285.2min\n",
      "[CV] END ....................C=10.0, penalty=l2, solver=saga; total time= 1.1min\n",
      "[CV] END ..................C=100.0, penalty=l1, solver=saga; total time=517.1min\n",
      "[CV] END ..................C=1000.0, penalty=l2, solver=saga; total time= 1.2min\n",
      "[CV] END ...................C=0.001, penalty=l2, solver=saga; total time= 1.7min\n",
      "[CV] END ....................C=0.01, penalty=l1, solver=saga; total time= 3.1min\n",
      "[CV] END .....................C=0.1, penalty=l2, solver=saga; total time= 1.4min\n",
      "[CV] END ....................C=1.0, penalty=l1, solver=saga; total time=285.4min\n",
      "[CV] END ....................C=10.0, penalty=l2, solver=saga; total time= 1.1min\n",
      "[CV] END ..................C=100.0, penalty=l1, solver=saga; total time=517.1min\n",
      "[CV] END ..................C=1000.0, penalty=l2, solver=saga; total time= 1.1min\n",
      "[CV] END ...................C=0.001, penalty=l2, solver=saga; total time= 1.7min\n",
      "[CV] END ....................C=0.01, penalty=l1, solver=saga; total time= 2.9min\n",
      "[CV] END .....................C=0.1, penalty=l2, solver=saga; total time= 1.4min\n",
      "[CV] END ....................C=1.0, penalty=l1, solver=saga; total time=285.0min\n",
      "[CV] END ....................C=10.0, penalty=l2, solver=saga; total time= 1.1min\n",
      "[CV] END ..................C=100.0, penalty=l1, solver=saga; total time=517.8min\n",
      "[CV] END ..................C=1000.0, penalty=l2, solver=saga; total time= 1.1min\n",
      "[CV] END ...................C=0.001, penalty=l2, solver=saga; total time= 1.7min\n",
      "[CV] END ....................C=0.01, penalty=l1, solver=saga; total time= 2.9min\n",
      "[CV] END .....................C=0.1, penalty=l2, solver=saga; total time= 1.4min\n",
      "[CV] END ....................C=1.0, penalty=l1, solver=saga; total time=284.6min\n",
      "[CV] END ....................C=10.0, penalty=l2, solver=saga; total time=  53.2s\n",
      "[CV] END ....................C=10.0, penalty=l2, solver=saga; total time= 1.1min\n",
      "[CV] END ..................C=100.0, penalty=l1, solver=saga; total time=517.9min\n",
      "[CV] END ..................C=1000.0, penalty=l2, solver=saga; total time=  51.7s\n"
     ]
    },
    {
     "name": "stderr",
     "output_type": "stream",
     "text": [
      "/Users/ariklevy/opt/anaconda3/lib/python3.9/site-packages/sklearn/linear_model/_sag.py:328: ConvergenceWarning: The max_iter was reached which means the coef_ did not converge\n",
      "  warnings.warn(\"The max_iter was reached which means \"\n",
      "/Users/ariklevy/opt/anaconda3/lib/python3.9/site-packages/sklearn/linear_model/_sag.py:328: ConvergenceWarning: The max_iter was reached which means the coef_ did not converge\n",
      "  warnings.warn(\"The max_iter was reached which means \"\n",
      "/Users/ariklevy/opt/anaconda3/lib/python3.9/site-packages/sklearn/linear_model/_sag.py:328: ConvergenceWarning: The max_iter was reached which means the coef_ did not converge\n",
      "  warnings.warn(\"The max_iter was reached which means \"\n",
      "/Users/ariklevy/opt/anaconda3/lib/python3.9/site-packages/sklearn/linear_model/_sag.py:328: ConvergenceWarning: The max_iter was reached which means the coef_ did not converge\n",
      "  warnings.warn(\"The max_iter was reached which means \"\n",
      "/Users/ariklevy/opt/anaconda3/lib/python3.9/site-packages/sklearn/linear_model/_sag.py:328: ConvergenceWarning: The max_iter was reached which means the coef_ did not converge\n",
      "  warnings.warn(\"The max_iter was reached which means \"\n"
     ]
    },
    {
     "name": "stdout",
     "output_type": "stream",
     "text": [
      "Best parameters  {'C': 0.001, 'penalty': 'l1', 'solver': 'saga'}\n",
      "Accuracy : 0.5013169257340242\n"
     ]
    },
    {
     "name": "stderr",
     "output_type": "stream",
     "text": [
      "/Users/ariklevy/opt/anaconda3/lib/python3.9/site-packages/sklearn/linear_model/_sag.py:328: ConvergenceWarning: The max_iter was reached which means the coef_ did not converge\n",
      "  warnings.warn(\"The max_iter was reached which means \"\n"
     ]
    }
   ],
   "source": [
    "grid={\"C\":np.logspace(-3,3,7), \"penalty\":[\"l1\",\"l2\"], 'solver':['saga']}\n",
    "\n",
    "logreg = LogisticRegression()\n",
    "logreg_cv = GridSearchCV(logreg, grid, cv=5, n_jobs=-1, verbose=2)\n",
    "logreg_cv.fit(X_train, y_train)\n",
    "\n",
    "print(\"Best parameters \",logreg_cv.best_params_)\n",
    "print(\"Accuracy :\",logreg_cv.best_score_)"
   ]
  },
  {
   "cell_type": "code",
   "execution_count": null,
   "id": "d0ac5d65",
   "metadata": {},
   "outputs": [],
   "source": []
  },
  {
   "cell_type": "markdown",
   "id": "2ba556a8",
   "metadata": {},
   "source": [
    "-------"
   ]
  },
  {
   "cell_type": "markdown",
   "id": "c2caf375",
   "metadata": {},
   "source": [
    "### Linear SVC"
   ]
  },
  {
   "cell_type": "code",
   "execution_count": 198,
   "id": "5a9459ef",
   "metadata": {
    "ExecuteTime": {
     "end_time": "2022-06-18T06:47:20.473385Z",
     "start_time": "2022-06-18T06:42:35.821952Z"
    }
   },
   "outputs": [
    {
     "name": "stdout",
     "output_type": "stream",
     "text": [
      "[LibLinear]............................................................................................................................................................................................................................................................................................................\n",
      "optimization finished, #iter = 3000\n",
      "\n",
      "WARNING: reaching max number of iterations\n",
      "Using -s 2 may be faster (also see FAQ)\n",
      "\n",
      "Objective value = -26.290072\n",
      "nSV = 41311\n"
     ]
    },
    {
     "name": "stderr",
     "output_type": "stream",
     "text": [
      "/Users/ariklevy/opt/anaconda3/lib/python3.9/site-packages/sklearn/svm/_base.py:985: ConvergenceWarning: Liblinear failed to converge, increase the number of iterations.\n",
      "  warnings.warn(\"Liblinear failed to converge, increase \"\n"
     ]
    },
    {
     "name": "stdout",
     "output_type": "stream",
     "text": [
      "0.930958549222798\n",
      "0.6453210607056761\n"
     ]
    }
   ],
   "source": [
    "lsvc = LinearSVC(verbose=2, max_iter=3000, random_state=42)\n",
    "\n",
    "lsvc.fit(X_train, y_train)\n",
    "\n",
    "print(lsvc.score(X_train,y_train))\n",
    "print(lsvc.score(X_test, y_test))"
   ]
  },
  {
   "cell_type": "markdown",
   "id": "3436c34c",
   "metadata": {},
   "source": [
    "### Linear SVC - Randomized Search"
   ]
  },
  {
   "cell_type": "code",
   "execution_count": 199,
   "id": "67977972",
   "metadata": {
    "ExecuteTime": {
     "end_time": "2022-06-18T08:52:00.757436Z",
     "start_time": "2022-06-18T06:49:23.808247Z"
    },
    "scrolled": true
   },
   "outputs": [
    {
     "name": "stdout",
     "output_type": "stream",
     "text": [
      "Fitting 5 folds for each of 5 candidates, totalling 25 fits\n"
     ]
    },
    {
     "name": "stderr",
     "output_type": "stream",
     "text": [
      "/Users/ariklevy/opt/anaconda3/lib/python3.9/site-packages/sklearn/svm/_base.py:985: ConvergenceWarning: Liblinear failed to converge, increase the number of iterations.\n",
      "  warnings.warn(\"Liblinear failed to converge, increase \"\n",
      "/Users/ariklevy/opt/anaconda3/lib/python3.9/site-packages/sklearn/svm/_base.py:985: ConvergenceWarning: Liblinear failed to converge, increase the number of iterations.\n",
      "  warnings.warn(\"Liblinear failed to converge, increase \"\n",
      "/Users/ariklevy/opt/anaconda3/lib/python3.9/site-packages/sklearn/svm/_base.py:985: ConvergenceWarning: Liblinear failed to converge, increase the number of iterations.\n",
      "  warnings.warn(\"Liblinear failed to converge, increase \"\n",
      "/Users/ariklevy/opt/anaconda3/lib/python3.9/site-packages/sklearn/svm/_base.py:985: ConvergenceWarning: Liblinear failed to converge, increase the number of iterations.\n",
      "  warnings.warn(\"Liblinear failed to converge, increase \"\n",
      "/Users/ariklevy/opt/anaconda3/lib/python3.9/site-packages/sklearn/svm/_base.py:985: ConvergenceWarning: Liblinear failed to converge, increase the number of iterations.\n",
      "  warnings.warn(\"Liblinear failed to converge, increase \"\n",
      "/Users/ariklevy/opt/anaconda3/lib/python3.9/site-packages/sklearn/svm/_base.py:985: ConvergenceWarning: Liblinear failed to converge, increase the number of iterations.\n",
      "  warnings.warn(\"Liblinear failed to converge, increase \"\n",
      "/Users/ariklevy/opt/anaconda3/lib/python3.9/site-packages/sklearn/svm/_base.py:985: ConvergenceWarning: Liblinear failed to converge, increase the number of iterations.\n",
      "  warnings.warn(\"Liblinear failed to converge, increase \"\n",
      "/Users/ariklevy/opt/anaconda3/lib/python3.9/site-packages/sklearn/svm/_base.py:985: ConvergenceWarning: Liblinear failed to converge, increase the number of iterations.\n",
      "  warnings.warn(\"Liblinear failed to converge, increase \"\n",
      "/Users/ariklevy/opt/anaconda3/lib/python3.9/site-packages/sklearn/svm/_base.py:985: ConvergenceWarning: Liblinear failed to converge, increase the number of iterations.\n",
      "  warnings.warn(\"Liblinear failed to converge, increase \"\n",
      "/Users/ariklevy/opt/anaconda3/lib/python3.9/site-packages/sklearn/svm/_base.py:985: ConvergenceWarning: Liblinear failed to converge, increase the number of iterations.\n",
      "  warnings.warn(\"Liblinear failed to converge, increase \"\n",
      "/Users/ariklevy/opt/anaconda3/lib/python3.9/site-packages/sklearn/svm/_base.py:985: ConvergenceWarning: Liblinear failed to converge, increase the number of iterations.\n",
      "  warnings.warn(\"Liblinear failed to converge, increase \"\n",
      "/Users/ariklevy/opt/anaconda3/lib/python3.9/site-packages/sklearn/svm/_base.py:985: ConvergenceWarning: Liblinear failed to converge, increase the number of iterations.\n",
      "  warnings.warn(\"Liblinear failed to converge, increase \"\n",
      "/Users/ariklevy/opt/anaconda3/lib/python3.9/site-packages/sklearn/svm/_base.py:985: ConvergenceWarning: Liblinear failed to converge, increase the number of iterations.\n",
      "  warnings.warn(\"Liblinear failed to converge, increase \"\n",
      "/Users/ariklevy/opt/anaconda3/lib/python3.9/site-packages/sklearn/svm/_base.py:985: ConvergenceWarning: Liblinear failed to converge, increase the number of iterations.\n",
      "  warnings.warn(\"Liblinear failed to converge, increase \"\n",
      "/Users/ariklevy/opt/anaconda3/lib/python3.9/site-packages/sklearn/svm/_base.py:985: ConvergenceWarning: Liblinear failed to converge, increase the number of iterations.\n",
      "  warnings.warn(\"Liblinear failed to converge, increase \"\n",
      "/Users/ariklevy/opt/anaconda3/lib/python3.9/site-packages/sklearn/svm/_base.py:985: ConvergenceWarning: Liblinear failed to converge, increase the number of iterations.\n",
      "  warnings.warn(\"Liblinear failed to converge, increase \"\n",
      "/Users/ariklevy/opt/anaconda3/lib/python3.9/site-packages/sklearn/svm/_base.py:985: ConvergenceWarning: Liblinear failed to converge, increase the number of iterations.\n",
      "  warnings.warn(\"Liblinear failed to converge, increase \"\n",
      "/Users/ariklevy/opt/anaconda3/lib/python3.9/site-packages/sklearn/svm/_base.py:985: ConvergenceWarning: Liblinear failed to converge, increase the number of iterations.\n",
      "  warnings.warn(\"Liblinear failed to converge, increase \"\n",
      "/Users/ariklevy/opt/anaconda3/lib/python3.9/site-packages/sklearn/svm/_base.py:985: ConvergenceWarning: Liblinear failed to converge, increase the number of iterations.\n",
      "  warnings.warn(\"Liblinear failed to converge, increase \"\n",
      "/Users/ariklevy/opt/anaconda3/lib/python3.9/site-packages/sklearn/svm/_base.py:985: ConvergenceWarning: Liblinear failed to converge, increase the number of iterations.\n",
      "  warnings.warn(\"Liblinear failed to converge, increase \"\n"
     ]
    },
    {
     "name": "stdout",
     "output_type": "stream",
     "text": [
      "[CV] END ............................................C=0.001; total time=57.2min\n",
      "[CV] END .........................................C=15.00025; total time=53.2min\n",
      "[CV] END ..........................................C=5.00075; total time=57.5min\n",
      "[CV] END .........................................C=15.00025; total time=52.9min\n",
      "[CV] END ..........................................C=5.00075; total time=57.2min\n",
      "[CV] END .........................................C=15.00025; total time=53.2min\n",
      "[CV] END ............................................C=0.001; total time=57.2min\n",
      "[CV] END .........................................C=15.00025; total time=53.2min\n",
      "[CV] END ............................................C=0.001; total time=57.7min\n",
      "[CV] END .........................................C=15.00025; total time=52.8min\n"
     ]
    },
    {
     "name": "stderr",
     "output_type": "stream",
     "text": [
      "/Users/ariklevy/opt/anaconda3/lib/python3.9/site-packages/sklearn/svm/_base.py:985: ConvergenceWarning: Liblinear failed to converge, increase the number of iterations.\n",
      "  warnings.warn(\"Liblinear failed to converge, increase \"\n",
      "/Users/ariklevy/opt/anaconda3/lib/python3.9/site-packages/sklearn/svm/_base.py:985: ConvergenceWarning: Liblinear failed to converge, increase the number of iterations.\n",
      "  warnings.warn(\"Liblinear failed to converge, increase \"\n",
      "/Users/ariklevy/opt/anaconda3/lib/python3.9/site-packages/sklearn/svm/_base.py:985: ConvergenceWarning: Liblinear failed to converge, increase the number of iterations.\n",
      "  warnings.warn(\"Liblinear failed to converge, increase \"\n",
      "/Users/ariklevy/opt/anaconda3/lib/python3.9/site-packages/sklearn/svm/_base.py:985: ConvergenceWarning: Liblinear failed to converge, increase the number of iterations.\n",
      "  warnings.warn(\"Liblinear failed to converge, increase \"\n",
      "/Users/ariklevy/opt/anaconda3/lib/python3.9/site-packages/sklearn/svm/_base.py:985: ConvergenceWarning: Liblinear failed to converge, increase the number of iterations.\n",
      "  warnings.warn(\"Liblinear failed to converge, increase \"\n"
     ]
    },
    {
     "name": "stdout",
     "output_type": "stream",
     "text": [
      "[CV] END ..........................................C=5.00075; total time=56.9min\n",
      "[CV] END ...............................C=10.000499999999999; total time=53.1min\n",
      "[CV] END .............................................C=20.0; total time= 7.4min\n",
      "0.6475388601036268\n"
     ]
    },
    {
     "name": "stderr",
     "output_type": "stream",
     "text": [
      "/Users/ariklevy/opt/anaconda3/lib/python3.9/site-packages/sklearn/svm/_base.py:985: ConvergenceWarning: Liblinear failed to converge, increase the number of iterations.\n",
      "  warnings.warn(\"Liblinear failed to converge, increase \"\n"
     ]
    }
   ],
   "source": [
    "params = {\n",
    "    'C': np.linspace(0.001, 20, 5)\n",
    "}\n",
    "\n",
    "lsvc = LinearSVC(max_iter=3000, random_state=42)\n",
    "svc_grid = RandomizedSearchCV(lsvc, params, n_iter=5, n_jobs=-1, verbose=2)\n",
    "svc_grid.fit(X_train, y_train)\n",
    "\n",
    "print(svc_grid.best_score_)"
   ]
  },
  {
   "cell_type": "markdown",
   "id": "adf4469f",
   "metadata": {},
   "source": [
    "-------"
   ]
  },
  {
   "cell_type": "markdown",
   "id": "f2efcf36",
   "metadata": {},
   "source": [
    "### XGBoost - Simple"
   ]
  },
  {
   "cell_type": "markdown",
   "id": "0d1fd1bb",
   "metadata": {},
   "source": [
    "#### Using weight"
   ]
  },
  {
   "cell_type": "code",
   "execution_count": 357,
   "id": "1f7ff187",
   "metadata": {
    "ExecuteTime": {
     "end_time": "2022-06-22T15:38:39.383962Z",
     "start_time": "2022-06-22T15:37:51.932810Z"
    }
   },
   "outputs": [
    {
     "data": {
      "text/plain": [
       "XGBClassifier(base_score=0.5, booster='gbtree', colsample_bylevel=1,\n",
       "              colsample_bynode=1, colsample_bytree=1, enable_categorical=False,\n",
       "              eval_metric='mlogloss', gamma=0, gpu_id=-1,\n",
       "              importance_type='weight', interaction_constraints='',\n",
       "              learning_rate=0.300000012, max_delta_step=0, max_depth=6,\n",
       "              min_child_weight=1, missing=nan, monotone_constraints='()',\n",
       "              n_estimators=100, n_jobs=-1, num_parallel_tree=1,\n",
       "              predictor='auto', random_state=0, reg_alpha=0, reg_lambda=1,\n",
       "              scale_pos_weight=1, subsample=1, tree_method='exact',\n",
       "              use_label_encoder=False, validate_parameters=1, verbosity=None)"
      ]
     },
     "execution_count": 357,
     "metadata": {},
     "output_type": "execute_result"
    }
   ],
   "source": [
    "xgb_model = XGBClassifier(use_label_encoder=False, eval_metric='mlogloss', n_jobs=-1, importance_type='weight')\n",
    "xgb_model.fit(X_train, y_train)"
   ]
  },
  {
   "cell_type": "code",
   "execution_count": 358,
   "id": "8c88fdae",
   "metadata": {
    "ExecuteTime": {
     "end_time": "2022-06-22T15:38:49.458849Z",
     "start_time": "2022-06-22T15:38:48.626234Z"
    }
   },
   "outputs": [
    {
     "name": "stdout",
     "output_type": "stream",
     "text": [
      "0.8101899827288428\n",
      "0.6884944115713346\n"
     ]
    }
   ],
   "source": [
    "print(xgb_model.score(X_train,y_train))\n",
    "print(xgb_model.score(X_test, y_test))\n"
   ]
  },
  {
   "cell_type": "code",
   "execution_count": 359,
   "id": "64df4d48",
   "metadata": {
    "ExecuteTime": {
     "end_time": "2022-06-22T15:38:59.523187Z",
     "start_time": "2022-06-22T15:38:58.416964Z"
    }
   },
   "outputs": [
    {
     "data": {
      "text/html": [
       "<div>\n",
       "<style scoped>\n",
       "    .dataframe tbody tr th:only-of-type {\n",
       "        vertical-align: middle;\n",
       "    }\n",
       "\n",
       "    .dataframe tbody tr th {\n",
       "        vertical-align: top;\n",
       "    }\n",
       "\n",
       "    .dataframe thead th {\n",
       "        text-align: right;\n",
       "    }\n",
       "</style>\n",
       "<table border=\"1\" class=\"dataframe\">\n",
       "  <thead>\n",
       "    <tr style=\"text-align: right;\">\n",
       "      <th></th>\n",
       "      <th>feature_names</th>\n",
       "      <th>feature_importance</th>\n",
       "    </tr>\n",
       "  </thead>\n",
       "  <tbody>\n",
       "    <tr>\n",
       "      <th>1154499</th>\n",
       "      <td>author_followers</td>\n",
       "      <td>0.029560</td>\n",
       "    </tr>\n",
       "    <tr>\n",
       "      <th>1154500</th>\n",
       "      <td>number_of_words</td>\n",
       "      <td>0.006128</td>\n",
       "    </tr>\n",
       "    <tr>\n",
       "      <th>1154502</th>\n",
       "      <td>subjectivity</td>\n",
       "      <td>0.005768</td>\n",
       "    </tr>\n",
       "    <tr>\n",
       "      <th>1154501</th>\n",
       "      <td>polarity</td>\n",
       "      <td>0.005407</td>\n",
       "    </tr>\n",
       "    <tr>\n",
       "      <th>1154517</th>\n",
       "      <td>subtitle_1</td>\n",
       "      <td>0.004686</td>\n",
       "    </tr>\n",
       "    <tr>\n",
       "      <th>1154504</th>\n",
       "      <td>publication_datadriveninvestor</td>\n",
       "      <td>0.004686</td>\n",
       "    </tr>\n",
       "    <tr>\n",
       "      <th>480344</th>\n",
       "      <td>like</td>\n",
       "      <td>0.003605</td>\n",
       "    </tr>\n",
       "    <tr>\n",
       "      <th>596725</th>\n",
       "      <td>one</td>\n",
       "      <td>0.003605</td>\n",
       "    </tr>\n",
       "    <tr>\n",
       "      <th>526267</th>\n",
       "      <td>may</td>\n",
       "      <td>0.003605</td>\n",
       "    </tr>\n",
       "    <tr>\n",
       "      <th>51893</th>\n",
       "      <td>article</td>\n",
       "      <td>0.003244</td>\n",
       "    </tr>\n",
       "    <tr>\n",
       "      <th>470208</th>\n",
       "      <td>learning</td>\n",
       "      <td>0.003244</td>\n",
       "    </tr>\n",
       "    <tr>\n",
       "      <th>628547</th>\n",
       "      <td>people</td>\n",
       "      <td>0.003244</td>\n",
       "    </tr>\n",
       "    <tr>\n",
       "      <th>691995</th>\n",
       "      <td>python</td>\n",
       "      <td>0.003244</td>\n",
       "    </tr>\n",
       "    <tr>\n",
       "      <th>985080</th>\n",
       "      <td>would</td>\n",
       "      <td>0.002884</td>\n",
       "    </tr>\n",
       "    <tr>\n",
       "      <th>342497</th>\n",
       "      <td>function</td>\n",
       "      <td>0.002884</td>\n",
       "    </tr>\n",
       "    <tr>\n",
       "      <th>934629</th>\n",
       "      <td>user</td>\n",
       "      <td>0.002884</td>\n",
       "    </tr>\n",
       "    <tr>\n",
       "      <th>989561</th>\n",
       "      <td>writing</td>\n",
       "      <td>0.002884</td>\n",
       "    </tr>\n",
       "    <tr>\n",
       "      <th>757089</th>\n",
       "      <td>say</td>\n",
       "      <td>0.002523</td>\n",
       "    </tr>\n",
       "    <tr>\n",
       "      <th>152751</th>\n",
       "      <td>company</td>\n",
       "      <td>0.002523</td>\n",
       "    </tr>\n",
       "    <tr>\n",
       "      <th>27397</th>\n",
       "      <td>already</td>\n",
       "      <td>0.002523</td>\n",
       "    </tr>\n",
       "    <tr>\n",
       "      <th>499379</th>\n",
       "      <td>looking</td>\n",
       "      <td>0.002523</td>\n",
       "    </tr>\n",
       "    <tr>\n",
       "      <th>103105</th>\n",
       "      <td>business</td>\n",
       "      <td>0.002523</td>\n",
       "    </tr>\n",
       "    <tr>\n",
       "      <th>284458</th>\n",
       "      <td>even</td>\n",
       "      <td>0.002523</td>\n",
       "    </tr>\n",
       "    <tr>\n",
       "      <th>988608</th>\n",
       "      <td>writer</td>\n",
       "      <td>0.002523</td>\n",
       "    </tr>\n",
       "    <tr>\n",
       "      <th>941487</th>\n",
       "      <td>value</td>\n",
       "      <td>0.002523</td>\n",
       "    </tr>\n",
       "    <tr>\n",
       "      <th>886818</th>\n",
       "      <td>time</td>\n",
       "      <td>0.002523</td>\n",
       "    </tr>\n",
       "    <tr>\n",
       "      <th>122762</th>\n",
       "      <td>change</td>\n",
       "      <td>0.002523</td>\n",
       "    </tr>\n",
       "    <tr>\n",
       "      <th>1154508</th>\n",
       "      <td>publication_towardsdatascience</td>\n",
       "      <td>0.002523</td>\n",
       "    </tr>\n",
       "    <tr>\n",
       "      <th>1154503</th>\n",
       "      <td>publication_better-marketing</td>\n",
       "      <td>0.002523</td>\n",
       "    </tr>\n",
       "    <tr>\n",
       "      <th>141854</th>\n",
       "      <td>code</td>\n",
       "      <td>0.002163</td>\n",
       "    </tr>\n",
       "  </tbody>\n",
       "</table>\n",
       "</div>"
      ],
      "text/plain": [
       "                          feature_names  feature_importance\n",
       "1154499                author_followers            0.029560\n",
       "1154500                 number_of_words            0.006128\n",
       "1154502                    subjectivity            0.005768\n",
       "1154501                        polarity            0.005407\n",
       "1154517                      subtitle_1            0.004686\n",
       "1154504  publication_datadriveninvestor            0.004686\n",
       "480344                             like            0.003605\n",
       "596725                              one            0.003605\n",
       "526267                              may            0.003605\n",
       "51893                           article            0.003244\n",
       "470208                         learning            0.003244\n",
       "628547                           people            0.003244\n",
       "691995                           python            0.003244\n",
       "985080                            would            0.002884\n",
       "342497                         function            0.002884\n",
       "934629                             user            0.002884\n",
       "989561                          writing            0.002884\n",
       "757089                              say            0.002523\n",
       "152751                          company            0.002523\n",
       "27397                           already            0.002523\n",
       "499379                          looking            0.002523\n",
       "103105                         business            0.002523\n",
       "284458                             even            0.002523\n",
       "988608                           writer            0.002523\n",
       "941487                            value            0.002523\n",
       "886818                             time            0.002523\n",
       "122762                           change            0.002523\n",
       "1154508  publication_towardsdatascience            0.002523\n",
       "1154503    publication_better-marketing            0.002523\n",
       "141854                             code            0.002163"
      ]
     },
     "execution_count": 359,
     "metadata": {},
     "output_type": "execute_result"
    }
   ],
   "source": [
    "dict_features = {'feature_names': feature_names, 'feature_importance': xgb_model.feature_importances_}\n",
    "pd.DataFrame(dict_features).sort_values('feature_importance', ascending=False).head(30)\n"
   ]
  },
  {
   "cell_type": "markdown",
   "id": "e80d7e0b",
   "metadata": {},
   "source": [
    "#### Normal"
   ]
  },
  {
   "cell_type": "code",
   "execution_count": 360,
   "id": "e93d9904",
   "metadata": {
    "ExecuteTime": {
     "end_time": "2022-06-22T15:39:51.328708Z",
     "start_time": "2022-06-22T15:39:07.682577Z"
    }
   },
   "outputs": [
    {
     "data": {
      "text/plain": [
       "XGBClassifier(base_score=0.5, booster='gbtree', colsample_bylevel=1,\n",
       "              colsample_bynode=1, colsample_bytree=1, enable_categorical=False,\n",
       "              eval_metric='error', gamma=0, gpu_id=-1, importance_type=None,\n",
       "              interaction_constraints='', learning_rate=0.300000012,\n",
       "              max_delta_step=0, max_depth=6, min_child_weight=1, missing=nan,\n",
       "              monotone_constraints='()', n_estimators=100, n_jobs=-1,\n",
       "              num_parallel_tree=1, predictor='auto', random_state=0,\n",
       "              reg_alpha=0, reg_lambda=1, scale_pos_weight=1, subsample=1,\n",
       "              tree_method='exact', use_label_encoder=False,\n",
       "              validate_parameters=1, verbosity=None)"
      ]
     },
     "execution_count": 360,
     "metadata": {},
     "output_type": "execute_result"
    }
   ],
   "source": [
    "xgb_model = XGBClassifier(use_label_encoder=False, eval_metric='error', n_jobs=-1)\n",
    "xgb_model.fit(X_train, y_train)\n"
   ]
  },
  {
   "cell_type": "code",
   "execution_count": 361,
   "id": "b2adeccf",
   "metadata": {
    "ExecuteTime": {
     "end_time": "2022-06-22T15:43:02.667744Z",
     "start_time": "2022-06-22T15:39:59.600722Z"
    }
   },
   "outputs": [
    {
     "name": "stdout",
     "output_type": "stream",
     "text": [
      "[0.68167098 0.68544905 0.69052245 0.69602763 0.68372193]\n",
      "0.6874784110535406\n",
      "0.8101899827288428\n",
      "0.6884944115713346\n"
     ]
    }
   ],
   "source": [
    "cv_xgb = cross_val_score(xgb_model, X_train, y_train)\n",
    "\n",
    "print(cv_xgb)\n",
    "print(cv_xgb.mean())\n",
    "print(xgb_model.score(X_train,y_train))\n",
    "print(xgb_model.score(X_test, y_test))"
   ]
  },
  {
   "cell_type": "code",
   "execution_count": 362,
   "id": "97b0f443",
   "metadata": {
    "ExecuteTime": {
     "end_time": "2022-06-22T15:43:11.600144Z",
     "start_time": "2022-06-22T15:43:10.904692Z"
    }
   },
   "outputs": [
    {
     "data": {
      "text/html": [
       "<div>\n",
       "<style scoped>\n",
       "    .dataframe tbody tr th:only-of-type {\n",
       "        vertical-align: middle;\n",
       "    }\n",
       "\n",
       "    .dataframe tbody tr th {\n",
       "        vertical-align: top;\n",
       "    }\n",
       "\n",
       "    .dataframe thead th {\n",
       "        text-align: right;\n",
       "    }\n",
       "</style>\n",
       "<table border=\"1\" class=\"dataframe\">\n",
       "  <thead>\n",
       "    <tr style=\"text-align: right;\">\n",
       "      <th></th>\n",
       "      <th>feature_names</th>\n",
       "      <th>feature_importance</th>\n",
       "    </tr>\n",
       "  </thead>\n",
       "  <tbody>\n",
       "    <tr>\n",
       "      <th>1154504</th>\n",
       "      <td>publication_datadriveninvestor</td>\n",
       "      <td>0.017780</td>\n",
       "    </tr>\n",
       "    <tr>\n",
       "      <th>1154508</th>\n",
       "      <td>publication_towardsdatascience</td>\n",
       "      <td>0.017499</td>\n",
       "    </tr>\n",
       "    <tr>\n",
       "      <th>1154507</th>\n",
       "      <td>publication_the-mission</td>\n",
       "      <td>0.013533</td>\n",
       "    </tr>\n",
       "    <tr>\n",
       "      <th>1154503</th>\n",
       "      <td>publication_better-marketing</td>\n",
       "      <td>0.011179</td>\n",
       "    </tr>\n",
       "    <tr>\n",
       "      <th>1154506</th>\n",
       "      <td>publication_swlh</td>\n",
       "      <td>0.005705</td>\n",
       "    </tr>\n",
       "    <tr>\n",
       "      <th>1154499</th>\n",
       "      <td>author_followers</td>\n",
       "      <td>0.005290</td>\n",
       "    </tr>\n",
       "    <tr>\n",
       "      <th>987508</th>\n",
       "      <td>write</td>\n",
       "      <td>0.005204</td>\n",
       "    </tr>\n",
       "    <tr>\n",
       "      <th>602011</th>\n",
       "      <td>operating cash</td>\n",
       "      <td>0.004003</td>\n",
       "    </tr>\n",
       "    <tr>\n",
       "      <th>144081</th>\n",
       "      <td>coffee</td>\n",
       "      <td>0.003777</td>\n",
       "    </tr>\n",
       "    <tr>\n",
       "      <th>533180</th>\n",
       "      <td>medium link</td>\n",
       "      <td>0.003512</td>\n",
       "    </tr>\n",
       "    <tr>\n",
       "      <th>61907</th>\n",
       "      <td>author</td>\n",
       "      <td>0.003502</td>\n",
       "    </tr>\n",
       "    <tr>\n",
       "      <th>601816</th>\n",
       "      <td>opensource</td>\n",
       "      <td>0.003390</td>\n",
       "    </tr>\n",
       "    <tr>\n",
       "      <th>303545</th>\n",
       "      <td>facebook linkedin</td>\n",
       "      <td>0.003271</td>\n",
       "    </tr>\n",
       "    <tr>\n",
       "      <th>34133</th>\n",
       "      <td>amzn</td>\n",
       "      <td>0.003201</td>\n",
       "    </tr>\n",
       "    <tr>\n",
       "      <th>252785</th>\n",
       "      <td>dont</td>\n",
       "      <td>0.003197</td>\n",
       "    </tr>\n",
       "    <tr>\n",
       "      <th>1154505</th>\n",
       "      <td>publication_startup-grind</td>\n",
       "      <td>0.003116</td>\n",
       "    </tr>\n",
       "    <tr>\n",
       "      <th>339062</th>\n",
       "      <td>freepikcom</td>\n",
       "      <td>0.003032</td>\n",
       "    </tr>\n",
       "    <tr>\n",
       "      <th>1154517</th>\n",
       "      <td>subtitle_1</td>\n",
       "      <td>0.002789</td>\n",
       "    </tr>\n",
       "    <tr>\n",
       "      <th>989561</th>\n",
       "      <td>writing</td>\n",
       "      <td>0.002532</td>\n",
       "    </tr>\n",
       "    <tr>\n",
       "      <th>226170</th>\n",
       "      <td>design</td>\n",
       "      <td>0.002388</td>\n",
       "    </tr>\n",
       "    <tr>\n",
       "      <th>98856</th>\n",
       "      <td>brought</td>\n",
       "      <td>0.002318</td>\n",
       "    </tr>\n",
       "    <tr>\n",
       "      <th>1154500</th>\n",
       "      <td>number_of_words</td>\n",
       "      <td>0.002161</td>\n",
       "    </tr>\n",
       "    <tr>\n",
       "      <th>436285</th>\n",
       "      <td>intention providing</td>\n",
       "      <td>0.002096</td>\n",
       "    </tr>\n",
       "    <tr>\n",
       "      <th>988608</th>\n",
       "      <td>writer</td>\n",
       "      <td>0.002061</td>\n",
       "    </tr>\n",
       "    <tr>\n",
       "      <th>917157</th>\n",
       "      <td>ui</td>\n",
       "      <td>0.002008</td>\n",
       "    </tr>\n",
       "    <tr>\n",
       "      <th>858430</th>\n",
       "      <td>takeaway</td>\n",
       "      <td>0.001934</td>\n",
       "    </tr>\n",
       "    <tr>\n",
       "      <th>119958</th>\n",
       "      <td>ceo</td>\n",
       "      <td>0.001799</td>\n",
       "    </tr>\n",
       "    <tr>\n",
       "      <th>1013279</th>\n",
       "      <td>bi (Title)</td>\n",
       "      <td>0.001722</td>\n",
       "    </tr>\n",
       "    <tr>\n",
       "      <th>216874</th>\n",
       "      <td>deep learning</td>\n",
       "      <td>0.001704</td>\n",
       "    </tr>\n",
       "    <tr>\n",
       "      <th>98923</th>\n",
       "      <td>brought salesforce</td>\n",
       "      <td>0.001639</td>\n",
       "    </tr>\n",
       "  </tbody>\n",
       "</table>\n",
       "</div>"
      ],
      "text/plain": [
       "                          feature_names  feature_importance\n",
       "1154504  publication_datadriveninvestor            0.017780\n",
       "1154508  publication_towardsdatascience            0.017499\n",
       "1154507         publication_the-mission            0.013533\n",
       "1154503    publication_better-marketing            0.011179\n",
       "1154506                publication_swlh            0.005705\n",
       "1154499                author_followers            0.005290\n",
       "987508                            write            0.005204\n",
       "602011                   operating cash            0.004003\n",
       "144081                           coffee            0.003777\n",
       "533180                      medium link            0.003512\n",
       "61907                            author            0.003502\n",
       "601816                       opensource            0.003390\n",
       "303545                facebook linkedin            0.003271\n",
       "34133                              amzn            0.003201\n",
       "252785                             dont            0.003197\n",
       "1154505       publication_startup-grind            0.003116\n",
       "339062                       freepikcom            0.003032\n",
       "1154517                      subtitle_1            0.002789\n",
       "989561                          writing            0.002532\n",
       "226170                           design            0.002388\n",
       "98856                           brought            0.002318\n",
       "1154500                 number_of_words            0.002161\n",
       "436285              intention providing            0.002096\n",
       "988608                           writer            0.002061\n",
       "917157                               ui            0.002008\n",
       "858430                         takeaway            0.001934\n",
       "119958                              ceo            0.001799\n",
       "1013279                      bi (Title)            0.001722\n",
       "216874                    deep learning            0.001704\n",
       "98923                brought salesforce            0.001639"
      ]
     },
     "execution_count": 362,
     "metadata": {},
     "output_type": "execute_result"
    }
   ],
   "source": [
    "dict_features = {'feature_names': feature_names, 'feature_importance': xgb_model.feature_importances_}\n",
    "pd.DataFrame(dict_features).sort_values('feature_importance', ascending=False).head(30)\n"
   ]
  },
  {
   "cell_type": "code",
   "execution_count": 44,
   "id": "d8e166c7",
   "metadata": {
    "ExecuteTime": {
     "end_time": "2022-06-22T15:43:20.177451Z",
     "start_time": "2022-06-22T15:43:19.758389Z"
    }
   },
   "outputs": [],
   "source": [
    "from sklearn.metrics import plot_confusion_matrix, plot_roc_curve, classification_report"
   ]
  },
  {
   "cell_type": "code",
   "execution_count": null,
   "id": "08cdba3f-17ee-4842-8164-d9bab0718845",
   "metadata": {},
   "outputs": [],
   "source": [
    "plot_confusion_matrix(xgb_model,X_test, y_test, cmap='Blues', labels=[1, 0], values_format='.0f')\n",
    "plt.show()\n"
   ]
  },
  {
   "cell_type": "code",
   "execution_count": 364,
   "id": "738a83f5",
   "metadata": {
    "ExecuteTime": {
     "end_time": "2022-06-22T15:43:28.603644Z",
     "start_time": "2022-06-22T15:43:28.243323Z"
    }
   },
   "outputs": [
    {
     "name": "stdout",
     "output_type": "stream",
     "text": [
      "0.6884944115713346\n",
      "              precision    recall  f1-score   support\n",
      "\n",
      "           0     0.6763    0.7199    0.6974     11378\n",
      "           1     0.7023    0.6573    0.6790     11437\n",
      "\n",
      "    accuracy                         0.6885     22815\n",
      "   macro avg     0.6893    0.6886    0.6882     22815\n",
      "weighted avg     0.6893    0.6885    0.6882     22815\n",
      "\n"
     ]
    }
   ],
   "source": [
    "y_pred = xgb_model.predict(X_test)\n",
    "accuracy = accuracy_score(y_test, y_pred)\n",
    "print(accuracy)\n",
    "print(classification_report(y_test, y_pred, digits=4))\n"
   ]
  },
  {
   "cell_type": "code",
   "execution_count": 365,
   "id": "4ead9b17",
   "metadata": {
    "ExecuteTime": {
     "end_time": "2022-06-22T15:43:36.701454Z",
     "start_time": "2022-06-22T15:43:36.691395Z"
    }
   },
   "outputs": [
    {
     "name": "stdout",
     "output_type": "stream",
     "text": [
      "0.688575412471938\n",
      "0.6790117880854524\n"
     ]
    }
   ],
   "source": [
    "print(roc_auc_score(y_test, y_pred))\n",
    "print(f1_score(y_test, y_pred))"
   ]
  },
  {
   "cell_type": "code",
   "execution_count": 366,
   "id": "47d4b41a",
   "metadata": {
    "ExecuteTime": {
     "end_time": "2022-06-22T15:43:45.144451Z",
     "start_time": "2022-06-22T15:43:44.743444Z"
    }
   },
   "outputs": [
    {
     "data": {
      "image/png": "[encoded data removed]",
      "text/plain": [
       "<Figure size 432x288 with 1 Axes>"
      ]
     },
     "metadata": {
      "needs_background": "light"
     },
     "output_type": "display_data"
    }
   ],
   "source": [
    "plot_roc_curve(xgb_model, X_test, y_test);\n",
    "plt.title('Reciever Operator Curve')\n",
    "plt.show()"
   ]
  },
  {
   "cell_type": "markdown",
   "id": "13d9bc12",
   "metadata": {},
   "source": [
    "The ROC curve measures plots the true positive rate (TPR) versus the false positive rate, as the threshold for predicting 1 changes.\n",
    "\n",
    "- We measure the area under the curve. Whichs is 0.76\n",
    "- If the TPR is always 1, the area under the curve is 1 (it cannot be larger). This is equivalent to perfect prediction.\n",
    "- When the area under the curve is 0.50, this is equivalent to the baseline (chance) prediction (marked by the diagonal line)."
   ]
  },
  {
   "cell_type": "code",
   "execution_count": 367,
   "id": "99e32f67",
   "metadata": {
    "ExecuteTime": {
     "end_time": "2022-06-22T15:43:53.595374Z",
     "start_time": "2022-06-22T15:43:53.187487Z"
    }
   },
   "outputs": [
    {
     "data": {
      "image/png": "[encoded data removed]",
      "text/plain": [
       "<Figure size 432x288 with 1 Axes>"
      ]
     },
     "metadata": {
      "needs_background": "light"
     },
     "output_type": "display_data"
    }
   ],
   "source": [
    "plot_precision_recall_curve(xgb_model, X_test, y_test);\n",
    "plt.title('Precision Recall Curve')\n",
    "plt.show()"
   ]
  },
  {
   "cell_type": "markdown",
   "id": "f3c545b6",
   "metadata": {},
   "source": [
    "---------"
   ]
  },
  {
   "cell_type": "markdown",
   "id": "031ada71",
   "metadata": {},
   "source": [
    "### XGBoost - RandomCV"
   ]
  },
  {
   "cell_type": "markdown",
   "id": "ac7464d8",
   "metadata": {},
   "source": [
    "- Min Child Weight - Minimum sum of instance weight (hessian) needed in a child. If the tree partition step results in a leaf node with the sum of instance weight less than min_child_weight, then the building process will give up further partitioning. The larger min_child_weight is, the more conservative the algorithm will be.\n",
    "- Gamma - Minimum loss reduction required to make a further partition on a leaf node of the tree. The larger gamma is, the more conservative the algorithm will be.\n",
    "- Subsample - ratio of the training instances. Setting it to 0.5 means that XGBoost would randomly sample half of the training data prior to growing trees. and this will prevent overfitting. Subsampling will occur once in every boosting iteration.\n",
    "- colsample_bytree - is the subsample ratio of columns when constructing each tree.\n",
    "- Maximum depth of a tree. Increasing this value will make the model more complex and more likely to overfit. \n",
    "- learning rate - Step size shrinkage used in update to prevents overfitting. After each boosting step, we can directly get the weights of new features, and eta shrinks the feature weights to make the boosting process more conservative."
   ]
  },
  {
   "cell_type": "code",
   "execution_count": 34,
   "id": "d113afd5",
   "metadata": {
    "ExecuteTime": {
     "end_time": "2022-06-22T15:20:36.712786Z",
     "start_time": "2022-06-22T15:20:36.689730Z"
    }
   },
   "outputs": [],
   "source": [
    "# A parameter grid for XGBoost\n",
    "# A parameter grid for XGBoost\n",
    "params = {\n",
    "        'min_child_weight': [1, 5, 10],\n",
    "        'gamma': [0.5, 1, 1.5, 2, 5],\n",
    "        'subsample': [0.6, 0.8, 1.0],\n",
    "        'colsample_bytree': [0.6, 0.8, 1.0],\n",
    "        'max_depth': [5, 7, 9, 11],\n",
    "        'n_estimators': [500, 600, 700],\n",
    "        'learning_rate':[0.01, 0.05, 0.1]\n",
    "        }"
   ]
  },
  {
   "cell_type": "code",
   "execution_count": 35,
   "id": "1f02500e",
   "metadata": {
    "ExecuteTime": {
     "end_time": "2022-06-22T15:20:47.952670Z",
     "start_time": "2022-06-22T15:20:47.949171Z"
    }
   },
   "outputs": [],
   "source": [
    "xgb = XGBClassifier( objective='binary:logistic', nthread=1)"
   ]
  },
  {
   "cell_type": "code",
   "execution_count": 36,
   "id": "0c79d855",
   "metadata": {
    "ExecuteTime": {
     "end_time": "2022-06-22T15:36:08.559618Z",
     "start_time": "2022-06-22T15:20:57.443417Z"
    }
   },
   "outputs": [
    {
     "name": "stdout",
     "output_type": "stream",
     "text": [
      "Fitting 5 folds for each of 15 candidates, totalling 75 fits\n"
     ]
    },
    {
     "name": "stderr",
     "output_type": "stream",
     "text": [
      "/Users/ariklevy/opt/anaconda3/lib/python3.9/site-packages/xgboost/sklearn.py:1224: UserWarning: The use of label encoder in XGBClassifier is deprecated and will be removed in a future release. To remove this warning, do the following: 1) Pass option use_label_encoder=False when constructing XGBClassifier object; and 2) Encode your labels (y) as integers starting with 0, i.e. 0, 1, 2, ..., [num_class - 1].\n",
      "  warnings.warn(label_encoder_deprecation_msg, UserWarning)\n",
      "/Users/ariklevy/opt/anaconda3/lib/python3.9/site-packages/xgboost/sklearn.py:1224: UserWarning: The use of label encoder in XGBClassifier is deprecated and will be removed in a future release. To remove this warning, do the following: 1) Pass option use_label_encoder=False when constructing XGBClassifier object; and 2) Encode your labels (y) as integers starting with 0, i.e. 0, 1, 2, ..., [num_class - 1].\n",
      "  warnings.warn(label_encoder_deprecation_msg, UserWarning)\n",
      "/Users/ariklevy/opt/anaconda3/lib/python3.9/site-packages/xgboost/sklearn.py:1224: UserWarning: The use of label encoder in XGBClassifier is deprecated and will be removed in a future release. To remove this warning, do the following: 1) Pass option use_label_encoder=False when constructing XGBClassifier object; and 2) Encode your labels (y) as integers starting with 0, i.e. 0, 1, 2, ..., [num_class - 1].\n",
      "  warnings.warn(label_encoder_deprecation_msg, UserWarning)\n",
      "/Users/ariklevy/opt/anaconda3/lib/python3.9/site-packages/xgboost/sklearn.py:1224: UserWarning: The use of label encoder in XGBClassifier is deprecated and will be removed in a future release. To remove this warning, do the following: 1) Pass option use_label_encoder=False when constructing XGBClassifier object; and 2) Encode your labels (y) as integers starting with 0, i.e. 0, 1, 2, ..., [num_class - 1].\n",
      "  warnings.warn(label_encoder_deprecation_msg, UserWarning)\n",
      "/Users/ariklevy/opt/anaconda3/lib/python3.9/site-packages/xgboost/sklearn.py:1224: UserWarning: The use of label encoder in XGBClassifier is deprecated and will be removed in a future release. To remove this warning, do the following: 1) Pass option use_label_encoder=False when constructing XGBClassifier object; and 2) Encode your labels (y) as integers starting with 0, i.e. 0, 1, 2, ..., [num_class - 1].\n",
      "  warnings.warn(label_encoder_deprecation_msg, UserWarning)\n",
      "/Users/ariklevy/opt/anaconda3/lib/python3.9/site-packages/xgboost/sklearn.py:1224: UserWarning: The use of label encoder in XGBClassifier is deprecated and will be removed in a future release. To remove this warning, do the following: 1) Pass option use_label_encoder=False when constructing XGBClassifier object; and 2) Encode your labels (y) as integers starting with 0, i.e. 0, 1, 2, ..., [num_class - 1].\n",
      "  warnings.warn(label_encoder_deprecation_msg, UserWarning)\n",
      "/Users/ariklevy/opt/anaconda3/lib/python3.9/site-packages/xgboost/sklearn.py:1224: UserWarning: The use of label encoder in XGBClassifier is deprecated and will be removed in a future release. To remove this warning, do the following: 1) Pass option use_label_encoder=False when constructing XGBClassifier object; and 2) Encode your labels (y) as integers starting with 0, i.e. 0, 1, 2, ..., [num_class - 1].\n",
      "  warnings.warn(label_encoder_deprecation_msg, UserWarning)\n",
      "/Users/ariklevy/opt/anaconda3/lib/python3.9/site-packages/xgboost/sklearn.py:1224: UserWarning: The use of label encoder in XGBClassifier is deprecated and will be removed in a future release. To remove this warning, do the following: 1) Pass option use_label_encoder=False when constructing XGBClassifier object; and 2) Encode your labels (y) as integers starting with 0, i.e. 0, 1, 2, ..., [num_class - 1].\n",
      "  warnings.warn(label_encoder_deprecation_msg, UserWarning)\n",
      "/Users/ariklevy/opt/anaconda3/lib/python3.9/site-packages/xgboost/sklearn.py:1224: UserWarning: The use of label encoder in XGBClassifier is deprecated and will be removed in a future release. To remove this warning, do the following: 1) Pass option use_label_encoder=False when constructing XGBClassifier object; and 2) Encode your labels (y) as integers starting with 0, i.e. 0, 1, 2, ..., [num_class - 1].\n",
      "  warnings.warn(label_encoder_deprecation_msg, UserWarning)\n",
      "/Users/ariklevy/opt/anaconda3/lib/python3.9/site-packages/xgboost/sklearn.py:1224: UserWarning: The use of label encoder in XGBClassifier is deprecated and will be removed in a future release. To remove this warning, do the following: 1) Pass option use_label_encoder=False when constructing XGBClassifier object; and 2) Encode your labels (y) as integers starting with 0, i.e. 0, 1, 2, ..., [num_class - 1].\n",
      "  warnings.warn(label_encoder_deprecation_msg, UserWarning)\n",
      "/Users/ariklevy/opt/anaconda3/lib/python3.9/site-packages/xgboost/sklearn.py:1224: UserWarning: The use of label encoder in XGBClassifier is deprecated and will be removed in a future release. To remove this warning, do the following: 1) Pass option use_label_encoder=False when constructing XGBClassifier object; and 2) Encode your labels (y) as integers starting with 0, i.e. 0, 1, 2, ..., [num_class - 1].\n",
      "  warnings.warn(label_encoder_deprecation_msg, UserWarning)\n",
      "/Users/ariklevy/opt/anaconda3/lib/python3.9/site-packages/xgboost/sklearn.py:1224: UserWarning: The use of label encoder in XGBClassifier is deprecated and will be removed in a future release. To remove this warning, do the following: 1) Pass option use_label_encoder=False when constructing XGBClassifier object; and 2) Encode your labels (y) as integers starting with 0, i.e. 0, 1, 2, ..., [num_class - 1].\n",
      "  warnings.warn(label_encoder_deprecation_msg, UserWarning)\n",
      "/Users/ariklevy/opt/anaconda3/lib/python3.9/site-packages/xgboost/sklearn.py:1224: UserWarning: The use of label encoder in XGBClassifier is deprecated and will be removed in a future release. To remove this warning, do the following: 1) Pass option use_label_encoder=False when constructing XGBClassifier object; and 2) Encode your labels (y) as integers starting with 0, i.e. 0, 1, 2, ..., [num_class - 1].\n",
      "  warnings.warn(label_encoder_deprecation_msg, UserWarning)\n",
      "/Users/ariklevy/opt/anaconda3/lib/python3.9/site-packages/xgboost/sklearn.py:1224: UserWarning: The use of label encoder in XGBClassifier is deprecated and will be removed in a future release. To remove this warning, do the following: 1) Pass option use_label_encoder=False when constructing XGBClassifier object; and 2) Encode your labels (y) as integers starting with 0, i.e. 0, 1, 2, ..., [num_class - 1].\n",
      "  warnings.warn(label_encoder_deprecation_msg, UserWarning)\n",
      "/Users/ariklevy/opt/anaconda3/lib/python3.9/site-packages/xgboost/sklearn.py:1224: UserWarning: The use of label encoder in XGBClassifier is deprecated and will be removed in a future release. To remove this warning, do the following: 1) Pass option use_label_encoder=False when constructing XGBClassifier object; and 2) Encode your labels (y) as integers starting with 0, i.e. 0, 1, 2, ..., [num_class - 1].\n",
      "  warnings.warn(label_encoder_deprecation_msg, UserWarning)\n",
      "/Users/ariklevy/opt/anaconda3/lib/python3.9/site-packages/xgboost/sklearn.py:1224: UserWarning: The use of label encoder in XGBClassifier is deprecated and will be removed in a future release. To remove this warning, do the following: 1) Pass option use_label_encoder=False when constructing XGBClassifier object; and 2) Encode your labels (y) as integers starting with 0, i.e. 0, 1, 2, ..., [num_class - 1].\n",
      "  warnings.warn(label_encoder_deprecation_msg, UserWarning)\n",
      "/Users/ariklevy/opt/anaconda3/lib/python3.9/site-packages/xgboost/sklearn.py:1224: UserWarning: The use of label encoder in XGBClassifier is deprecated and will be removed in a future release. To remove this warning, do the following: 1) Pass option use_label_encoder=False when constructing XGBClassifier object; and 2) Encode your labels (y) as integers starting with 0, i.e. 0, 1, 2, ..., [num_class - 1].\n",
      "  warnings.warn(label_encoder_deprecation_msg, UserWarning)\n",
      "/Users/ariklevy/opt/anaconda3/lib/python3.9/site-packages/xgboost/sklearn.py:1224: UserWarning: The use of label encoder in XGBClassifier is deprecated and will be removed in a future release. To remove this warning, do the following: 1) Pass option use_label_encoder=False when constructing XGBClassifier object; and 2) Encode your labels (y) as integers starting with 0, i.e. 0, 1, 2, ..., [num_class - 1].\n",
      "  warnings.warn(label_encoder_deprecation_msg, UserWarning)\n",
      "/Users/ariklevy/opt/anaconda3/lib/python3.9/site-packages/xgboost/sklearn.py:1224: UserWarning: The use of label encoder in XGBClassifier is deprecated and will be removed in a future release. To remove this warning, do the following: 1) Pass option use_label_encoder=False when constructing XGBClassifier object; and 2) Encode your labels (y) as integers starting with 0, i.e. 0, 1, 2, ..., [num_class - 1].\n",
      "  warnings.warn(label_encoder_deprecation_msg, UserWarning)\n",
      "/Users/ariklevy/opt/anaconda3/lib/python3.9/site-packages/xgboost/sklearn.py:1224: UserWarning: The use of label encoder in XGBClassifier is deprecated and will be removed in a future release. To remove this warning, do the following: 1) Pass option use_label_encoder=False when constructing XGBClassifier object; and 2) Encode your labels (y) as integers starting with 0, i.e. 0, 1, 2, ..., [num_class - 1].\n",
      "  warnings.warn(label_encoder_deprecation_msg, UserWarning)\n",
      "/Users/ariklevy/opt/anaconda3/lib/python3.9/site-packages/xgboost/sklearn.py:1224: UserWarning: The use of label encoder in XGBClassifier is deprecated and will be removed in a future release. To remove this warning, do the following: 1) Pass option use_label_encoder=False when constructing XGBClassifier object; and 2) Encode your labels (y) as integers starting with 0, i.e. 0, 1, 2, ..., [num_class - 1].\n",
      "  warnings.warn(label_encoder_deprecation_msg, UserWarning)\n",
      "/Users/ariklevy/opt/anaconda3/lib/python3.9/site-packages/xgboost/sklearn.py:1224: UserWarning: The use of label encoder in XGBClassifier is deprecated and will be removed in a future release. To remove this warning, do the following: 1) Pass option use_label_encoder=False when constructing XGBClassifier object; and 2) Encode your labels (y) as integers starting with 0, i.e. 0, 1, 2, ..., [num_class - 1].\n",
      "  warnings.warn(label_encoder_deprecation_msg, UserWarning)\n",
      "/Users/ariklevy/opt/anaconda3/lib/python3.9/site-packages/xgboost/sklearn.py:1224: UserWarning: The use of label encoder in XGBClassifier is deprecated and will be removed in a future release. To remove this warning, do the following: 1) Pass option use_label_encoder=False when constructing XGBClassifier object; and 2) Encode your labels (y) as integers starting with 0, i.e. 0, 1, 2, ..., [num_class - 1].\n",
      "  warnings.warn(label_encoder_deprecation_msg, UserWarning)\n",
      "/Users/ariklevy/opt/anaconda3/lib/python3.9/site-packages/xgboost/sklearn.py:1224: UserWarning: The use of label encoder in XGBClassifier is deprecated and will be removed in a future release. To remove this warning, do the following: 1) Pass option use_label_encoder=False when constructing XGBClassifier object; and 2) Encode your labels (y) as integers starting with 0, i.e. 0, 1, 2, ..., [num_class - 1].\n",
      "  warnings.warn(label_encoder_deprecation_msg, UserWarning)\n",
      "/Users/ariklevy/opt/anaconda3/lib/python3.9/site-packages/xgboost/sklearn.py:1224: UserWarning: The use of label encoder in XGBClassifier is deprecated and will be removed in a future release. To remove this warning, do the following: 1) Pass option use_label_encoder=False when constructing XGBClassifier object; and 2) Encode your labels (y) as integers starting with 0, i.e. 0, 1, 2, ..., [num_class - 1].\n",
      "  warnings.warn(label_encoder_deprecation_msg, UserWarning)\n",
      "/Users/ariklevy/opt/anaconda3/lib/python3.9/site-packages/xgboost/sklearn.py:1224: UserWarning: The use of label encoder in XGBClassifier is deprecated and will be removed in a future release. To remove this warning, do the following: 1) Pass option use_label_encoder=False when constructing XGBClassifier object; and 2) Encode your labels (y) as integers starting with 0, i.e. 0, 1, 2, ..., [num_class - 1].\n",
      "  warnings.warn(label_encoder_deprecation_msg, UserWarning)\n",
      "/Users/ariklevy/opt/anaconda3/lib/python3.9/site-packages/xgboost/sklearn.py:1224: UserWarning: The use of label encoder in XGBClassifier is deprecated and will be removed in a future release. To remove this warning, do the following: 1) Pass option use_label_encoder=False when constructing XGBClassifier object; and 2) Encode your labels (y) as integers starting with 0, i.e. 0, 1, 2, ..., [num_class - 1].\n",
      "  warnings.warn(label_encoder_deprecation_msg, UserWarning)\n",
      "/Users/ariklevy/opt/anaconda3/lib/python3.9/site-packages/xgboost/sklearn.py:1224: UserWarning: The use of label encoder in XGBClassifier is deprecated and will be removed in a future release. To remove this warning, do the following: 1) Pass option use_label_encoder=False when constructing XGBClassifier object; and 2) Encode your labels (y) as integers starting with 0, i.e. 0, 1, 2, ..., [num_class - 1].\n",
      "  warnings.warn(label_encoder_deprecation_msg, UserWarning)\n",
      "/Users/ariklevy/opt/anaconda3/lib/python3.9/site-packages/xgboost/sklearn.py:1224: UserWarning: The use of label encoder in XGBClassifier is deprecated and will be removed in a future release. To remove this warning, do the following: 1) Pass option use_label_encoder=False when constructing XGBClassifier object; and 2) Encode your labels (y) as integers starting with 0, i.e. 0, 1, 2, ..., [num_class - 1].\n",
      "  warnings.warn(label_encoder_deprecation_msg, UserWarning)\n",
      "/Users/ariklevy/opt/anaconda3/lib/python3.9/site-packages/xgboost/sklearn.py:1224: UserWarning: The use of label encoder in XGBClassifier is deprecated and will be removed in a future release. To remove this warning, do the following: 1) Pass option use_label_encoder=False when constructing XGBClassifier object; and 2) Encode your labels (y) as integers starting with 0, i.e. 0, 1, 2, ..., [num_class - 1].\n",
      "  warnings.warn(label_encoder_deprecation_msg, UserWarning)\n",
      "/Users/ariklevy/opt/anaconda3/lib/python3.9/site-packages/xgboost/sklearn.py:1224: UserWarning: The use of label encoder in XGBClassifier is deprecated and will be removed in a future release. To remove this warning, do the following: 1) Pass option use_label_encoder=False when constructing XGBClassifier object; and 2) Encode your labels (y) as integers starting with 0, i.e. 0, 1, 2, ..., [num_class - 1].\n",
      "  warnings.warn(label_encoder_deprecation_msg, UserWarning)\n",
      "/Users/ariklevy/opt/anaconda3/lib/python3.9/site-packages/xgboost/sklearn.py:1224: UserWarning: The use of label encoder in XGBClassifier is deprecated and will be removed in a future release. To remove this warning, do the following: 1) Pass option use_label_encoder=False when constructing XGBClassifier object; and 2) Encode your labels (y) as integers starting with 0, i.e. 0, 1, 2, ..., [num_class - 1].\n",
      "  warnings.warn(label_encoder_deprecation_msg, UserWarning)\n",
      "/Users/ariklevy/opt/anaconda3/lib/python3.9/site-packages/xgboost/sklearn.py:1224: UserWarning: The use of label encoder in XGBClassifier is deprecated and will be removed in a future release. To remove this warning, do the following: 1) Pass option use_label_encoder=False when constructing XGBClassifier object; and 2) Encode your labels (y) as integers starting with 0, i.e. 0, 1, 2, ..., [num_class - 1].\n",
      "  warnings.warn(label_encoder_deprecation_msg, UserWarning)\n",
      "/Users/ariklevy/opt/anaconda3/lib/python3.9/site-packages/xgboost/sklearn.py:1224: UserWarning: The use of label encoder in XGBClassifier is deprecated and will be removed in a future release. To remove this warning, do the following: 1) Pass option use_label_encoder=False when constructing XGBClassifier object; and 2) Encode your labels (y) as integers starting with 0, i.e. 0, 1, 2, ..., [num_class - 1].\n",
      "  warnings.warn(label_encoder_deprecation_msg, UserWarning)\n",
      "/Users/ariklevy/opt/anaconda3/lib/python3.9/site-packages/xgboost/sklearn.py:1224: UserWarning: The use of label encoder in XGBClassifier is deprecated and will be removed in a future release. To remove this warning, do the following: 1) Pass option use_label_encoder=False when constructing XGBClassifier object; and 2) Encode your labels (y) as integers starting with 0, i.e. 0, 1, 2, ..., [num_class - 1].\n",
      "  warnings.warn(label_encoder_deprecation_msg, UserWarning)\n",
      "/Users/ariklevy/opt/anaconda3/lib/python3.9/site-packages/xgboost/sklearn.py:1224: UserWarning: The use of label encoder in XGBClassifier is deprecated and will be removed in a future release. To remove this warning, do the following: 1) Pass option use_label_encoder=False when constructing XGBClassifier object; and 2) Encode your labels (y) as integers starting with 0, i.e. 0, 1, 2, ..., [num_class - 1].\n",
      "  warnings.warn(label_encoder_deprecation_msg, UserWarning)\n",
      "/Users/ariklevy/opt/anaconda3/lib/python3.9/site-packages/xgboost/sklearn.py:1224: UserWarning: The use of label encoder in XGBClassifier is deprecated and will be removed in a future release. To remove this warning, do the following: 1) Pass option use_label_encoder=False when constructing XGBClassifier object; and 2) Encode your labels (y) as integers starting with 0, i.e. 0, 1, 2, ..., [num_class - 1].\n",
      "  warnings.warn(label_encoder_deprecation_msg, UserWarning)\n",
      "/Users/ariklevy/opt/anaconda3/lib/python3.9/site-packages/xgboost/sklearn.py:1224: UserWarning: The use of label encoder in XGBClassifier is deprecated and will be removed in a future release. To remove this warning, do the following: 1) Pass option use_label_encoder=False when constructing XGBClassifier object; and 2) Encode your labels (y) as integers starting with 0, i.e. 0, 1, 2, ..., [num_class - 1].\n",
      "  warnings.warn(label_encoder_deprecation_msg, UserWarning)\n",
      "/Users/ariklevy/opt/anaconda3/lib/python3.9/site-packages/xgboost/sklearn.py:1224: UserWarning: The use of label encoder in XGBClassifier is deprecated and will be removed in a future release. To remove this warning, do the following: 1) Pass option use_label_encoder=False when constructing XGBClassifier object; and 2) Encode your labels (y) as integers starting with 0, i.e. 0, 1, 2, ..., [num_class - 1].\n",
      "  warnings.warn(label_encoder_deprecation_msg, UserWarning)\n",
      "/Users/ariklevy/opt/anaconda3/lib/python3.9/site-packages/xgboost/sklearn.py:1224: UserWarning: The use of label encoder in XGBClassifier is deprecated and will be removed in a future release. To remove this warning, do the following: 1) Pass option use_label_encoder=False when constructing XGBClassifier object; and 2) Encode your labels (y) as integers starting with 0, i.e. 0, 1, 2, ..., [num_class - 1].\n",
      "  warnings.warn(label_encoder_deprecation_msg, UserWarning)\n",
      "/Users/ariklevy/opt/anaconda3/lib/python3.9/site-packages/xgboost/sklearn.py:1224: UserWarning: The use of label encoder in XGBClassifier is deprecated and will be removed in a future release. To remove this warning, do the following: 1) Pass option use_label_encoder=False when constructing XGBClassifier object; and 2) Encode your labels (y) as integers starting with 0, i.e. 0, 1, 2, ..., [num_class - 1].\n",
      "  warnings.warn(label_encoder_deprecation_msg, UserWarning)\n",
      "/Users/ariklevy/opt/anaconda3/lib/python3.9/site-packages/xgboost/sklearn.py:1224: UserWarning: The use of label encoder in XGBClassifier is deprecated and will be removed in a future release. To remove this warning, do the following: 1) Pass option use_label_encoder=False when constructing XGBClassifier object; and 2) Encode your labels (y) as integers starting with 0, i.e. 0, 1, 2, ..., [num_class - 1].\n",
      "  warnings.warn(label_encoder_deprecation_msg, UserWarning)\n",
      "/Users/ariklevy/opt/anaconda3/lib/python3.9/site-packages/xgboost/sklearn.py:1224: UserWarning: The use of label encoder in XGBClassifier is deprecated and will be removed in a future release. To remove this warning, do the following: 1) Pass option use_label_encoder=False when constructing XGBClassifier object; and 2) Encode your labels (y) as integers starting with 0, i.e. 0, 1, 2, ..., [num_class - 1].\n",
      "  warnings.warn(label_encoder_deprecation_msg, UserWarning)\n",
      "/Users/ariklevy/opt/anaconda3/lib/python3.9/site-packages/xgboost/sklearn.py:1224: UserWarning: The use of label encoder in XGBClassifier is deprecated and will be removed in a future release. To remove this warning, do the following: 1) Pass option use_label_encoder=False when constructing XGBClassifier object; and 2) Encode your labels (y) as integers starting with 0, i.e. 0, 1, 2, ..., [num_class - 1].\n",
      "  warnings.warn(label_encoder_deprecation_msg, UserWarning)\n",
      "/Users/ariklevy/opt/anaconda3/lib/python3.9/site-packages/xgboost/sklearn.py:1224: UserWarning: The use of label encoder in XGBClassifier is deprecated and will be removed in a future release. To remove this warning, do the following: 1) Pass option use_label_encoder=False when constructing XGBClassifier object; and 2) Encode your labels (y) as integers starting with 0, i.e. 0, 1, 2, ..., [num_class - 1].\n",
      "  warnings.warn(label_encoder_deprecation_msg, UserWarning)\n",
      "/Users/ariklevy/opt/anaconda3/lib/python3.9/site-packages/xgboost/sklearn.py:1224: UserWarning: The use of label encoder in XGBClassifier is deprecated and will be removed in a future release. To remove this warning, do the following: 1) Pass option use_label_encoder=False when constructing XGBClassifier object; and 2) Encode your labels (y) as integers starting with 0, i.e. 0, 1, 2, ..., [num_class - 1].\n",
      "  warnings.warn(label_encoder_deprecation_msg, UserWarning)\n",
      "/Users/ariklevy/opt/anaconda3/lib/python3.9/site-packages/xgboost/sklearn.py:1224: UserWarning: The use of label encoder in XGBClassifier is deprecated and will be removed in a future release. To remove this warning, do the following: 1) Pass option use_label_encoder=False when constructing XGBClassifier object; and 2) Encode your labels (y) as integers starting with 0, i.e. 0, 1, 2, ..., [num_class - 1].\n",
      "  warnings.warn(label_encoder_deprecation_msg, UserWarning)\n",
      "/Users/ariklevy/opt/anaconda3/lib/python3.9/site-packages/xgboost/sklearn.py:1224: UserWarning: The use of label encoder in XGBClassifier is deprecated and will be removed in a future release. To remove this warning, do the following: 1) Pass option use_label_encoder=False when constructing XGBClassifier object; and 2) Encode your labels (y) as integers starting with 0, i.e. 0, 1, 2, ..., [num_class - 1].\n",
      "  warnings.warn(label_encoder_deprecation_msg, UserWarning)\n",
      "/Users/ariklevy/opt/anaconda3/lib/python3.9/site-packages/xgboost/sklearn.py:1224: UserWarning: The use of label encoder in XGBClassifier is deprecated and will be removed in a future release. To remove this warning, do the following: 1) Pass option use_label_encoder=False when constructing XGBClassifier object; and 2) Encode your labels (y) as integers starting with 0, i.e. 0, 1, 2, ..., [num_class - 1].\n",
      "  warnings.warn(label_encoder_deprecation_msg, UserWarning)\n",
      "/Users/ariklevy/opt/anaconda3/lib/python3.9/site-packages/xgboost/sklearn.py:1224: UserWarning: The use of label encoder in XGBClassifier is deprecated and will be removed in a future release. To remove this warning, do the following: 1) Pass option use_label_encoder=False when constructing XGBClassifier object; and 2) Encode your labels (y) as integers starting with 0, i.e. 0, 1, 2, ..., [num_class - 1].\n",
      "  warnings.warn(label_encoder_deprecation_msg, UserWarning)\n",
      "/Users/ariklevy/opt/anaconda3/lib/python3.9/site-packages/xgboost/sklearn.py:1224: UserWarning: The use of label encoder in XGBClassifier is deprecated and will be removed in a future release. To remove this warning, do the following: 1) Pass option use_label_encoder=False when constructing XGBClassifier object; and 2) Encode your labels (y) as integers starting with 0, i.e. 0, 1, 2, ..., [num_class - 1].\n",
      "  warnings.warn(label_encoder_deprecation_msg, UserWarning)\n",
      "/Users/ariklevy/opt/anaconda3/lib/python3.9/site-packages/xgboost/sklearn.py:1224: UserWarning: The use of label encoder in XGBClassifier is deprecated and will be removed in a future release. To remove this warning, do the following: 1) Pass option use_label_encoder=False when constructing XGBClassifier object; and 2) Encode your labels (y) as integers starting with 0, i.e. 0, 1, 2, ..., [num_class - 1].\n",
      "  warnings.warn(label_encoder_deprecation_msg, UserWarning)\n",
      "/Users/ariklevy/opt/anaconda3/lib/python3.9/site-packages/xgboost/sklearn.py:1224: UserWarning: The use of label encoder in XGBClassifier is deprecated and will be removed in a future release. To remove this warning, do the following: 1) Pass option use_label_encoder=False when constructing XGBClassifier object; and 2) Encode your labels (y) as integers starting with 0, i.e. 0, 1, 2, ..., [num_class - 1].\n",
      "  warnings.warn(label_encoder_deprecation_msg, UserWarning)\n",
      "/Users/ariklevy/opt/anaconda3/lib/python3.9/site-packages/xgboost/sklearn.py:1224: UserWarning: The use of label encoder in XGBClassifier is deprecated and will be removed in a future release. To remove this warning, do the following: 1) Pass option use_label_encoder=False when constructing XGBClassifier object; and 2) Encode your labels (y) as integers starting with 0, i.e. 0, 1, 2, ..., [num_class - 1].\n",
      "  warnings.warn(label_encoder_deprecation_msg, UserWarning)\n",
      "/Users/ariklevy/opt/anaconda3/lib/python3.9/site-packages/xgboost/sklearn.py:1224: UserWarning: The use of label encoder in XGBClassifier is deprecated and will be removed in a future release. To remove this warning, do the following: 1) Pass option use_label_encoder=False when constructing XGBClassifier object; and 2) Encode your labels (y) as integers starting with 0, i.e. 0, 1, 2, ..., [num_class - 1].\n",
      "  warnings.warn(label_encoder_deprecation_msg, UserWarning)\n",
      "/Users/ariklevy/opt/anaconda3/lib/python3.9/site-packages/xgboost/sklearn.py:1224: UserWarning: The use of label encoder in XGBClassifier is deprecated and will be removed in a future release. To remove this warning, do the following: 1) Pass option use_label_encoder=False when constructing XGBClassifier object; and 2) Encode your labels (y) as integers starting with 0, i.e. 0, 1, 2, ..., [num_class - 1].\n",
      "  warnings.warn(label_encoder_deprecation_msg, UserWarning)\n",
      "/Users/ariklevy/opt/anaconda3/lib/python3.9/site-packages/xgboost/sklearn.py:1224: UserWarning: The use of label encoder in XGBClassifier is deprecated and will be removed in a future release. To remove this warning, do the following: 1) Pass option use_label_encoder=False when constructing XGBClassifier object; and 2) Encode your labels (y) as integers starting with 0, i.e. 0, 1, 2, ..., [num_class - 1].\n",
      "  warnings.warn(label_encoder_deprecation_msg, UserWarning)\n",
      "/Users/ariklevy/opt/anaconda3/lib/python3.9/site-packages/xgboost/sklearn.py:1224: UserWarning: The use of label encoder in XGBClassifier is deprecated and will be removed in a future release. To remove this warning, do the following: 1) Pass option use_label_encoder=False when constructing XGBClassifier object; and 2) Encode your labels (y) as integers starting with 0, i.e. 0, 1, 2, ..., [num_class - 1].\n",
      "  warnings.warn(label_encoder_deprecation_msg, UserWarning)\n",
      "/Users/ariklevy/opt/anaconda3/lib/python3.9/site-packages/xgboost/sklearn.py:1224: UserWarning: The use of label encoder in XGBClassifier is deprecated and will be removed in a future release. To remove this warning, do the following: 1) Pass option use_label_encoder=False when constructing XGBClassifier object; and 2) Encode your labels (y) as integers starting with 0, i.e. 0, 1, 2, ..., [num_class - 1].\n",
      "  warnings.warn(label_encoder_deprecation_msg, UserWarning)\n",
      "/Users/ariklevy/opt/anaconda3/lib/python3.9/site-packages/xgboost/sklearn.py:1224: UserWarning: The use of label encoder in XGBClassifier is deprecated and will be removed in a future release. To remove this warning, do the following: 1) Pass option use_label_encoder=False when constructing XGBClassifier object; and 2) Encode your labels (y) as integers starting with 0, i.e. 0, 1, 2, ..., [num_class - 1].\n",
      "  warnings.warn(label_encoder_deprecation_msg, UserWarning)\n",
      "/Users/ariklevy/opt/anaconda3/lib/python3.9/site-packages/xgboost/sklearn.py:1224: UserWarning: The use of label encoder in XGBClassifier is deprecated and will be removed in a future release. To remove this warning, do the following: 1) Pass option use_label_encoder=False when constructing XGBClassifier object; and 2) Encode your labels (y) as integers starting with 0, i.e. 0, 1, 2, ..., [num_class - 1].\n",
      "  warnings.warn(label_encoder_deprecation_msg, UserWarning)\n",
      "/Users/ariklevy/opt/anaconda3/lib/python3.9/site-packages/xgboost/sklearn.py:1224: UserWarning: The use of label encoder in XGBClassifier is deprecated and will be removed in a future release. To remove this warning, do the following: 1) Pass option use_label_encoder=False when constructing XGBClassifier object; and 2) Encode your labels (y) as integers starting with 0, i.e. 0, 1, 2, ..., [num_class - 1].\n",
      "  warnings.warn(label_encoder_deprecation_msg, UserWarning)\n",
      "/Users/ariklevy/opt/anaconda3/lib/python3.9/site-packages/xgboost/sklearn.py:1224: UserWarning: The use of label encoder in XGBClassifier is deprecated and will be removed in a future release. To remove this warning, do the following: 1) Pass option use_label_encoder=False when constructing XGBClassifier object; and 2) Encode your labels (y) as integers starting with 0, i.e. 0, 1, 2, ..., [num_class - 1].\n",
      "  warnings.warn(label_encoder_deprecation_msg, UserWarning)\n",
      "/Users/ariklevy/opt/anaconda3/lib/python3.9/site-packages/xgboost/sklearn.py:1224: UserWarning: The use of label encoder in XGBClassifier is deprecated and will be removed in a future release. To remove this warning, do the following: 1) Pass option use_label_encoder=False when constructing XGBClassifier object; and 2) Encode your labels (y) as integers starting with 0, i.e. 0, 1, 2, ..., [num_class - 1].\n",
      "  warnings.warn(label_encoder_deprecation_msg, UserWarning)\n",
      "/Users/ariklevy/opt/anaconda3/lib/python3.9/site-packages/xgboost/sklearn.py:1224: UserWarning: The use of label encoder in XGBClassifier is deprecated and will be removed in a future release. To remove this warning, do the following: 1) Pass option use_label_encoder=False when constructing XGBClassifier object; and 2) Encode your labels (y) as integers starting with 0, i.e. 0, 1, 2, ..., [num_class - 1].\n",
      "  warnings.warn(label_encoder_deprecation_msg, UserWarning)\n",
      "/Users/ariklevy/opt/anaconda3/lib/python3.9/site-packages/xgboost/sklearn.py:1224: UserWarning: The use of label encoder in XGBClassifier is deprecated and will be removed in a future release. To remove this warning, do the following: 1) Pass option use_label_encoder=False when constructing XGBClassifier object; and 2) Encode your labels (y) as integers starting with 0, i.e. 0, 1, 2, ..., [num_class - 1].\n",
      "  warnings.warn(label_encoder_deprecation_msg, UserWarning)\n",
      "/Users/ariklevy/opt/anaconda3/lib/python3.9/site-packages/xgboost/sklearn.py:1224: UserWarning: The use of label encoder in XGBClassifier is deprecated and will be removed in a future release. To remove this warning, do the following: 1) Pass option use_label_encoder=False when constructing XGBClassifier object; and 2) Encode your labels (y) as integers starting with 0, i.e. 0, 1, 2, ..., [num_class - 1].\n",
      "  warnings.warn(label_encoder_deprecation_msg, UserWarning)\n",
      "/Users/ariklevy/opt/anaconda3/lib/python3.9/site-packages/xgboost/sklearn.py:1224: UserWarning: The use of label encoder in XGBClassifier is deprecated and will be removed in a future release. To remove this warning, do the following: 1) Pass option use_label_encoder=False when constructing XGBClassifier object; and 2) Encode your labels (y) as integers starting with 0, i.e. 0, 1, 2, ..., [num_class - 1].\n",
      "  warnings.warn(label_encoder_deprecation_msg, UserWarning)\n",
      "/Users/ariklevy/opt/anaconda3/lib/python3.9/site-packages/xgboost/sklearn.py:1224: UserWarning: The use of label encoder in XGBClassifier is deprecated and will be removed in a future release. To remove this warning, do the following: 1) Pass option use_label_encoder=False when constructing XGBClassifier object; and 2) Encode your labels (y) as integers starting with 0, i.e. 0, 1, 2, ..., [num_class - 1].\n",
      "  warnings.warn(label_encoder_deprecation_msg, UserWarning)\n",
      "/Users/ariklevy/opt/anaconda3/lib/python3.9/site-packages/xgboost/sklearn.py:1224: UserWarning: The use of label encoder in XGBClassifier is deprecated and will be removed in a future release. To remove this warning, do the following: 1) Pass option use_label_encoder=False when constructing XGBClassifier object; and 2) Encode your labels (y) as integers starting with 0, i.e. 0, 1, 2, ..., [num_class - 1].\n",
      "  warnings.warn(label_encoder_deprecation_msg, UserWarning)\n",
      "/Users/ariklevy/opt/anaconda3/lib/python3.9/site-packages/xgboost/sklearn.py:1224: UserWarning: The use of label encoder in XGBClassifier is deprecated and will be removed in a future release. To remove this warning, do the following: 1) Pass option use_label_encoder=False when constructing XGBClassifier object; and 2) Encode your labels (y) as integers starting with 0, i.e. 0, 1, 2, ..., [num_class - 1].\n",
      "  warnings.warn(label_encoder_deprecation_msg, UserWarning)\n",
      "/Users/ariklevy/opt/anaconda3/lib/python3.9/site-packages/xgboost/sklearn.py:1224: UserWarning: The use of label encoder in XGBClassifier is deprecated and will be removed in a future release. To remove this warning, do the following: 1) Pass option use_label_encoder=False when constructing XGBClassifier object; and 2) Encode your labels (y) as integers starting with 0, i.e. 0, 1, 2, ..., [num_class - 1].\n",
      "  warnings.warn(label_encoder_deprecation_msg, UserWarning)\n",
      "/Users/ariklevy/opt/anaconda3/lib/python3.9/site-packages/xgboost/sklearn.py:1224: UserWarning: The use of label encoder in XGBClassifier is deprecated and will be removed in a future release. To remove this warning, do the following: 1) Pass option use_label_encoder=False when constructing XGBClassifier object; and 2) Encode your labels (y) as integers starting with 0, i.e. 0, 1, 2, ..., [num_class - 1].\n",
      "  warnings.warn(label_encoder_deprecation_msg, UserWarning)\n",
      "/Users/ariklevy/opt/anaconda3/lib/python3.9/site-packages/xgboost/sklearn.py:1224: UserWarning: The use of label encoder in XGBClassifier is deprecated and will be removed in a future release. To remove this warning, do the following: 1) Pass option use_label_encoder=False when constructing XGBClassifier object; and 2) Encode your labels (y) as integers starting with 0, i.e. 0, 1, 2, ..., [num_class - 1].\n",
      "  warnings.warn(label_encoder_deprecation_msg, UserWarning)\n",
      "/Users/ariklevy/opt/anaconda3/lib/python3.9/site-packages/xgboost/sklearn.py:1224: UserWarning: The use of label encoder in XGBClassifier is deprecated and will be removed in a future release. To remove this warning, do the following: 1) Pass option use_label_encoder=False when constructing XGBClassifier object; and 2) Encode your labels (y) as integers starting with 0, i.e. 0, 1, 2, ..., [num_class - 1].\n",
      "  warnings.warn(label_encoder_deprecation_msg, UserWarning)\n"
     ]
    },
    {
     "name": "stdout",
     "output_type": "stream",
     "text": [
      "[11:24:17] WARNING: ../src/learner.cc:1115: Starting in XGBoost 1.3.0, the default evaluation metric used with the objective 'binary:logistic' was changed from 'error' to 'logloss'. Explicitly set eval_metric if you'd like to restore the old behavior.\n",
      "[CV 4/5] END colsample_bytree=0.8, gamma=5, learning_rate=0.01, max_depth=7, min_child_weight=5, n_estimators=500, subsample=0.8;, score=0.695 total time=24.0min\n",
      "[11:48:15] WARNING: ../src/learner.cc:1115: Starting in XGBoost 1.3.0, the default evaluation metric used with the objective 'binary:logistic' was changed from 'error' to 'logloss'. Explicitly set eval_metric if you'd like to restore the old behavior.\n",
      "[CV 1/5] END colsample_bytree=0.6, gamma=0.5, learning_rate=0.1, max_depth=9, min_child_weight=5, n_estimators=700, subsample=0.8;, score=0.685 total time=29.5min\n",
      "[12:17:47] WARNING: ../src/learner.cc:1115: Starting in XGBoost 1.3.0, the default evaluation metric used with the objective 'binary:logistic' was changed from 'error' to 'logloss'. Explicitly set eval_metric if you'd like to restore the old behavior.\n",
      "[CV 1/5] END colsample_bytree=0.6, gamma=0.5, learning_rate=0.1, max_depth=5, min_child_weight=5, n_estimators=500, subsample=1.0;, score=0.692 total time=11.4min\n",
      "[12:29:09] WARNING: ../src/learner.cc:1115: Starting in XGBoost 1.3.0, the default evaluation metric used with the objective 'binary:logistic' was changed from 'error' to 'logloss'. Explicitly set eval_metric if you'd like to restore the old behavior.\n",
      "[CV 1/5] END colsample_bytree=0.8, gamma=1, learning_rate=0.01, max_depth=7, min_child_weight=10, n_estimators=700, subsample=0.8;, score=0.692 total time=31.9min\n",
      "[13:01:06] WARNING: ../src/learner.cc:1115: Starting in XGBoost 1.3.0, the default evaluation metric used with the objective 'binary:logistic' was changed from 'error' to 'logloss'. Explicitly set eval_metric if you'd like to restore the old behavior.\n",
      "[CV 2/5] END colsample_bytree=0.6, gamma=2, learning_rate=0.1, max_depth=11, min_child_weight=10, n_estimators=700, subsample=0.8;, score=0.693 total time=36.1min\n",
      "[13:37:10] WARNING: ../src/learner.cc:1115: Starting in XGBoost 1.3.0, the default evaluation metric used with the objective 'binary:logistic' was changed from 'error' to 'logloss'. Explicitly set eval_metric if you'd like to restore the old behavior.\n",
      "[CV 1/5] END colsample_bytree=0.6, gamma=1, learning_rate=0.1, max_depth=9, min_child_weight=5, n_estimators=500, subsample=0.6;, score=0.687 total time=22.4min\n",
      "[13:59:31] WARNING: ../src/learner.cc:1115: Starting in XGBoost 1.3.0, the default evaluation metric used with the objective 'binary:logistic' was changed from 'error' to 'logloss'. Explicitly set eval_metric if you'd like to restore the old behavior.\n",
      "[CV 1/5] END colsample_bytree=0.6, gamma=1.5, learning_rate=0.1, max_depth=5, min_child_weight=1, n_estimators=600, subsample=0.6;, score=0.690 total time=15.6min\n",
      "[14:15:07] WARNING: ../src/learner.cc:1115: Starting in XGBoost 1.3.0, the default evaluation metric used with the objective 'binary:logistic' was changed from 'error' to 'logloss'. Explicitly set eval_metric if you'd like to restore the old behavior.\n",
      "[CV 1/5] END colsample_bytree=0.6, gamma=5, learning_rate=0.05, max_depth=9, min_child_weight=1, n_estimators=600, subsample=0.6;, score=0.693 total time=28.6min\n",
      "[14:43:44] WARNING: ../src/learner.cc:1115: Starting in XGBoost 1.3.0, the default evaluation metric used with the objective 'binary:logistic' was changed from 'error' to 'logloss'. Explicitly set eval_metric if you'd like to restore the old behavior.\n",
      "[CV 1/5] END colsample_bytree=1.0, gamma=5, learning_rate=0.1, max_depth=5, min_child_weight=1, n_estimators=700, subsample=1.0;, score=0.689 total time=26.0min\n",
      "[15:09:45] WARNING: ../src/learner.cc:1115: Starting in XGBoost 1.3.0, the default evaluation metric used with the objective 'binary:logistic' was changed from 'error' to 'logloss'. Explicitly set eval_metric if you'd like to restore the old behavior.\n",
      "[CV 1/5] END colsample_bytree=0.6, gamma=1.5, learning_rate=0.1, max_depth=7, min_child_weight=10, n_estimators=500, subsample=0.6;, score=0.691 total time=17.3min\n",
      "[15:27:01] WARNING: ../src/learner.cc:1115: Starting in XGBoost 1.3.0, the default evaluation metric used with the objective 'binary:logistic' was changed from 'error' to 'logloss'. Explicitly set eval_metric if you'd like to restore the old behavior.\n",
      "[CV 1/5] END colsample_bytree=1.0, gamma=0.5, learning_rate=0.01, max_depth=7, min_child_weight=1, n_estimators=500, subsample=1.0;, score=0.692 total time=30.4min\n",
      "[15:57:25] WARNING: ../src/learner.cc:1115: Starting in XGBoost 1.3.0, the default evaluation metric used with the objective 'binary:logistic' was changed from 'error' to 'logloss'. Explicitly set eval_metric if you'd like to restore the old behavior.\n",
      "[CV 1/5] END colsample_bytree=0.6, gamma=2, learning_rate=0.1, max_depth=5, min_child_weight=10, n_estimators=700, subsample=1.0;, score=0.692 total time=15.8min\n",
      "[16:13:11] WARNING: ../src/learner.cc:1115: Starting in XGBoost 1.3.0, the default evaluation metric used with the objective 'binary:logistic' was changed from 'error' to 'logloss'. Explicitly set eval_metric if you'd like to restore the old behavior.\n",
      "[CV 1/5] END colsample_bytree=0.8, gamma=1.5, learning_rate=0.05, max_depth=5, min_child_weight=10, n_estimators=600, subsample=1.0;, score=0.694 total time=18.2min\n",
      "[16:31:23] WARNING: ../src/learner.cc:1115: Starting in XGBoost 1.3.0, the default evaluation metric used with the objective 'binary:logistic' was changed from 'error' to 'logloss'. Explicitly set eval_metric if you'd like to restore the old behavior.\n",
      "[CV 2/5] END colsample_bytree=0.6, gamma=1, learning_rate=0.01, max_depth=9, min_child_weight=10, n_estimators=500, subsample=0.6;, score=0.693 total time=23.8min\n",
      "[16:55:12] WARNING: ../src/learner.cc:1115: Starting in XGBoost 1.3.0, the default evaluation metric used with the objective 'binary:logistic' was changed from 'error' to 'logloss'. Explicitly set eval_metric if you'd like to restore the old behavior.\n",
      "[CV 2/5] END colsample_bytree=0.8, gamma=1, learning_rate=0.01, max_depth=9, min_child_weight=10, n_estimators=700, subsample=0.6;, score=0.697 total time=42.7min\n"
     ]
    },
    {
     "name": "stderr",
     "output_type": "stream",
     "text": [
      "/Users/ariklevy/opt/anaconda3/lib/python3.9/site-packages/xgboost/sklearn.py:1224: UserWarning: The use of label encoder in XGBClassifier is deprecated and will be removed in a future release. To remove this warning, do the following: 1) Pass option use_label_encoder=False when constructing XGBClassifier object; and 2) Encode your labels (y) as integers starting with 0, i.e. 0, 1, 2, ..., [num_class - 1].\n",
      "  warnings.warn(label_encoder_deprecation_msg, UserWarning)\n"
     ]
    },
    {
     "name": "stdout",
     "output_type": "stream",
     "text": [
      "[17:39:37] WARNING: ../src/learner.cc:1115: Starting in XGBoost 1.3.0, the default evaluation metric used with the objective 'binary:logistic' was changed from 'error' to 'logloss'. Explicitly set eval_metric if you'd like to restore the old behavior.\n",
      "[11:24:17] WARNING: ../src/learner.cc:1115: Starting in XGBoost 1.3.0, the default evaluation metric used with the objective 'binary:logistic' was changed from 'error' to 'logloss'. Explicitly set eval_metric if you'd like to restore the old behavior.\n",
      "[CV 5/5] END colsample_bytree=0.8, gamma=5, learning_rate=0.01, max_depth=7, min_child_weight=5, n_estimators=500, subsample=0.8;, score=0.693 total time=24.1min\n",
      "[11:48:21] WARNING: ../src/learner.cc:1115: Starting in XGBoost 1.3.0, the default evaluation metric used with the objective 'binary:logistic' was changed from 'error' to 'logloss'. Explicitly set eval_metric if you'd like to restore the old behavior.\n",
      "[CV 2/5] END colsample_bytree=0.6, gamma=0.5, learning_rate=0.1, max_depth=9, min_child_weight=5, n_estimators=700, subsample=0.8;, score=0.695 total time=29.6min\n",
      "[12:17:54] WARNING: ../src/learner.cc:1115: Starting in XGBoost 1.3.0, the default evaluation metric used with the objective 'binary:logistic' was changed from 'error' to 'logloss'. Explicitly set eval_metric if you'd like to restore the old behavior.\n",
      "[CV 2/5] END colsample_bytree=0.6, gamma=0.5, learning_rate=0.1, max_depth=5, min_child_weight=5, n_estimators=500, subsample=1.0;, score=0.694 total time=11.4min\n",
      "[12:29:20] WARNING: ../src/learner.cc:1115: Starting in XGBoost 1.3.0, the default evaluation metric used with the objective 'binary:logistic' was changed from 'error' to 'logloss'. Explicitly set eval_metric if you'd like to restore the old behavior.\n",
      "[CV 3/5] END colsample_bytree=0.8, gamma=1, learning_rate=0.01, max_depth=7, min_child_weight=10, n_estimators=700, subsample=0.8;, score=0.701 total time=32.4min\n",
      "[13:01:45] WARNING: ../src/learner.cc:1115: Starting in XGBoost 1.3.0, the default evaluation metric used with the objective 'binary:logistic' was changed from 'error' to 'logloss'. Explicitly set eval_metric if you'd like to restore the old behavior.\n",
      "[CV 4/5] END colsample_bytree=0.6, gamma=2, learning_rate=0.1, max_depth=11, min_child_weight=10, n_estimators=700, subsample=0.8;, score=0.694 total time=36.1min\n",
      "[13:37:49] WARNING: ../src/learner.cc:1115: Starting in XGBoost 1.3.0, the default evaluation metric used with the objective 'binary:logistic' was changed from 'error' to 'logloss'. Explicitly set eval_metric if you'd like to restore the old behavior.\n",
      "[CV 4/5] END colsample_bytree=0.6, gamma=1, learning_rate=0.1, max_depth=9, min_child_weight=5, n_estimators=500, subsample=0.6;, score=0.696 total time=22.0min\n",
      "[13:59:47] WARNING: ../src/learner.cc:1115: Starting in XGBoost 1.3.0, the default evaluation metric used with the objective 'binary:logistic' was changed from 'error' to 'logloss'. Explicitly set eval_metric if you'd like to restore the old behavior.\n",
      "[CV 3/5] END colsample_bytree=0.6, gamma=1.5, learning_rate=0.1, max_depth=5, min_child_weight=1, n_estimators=600, subsample=0.6;, score=0.691 total time=15.5min\n",
      "[14:15:22] WARNING: ../src/learner.cc:1115: Starting in XGBoost 1.3.0, the default evaluation metric used with the objective 'binary:logistic' was changed from 'error' to 'logloss'. Explicitly set eval_metric if you'd like to restore the old behavior.\n",
      "[CV 2/5] END colsample_bytree=0.6, gamma=5, learning_rate=0.05, max_depth=9, min_child_weight=1, n_estimators=600, subsample=0.6;, score=0.700 total time=28.6min\n",
      "[14:43:59] WARNING: ../src/learner.cc:1115: Starting in XGBoost 1.3.0, the default evaluation metric used with the objective 'binary:logistic' was changed from 'error' to 'logloss'. Explicitly set eval_metric if you'd like to restore the old behavior.\n",
      "[CV 2/5] END colsample_bytree=1.0, gamma=5, learning_rate=0.1, max_depth=5, min_child_weight=1, n_estimators=700, subsample=1.0;, score=0.698 total time=25.9min\n",
      "[15:09:50] WARNING: ../src/learner.cc:1115: Starting in XGBoost 1.3.0, the default evaluation metric used with the objective 'binary:logistic' was changed from 'error' to 'logloss'. Explicitly set eval_metric if you'd like to restore the old behavior.\n",
      "[CV 2/5] END colsample_bytree=0.6, gamma=1.5, learning_rate=0.1, max_depth=7, min_child_weight=10, n_estimators=500, subsample=0.6;, score=0.691 total time=17.3min\n",
      "[15:27:12] WARNING: ../src/learner.cc:1115: Starting in XGBoost 1.3.0, the default evaluation metric used with the objective 'binary:logistic' was changed from 'error' to 'logloss'. Explicitly set eval_metric if you'd like to restore the old behavior.\n",
      "[CV 2/5] END colsample_bytree=1.0, gamma=0.5, learning_rate=0.01, max_depth=7, min_child_weight=1, n_estimators=500, subsample=1.0;, score=0.694 total time=30.5min\n",
      "[15:57:38] WARNING: ../src/learner.cc:1115: Starting in XGBoost 1.3.0, the default evaluation metric used with the objective 'binary:logistic' was changed from 'error' to 'logloss'. Explicitly set eval_metric if you'd like to restore the old behavior.\n",
      "[CV 2/5] END colsample_bytree=0.6, gamma=2, learning_rate=0.1, max_depth=5, min_child_weight=10, n_estimators=700, subsample=1.0;, score=0.695 total time=15.9min\n",
      "[16:13:34] WARNING: ../src/learner.cc:1115: Starting in XGBoost 1.3.0, the default evaluation metric used with the objective 'binary:logistic' was changed from 'error' to 'logloss'. Explicitly set eval_metric if you'd like to restore the old behavior.\n",
      "[CV 3/5] END colsample_bytree=0.8, gamma=1.5, learning_rate=0.05, max_depth=5, min_child_weight=10, n_estimators=600, subsample=1.0;, score=0.702 total time=17.7min\n",
      "[16:31:15] WARNING: ../src/learner.cc:1115: Starting in XGBoost 1.3.0, the default evaluation metric used with the objective 'binary:logistic' was changed from 'error' to 'logloss'. Explicitly set eval_metric if you'd like to restore the old behavior.\n",
      "[CV 1/5] END colsample_bytree=0.6, gamma=1, learning_rate=0.01, max_depth=9, min_child_weight=10, n_estimators=500, subsample=0.6;, score=0.695 total time=23.7min\n",
      "[16:55:01] WARNING: ../src/learner.cc:1115: Starting in XGBoost 1.3.0, the default evaluation metric used with the objective 'binary:logistic' was changed from 'error' to 'logloss'. Explicitly set eval_metric if you'd like to restore the old behavior.\n",
      "[CV 1/5] END colsample_bytree=0.8, gamma=1, learning_rate=0.01, max_depth=9, min_child_weight=10, n_estimators=700, subsample=0.6;, score=0.697 total time=42.7min\n",
      "[11:24:17] WARNING: ../src/learner.cc:1115: Starting in XGBoost 1.3.0, the default evaluation metric used with the objective 'binary:logistic' was changed from 'error' to 'logloss'. Explicitly set eval_metric if you'd like to restore the old behavior.\n",
      "[CV 2/5] END colsample_bytree=0.8, gamma=5, learning_rate=0.01, max_depth=7, min_child_weight=5, n_estimators=500, subsample=0.8;, score=0.698 total time=24.2min\n",
      "[11:48:29] WARNING: ../src/learner.cc:1115: Starting in XGBoost 1.3.0, the default evaluation metric used with the objective 'binary:logistic' was changed from 'error' to 'logloss'. Explicitly set eval_metric if you'd like to restore the old behavior.\n",
      "[CV 5/5] END colsample_bytree=0.6, gamma=0.5, learning_rate=0.1, max_depth=9, min_child_weight=5, n_estimators=700, subsample=0.8;, score=0.689 total time=29.5min\n",
      "[12:17:59] WARNING: ../src/learner.cc:1115: Starting in XGBoost 1.3.0, the default evaluation metric used with the objective 'binary:logistic' was changed from 'error' to 'logloss'. Explicitly set eval_metric if you'd like to restore the old behavior.\n",
      "[CV 4/5] END colsample_bytree=0.6, gamma=0.5, learning_rate=0.1, max_depth=5, min_child_weight=5, n_estimators=500, subsample=1.0;, score=0.695 total time=11.5min\n",
      "[12:29:31] WARNING: ../src/learner.cc:1115: Starting in XGBoost 1.3.0, the default evaluation metric used with the objective 'binary:logistic' was changed from 'error' to 'logloss'. Explicitly set eval_metric if you'd like to restore the old behavior.\n",
      "[CV 4/5] END colsample_bytree=0.8, gamma=1, learning_rate=0.01, max_depth=7, min_child_weight=10, n_estimators=700, subsample=0.8;, score=0.697 total time=31.6min\n",
      "[13:01:10] WARNING: ../src/learner.cc:1115: Starting in XGBoost 1.3.0, the default evaluation metric used with the objective 'binary:logistic' was changed from 'error' to 'logloss'. Explicitly set eval_metric if you'd like to restore the old behavior.\n",
      "[CV 3/5] END colsample_bytree=0.6, gamma=2, learning_rate=0.1, max_depth=11, min_child_weight=10, n_estimators=700, subsample=0.8;, score=0.693 total time=36.4min\n",
      "[13:37:35] WARNING: ../src/learner.cc:1115: Starting in XGBoost 1.3.0, the default evaluation metric used with the objective 'binary:logistic' was changed from 'error' to 'logloss'. Explicitly set eval_metric if you'd like to restore the old behavior.\n",
      "[CV 3/5] END colsample_bytree=0.6, gamma=1, learning_rate=0.1, max_depth=9, min_child_weight=5, n_estimators=500, subsample=0.6;, score=0.695 total time=22.5min\n",
      "[14:00:02] WARNING: ../src/learner.cc:1115: Starting in XGBoost 1.3.0, the default evaluation metric used with the objective 'binary:logistic' was changed from 'error' to 'logloss'. Explicitly set eval_metric if you'd like to restore the old behavior.\n",
      "[CV 4/5] END colsample_bytree=0.6, gamma=1.5, learning_rate=0.1, max_depth=5, min_child_weight=1, n_estimators=600, subsample=0.6;, score=0.699 total time=15.6min\n",
      "[14:15:42] WARNING: ../src/learner.cc:1115: Starting in XGBoost 1.3.0, the default evaluation metric used with the objective 'binary:logistic' was changed from 'error' to 'logloss'. Explicitly set eval_metric if you'd like to restore the old behavior.\n",
      "[CV 4/5] END colsample_bytree=0.6, gamma=5, learning_rate=0.05, max_depth=9, min_child_weight=1, n_estimators=600, subsample=0.6;, score=0.706 total time=28.5min\n",
      "[14:44:13] WARNING: ../src/learner.cc:1115: Starting in XGBoost 1.3.0, the default evaluation metric used with the objective 'binary:logistic' was changed from 'error' to 'logloss'. Explicitly set eval_metric if you'd like to restore the old behavior.\n",
      "[CV 4/5] END colsample_bytree=1.0, gamma=5, learning_rate=0.1, max_depth=5, min_child_weight=1, n_estimators=700, subsample=1.0;, score=0.700 total time=26.1min\n",
      "[15:10:18] WARNING: ../src/learner.cc:1115: Starting in XGBoost 1.3.0, the default evaluation metric used with the objective 'binary:logistic' was changed from 'error' to 'logloss'. Explicitly set eval_metric if you'd like to restore the old behavior.\n",
      "[CV 3/5] END colsample_bytree=0.6, gamma=1.5, learning_rate=0.1, max_depth=7, min_child_weight=10, n_estimators=500, subsample=0.6;, score=0.690 total time=17.2min\n",
      "[15:27:32] WARNING: ../src/learner.cc:1115: Starting in XGBoost 1.3.0, the default evaluation metric used with the objective 'binary:logistic' was changed from 'error' to 'logloss'. Explicitly set eval_metric if you'd like to restore the old behavior.\n",
      "[CV 3/5] END colsample_bytree=1.0, gamma=0.5, learning_rate=0.01, max_depth=7, min_child_weight=1, n_estimators=500, subsample=1.0;, score=0.698 total time=30.3min\n",
      "[15:57:49] WARNING: ../src/learner.cc:1115: Starting in XGBoost 1.3.0, the default evaluation metric used with the objective 'binary:logistic' was changed from 'error' to 'logloss'. Explicitly set eval_metric if you'd like to restore the old behavior.\n",
      "[CV 3/5] END colsample_bytree=0.6, gamma=2, learning_rate=0.1, max_depth=5, min_child_weight=10, n_estimators=700, subsample=1.0;, score=0.700 total time=15.7min\n",
      "[16:13:32] WARNING: ../src/learner.cc:1115: Starting in XGBoost 1.3.0, the default evaluation metric used with the objective 'binary:logistic' was changed from 'error' to 'logloss'. Explicitly set eval_metric if you'd like to restore the old behavior.\n",
      "[CV 2/5] END colsample_bytree=0.8, gamma=1.5, learning_rate=0.05, max_depth=5, min_child_weight=10, n_estimators=600, subsample=1.0;, score=0.696 total time=17.9min\n",
      "[16:31:25] WARNING: ../src/learner.cc:1115: Starting in XGBoost 1.3.0, the default evaluation metric used with the objective 'binary:logistic' was changed from 'error' to 'logloss'. Explicitly set eval_metric if you'd like to restore the old behavior.\n",
      "[CV 3/5] END colsample_bytree=0.6, gamma=1, learning_rate=0.01, max_depth=9, min_child_weight=10, n_estimators=500, subsample=0.6;, score=0.700 total time=23.8min\n",
      "[16:55:17] WARNING: ../src/learner.cc:1115: Starting in XGBoost 1.3.0, the default evaluation metric used with the objective 'binary:logistic' was changed from 'error' to 'logloss'. Explicitly set eval_metric if you'd like to restore the old behavior.\n",
      "[CV 3/5] END colsample_bytree=0.8, gamma=1, learning_rate=0.01, max_depth=9, min_child_weight=10, n_estimators=700, subsample=0.6;, score=0.701 total time=43.0min\n",
      "[11:24:17] WARNING: ../src/learner.cc:1115: Starting in XGBoost 1.3.0, the default evaluation metric used with the objective 'binary:logistic' was changed from 'error' to 'logloss'. Explicitly set eval_metric if you'd like to restore the old behavior.\n",
      "[CV 1/5] END colsample_bytree=0.8, gamma=5, learning_rate=0.01, max_depth=7, min_child_weight=5, n_estimators=500, subsample=0.8;, score=0.692 total time=24.2min\n",
      "[11:48:27] WARNING: ../src/learner.cc:1115: Starting in XGBoost 1.3.0, the default evaluation metric used with the objective 'binary:logistic' was changed from 'error' to 'logloss'. Explicitly set eval_metric if you'd like to restore the old behavior.\n",
      "[CV 4/5] END colsample_bytree=0.6, gamma=0.5, learning_rate=0.1, max_depth=9, min_child_weight=5, n_estimators=700, subsample=0.8;, score=0.693 total time=29.5min\n",
      "[12:17:56] WARNING: ../src/learner.cc:1115: Starting in XGBoost 1.3.0, the default evaluation metric used with the objective 'binary:logistic' was changed from 'error' to 'logloss'. Explicitly set eval_metric if you'd like to restore the old behavior.\n",
      "[CV 3/5] END colsample_bytree=0.6, gamma=0.5, learning_rate=0.1, max_depth=5, min_child_weight=5, n_estimators=500, subsample=1.0;, score=0.696 total time=11.3min\n",
      "[12:29:15] WARNING: ../src/learner.cc:1115: Starting in XGBoost 1.3.0, the default evaluation metric used with the objective 'binary:logistic' was changed from 'error' to 'logloss'. Explicitly set eval_metric if you'd like to restore the old behavior.\n",
      "[CV 2/5] END colsample_bytree=0.8, gamma=1, learning_rate=0.01, max_depth=7, min_child_weight=10, n_estimators=700, subsample=0.8;, score=0.696 total time=31.8min\n",
      "[13:01:03] WARNING: ../src/learner.cc:1115: Starting in XGBoost 1.3.0, the default evaluation metric used with the objective 'binary:logistic' was changed from 'error' to 'logloss'. Explicitly set eval_metric if you'd like to restore the old behavior.\n",
      "[CV 1/5] END colsample_bytree=0.6, gamma=2, learning_rate=0.1, max_depth=11, min_child_weight=10, n_estimators=700, subsample=0.8;, score=0.686 total time=36.2min\n",
      "[13:37:12] WARNING: ../src/learner.cc:1115: Starting in XGBoost 1.3.0, the default evaluation metric used with the objective 'binary:logistic' was changed from 'error' to 'logloss'. Explicitly set eval_metric if you'd like to restore the old behavior.\n",
      "[CV 2/5] END colsample_bytree=0.6, gamma=1, learning_rate=0.1, max_depth=9, min_child_weight=5, n_estimators=500, subsample=0.6;, score=0.692 total time=22.6min\n",
      "[13:59:43] WARNING: ../src/learner.cc:1115: Starting in XGBoost 1.3.0, the default evaluation metric used with the objective 'binary:logistic' was changed from 'error' to 'logloss'. Explicitly set eval_metric if you'd like to restore the old behavior.\n",
      "[CV 2/5] END colsample_bytree=0.6, gamma=1.5, learning_rate=0.1, max_depth=5, min_child_weight=1, n_estimators=600, subsample=0.6;, score=0.695 total time=15.6min\n",
      "[14:15:23] WARNING: ../src/learner.cc:1115: Starting in XGBoost 1.3.0, the default evaluation metric used with the objective 'binary:logistic' was changed from 'error' to 'logloss'. Explicitly set eval_metric if you'd like to restore the old behavior.\n",
      "[CV 3/5] END colsample_bytree=0.6, gamma=5, learning_rate=0.05, max_depth=9, min_child_weight=1, n_estimators=600, subsample=0.6;, score=0.705 total time=28.7min\n",
      "[14:44:02] WARNING: ../src/learner.cc:1115: Starting in XGBoost 1.3.0, the default evaluation metric used with the objective 'binary:logistic' was changed from 'error' to 'logloss'. Explicitly set eval_metric if you'd like to restore the old behavior.\n",
      "[CV 3/5] END colsample_bytree=1.0, gamma=5, learning_rate=0.1, max_depth=5, min_child_weight=1, n_estimators=700, subsample=1.0;, score=0.699 total time=26.5min\n",
      "[15:10:30] WARNING: ../src/learner.cc:1115: Starting in XGBoost 1.3.0, the default evaluation metric used with the objective 'binary:logistic' was changed from 'error' to 'logloss'. Explicitly set eval_metric if you'd like to restore the old behavior.\n",
      "[CV 4/5] END colsample_bytree=0.6, gamma=1.5, learning_rate=0.1, max_depth=7, min_child_weight=10, n_estimators=500, subsample=0.6;, score=0.697 total time=17.2min\n",
      "[15:27:43] WARNING: ../src/learner.cc:1115: Starting in XGBoost 1.3.0, the default evaluation metric used with the objective 'binary:logistic' was changed from 'error' to 'logloss'. Explicitly set eval_metric if you'd like to restore the old behavior.\n",
      "[CV 4/5] END colsample_bytree=1.0, gamma=0.5, learning_rate=0.01, max_depth=7, min_child_weight=1, n_estimators=500, subsample=1.0;, score=0.696 total time=30.4min\n",
      "[15:58:04] WARNING: ../src/learner.cc:1115: Starting in XGBoost 1.3.0, the default evaluation metric used with the objective 'binary:logistic' was changed from 'error' to 'logloss'. Explicitly set eval_metric if you'd like to restore the old behavior.\n",
      "[CV 4/5] END colsample_bytree=0.6, gamma=2, learning_rate=0.1, max_depth=5, min_child_weight=10, n_estimators=700, subsample=1.0;, score=0.700 total time=15.8min\n",
      "[16:13:50] WARNING: ../src/learner.cc:1115: Starting in XGBoost 1.3.0, the default evaluation metric used with the objective 'binary:logistic' was changed from 'error' to 'logloss'. Explicitly set eval_metric if you'd like to restore the old behavior.\n",
      "[CV 4/5] END colsample_bytree=0.8, gamma=1.5, learning_rate=0.05, max_depth=5, min_child_weight=10, n_estimators=600, subsample=1.0;, score=0.700 total time=17.9min\n",
      "[16:31:43] WARNING: ../src/learner.cc:1115: Starting in XGBoost 1.3.0, the default evaluation metric used with the objective 'binary:logistic' was changed from 'error' to 'logloss'. Explicitly set eval_metric if you'd like to restore the old behavior.\n",
      "[CV 4/5] END colsample_bytree=0.6, gamma=1, learning_rate=0.01, max_depth=9, min_child_weight=10, n_estimators=500, subsample=0.6;, score=0.697 total time=23.9min\n",
      "[16:55:35] WARNING: ../src/learner.cc:1115: Starting in XGBoost 1.3.0, the default evaluation metric used with the objective 'binary:logistic' was changed from 'error' to 'logloss'. Explicitly set eval_metric if you'd like to restore the old behavior.\n",
      "[CV 4/5] END colsample_bytree=0.8, gamma=1, learning_rate=0.01, max_depth=9, min_child_weight=10, n_estimators=700, subsample=0.6;, score=0.699 total time=42.8min\n",
      "[11:24:17] WARNING: ../src/learner.cc:1115: Starting in XGBoost 1.3.0, the default evaluation metric used with the objective 'binary:logistic' was changed from 'error' to 'logloss'. Explicitly set eval_metric if you'd like to restore the old behavior.\n",
      "[CV 3/5] END colsample_bytree=0.8, gamma=5, learning_rate=0.01, max_depth=7, min_child_weight=5, n_estimators=500, subsample=0.8;, score=0.698 total time=24.2min\n",
      "[11:48:26] WARNING: ../src/learner.cc:1115: Starting in XGBoost 1.3.0, the default evaluation metric used with the objective 'binary:logistic' was changed from 'error' to 'logloss'. Explicitly set eval_metric if you'd like to restore the old behavior.\n",
      "[CV 3/5] END colsample_bytree=0.6, gamma=0.5, learning_rate=0.1, max_depth=9, min_child_weight=5, n_estimators=700, subsample=0.8;, score=0.698 total time=29.8min\n",
      "[12:18:10] WARNING: ../src/learner.cc:1115: Starting in XGBoost 1.3.0, the default evaluation metric used with the objective 'binary:logistic' was changed from 'error' to 'logloss'. Explicitly set eval_metric if you'd like to restore the old behavior.\n",
      "[CV 5/5] END colsample_bytree=0.6, gamma=0.5, learning_rate=0.1, max_depth=5, min_child_weight=5, n_estimators=500, subsample=1.0;, score=0.692 total time=11.5min\n",
      "[12:29:44] WARNING: ../src/learner.cc:1115: Starting in XGBoost 1.3.0, the default evaluation metric used with the objective 'binary:logistic' was changed from 'error' to 'logloss'. Explicitly set eval_metric if you'd like to restore the old behavior.\n",
      "[CV 5/5] END colsample_bytree=0.8, gamma=1, learning_rate=0.01, max_depth=7, min_child_weight=10, n_estimators=700, subsample=0.8;, score=0.693 total time=33.0min\n",
      "[13:02:44] WARNING: ../src/learner.cc:1115: Starting in XGBoost 1.3.0, the default evaluation metric used with the objective 'binary:logistic' was changed from 'error' to 'logloss'. Explicitly set eval_metric if you'd like to restore the old behavior.\n",
      "[CV 5/5] END colsample_bytree=0.6, gamma=2, learning_rate=0.1, max_depth=11, min_child_weight=10, n_estimators=700, subsample=0.8;, score=0.684 total time=36.1min\n",
      "[13:38:50] WARNING: ../src/learner.cc:1115: Starting in XGBoost 1.3.0, the default evaluation metric used with the objective 'binary:logistic' was changed from 'error' to 'logloss'. Explicitly set eval_metric if you'd like to restore the old behavior.\n",
      "[CV 5/5] END colsample_bytree=0.6, gamma=1, learning_rate=0.1, max_depth=9, min_child_weight=5, n_estimators=500, subsample=0.6;, score=0.690 total time=22.3min\n",
      "[14:01:06] WARNING: ../src/learner.cc:1115: Starting in XGBoost 1.3.0, the default evaluation metric used with the objective 'binary:logistic' was changed from 'error' to 'logloss'. Explicitly set eval_metric if you'd like to restore the old behavior.\n",
      "[CV 5/5] END colsample_bytree=0.6, gamma=1.5, learning_rate=0.1, max_depth=5, min_child_weight=1, n_estimators=600, subsample=0.6;, score=0.685 total time=15.6min\n",
      "[14:16:46] WARNING: ../src/learner.cc:1115: Starting in XGBoost 1.3.0, the default evaluation metric used with the objective 'binary:logistic' was changed from 'error' to 'logloss'. Explicitly set eval_metric if you'd like to restore the old behavior.\n",
      "[CV 5/5] END colsample_bytree=0.6, gamma=5, learning_rate=0.05, max_depth=9, min_child_weight=1, n_estimators=600, subsample=0.6;, score=0.693 total time=28.6min\n",
      "[14:45:21] WARNING: ../src/learner.cc:1115: Starting in XGBoost 1.3.0, the default evaluation metric used with the objective 'binary:logistic' was changed from 'error' to 'logloss'. Explicitly set eval_metric if you'd like to restore the old behavior.\n",
      "[CV 5/5] END colsample_bytree=1.0, gamma=5, learning_rate=0.1, max_depth=5, min_child_weight=1, n_estimators=700, subsample=1.0;, score=0.692 total time=25.9min\n",
      "[15:11:16] WARNING: ../src/learner.cc:1115: Starting in XGBoost 1.3.0, the default evaluation metric used with the objective 'binary:logistic' was changed from 'error' to 'logloss'. Explicitly set eval_metric if you'd like to restore the old behavior.\n",
      "[CV 5/5] END colsample_bytree=0.6, gamma=1.5, learning_rate=0.1, max_depth=7, min_child_weight=10, n_estimators=500, subsample=0.6;, score=0.686 total time=17.2min\n",
      "[15:28:30] WARNING: ../src/learner.cc:1115: Starting in XGBoost 1.3.0, the default evaluation metric used with the objective 'binary:logistic' was changed from 'error' to 'logloss'. Explicitly set eval_metric if you'd like to restore the old behavior.\n",
      "[CV 5/5] END colsample_bytree=1.0, gamma=0.5, learning_rate=0.01, max_depth=7, min_child_weight=1, n_estimators=500, subsample=1.0;, score=0.694 total time=30.8min\n",
      "[15:59:13] WARNING: ../src/learner.cc:1115: Starting in XGBoost 1.3.0, the default evaluation metric used with the objective 'binary:logistic' was changed from 'error' to 'logloss'. Explicitly set eval_metric if you'd like to restore the old behavior.\n",
      "[CV 5/5] END colsample_bytree=0.6, gamma=2, learning_rate=0.1, max_depth=5, min_child_weight=10, n_estimators=700, subsample=1.0;, score=0.690 total time=15.8min\n",
      "[16:15:02] WARNING: ../src/learner.cc:1115: Starting in XGBoost 1.3.0, the default evaluation metric used with the objective 'binary:logistic' was changed from 'error' to 'logloss'. Explicitly set eval_metric if you'd like to restore the old behavior.\n",
      "[CV 5/5] END colsample_bytree=0.8, gamma=1.5, learning_rate=0.05, max_depth=5, min_child_weight=10, n_estimators=600, subsample=1.0;, score=0.688 total time=17.6min\n",
      "[16:32:40] WARNING: ../src/learner.cc:1115: Starting in XGBoost 1.3.0, the default evaluation metric used with the objective 'binary:logistic' was changed from 'error' to 'logloss'. Explicitly set eval_metric if you'd like to restore the old behavior.\n",
      "[CV 5/5] END colsample_bytree=0.6, gamma=1, learning_rate=0.01, max_depth=9, min_child_weight=10, n_estimators=500, subsample=0.6;, score=0.693 total time=23.9min\n",
      "[16:56:33] WARNING: ../src/learner.cc:1115: Starting in XGBoost 1.3.0, the default evaluation metric used with the objective 'binary:logistic' was changed from 'error' to 'logloss'. Explicitly set eval_metric if you'd like to restore the old behavior.\n",
      "[CV 5/5] END colsample_bytree=0.8, gamma=1, learning_rate=0.01, max_depth=9, min_child_weight=10, n_estimators=700, subsample=0.6;, score=0.695 total time=43.1min\n"
     ]
    },
    {
     "data": {
      "text/plain": [
       "RandomizedSearchCV(cv=5,\n",
       "                   estimator=XGBClassifier(base_score=None, booster=None,\n",
       "                                           colsample_bylevel=None,\n",
       "                                           colsample_bynode=None,\n",
       "                                           colsample_bytree=None,\n",
       "                                           enable_categorical=False, gamma=None,\n",
       "                                           gpu_id=None, importance_type=None,\n",
       "                                           interaction_constraints=None,\n",
       "                                           learning_rate=None,\n",
       "                                           max_delta_step=None, max_depth=None,\n",
       "                                           min_child_weight=None, missing=nan,\n",
       "                                           monotone_constraints...\n",
       "                                           scale_pos_weight=None,\n",
       "                                           subsample=None, tree_method=None,\n",
       "                                           validate_parameters=None,\n",
       "                                           verbosity=None),\n",
       "                   n_iter=15, n_jobs=5,\n",
       "                   param_distributions={'colsample_bytree': [0.6, 0.8, 1.0],\n",
       "                                        'gamma': [0.5, 1, 1.5, 2, 5],\n",
       "                                        'learning_rate': [0.01, 0.05, 0.1],\n",
       "                                        'max_depth': [5, 7, 9, 11],\n",
       "                                        'min_child_weight': [1, 5, 10],\n",
       "                                        'n_estimators': [500, 600, 700],\n",
       "                                        'subsample': [0.6, 0.8, 1.0]},\n",
       "                   random_state=1001, verbose=3)"
      ]
     },
     "execution_count": 36,
     "metadata": {},
     "output_type": "execute_result"
    }
   ],
   "source": [
    "folds = 5\n",
    "param_comb = 15\n",
    "\n",
    "random_search = RandomizedSearchCV(xgb, param_distributions=params, n_iter=param_comb,\n",
    "                                   n_jobs=5, cv=folds, verbose=3, random_state=1001 )\n",
    "\n",
    "random_search.fit(X_train, y_train)\n"
   ]
  },
  {
   "cell_type": "markdown",
   "id": "bad57a99",
   "metadata": {},
   "source": [
    "------"
   ]
  },
  {
   "cell_type": "code",
   "execution_count": 37,
   "id": "2b34cda1",
   "metadata": {
    "ExecuteTime": {
     "end_time": "2022-06-22T15:36:08.594957Z",
     "start_time": "2022-06-22T15:36:08.594950Z"
    }
   },
   "outputs": [
    {
     "data": {
      "text/plain": [
       "0.6993091537132987"
      ]
     },
     "execution_count": 37,
     "metadata": {},
     "output_type": "execute_result"
    }
   ],
   "source": [
    "random_search.best_score_"
   ]
  },
  {
   "cell_type": "code",
   "execution_count": 38,
   "id": "2992a05d",
   "metadata": {
    "ExecuteTime": {
     "end_time": "2022-06-22T15:36:08.602270Z",
     "start_time": "2022-06-22T15:36:08.602261Z"
    }
   },
   "outputs": [
    {
     "data": {
      "text/plain": [
       "{'subsample': 0.6,\n",
       " 'n_estimators': 600,\n",
       " 'min_child_weight': 1,\n",
       " 'max_depth': 9,\n",
       " 'learning_rate': 0.05,\n",
       " 'gamma': 5,\n",
       " 'colsample_bytree': 0.6}"
      ]
     },
     "execution_count": 38,
     "metadata": {},
     "output_type": "execute_result"
    }
   ],
   "source": [
    "random_search.best_params_"
   ]
  },
  {
   "cell_type": "code",
   "execution_count": 45,
   "id": "3899dbca",
   "metadata": {
    "ExecuteTime": {
     "end_time": "2022-06-22T15:36:08.614231Z",
     "start_time": "2022-06-22T15:36:08.614223Z"
    }
   },
   "outputs": [
    {
     "name": "stdout",
     "output_type": "stream",
     "text": [
      "              precision    recall  f1-score   support\n",
      "\n",
      "           0       0.69      0.73      0.71     11378\n",
      "           1       0.71      0.67      0.69     11437\n",
      "\n",
      "    accuracy                           0.70     22815\n",
      "   macro avg       0.70      0.70      0.70     22815\n",
      "weighted avg       0.70      0.70      0.70     22815\n",
      "\n"
     ]
    }
   ],
   "source": [
    "y_pred = random_search.predict(X_test)\n",
    "\n",
    "print(classification_report(y_test, y_pred))"
   ]
  },
  {
   "cell_type": "code",
   "execution_count": 182,
   "id": "9ec66575",
   "metadata": {
    "ExecuteTime": {
     "end_time": "2022-06-17T19:37:00.309150Z",
     "start_time": "2022-06-17T19:37:00.307164Z"
    }
   },
   "outputs": [],
   "source": [
    "best_xgb = random_search.best_estimator_\n"
   ]
  },
  {
   "cell_type": "code",
   "execution_count": 183,
   "id": "6b8f74f3",
   "metadata": {
    "ExecuteTime": {
     "end_time": "2022-06-17T19:37:09.825076Z",
     "start_time": "2022-06-17T19:37:09.813580Z"
    }
   },
   "outputs": [
    {
     "name": "stdout",
     "output_type": "stream",
     "text": [
      "0.7016556711906952\n",
      "0.6901760931883332\n"
     ]
    }
   ],
   "source": [
    "print(roc_auc_score(y_test, y_pred))\n",
    "print(f1_score(y_test, y_pred))\n"
   ]
  },
  {
   "cell_type": "code",
   "execution_count": 285,
   "id": "1358b750",
   "metadata": {
    "ExecuteTime": {
     "end_time": "2022-06-21T13:07:27.166032Z",
     "start_time": "2022-06-21T13:07:26.284122Z"
    }
   },
   "outputs": [
    {
     "data": {
      "image/png": "[encoded data removed]",
      "text/plain": [
       "<Figure size 432x288 with 1 Axes>"
      ]
     },
     "metadata": {
      "needs_background": "light"
     },
     "output_type": "display_data"
    }
   ],
   "source": [
    "plot_roc_curve(best_xgb, X_test, y_test);\n",
    "plt.title('Reciever Operator Curve')\n",
    "plt.show()"
   ]
  },
  {
   "cell_type": "code",
   "execution_count": 185,
   "id": "d66da984",
   "metadata": {
    "ExecuteTime": {
     "end_time": "2022-06-17T19:37:33.748685Z",
     "start_time": "2022-06-17T19:37:31.298360Z"
    }
   },
   "outputs": [
    {
     "data": {
      "image/png": "[encoded data removed]",
      "text/plain": [
       "<Figure size 432x288 with 2 Axes>"
      ]
     },
     "metadata": {
      "needs_background": "light"
     },
     "output_type": "display_data"
    }
   ],
   "source": [
    "plot_confusion_matrix(best_xgb, X_test, y_test, cmap='Blues', labels=[1, 0], values_format='.0f')\n",
    "plt.show()"
   ]
  },
  {
   "cell_type": "markdown",
   "id": "f1fd191b",
   "metadata": {},
   "source": [
    "#### Feature Importance"
   ]
  },
  {
   "cell_type": "code",
   "execution_count": 186,
   "id": "47a4c1ca",
   "metadata": {
    "ExecuteTime": {
     "end_time": "2022-06-17T19:37:43.280686Z",
     "start_time": "2022-06-17T19:37:43.277499Z"
    }
   },
   "outputs": [
    {
     "data": {
      "text/plain": [
       "XGBClassifier(base_score=0.5, booster='gbtree', colsample_bylevel=1,\n",
       "              colsample_bynode=1, colsample_bytree=0.8,\n",
       "              enable_categorical=False, gamma=1, gpu_id=-1,\n",
       "              importance_type=None, interaction_constraints='',\n",
       "              learning_rate=0.01, max_delta_step=0, max_depth=9,\n",
       "              min_child_weight=10, missing=nan, monotone_constraints='()',\n",
       "              n_estimators=700, n_jobs=1, nthread=1, num_parallel_tree=1,\n",
       "              predictor='auto', random_state=0, reg_alpha=0, reg_lambda=1,\n",
       "              scale_pos_weight=1, subsample=0.6, tree_method='exact',\n",
       "              validate_parameters=1, verbosity=None)"
      ]
     },
     "execution_count": 186,
     "metadata": {},
     "output_type": "execute_result"
    }
   ],
   "source": [
    "random_search.best_estimator_\n"
   ]
  },
  {
   "cell_type": "code",
   "execution_count": 187,
   "id": "ac6564ba",
   "metadata": {
    "ExecuteTime": {
     "end_time": "2022-06-17T19:37:53.376119Z",
     "start_time": "2022-06-17T19:37:52.824600Z"
    }
   },
   "outputs": [],
   "source": [
    "feature_importance = best_xgb.feature_importances_\n"
   ]
  },
  {
   "cell_type": "code",
   "execution_count": 188,
   "id": "1caa7a08",
   "metadata": {
    "ExecuteTime": {
     "end_time": "2022-06-17T19:38:02.985946Z",
     "start_time": "2022-06-17T19:38:02.984201Z"
    }
   },
   "outputs": [],
   "source": [
    "dict_features = {'feature_names': feature_names, 'feature_importance': feature_importance}\n"
   ]
  },
  {
   "cell_type": "code",
   "execution_count": 293,
   "id": "89a39ea4",
   "metadata": {
    "ExecuteTime": {
     "end_time": "2022-06-21T14:43:57.605683Z",
     "start_time": "2022-06-21T14:43:56.987901Z"
    }
   },
   "outputs": [
    {
     "data": {
      "text/html": [
       "<div>\n",
       "<style scoped>\n",
       "    .dataframe tbody tr th:only-of-type {\n",
       "        vertical-align: middle;\n",
       "    }\n",
       "\n",
       "    .dataframe tbody tr th {\n",
       "        vertical-align: top;\n",
       "    }\n",
       "\n",
       "    .dataframe thead th {\n",
       "        text-align: right;\n",
       "    }\n",
       "</style>\n",
       "<table border=\"1\" class=\"dataframe\">\n",
       "  <thead>\n",
       "    <tr style=\"text-align: right;\">\n",
       "      <th></th>\n",
       "      <th>feature_names</th>\n",
       "      <th>feature_importance</th>\n",
       "    </tr>\n",
       "  </thead>\n",
       "  <tbody>\n",
       "    <tr>\n",
       "      <th>1154504</th>\n",
       "      <td>publication_datadriveninvestor</td>\n",
       "      <td>0.017780</td>\n",
       "    </tr>\n",
       "    <tr>\n",
       "      <th>1154508</th>\n",
       "      <td>publication_towardsdatascience</td>\n",
       "      <td>0.017499</td>\n",
       "    </tr>\n",
       "    <tr>\n",
       "      <th>1154507</th>\n",
       "      <td>publication_the-mission</td>\n",
       "      <td>0.013533</td>\n",
       "    </tr>\n",
       "    <tr>\n",
       "      <th>1154503</th>\n",
       "      <td>publication_better-marketing</td>\n",
       "      <td>0.011179</td>\n",
       "    </tr>\n",
       "    <tr>\n",
       "      <th>1154506</th>\n",
       "      <td>publication_swlh</td>\n",
       "      <td>0.005705</td>\n",
       "    </tr>\n",
       "    <tr>\n",
       "      <th>1154499</th>\n",
       "      <td>author_followers</td>\n",
       "      <td>0.005290</td>\n",
       "    </tr>\n",
       "    <tr>\n",
       "      <th>987508</th>\n",
       "      <td>write</td>\n",
       "      <td>0.005204</td>\n",
       "    </tr>\n",
       "    <tr>\n",
       "      <th>602011</th>\n",
       "      <td>operating cash</td>\n",
       "      <td>0.004003</td>\n",
       "    </tr>\n",
       "    <tr>\n",
       "      <th>144081</th>\n",
       "      <td>coffee</td>\n",
       "      <td>0.003777</td>\n",
       "    </tr>\n",
       "    <tr>\n",
       "      <th>533180</th>\n",
       "      <td>medium link</td>\n",
       "      <td>0.003512</td>\n",
       "    </tr>\n",
       "    <tr>\n",
       "      <th>61907</th>\n",
       "      <td>author</td>\n",
       "      <td>0.003502</td>\n",
       "    </tr>\n",
       "    <tr>\n",
       "      <th>601816</th>\n",
       "      <td>opensource</td>\n",
       "      <td>0.003390</td>\n",
       "    </tr>\n",
       "    <tr>\n",
       "      <th>303545</th>\n",
       "      <td>facebook linkedin</td>\n",
       "      <td>0.003271</td>\n",
       "    </tr>\n",
       "    <tr>\n",
       "      <th>34133</th>\n",
       "      <td>amzn</td>\n",
       "      <td>0.003201</td>\n",
       "    </tr>\n",
       "    <tr>\n",
       "      <th>252785</th>\n",
       "      <td>dont</td>\n",
       "      <td>0.003197</td>\n",
       "    </tr>\n",
       "    <tr>\n",
       "      <th>1154505</th>\n",
       "      <td>publication_startup-grind</td>\n",
       "      <td>0.003116</td>\n",
       "    </tr>\n",
       "    <tr>\n",
       "      <th>339062</th>\n",
       "      <td>freepikcom</td>\n",
       "      <td>0.003032</td>\n",
       "    </tr>\n",
       "    <tr>\n",
       "      <th>1154517</th>\n",
       "      <td>subtitle_1</td>\n",
       "      <td>0.002789</td>\n",
       "    </tr>\n",
       "    <tr>\n",
       "      <th>989561</th>\n",
       "      <td>writing</td>\n",
       "      <td>0.002532</td>\n",
       "    </tr>\n",
       "    <tr>\n",
       "      <th>226170</th>\n",
       "      <td>design</td>\n",
       "      <td>0.002388</td>\n",
       "    </tr>\n",
       "    <tr>\n",
       "      <th>98856</th>\n",
       "      <td>brought</td>\n",
       "      <td>0.002318</td>\n",
       "    </tr>\n",
       "    <tr>\n",
       "      <th>1154500</th>\n",
       "      <td>number_of_words</td>\n",
       "      <td>0.002161</td>\n",
       "    </tr>\n",
       "    <tr>\n",
       "      <th>436285</th>\n",
       "      <td>intention providing</td>\n",
       "      <td>0.002096</td>\n",
       "    </tr>\n",
       "    <tr>\n",
       "      <th>988608</th>\n",
       "      <td>writer</td>\n",
       "      <td>0.002061</td>\n",
       "    </tr>\n",
       "    <tr>\n",
       "      <th>917157</th>\n",
       "      <td>ui</td>\n",
       "      <td>0.002008</td>\n",
       "    </tr>\n",
       "    <tr>\n",
       "      <th>858430</th>\n",
       "      <td>takeaway</td>\n",
       "      <td>0.001934</td>\n",
       "    </tr>\n",
       "    <tr>\n",
       "      <th>119958</th>\n",
       "      <td>ceo</td>\n",
       "      <td>0.001799</td>\n",
       "    </tr>\n",
       "    <tr>\n",
       "      <th>1013279</th>\n",
       "      <td>bi (Title)</td>\n",
       "      <td>0.001722</td>\n",
       "    </tr>\n",
       "    <tr>\n",
       "      <th>216874</th>\n",
       "      <td>deep learning</td>\n",
       "      <td>0.001704</td>\n",
       "    </tr>\n",
       "    <tr>\n",
       "      <th>98923</th>\n",
       "      <td>brought salesforce</td>\n",
       "      <td>0.001639</td>\n",
       "    </tr>\n",
       "  </tbody>\n",
       "</table>\n",
       "</div>"
      ],
      "text/plain": [
       "                          feature_names  feature_importance\n",
       "1154504  publication_datadriveninvestor            0.017780\n",
       "1154508  publication_towardsdatascience            0.017499\n",
       "1154507         publication_the-mission            0.013533\n",
       "1154503    publication_better-marketing            0.011179\n",
       "1154506                publication_swlh            0.005705\n",
       "1154499                author_followers            0.005290\n",
       "987508                            write            0.005204\n",
       "602011                   operating cash            0.004003\n",
       "144081                           coffee            0.003777\n",
       "533180                      medium link            0.003512\n",
       "61907                            author            0.003502\n",
       "601816                       opensource            0.003390\n",
       "303545                facebook linkedin            0.003271\n",
       "34133                              amzn            0.003201\n",
       "252785                             dont            0.003197\n",
       "1154505       publication_startup-grind            0.003116\n",
       "339062                       freepikcom            0.003032\n",
       "1154517                      subtitle_1            0.002789\n",
       "989561                          writing            0.002532\n",
       "226170                           design            0.002388\n",
       "98856                           brought            0.002318\n",
       "1154500                 number_of_words            0.002161\n",
       "436285              intention providing            0.002096\n",
       "988608                           writer            0.002061\n",
       "917157                               ui            0.002008\n",
       "858430                         takeaway            0.001934\n",
       "119958                              ceo            0.001799\n",
       "1013279                      bi (Title)            0.001722\n",
       "216874                    deep learning            0.001704\n",
       "98923                brought salesforce            0.001639"
      ]
     },
     "execution_count": 293,
     "metadata": {},
     "output_type": "execute_result"
    }
   ],
   "source": [
    "xgb_importance = pd.DataFrame(dict_features).sort_values('feature_importance', ascending=False).head(30)\n",
    "xgb_importance"
   ]
  },
  {
   "cell_type": "code",
   "execution_count": null,
   "id": "1663875d",
   "metadata": {
    "ExecuteTime": {
     "end_time": "2022-06-22T15:36:08.687140Z",
     "start_time": "2022-06-22T15:36:08.687126Z"
    },
    "scrolled": true
   },
   "outputs": [],
   "source": [
    "fig = px.bar(xgb_importance, y='feature_names',\n",
    "             x='feature_importance', title='Feature Importance', width=700, height=800)\n",
    "\n",
    "fig.show()"
   ]
  },
  {
   "cell_type": "markdown",
   "id": "4739a43b",
   "metadata": {},
   "source": [
    "--------"
   ]
  },
  {
   "cell_type": "code",
   "execution_count": 177,
   "id": "97d47098",
   "metadata": {
    "ExecuteTime": {
     "end_time": "2022-06-17T19:36:07.792993Z",
     "start_time": "2022-06-17T19:36:07.790012Z"
    }
   },
   "outputs": [
    {
     "data": {
      "text/plain": [
       "0.6987046632124353"
      ]
     },
     "execution_count": 177,
     "metadata": {},
     "output_type": "execute_result"
    }
   ],
   "source": [
    "random_search.best_score_"
   ]
  },
  {
   "cell_type": "code",
   "execution_count": 178,
   "id": "53a208a7",
   "metadata": {
    "ExecuteTime": {
     "end_time": "2022-06-17T19:36:17.256577Z",
     "start_time": "2022-06-17T19:36:17.253816Z"
    }
   },
   "outputs": [
    {
     "data": {
      "text/plain": [
       "{'subsample': 0.6,\n",
       " 'n_estimators': 700,\n",
       " 'min_child_weight': 10,\n",
       " 'max_depth': 9,\n",
       " 'learning_rate': 0.01,\n",
       " 'gamma': 1,\n",
       " 'colsample_bytree': 0.8}"
      ]
     },
     "execution_count": 178,
     "metadata": {},
     "output_type": "execute_result"
    }
   ],
   "source": [
    "random_search.best_params_"
   ]
  },
  {
   "cell_type": "code",
   "execution_count": 278,
   "id": "c14f834e",
   "metadata": {
    "ExecuteTime": {
     "end_time": "2022-06-21T06:52:56.822999Z",
     "start_time": "2022-06-21T06:52:56.789154Z"
    },
    "scrolled": true
   },
   "outputs": [
    {
     "data": {
      "text/html": [
       "<div>\n",
       "<style scoped>\n",
       "    .dataframe tbody tr th:only-of-type {\n",
       "        vertical-align: middle;\n",
       "    }\n",
       "\n",
       "    .dataframe tbody tr th {\n",
       "        vertical-align: top;\n",
       "    }\n",
       "\n",
       "    .dataframe thead th {\n",
       "        text-align: right;\n",
       "    }\n",
       "</style>\n",
       "<table border=\"1\" class=\"dataframe\">\n",
       "  <thead>\n",
       "    <tr style=\"text-align: right;\">\n",
       "      <th></th>\n",
       "      <th>mean_fit_time</th>\n",
       "      <th>std_fit_time</th>\n",
       "      <th>mean_score_time</th>\n",
       "      <th>std_score_time</th>\n",
       "      <th>param_subsample</th>\n",
       "      <th>param_n_estimators</th>\n",
       "      <th>param_min_child_weight</th>\n",
       "      <th>param_max_depth</th>\n",
       "      <th>param_learning_rate</th>\n",
       "      <th>param_gamma</th>\n",
       "      <th>param_colsample_bytree</th>\n",
       "      <th>params</th>\n",
       "      <th>split0_test_score</th>\n",
       "      <th>split1_test_score</th>\n",
       "      <th>split2_test_score</th>\n",
       "      <th>split3_test_score</th>\n",
       "      <th>split4_test_score</th>\n",
       "      <th>mean_test_score</th>\n",
       "      <th>std_test_score</th>\n",
       "      <th>rank_test_score</th>\n",
       "    </tr>\n",
       "  </thead>\n",
       "  <tbody>\n",
       "    <tr>\n",
       "      <th>0</th>\n",
       "      <td>1826.252826</td>\n",
       "      <td>109.464299</td>\n",
       "      <td>1.007501</td>\n",
       "      <td>0.039585</td>\n",
       "      <td>0.8</td>\n",
       "      <td>500</td>\n",
       "      <td>5</td>\n",
       "      <td>7</td>\n",
       "      <td>0.01</td>\n",
       "      <td>5</td>\n",
       "      <td>0.8</td>\n",
       "      <td>{'subsample': 0.8, 'n_estimators': 500, 'min_c...</td>\n",
       "      <td>0.692573</td>\n",
       "      <td>0.695704</td>\n",
       "      <td>0.697863</td>\n",
       "      <td>0.695920</td>\n",
       "      <td>0.694193</td>\n",
       "      <td>0.695250</td>\n",
       "      <td>0.001776</td>\n",
       "      <td>8</td>\n",
       "    </tr>\n",
       "    <tr>\n",
       "      <th>1</th>\n",
       "      <td>2311.673093</td>\n",
       "      <td>89.209189</td>\n",
       "      <td>1.018806</td>\n",
       "      <td>0.051870</td>\n",
       "      <td>0.8</td>\n",
       "      <td>700</td>\n",
       "      <td>5</td>\n",
       "      <td>9</td>\n",
       "      <td>0.1</td>\n",
       "      <td>0.5</td>\n",
       "      <td>0.6</td>\n",
       "      <td>{'subsample': 0.8, 'n_estimators': 700, 'min_c...</td>\n",
       "      <td>0.686528</td>\n",
       "      <td>0.692897</td>\n",
       "      <td>0.695920</td>\n",
       "      <td>0.701317</td>\n",
       "      <td>0.689983</td>\n",
       "      <td>0.693329</td>\n",
       "      <td>0.005063</td>\n",
       "      <td>11</td>\n",
       "    </tr>\n",
       "    <tr>\n",
       "      <th>2</th>\n",
       "      <td>931.296221</td>\n",
       "      <td>50.515378</td>\n",
       "      <td>0.653026</td>\n",
       "      <td>0.006932</td>\n",
       "      <td>1.0</td>\n",
       "      <td>500</td>\n",
       "      <td>5</td>\n",
       "      <td>5</td>\n",
       "      <td>0.1</td>\n",
       "      <td>0.5</td>\n",
       "      <td>0.6</td>\n",
       "      <td>{'subsample': 1.0, 'n_estimators': 500, 'min_c...</td>\n",
       "      <td>0.692250</td>\n",
       "      <td>0.694085</td>\n",
       "      <td>0.696244</td>\n",
       "      <td>0.695272</td>\n",
       "      <td>0.691494</td>\n",
       "      <td>0.693869</td>\n",
       "      <td>0.001784</td>\n",
       "      <td>10</td>\n",
       "    </tr>\n",
       "    <tr>\n",
       "      <th>3</th>\n",
       "      <td>2418.292157</td>\n",
       "      <td>38.921632</td>\n",
       "      <td>1.133868</td>\n",
       "      <td>0.135598</td>\n",
       "      <td>0.8</td>\n",
       "      <td>700</td>\n",
       "      <td>10</td>\n",
       "      <td>7</td>\n",
       "      <td>0.01</td>\n",
       "      <td>1</td>\n",
       "      <td>0.8</td>\n",
       "      <td>{'subsample': 0.8, 'n_estimators': 700, 'min_c...</td>\n",
       "      <td>0.693329</td>\n",
       "      <td>0.696136</td>\n",
       "      <td>0.699266</td>\n",
       "      <td>0.699374</td>\n",
       "      <td>0.694408</td>\n",
       "      <td>0.696503</td>\n",
       "      <td>0.002469</td>\n",
       "      <td>3</td>\n",
       "    </tr>\n",
       "    <tr>\n",
       "      <th>4</th>\n",
       "      <td>2825.178868</td>\n",
       "      <td>42.755260</td>\n",
       "      <td>1.089660</td>\n",
       "      <td>0.030729</td>\n",
       "      <td>0.8</td>\n",
       "      <td>700</td>\n",
       "      <td>10</td>\n",
       "      <td>11</td>\n",
       "      <td>0.1</td>\n",
       "      <td>2</td>\n",
       "      <td>0.6</td>\n",
       "      <td>{'subsample': 0.8, 'n_estimators': 700, 'min_c...</td>\n",
       "      <td>0.687284</td>\n",
       "      <td>0.691278</td>\n",
       "      <td>0.698294</td>\n",
       "      <td>0.693653</td>\n",
       "      <td>0.689335</td>\n",
       "      <td>0.691969</td>\n",
       "      <td>0.003800</td>\n",
       "      <td>13</td>\n",
       "    </tr>\n",
       "    <tr>\n",
       "      <th>5</th>\n",
       "      <td>1723.683363</td>\n",
       "      <td>32.355586</td>\n",
       "      <td>0.834476</td>\n",
       "      <td>0.031648</td>\n",
       "      <td>0.6</td>\n",
       "      <td>500</td>\n",
       "      <td>5</td>\n",
       "      <td>9</td>\n",
       "      <td>0.1</td>\n",
       "      <td>1</td>\n",
       "      <td>0.6</td>\n",
       "      <td>{'subsample': 0.6, 'n_estimators': 500, 'min_c...</td>\n",
       "      <td>0.686421</td>\n",
       "      <td>0.686097</td>\n",
       "      <td>0.689767</td>\n",
       "      <td>0.695704</td>\n",
       "      <td>0.692897</td>\n",
       "      <td>0.690177</td>\n",
       "      <td>0.003711</td>\n",
       "      <td>15</td>\n",
       "    </tr>\n",
       "    <tr>\n",
       "      <th>6</th>\n",
       "      <td>1196.130018</td>\n",
       "      <td>43.001445</td>\n",
       "      <td>0.709830</td>\n",
       "      <td>0.036638</td>\n",
       "      <td>0.6</td>\n",
       "      <td>600</td>\n",
       "      <td>1</td>\n",
       "      <td>5</td>\n",
       "      <td>0.1</td>\n",
       "      <td>1.5</td>\n",
       "      <td>0.6</td>\n",
       "      <td>{'subsample': 0.6, 'n_estimators': 600, 'min_c...</td>\n",
       "      <td>0.688040</td>\n",
       "      <td>0.692034</td>\n",
       "      <td>0.692789</td>\n",
       "      <td>0.701533</td>\n",
       "      <td>0.685881</td>\n",
       "      <td>0.692055</td>\n",
       "      <td>0.005378</td>\n",
       "      <td>12</td>\n",
       "    </tr>\n",
       "    <tr>\n",
       "      <th>7</th>\n",
       "      <td>2198.058722</td>\n",
       "      <td>62.664898</td>\n",
       "      <td>1.018829</td>\n",
       "      <td>0.082259</td>\n",
       "      <td>0.6</td>\n",
       "      <td>600</td>\n",
       "      <td>1</td>\n",
       "      <td>9</td>\n",
       "      <td>0.05</td>\n",
       "      <td>5</td>\n",
       "      <td>0.6</td>\n",
       "      <td>{'subsample': 0.6, 'n_estimators': 600, 'min_c...</td>\n",
       "      <td>0.695380</td>\n",
       "      <td>0.698402</td>\n",
       "      <td>0.703152</td>\n",
       "      <td>0.700237</td>\n",
       "      <td>0.690738</td>\n",
       "      <td>0.697582</td>\n",
       "      <td>0.004253</td>\n",
       "      <td>2</td>\n",
       "    </tr>\n",
       "    <tr>\n",
       "      <th>8</th>\n",
       "      <td>2044.381458</td>\n",
       "      <td>90.429278</td>\n",
       "      <td>0.727387</td>\n",
       "      <td>0.027831</td>\n",
       "      <td>1.0</td>\n",
       "      <td>700</td>\n",
       "      <td>1</td>\n",
       "      <td>5</td>\n",
       "      <td>0.1</td>\n",
       "      <td>5</td>\n",
       "      <td>1.0</td>\n",
       "      <td>{'subsample': 1.0, 'n_estimators': 700, 'min_c...</td>\n",
       "      <td>0.689443</td>\n",
       "      <td>0.698294</td>\n",
       "      <td>0.699374</td>\n",
       "      <td>0.699698</td>\n",
       "      <td>0.692358</td>\n",
       "      <td>0.695833</td>\n",
       "      <td>0.004158</td>\n",
       "      <td>6</td>\n",
       "    </tr>\n",
       "    <tr>\n",
       "      <th>9</th>\n",
       "      <td>1288.987823</td>\n",
       "      <td>17.078619</td>\n",
       "      <td>0.760801</td>\n",
       "      <td>0.026692</td>\n",
       "      <td>0.6</td>\n",
       "      <td>500</td>\n",
       "      <td>10</td>\n",
       "      <td>7</td>\n",
       "      <td>0.1</td>\n",
       "      <td>1.5</td>\n",
       "      <td>0.6</td>\n",
       "      <td>{'subsample': 0.6, 'n_estimators': 500, 'min_c...</td>\n",
       "      <td>0.686205</td>\n",
       "      <td>0.694085</td>\n",
       "      <td>0.694085</td>\n",
       "      <td>0.696136</td>\n",
       "      <td>0.683614</td>\n",
       "      <td>0.690825</td>\n",
       "      <td>0.004956</td>\n",
       "      <td>14</td>\n",
       "    </tr>\n",
       "    <tr>\n",
       "      <th>10</th>\n",
       "      <td>2324.480392</td>\n",
       "      <td>71.949666</td>\n",
       "      <td>0.950697</td>\n",
       "      <td>0.013028</td>\n",
       "      <td>1.0</td>\n",
       "      <td>500</td>\n",
       "      <td>1</td>\n",
       "      <td>7</td>\n",
       "      <td>0.01</td>\n",
       "      <td>0.5</td>\n",
       "      <td>1.0</td>\n",
       "      <td>{'subsample': 1.0, 'n_estimators': 500, 'min_c...</td>\n",
       "      <td>0.692358</td>\n",
       "      <td>0.693653</td>\n",
       "      <td>0.697647</td>\n",
       "      <td>0.695704</td>\n",
       "      <td>0.694301</td>\n",
       "      <td>0.694732</td>\n",
       "      <td>0.001813</td>\n",
       "      <td>9</td>\n",
       "    </tr>\n",
       "    <tr>\n",
       "      <th>11</th>\n",
       "      <td>1226.568367</td>\n",
       "      <td>46.821603</td>\n",
       "      <td>0.731198</td>\n",
       "      <td>0.034115</td>\n",
       "      <td>1.0</td>\n",
       "      <td>700</td>\n",
       "      <td>10</td>\n",
       "      <td>5</td>\n",
       "      <td>0.1</td>\n",
       "      <td>2</td>\n",
       "      <td>0.6</td>\n",
       "      <td>{'subsample': 1.0, 'n_estimators': 700, 'min_c...</td>\n",
       "      <td>0.692142</td>\n",
       "      <td>0.695164</td>\n",
       "      <td>0.700237</td>\n",
       "      <td>0.699806</td>\n",
       "      <td>0.689551</td>\n",
       "      <td>0.695380</td>\n",
       "      <td>0.004188</td>\n",
       "      <td>7</td>\n",
       "    </tr>\n",
       "    <tr>\n",
       "      <th>12</th>\n",
       "      <td>1492.059010</td>\n",
       "      <td>59.741791</td>\n",
       "      <td>0.739069</td>\n",
       "      <td>0.025444</td>\n",
       "      <td>1.0</td>\n",
       "      <td>600</td>\n",
       "      <td>10</td>\n",
       "      <td>5</td>\n",
       "      <td>0.05</td>\n",
       "      <td>1.5</td>\n",
       "      <td>0.8</td>\n",
       "      <td>{'subsample': 1.0, 'n_estimators': 600, 'min_c...</td>\n",
       "      <td>0.694301</td>\n",
       "      <td>0.696459</td>\n",
       "      <td>0.701857</td>\n",
       "      <td>0.699590</td>\n",
       "      <td>0.687716</td>\n",
       "      <td>0.695984</td>\n",
       "      <td>0.004877</td>\n",
       "      <td>4</td>\n",
       "    </tr>\n",
       "    <tr>\n",
       "      <th>13</th>\n",
       "      <td>1830.542627</td>\n",
       "      <td>29.108291</td>\n",
       "      <td>0.993279</td>\n",
       "      <td>0.076402</td>\n",
       "      <td>0.6</td>\n",
       "      <td>500</td>\n",
       "      <td>10</td>\n",
       "      <td>9</td>\n",
       "      <td>0.01</td>\n",
       "      <td>1</td>\n",
       "      <td>0.6</td>\n",
       "      <td>{'subsample': 0.6, 'n_estimators': 500, 'min_c...</td>\n",
       "      <td>0.694408</td>\n",
       "      <td>0.692681</td>\n",
       "      <td>0.700561</td>\n",
       "      <td>0.698079</td>\n",
       "      <td>0.693869</td>\n",
       "      <td>0.695920</td>\n",
       "      <td>0.002939</td>\n",
       "      <td>5</td>\n",
       "    </tr>\n",
       "    <tr>\n",
       "      <th>14</th>\n",
       "      <td>2705.602754</td>\n",
       "      <td>37.220048</td>\n",
       "      <td>1.038659</td>\n",
       "      <td>0.047749</td>\n",
       "      <td>0.6</td>\n",
       "      <td>700</td>\n",
       "      <td>10</td>\n",
       "      <td>9</td>\n",
       "      <td>0.01</td>\n",
       "      <td>1</td>\n",
       "      <td>0.8</td>\n",
       "      <td>{'subsample': 0.6, 'n_estimators': 700, 'min_c...</td>\n",
       "      <td>0.697539</td>\n",
       "      <td>0.696459</td>\n",
       "      <td>0.702396</td>\n",
       "      <td>0.699914</td>\n",
       "      <td>0.697215</td>\n",
       "      <td>0.698705</td>\n",
       "      <td>0.002178</td>\n",
       "      <td>1</td>\n",
       "    </tr>\n",
       "  </tbody>\n",
       "</table>\n",
       "</div>"
      ],
      "text/plain": [
       "    mean_fit_time  std_fit_time  mean_score_time  std_score_time  \\\n",
       "0     1826.252826    109.464299         1.007501        0.039585   \n",
       "1     2311.673093     89.209189         1.018806        0.051870   \n",
       "2      931.296221     50.515378         0.653026        0.006932   \n",
       "3     2418.292157     38.921632         1.133868        0.135598   \n",
       "4     2825.178868     42.755260         1.089660        0.030729   \n",
       "5     1723.683363     32.355586         0.834476        0.031648   \n",
       "6     1196.130018     43.001445         0.709830        0.036638   \n",
       "7     2198.058722     62.664898         1.018829        0.082259   \n",
       "8     2044.381458     90.429278         0.727387        0.027831   \n",
       "9     1288.987823     17.078619         0.760801        0.026692   \n",
       "10    2324.480392     71.949666         0.950697        0.013028   \n",
       "11    1226.568367     46.821603         0.731198        0.034115   \n",
       "12    1492.059010     59.741791         0.739069        0.025444   \n",
       "13    1830.542627     29.108291         0.993279        0.076402   \n",
       "14    2705.602754     37.220048         1.038659        0.047749   \n",
       "\n",
       "   param_subsample param_n_estimators param_min_child_weight param_max_depth  \\\n",
       "0              0.8                500                      5               7   \n",
       "1              0.8                700                      5               9   \n",
       "2              1.0                500                      5               5   \n",
       "3              0.8                700                     10               7   \n",
       "4              0.8                700                     10              11   \n",
       "5              0.6                500                      5               9   \n",
       "6              0.6                600                      1               5   \n",
       "7              0.6                600                      1               9   \n",
       "8              1.0                700                      1               5   \n",
       "9              0.6                500                     10               7   \n",
       "10             1.0                500                      1               7   \n",
       "11             1.0                700                     10               5   \n",
       "12             1.0                600                     10               5   \n",
       "13             0.6                500                     10               9   \n",
       "14             0.6                700                     10               9   \n",
       "\n",
       "   param_learning_rate param_gamma param_colsample_bytree  \\\n",
       "0                 0.01           5                    0.8   \n",
       "1                  0.1         0.5                    0.6   \n",
       "2                  0.1         0.5                    0.6   \n",
       "3                 0.01           1                    0.8   \n",
       "4                  0.1           2                    0.6   \n",
       "5                  0.1           1                    0.6   \n",
       "6                  0.1         1.5                    0.6   \n",
       "7                 0.05           5                    0.6   \n",
       "8                  0.1           5                    1.0   \n",
       "9                  0.1         1.5                    0.6   \n",
       "10                0.01         0.5                    1.0   \n",
       "11                 0.1           2                    0.6   \n",
       "12                0.05         1.5                    0.8   \n",
       "13                0.01           1                    0.6   \n",
       "14                0.01           1                    0.8   \n",
       "\n",
       "                                               params  split0_test_score  \\\n",
       "0   {'subsample': 0.8, 'n_estimators': 500, 'min_c...           0.692573   \n",
       "1   {'subsample': 0.8, 'n_estimators': 700, 'min_c...           0.686528   \n",
       "2   {'subsample': 1.0, 'n_estimators': 500, 'min_c...           0.692250   \n",
       "3   {'subsample': 0.8, 'n_estimators': 700, 'min_c...           0.693329   \n",
       "4   {'subsample': 0.8, 'n_estimators': 700, 'min_c...           0.687284   \n",
       "5   {'subsample': 0.6, 'n_estimators': 500, 'min_c...           0.686421   \n",
       "6   {'subsample': 0.6, 'n_estimators': 600, 'min_c...           0.688040   \n",
       "7   {'subsample': 0.6, 'n_estimators': 600, 'min_c...           0.695380   \n",
       "8   {'subsample': 1.0, 'n_estimators': 700, 'min_c...           0.689443   \n",
       "9   {'subsample': 0.6, 'n_estimators': 500, 'min_c...           0.686205   \n",
       "10  {'subsample': 1.0, 'n_estimators': 500, 'min_c...           0.692358   \n",
       "11  {'subsample': 1.0, 'n_estimators': 700, 'min_c...           0.692142   \n",
       "12  {'subsample': 1.0, 'n_estimators': 600, 'min_c...           0.694301   \n",
       "13  {'subsample': 0.6, 'n_estimators': 500, 'min_c...           0.694408   \n",
       "14  {'subsample': 0.6, 'n_estimators': 700, 'min_c...           0.697539   \n",
       "\n",
       "    split1_test_score  split2_test_score  split3_test_score  \\\n",
       "0            0.695704           0.697863           0.695920   \n",
       "1            0.692897           0.695920           0.701317   \n",
       "2            0.694085           0.696244           0.695272   \n",
       "3            0.696136           0.699266           0.699374   \n",
       "4            0.691278           0.698294           0.693653   \n",
       "5            0.686097           0.689767           0.695704   \n",
       "6            0.692034           0.692789           0.701533   \n",
       "7            0.698402           0.703152           0.700237   \n",
       "8            0.698294           0.699374           0.699698   \n",
       "9            0.694085           0.694085           0.696136   \n",
       "10           0.693653           0.697647           0.695704   \n",
       "11           0.695164           0.700237           0.699806   \n",
       "12           0.696459           0.701857           0.699590   \n",
       "13           0.692681           0.700561           0.698079   \n",
       "14           0.696459           0.702396           0.699914   \n",
       "\n",
       "    split4_test_score  mean_test_score  std_test_score  rank_test_score  \n",
       "0            0.694193         0.695250        0.001776                8  \n",
       "1            0.689983         0.693329        0.005063               11  \n",
       "2            0.691494         0.693869        0.001784               10  \n",
       "3            0.694408         0.696503        0.002469                3  \n",
       "4            0.689335         0.691969        0.003800               13  \n",
       "5            0.692897         0.690177        0.003711               15  \n",
       "6            0.685881         0.692055        0.005378               12  \n",
       "7            0.690738         0.697582        0.004253                2  \n",
       "8            0.692358         0.695833        0.004158                6  \n",
       "9            0.683614         0.690825        0.004956               14  \n",
       "10           0.694301         0.694732        0.001813                9  \n",
       "11           0.689551         0.695380        0.004188                7  \n",
       "12           0.687716         0.695984        0.004877                4  \n",
       "13           0.693869         0.695920        0.002939                5  \n",
       "14           0.697215         0.698705        0.002178                1  "
      ]
     },
     "execution_count": 278,
     "metadata": {},
     "output_type": "execute_result"
    }
   ],
   "source": [
    "pd.DataFrame(random_search.cv_results_)"
   ]
  },
  {
   "cell_type": "code",
   "execution_count": 180,
   "id": "2ef0bf23",
   "metadata": {
    "ExecuteTime": {
     "end_time": "2022-06-17T19:36:38.891582Z",
     "start_time": "2022-06-17T19:36:36.348969Z"
    }
   },
   "outputs": [
    {
     "data": {
      "text/plain": [
       "array([[0.75263286, 0.24736716],\n",
       "       [0.46653086, 0.53346914],\n",
       "       [0.5058078 , 0.49419218],\n",
       "       ...,\n",
       "       [0.03010672, 0.9698933 ],\n",
       "       [0.22396612, 0.7760339 ],\n",
       "       [0.64041877, 0.3595812 ]], dtype=float32)"
      ]
     },
     "execution_count": 180,
     "metadata": {},
     "output_type": "execute_result"
    }
   ],
   "source": [
    "random_search.predict_proba(X_test)"
   ]
  },
  {
   "cell_type": "code",
   "execution_count": 181,
   "id": "e2566cb3",
   "metadata": {
    "ExecuteTime": {
     "end_time": "2022-06-17T19:36:50.804088Z",
     "start_time": "2022-06-17T19:36:48.436348Z"
    }
   },
   "outputs": [
    {
     "name": "stdout",
     "output_type": "stream",
     "text": [
      "              precision    recall  f1-score   support\n",
      "\n",
      "           0       0.69      0.74      0.71     11378\n",
      "           1       0.72      0.66      0.69     11437\n",
      "\n",
      "    accuracy                           0.70     22815\n",
      "   macro avg       0.70      0.70      0.70     22815\n",
      "weighted avg       0.70      0.70      0.70     22815\n",
      "\n"
     ]
    }
   ],
   "source": [
    "y_pred = random_search.predict(X_test)\n",
    "\n",
    "print(classification_report(y_test, y_pred))"
   ]
  },
  {
   "cell_type": "code",
   "execution_count": 182,
   "id": "2ddebde4",
   "metadata": {
    "ExecuteTime": {
     "end_time": "2022-06-17T19:37:00.309150Z",
     "start_time": "2022-06-17T19:37:00.307164Z"
    }
   },
   "outputs": [],
   "source": [
    "best_xgb = random_search.best_estimator_\n"
   ]
  },
  {
   "cell_type": "code",
   "execution_count": 183,
   "id": "6b8f74f3",
   "metadata": {
    "ExecuteTime": {
     "end_time": "2022-06-17T19:37:09.825076Z",
     "start_time": "2022-06-17T19:37:09.813580Z"
    }
   },
   "outputs": [
    {
     "name": "stdout",
     "output_type": "stream",
     "text": [
      "0.7016556711906952\n",
      "0.6901760931883332\n"
     ]
    }
   ],
   "source": [
    "print(roc_auc_score(y_test, y_pred))\n",
    "print(f1_score(y_test, y_pred))\n"
   ]
  },
  {
   "cell_type": "code",
   "execution_count": 285,
   "id": "1358b750",
   "metadata": {
    "ExecuteTime": {
     "end_time": "2022-06-21T13:07:27.166032Z",
     "start_time": "2022-06-21T13:07:26.284122Z"
    }
   },
   "outputs": [
    {
     "data": {
      "image/png": "[encoded data removed]",
      "text/plain": [
       "<Figure size 432x288 with 1 Axes>"
      ]
     },
     "metadata": {
      "needs_background": "light"
     },
     "output_type": "display_data"
    }
   ],
   "source": [
    "plot_roc_curve(best_xgb, X_test, y_test);\n",
    "plt.title('Reciever Operator Curve')\n",
    "plt.show()"
   ]
  },
  {
   "cell_type": "code",
   "execution_count": 185,
   "id": "d66da984",
   "metadata": {
    "ExecuteTime": {
     "end_time": "2022-06-17T19:37:33.748685Z",
     "start_time": "2022-06-17T19:37:31.298360Z"
    }
   },
   "outputs": [
    {
     "data": {
      "image/png": "[encoded data removed]",
      "text/plain": [
       "<Figure size 432x288 with 2 Axes>"
      ]
     },
     "metadata": {
      "needs_background": "light"
     },
     "output_type": "display_data"
    }
   ],
   "source": [
    "plot_confusion_matrix(best_xgb, X_test, y_test, cmap='Blues', labels=[1, 0], values_format='.0f')\n",
    "plt.show()"
   ]
  },
  {
   "cell_type": "markdown",
   "id": "f1fd191b",
   "metadata": {},
   "source": [
    "#### Feature Importance"
   ]
  },
  {
   "cell_type": "code",
   "execution_count": 186,
   "id": "47a4c1ca",
   "metadata": {
    "ExecuteTime": {
     "end_time": "2022-06-17T19:37:43.280686Z",
     "start_time": "2022-06-17T19:37:43.277499Z"
    }
   },
   "outputs": [
    {
     "data": {
      "text/plain": [
       "XGBClassifier(base_score=0.5, booster='gbtree', colsample_bylevel=1,\n",
       "              colsample_bynode=1, colsample_bytree=0.8,\n",
       "              enable_categorical=False, gamma=1, gpu_id=-1,\n",
       "              importance_type=None, interaction_constraints='',\n",
       "              learning_rate=0.01, max_delta_step=0, max_depth=9,\n",
       "              min_child_weight=10, missing=nan, monotone_constraints='()',\n",
       "              n_estimators=700, n_jobs=1, nthread=1, num_parallel_tree=1,\n",
       "              predictor='auto', random_state=0, reg_alpha=0, reg_lambda=1,\n",
       "              scale_pos_weight=1, subsample=0.6, tree_method='exact',\n",
       "              validate_parameters=1, verbosity=None)"
      ]
     },
     "execution_count": 186,
     "metadata": {},
     "output_type": "execute_result"
    }
   ],
   "source": [
    "random_search.best_estimator_\n"
   ]
  },
  {
   "cell_type": "code",
   "execution_count": 187,
   "id": "ac6564ba",
   "metadata": {
    "ExecuteTime": {
     "end_time": "2022-06-17T19:37:53.376119Z",
     "start_time": "2022-06-17T19:37:52.824600Z"
    }
   },
   "outputs": [],
   "source": [
    "feature_importance = best_xgb.feature_importances_\n"
   ]
  },
  {
   "cell_type": "code",
   "execution_count": 188,
   "id": "1caa7a08",
   "metadata": {
    "ExecuteTime": {
     "end_time": "2022-06-17T19:38:02.985946Z",
     "start_time": "2022-06-17T19:38:02.984201Z"
    }
   },
   "outputs": [],
   "source": [
    "dict_features = {'feature_names': feature_names, 'feature_importance': feature_importance}\n"
   ]
  },
  {
   "cell_type": "code",
   "execution_count": 293,
   "id": "89a39ea4",
   "metadata": {
    "ExecuteTime": {
     "end_time": "2022-06-21T14:43:57.605683Z",
     "start_time": "2022-06-21T14:43:56.987901Z"
    }
   },
   "outputs": [
    {
     "data": {
      "text/html": [
       "<div>\n",
       "<style scoped>\n",
       "    .dataframe tbody tr th:only-of-type {\n",
       "        vertical-align: middle;\n",
       "    }\n",
       "\n",
       "    .dataframe tbody tr th {\n",
       "        vertical-align: top;\n",
       "    }\n",
       "\n",
       "    .dataframe thead th {\n",
       "        text-align: right;\n",
       "    }\n",
       "</style>\n",
       "<table border=\"1\" class=\"dataframe\">\n",
       "  <thead>\n",
       "    <tr style=\"text-align: right;\">\n",
       "      <th></th>\n",
       "      <th>feature_names</th>\n",
       "      <th>feature_importance</th>\n",
       "    </tr>\n",
       "  </thead>\n",
       "  <tbody>\n",
       "    <tr>\n",
       "      <th>1154504</th>\n",
       "      <td>publication_datadriveninvestor</td>\n",
       "      <td>0.017780</td>\n",
       "    </tr>\n",
       "    <tr>\n",
       "      <th>1154508</th>\n",
       "      <td>publication_towardsdatascience</td>\n",
       "      <td>0.017499</td>\n",
       "    </tr>\n",
       "    <tr>\n",
       "      <th>1154507</th>\n",
       "      <td>publication_the-mission</td>\n",
       "      <td>0.013533</td>\n",
       "    </tr>\n",
       "    <tr>\n",
       "      <th>1154503</th>\n",
       "      <td>publication_better-marketing</td>\n",
       "      <td>0.011179</td>\n",
       "    </tr>\n",
       "    <tr>\n",
       "      <th>1154506</th>\n",
       "      <td>publication_swlh</td>\n",
       "      <td>0.005705</td>\n",
       "    </tr>\n",
       "    <tr>\n",
       "      <th>1154499</th>\n",
       "      <td>author_followers</td>\n",
       "      <td>0.005290</td>\n",
       "    </tr>\n",
       "    <tr>\n",
       "      <th>987508</th>\n",
       "      <td>write</td>\n",
       "      <td>0.005204</td>\n",
       "    </tr>\n",
       "    <tr>\n",
       "      <th>602011</th>\n",
       "      <td>operating cash</td>\n",
       "      <td>0.004003</td>\n",
       "    </tr>\n",
       "    <tr>\n",
       "      <th>144081</th>\n",
       "      <td>coffee</td>\n",
       "      <td>0.003777</td>\n",
       "    </tr>\n",
       "    <tr>\n",
       "      <th>533180</th>\n",
       "      <td>medium link</td>\n",
       "      <td>0.003512</td>\n",
       "    </tr>\n",
       "    <tr>\n",
       "      <th>61907</th>\n",
       "      <td>author</td>\n",
       "      <td>0.003502</td>\n",
       "    </tr>\n",
       "    <tr>\n",
       "      <th>601816</th>\n",
       "      <td>opensource</td>\n",
       "      <td>0.003390</td>\n",
       "    </tr>\n",
       "    <tr>\n",
       "      <th>303545</th>\n",
       "      <td>facebook linkedin</td>\n",
       "      <td>0.003271</td>\n",
       "    </tr>\n",
       "    <tr>\n",
       "      <th>34133</th>\n",
       "      <td>amzn</td>\n",
       "      <td>0.003201</td>\n",
       "    </tr>\n",
       "    <tr>\n",
       "      <th>252785</th>\n",
       "      <td>dont</td>\n",
       "      <td>0.003197</td>\n",
       "    </tr>\n",
       "    <tr>\n",
       "      <th>1154505</th>\n",
       "      <td>publication_startup-grind</td>\n",
       "      <td>0.003116</td>\n",
       "    </tr>\n",
       "    <tr>\n",
       "      <th>339062</th>\n",
       "      <td>freepikcom</td>\n",
       "      <td>0.003032</td>\n",
       "    </tr>\n",
       "    <tr>\n",
       "      <th>1154517</th>\n",
       "      <td>subtitle_1</td>\n",
       "      <td>0.002789</td>\n",
       "    </tr>\n",
       "    <tr>\n",
       "      <th>989561</th>\n",
       "      <td>writing</td>\n",
       "      <td>0.002532</td>\n",
       "    </tr>\n",
       "    <tr>\n",
       "      <th>226170</th>\n",
       "      <td>design</td>\n",
       "      <td>0.002388</td>\n",
       "    </tr>\n",
       "    <tr>\n",
       "      <th>98856</th>\n",
       "      <td>brought</td>\n",
       "      <td>0.002318</td>\n",
       "    </tr>\n",
       "    <tr>\n",
       "      <th>1154500</th>\n",
       "      <td>number_of_words</td>\n",
       "      <td>0.002161</td>\n",
       "    </tr>\n",
       "    <tr>\n",
       "      <th>436285</th>\n",
       "      <td>intention providing</td>\n",
       "      <td>0.002096</td>\n",
       "    </tr>\n",
       "    <tr>\n",
       "      <th>988608</th>\n",
       "      <td>writer</td>\n",
       "      <td>0.002061</td>\n",
       "    </tr>\n",
       "    <tr>\n",
       "      <th>917157</th>\n",
       "      <td>ui</td>\n",
       "      <td>0.002008</td>\n",
       "    </tr>\n",
       "    <tr>\n",
       "      <th>858430</th>\n",
       "      <td>takeaway</td>\n",
       "      <td>0.001934</td>\n",
       "    </tr>\n",
       "    <tr>\n",
       "      <th>119958</th>\n",
       "      <td>ceo</td>\n",
       "      <td>0.001799</td>\n",
       "    </tr>\n",
       "    <tr>\n",
       "      <th>1013279</th>\n",
       "      <td>bi (Title)</td>\n",
       "      <td>0.001722</td>\n",
       "    </tr>\n",
       "    <tr>\n",
       "      <th>216874</th>\n",
       "      <td>deep learning</td>\n",
       "      <td>0.001704</td>\n",
       "    </tr>\n",
       "    <tr>\n",
       "      <th>98923</th>\n",
       "      <td>brought salesforce</td>\n",
       "      <td>0.001639</td>\n",
       "    </tr>\n",
       "  </tbody>\n",
       "</table>\n",
       "</div>"
      ],
      "text/plain": [
       "                          feature_names  feature_importance\n",
       "1154504  publication_datadriveninvestor            0.017780\n",
       "1154508  publication_towardsdatascience            0.017499\n",
       "1154507         publication_the-mission            0.013533\n",
       "1154503    publication_better-marketing            0.011179\n",
       "1154506                publication_swlh            0.005705\n",
       "1154499                author_followers            0.005290\n",
       "987508                            write            0.005204\n",
       "602011                   operating cash            0.004003\n",
       "144081                           coffee            0.003777\n",
       "533180                      medium link            0.003512\n",
       "61907                            author            0.003502\n",
       "601816                       opensource            0.003390\n",
       "303545                facebook linkedin            0.003271\n",
       "34133                              amzn            0.003201\n",
       "252785                             dont            0.003197\n",
       "1154505       publication_startup-grind            0.003116\n",
       "339062                       freepikcom            0.003032\n",
       "1154517                      subtitle_1            0.002789\n",
       "989561                          writing            0.002532\n",
       "226170                           design            0.002388\n",
       "98856                           brought            0.002318\n",
       "1154500                 number_of_words            0.002161\n",
       "436285              intention providing            0.002096\n",
       "988608                           writer            0.002061\n",
       "917157                               ui            0.002008\n",
       "858430                         takeaway            0.001934\n",
       "119958                              ceo            0.001799\n",
       "1013279                      bi (Title)            0.001722\n",
       "216874                    deep learning            0.001704\n",
       "98923                brought salesforce            0.001639"
      ]
     },
     "execution_count": 293,
     "metadata": {},
     "output_type": "execute_result"
    }
   ],
   "source": [
    "xgb_importance = pd.DataFrame(dict_features).sort_values('feature_importance', ascending=False).head(30)\n",
    "xgb_importance"
   ]
  },
  {
   "cell_type": "code",
   "execution_count": 303,
   "id": "370a00d2",
   "metadata": {
    "ExecuteTime": {
     "end_time": "2022-06-21T14:46:47.944549Z",
     "start_time": "2022-06-21T14:46:47.892793Z"
    },
    "scrolled": true
   },
   "outputs": [
    {
     "data": {
      "application/vnd.plotly.v1+json": {
       "config": {
        "plotlyServerURL": "https://plot.ly"
       },
       "data": [
        {
         "alignmentgroup": "True",
         "hovertemplate": "feature_importance=%{x}<br>feature_names=%{y}<extra></extra>",
         "legendgroup": "",
         "marker": {
          "color": "#636efa",
          "pattern": {
           "shape": ""
          }
         },
         "name": "",
         "offsetgroup": "",
         "orientation": "h",
         "showlegend": false,
         "textposition": "auto",
         "type": "bar",
         "x": [
          0.017780398949980736,
          0.017498981207609177,
          0.013533486984670162,
          0.011179259978234768,
          0.0057046073488891125,
          0.005289742723107338,
          0.005203522276133299,
          0.004003292880952358,
          0.0037768378388136625,
          0.0035119629465043545,
          0.0035019484348595142,
          0.0033903142903000116,
          0.003271270776167512,
          0.0032011468429118395,
          0.0031965302769094706,
          0.0031164386309683323,
          0.0030318950302898884,
          0.0027887539472430944,
          0.002531642559915781,
          0.0023882605601102114,
          0.0023175254464149475,
          0.0021607938688248396,
          0.0020960906986147165,
          0.0020610576029866934,
          0.0020079733803868294,
          0.0019344021566212177,
          0.0017993710935115814,
          0.0017224230105057359,
          0.0017038340447470546,
          0.0016394227277487516
         ],
         "xaxis": "x",
         "y": [
          "publication_datadriveninvestor",
          "publication_towardsdatascience",
          "publication_the-mission",
          "publication_better-marketing",
          "publication_swlh",
          "author_followers",
          "write",
          "operating cash",
          "coffee",
          "medium link",
          "author",
          "opensource",
          "facebook linkedin",
          "amzn",
          "dont",
          "publication_startup-grind",
          "freepikcom",
          "subtitle_1",
          "writing",
          "design",
          "brought",
          "number_of_words",
          "intention providing",
          "writer",
          "ui",
          "takeaway",
          "ceo",
          "bi (Title)",
          "deep learning",
          "brought salesforce"
         ],
         "yaxis": "y"
        }
       ],
       "layout": {
        "barmode": "relative",
        "height": 800,
        "legend": {
         "tracegroupgap": 0
        },
        "template": {
         "data": {
          "bar": [
           {
            "error_x": {
             "color": "#2a3f5f"
            },
            "error_y": {
             "color": "#2a3f5f"
            },
            "marker": {
             "line": {
              "color": "#E5ECF6",
              "width": 0.5
             },
             "pattern": {
              "fillmode": "overlay",
              "size": 10,
              "solidity": 0.2
             }
            },
            "type": "bar"
           }
          ],
          "barpolar": [
           {
            "marker": {
             "line": {
              "color": "#E5ECF6",
              "width": 0.5
             },
             "pattern": {
              "fillmode": "overlay",
              "size": 10,
              "solidity": 0.2
             }
            },
            "type": "barpolar"
           }
          ],
          "carpet": [
           {
            "aaxis": {
             "endlinecolor": "#2a3f5f",
             "gridcolor": "white",
             "linecolor": "white",
             "minorgridcolor": "white",
             "startlinecolor": "#2a3f5f"
            },
            "baxis": {
             "endlinecolor": "#2a3f5f",
             "gridcolor": "white",
             "linecolor": "white",
             "minorgridcolor": "white",
             "startlinecolor": "#2a3f5f"
            },
            "type": "carpet"
           }
          ],
          "choropleth": [
           {
            "colorbar": {
             "outlinewidth": 0,
             "ticks": ""
            },
            "type": "choropleth"
           }
          ],
          "contour": [
           {
            "colorbar": {
             "outlinewidth": 0,
             "ticks": ""
            },
            "colorscale": [
             [
              0,
              "#0d0887"
             ],
             [
              0.1111111111111111,
              "#46039f"
             ],
             [
              0.2222222222222222,
              "#7201a8"
             ],
             [
              0.3333333333333333,
              "#9c179e"
             ],
             [
              0.4444444444444444,
              "#bd3786"
             ],
             [
              0.5555555555555556,
              "#d8576b"
             ],
             [
              0.6666666666666666,
              "#ed7953"
             ],
             [
              0.7777777777777778,
              "#fb9f3a"
             ],
             [
              0.8888888888888888,
              "#fdca26"
             ],
             [
              1,
              "#f0f921"
             ]
            ],
            "type": "contour"
           }
          ],
          "contourcarpet": [
           {
            "colorbar": {
             "outlinewidth": 0,
             "ticks": ""
            },
            "type": "contourcarpet"
           }
          ],
          "heatmap": [
           {
            "colorbar": {
             "outlinewidth": 0,
             "ticks": ""
            },
            "colorscale": [
             [
              0,
              "#0d0887"
             ],
             [
              0.1111111111111111,
              "#46039f"
             ],
             [
              0.2222222222222222,
              "#7201a8"
             ],
             [
              0.3333333333333333,
              "#9c179e"
             ],
             [
              0.4444444444444444,
              "#bd3786"
             ],
             [
              0.5555555555555556,
              "#d8576b"
             ],
             [
              0.6666666666666666,
              "#ed7953"
             ],
             [
              0.7777777777777778,
              "#fb9f3a"
             ],
             [
              0.8888888888888888,
              "#fdca26"
             ],
             [
              1,
              "#f0f921"
             ]
            ],
            "type": "heatmap"
           }
          ],
          "heatmapgl": [
           {
            "colorbar": {
             "outlinewidth": 0,
             "ticks": ""
            },
            "colorscale": [
             [
              0,
              "#0d0887"
             ],
             [
              0.1111111111111111,
              "#46039f"
             ],
             [
              0.2222222222222222,
              "#7201a8"
             ],
             [
              0.3333333333333333,
              "#9c179e"
             ],
             [
              0.4444444444444444,
              "#bd3786"
             ],
             [
              0.5555555555555556,
              "#d8576b"
             ],
             [
              0.6666666666666666,
              "#ed7953"
             ],
             [
              0.7777777777777778,
              "#fb9f3a"
             ],
             [
              0.8888888888888888,
              "#fdca26"
             ],
             [
              1,
              "#f0f921"
             ]
            ],
            "type": "heatmapgl"
           }
          ],
          "histogram": [
           {
            "marker": {
             "pattern": {
              "fillmode": "overlay",
              "size": 10,
              "solidity": 0.2
             }
            },
            "type": "histogram"
           }
          ],
          "histogram2d": [
           {
            "colorbar": {
             "outlinewidth": 0,
             "ticks": ""
            },
            "colorscale": [
             [
              0,
              "#0d0887"
             ],
             [
              0.1111111111111111,
              "#46039f"
             ],
             [
              0.2222222222222222,
              "#7201a8"
             ],
             [
              0.3333333333333333,
              "#9c179e"
             ],
             [
              0.4444444444444444,
              "#bd3786"
             ],
             [
              0.5555555555555556,
              "#d8576b"
             ],
             [
              0.6666666666666666,
              "#ed7953"
             ],
             [
              0.7777777777777778,
              "#fb9f3a"
             ],
             [
              0.8888888888888888,
              "#fdca26"
             ],
             [
              1,
              "#f0f921"
             ]
            ],
            "type": "histogram2d"
           }
          ],
          "histogram2dcontour": [
           {
            "colorbar": {
             "outlinewidth": 0,
             "ticks": ""
            },
            "colorscale": [
             [
              0,
              "#0d0887"
             ],
             [
              0.1111111111111111,
              "#46039f"
             ],
             [
              0.2222222222222222,
              "#7201a8"
             ],
             [
              0.3333333333333333,
              "#9c179e"
             ],
             [
              0.4444444444444444,
              "#bd3786"
             ],
             [
              0.5555555555555556,
              "#d8576b"
             ],
             [
              0.6666666666666666,
              "#ed7953"
             ],
             [
              0.7777777777777778,
              "#fb9f3a"
             ],
             [
              0.8888888888888888,
              "#fdca26"
             ],
             [
              1,
              "#f0f921"
             ]
            ],
            "type": "histogram2dcontour"
           }
          ],
          "mesh3d": [
           {
            "colorbar": {
             "outlinewidth": 0,
             "ticks": ""
            },
            "type": "mesh3d"
           }
          ],
          "parcoords": [
           {
            "line": {
             "colorbar": {
              "outlinewidth": 0,
              "ticks": ""
             }
            },
            "type": "parcoords"
           }
          ],
          "pie": [
           {
            "automargin": true,
            "type": "pie"
           }
          ],
          "scatter": [
           {
            "fillpattern": {
             "fillmode": "overlay",
             "size": 10,
             "solidity": 0.2
            },
            "type": "scatter"
           }
          ],
          "scatter3d": [
           {
            "line": {
             "colorbar": {
              "outlinewidth": 0,
              "ticks": ""
             }
            },
            "marker": {
             "colorbar": {
              "outlinewidth": 0,
              "ticks": ""
             }
            },
            "type": "scatter3d"
           }
          ],
          "scattercarpet": [
           {
            "marker": {
             "colorbar": {
              "outlinewidth": 0,
              "ticks": ""
             }
            },
            "type": "scattercarpet"
           }
          ],
          "scattergeo": [
           {
            "marker": {
             "colorbar": {
              "outlinewidth": 0,
              "ticks": ""
             }
            },
            "type": "scattergeo"
           }
          ],
          "scattergl": [
           {
            "marker": {
             "colorbar": {
              "outlinewidth": 0,
              "ticks": ""
             }
            },
            "type": "scattergl"
           }
          ],
          "scattermapbox": [
           {
            "marker": {
             "colorbar": {
              "outlinewidth": 0,
              "ticks": ""
             }
            },
            "type": "scattermapbox"
           }
          ],
          "scatterpolar": [
           {
            "marker": {
             "colorbar": {
              "outlinewidth": 0,
              "ticks": ""
             }
            },
            "type": "scatterpolar"
           }
          ],
          "scatterpolargl": [
           {
            "marker": {
             "colorbar": {
              "outlinewidth": 0,
              "ticks": ""
             }
            },
            "type": "scatterpolargl"
           }
          ],
          "scatterternary": [
           {
            "marker": {
             "colorbar": {
              "outlinewidth": 0,
              "ticks": ""
             }
            },
            "type": "scatterternary"
           }
          ],
          "surface": [
           {
            "colorbar": {
             "outlinewidth": 0,
             "ticks": ""
            },
            "colorscale": [
             [
              0,
              "#0d0887"
             ],
             [
              0.1111111111111111,
              "#46039f"
             ],
             [
              0.2222222222222222,
              "#7201a8"
             ],
             [
              0.3333333333333333,
              "#9c179e"
             ],
             [
              0.4444444444444444,
              "#bd3786"
             ],
             [
              0.5555555555555556,
              "#d8576b"
             ],
             [
              0.6666666666666666,
              "#ed7953"
             ],
             [
              0.7777777777777778,
              "#fb9f3a"
             ],
             [
              0.8888888888888888,
              "#fdca26"
             ],
             [
              1,
              "#f0f921"
             ]
            ],
            "type": "surface"
           }
          ],
          "table": [
           {
            "cells": {
             "fill": {
              "color": "#EBF0F8"
             },
             "line": {
              "color": "white"
             }
            },
            "header": {
             "fill": {
              "color": "#C8D4E3"
             },
             "line": {
              "color": "white"
             }
            },
            "type": "table"
           }
          ]
         },
         "layout": {
          "annotationdefaults": {
           "arrowcolor": "#2a3f5f",
           "arrowhead": 0,
           "arrowwidth": 1
          },
          "autotypenumbers": "strict",
          "coloraxis": {
           "colorbar": {
            "outlinewidth": 0,
            "ticks": ""
           }
          },
          "colorscale": {
           "diverging": [
            [
             0,
             "#8e0152"
            ],
            [
             0.1,
             "#c51b7d"
            ],
            [
             0.2,
             "#de77ae"
            ],
            [
             0.3,
             "#f1b6da"
            ],
            [
             0.4,
             "#fde0ef"
            ],
            [
             0.5,
             "#f7f7f7"
            ],
            [
             0.6,
             "#e6f5d0"
            ],
            [
             0.7,
             "#b8e186"
            ],
            [
             0.8,
             "#7fbc41"
            ],
            [
             0.9,
             "#4d9221"
            ],
            [
             1,
             "#276419"
            ]
           ],
           "sequential": [
            [
             0,
             "#0d0887"
            ],
            [
             0.1111111111111111,
             "#46039f"
            ],
            [
             0.2222222222222222,
             "#7201a8"
            ],
            [
             0.3333333333333333,
             "#9c179e"
            ],
            [
             0.4444444444444444,
             "#bd3786"
            ],
            [
             0.5555555555555556,
             "#d8576b"
            ],
            [
             0.6666666666666666,
             "#ed7953"
            ],
            [
             0.7777777777777778,
             "#fb9f3a"
            ],
            [
             0.8888888888888888,
             "#fdca26"
            ],
            [
             1,
             "#f0f921"
            ]
           ],
           "sequentialminus": [
            [
             0,
             "#0d0887"
            ],
            [
             0.1111111111111111,
             "#46039f"
            ],
            [
             0.2222222222222222,
             "#7201a8"
            ],
            [
             0.3333333333333333,
             "#9c179e"
            ],
            [
             0.4444444444444444,
             "#bd3786"
            ],
            [
             0.5555555555555556,
             "#d8576b"
            ],
            [
             0.6666666666666666,
             "#ed7953"
            ],
            [
             0.7777777777777778,
             "#fb9f3a"
            ],
            [
             0.8888888888888888,
             "#fdca26"
            ],
            [
             1,
             "#f0f921"
            ]
           ]
          },
          "colorway": [
           "#636efa",
           "#EF553B",
           "#00cc96",
           "#ab63fa",
           "#FFA15A",
           "#19d3f3",
           "#FF6692",
           "#B6E880",
           "#FF97FF",
           "#FECB52"
          ],
          "font": {
           "color": "#2a3f5f"
          },
          "geo": {
           "bgcolor": "white",
           "lakecolor": "white",
           "landcolor": "#E5ECF6",
           "showlakes": true,
           "showland": true,
           "subunitcolor": "white"
          },
          "hoverlabel": {
           "align": "left"
          },
          "hovermode": "closest",
          "mapbox": {
           "style": "light"
          },
          "paper_bgcolor": "white",
          "plot_bgcolor": "#E5ECF6",
          "polar": {
           "angularaxis": {
            "gridcolor": "white",
            "linecolor": "white",
            "ticks": ""
           },
           "bgcolor": "#E5ECF6",
           "radialaxis": {
            "gridcolor": "white",
            "linecolor": "white",
            "ticks": ""
           }
          },
          "scene": {
           "xaxis": {
            "backgroundcolor": "#E5ECF6",
            "gridcolor": "white",
            "gridwidth": 2,
            "linecolor": "white",
            "showbackground": true,
            "ticks": "",
            "zerolinecolor": "white"
           },
           "yaxis": {
            "backgroundcolor": "#E5ECF6",
            "gridcolor": "white",
            "gridwidth": 2,
            "linecolor": "white",
            "showbackground": true,
            "ticks": "",
            "zerolinecolor": "white"
           },
           "zaxis": {
            "backgroundcolor": "#E5ECF6",
            "gridcolor": "white",
            "gridwidth": 2,
            "linecolor": "white",
            "showbackground": true,
            "ticks": "",
            "zerolinecolor": "white"
           }
          },
          "shapedefaults": {
           "line": {
            "color": "#2a3f5f"
           }
          },
          "ternary": {
           "aaxis": {
            "gridcolor": "white",
            "linecolor": "white",
            "ticks": ""
           },
           "baxis": {
            "gridcolor": "white",
            "linecolor": "white",
            "ticks": ""
           },
           "bgcolor": "#E5ECF6",
           "caxis": {
            "gridcolor": "white",
            "linecolor": "white",
            "ticks": ""
           }
          },
          "title": {
           "x": 0.05
          },
          "xaxis": {
           "automargin": true,
           "gridcolor": "white",
           "linecolor": "white",
           "ticks": "",
           "title": {
            "standoff": 15
           },
           "zerolinecolor": "white",
           "zerolinewidth": 2
          },
          "yaxis": {
           "automargin": true,
           "gridcolor": "white",
           "linecolor": "white",
           "ticks": "",
           "title": {
            "standoff": 15
           },
           "zerolinecolor": "white",
           "zerolinewidth": 2
          }
         }
        },
        "title": {
         "text": "Feature Importance"
        },
        "width": 700,
        "xaxis": {
         "anchor": "y",
         "autorange": true,
         "domain": [
          0,
          1
         ],
         "range": [
          0,
          0.018716209421032352
         ],
         "title": {
          "text": "feature_importance"
         },
         "type": "linear"
        },
        "yaxis": {
         "anchor": "x",
         "autorange": true,
         "domain": [
          0,
          1
         ],
         "range": [
          -0.5,
          29.5
         ],
         "title": {
          "text": "feature_names"
         },
         "type": "category"
        }
       }
      },
      "text/html": [
       "<div>                            <div id=\"558bf618-232d-486b-a56a-629c53559c98\" class=\"plotly-graph-div\" style=\"height:800px; width:700px;\"></div>            <script type=\"text/javascript\">                require([\"plotly\"], function(Plotly) {                    window.PLOTLYENV=window.PLOTLYENV || {};                                    if (document.getElementById(\"558bf618-232d-486b-a56a-629c53559c98\")) {                    Plotly.newPlot(                        \"558bf618-232d-486b-a56a-629c53559c98\",                        [{\"alignmentgroup\":\"True\",\"hovertemplate\":\"feature_importance=%{x}<br>feature_names=%{y}<extra></extra>\",\"legendgroup\":\"\",\"marker\":{\"color\":\"#636efa\",\"pattern\":{\"shape\":\"\"}},\"name\":\"\",\"offsetgroup\":\"\",\"orientation\":\"h\",\"showlegend\":false,\"textposition\":\"auto\",\"x\":[0.017780398949980736,0.017498981207609177,0.013533486984670162,0.011179259978234768,0.0057046073488891125,0.005289742723107338,0.005203522276133299,0.004003292880952358,0.0037768378388136625,0.0035119629465043545,0.0035019484348595142,0.0033903142903000116,0.003271270776167512,0.0032011468429118395,0.0031965302769094706,0.0031164386309683323,0.0030318950302898884,0.0027887539472430944,0.002531642559915781,0.0023882605601102114,0.0023175254464149475,0.0021607938688248396,0.0020960906986147165,0.0020610576029866934,0.0020079733803868294,0.0019344021566212177,0.0017993710935115814,0.0017224230105057359,0.0017038340447470546,0.0016394227277487516],\"xaxis\":\"x\",\"y\":[\"publication_datadriveninvestor\",\"publication_towardsdatascience\",\"publication_the-mission\",\"publication_better-marketing\",\"publication_swlh\",\"author_followers\",\"write\",\"operating cash\",\"coffee\",\"medium link\",\"author\",\"opensource\",\"facebook linkedin\",\"amzn\",\"dont\",\"publication_startup-grind\",\"freepikcom\",\"subtitle_1\",\"writing\",\"design\",\"brought\",\"number_of_words\",\"intention providing\",\"writer\",\"ui\",\"takeaway\",\"ceo\",\"bi (Title)\",\"deep learning\",\"brought salesforce\"],\"yaxis\":\"y\",\"type\":\"bar\"}],                        {\"template\":{\"data\":{\"histogram2dcontour\":[{\"type\":\"histogram2dcontour\",\"colorbar\":{\"outlinewidth\":0,\"ticks\":\"\"},\"colorscale\":[[0.0,\"#0d0887\"],[0.1111111111111111,\"#46039f\"],[0.2222222222222222,\"#7201a8\"],[0.3333333333333333,\"#9c179e\"],[0.4444444444444444,\"#bd3786\"],[0.5555555555555556,\"#d8576b\"],[0.6666666666666666,\"#ed7953\"],[0.7777777777777778,\"#fb9f3a\"],[0.8888888888888888,\"#fdca26\"],[1.0,\"#f0f921\"]]}],\"choropleth\":[{\"type\":\"choropleth\",\"colorbar\":{\"outlinewidth\":0,\"ticks\":\"\"}}],\"histogram2d\":[{\"type\":\"histogram2d\",\"colorbar\":{\"outlinewidth\":0,\"ticks\":\"\"},\"colorscale\":[[0.0,\"#0d0887\"],[0.1111111111111111,\"#46039f\"],[0.2222222222222222,\"#7201a8\"],[0.3333333333333333,\"#9c179e\"],[0.4444444444444444,\"#bd3786\"],[0.5555555555555556,\"#d8576b\"],[0.6666666666666666,\"#ed7953\"],[0.7777777777777778,\"#fb9f3a\"],[0.8888888888888888,\"#fdca26\"],[1.0,\"#f0f921\"]]}],\"heatmap\":[{\"type\":\"heatmap\",\"colorbar\":{\"outlinewidth\":0,\"ticks\":\"\"},\"colorscale\":[[0.0,\"#0d0887\"],[0.1111111111111111,\"#46039f\"],[0.2222222222222222,\"#7201a8\"],[0.3333333333333333,\"#9c179e\"],[0.4444444444444444,\"#bd3786\"],[0.5555555555555556,\"#d8576b\"],[0.6666666666666666,\"#ed7953\"],[0.7777777777777778,\"#fb9f3a\"],[0.8888888888888888,\"#fdca26\"],[1.0,\"#f0f921\"]]}],\"heatmapgl\":[{\"type\":\"heatmapgl\",\"colorbar\":{\"outlinewidth\":0,\"ticks\":\"\"},\"colorscale\":[[0.0,\"#0d0887\"],[0.1111111111111111,\"#46039f\"],[0.2222222222222222,\"#7201a8\"],[0.3333333333333333,\"#9c179e\"],[0.4444444444444444,\"#bd3786\"],[0.5555555555555556,\"#d8576b\"],[0.6666666666666666,\"#ed7953\"],[0.7777777777777778,\"#fb9f3a\"],[0.8888888888888888,\"#fdca26\"],[1.0,\"#f0f921\"]]}],\"contourcarpet\":[{\"type\":\"contourcarpet\",\"colorbar\":{\"outlinewidth\":0,\"ticks\":\"\"}}],\"contour\":[{\"type\":\"contour\",\"colorbar\":{\"outlinewidth\":0,\"ticks\":\"\"},\"colorscale\":[[0.0,\"#0d0887\"],[0.1111111111111111,\"#46039f\"],[0.2222222222222222,\"#7201a8\"],[0.3333333333333333,\"#9c179e\"],[0.4444444444444444,\"#bd3786\"],[0.5555555555555556,\"#d8576b\"],[0.6666666666666666,\"#ed7953\"],[0.7777777777777778,\"#fb9f3a\"],[0.8888888888888888,\"#fdca26\"],[1.0,\"#f0f921\"]]}],\"surface\":[{\"type\":\"surface\",\"colorbar\":{\"outlinewidth\":0,\"ticks\":\"\"},\"colorscale\":[[0.0,\"#0d0887\"],[0.1111111111111111,\"#46039f\"],[0.2222222222222222,\"#7201a8\"],[0.3333333333333333,\"#9c179e\"],[0.4444444444444444,\"#bd3786\"],[0.5555555555555556,\"#d8576b\"],[0.6666666666666666,\"#ed7953\"],[0.7777777777777778,\"#fb9f3a\"],[0.8888888888888888,\"#fdca26\"],[1.0,\"#f0f921\"]]}],\"mesh3d\":[{\"type\":\"mesh3d\",\"colorbar\":{\"outlinewidth\":0,\"ticks\":\"\"}}],\"scatter\":[{\"fillpattern\":{\"fillmode\":\"overlay\",\"size\":10,\"solidity\":0.2},\"type\":\"scatter\"}],\"parcoords\":[{\"type\":\"parcoords\",\"line\":{\"colorbar\":{\"outlinewidth\":0,\"ticks\":\"\"}}}],\"scatterpolargl\":[{\"type\":\"scatterpolargl\",\"marker\":{\"colorbar\":{\"outlinewidth\":0,\"ticks\":\"\"}}}],\"bar\":[{\"error_x\":{\"color\":\"#2a3f5f\"},\"error_y\":{\"color\":\"#2a3f5f\"},\"marker\":{\"line\":{\"color\":\"#E5ECF6\",\"width\":0.5},\"pattern\":{\"fillmode\":\"overlay\",\"size\":10,\"solidity\":0.2}},\"type\":\"bar\"}],\"scattergeo\":[{\"type\":\"scattergeo\",\"marker\":{\"colorbar\":{\"outlinewidth\":0,\"ticks\":\"\"}}}],\"scatterpolar\":[{\"type\":\"scatterpolar\",\"marker\":{\"colorbar\":{\"outlinewidth\":0,\"ticks\":\"\"}}}],\"histogram\":[{\"marker\":{\"pattern\":{\"fillmode\":\"overlay\",\"size\":10,\"solidity\":0.2}},\"type\":\"histogram\"}],\"scattergl\":[{\"type\":\"scattergl\",\"marker\":{\"colorbar\":{\"outlinewidth\":0,\"ticks\":\"\"}}}],\"scatter3d\":[{\"type\":\"scatter3d\",\"line\":{\"colorbar\":{\"outlinewidth\":0,\"ticks\":\"\"}},\"marker\":{\"colorbar\":{\"outlinewidth\":0,\"ticks\":\"\"}}}],\"scattermapbox\":[{\"type\":\"scattermapbox\",\"marker\":{\"colorbar\":{\"outlinewidth\":0,\"ticks\":\"\"}}}],\"scatterternary\":[{\"type\":\"scatterternary\",\"marker\":{\"colorbar\":{\"outlinewidth\":0,\"ticks\":\"\"}}}],\"scattercarpet\":[{\"type\":\"scattercarpet\",\"marker\":{\"colorbar\":{\"outlinewidth\":0,\"ticks\":\"\"}}}],\"carpet\":[{\"aaxis\":{\"endlinecolor\":\"#2a3f5f\",\"gridcolor\":\"white\",\"linecolor\":\"white\",\"minorgridcolor\":\"white\",\"startlinecolor\":\"#2a3f5f\"},\"baxis\":{\"endlinecolor\":\"#2a3f5f\",\"gridcolor\":\"white\",\"linecolor\":\"white\",\"minorgridcolor\":\"white\",\"startlinecolor\":\"#2a3f5f\"},\"type\":\"carpet\"}],\"table\":[{\"cells\":{\"fill\":{\"color\":\"#EBF0F8\"},\"line\":{\"color\":\"white\"}},\"header\":{\"fill\":{\"color\":\"#C8D4E3\"},\"line\":{\"color\":\"white\"}},\"type\":\"table\"}],\"barpolar\":[{\"marker\":{\"line\":{\"color\":\"#E5ECF6\",\"width\":0.5},\"pattern\":{\"fillmode\":\"overlay\",\"size\":10,\"solidity\":0.2}},\"type\":\"barpolar\"}],\"pie\":[{\"automargin\":true,\"type\":\"pie\"}]},\"layout\":{\"autotypenumbers\":\"strict\",\"colorway\":[\"#636efa\",\"#EF553B\",\"#00cc96\",\"#ab63fa\",\"#FFA15A\",\"#19d3f3\",\"#FF6692\",\"#B6E880\",\"#FF97FF\",\"#FECB52\"],\"font\":{\"color\":\"#2a3f5f\"},\"hovermode\":\"closest\",\"hoverlabel\":{\"align\":\"left\"},\"paper_bgcolor\":\"white\",\"plot_bgcolor\":\"#E5ECF6\",\"polar\":{\"bgcolor\":\"#E5ECF6\",\"angularaxis\":{\"gridcolor\":\"white\",\"linecolor\":\"white\",\"ticks\":\"\"},\"radialaxis\":{\"gridcolor\":\"white\",\"linecolor\":\"white\",\"ticks\":\"\"}},\"ternary\":{\"bgcolor\":\"#E5ECF6\",\"aaxis\":{\"gridcolor\":\"white\",\"linecolor\":\"white\",\"ticks\":\"\"},\"baxis\":{\"gridcolor\":\"white\",\"linecolor\":\"white\",\"ticks\":\"\"},\"caxis\":{\"gridcolor\":\"white\",\"linecolor\":\"white\",\"ticks\":\"\"}},\"coloraxis\":{\"colorbar\":{\"outlinewidth\":0,\"ticks\":\"\"}},\"colorscale\":{\"sequential\":[[0.0,\"#0d0887\"],[0.1111111111111111,\"#46039f\"],[0.2222222222222222,\"#7201a8\"],[0.3333333333333333,\"#9c179e\"],[0.4444444444444444,\"#bd3786\"],[0.5555555555555556,\"#d8576b\"],[0.6666666666666666,\"#ed7953\"],[0.7777777777777778,\"#fb9f3a\"],[0.8888888888888888,\"#fdca26\"],[1.0,\"#f0f921\"]],\"sequentialminus\":[[0.0,\"#0d0887\"],[0.1111111111111111,\"#46039f\"],[0.2222222222222222,\"#7201a8\"],[0.3333333333333333,\"#9c179e\"],[0.4444444444444444,\"#bd3786\"],[0.5555555555555556,\"#d8576b\"],[0.6666666666666666,\"#ed7953\"],[0.7777777777777778,\"#fb9f3a\"],[0.8888888888888888,\"#fdca26\"],[1.0,\"#f0f921\"]],\"diverging\":[[0,\"#8e0152\"],[0.1,\"#c51b7d\"],[0.2,\"#de77ae\"],[0.3,\"#f1b6da\"],[0.4,\"#fde0ef\"],[0.5,\"#f7f7f7\"],[0.6,\"#e6f5d0\"],[0.7,\"#b8e186\"],[0.8,\"#7fbc41\"],[0.9,\"#4d9221\"],[1,\"#276419\"]]},\"xaxis\":{\"gridcolor\":\"white\",\"linecolor\":\"white\",\"ticks\":\"\",\"title\":{\"standoff\":15},\"zerolinecolor\":\"white\",\"automargin\":true,\"zerolinewidth\":2},\"yaxis\":{\"gridcolor\":\"white\",\"linecolor\":\"white\",\"ticks\":\"\",\"title\":{\"standoff\":15},\"zerolinecolor\":\"white\",\"automargin\":true,\"zerolinewidth\":2},\"scene\":{\"xaxis\":{\"backgroundcolor\":\"#E5ECF6\",\"gridcolor\":\"white\",\"linecolor\":\"white\",\"showbackground\":true,\"ticks\":\"\",\"zerolinecolor\":\"white\",\"gridwidth\":2},\"yaxis\":{\"backgroundcolor\":\"#E5ECF6\",\"gridcolor\":\"white\",\"linecolor\":\"white\",\"showbackground\":true,\"ticks\":\"\",\"zerolinecolor\":\"white\",\"gridwidth\":2},\"zaxis\":{\"backgroundcolor\":\"#E5ECF6\",\"gridcolor\":\"white\",\"linecolor\":\"white\",\"showbackground\":true,\"ticks\":\"\",\"zerolinecolor\":\"white\",\"gridwidth\":2}},\"shapedefaults\":{\"line\":{\"color\":\"#2a3f5f\"}},\"annotationdefaults\":{\"arrowcolor\":\"#2a3f5f\",\"arrowhead\":0,\"arrowwidth\":1},\"geo\":{\"bgcolor\":\"white\",\"landcolor\":\"#E5ECF6\",\"subunitcolor\":\"white\",\"showland\":true,\"showlakes\":true,\"lakecolor\":\"white\"},\"title\":{\"x\":0.05},\"mapbox\":{\"style\":\"light\"}}},\"xaxis\":{\"anchor\":\"y\",\"domain\":[0.0,1.0],\"title\":{\"text\":\"feature_importance\"}},\"yaxis\":{\"anchor\":\"x\",\"domain\":[0.0,1.0],\"title\":{\"text\":\"feature_names\"}},\"legend\":{\"tracegroupgap\":0},\"title\":{\"text\":\"Feature Importance\"},\"barmode\":\"relative\",\"height\":800,\"width\":700},                        {\"responsive\": true}                    ).then(function(){\n",
       "                            \n",
       "var gd = document.getElementById('558bf618-232d-486b-a56a-629c53559c98');\n",
       "var x = new MutationObserver(function (mutations, observer) {{\n",
       "        var display = window.getComputedStyle(gd).display;\n",
       "        if (!display || display === 'none') {{\n",
       "            console.log([gd, 'removed!']);\n",
       "            Plotly.purge(gd);\n",
       "            observer.disconnect();\n",
       "        }}\n",
       "}});\n",
       "\n",
       "// Listen for the removal of the full notebook cells\n",
       "var notebookContainer = gd.closest('#notebook-container');\n",
       "if (notebookContainer) {{\n",
       "    x.observe(notebookContainer, {childList: true});\n",
       "}}\n",
       "\n",
       "// Listen for the clearing of the current output cell\n",
       "var outputEl = gd.closest('.output');\n",
       "if (outputEl) {{\n",
       "    x.observe(outputEl, {childList: true});\n",
       "}}\n",
       "\n",
       "                        })                };                });            </script>        </div>"
      ]
     },
     "metadata": {},
     "output_type": "display_data"
    }
   ],
   "source": [
    "fig = px.bar(xgb_importance, y='feature_names',\n",
    "             x='feature_importance', title='Feature Importance', width=700, height=800)\n",
    "\n",
    "fig.show()"
   ]
  },
  {
   "cell_type": "markdown",
   "id": "dc20ec45",
   "metadata": {},
   "source": [
    "----"
   ]
  },
  {
   "cell_type": "markdown",
   "id": "845f0a01",
   "metadata": {},
   "source": [
    "### Gradient Boost - Basic"
   ]
  },
  {
   "cell_type": "code",
   "execution_count": 190,
   "id": "42b60bab",
   "metadata": {
    "ExecuteTime": {
     "end_time": "2022-06-17T20:42:52.102746Z",
     "start_time": "2022-06-17T19:38:22.444942Z"
    }
   },
   "outputs": [
    {
     "name": "stdout",
     "output_type": "stream",
     "text": [
      "      Iter       Train Loss   Remaining Time \n",
      "         1           1.2547            9.14m\n",
      "         2           1.2193            8.20m\n",
      "         3           1.1981            7.66m\n",
      "         4           1.1907            7.25m\n",
      "         5           1.1847            6.91m\n",
      "         6           1.1768            6.93m\n",
      "         7           1.1683            6.94m\n",
      "         8           1.1646            6.67m\n",
      "         9           1.1589            6.63m\n",
      "        10           1.1552            6.46m\n",
      "        11           1.1521            6.29m\n",
      "        12           1.1496            6.12m\n",
      "        13           1.1466            6.07m\n",
      "        14           1.1430            6.05m\n",
      "        15           1.1412            5.90m\n",
      "        16           1.1391            5.78m\n",
      "        17           1.1357            5.66m\n",
      "        18           1.1332            5.55m\n",
      "        19           1.1307            5.45m\n",
      "        20           1.1289            5.34m\n",
      "        21           1.1271            5.25m\n",
      "        22           1.1252            5.16m\n",
      "        23           1.1232            5.07m\n",
      "        24           1.1214            4.97m\n",
      "        25           1.1197            4.88m\n",
      "        26           1.1179            4.80m\n",
      "        27           1.1167            4.71m\n",
      "        28           1.1141            4.63m\n",
      "        29           1.1122            4.55m\n",
      "        30           1.1109            4.47m\n",
      "        31           1.1093            4.39m\n",
      "        32           1.1077            4.32m\n",
      "        33           1.1060            4.24m\n",
      "        34           1.1040            4.17m\n",
      "        35           1.1027            4.09m\n",
      "        36           1.1014            4.02m\n",
      "        37           1.0989            3.95m\n",
      "        38           1.0963            3.90m\n",
      "        39           1.0944            3.83m\n",
      "        40           1.0928            3.75m\n",
      "        41           1.0915            3.68m\n",
      "        42           1.0892            3.62m\n",
      "        43           1.0881            3.55m\n",
      "        44           1.0869            3.48m\n",
      "        45           1.0855            3.41m\n",
      "        46           1.0841            3.34m\n",
      "        47           1.0824            3.28m\n",
      "        48           1.0813            3.21m\n",
      "        49           1.0799            3.14m\n",
      "        50           1.0786            3.08m\n",
      "        51           1.0771            3.01m\n",
      "        52           1.0758            2.94m\n",
      "        53           1.0740            2.88m\n",
      "        54           1.0728            2.82m\n",
      "        55           1.0717            2.75m\n",
      "        56           1.0707            2.69m\n",
      "        57           1.0699            2.62m\n",
      "        58           1.0674            2.57m\n",
      "        59           1.0655            2.51m\n",
      "        60           1.0641            2.44m\n",
      "        61           1.0629            2.38m\n",
      "        62           1.0617            2.32m\n",
      "        63           1.0608            2.25m\n",
      "        64           1.0594            2.19m\n",
      "        65           1.0577            2.13m\n",
      "        66           1.0563            2.06m\n",
      "        67           1.0551            2.00m\n",
      "        68           1.0542            1.94m\n",
      "        69           1.0527            1.88m\n",
      "        70           1.0511            1.81m\n",
      "        71           1.0500            1.75m\n",
      "        72           1.0490            1.69m\n",
      "        73           1.0478            1.63m\n",
      "        74           1.0468            1.57m\n",
      "        75           1.0457            1.51m\n",
      "        76           1.0446            1.44m\n",
      "        77           1.0434            1.38m\n",
      "        78           1.0421            1.32m\n",
      "        79           1.0404            1.26m\n",
      "        80           1.0394            1.20m\n",
      "        81           1.0382            1.14m\n",
      "        82           1.0372            1.08m\n",
      "        83           1.0359            1.02m\n",
      "        84           1.0351           57.47s\n",
      "        85           1.0339           53.85s\n",
      "        86           1.0328           50.23s\n",
      "        87           1.0318           46.61s\n",
      "        88           1.0301           43.06s\n",
      "        89           1.0281           39.46s\n",
      "        90           1.0262           35.88s\n",
      "        91           1.0252           32.28s\n",
      "        92           1.0242           28.67s\n",
      "        93           1.0232           25.09s\n",
      "        94           1.0222           21.50s\n",
      "        95           1.0213           17.90s\n",
      "        96           1.0197           14.32s\n",
      "        97           1.0185           10.73s\n",
      "        98           1.0173            7.15s\n",
      "        99           1.0158            3.58s\n",
      "       100           1.0145            0.00s\n",
      "      Iter       Train Loss   Remaining Time \n",
      "         1           1.2524           13.86m\n",
      "         2           1.2171           13.24m\n",
      "         3           1.2001           12.57m\n",
      "         4           1.1904           12.14m\n",
      "         5           1.1802           12.17m\n",
      "         6           1.1737           11.99m\n",
      "         7           1.1647           11.98m\n",
      "         8           1.1591           11.82m\n",
      "         9           1.1545           11.71m\n",
      "        10           1.1503           11.51m\n",
      "        11           1.1481           11.27m\n",
      "        12           1.1445           11.06m\n",
      "        13           1.1422           10.85m\n",
      "        14           1.1403           10.66m\n",
      "        15           1.1372           10.49m\n",
      "        16           1.1337           10.34m\n",
      "        17           1.1311           10.19m\n",
      "        18           1.1278           10.06m\n",
      "        19           1.1243            9.97m\n",
      "        20           1.1211            9.86m\n",
      "        21           1.1190            9.70m\n",
      "        22           1.1164            9.55m\n",
      "        23           1.1142            9.41m\n",
      "        24           1.1125            9.26m\n",
      "        25           1.1100            9.12m\n",
      "        26           1.1073            8.98m\n",
      "        27           1.1049            8.85m\n",
      "        28           1.1021            8.71m\n",
      "        29           1.0999            8.58m\n",
      "        30           1.0980            8.44m\n",
      "        31           1.0963            8.31m\n",
      "        32           1.0947            8.17m\n",
      "        33           1.0920            8.05m\n",
      "        34           1.0890            7.93m\n",
      "        35           1.0874            7.80m\n",
      "        36           1.0859            7.67m\n",
      "        37           1.0837            7.54m\n",
      "        38           1.0797            7.43m\n",
      "        39           1.0773            7.31m\n",
      "        40           1.0751            7.19m\n",
      "        41           1.0733            7.06m\n",
      "        42           1.0709            6.94m\n",
      "        43           1.0690            6.81m\n",
      "        44           1.0676            6.68m\n",
      "        45           1.0663            6.56m\n",
      "        46           1.0646            6.43m\n",
      "        47           1.0634            6.31m\n",
      "        48           1.0620            6.18m\n",
      "        49           1.0608            6.06m\n",
      "        50           1.0590            5.94m\n",
      "        51           1.0565            5.82m\n",
      "        52           1.0551            5.69m\n",
      "        53           1.0537            5.57m\n",
      "        54           1.0522            5.45m\n",
      "        55           1.0505            5.33m\n",
      "        56           1.0493            5.21m\n",
      "        57           1.0473            5.08m\n",
      "        58           1.0460            4.96m\n",
      "        59           1.0440            4.84m\n",
      "        60           1.0424            4.72m\n",
      "        61           1.0408            4.60m\n",
      "        62           1.0382            4.49m\n",
      "        63           1.0363            4.37m\n",
      "        64           1.0352            4.25m\n",
      "        65           1.0329            4.13m\n",
      "        66           1.0315            4.01m\n",
      "        67           1.0303            3.89m\n",
      "        68           1.0291            3.77m\n",
      "        69           1.0278            3.65m\n",
      "        70           1.0267            3.53m\n",
      "        71           1.0251            3.41m\n",
      "        72           1.0240            3.29m\n",
      "        73           1.0229            3.17m\n",
      "        74           1.0218            3.05m\n",
      "        75           1.0191            2.94m\n",
      "        76           1.0173            2.82m\n",
      "        77           1.0146            2.70m\n",
      "        78           1.0129            2.58m\n",
      "        79           1.0118            2.47m\n",
      "        80           1.0105            2.35m\n",
      "        81           1.0086            2.23m\n",
      "        82           1.0075            2.11m\n",
      "        83           1.0063            1.99m\n",
      "        84           1.0046            1.88m\n",
      "        85           1.0031            1.76m\n",
      "        86           1.0016            1.64m\n",
      "        87           1.0007            1.52m\n",
      "        88           0.9996            1.41m\n",
      "        89           0.9970            1.29m\n",
      "        90           0.9959            1.17m\n",
      "        91           0.9944            1.05m\n",
      "        92           0.9932           56.18s\n",
      "        93           0.9920           49.14s\n",
      "        94           0.9911           42.11s\n",
      "        95           0.9900           35.08s\n",
      "        96           0.9883           28.06s\n",
      "        97           0.9866           21.04s\n",
      "        98           0.9855           14.03s\n",
      "        99           0.9841            7.01s\n",
      "       100           0.9825            0.00s\n",
      "      Iter       Train Loss   Remaining Time \n",
      "         1           1.2558           13.90m\n",
      "         2           1.2225           12.99m\n",
      "         3           1.2033           12.65m\n",
      "         4           1.1931           12.24m\n",
      "         5           1.1809           12.12m\n",
      "         6           1.1744           11.94m\n",
      "         7           1.1696           11.83m\n",
      "         8           1.1642           11.66m\n",
      "         9           1.1591           11.58m\n",
      "        10           1.1552           11.36m\n",
      "        11           1.1495           11.26m\n",
      "        12           1.1457           11.07m\n",
      "        13           1.1420           10.92m\n",
      "        14           1.1393           10.72m\n",
      "        15           1.1365           10.56m\n",
      "        16           1.1328           10.41m\n",
      "        17           1.1297           10.25m\n",
      "        18           1.1271           10.09m\n",
      "        19           1.1254            9.93m\n",
      "        20           1.1237            9.77m\n",
      "        21           1.1207            9.64m\n",
      "        22           1.1168            9.53m\n",
      "        23           1.1135            9.39m\n",
      "        24           1.1110            9.26m\n",
      "        25           1.1089            9.11m\n",
      "        26           1.1070            8.97m\n",
      "        27           1.1049            8.83m\n",
      "        28           1.1033            8.70m\n",
      "        29           1.1015            8.56m\n",
      "        30           1.0997            8.43m\n",
      "        31           1.0982            8.30m\n",
      "        32           1.0965            8.18m\n",
      "        33           1.0949            8.05m\n",
      "        34           1.0928            7.92m\n",
      "        35           1.0902            7.80m\n",
      "        36           1.0884            7.67m\n",
      "        37           1.0864            7.54m\n",
      "        38           1.0836            7.44m\n",
      "        39           1.0822            7.31m\n",
      "        40           1.0805            7.18m\n",
      "        41           1.0790            7.06m\n",
      "        42           1.0771            6.94m\n",
      "        43           1.0745            6.82m\n",
      "        44           1.0721            6.70m\n",
      "        45           1.0706            6.57m\n",
      "        46           1.0682            6.45m\n",
      "        47           1.0670            6.32m\n",
      "        48           1.0659            6.20m\n",
      "        49           1.0642            6.07m\n",
      "        50           1.0629            5.95m\n",
      "        51           1.0608            5.83m\n",
      "        52           1.0595            5.70m\n",
      "        53           1.0582            5.58m\n",
      "        54           1.0563            5.46m\n",
      "        55           1.0541            5.34m\n",
      "        56           1.0526            5.22m\n",
      "        57           1.0513            5.09m\n",
      "        58           1.0499            4.97m\n",
      "        59           1.0484            4.85m\n",
      "        60           1.0473            4.73m\n",
      "        61           1.0459            4.61m\n",
      "        62           1.0433            4.49m\n",
      "        63           1.0421            4.37m\n",
      "        64           1.0399            4.25m\n",
      "        65           1.0386            4.13m\n",
      "        66           1.0370            4.01m\n",
      "        67           1.0356            3.89m\n",
      "        68           1.0345            3.77m\n",
      "        69           1.0334            3.65m\n",
      "        70           1.0319            3.53m\n",
      "        71           1.0307            3.42m\n",
      "        72           1.0294            3.30m\n",
      "        73           1.0278            3.18m\n",
      "        74           1.0260            3.06m\n",
      "        75           1.0242            2.94m\n",
      "        76           1.0231            2.82m\n",
      "        77           1.0220            2.70m\n",
      "        78           1.0201            2.58m\n",
      "        79           1.0183            2.47m\n",
      "        80           1.0173            2.35m\n",
      "        81           1.0157            2.23m\n",
      "        82           1.0147            2.11m\n",
      "        83           1.0128            1.99m\n",
      "        84           1.0118            1.88m\n",
      "        85           1.0106            1.76m\n",
      "        86           1.0089            1.64m\n",
      "        87           1.0062            1.52m\n",
      "        88           1.0037            1.41m\n",
      "        89           1.0013            1.29m\n",
      "        90           1.0000            1.17m\n",
      "        91           0.9987            1.06m\n",
      "        92           0.9970           56.29s\n",
      "        93           0.9956           49.25s\n",
      "        94           0.9944           42.20s\n",
      "        95           0.9935           35.15s\n",
      "        96           0.9922           28.12s\n",
      "        97           0.9910           21.08s\n",
      "        98           0.9895           14.05s\n",
      "        99           0.9883            7.02s\n",
      "       100           0.9873            0.00s\n",
      "      Iter       Train Loss   Remaining Time \n",
      "         1           1.2552           13.78m\n",
      "         2           1.2225           12.89m\n",
      "         3           1.2018           12.55m\n",
      "         4           1.1919           12.13m\n",
      "         5           1.1849           11.90m\n",
      "         6           1.1796           11.63m\n",
      "         7           1.1748           11.42m\n",
      "         8           1.1646           11.46m\n",
      "         9           1.1593           11.35m\n",
      "        10           1.1548           11.19m\n",
      "        11           1.1522           10.98m\n",
      "        12           1.1488           10.83m\n",
      "        13           1.1462           10.65m\n",
      "        14           1.1432           10.48m\n",
      "        15           1.1405           10.32m\n",
      "        16           1.1384           10.16m\n",
      "        17           1.1364           10.01m\n",
      "        18           1.1340            9.86m\n",
      "        19           1.1311            9.77m\n",
      "        20           1.1285            9.64m\n",
      "        21           1.1257            9.54m\n",
      "        22           1.1233            9.40m\n",
      "        23           1.1210            9.26m\n",
      "        24           1.1191            9.12m\n",
      "        25           1.1174            8.98m\n",
      "        26           1.1135            8.90m\n",
      "        27           1.1092            8.80m\n",
      "        28           1.1071            8.67m\n",
      "        29           1.1047            8.53m\n",
      "        30           1.1032            8.40m\n",
      "        31           1.0995            8.29m\n",
      "        32           1.0975            8.16m\n",
      "        33           1.0952            8.03m\n",
      "        34           1.0935            7.90m\n",
      "        35           1.0915            7.77m\n",
      "        36           1.0897            7.64m\n",
      "        37           1.0880            7.52m\n",
      "        38           1.0861            7.39m\n",
      "        39           1.0846            7.26m\n",
      "        40           1.0827            7.14m\n",
      "        41           1.0804            7.01m\n",
      "        42           1.0767            6.91m\n",
      "        43           1.0752            6.79m\n",
      "        44           1.0735            6.66m\n",
      "        45           1.0718            6.54m\n",
      "        46           1.0700            6.41m\n",
      "        47           1.0684            6.29m\n",
      "        48           1.0665            6.17m\n",
      "        49           1.0652            6.04m\n",
      "        50           1.0633            5.92m\n",
      "        51           1.0607            5.80m\n",
      "        52           1.0584            5.68m\n",
      "        53           1.0567            5.56m\n",
      "        54           1.0556            5.43m\n",
      "        55           1.0542            5.31m\n",
      "        56           1.0528            5.19m\n",
      "        57           1.0514            5.07m\n",
      "        58           1.0498            4.95m\n",
      "        59           1.0480            4.83m\n",
      "        60           1.0467            4.71m\n",
      "        61           1.0451            4.59m\n",
      "        62           1.0434            4.47m\n",
      "        63           1.0420            4.35m\n",
      "        64           1.0401            4.24m\n",
      "        65           1.0385            4.12m\n",
      "        66           1.0365            4.00m\n",
      "        67           1.0343            3.88m\n",
      "        68           1.0326            3.76m\n",
      "        69           1.0314            3.64m\n",
      "        70           1.0300            3.52m\n",
      "        71           1.0283            3.40m\n",
      "        72           1.0269            3.28m\n",
      "        73           1.0256            3.17m\n",
      "        74           1.0245            3.05m\n",
      "        75           1.0235            2.93m\n",
      "        76           1.0222            2.81m\n",
      "        77           1.0210            2.69m\n",
      "        78           1.0200            2.57m\n",
      "        79           1.0188            2.46m\n",
      "        80           1.0175            2.34m\n",
      "        81           1.0162            2.22m\n",
      "        82           1.0147            2.10m\n",
      "        83           1.0132            1.99m\n",
      "        84           1.0119            1.87m\n",
      "        85           1.0110            1.75m\n",
      "        86           1.0091            1.64m\n",
      "        87           1.0075            1.52m\n",
      "        88           1.0063            1.40m\n",
      "        89           1.0047            1.28m\n",
      "        90           1.0031            1.17m\n",
      "        91           1.0019            1.05m\n",
      "        92           1.0009           56.01s\n",
      "        93           0.9992           49.00s\n",
      "        94           0.9975           41.99s\n",
      "        95           0.9958           34.99s\n",
      "        96           0.9937           28.01s\n",
      "        97           0.9927           21.00s\n",
      "        98           0.9918           14.00s\n",
      "        99           0.9908            7.00s\n",
      "       100           0.9898            0.00s\n",
      "      Iter       Train Loss   Remaining Time \n",
      "         1           1.2551           13.82m\n",
      "         2           1.2229           12.96m\n",
      "         3           1.2019           12.86m\n",
      "         4           1.1912           12.55m\n",
      "         5           1.1855           12.17m\n",
      "         6           1.1789           12.03m\n",
      "         7           1.1698           11.90m\n",
      "         8           1.1637           11.78m\n",
      "         9           1.1585           11.63m\n",
      "        10           1.1544           11.44m\n",
      "        11           1.1518           11.21m\n",
      "        12           1.1478           11.06m\n",
      "        13           1.1447           10.87m\n",
      "        14           1.1402           10.78m\n",
      "        15           1.1375           10.59m\n",
      "        16           1.1345           10.43m\n",
      "        17           1.1318           10.27m\n",
      "        18           1.1295           10.10m\n",
      "        19           1.1276            9.94m\n",
      "        20           1.1251            9.80m\n",
      "        21           1.1232            9.65m\n",
      "        22           1.1217            9.50m\n",
      "        23           1.1190            9.36m\n",
      "        24           1.1168            9.21m\n",
      "        25           1.1138            9.09m\n",
      "        26           1.1110            8.97m\n",
      "        27           1.1078            8.88m\n",
      "        28           1.1056            8.75m\n",
      "        29           1.1042            8.61m\n",
      "        30           1.1019            8.48m\n",
      "        31           1.1005            8.34m\n",
      "        32           1.0983            8.21m\n",
      "        33           1.0967            8.08m\n",
      "        34           1.0950            7.94m\n",
      "        35           1.0935            7.81m\n",
      "        36           1.0908            7.69m\n",
      "        37           1.0896            7.56m\n",
      "        38           1.0883            7.43m\n",
      "        39           1.0868            7.30m\n",
      "        40           1.0851            7.17m\n",
      "        41           1.0835            7.04m\n",
      "        42           1.0816            6.92m\n",
      "        43           1.0799            6.79m\n",
      "        44           1.0781            6.67m\n",
      "        45           1.0760            6.55m\n",
      "        46           1.0744            6.42m\n",
      "        47           1.0725            6.30m\n",
      "        48           1.0706            6.18m\n",
      "        49           1.0691            6.05m\n",
      "        50           1.0678            5.93m\n",
      "        51           1.0663            5.81m\n",
      "        52           1.0643            5.69m\n",
      "        53           1.0619            5.58m\n",
      "        54           1.0600            5.45m\n",
      "        55           1.0585            5.33m\n",
      "        56           1.0571            5.21m\n",
      "        57           1.0554            5.09m\n",
      "        58           1.0538            4.97m\n",
      "        59           1.0524            4.85m\n",
      "        60           1.0512            4.73m\n",
      "        61           1.0501            4.60m\n",
      "        62           1.0474            4.49m\n",
      "        63           1.0456            4.37m\n",
      "        64           1.0442            4.25m\n",
      "        65           1.0431            4.13m\n",
      "        66           1.0415            4.01m\n",
      "        67           1.0405            3.89m\n",
      "        68           1.0393            3.77m\n",
      "        69           1.0371            3.65m\n",
      "        70           1.0360            3.53m\n",
      "        71           1.0349            3.41m\n",
      "        72           1.0335            3.29m\n",
      "        73           1.0323            3.17m\n",
      "        74           1.0309            3.05m\n",
      "        75           1.0287            2.94m\n",
      "        76           1.0277            2.82m\n",
      "        77           1.0256            2.70m\n",
      "        78           1.0242            2.58m\n",
      "        79           1.0219            2.47m\n",
      "        80           1.0207            2.35m\n",
      "        81           1.0189            2.23m\n",
      "        82           1.0174            2.11m\n",
      "        83           1.0158            1.99m\n",
      "        84           1.0136            1.88m\n",
      "        85           1.0125            1.76m\n",
      "        86           1.0114            1.64m\n",
      "        87           1.0104            1.52m\n",
      "        88           1.0091            1.41m\n",
      "        89           1.0070            1.29m\n",
      "        90           1.0055            1.17m\n",
      "        91           1.0033            1.05m\n",
      "        92           1.0022           56.21s\n",
      "        93           0.9997           49.19s\n",
      "        94           0.9983           42.15s\n",
      "        95           0.9973           35.12s\n",
      "        96           0.9961           28.09s\n",
      "        97           0.9944           21.07s\n",
      "        98           0.9930           14.04s\n",
      "        99           0.9918            7.02s\n",
      "       100           0.9902            0.00s\n",
      "      Iter       Train Loss   Remaining Time \n",
      "         1           1.2557           13.83m\n",
      "         2           1.2184           13.22m\n",
      "         3           1.1977           12.78m\n",
      "         4           1.1883           12.45m\n",
      "         5           1.1826           12.16m\n",
      "         6           1.1772           11.90m\n",
      "         7           1.1711           11.84m\n",
      "         8           1.1645           11.68m\n",
      "         9           1.1602           11.48m\n",
      "        10           1.1563           11.26m\n",
      "        11           1.1521           11.13m\n",
      "        12           1.1499           10.92m\n",
      "        13           1.1471           10.76m\n",
      "        14           1.1443           10.59m\n",
      "        15           1.1413           10.42m\n",
      "        16           1.1393           10.25m\n",
      "        17           1.1361           10.13m\n",
      "        18           1.1337            9.97m\n",
      "        19           1.1318            9.82m\n",
      "        20           1.1296            9.67m\n",
      "        21           1.1274            9.53m\n",
      "        22           1.1251            9.39m\n",
      "        23           1.1220            9.25m\n",
      "        24           1.1187            9.12m\n",
      "        25           1.1142            9.05m\n",
      "        26           1.1120            8.92m\n",
      "        27           1.1096            8.78m\n",
      "        28           1.1076            8.65m\n",
      "        29           1.1059            8.52m\n",
      "        30           1.1044            8.38m\n",
      "        31           1.1024            8.26m\n",
      "        32           1.0992            8.15m\n",
      "        33           1.0978            8.02m\n",
      "        34           1.0963            7.89m\n",
      "        35           1.0946            7.76m\n",
      "        36           1.0923            7.63m\n",
      "        37           1.0903            7.51m\n",
      "        38           1.0878            7.38m\n",
      "        39           1.0861            7.25m\n",
      "        40           1.0835            7.13m\n",
      "        41           1.0819            7.00m\n",
      "        42           1.0795            6.89m\n",
      "        43           1.0777            6.76m\n",
      "        44           1.0757            6.64m\n",
      "        45           1.0739            6.52m\n",
      "        46           1.0726            6.39m\n",
      "        47           1.0713            6.27m\n",
      "        48           1.0691            6.15m\n",
      "        49           1.0674            6.03m\n",
      "        50           1.0661            5.91m\n",
      "        51           1.0649            5.78m\n",
      "        52           1.0637            5.66m\n",
      "        53           1.0621            5.54m\n",
      "        54           1.0605            5.42m\n",
      "        55           1.0591            5.30m\n",
      "        56           1.0571            5.18m\n",
      "        57           1.0548            5.06m\n",
      "        58           1.0523            4.94m\n",
      "        59           1.0509            4.82m\n",
      "        60           1.0495            4.70m\n",
      "        61           1.0484            4.58m\n",
      "        62           1.0471            4.46m\n",
      "        63           1.0459            4.34m\n",
      "        64           1.0447            4.23m\n",
      "        65           1.0430            4.11m\n",
      "        66           1.0419            3.99m\n",
      "        67           1.0402            3.87m\n",
      "        68           1.0388            3.75m\n",
      "        69           1.0372            3.63m\n",
      "        70           1.0354            3.51m\n",
      "        71           1.0337            3.39m\n",
      "        72           1.0321            3.28m\n",
      "        73           1.0306            3.16m\n",
      "        74           1.0291            3.04m\n",
      "        75           1.0258            2.93m\n",
      "        76           1.0233            2.81m\n",
      "        77           1.0222            2.70m\n",
      "        78           1.0207            2.58m\n",
      "        79           1.0193            2.46m\n",
      "        80           1.0179            2.34m\n",
      "        81           1.0165            2.22m\n",
      "        82           1.0153            2.11m\n",
      "        83           1.0133            1.99m\n",
      "        84           1.0123            1.87m\n",
      "        85           1.0104            1.75m\n",
      "        86           1.0092            1.64m\n",
      "        87           1.0080            1.52m\n",
      "        88           1.0067            1.40m\n",
      "        89           1.0043            1.29m\n",
      "        90           1.0024            1.17m\n",
      "        91           1.0012            1.05m\n",
      "        92           0.9998           56.07s\n",
      "        93           0.9989           49.04s\n",
      "        94           0.9964           42.04s\n",
      "        95           0.9949           35.03s\n",
      "        96           0.9930           28.03s\n",
      "        97           0.9920           21.02s\n",
      "        98           0.9903           14.01s\n",
      "        99           0.9891            7.00s\n",
      "       100           0.9871            0.00s\n",
      "Training Score: 0.7435233160621761\n",
      "Test Score: 0.6785009861932939\n",
      "Cross Validation Score: [0.66882556 0.67249568 0.67789292 0.67843264 0.67238774]\n",
      "Mean cross Validation Score: 0.674006908462867\n",
      "Standard Deviation of Cross Validation Score: 0.003645272992393426\n"
     ]
    }
   ],
   "source": [
    "model = GradientBoostingClassifier(\n",
    "    n_estimators=100,\n",
    "    criterion='friedman_mse',\n",
    "    loss='deviance',\n",
    "    max_depth=3,\n",
    "    learning_rate=1.0,\n",
    "    random_state=1,\n",
    "    verbose=2)\n",
    "\n",
    "model.fit(X_train, y_train)\n",
    "cv = cross_val_score(model, X_train, y_train, cv=5)\n",
    "\n",
    "print('Training Score:', model.score(X_train, y_train))\n",
    "print('Test Score:',model.score(X_test, y_test))\n",
    "print('Cross Validation Score:', cv)\n",
    "print('Mean cross Validation Score:',cv.mean())\n",
    "print('Standard Deviation of Cross Validation Score:',cv.std())\n"
   ]
  },
  {
   "cell_type": "code",
   "execution_count": 191,
   "id": "c57d91f7",
   "metadata": {
    "ExecuteTime": {
     "end_time": "2022-06-17T20:43:02.532888Z",
     "start_time": "2022-06-17T20:43:02.367931Z"
    }
   },
   "outputs": [],
   "source": [
    "y_pred = model.predict(X_test)\n"
   ]
  },
  {
   "cell_type": "code",
   "execution_count": 192,
   "id": "7a86206f",
   "metadata": {
    "ExecuteTime": {
     "end_time": "2022-06-17T20:43:12.078371Z",
     "start_time": "2022-06-17T20:43:12.067655Z"
    }
   },
   "outputs": [
    {
     "name": "stdout",
     "output_type": "stream",
     "text": [
      "0.6785671850188548\n",
      "0.6706479277984824\n"
     ]
    }
   ],
   "source": [
    "print(roc_auc_score(y_test, y_pred))\n",
    "print(f1_score(y_test, y_pred))\n"
   ]
  },
  {
   "cell_type": "code",
   "execution_count": 286,
   "id": "0272cd16",
   "metadata": {
    "ExecuteTime": {
     "end_time": "2022-06-21T13:07:35.738634Z",
     "start_time": "2022-06-21T13:07:35.311859Z"
    },
    "scrolled": true
   },
   "outputs": [
    {
     "data": {
      "image/png": "[encoded data removed]",
      "text/plain": [
       "<Figure size 432x288 with 1 Axes>"
      ]
     },
     "metadata": {
      "needs_background": "light"
     },
     "output_type": "display_data"
    }
   ],
   "source": [
    "plot_roc_curve(model, X_test, y_test);\n",
    "plt.title('Reciever Operator Curve')\n",
    "plt.show()"
   ]
  },
  {
   "cell_type": "code",
   "execution_count": 194,
   "id": "9d6e51cc",
   "metadata": {
    "ExecuteTime": {
     "end_time": "2022-06-17T20:43:31.584317Z",
     "start_time": "2022-06-17T20:43:31.350018Z"
    },
    "scrolled": true
   },
   "outputs": [
    {
     "data": {
      "image/png": "[encoded data removed]",
      "text/plain": [
       "<Figure size 432x288 with 2 Axes>"
      ]
     },
     "metadata": {
      "needs_background": "light"
     },
     "output_type": "display_data"
    }
   ],
   "source": [
    "plot_confusion_matrix(model, X_test, y_test, cmap='Blues', labels=[1, 0], values_format='.0f')\n",
    "plt.show()\n"
   ]
  },
  {
   "cell_type": "code",
   "execution_count": 195,
   "id": "e51b27c3",
   "metadata": {
    "ExecuteTime": {
     "end_time": "2022-06-17T20:43:42.343443Z",
     "start_time": "2022-06-17T20:43:41.138420Z"
    }
   },
   "outputs": [],
   "source": [
    "gradient_boost_features = model.feature_importances_\n"
   ]
  },
  {
   "cell_type": "code",
   "execution_count": 196,
   "id": "572dc29c",
   "metadata": {
    "ExecuteTime": {
     "end_time": "2022-06-17T20:43:52.503759Z",
     "start_time": "2022-06-17T20:43:52.100621Z"
    }
   },
   "outputs": [
    {
     "data": {
      "text/html": [
       "<div>\n",
       "<style scoped>\n",
       "    .dataframe tbody tr th:only-of-type {\n",
       "        vertical-align: middle;\n",
       "    }\n",
       "\n",
       "    .dataframe tbody tr th {\n",
       "        vertical-align: top;\n",
       "    }\n",
       "\n",
       "    .dataframe thead th {\n",
       "        text-align: right;\n",
       "    }\n",
       "</style>\n",
       "<table border=\"1\" class=\"dataframe\">\n",
       "  <thead>\n",
       "    <tr style=\"text-align: right;\">\n",
       "      <th></th>\n",
       "      <th>feature_names</th>\n",
       "      <th>feature_importance</th>\n",
       "    </tr>\n",
       "  </thead>\n",
       "  <tbody>\n",
       "    <tr>\n",
       "      <th>1154499</th>\n",
       "      <td>author_followers</td>\n",
       "      <td>0.237178</td>\n",
       "    </tr>\n",
       "    <tr>\n",
       "      <th>1154504</th>\n",
       "      <td>publication_datadriveninvestor</td>\n",
       "      <td>0.150518</td>\n",
       "    </tr>\n",
       "    <tr>\n",
       "      <th>1154508</th>\n",
       "      <td>publication_towardsdatascience</td>\n",
       "      <td>0.088500</td>\n",
       "    </tr>\n",
       "    <tr>\n",
       "      <th>1154500</th>\n",
       "      <td>number_of_words</td>\n",
       "      <td>0.026401</td>\n",
       "    </tr>\n",
       "    <tr>\n",
       "      <th>1154503</th>\n",
       "      <td>publication_better-marketing</td>\n",
       "      <td>0.019135</td>\n",
       "    </tr>\n",
       "    <tr>\n",
       "      <th>1154507</th>\n",
       "      <td>publication_the-mission</td>\n",
       "      <td>0.018392</td>\n",
       "    </tr>\n",
       "    <tr>\n",
       "      <th>1154517</th>\n",
       "      <td>subtitle_1</td>\n",
       "      <td>0.010742</td>\n",
       "    </tr>\n",
       "    <tr>\n",
       "      <th>989561</th>\n",
       "      <td>writing</td>\n",
       "      <td>0.010481</td>\n",
       "    </tr>\n",
       "    <tr>\n",
       "      <th>1154505</th>\n",
       "      <td>publication_startup-grind</td>\n",
       "      <td>0.007387</td>\n",
       "    </tr>\n",
       "    <tr>\n",
       "      <th>1154506</th>\n",
       "      <td>publication_swlh</td>\n",
       "      <td>0.006971</td>\n",
       "    </tr>\n",
       "    <tr>\n",
       "      <th>691995</th>\n",
       "      <td>python</td>\n",
       "      <td>0.006619</td>\n",
       "    </tr>\n",
       "    <tr>\n",
       "      <th>226170</th>\n",
       "      <td>design</td>\n",
       "      <td>0.006239</td>\n",
       "    </tr>\n",
       "    <tr>\n",
       "      <th>602011</th>\n",
       "      <td>operating cash</td>\n",
       "      <td>0.005824</td>\n",
       "    </tr>\n",
       "    <tr>\n",
       "      <th>144104</th>\n",
       "      <td>coffee data</td>\n",
       "      <td>0.005141</td>\n",
       "    </tr>\n",
       "    <tr>\n",
       "      <th>448204</th>\n",
       "      <td>jim katzaman</td>\n",
       "      <td>0.004269</td>\n",
       "    </tr>\n",
       "    <tr>\n",
       "      <th>411128</th>\n",
       "      <td>image author</td>\n",
       "      <td>0.004070</td>\n",
       "    </tr>\n",
       "    <tr>\n",
       "      <th>533180</th>\n",
       "      <td>medium link</td>\n",
       "      <td>0.003941</td>\n",
       "    </tr>\n",
       "    <tr>\n",
       "      <th>103105</th>\n",
       "      <td>business</td>\n",
       "      <td>0.003788</td>\n",
       "    </tr>\n",
       "    <tr>\n",
       "      <th>948909</th>\n",
       "      <td>via freepikcom</td>\n",
       "      <td>0.003770</td>\n",
       "    </tr>\n",
       "    <tr>\n",
       "      <th>216874</th>\n",
       "      <td>deep learning</td>\n",
       "      <td>0.003212</td>\n",
       "    </tr>\n",
       "    <tr>\n",
       "      <th>480344</th>\n",
       "      <td>like</td>\n",
       "      <td>0.003195</td>\n",
       "    </tr>\n",
       "    <tr>\n",
       "      <th>959279</th>\n",
       "      <td>warranty written</td>\n",
       "      <td>0.002724</td>\n",
       "    </tr>\n",
       "    <tr>\n",
       "      <th>47065</th>\n",
       "      <td>architecture</td>\n",
       "      <td>0.002653</td>\n",
       "    </tr>\n",
       "    <tr>\n",
       "      <th>778555</th>\n",
       "      <td>service</td>\n",
       "      <td>0.002507</td>\n",
       "    </tr>\n",
       "    <tr>\n",
       "      <th>4401</th>\n",
       "      <td>account earn</td>\n",
       "      <td>0.002445</td>\n",
       "    </tr>\n",
       "    <tr>\n",
       "      <th>403028</th>\n",
       "      <td>human daily</td>\n",
       "      <td>0.002366</td>\n",
       "    </tr>\n",
       "    <tr>\n",
       "      <th>992355</th>\n",
       "      <td>wwwdatadriveninvestorcom</td>\n",
       "      <td>0.002234</td>\n",
       "    </tr>\n",
       "    <tr>\n",
       "      <th>575124</th>\n",
       "      <td>new technical</td>\n",
       "      <td>0.002212</td>\n",
       "    </tr>\n",
       "    <tr>\n",
       "      <th>133641</th>\n",
       "      <td>clap</td>\n",
       "      <td>0.002194</td>\n",
       "    </tr>\n",
       "    <tr>\n",
       "      <th>41096</th>\n",
       "      <td>app</td>\n",
       "      <td>0.002037</td>\n",
       "    </tr>\n",
       "  </tbody>\n",
       "</table>\n",
       "</div>"
      ],
      "text/plain": [
       "                          feature_names  feature_importance\n",
       "1154499                author_followers            0.237178\n",
       "1154504  publication_datadriveninvestor            0.150518\n",
       "1154508  publication_towardsdatascience            0.088500\n",
       "1154500                 number_of_words            0.026401\n",
       "1154503    publication_better-marketing            0.019135\n",
       "1154507         publication_the-mission            0.018392\n",
       "1154517                      subtitle_1            0.010742\n",
       "989561                          writing            0.010481\n",
       "1154505       publication_startup-grind            0.007387\n",
       "1154506                publication_swlh            0.006971\n",
       "691995                           python            0.006619\n",
       "226170                           design            0.006239\n",
       "602011                   operating cash            0.005824\n",
       "144104                      coffee data            0.005141\n",
       "448204                     jim katzaman            0.004269\n",
       "411128                     image author            0.004070\n",
       "533180                      medium link            0.003941\n",
       "103105                         business            0.003788\n",
       "948909                   via freepikcom            0.003770\n",
       "216874                    deep learning            0.003212\n",
       "480344                             like            0.003195\n",
       "959279                 warranty written            0.002724\n",
       "47065                      architecture            0.002653\n",
       "778555                          service            0.002507\n",
       "4401                       account earn            0.002445\n",
       "403028                      human daily            0.002366\n",
       "992355         wwwdatadriveninvestorcom            0.002234\n",
       "575124                    new technical            0.002212\n",
       "133641                             clap            0.002194\n",
       "41096                               app            0.002037"
      ]
     },
     "execution_count": 196,
     "metadata": {},
     "output_type": "execute_result"
    }
   ],
   "source": [
    "dict_features = {'feature_names': feature_names, 'feature_importance': gradient_boost_features}\n",
    "pd.DataFrame(dict_features).sort_values('feature_importance', ascending=False).head(30)\n"
   ]
  },
  {
   "cell_type": "markdown",
   "id": "994e561c",
   "metadata": {
    "ExecuteTime": {
     "end_time": "2022-06-15T15:48:55.287380Z",
     "start_time": "2022-06-15T15:48:55.250464Z"
    }
   },
   "source": [
    "Generally, importance provides a score that indicates how useful or valuable each feature was in the construction of the boosted decision trees within the model. The more an attribute is used to make key decisions with decision trees, the higher its relative importance."
   ]
  },
  {
   "cell_type": "markdown",
   "id": "a5f5e6f4",
   "metadata": {},
   "source": [
    "-----"
   ]
  }
 ],
 "metadata": {
  "kernelspec": {
   "display_name": "Python 3 (ipykernel)",
   "language": "python",
   "name": "python3"
  },
  "language_info": {
   "codemirror_mode": {
    "name": "ipython",
    "version": 3
   },
   "file_extension": ".py",
   "mimetype": "text/x-python",
   "name": "python",
   "nbconvert_exporter": "python",
   "pygments_lexer": "ipython3",
   "version": "3.9.7"
  },
  "toc": {
   "base_numbering": 1,
   "nav_menu": {},
   "number_sections": true,
   "sideBar": true,
   "skip_h1_title": false,
   "title_cell": "Table of Contents",
   "title_sidebar": "Contents",
   "toc_cell": false,
   "toc_position": {
    "height": "calc(100% - 180px)",
    "left": "10px",
    "top": "150px",
    "width": "262.094px"
   },
   "toc_section_display": true,
   "toc_window_display": true
  },
  "varInspector": {
   "cols": {
    "lenName": 16,
    "lenType": 16,
    "lenVar": 40
   },
   "kernels_config": {
    "python": {
     "delete_cmd_postfix": "",
     "delete_cmd_prefix": "del ",
     "library": "var_list.py",
     "varRefreshCmd": "print(var_dic_list())"
    },
    "r": {
     "delete_cmd_postfix": ") ",
     "delete_cmd_prefix": "rm(",
     "library": "var_list.r",
     "varRefreshCmd": "cat(var_dic_list()) "
    }
   },
   "types_to_exclude": [
    "module",
    "function",
    "builtin_function_or_method",
    "instance",
    "_Feature"
   ],
   "window_display": false
  }
 },
 "nbformat": 4,
 "nbformat_minor": 5
}
