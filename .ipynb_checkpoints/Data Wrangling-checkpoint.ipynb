{
 "cells": [
  {
   "cell_type": "markdown",
   "id": "2d8042e1",
   "metadata": {
    "heading_collapsed": true
   },
   "source": [
    "## First steps"
   ]
  },
  {
   "cell_type": "code",
   "execution_count": 1,
   "id": "3b4c242e",
   "metadata": {
    "ExecuteTime": {
     "end_time": "2022-06-10T06:04:47.360564Z",
     "start_time": "2022-06-10T06:04:46.215528Z"
    },
    "hidden": true
   },
   "outputs": [],
   "source": [
    "import os\n",
    "import glob\n",
    "\n",
    "import pandas as pd\n",
    "import numpy as np\n",
    "import re\n",
    "\n",
    "from textblob import TextBlob, Word\n",
    "from langdetect import detect"
   ]
  },
  {
   "cell_type": "code",
   "execution_count": 2,
   "id": "915129e8",
   "metadata": {
    "ExecuteTime": {
     "end_time": "2022-06-10T06:04:56.247506Z",
     "start_time": "2022-06-10T06:04:48.135765Z"
    },
    "hidden": true
   },
   "outputs": [],
   "source": [
    "# Get CSV files list from a folder\n",
    "path = os.getcwd()\n",
    "csv_files = glob.glob(path + \"/*.csv\")\n",
    "\n",
    "# Read each CSV file into DataFrame\n",
    "# This creates a list of dataframes\n",
    "df_list = (pd.read_csv(file, sep='\\t') for file in csv_files)\n",
    "\n",
    "# Concatenate all DataFrames\n",
    "df = pd.concat(df_list, ignore_index=True)"
   ]
  },
  {
   "cell_type": "markdown",
   "id": "06ecbf63",
   "metadata": {
    "hidden": true
   },
   "source": [
    "### Rename some columns"
   ]
  },
  {
   "cell_type": "code",
   "execution_count": 3,
   "id": "1d355645",
   "metadata": {
    "ExecuteTime": {
     "end_time": "2022-06-10T06:04:56.269156Z",
     "start_time": "2022-06-10T06:04:56.266773Z"
    },
    "hidden": true
   },
   "outputs": [],
   "source": [
    "df.columns = ['date', 'title', 'subtitle', 'claps', 'responses', 'author_handle',\n",
    "       'story_url', 'reading_time', 'text', 'author_followers',\n",
    "       'publication']"
   ]
  },
  {
   "cell_type": "markdown",
   "id": "2cce2543",
   "metadata": {
    "hidden": true
   },
   "source": [
    "------"
   ]
  },
  {
   "cell_type": "markdown",
   "id": "8ee4ccf0",
   "metadata": {
    "hidden": true
   },
   "source": [
    "------"
   ]
  },
  {
   "cell_type": "code",
   "execution_count": 6,
   "id": "f90f6dbc",
   "metadata": {
    "ExecuteTime": {
     "end_time": "2022-06-10T10:25:50.479168Z",
     "start_time": "2022-06-10T10:25:39.140121Z"
    },
    "hidden": true
   },
   "outputs": [],
   "source": [
    "df = pd.read_csv('raw_full_dataset.csv')"
   ]
  },
  {
   "cell_type": "markdown",
   "id": "24900d9b",
   "metadata": {
    "hidden": true
   },
   "source": [
    "### Dropping rows"
   ]
  },
  {
   "cell_type": "markdown",
   "id": "e04d1349",
   "metadata": {
    "hidden": true
   },
   "source": [
    "- There are some duplicate values in the dataset from articles that where posted multiple times and so these will be dropped.\n",
    "- Similarly articles without a story_url won't have text.\n",
    "- Finally I will drop author_followers with null values"
   ]
  },
  {
   "cell_type": "code",
   "execution_count": 7,
   "id": "e1a04f15",
   "metadata": {
    "ExecuteTime": {
     "end_time": "2022-06-10T10:25:54.248104Z",
     "start_time": "2022-06-10T10:25:53.684363Z"
    },
    "hidden": true
   },
   "outputs": [],
   "source": [
    "df.drop_duplicates(subset=['story_url'], inplace=True)\n",
    "df.drop_duplicates(subset=['title'], inplace=True)\n",
    "df = df[df.story_url != '-']\n",
    "df = df[df.author_followers != '-']\n",
    "\n",
    "df.reset_index(inplace=True, drop=True)"
   ]
  },
  {
   "cell_type": "code",
   "execution_count": 8,
   "id": "85c8fdb0",
   "metadata": {
    "ExecuteTime": {
     "end_time": "2022-06-10T10:25:55.275065Z",
     "start_time": "2022-06-10T10:25:55.250972Z"
    },
    "hidden": true
   },
   "outputs": [
    {
     "data": {
      "text/html": [
       "<div>\n",
       "<style scoped>\n",
       "    .dataframe tbody tr th:only-of-type {\n",
       "        vertical-align: middle;\n",
       "    }\n",
       "\n",
       "    .dataframe tbody tr th {\n",
       "        vertical-align: top;\n",
       "    }\n",
       "\n",
       "    .dataframe thead th {\n",
       "        text-align: right;\n",
       "    }\n",
       "</style>\n",
       "<table border=\"1\" class=\"dataframe\">\n",
       "  <thead>\n",
       "    <tr style=\"text-align: right;\">\n",
       "      <th></th>\n",
       "      <th>date</th>\n",
       "      <th>title</th>\n",
       "      <th>subtitle</th>\n",
       "      <th>claps</th>\n",
       "      <th>responses</th>\n",
       "      <th>author_handle</th>\n",
       "      <th>story_url</th>\n",
       "      <th>reading_time</th>\n",
       "      <th>text</th>\n",
       "      <th>author_followers</th>\n",
       "      <th>publication</th>\n",
       "    </tr>\n",
       "  </thead>\n",
       "  <tbody>\n",
       "    <tr>\n",
       "      <th>0</th>\n",
       "      <td>01/01/2020</td>\n",
       "      <td>Making Python Programs Blazingly Fast</td>\n",
       "      <td>Let’s look at the performance of our Python pr...</td>\n",
       "      <td>3.4K</td>\n",
       "      <td>3</td>\n",
       "      <td>https://towardsdatascience.com/@martin.heinz</td>\n",
       "      <td>https://towardsdatascience.com/making-python-p...</td>\n",
       "      <td>5</td>\n",
       "      <td>Making Python Programs Blazingly Fast\\n\\nLet’s...</td>\n",
       "      <td>3.8K</td>\n",
       "      <td>NaN</td>\n",
       "    </tr>\n",
       "    <tr>\n",
       "      <th>1</th>\n",
       "      <td>01/01/2020</td>\n",
       "      <td>Implementing a fully convolutional network (FC...</td>\n",
       "      <td>A tutorial on building, training and…</td>\n",
       "      <td>543</td>\n",
       "      <td>4</td>\n",
       "      <td>https://towardsdatascience.com/@himanshurawlani</td>\n",
       "      <td>https://towardsdatascience.com/implementing-a-...</td>\n",
       "      <td>11</td>\n",
       "      <td>Understanding and implementing a fully convolu...</td>\n",
       "      <td>331</td>\n",
       "      <td>NaN</td>\n",
       "    </tr>\n",
       "    <tr>\n",
       "      <th>2</th>\n",
       "      <td>01/01/2020</td>\n",
       "      <td>6 New Features in Python 3.8 for Python Newbies</td>\n",
       "      <td>Python Beginner</td>\n",
       "      <td>1.8K</td>\n",
       "      <td>4</td>\n",
       "      <td>https://towardsdatascience.com/@edenau</td>\n",
       "      <td>https://towardsdatascience.com/6-new-features-...</td>\n",
       "      <td>4</td>\n",
       "      <td>Python Beginner 6 New Features in Python 3.8 f...</td>\n",
       "      <td>1.7K</td>\n",
       "      <td>NaN</td>\n",
       "    </tr>\n",
       "    <tr>\n",
       "      <th>3</th>\n",
       "      <td>01/01/2020</td>\n",
       "      <td>How to be fancy with Python</td>\n",
       "      <td>Python tricks that will make your life easier</td>\n",
       "      <td>1.7K</td>\n",
       "      <td>12</td>\n",
       "      <td>https://towardsdatascience.com/@dipam44</td>\n",
       "      <td>https://towardsdatascience.com/how-to-be-fancy...</td>\n",
       "      <td>5</td>\n",
       "      <td>How to be fancy with Python\\n\\nPython is cool....</td>\n",
       "      <td>625</td>\n",
       "      <td>NaN</td>\n",
       "    </tr>\n",
       "    <tr>\n",
       "      <th>4</th>\n",
       "      <td>01/01/2020</td>\n",
       "      <td>From scratch to search: playing with your data...</td>\n",
       "      <td>One Pipeline to rule…</td>\n",
       "      <td>239</td>\n",
       "      <td>1</td>\n",
       "      <td>https://towardsdatascience.com/@stanislavprihoda</td>\n",
       "      <td>https://towardsdatascience.com/from-scratch-to...</td>\n",
       "      <td>9</td>\n",
       "      <td>From scratch to search: playing with your data...</td>\n",
       "      <td>88</td>\n",
       "      <td>NaN</td>\n",
       "    </tr>\n",
       "  </tbody>\n",
       "</table>\n",
       "</div>"
      ],
      "text/plain": [
       "         date                                              title  \\\n",
       "0  01/01/2020              Making Python Programs Blazingly Fast   \n",
       "1  01/01/2020  Implementing a fully convolutional network (FC...   \n",
       "2  01/01/2020    6 New Features in Python 3.8 for Python Newbies   \n",
       "3  01/01/2020                        How to be fancy with Python   \n",
       "4  01/01/2020  From scratch to search: playing with your data...   \n",
       "\n",
       "                                            subtitle claps  responses  \\\n",
       "0  Let’s look at the performance of our Python pr...  3.4K          3   \n",
       "1              A tutorial on building, training and…   543          4   \n",
       "2                                    Python Beginner  1.8K          4   \n",
       "3      Python tricks that will make your life easier  1.7K         12   \n",
       "4                              One Pipeline to rule…   239          1   \n",
       "\n",
       "                                      author_handle  \\\n",
       "0      https://towardsdatascience.com/@martin.heinz   \n",
       "1   https://towardsdatascience.com/@himanshurawlani   \n",
       "2            https://towardsdatascience.com/@edenau   \n",
       "3           https://towardsdatascience.com/@dipam44   \n",
       "4  https://towardsdatascience.com/@stanislavprihoda   \n",
       "\n",
       "                                           story_url  reading_time  \\\n",
       "0  https://towardsdatascience.com/making-python-p...             5   \n",
       "1  https://towardsdatascience.com/implementing-a-...            11   \n",
       "2  https://towardsdatascience.com/6-new-features-...             4   \n",
       "3  https://towardsdatascience.com/how-to-be-fancy...             5   \n",
       "4  https://towardsdatascience.com/from-scratch-to...             9   \n",
       "\n",
       "                                                text author_followers  \\\n",
       "0  Making Python Programs Blazingly Fast\\n\\nLet’s...             3.8K   \n",
       "1  Understanding and implementing a fully convolu...              331   \n",
       "2  Python Beginner 6 New Features in Python 3.8 f...             1.7K   \n",
       "3  How to be fancy with Python\\n\\nPython is cool....              625   \n",
       "4  From scratch to search: playing with your data...               88   \n",
       "\n",
       "  publication  \n",
       "0         NaN  \n",
       "1         NaN  \n",
       "2         NaN  \n",
       "3         NaN  \n",
       "4         NaN  "
      ]
     },
     "execution_count": 8,
     "metadata": {},
     "output_type": "execute_result"
    }
   ],
   "source": [
    "df.head()"
   ]
  },
  {
   "cell_type": "markdown",
   "id": "4d03be13",
   "metadata": {
    "hidden": true
   },
   "source": [
    "-------"
   ]
  },
  {
   "cell_type": "markdown",
   "id": "7c3ea0bc",
   "metadata": {
    "hidden": true
   },
   "source": [
    "### Adding the towards data science publications for all Null values as I still hadn't incorporated it to my scraper then."
   ]
  },
  {
   "cell_type": "code",
   "execution_count": 9,
   "id": "cb7e85a3",
   "metadata": {
    "ExecuteTime": {
     "end_time": "2022-06-10T10:26:00.475366Z",
     "start_time": "2022-06-10T10:26:00.469108Z"
    },
    "hidden": true
   },
   "outputs": [],
   "source": [
    "df['publication'].fillna('towardsdatascience', inplace=True)"
   ]
  },
  {
   "cell_type": "markdown",
   "id": "8503e8ff",
   "metadata": {
    "hidden": true
   },
   "source": [
    "I also want to add the amount of followers each publication has, which my scraper didn't include, however since I will be dropping some publications entirely, I will do that further down the line."
   ]
  },
  {
   "cell_type": "markdown",
   "id": "610197ff",
   "metadata": {
    "hidden": true
   },
   "source": [
    "---------"
   ]
  },
  {
   "cell_type": "markdown",
   "id": "a8b68fa2",
   "metadata": {
    "heading_collapsed": true
   },
   "source": [
    "## Transforming claps and followers column to integers"
   ]
  },
  {
   "cell_type": "markdown",
   "id": "15d859d4",
   "metadata": {
    "hidden": true
   },
   "source": [
    "Cleaning author column first"
   ]
  },
  {
   "cell_type": "code",
   "execution_count": 10,
   "id": "507f6217",
   "metadata": {
    "ExecuteTime": {
     "end_time": "2022-06-10T10:26:09.537343Z",
     "start_time": "2022-06-10T10:26:09.500179Z"
    },
    "hidden": true
   },
   "outputs": [
    {
     "data": {
      "text/plain": [
       "10593     218 Followers\n",
       "10594     135 Followers\n",
       "10595     677 Followers\n",
       "10596     945 Followers\n",
       "10597    1.1K Followers\n",
       "Name: author_followers, dtype: object"
      ]
     },
     "execution_count": 10,
     "metadata": {},
     "output_type": "execute_result"
    }
   ],
   "source": [
    "df[df.author_followers.str.contains('Followers')]['author_followers'].head()"
   ]
  },
  {
   "cell_type": "code",
   "execution_count": 11,
   "id": "a744b8d9",
   "metadata": {
    "ExecuteTime": {
     "end_time": "2022-06-10T10:26:10.162595Z",
     "start_time": "2022-06-10T10:26:10.144428Z"
    },
    "hidden": true
   },
   "outputs": [],
   "source": [
    "df.author_followers = df.author_followers.apply(lambda x: x.replace(' Followers', ''))      "
   ]
  },
  {
   "cell_type": "code",
   "execution_count": 12,
   "id": "3465c86b",
   "metadata": {
    "ExecuteTime": {
     "end_time": "2022-06-10T10:26:10.354118Z",
     "start_time": "2022-06-10T10:26:10.352027Z"
    },
    "hidden": true
   },
   "outputs": [],
   "source": [
    "def clean_integers(x):\n",
    "    try:\n",
    "        return float(x)\n",
    "    \n",
    "    except:\n",
    "        x = float(x.replace('K', ''))\n",
    "        \n",
    "        return x*1000"
   ]
  },
  {
   "cell_type": "code",
   "execution_count": 13,
   "id": "9dda9d5a",
   "metadata": {
    "ExecuteTime": {
     "end_time": "2022-06-10T10:26:10.732689Z",
     "start_time": "2022-06-10T10:26:10.671427Z"
    },
    "hidden": true,
    "scrolled": true
   },
   "outputs": [],
   "source": [
    "df.claps = df.claps.apply(clean_integers)\n",
    "df.author_followers = df.author_followers.apply(clean_integers)"
   ]
  },
  {
   "cell_type": "code",
   "execution_count": 14,
   "id": "1f7de4a8",
   "metadata": {
    "ExecuteTime": {
     "end_time": "2022-06-10T10:26:11.008942Z",
     "start_time": "2022-06-10T10:26:10.937308Z"
    },
    "hidden": true
   },
   "outputs": [
    {
     "name": "stdout",
     "output_type": "stream",
     "text": [
      "<class 'pandas.core.frame.DataFrame'>\n",
      "RangeIndex: 76364 entries, 0 to 76363\n",
      "Data columns (total 11 columns):\n",
      " #   Column            Non-Null Count  Dtype  \n",
      "---  ------            --------------  -----  \n",
      " 0   date              76364 non-null  object \n",
      " 1   title             76363 non-null  object \n",
      " 2   subtitle          76364 non-null  object \n",
      " 3   claps             76364 non-null  float64\n",
      " 4   responses         76364 non-null  int64  \n",
      " 5   author_handle     76364 non-null  object \n",
      " 6   story_url         76364 non-null  object \n",
      " 7   reading_time      76364 non-null  int64  \n",
      " 8   text              76361 non-null  object \n",
      " 9   author_followers  76364 non-null  float64\n",
      " 10  publication       76364 non-null  object \n",
      "dtypes: float64(2), int64(2), object(7)\n",
      "memory usage: 6.4+ MB\n"
     ]
    }
   ],
   "source": [
    "df.info()"
   ]
  },
  {
   "cell_type": "markdown",
   "id": "63d70c8a",
   "metadata": {
    "hidden": true
   },
   "source": [
    "-----"
   ]
  },
  {
   "cell_type": "markdown",
   "id": "4f395189",
   "metadata": {
    "heading_collapsed": true
   },
   "source": [
    "## Extracting author handle from author URL"
   ]
  },
  {
   "cell_type": "code",
   "execution_count": 15,
   "id": "475e36f0",
   "metadata": {
    "ExecuteTime": {
     "end_time": "2022-06-10T10:26:12.052616Z",
     "start_time": "2022-06-10T10:26:12.049755Z"
    },
    "hidden": true
   },
   "outputs": [
    {
     "data": {
      "text/plain": [
       "'https://towardsdatascience.com/@himanshurawlani'"
      ]
     },
     "execution_count": 15,
     "metadata": {},
     "output_type": "execute_result"
    }
   ],
   "source": [
    "df.author_handle[1]"
   ]
  },
  {
   "cell_type": "code",
   "execution_count": 16,
   "id": "b81d4fa8",
   "metadata": {
    "ExecuteTime": {
     "end_time": "2022-06-10T10:26:12.905363Z",
     "start_time": "2022-06-10T10:26:12.903200Z"
    },
    "hidden": true
   },
   "outputs": [],
   "source": [
    "def extract_author(x):\n",
    "    pattern = re.compile(r'(@.+)')\n",
    "    result = re.findall(pattern, str(x))\n",
    "    str_result = ''.join(result)\n",
    "    return str_result"
   ]
  },
  {
   "cell_type": "code",
   "execution_count": 17,
   "id": "54362ac3",
   "metadata": {
    "ExecuteTime": {
     "end_time": "2022-06-10T10:26:13.292548Z",
     "start_time": "2022-06-10T10:26:13.169546Z"
    },
    "hidden": true
   },
   "outputs": [],
   "source": [
    "df.author_handle = df.author_handle.apply(extract_author)"
   ]
  },
  {
   "cell_type": "code",
   "execution_count": 18,
   "id": "f1e39801",
   "metadata": {
    "ExecuteTime": {
     "end_time": "2022-06-10T10:26:14.137683Z",
     "start_time": "2022-06-10T10:26:14.129950Z"
    },
    "hidden": true
   },
   "outputs": [
    {
     "data": {
      "text/html": [
       "<div>\n",
       "<style scoped>\n",
       "    .dataframe tbody tr th:only-of-type {\n",
       "        vertical-align: middle;\n",
       "    }\n",
       "\n",
       "    .dataframe tbody tr th {\n",
       "        vertical-align: top;\n",
       "    }\n",
       "\n",
       "    .dataframe thead th {\n",
       "        text-align: right;\n",
       "    }\n",
       "</style>\n",
       "<table border=\"1\" class=\"dataframe\">\n",
       "  <thead>\n",
       "    <tr style=\"text-align: right;\">\n",
       "      <th></th>\n",
       "      <th>date</th>\n",
       "      <th>title</th>\n",
       "      <th>subtitle</th>\n",
       "      <th>claps</th>\n",
       "      <th>responses</th>\n",
       "      <th>author_handle</th>\n",
       "      <th>story_url</th>\n",
       "      <th>reading_time</th>\n",
       "      <th>text</th>\n",
       "      <th>author_followers</th>\n",
       "      <th>publication</th>\n",
       "    </tr>\n",
       "  </thead>\n",
       "  <tbody>\n",
       "    <tr>\n",
       "      <th>0</th>\n",
       "      <td>01/01/2020</td>\n",
       "      <td>Making Python Programs Blazingly Fast</td>\n",
       "      <td>Let’s look at the performance of our Python pr...</td>\n",
       "      <td>3400.0</td>\n",
       "      <td>3</td>\n",
       "      <td>@martin.heinz</td>\n",
       "      <td>https://towardsdatascience.com/making-python-p...</td>\n",
       "      <td>5</td>\n",
       "      <td>Making Python Programs Blazingly Fast\\n\\nLet’s...</td>\n",
       "      <td>3800.0</td>\n",
       "      <td>towardsdatascience</td>\n",
       "    </tr>\n",
       "    <tr>\n",
       "      <th>1</th>\n",
       "      <td>01/01/2020</td>\n",
       "      <td>Implementing a fully convolutional network (FC...</td>\n",
       "      <td>A tutorial on building, training and…</td>\n",
       "      <td>543.0</td>\n",
       "      <td>4</td>\n",
       "      <td>@himanshurawlani</td>\n",
       "      <td>https://towardsdatascience.com/implementing-a-...</td>\n",
       "      <td>11</td>\n",
       "      <td>Understanding and implementing a fully convolu...</td>\n",
       "      <td>331.0</td>\n",
       "      <td>towardsdatascience</td>\n",
       "    </tr>\n",
       "    <tr>\n",
       "      <th>2</th>\n",
       "      <td>01/01/2020</td>\n",
       "      <td>6 New Features in Python 3.8 for Python Newbies</td>\n",
       "      <td>Python Beginner</td>\n",
       "      <td>1800.0</td>\n",
       "      <td>4</td>\n",
       "      <td>@edenau</td>\n",
       "      <td>https://towardsdatascience.com/6-new-features-...</td>\n",
       "      <td>4</td>\n",
       "      <td>Python Beginner 6 New Features in Python 3.8 f...</td>\n",
       "      <td>1700.0</td>\n",
       "      <td>towardsdatascience</td>\n",
       "    </tr>\n",
       "    <tr>\n",
       "      <th>3</th>\n",
       "      <td>01/01/2020</td>\n",
       "      <td>How to be fancy with Python</td>\n",
       "      <td>Python tricks that will make your life easier</td>\n",
       "      <td>1700.0</td>\n",
       "      <td>12</td>\n",
       "      <td>@dipam44</td>\n",
       "      <td>https://towardsdatascience.com/how-to-be-fancy...</td>\n",
       "      <td>5</td>\n",
       "      <td>How to be fancy with Python\\n\\nPython is cool....</td>\n",
       "      <td>625.0</td>\n",
       "      <td>towardsdatascience</td>\n",
       "    </tr>\n",
       "    <tr>\n",
       "      <th>4</th>\n",
       "      <td>01/01/2020</td>\n",
       "      <td>From scratch to search: playing with your data...</td>\n",
       "      <td>One Pipeline to rule…</td>\n",
       "      <td>239.0</td>\n",
       "      <td>1</td>\n",
       "      <td>@stanislavprihoda</td>\n",
       "      <td>https://towardsdatascience.com/from-scratch-to...</td>\n",
       "      <td>9</td>\n",
       "      <td>From scratch to search: playing with your data...</td>\n",
       "      <td>88.0</td>\n",
       "      <td>towardsdatascience</td>\n",
       "    </tr>\n",
       "  </tbody>\n",
       "</table>\n",
       "</div>"
      ],
      "text/plain": [
       "         date                                              title  \\\n",
       "0  01/01/2020              Making Python Programs Blazingly Fast   \n",
       "1  01/01/2020  Implementing a fully convolutional network (FC...   \n",
       "2  01/01/2020    6 New Features in Python 3.8 for Python Newbies   \n",
       "3  01/01/2020                        How to be fancy with Python   \n",
       "4  01/01/2020  From scratch to search: playing with your data...   \n",
       "\n",
       "                                            subtitle   claps  responses  \\\n",
       "0  Let’s look at the performance of our Python pr...  3400.0          3   \n",
       "1              A tutorial on building, training and…   543.0          4   \n",
       "2                                    Python Beginner  1800.0          4   \n",
       "3      Python tricks that will make your life easier  1700.0         12   \n",
       "4                              One Pipeline to rule…   239.0          1   \n",
       "\n",
       "       author_handle                                          story_url  \\\n",
       "0      @martin.heinz  https://towardsdatascience.com/making-python-p...   \n",
       "1   @himanshurawlani  https://towardsdatascience.com/implementing-a-...   \n",
       "2            @edenau  https://towardsdatascience.com/6-new-features-...   \n",
       "3           @dipam44  https://towardsdatascience.com/how-to-be-fancy...   \n",
       "4  @stanislavprihoda  https://towardsdatascience.com/from-scratch-to...   \n",
       "\n",
       "   reading_time                                               text  \\\n",
       "0             5  Making Python Programs Blazingly Fast\\n\\nLet’s...   \n",
       "1            11  Understanding and implementing a fully convolu...   \n",
       "2             4  Python Beginner 6 New Features in Python 3.8 f...   \n",
       "3             5  How to be fancy with Python\\n\\nPython is cool....   \n",
       "4             9  From scratch to search: playing with your data...   \n",
       "\n",
       "   author_followers         publication  \n",
       "0            3800.0  towardsdatascience  \n",
       "1             331.0  towardsdatascience  \n",
       "2            1700.0  towardsdatascience  \n",
       "3             625.0  towardsdatascience  \n",
       "4              88.0  towardsdatascience  "
      ]
     },
     "execution_count": 18,
     "metadata": {},
     "output_type": "execute_result"
    }
   ],
   "source": [
    "df.head()"
   ]
  },
  {
   "cell_type": "code",
   "execution_count": 19,
   "id": "9f6b6dfc",
   "metadata": {
    "ExecuteTime": {
     "end_time": "2022-06-10T10:26:14.597088Z",
     "start_time": "2022-06-10T10:26:14.529115Z"
    },
    "hidden": true
   },
   "outputs": [
    {
     "name": "stdout",
     "output_type": "stream",
     "text": [
      "<class 'pandas.core.frame.DataFrame'>\n",
      "RangeIndex: 76364 entries, 0 to 76363\n",
      "Data columns (total 11 columns):\n",
      " #   Column            Non-Null Count  Dtype  \n",
      "---  ------            --------------  -----  \n",
      " 0   date              76364 non-null  object \n",
      " 1   title             76363 non-null  object \n",
      " 2   subtitle          76364 non-null  object \n",
      " 3   claps             76364 non-null  float64\n",
      " 4   responses         76364 non-null  int64  \n",
      " 5   author_handle     76364 non-null  object \n",
      " 6   story_url         76364 non-null  object \n",
      " 7   reading_time      76364 non-null  int64  \n",
      " 8   text              76361 non-null  object \n",
      " 9   author_followers  76364 non-null  float64\n",
      " 10  publication       76364 non-null  object \n",
      "dtypes: float64(2), int64(2), object(7)\n",
      "memory usage: 6.4+ MB\n"
     ]
    }
   ],
   "source": [
    "df.info()"
   ]
  },
  {
   "cell_type": "markdown",
   "id": "8b6b3528",
   "metadata": {
    "hidden": true
   },
   "source": [
    "-------"
   ]
  },
  {
   "cell_type": "markdown",
   "id": "e0f490a2",
   "metadata": {
    "heading_collapsed": true
   },
   "source": [
    "## Creating length of text column to filter out articles that weren't properly scraped due to the paywall"
   ]
  },
  {
   "cell_type": "code",
   "execution_count": 20,
   "id": "67104422",
   "metadata": {
    "ExecuteTime": {
     "end_time": "2022-06-10T10:26:23.982420Z",
     "start_time": "2022-06-10T10:26:18.042467Z"
    },
    "hidden": true
   },
   "outputs": [],
   "source": [
    "df['number_of_words'] = df.text.apply(lambda x: len(str(x).split()))\n",
    "df['number_of_characters'] = df.text.apply(lambda x: len(str(x)))"
   ]
  },
  {
   "cell_type": "code",
   "execution_count": 21,
   "id": "639b5335",
   "metadata": {
    "ExecuteTime": {
     "end_time": "2022-06-10T10:26:24.134600Z",
     "start_time": "2022-06-10T10:26:24.005642Z"
    },
    "hidden": true
   },
   "outputs": [
    {
     "name": "stdout",
     "output_type": "stream",
     "text": [
      "<class 'pandas.core.frame.DataFrame'>\n",
      "RangeIndex: 69200 entries, 0 to 69199\n",
      "Data columns (total 13 columns):\n",
      " #   Column                Non-Null Count  Dtype  \n",
      "---  ------                --------------  -----  \n",
      " 0   date                  69200 non-null  object \n",
      " 1   title                 69200 non-null  object \n",
      " 2   subtitle              69200 non-null  object \n",
      " 3   claps                 69200 non-null  float64\n",
      " 4   responses             69200 non-null  int64  \n",
      " 5   author_handle         69200 non-null  object \n",
      " 6   story_url             69200 non-null  object \n",
      " 7   reading_time          69200 non-null  int64  \n",
      " 8   text                  69200 non-null  object \n",
      " 9   author_followers      69200 non-null  float64\n",
      " 10  publication           69200 non-null  object \n",
      " 11  number_of_words       69200 non-null  int64  \n",
      " 12  number_of_characters  69200 non-null  int64  \n",
      "dtypes: float64(2), int64(4), object(7)\n",
      "memory usage: 6.9+ MB\n"
     ]
    }
   ],
   "source": [
    "df = df[df.number_of_words > 200]\n",
    "df = df[~df.title.isna()]\n",
    "df.reset_index(inplace=True, drop=True)\n",
    "df.info()"
   ]
  },
  {
   "cell_type": "markdown",
   "id": "6cd421f6",
   "metadata": {
    "hidden": true
   },
   "source": [
    "-------"
   ]
  },
  {
   "cell_type": "markdown",
   "id": "72fd53b6",
   "metadata": {
    "heading_collapsed": true
   },
   "source": [
    "## Creating datetime object and extracting day of week and month"
   ]
  },
  {
   "cell_type": "code",
   "execution_count": 22,
   "id": "4f884b7b",
   "metadata": {
    "ExecuteTime": {
     "end_time": "2022-06-10T10:26:25.105228Z",
     "start_time": "2022-06-10T10:26:24.151926Z"
    },
    "hidden": true
   },
   "outputs": [
    {
     "name": "stderr",
     "output_type": "stream",
     "text": [
      "/Users/ariklevy/opt/anaconda3/envs/firstEnv/lib/python3.10/site-packages/pandas/core/tools/datetimes.py:1047: UserWarning: Parsing '13/01/2020' in DD/MM/YYYY format. Provide format or specify infer_datetime_format=True for consistent parsing.\n",
      "  cache_array = _maybe_cache(arg, format, cache, convert_listlike)\n",
      "/Users/ariklevy/opt/anaconda3/envs/firstEnv/lib/python3.10/site-packages/pandas/core/tools/datetimes.py:1047: UserWarning: Parsing '14/01/2020' in DD/MM/YYYY format. Provide format or specify infer_datetime_format=True for consistent parsing.\n",
      "  cache_array = _maybe_cache(arg, format, cache, convert_listlike)\n",
      "/Users/ariklevy/opt/anaconda3/envs/firstEnv/lib/python3.10/site-packages/pandas/core/tools/datetimes.py:1047: UserWarning: Parsing '15/01/2020' in DD/MM/YYYY format. Provide format or specify infer_datetime_format=True for consistent parsing.\n",
      "  cache_array = _maybe_cache(arg, format, cache, convert_listlike)\n",
      "/Users/ariklevy/opt/anaconda3/envs/firstEnv/lib/python3.10/site-packages/pandas/core/tools/datetimes.py:1047: UserWarning: Parsing '16/01/2020' in DD/MM/YYYY format. Provide format or specify infer_datetime_format=True for consistent parsing.\n",
      "  cache_array = _maybe_cache(arg, format, cache, convert_listlike)\n",
      "/Users/ariklevy/opt/anaconda3/envs/firstEnv/lib/python3.10/site-packages/pandas/core/tools/datetimes.py:1047: UserWarning: Parsing '17/01/2020' in DD/MM/YYYY format. Provide format or specify infer_datetime_format=True for consistent parsing.\n",
      "  cache_array = _maybe_cache(arg, format, cache, convert_listlike)\n",
      "/Users/ariklevy/opt/anaconda3/envs/firstEnv/lib/python3.10/site-packages/pandas/core/tools/datetimes.py:1047: UserWarning: Parsing '18/01/2020' in DD/MM/YYYY format. Provide format or specify infer_datetime_format=True for consistent parsing.\n",
      "  cache_array = _maybe_cache(arg, format, cache, convert_listlike)\n",
      "/Users/ariklevy/opt/anaconda3/envs/firstEnv/lib/python3.10/site-packages/pandas/core/tools/datetimes.py:1047: UserWarning: Parsing '19/01/2020' in DD/MM/YYYY format. Provide format or specify infer_datetime_format=True for consistent parsing.\n",
      "  cache_array = _maybe_cache(arg, format, cache, convert_listlike)\n",
      "/Users/ariklevy/opt/anaconda3/envs/firstEnv/lib/python3.10/site-packages/pandas/core/tools/datetimes.py:1047: UserWarning: Parsing '20/01/2020' in DD/MM/YYYY format. Provide format or specify infer_datetime_format=True for consistent parsing.\n",
      "  cache_array = _maybe_cache(arg, format, cache, convert_listlike)\n",
      "/Users/ariklevy/opt/anaconda3/envs/firstEnv/lib/python3.10/site-packages/pandas/core/tools/datetimes.py:1047: UserWarning: Parsing '21/01/2020' in DD/MM/YYYY format. Provide format or specify infer_datetime_format=True for consistent parsing.\n",
      "  cache_array = _maybe_cache(arg, format, cache, convert_listlike)\n",
      "/Users/ariklevy/opt/anaconda3/envs/firstEnv/lib/python3.10/site-packages/pandas/core/tools/datetimes.py:1047: UserWarning: Parsing '22/01/2020' in DD/MM/YYYY format. Provide format or specify infer_datetime_format=True for consistent parsing.\n",
      "  cache_array = _maybe_cache(arg, format, cache, convert_listlike)\n",
      "/Users/ariklevy/opt/anaconda3/envs/firstEnv/lib/python3.10/site-packages/pandas/core/tools/datetimes.py:1047: UserWarning: Parsing '23/01/2020' in DD/MM/YYYY format. Provide format or specify infer_datetime_format=True for consistent parsing.\n",
      "  cache_array = _maybe_cache(arg, format, cache, convert_listlike)\n",
      "/Users/ariklevy/opt/anaconda3/envs/firstEnv/lib/python3.10/site-packages/pandas/core/tools/datetimes.py:1047: UserWarning: Parsing '24/01/2020' in DD/MM/YYYY format. Provide format or specify infer_datetime_format=True for consistent parsing.\n",
      "  cache_array = _maybe_cache(arg, format, cache, convert_listlike)\n",
      "/Users/ariklevy/opt/anaconda3/envs/firstEnv/lib/python3.10/site-packages/pandas/core/tools/datetimes.py:1047: UserWarning: Parsing '25/01/2020' in DD/MM/YYYY format. Provide format or specify infer_datetime_format=True for consistent parsing.\n",
      "  cache_array = _maybe_cache(arg, format, cache, convert_listlike)\n",
      "/Users/ariklevy/opt/anaconda3/envs/firstEnv/lib/python3.10/site-packages/pandas/core/tools/datetimes.py:1047: UserWarning: Parsing '26/01/2020' in DD/MM/YYYY format. Provide format or specify infer_datetime_format=True for consistent parsing.\n",
      "  cache_array = _maybe_cache(arg, format, cache, convert_listlike)\n",
      "/Users/ariklevy/opt/anaconda3/envs/firstEnv/lib/python3.10/site-packages/pandas/core/tools/datetimes.py:1047: UserWarning: Parsing '27/01/2020' in DD/MM/YYYY format. Provide format or specify infer_datetime_format=True for consistent parsing.\n",
      "  cache_array = _maybe_cache(arg, format, cache, convert_listlike)\n",
      "/Users/ariklevy/opt/anaconda3/envs/firstEnv/lib/python3.10/site-packages/pandas/core/tools/datetimes.py:1047: UserWarning: Parsing '28/01/2020' in DD/MM/YYYY format. Provide format or specify infer_datetime_format=True for consistent parsing.\n",
      "  cache_array = _maybe_cache(arg, format, cache, convert_listlike)\n",
      "/Users/ariklevy/opt/anaconda3/envs/firstEnv/lib/python3.10/site-packages/pandas/core/tools/datetimes.py:1047: UserWarning: Parsing '29/01/2020' in DD/MM/YYYY format. Provide format or specify infer_datetime_format=True for consistent parsing.\n",
      "  cache_array = _maybe_cache(arg, format, cache, convert_listlike)\n",
      "/Users/ariklevy/opt/anaconda3/envs/firstEnv/lib/python3.10/site-packages/pandas/core/tools/datetimes.py:1047: UserWarning: Parsing '30/01/2020' in DD/MM/YYYY format. Provide format or specify infer_datetime_format=True for consistent parsing.\n",
      "  cache_array = _maybe_cache(arg, format, cache, convert_listlike)\n",
      "/Users/ariklevy/opt/anaconda3/envs/firstEnv/lib/python3.10/site-packages/pandas/core/tools/datetimes.py:1047: UserWarning: Parsing '31/01/2020' in DD/MM/YYYY format. Provide format or specify infer_datetime_format=True for consistent parsing.\n",
      "  cache_array = _maybe_cache(arg, format, cache, convert_listlike)\n",
      "/Users/ariklevy/opt/anaconda3/envs/firstEnv/lib/python3.10/site-packages/pandas/core/tools/datetimes.py:1047: UserWarning: Parsing '13/02/2021' in DD/MM/YYYY format. Provide format or specify infer_datetime_format=True for consistent parsing.\n",
      "  cache_array = _maybe_cache(arg, format, cache, convert_listlike)\n",
      "/Users/ariklevy/opt/anaconda3/envs/firstEnv/lib/python3.10/site-packages/pandas/core/tools/datetimes.py:1047: UserWarning: Parsing '14/02/2021' in DD/MM/YYYY format. Provide format or specify infer_datetime_format=True for consistent parsing.\n",
      "  cache_array = _maybe_cache(arg, format, cache, convert_listlike)\n",
      "/Users/ariklevy/opt/anaconda3/envs/firstEnv/lib/python3.10/site-packages/pandas/core/tools/datetimes.py:1047: UserWarning: Parsing '15/02/2021' in DD/MM/YYYY format. Provide format or specify infer_datetime_format=True for consistent parsing.\n",
      "  cache_array = _maybe_cache(arg, format, cache, convert_listlike)\n",
      "/Users/ariklevy/opt/anaconda3/envs/firstEnv/lib/python3.10/site-packages/pandas/core/tools/datetimes.py:1047: UserWarning: Parsing '16/02/2021' in DD/MM/YYYY format. Provide format or specify infer_datetime_format=True for consistent parsing.\n",
      "  cache_array = _maybe_cache(arg, format, cache, convert_listlike)\n",
      "/Users/ariklevy/opt/anaconda3/envs/firstEnv/lib/python3.10/site-packages/pandas/core/tools/datetimes.py:1047: UserWarning: Parsing '17/02/2021' in DD/MM/YYYY format. Provide format or specify infer_datetime_format=True for consistent parsing.\n",
      "  cache_array = _maybe_cache(arg, format, cache, convert_listlike)\n",
      "/Users/ariklevy/opt/anaconda3/envs/firstEnv/lib/python3.10/site-packages/pandas/core/tools/datetimes.py:1047: UserWarning: Parsing '18/02/2021' in DD/MM/YYYY format. Provide format or specify infer_datetime_format=True for consistent parsing.\n",
      "  cache_array = _maybe_cache(arg, format, cache, convert_listlike)\n",
      "/Users/ariklevy/opt/anaconda3/envs/firstEnv/lib/python3.10/site-packages/pandas/core/tools/datetimes.py:1047: UserWarning: Parsing '19/02/2021' in DD/MM/YYYY format. Provide format or specify infer_datetime_format=True for consistent parsing.\n",
      "  cache_array = _maybe_cache(arg, format, cache, convert_listlike)\n",
      "/Users/ariklevy/opt/anaconda3/envs/firstEnv/lib/python3.10/site-packages/pandas/core/tools/datetimes.py:1047: UserWarning: Parsing '20/02/2021' in DD/MM/YYYY format. Provide format or specify infer_datetime_format=True for consistent parsing.\n",
      "  cache_array = _maybe_cache(arg, format, cache, convert_listlike)\n",
      "/Users/ariklevy/opt/anaconda3/envs/firstEnv/lib/python3.10/site-packages/pandas/core/tools/datetimes.py:1047: UserWarning: Parsing '21/02/2021' in DD/MM/YYYY format. Provide format or specify infer_datetime_format=True for consistent parsing.\n",
      "  cache_array = _maybe_cache(arg, format, cache, convert_listlike)\n",
      "/Users/ariklevy/opt/anaconda3/envs/firstEnv/lib/python3.10/site-packages/pandas/core/tools/datetimes.py:1047: UserWarning: Parsing '22/02/2021' in DD/MM/YYYY format. Provide format or specify infer_datetime_format=True for consistent parsing.\n",
      "  cache_array = _maybe_cache(arg, format, cache, convert_listlike)\n",
      "/Users/ariklevy/opt/anaconda3/envs/firstEnv/lib/python3.10/site-packages/pandas/core/tools/datetimes.py:1047: UserWarning: Parsing '23/02/2021' in DD/MM/YYYY format. Provide format or specify infer_datetime_format=True for consistent parsing.\n",
      "  cache_array = _maybe_cache(arg, format, cache, convert_listlike)\n",
      "/Users/ariklevy/opt/anaconda3/envs/firstEnv/lib/python3.10/site-packages/pandas/core/tools/datetimes.py:1047: UserWarning: Parsing '24/02/2021' in DD/MM/YYYY format. Provide format or specify infer_datetime_format=True for consistent parsing.\n",
      "  cache_array = _maybe_cache(arg, format, cache, convert_listlike)\n",
      "/Users/ariklevy/opt/anaconda3/envs/firstEnv/lib/python3.10/site-packages/pandas/core/tools/datetimes.py:1047: UserWarning: Parsing '25/02/2021' in DD/MM/YYYY format. Provide format or specify infer_datetime_format=True for consistent parsing.\n",
      "  cache_array = _maybe_cache(arg, format, cache, convert_listlike)\n",
      "/Users/ariklevy/opt/anaconda3/envs/firstEnv/lib/python3.10/site-packages/pandas/core/tools/datetimes.py:1047: UserWarning: Parsing '26/02/2021' in DD/MM/YYYY format. Provide format or specify infer_datetime_format=True for consistent parsing.\n",
      "  cache_array = _maybe_cache(arg, format, cache, convert_listlike)\n",
      "/Users/ariklevy/opt/anaconda3/envs/firstEnv/lib/python3.10/site-packages/pandas/core/tools/datetimes.py:1047: UserWarning: Parsing '27/02/2021' in DD/MM/YYYY format. Provide format or specify infer_datetime_format=True for consistent parsing.\n",
      "  cache_array = _maybe_cache(arg, format, cache, convert_listlike)\n",
      "/Users/ariklevy/opt/anaconda3/envs/firstEnv/lib/python3.10/site-packages/pandas/core/tools/datetimes.py:1047: UserWarning: Parsing '28/02/2021' in DD/MM/YYYY format. Provide format or specify infer_datetime_format=True for consistent parsing.\n",
      "  cache_array = _maybe_cache(arg, format, cache, convert_listlike)\n",
      "/Users/ariklevy/opt/anaconda3/envs/firstEnv/lib/python3.10/site-packages/pandas/core/tools/datetimes.py:1047: UserWarning: Parsing '13/03/2021' in DD/MM/YYYY format. Provide format or specify infer_datetime_format=True for consistent parsing.\n",
      "  cache_array = _maybe_cache(arg, format, cache, convert_listlike)\n",
      "/Users/ariklevy/opt/anaconda3/envs/firstEnv/lib/python3.10/site-packages/pandas/core/tools/datetimes.py:1047: UserWarning: Parsing '14/03/2021' in DD/MM/YYYY format. Provide format or specify infer_datetime_format=True for consistent parsing.\n",
      "  cache_array = _maybe_cache(arg, format, cache, convert_listlike)\n",
      "/Users/ariklevy/opt/anaconda3/envs/firstEnv/lib/python3.10/site-packages/pandas/core/tools/datetimes.py:1047: UserWarning: Parsing '15/03/2021' in DD/MM/YYYY format. Provide format or specify infer_datetime_format=True for consistent parsing.\n",
      "  cache_array = _maybe_cache(arg, format, cache, convert_listlike)\n",
      "/Users/ariklevy/opt/anaconda3/envs/firstEnv/lib/python3.10/site-packages/pandas/core/tools/datetimes.py:1047: UserWarning: Parsing '16/03/2021' in DD/MM/YYYY format. Provide format or specify infer_datetime_format=True for consistent parsing.\n",
      "  cache_array = _maybe_cache(arg, format, cache, convert_listlike)\n",
      "/Users/ariklevy/opt/anaconda3/envs/firstEnv/lib/python3.10/site-packages/pandas/core/tools/datetimes.py:1047: UserWarning: Parsing '17/03/2021' in DD/MM/YYYY format. Provide format or specify infer_datetime_format=True for consistent parsing.\n",
      "  cache_array = _maybe_cache(arg, format, cache, convert_listlike)\n",
      "/Users/ariklevy/opt/anaconda3/envs/firstEnv/lib/python3.10/site-packages/pandas/core/tools/datetimes.py:1047: UserWarning: Parsing '18/03/2021' in DD/MM/YYYY format. Provide format or specify infer_datetime_format=True for consistent parsing.\n",
      "  cache_array = _maybe_cache(arg, format, cache, convert_listlike)\n",
      "/Users/ariklevy/opt/anaconda3/envs/firstEnv/lib/python3.10/site-packages/pandas/core/tools/datetimes.py:1047: UserWarning: Parsing '19/03/2021' in DD/MM/YYYY format. Provide format or specify infer_datetime_format=True for consistent parsing.\n",
      "  cache_array = _maybe_cache(arg, format, cache, convert_listlike)\n",
      "/Users/ariklevy/opt/anaconda3/envs/firstEnv/lib/python3.10/site-packages/pandas/core/tools/datetimes.py:1047: UserWarning: Parsing '20/03/2021' in DD/MM/YYYY format. Provide format or specify infer_datetime_format=True for consistent parsing.\n",
      "  cache_array = _maybe_cache(arg, format, cache, convert_listlike)\n",
      "/Users/ariklevy/opt/anaconda3/envs/firstEnv/lib/python3.10/site-packages/pandas/core/tools/datetimes.py:1047: UserWarning: Parsing '21/03/2021' in DD/MM/YYYY format. Provide format or specify infer_datetime_format=True for consistent parsing.\n",
      "  cache_array = _maybe_cache(arg, format, cache, convert_listlike)\n",
      "/Users/ariklevy/opt/anaconda3/envs/firstEnv/lib/python3.10/site-packages/pandas/core/tools/datetimes.py:1047: UserWarning: Parsing '22/03/2021' in DD/MM/YYYY format. Provide format or specify infer_datetime_format=True for consistent parsing.\n",
      "  cache_array = _maybe_cache(arg, format, cache, convert_listlike)\n",
      "/Users/ariklevy/opt/anaconda3/envs/firstEnv/lib/python3.10/site-packages/pandas/core/tools/datetimes.py:1047: UserWarning: Parsing '23/03/2021' in DD/MM/YYYY format. Provide format or specify infer_datetime_format=True for consistent parsing.\n",
      "  cache_array = _maybe_cache(arg, format, cache, convert_listlike)\n",
      "/Users/ariklevy/opt/anaconda3/envs/firstEnv/lib/python3.10/site-packages/pandas/core/tools/datetimes.py:1047: UserWarning: Parsing '24/03/2021' in DD/MM/YYYY format. Provide format or specify infer_datetime_format=True for consistent parsing.\n",
      "  cache_array = _maybe_cache(arg, format, cache, convert_listlike)\n",
      "/Users/ariklevy/opt/anaconda3/envs/firstEnv/lib/python3.10/site-packages/pandas/core/tools/datetimes.py:1047: UserWarning: Parsing '25/03/2021' in DD/MM/YYYY format. Provide format or specify infer_datetime_format=True for consistent parsing.\n",
      "  cache_array = _maybe_cache(arg, format, cache, convert_listlike)\n",
      "/Users/ariklevy/opt/anaconda3/envs/firstEnv/lib/python3.10/site-packages/pandas/core/tools/datetimes.py:1047: UserWarning: Parsing '26/03/2021' in DD/MM/YYYY format. Provide format or specify infer_datetime_format=True for consistent parsing.\n",
      "  cache_array = _maybe_cache(arg, format, cache, convert_listlike)\n",
      "/Users/ariklevy/opt/anaconda3/envs/firstEnv/lib/python3.10/site-packages/pandas/core/tools/datetimes.py:1047: UserWarning: Parsing '27/03/2021' in DD/MM/YYYY format. Provide format or specify infer_datetime_format=True for consistent parsing.\n",
      "  cache_array = _maybe_cache(arg, format, cache, convert_listlike)\n",
      "/Users/ariklevy/opt/anaconda3/envs/firstEnv/lib/python3.10/site-packages/pandas/core/tools/datetimes.py:1047: UserWarning: Parsing '28/03/2021' in DD/MM/YYYY format. Provide format or specify infer_datetime_format=True for consistent parsing.\n",
      "  cache_array = _maybe_cache(arg, format, cache, convert_listlike)\n",
      "/Users/ariklevy/opt/anaconda3/envs/firstEnv/lib/python3.10/site-packages/pandas/core/tools/datetimes.py:1047: UserWarning: Parsing '29/03/2021' in DD/MM/YYYY format. Provide format or specify infer_datetime_format=True for consistent parsing.\n",
      "  cache_array = _maybe_cache(arg, format, cache, convert_listlike)\n",
      "/Users/ariklevy/opt/anaconda3/envs/firstEnv/lib/python3.10/site-packages/pandas/core/tools/datetimes.py:1047: UserWarning: Parsing '30/03/2021' in DD/MM/YYYY format. Provide format or specify infer_datetime_format=True for consistent parsing.\n",
      "  cache_array = _maybe_cache(arg, format, cache, convert_listlike)\n",
      "/Users/ariklevy/opt/anaconda3/envs/firstEnv/lib/python3.10/site-packages/pandas/core/tools/datetimes.py:1047: UserWarning: Parsing '31/03/2021' in DD/MM/YYYY format. Provide format or specify infer_datetime_format=True for consistent parsing.\n",
      "  cache_array = _maybe_cache(arg, format, cache, convert_listlike)\n",
      "/Users/ariklevy/opt/anaconda3/envs/firstEnv/lib/python3.10/site-packages/pandas/core/tools/datetimes.py:1047: UserWarning: Parsing '13/04/2021' in DD/MM/YYYY format. Provide format or specify infer_datetime_format=True for consistent parsing.\n",
      "  cache_array = _maybe_cache(arg, format, cache, convert_listlike)\n",
      "/Users/ariklevy/opt/anaconda3/envs/firstEnv/lib/python3.10/site-packages/pandas/core/tools/datetimes.py:1047: UserWarning: Parsing '14/04/2021' in DD/MM/YYYY format. Provide format or specify infer_datetime_format=True for consistent parsing.\n",
      "  cache_array = _maybe_cache(arg, format, cache, convert_listlike)\n",
      "/Users/ariklevy/opt/anaconda3/envs/firstEnv/lib/python3.10/site-packages/pandas/core/tools/datetimes.py:1047: UserWarning: Parsing '15/04/2021' in DD/MM/YYYY format. Provide format or specify infer_datetime_format=True for consistent parsing.\n",
      "  cache_array = _maybe_cache(arg, format, cache, convert_listlike)\n",
      "/Users/ariklevy/opt/anaconda3/envs/firstEnv/lib/python3.10/site-packages/pandas/core/tools/datetimes.py:1047: UserWarning: Parsing '16/04/2021' in DD/MM/YYYY format. Provide format or specify infer_datetime_format=True for consistent parsing.\n",
      "  cache_array = _maybe_cache(arg, format, cache, convert_listlike)\n",
      "/Users/ariklevy/opt/anaconda3/envs/firstEnv/lib/python3.10/site-packages/pandas/core/tools/datetimes.py:1047: UserWarning: Parsing '17/04/2021' in DD/MM/YYYY format. Provide format or specify infer_datetime_format=True for consistent parsing.\n",
      "  cache_array = _maybe_cache(arg, format, cache, convert_listlike)\n",
      "/Users/ariklevy/opt/anaconda3/envs/firstEnv/lib/python3.10/site-packages/pandas/core/tools/datetimes.py:1047: UserWarning: Parsing '18/04/2021' in DD/MM/YYYY format. Provide format or specify infer_datetime_format=True for consistent parsing.\n",
      "  cache_array = _maybe_cache(arg, format, cache, convert_listlike)\n",
      "/Users/ariklevy/opt/anaconda3/envs/firstEnv/lib/python3.10/site-packages/pandas/core/tools/datetimes.py:1047: UserWarning: Parsing '19/04/2021' in DD/MM/YYYY format. Provide format or specify infer_datetime_format=True for consistent parsing.\n",
      "  cache_array = _maybe_cache(arg, format, cache, convert_listlike)\n",
      "/Users/ariklevy/opt/anaconda3/envs/firstEnv/lib/python3.10/site-packages/pandas/core/tools/datetimes.py:1047: UserWarning: Parsing '20/04/2021' in DD/MM/YYYY format. Provide format or specify infer_datetime_format=True for consistent parsing.\n",
      "  cache_array = _maybe_cache(arg, format, cache, convert_listlike)\n",
      "/Users/ariklevy/opt/anaconda3/envs/firstEnv/lib/python3.10/site-packages/pandas/core/tools/datetimes.py:1047: UserWarning: Parsing '21/04/2021' in DD/MM/YYYY format. Provide format or specify infer_datetime_format=True for consistent parsing.\n",
      "  cache_array = _maybe_cache(arg, format, cache, convert_listlike)\n",
      "/Users/ariklevy/opt/anaconda3/envs/firstEnv/lib/python3.10/site-packages/pandas/core/tools/datetimes.py:1047: UserWarning: Parsing '22/04/2021' in DD/MM/YYYY format. Provide format or specify infer_datetime_format=True for consistent parsing.\n",
      "  cache_array = _maybe_cache(arg, format, cache, convert_listlike)\n",
      "/Users/ariklevy/opt/anaconda3/envs/firstEnv/lib/python3.10/site-packages/pandas/core/tools/datetimes.py:1047: UserWarning: Parsing '23/04/2021' in DD/MM/YYYY format. Provide format or specify infer_datetime_format=True for consistent parsing.\n",
      "  cache_array = _maybe_cache(arg, format, cache, convert_listlike)\n",
      "/Users/ariklevy/opt/anaconda3/envs/firstEnv/lib/python3.10/site-packages/pandas/core/tools/datetimes.py:1047: UserWarning: Parsing '24/04/2021' in DD/MM/YYYY format. Provide format or specify infer_datetime_format=True for consistent parsing.\n",
      "  cache_array = _maybe_cache(arg, format, cache, convert_listlike)\n",
      "/Users/ariklevy/opt/anaconda3/envs/firstEnv/lib/python3.10/site-packages/pandas/core/tools/datetimes.py:1047: UserWarning: Parsing '25/04/2021' in DD/MM/YYYY format. Provide format or specify infer_datetime_format=True for consistent parsing.\n",
      "  cache_array = _maybe_cache(arg, format, cache, convert_listlike)\n",
      "/Users/ariklevy/opt/anaconda3/envs/firstEnv/lib/python3.10/site-packages/pandas/core/tools/datetimes.py:1047: UserWarning: Parsing '26/04/2021' in DD/MM/YYYY format. Provide format or specify infer_datetime_format=True for consistent parsing.\n",
      "  cache_array = _maybe_cache(arg, format, cache, convert_listlike)\n",
      "/Users/ariklevy/opt/anaconda3/envs/firstEnv/lib/python3.10/site-packages/pandas/core/tools/datetimes.py:1047: UserWarning: Parsing '27/04/2021' in DD/MM/YYYY format. Provide format or specify infer_datetime_format=True for consistent parsing.\n",
      "  cache_array = _maybe_cache(arg, format, cache, convert_listlike)\n",
      "/Users/ariklevy/opt/anaconda3/envs/firstEnv/lib/python3.10/site-packages/pandas/core/tools/datetimes.py:1047: UserWarning: Parsing '28/04/2021' in DD/MM/YYYY format. Provide format or specify infer_datetime_format=True for consistent parsing.\n",
      "  cache_array = _maybe_cache(arg, format, cache, convert_listlike)\n",
      "/Users/ariklevy/opt/anaconda3/envs/firstEnv/lib/python3.10/site-packages/pandas/core/tools/datetimes.py:1047: UserWarning: Parsing '29/04/2021' in DD/MM/YYYY format. Provide format or specify infer_datetime_format=True for consistent parsing.\n",
      "  cache_array = _maybe_cache(arg, format, cache, convert_listlike)\n",
      "/Users/ariklevy/opt/anaconda3/envs/firstEnv/lib/python3.10/site-packages/pandas/core/tools/datetimes.py:1047: UserWarning: Parsing '30/04/2021' in DD/MM/YYYY format. Provide format or specify infer_datetime_format=True for consistent parsing.\n",
      "  cache_array = _maybe_cache(arg, format, cache, convert_listlike)\n",
      "/Users/ariklevy/opt/anaconda3/envs/firstEnv/lib/python3.10/site-packages/pandas/core/tools/datetimes.py:1047: UserWarning: Parsing '13/05/2021' in DD/MM/YYYY format. Provide format or specify infer_datetime_format=True for consistent parsing.\n",
      "  cache_array = _maybe_cache(arg, format, cache, convert_listlike)\n",
      "/Users/ariklevy/opt/anaconda3/envs/firstEnv/lib/python3.10/site-packages/pandas/core/tools/datetimes.py:1047: UserWarning: Parsing '14/05/2021' in DD/MM/YYYY format. Provide format or specify infer_datetime_format=True for consistent parsing.\n",
      "  cache_array = _maybe_cache(arg, format, cache, convert_listlike)\n",
      "/Users/ariklevy/opt/anaconda3/envs/firstEnv/lib/python3.10/site-packages/pandas/core/tools/datetimes.py:1047: UserWarning: Parsing '15/05/2021' in DD/MM/YYYY format. Provide format or specify infer_datetime_format=True for consistent parsing.\n",
      "  cache_array = _maybe_cache(arg, format, cache, convert_listlike)\n",
      "/Users/ariklevy/opt/anaconda3/envs/firstEnv/lib/python3.10/site-packages/pandas/core/tools/datetimes.py:1047: UserWarning: Parsing '16/05/2021' in DD/MM/YYYY format. Provide format or specify infer_datetime_format=True for consistent parsing.\n",
      "  cache_array = _maybe_cache(arg, format, cache, convert_listlike)\n",
      "/Users/ariklevy/opt/anaconda3/envs/firstEnv/lib/python3.10/site-packages/pandas/core/tools/datetimes.py:1047: UserWarning: Parsing '17/05/2021' in DD/MM/YYYY format. Provide format or specify infer_datetime_format=True for consistent parsing.\n",
      "  cache_array = _maybe_cache(arg, format, cache, convert_listlike)\n",
      "/Users/ariklevy/opt/anaconda3/envs/firstEnv/lib/python3.10/site-packages/pandas/core/tools/datetimes.py:1047: UserWarning: Parsing '18/05/2021' in DD/MM/YYYY format. Provide format or specify infer_datetime_format=True for consistent parsing.\n",
      "  cache_array = _maybe_cache(arg, format, cache, convert_listlike)\n",
      "/Users/ariklevy/opt/anaconda3/envs/firstEnv/lib/python3.10/site-packages/pandas/core/tools/datetimes.py:1047: UserWarning: Parsing '19/05/2021' in DD/MM/YYYY format. Provide format or specify infer_datetime_format=True for consistent parsing.\n",
      "  cache_array = _maybe_cache(arg, format, cache, convert_listlike)\n",
      "/Users/ariklevy/opt/anaconda3/envs/firstEnv/lib/python3.10/site-packages/pandas/core/tools/datetimes.py:1047: UserWarning: Parsing '20/05/2021' in DD/MM/YYYY format. Provide format or specify infer_datetime_format=True for consistent parsing.\n",
      "  cache_array = _maybe_cache(arg, format, cache, convert_listlike)\n",
      "/Users/ariklevy/opt/anaconda3/envs/firstEnv/lib/python3.10/site-packages/pandas/core/tools/datetimes.py:1047: UserWarning: Parsing '21/05/2021' in DD/MM/YYYY format. Provide format or specify infer_datetime_format=True for consistent parsing.\n",
      "  cache_array = _maybe_cache(arg, format, cache, convert_listlike)\n",
      "/Users/ariklevy/opt/anaconda3/envs/firstEnv/lib/python3.10/site-packages/pandas/core/tools/datetimes.py:1047: UserWarning: Parsing '22/05/2021' in DD/MM/YYYY format. Provide format or specify infer_datetime_format=True for consistent parsing.\n",
      "  cache_array = _maybe_cache(arg, format, cache, convert_listlike)\n",
      "/Users/ariklevy/opt/anaconda3/envs/firstEnv/lib/python3.10/site-packages/pandas/core/tools/datetimes.py:1047: UserWarning: Parsing '23/05/2021' in DD/MM/YYYY format. Provide format or specify infer_datetime_format=True for consistent parsing.\n",
      "  cache_array = _maybe_cache(arg, format, cache, convert_listlike)\n",
      "/Users/ariklevy/opt/anaconda3/envs/firstEnv/lib/python3.10/site-packages/pandas/core/tools/datetimes.py:1047: UserWarning: Parsing '24/05/2021' in DD/MM/YYYY format. Provide format or specify infer_datetime_format=True for consistent parsing.\n",
      "  cache_array = _maybe_cache(arg, format, cache, convert_listlike)\n",
      "/Users/ariklevy/opt/anaconda3/envs/firstEnv/lib/python3.10/site-packages/pandas/core/tools/datetimes.py:1047: UserWarning: Parsing '25/05/2021' in DD/MM/YYYY format. Provide format or specify infer_datetime_format=True for consistent parsing.\n",
      "  cache_array = _maybe_cache(arg, format, cache, convert_listlike)\n",
      "/Users/ariklevy/opt/anaconda3/envs/firstEnv/lib/python3.10/site-packages/pandas/core/tools/datetimes.py:1047: UserWarning: Parsing '26/05/2021' in DD/MM/YYYY format. Provide format or specify infer_datetime_format=True for consistent parsing.\n",
      "  cache_array = _maybe_cache(arg, format, cache, convert_listlike)\n",
      "/Users/ariklevy/opt/anaconda3/envs/firstEnv/lib/python3.10/site-packages/pandas/core/tools/datetimes.py:1047: UserWarning: Parsing '27/05/2021' in DD/MM/YYYY format. Provide format or specify infer_datetime_format=True for consistent parsing.\n",
      "  cache_array = _maybe_cache(arg, format, cache, convert_listlike)\n",
      "/Users/ariklevy/opt/anaconda3/envs/firstEnv/lib/python3.10/site-packages/pandas/core/tools/datetimes.py:1047: UserWarning: Parsing '28/05/2021' in DD/MM/YYYY format. Provide format or specify infer_datetime_format=True for consistent parsing.\n",
      "  cache_array = _maybe_cache(arg, format, cache, convert_listlike)\n",
      "/Users/ariklevy/opt/anaconda3/envs/firstEnv/lib/python3.10/site-packages/pandas/core/tools/datetimes.py:1047: UserWarning: Parsing '29/05/2021' in DD/MM/YYYY format. Provide format or specify infer_datetime_format=True for consistent parsing.\n",
      "  cache_array = _maybe_cache(arg, format, cache, convert_listlike)\n",
      "/Users/ariklevy/opt/anaconda3/envs/firstEnv/lib/python3.10/site-packages/pandas/core/tools/datetimes.py:1047: UserWarning: Parsing '30/05/2021' in DD/MM/YYYY format. Provide format or specify infer_datetime_format=True for consistent parsing.\n",
      "  cache_array = _maybe_cache(arg, format, cache, convert_listlike)\n",
      "/Users/ariklevy/opt/anaconda3/envs/firstEnv/lib/python3.10/site-packages/pandas/core/tools/datetimes.py:1047: UserWarning: Parsing '31/05/2021' in DD/MM/YYYY format. Provide format or specify infer_datetime_format=True for consistent parsing.\n",
      "  cache_array = _maybe_cache(arg, format, cache, convert_listlike)\n",
      "/Users/ariklevy/opt/anaconda3/envs/firstEnv/lib/python3.10/site-packages/pandas/core/tools/datetimes.py:1047: UserWarning: Parsing '13/05/2020' in DD/MM/YYYY format. Provide format or specify infer_datetime_format=True for consistent parsing.\n",
      "  cache_array = _maybe_cache(arg, format, cache, convert_listlike)\n",
      "/Users/ariklevy/opt/anaconda3/envs/firstEnv/lib/python3.10/site-packages/pandas/core/tools/datetimes.py:1047: UserWarning: Parsing '14/05/2020' in DD/MM/YYYY format. Provide format or specify infer_datetime_format=True for consistent parsing.\n",
      "  cache_array = _maybe_cache(arg, format, cache, convert_listlike)\n",
      "/Users/ariklevy/opt/anaconda3/envs/firstEnv/lib/python3.10/site-packages/pandas/core/tools/datetimes.py:1047: UserWarning: Parsing '15/05/2020' in DD/MM/YYYY format. Provide format or specify infer_datetime_format=True for consistent parsing.\n",
      "  cache_array = _maybe_cache(arg, format, cache, convert_listlike)\n",
      "/Users/ariklevy/opt/anaconda3/envs/firstEnv/lib/python3.10/site-packages/pandas/core/tools/datetimes.py:1047: UserWarning: Parsing '16/05/2020' in DD/MM/YYYY format. Provide format or specify infer_datetime_format=True for consistent parsing.\n",
      "  cache_array = _maybe_cache(arg, format, cache, convert_listlike)\n",
      "/Users/ariklevy/opt/anaconda3/envs/firstEnv/lib/python3.10/site-packages/pandas/core/tools/datetimes.py:1047: UserWarning: Parsing '17/05/2020' in DD/MM/YYYY format. Provide format or specify infer_datetime_format=True for consistent parsing.\n",
      "  cache_array = _maybe_cache(arg, format, cache, convert_listlike)\n",
      "/Users/ariklevy/opt/anaconda3/envs/firstEnv/lib/python3.10/site-packages/pandas/core/tools/datetimes.py:1047: UserWarning: Parsing '18/05/2020' in DD/MM/YYYY format. Provide format or specify infer_datetime_format=True for consistent parsing.\n",
      "  cache_array = _maybe_cache(arg, format, cache, convert_listlike)\n",
      "/Users/ariklevy/opt/anaconda3/envs/firstEnv/lib/python3.10/site-packages/pandas/core/tools/datetimes.py:1047: UserWarning: Parsing '19/05/2020' in DD/MM/YYYY format. Provide format or specify infer_datetime_format=True for consistent parsing.\n",
      "  cache_array = _maybe_cache(arg, format, cache, convert_listlike)\n",
      "/Users/ariklevy/opt/anaconda3/envs/firstEnv/lib/python3.10/site-packages/pandas/core/tools/datetimes.py:1047: UserWarning: Parsing '20/05/2020' in DD/MM/YYYY format. Provide format or specify infer_datetime_format=True for consistent parsing.\n",
      "  cache_array = _maybe_cache(arg, format, cache, convert_listlike)\n",
      "/Users/ariklevy/opt/anaconda3/envs/firstEnv/lib/python3.10/site-packages/pandas/core/tools/datetimes.py:1047: UserWarning: Parsing '21/05/2020' in DD/MM/YYYY format. Provide format or specify infer_datetime_format=True for consistent parsing.\n",
      "  cache_array = _maybe_cache(arg, format, cache, convert_listlike)\n",
      "/Users/ariklevy/opt/anaconda3/envs/firstEnv/lib/python3.10/site-packages/pandas/core/tools/datetimes.py:1047: UserWarning: Parsing '22/05/2020' in DD/MM/YYYY format. Provide format or specify infer_datetime_format=True for consistent parsing.\n",
      "  cache_array = _maybe_cache(arg, format, cache, convert_listlike)\n",
      "/Users/ariklevy/opt/anaconda3/envs/firstEnv/lib/python3.10/site-packages/pandas/core/tools/datetimes.py:1047: UserWarning: Parsing '23/05/2020' in DD/MM/YYYY format. Provide format or specify infer_datetime_format=True for consistent parsing.\n",
      "  cache_array = _maybe_cache(arg, format, cache, convert_listlike)\n",
      "/Users/ariklevy/opt/anaconda3/envs/firstEnv/lib/python3.10/site-packages/pandas/core/tools/datetimes.py:1047: UserWarning: Parsing '24/05/2020' in DD/MM/YYYY format. Provide format or specify infer_datetime_format=True for consistent parsing.\n",
      "  cache_array = _maybe_cache(arg, format, cache, convert_listlike)\n",
      "/Users/ariklevy/opt/anaconda3/envs/firstEnv/lib/python3.10/site-packages/pandas/core/tools/datetimes.py:1047: UserWarning: Parsing '25/05/2020' in DD/MM/YYYY format. Provide format or specify infer_datetime_format=True for consistent parsing.\n",
      "  cache_array = _maybe_cache(arg, format, cache, convert_listlike)\n",
      "/Users/ariklevy/opt/anaconda3/envs/firstEnv/lib/python3.10/site-packages/pandas/core/tools/datetimes.py:1047: UserWarning: Parsing '26/05/2020' in DD/MM/YYYY format. Provide format or specify infer_datetime_format=True for consistent parsing.\n",
      "  cache_array = _maybe_cache(arg, format, cache, convert_listlike)\n",
      "/Users/ariklevy/opt/anaconda3/envs/firstEnv/lib/python3.10/site-packages/pandas/core/tools/datetimes.py:1047: UserWarning: Parsing '27/05/2020' in DD/MM/YYYY format. Provide format or specify infer_datetime_format=True for consistent parsing.\n",
      "  cache_array = _maybe_cache(arg, format, cache, convert_listlike)\n",
      "/Users/ariklevy/opt/anaconda3/envs/firstEnv/lib/python3.10/site-packages/pandas/core/tools/datetimes.py:1047: UserWarning: Parsing '13/02/2020' in DD/MM/YYYY format. Provide format or specify infer_datetime_format=True for consistent parsing.\n",
      "  cache_array = _maybe_cache(arg, format, cache, convert_listlike)\n",
      "/Users/ariklevy/opt/anaconda3/envs/firstEnv/lib/python3.10/site-packages/pandas/core/tools/datetimes.py:1047: UserWarning: Parsing '14/02/2020' in DD/MM/YYYY format. Provide format or specify infer_datetime_format=True for consistent parsing.\n",
      "  cache_array = _maybe_cache(arg, format, cache, convert_listlike)\n",
      "/Users/ariklevy/opt/anaconda3/envs/firstEnv/lib/python3.10/site-packages/pandas/core/tools/datetimes.py:1047: UserWarning: Parsing '15/02/2020' in DD/MM/YYYY format. Provide format or specify infer_datetime_format=True for consistent parsing.\n",
      "  cache_array = _maybe_cache(arg, format, cache, convert_listlike)\n",
      "/Users/ariklevy/opt/anaconda3/envs/firstEnv/lib/python3.10/site-packages/pandas/core/tools/datetimes.py:1047: UserWarning: Parsing '16/02/2020' in DD/MM/YYYY format. Provide format or specify infer_datetime_format=True for consistent parsing.\n",
      "  cache_array = _maybe_cache(arg, format, cache, convert_listlike)\n",
      "/Users/ariklevy/opt/anaconda3/envs/firstEnv/lib/python3.10/site-packages/pandas/core/tools/datetimes.py:1047: UserWarning: Parsing '17/02/2020' in DD/MM/YYYY format. Provide format or specify infer_datetime_format=True for consistent parsing.\n",
      "  cache_array = _maybe_cache(arg, format, cache, convert_listlike)\n",
      "/Users/ariklevy/opt/anaconda3/envs/firstEnv/lib/python3.10/site-packages/pandas/core/tools/datetimes.py:1047: UserWarning: Parsing '18/02/2020' in DD/MM/YYYY format. Provide format or specify infer_datetime_format=True for consistent parsing.\n",
      "  cache_array = _maybe_cache(arg, format, cache, convert_listlike)\n",
      "/Users/ariklevy/opt/anaconda3/envs/firstEnv/lib/python3.10/site-packages/pandas/core/tools/datetimes.py:1047: UserWarning: Parsing '19/02/2020' in DD/MM/YYYY format. Provide format or specify infer_datetime_format=True for consistent parsing.\n",
      "  cache_array = _maybe_cache(arg, format, cache, convert_listlike)\n",
      "/Users/ariklevy/opt/anaconda3/envs/firstEnv/lib/python3.10/site-packages/pandas/core/tools/datetimes.py:1047: UserWarning: Parsing '20/02/2020' in DD/MM/YYYY format. Provide format or specify infer_datetime_format=True for consistent parsing.\n",
      "  cache_array = _maybe_cache(arg, format, cache, convert_listlike)\n",
      "/Users/ariklevy/opt/anaconda3/envs/firstEnv/lib/python3.10/site-packages/pandas/core/tools/datetimes.py:1047: UserWarning: Parsing '21/02/2020' in DD/MM/YYYY format. Provide format or specify infer_datetime_format=True for consistent parsing.\n",
      "  cache_array = _maybe_cache(arg, format, cache, convert_listlike)\n",
      "/Users/ariklevy/opt/anaconda3/envs/firstEnv/lib/python3.10/site-packages/pandas/core/tools/datetimes.py:1047: UserWarning: Parsing '22/02/2020' in DD/MM/YYYY format. Provide format or specify infer_datetime_format=True for consistent parsing.\n",
      "  cache_array = _maybe_cache(arg, format, cache, convert_listlike)\n",
      "/Users/ariklevy/opt/anaconda3/envs/firstEnv/lib/python3.10/site-packages/pandas/core/tools/datetimes.py:1047: UserWarning: Parsing '23/02/2020' in DD/MM/YYYY format. Provide format or specify infer_datetime_format=True for consistent parsing.\n",
      "  cache_array = _maybe_cache(arg, format, cache, convert_listlike)\n",
      "/Users/ariklevy/opt/anaconda3/envs/firstEnv/lib/python3.10/site-packages/pandas/core/tools/datetimes.py:1047: UserWarning: Parsing '24/02/2020' in DD/MM/YYYY format. Provide format or specify infer_datetime_format=True for consistent parsing.\n",
      "  cache_array = _maybe_cache(arg, format, cache, convert_listlike)\n",
      "/Users/ariklevy/opt/anaconda3/envs/firstEnv/lib/python3.10/site-packages/pandas/core/tools/datetimes.py:1047: UserWarning: Parsing '25/02/2020' in DD/MM/YYYY format. Provide format or specify infer_datetime_format=True for consistent parsing.\n",
      "  cache_array = _maybe_cache(arg, format, cache, convert_listlike)\n",
      "/Users/ariklevy/opt/anaconda3/envs/firstEnv/lib/python3.10/site-packages/pandas/core/tools/datetimes.py:1047: UserWarning: Parsing '26/02/2020' in DD/MM/YYYY format. Provide format or specify infer_datetime_format=True for consistent parsing.\n",
      "  cache_array = _maybe_cache(arg, format, cache, convert_listlike)\n",
      "/Users/ariklevy/opt/anaconda3/envs/firstEnv/lib/python3.10/site-packages/pandas/core/tools/datetimes.py:1047: UserWarning: Parsing '27/02/2020' in DD/MM/YYYY format. Provide format or specify infer_datetime_format=True for consistent parsing.\n",
      "  cache_array = _maybe_cache(arg, format, cache, convert_listlike)\n",
      "/Users/ariklevy/opt/anaconda3/envs/firstEnv/lib/python3.10/site-packages/pandas/core/tools/datetimes.py:1047: UserWarning: Parsing '28/02/2020' in DD/MM/YYYY format. Provide format or specify infer_datetime_format=True for consistent parsing.\n",
      "  cache_array = _maybe_cache(arg, format, cache, convert_listlike)\n",
      "/Users/ariklevy/opt/anaconda3/envs/firstEnv/lib/python3.10/site-packages/pandas/core/tools/datetimes.py:1047: UserWarning: Parsing '13/03/2020' in DD/MM/YYYY format. Provide format or specify infer_datetime_format=True for consistent parsing.\n",
      "  cache_array = _maybe_cache(arg, format, cache, convert_listlike)\n",
      "/Users/ariklevy/opt/anaconda3/envs/firstEnv/lib/python3.10/site-packages/pandas/core/tools/datetimes.py:1047: UserWarning: Parsing '14/03/2020' in DD/MM/YYYY format. Provide format or specify infer_datetime_format=True for consistent parsing.\n",
      "  cache_array = _maybe_cache(arg, format, cache, convert_listlike)\n",
      "/Users/ariklevy/opt/anaconda3/envs/firstEnv/lib/python3.10/site-packages/pandas/core/tools/datetimes.py:1047: UserWarning: Parsing '15/03/2020' in DD/MM/YYYY format. Provide format or specify infer_datetime_format=True for consistent parsing.\n",
      "  cache_array = _maybe_cache(arg, format, cache, convert_listlike)\n",
      "/Users/ariklevy/opt/anaconda3/envs/firstEnv/lib/python3.10/site-packages/pandas/core/tools/datetimes.py:1047: UserWarning: Parsing '16/03/2020' in DD/MM/YYYY format. Provide format or specify infer_datetime_format=True for consistent parsing.\n",
      "  cache_array = _maybe_cache(arg, format, cache, convert_listlike)\n",
      "/Users/ariklevy/opt/anaconda3/envs/firstEnv/lib/python3.10/site-packages/pandas/core/tools/datetimes.py:1047: UserWarning: Parsing '17/03/2020' in DD/MM/YYYY format. Provide format or specify infer_datetime_format=True for consistent parsing.\n",
      "  cache_array = _maybe_cache(arg, format, cache, convert_listlike)\n",
      "/Users/ariklevy/opt/anaconda3/envs/firstEnv/lib/python3.10/site-packages/pandas/core/tools/datetimes.py:1047: UserWarning: Parsing '18/03/2020' in DD/MM/YYYY format. Provide format or specify infer_datetime_format=True for consistent parsing.\n",
      "  cache_array = _maybe_cache(arg, format, cache, convert_listlike)\n",
      "/Users/ariklevy/opt/anaconda3/envs/firstEnv/lib/python3.10/site-packages/pandas/core/tools/datetimes.py:1047: UserWarning: Parsing '19/03/2020' in DD/MM/YYYY format. Provide format or specify infer_datetime_format=True for consistent parsing.\n",
      "  cache_array = _maybe_cache(arg, format, cache, convert_listlike)\n",
      "/Users/ariklevy/opt/anaconda3/envs/firstEnv/lib/python3.10/site-packages/pandas/core/tools/datetimes.py:1047: UserWarning: Parsing '20/03/2020' in DD/MM/YYYY format. Provide format or specify infer_datetime_format=True for consistent parsing.\n",
      "  cache_array = _maybe_cache(arg, format, cache, convert_listlike)\n",
      "/Users/ariklevy/opt/anaconda3/envs/firstEnv/lib/python3.10/site-packages/pandas/core/tools/datetimes.py:1047: UserWarning: Parsing '21/03/2020' in DD/MM/YYYY format. Provide format or specify infer_datetime_format=True for consistent parsing.\n",
      "  cache_array = _maybe_cache(arg, format, cache, convert_listlike)\n",
      "/Users/ariklevy/opt/anaconda3/envs/firstEnv/lib/python3.10/site-packages/pandas/core/tools/datetimes.py:1047: UserWarning: Parsing '22/03/2020' in DD/MM/YYYY format. Provide format or specify infer_datetime_format=True for consistent parsing.\n",
      "  cache_array = _maybe_cache(arg, format, cache, convert_listlike)\n",
      "/Users/ariklevy/opt/anaconda3/envs/firstEnv/lib/python3.10/site-packages/pandas/core/tools/datetimes.py:1047: UserWarning: Parsing '23/03/2020' in DD/MM/YYYY format. Provide format or specify infer_datetime_format=True for consistent parsing.\n",
      "  cache_array = _maybe_cache(arg, format, cache, convert_listlike)\n",
      "/Users/ariklevy/opt/anaconda3/envs/firstEnv/lib/python3.10/site-packages/pandas/core/tools/datetimes.py:1047: UserWarning: Parsing '24/03/2020' in DD/MM/YYYY format. Provide format or specify infer_datetime_format=True for consistent parsing.\n",
      "  cache_array = _maybe_cache(arg, format, cache, convert_listlike)\n",
      "/Users/ariklevy/opt/anaconda3/envs/firstEnv/lib/python3.10/site-packages/pandas/core/tools/datetimes.py:1047: UserWarning: Parsing '25/03/2020' in DD/MM/YYYY format. Provide format or specify infer_datetime_format=True for consistent parsing.\n",
      "  cache_array = _maybe_cache(arg, format, cache, convert_listlike)\n",
      "/Users/ariklevy/opt/anaconda3/envs/firstEnv/lib/python3.10/site-packages/pandas/core/tools/datetimes.py:1047: UserWarning: Parsing '26/03/2020' in DD/MM/YYYY format. Provide format or specify infer_datetime_format=True for consistent parsing.\n",
      "  cache_array = _maybe_cache(arg, format, cache, convert_listlike)\n",
      "/Users/ariklevy/opt/anaconda3/envs/firstEnv/lib/python3.10/site-packages/pandas/core/tools/datetimes.py:1047: UserWarning: Parsing '27/03/2020' in DD/MM/YYYY format. Provide format or specify infer_datetime_format=True for consistent parsing.\n",
      "  cache_array = _maybe_cache(arg, format, cache, convert_listlike)\n",
      "/Users/ariklevy/opt/anaconda3/envs/firstEnv/lib/python3.10/site-packages/pandas/core/tools/datetimes.py:1047: UserWarning: Parsing '28/03/2020' in DD/MM/YYYY format. Provide format or specify infer_datetime_format=True for consistent parsing.\n",
      "  cache_array = _maybe_cache(arg, format, cache, convert_listlike)\n",
      "/Users/ariklevy/opt/anaconda3/envs/firstEnv/lib/python3.10/site-packages/pandas/core/tools/datetimes.py:1047: UserWarning: Parsing '29/03/2020' in DD/MM/YYYY format. Provide format or specify infer_datetime_format=True for consistent parsing.\n",
      "  cache_array = _maybe_cache(arg, format, cache, convert_listlike)\n",
      "/Users/ariklevy/opt/anaconda3/envs/firstEnv/lib/python3.10/site-packages/pandas/core/tools/datetimes.py:1047: UserWarning: Parsing '30/03/2020' in DD/MM/YYYY format. Provide format or specify infer_datetime_format=True for consistent parsing.\n",
      "  cache_array = _maybe_cache(arg, format, cache, convert_listlike)\n",
      "/Users/ariklevy/opt/anaconda3/envs/firstEnv/lib/python3.10/site-packages/pandas/core/tools/datetimes.py:1047: UserWarning: Parsing '31/03/2020' in DD/MM/YYYY format. Provide format or specify infer_datetime_format=True for consistent parsing.\n",
      "  cache_array = _maybe_cache(arg, format, cache, convert_listlike)\n",
      "/Users/ariklevy/opt/anaconda3/envs/firstEnv/lib/python3.10/site-packages/pandas/core/tools/datetimes.py:1047: UserWarning: Parsing '13/04/2020' in DD/MM/YYYY format. Provide format or specify infer_datetime_format=True for consistent parsing.\n",
      "  cache_array = _maybe_cache(arg, format, cache, convert_listlike)\n",
      "/Users/ariklevy/opt/anaconda3/envs/firstEnv/lib/python3.10/site-packages/pandas/core/tools/datetimes.py:1047: UserWarning: Parsing '14/04/2020' in DD/MM/YYYY format. Provide format or specify infer_datetime_format=True for consistent parsing.\n",
      "  cache_array = _maybe_cache(arg, format, cache, convert_listlike)\n",
      "/Users/ariklevy/opt/anaconda3/envs/firstEnv/lib/python3.10/site-packages/pandas/core/tools/datetimes.py:1047: UserWarning: Parsing '15/04/2020' in DD/MM/YYYY format. Provide format or specify infer_datetime_format=True for consistent parsing.\n",
      "  cache_array = _maybe_cache(arg, format, cache, convert_listlike)\n",
      "/Users/ariklevy/opt/anaconda3/envs/firstEnv/lib/python3.10/site-packages/pandas/core/tools/datetimes.py:1047: UserWarning: Parsing '16/04/2020' in DD/MM/YYYY format. Provide format or specify infer_datetime_format=True for consistent parsing.\n",
      "  cache_array = _maybe_cache(arg, format, cache, convert_listlike)\n",
      "/Users/ariklevy/opt/anaconda3/envs/firstEnv/lib/python3.10/site-packages/pandas/core/tools/datetimes.py:1047: UserWarning: Parsing '17/04/2020' in DD/MM/YYYY format. Provide format or specify infer_datetime_format=True for consistent parsing.\n",
      "  cache_array = _maybe_cache(arg, format, cache, convert_listlike)\n",
      "/Users/ariklevy/opt/anaconda3/envs/firstEnv/lib/python3.10/site-packages/pandas/core/tools/datetimes.py:1047: UserWarning: Parsing '18/04/2020' in DD/MM/YYYY format. Provide format or specify infer_datetime_format=True for consistent parsing.\n",
      "  cache_array = _maybe_cache(arg, format, cache, convert_listlike)\n",
      "/Users/ariklevy/opt/anaconda3/envs/firstEnv/lib/python3.10/site-packages/pandas/core/tools/datetimes.py:1047: UserWarning: Parsing '19/04/2020' in DD/MM/YYYY format. Provide format or specify infer_datetime_format=True for consistent parsing.\n",
      "  cache_array = _maybe_cache(arg, format, cache, convert_listlike)\n",
      "/Users/ariklevy/opt/anaconda3/envs/firstEnv/lib/python3.10/site-packages/pandas/core/tools/datetimes.py:1047: UserWarning: Parsing '20/04/2020' in DD/MM/YYYY format. Provide format or specify infer_datetime_format=True for consistent parsing.\n",
      "  cache_array = _maybe_cache(arg, format, cache, convert_listlike)\n",
      "/Users/ariklevy/opt/anaconda3/envs/firstEnv/lib/python3.10/site-packages/pandas/core/tools/datetimes.py:1047: UserWarning: Parsing '21/04/2020' in DD/MM/YYYY format. Provide format or specify infer_datetime_format=True for consistent parsing.\n",
      "  cache_array = _maybe_cache(arg, format, cache, convert_listlike)\n",
      "/Users/ariklevy/opt/anaconda3/envs/firstEnv/lib/python3.10/site-packages/pandas/core/tools/datetimes.py:1047: UserWarning: Parsing '22/04/2020' in DD/MM/YYYY format. Provide format or specify infer_datetime_format=True for consistent parsing.\n",
      "  cache_array = _maybe_cache(arg, format, cache, convert_listlike)\n",
      "/Users/ariklevy/opt/anaconda3/envs/firstEnv/lib/python3.10/site-packages/pandas/core/tools/datetimes.py:1047: UserWarning: Parsing '23/04/2020' in DD/MM/YYYY format. Provide format or specify infer_datetime_format=True for consistent parsing.\n",
      "  cache_array = _maybe_cache(arg, format, cache, convert_listlike)\n",
      "/Users/ariklevy/opt/anaconda3/envs/firstEnv/lib/python3.10/site-packages/pandas/core/tools/datetimes.py:1047: UserWarning: Parsing '24/04/2020' in DD/MM/YYYY format. Provide format or specify infer_datetime_format=True for consistent parsing.\n",
      "  cache_array = _maybe_cache(arg, format, cache, convert_listlike)\n",
      "/Users/ariklevy/opt/anaconda3/envs/firstEnv/lib/python3.10/site-packages/pandas/core/tools/datetimes.py:1047: UserWarning: Parsing '25/04/2020' in DD/MM/YYYY format. Provide format or specify infer_datetime_format=True for consistent parsing.\n",
      "  cache_array = _maybe_cache(arg, format, cache, convert_listlike)\n",
      "/Users/ariklevy/opt/anaconda3/envs/firstEnv/lib/python3.10/site-packages/pandas/core/tools/datetimes.py:1047: UserWarning: Parsing '26/04/2020' in DD/MM/YYYY format. Provide format or specify infer_datetime_format=True for consistent parsing.\n",
      "  cache_array = _maybe_cache(arg, format, cache, convert_listlike)\n",
      "/Users/ariklevy/opt/anaconda3/envs/firstEnv/lib/python3.10/site-packages/pandas/core/tools/datetimes.py:1047: UserWarning: Parsing '27/04/2020' in DD/MM/YYYY format. Provide format or specify infer_datetime_format=True for consistent parsing.\n",
      "  cache_array = _maybe_cache(arg, format, cache, convert_listlike)\n",
      "/Users/ariklevy/opt/anaconda3/envs/firstEnv/lib/python3.10/site-packages/pandas/core/tools/datetimes.py:1047: UserWarning: Parsing '28/04/2020' in DD/MM/YYYY format. Provide format or specify infer_datetime_format=True for consistent parsing.\n",
      "  cache_array = _maybe_cache(arg, format, cache, convert_listlike)\n",
      "/Users/ariklevy/opt/anaconda3/envs/firstEnv/lib/python3.10/site-packages/pandas/core/tools/datetimes.py:1047: UserWarning: Parsing '29/04/2020' in DD/MM/YYYY format. Provide format or specify infer_datetime_format=True for consistent parsing.\n",
      "  cache_array = _maybe_cache(arg, format, cache, convert_listlike)\n",
      "/Users/ariklevy/opt/anaconda3/envs/firstEnv/lib/python3.10/site-packages/pandas/core/tools/datetimes.py:1047: UserWarning: Parsing '30/04/2020' in DD/MM/YYYY format. Provide format or specify infer_datetime_format=True for consistent parsing.\n",
      "  cache_array = _maybe_cache(arg, format, cache, convert_listlike)\n",
      "/Users/ariklevy/opt/anaconda3/envs/firstEnv/lib/python3.10/site-packages/pandas/core/tools/datetimes.py:1047: UserWarning: Parsing '28/05/2020' in DD/MM/YYYY format. Provide format or specify infer_datetime_format=True for consistent parsing.\n",
      "  cache_array = _maybe_cache(arg, format, cache, convert_listlike)\n",
      "/Users/ariklevy/opt/anaconda3/envs/firstEnv/lib/python3.10/site-packages/pandas/core/tools/datetimes.py:1047: UserWarning: Parsing '29/05/2020' in DD/MM/YYYY format. Provide format or specify infer_datetime_format=True for consistent parsing.\n",
      "  cache_array = _maybe_cache(arg, format, cache, convert_listlike)\n",
      "/Users/ariklevy/opt/anaconda3/envs/firstEnv/lib/python3.10/site-packages/pandas/core/tools/datetimes.py:1047: UserWarning: Parsing '30/05/2020' in DD/MM/YYYY format. Provide format or specify infer_datetime_format=True for consistent parsing.\n",
      "  cache_array = _maybe_cache(arg, format, cache, convert_listlike)\n",
      "/Users/ariklevy/opt/anaconda3/envs/firstEnv/lib/python3.10/site-packages/pandas/core/tools/datetimes.py:1047: UserWarning: Parsing '31/05/2020' in DD/MM/YYYY format. Provide format or specify infer_datetime_format=True for consistent parsing.\n",
      "  cache_array = _maybe_cache(arg, format, cache, convert_listlike)\n",
      "/Users/ariklevy/opt/anaconda3/envs/firstEnv/lib/python3.10/site-packages/pandas/core/tools/datetimes.py:1047: UserWarning: Parsing '13/06/2020' in DD/MM/YYYY format. Provide format or specify infer_datetime_format=True for consistent parsing.\n",
      "  cache_array = _maybe_cache(arg, format, cache, convert_listlike)\n",
      "/Users/ariklevy/opt/anaconda3/envs/firstEnv/lib/python3.10/site-packages/pandas/core/tools/datetimes.py:1047: UserWarning: Parsing '14/06/2020' in DD/MM/YYYY format. Provide format or specify infer_datetime_format=True for consistent parsing.\n",
      "  cache_array = _maybe_cache(arg, format, cache, convert_listlike)\n",
      "/Users/ariklevy/opt/anaconda3/envs/firstEnv/lib/python3.10/site-packages/pandas/core/tools/datetimes.py:1047: UserWarning: Parsing '15/06/2020' in DD/MM/YYYY format. Provide format or specify infer_datetime_format=True for consistent parsing.\n",
      "  cache_array = _maybe_cache(arg, format, cache, convert_listlike)\n",
      "/Users/ariklevy/opt/anaconda3/envs/firstEnv/lib/python3.10/site-packages/pandas/core/tools/datetimes.py:1047: UserWarning: Parsing '16/06/2020' in DD/MM/YYYY format. Provide format or specify infer_datetime_format=True for consistent parsing.\n",
      "  cache_array = _maybe_cache(arg, format, cache, convert_listlike)\n",
      "/Users/ariklevy/opt/anaconda3/envs/firstEnv/lib/python3.10/site-packages/pandas/core/tools/datetimes.py:1047: UserWarning: Parsing '17/06/2020' in DD/MM/YYYY format. Provide format or specify infer_datetime_format=True for consistent parsing.\n",
      "  cache_array = _maybe_cache(arg, format, cache, convert_listlike)\n",
      "/Users/ariklevy/opt/anaconda3/envs/firstEnv/lib/python3.10/site-packages/pandas/core/tools/datetimes.py:1047: UserWarning: Parsing '18/06/2020' in DD/MM/YYYY format. Provide format or specify infer_datetime_format=True for consistent parsing.\n",
      "  cache_array = _maybe_cache(arg, format, cache, convert_listlike)\n",
      "/Users/ariklevy/opt/anaconda3/envs/firstEnv/lib/python3.10/site-packages/pandas/core/tools/datetimes.py:1047: UserWarning: Parsing '19/06/2020' in DD/MM/YYYY format. Provide format or specify infer_datetime_format=True for consistent parsing.\n",
      "  cache_array = _maybe_cache(arg, format, cache, convert_listlike)\n",
      "/Users/ariklevy/opt/anaconda3/envs/firstEnv/lib/python3.10/site-packages/pandas/core/tools/datetimes.py:1047: UserWarning: Parsing '20/06/2020' in DD/MM/YYYY format. Provide format or specify infer_datetime_format=True for consistent parsing.\n",
      "  cache_array = _maybe_cache(arg, format, cache, convert_listlike)\n",
      "/Users/ariklevy/opt/anaconda3/envs/firstEnv/lib/python3.10/site-packages/pandas/core/tools/datetimes.py:1047: UserWarning: Parsing '21/06/2020' in DD/MM/YYYY format. Provide format or specify infer_datetime_format=True for consistent parsing.\n",
      "  cache_array = _maybe_cache(arg, format, cache, convert_listlike)\n",
      "/Users/ariklevy/opt/anaconda3/envs/firstEnv/lib/python3.10/site-packages/pandas/core/tools/datetimes.py:1047: UserWarning: Parsing '22/06/2020' in DD/MM/YYYY format. Provide format or specify infer_datetime_format=True for consistent parsing.\n",
      "  cache_array = _maybe_cache(arg, format, cache, convert_listlike)\n",
      "/Users/ariklevy/opt/anaconda3/envs/firstEnv/lib/python3.10/site-packages/pandas/core/tools/datetimes.py:1047: UserWarning: Parsing '23/06/2020' in DD/MM/YYYY format. Provide format or specify infer_datetime_format=True for consistent parsing.\n",
      "  cache_array = _maybe_cache(arg, format, cache, convert_listlike)\n",
      "/Users/ariklevy/opt/anaconda3/envs/firstEnv/lib/python3.10/site-packages/pandas/core/tools/datetimes.py:1047: UserWarning: Parsing '24/06/2020' in DD/MM/YYYY format. Provide format or specify infer_datetime_format=True for consistent parsing.\n",
      "  cache_array = _maybe_cache(arg, format, cache, convert_listlike)\n",
      "/Users/ariklevy/opt/anaconda3/envs/firstEnv/lib/python3.10/site-packages/pandas/core/tools/datetimes.py:1047: UserWarning: Parsing '25/06/2020' in DD/MM/YYYY format. Provide format or specify infer_datetime_format=True for consistent parsing.\n",
      "  cache_array = _maybe_cache(arg, format, cache, convert_listlike)\n",
      "/Users/ariklevy/opt/anaconda3/envs/firstEnv/lib/python3.10/site-packages/pandas/core/tools/datetimes.py:1047: UserWarning: Parsing '26/06/2020' in DD/MM/YYYY format. Provide format or specify infer_datetime_format=True for consistent parsing.\n",
      "  cache_array = _maybe_cache(arg, format, cache, convert_listlike)\n",
      "/Users/ariklevy/opt/anaconda3/envs/firstEnv/lib/python3.10/site-packages/pandas/core/tools/datetimes.py:1047: UserWarning: Parsing '27/06/2020' in DD/MM/YYYY format. Provide format or specify infer_datetime_format=True for consistent parsing.\n",
      "  cache_array = _maybe_cache(arg, format, cache, convert_listlike)\n",
      "/Users/ariklevy/opt/anaconda3/envs/firstEnv/lib/python3.10/site-packages/pandas/core/tools/datetimes.py:1047: UserWarning: Parsing '28/06/2020' in DD/MM/YYYY format. Provide format or specify infer_datetime_format=True for consistent parsing.\n",
      "  cache_array = _maybe_cache(arg, format, cache, convert_listlike)\n",
      "/Users/ariklevy/opt/anaconda3/envs/firstEnv/lib/python3.10/site-packages/pandas/core/tools/datetimes.py:1047: UserWarning: Parsing '29/06/2020' in DD/MM/YYYY format. Provide format or specify infer_datetime_format=True for consistent parsing.\n",
      "  cache_array = _maybe_cache(arg, format, cache, convert_listlike)\n",
      "/Users/ariklevy/opt/anaconda3/envs/firstEnv/lib/python3.10/site-packages/pandas/core/tools/datetimes.py:1047: UserWarning: Parsing '30/06/2020' in DD/MM/YYYY format. Provide format or specify infer_datetime_format=True for consistent parsing.\n",
      "  cache_array = _maybe_cache(arg, format, cache, convert_listlike)\n",
      "/Users/ariklevy/opt/anaconda3/envs/firstEnv/lib/python3.10/site-packages/pandas/core/tools/datetimes.py:1047: UserWarning: Parsing '13/07/2020' in DD/MM/YYYY format. Provide format or specify infer_datetime_format=True for consistent parsing.\n",
      "  cache_array = _maybe_cache(arg, format, cache, convert_listlike)\n",
      "/Users/ariklevy/opt/anaconda3/envs/firstEnv/lib/python3.10/site-packages/pandas/core/tools/datetimes.py:1047: UserWarning: Parsing '14/07/2020' in DD/MM/YYYY format. Provide format or specify infer_datetime_format=True for consistent parsing.\n",
      "  cache_array = _maybe_cache(arg, format, cache, convert_listlike)\n",
      "/Users/ariklevy/opt/anaconda3/envs/firstEnv/lib/python3.10/site-packages/pandas/core/tools/datetimes.py:1047: UserWarning: Parsing '15/07/2020' in DD/MM/YYYY format. Provide format or specify infer_datetime_format=True for consistent parsing.\n",
      "  cache_array = _maybe_cache(arg, format, cache, convert_listlike)\n",
      "/Users/ariklevy/opt/anaconda3/envs/firstEnv/lib/python3.10/site-packages/pandas/core/tools/datetimes.py:1047: UserWarning: Parsing '16/07/2020' in DD/MM/YYYY format. Provide format or specify infer_datetime_format=True for consistent parsing.\n",
      "  cache_array = _maybe_cache(arg, format, cache, convert_listlike)\n",
      "/Users/ariklevy/opt/anaconda3/envs/firstEnv/lib/python3.10/site-packages/pandas/core/tools/datetimes.py:1047: UserWarning: Parsing '17/07/2020' in DD/MM/YYYY format. Provide format or specify infer_datetime_format=True for consistent parsing.\n",
      "  cache_array = _maybe_cache(arg, format, cache, convert_listlike)\n",
      "/Users/ariklevy/opt/anaconda3/envs/firstEnv/lib/python3.10/site-packages/pandas/core/tools/datetimes.py:1047: UserWarning: Parsing '18/07/2020' in DD/MM/YYYY format. Provide format or specify infer_datetime_format=True for consistent parsing.\n",
      "  cache_array = _maybe_cache(arg, format, cache, convert_listlike)\n",
      "/Users/ariklevy/opt/anaconda3/envs/firstEnv/lib/python3.10/site-packages/pandas/core/tools/datetimes.py:1047: UserWarning: Parsing '19/07/2020' in DD/MM/YYYY format. Provide format or specify infer_datetime_format=True for consistent parsing.\n",
      "  cache_array = _maybe_cache(arg, format, cache, convert_listlike)\n",
      "/Users/ariklevy/opt/anaconda3/envs/firstEnv/lib/python3.10/site-packages/pandas/core/tools/datetimes.py:1047: UserWarning: Parsing '20/07/2020' in DD/MM/YYYY format. Provide format or specify infer_datetime_format=True for consistent parsing.\n",
      "  cache_array = _maybe_cache(arg, format, cache, convert_listlike)\n",
      "/Users/ariklevy/opt/anaconda3/envs/firstEnv/lib/python3.10/site-packages/pandas/core/tools/datetimes.py:1047: UserWarning: Parsing '21/07/2020' in DD/MM/YYYY format. Provide format or specify infer_datetime_format=True for consistent parsing.\n",
      "  cache_array = _maybe_cache(arg, format, cache, convert_listlike)\n",
      "/Users/ariklevy/opt/anaconda3/envs/firstEnv/lib/python3.10/site-packages/pandas/core/tools/datetimes.py:1047: UserWarning: Parsing '22/07/2020' in DD/MM/YYYY format. Provide format or specify infer_datetime_format=True for consistent parsing.\n",
      "  cache_array = _maybe_cache(arg, format, cache, convert_listlike)\n",
      "/Users/ariklevy/opt/anaconda3/envs/firstEnv/lib/python3.10/site-packages/pandas/core/tools/datetimes.py:1047: UserWarning: Parsing '23/07/2020' in DD/MM/YYYY format. Provide format or specify infer_datetime_format=True for consistent parsing.\n",
      "  cache_array = _maybe_cache(arg, format, cache, convert_listlike)\n",
      "/Users/ariklevy/opt/anaconda3/envs/firstEnv/lib/python3.10/site-packages/pandas/core/tools/datetimes.py:1047: UserWarning: Parsing '24/07/2020' in DD/MM/YYYY format. Provide format or specify infer_datetime_format=True for consistent parsing.\n",
      "  cache_array = _maybe_cache(arg, format, cache, convert_listlike)\n",
      "/Users/ariklevy/opt/anaconda3/envs/firstEnv/lib/python3.10/site-packages/pandas/core/tools/datetimes.py:1047: UserWarning: Parsing '25/07/2020' in DD/MM/YYYY format. Provide format or specify infer_datetime_format=True for consistent parsing.\n",
      "  cache_array = _maybe_cache(arg, format, cache, convert_listlike)\n",
      "/Users/ariklevy/opt/anaconda3/envs/firstEnv/lib/python3.10/site-packages/pandas/core/tools/datetimes.py:1047: UserWarning: Parsing '26/07/2020' in DD/MM/YYYY format. Provide format or specify infer_datetime_format=True for consistent parsing.\n",
      "  cache_array = _maybe_cache(arg, format, cache, convert_listlike)\n",
      "/Users/ariklevy/opt/anaconda3/envs/firstEnv/lib/python3.10/site-packages/pandas/core/tools/datetimes.py:1047: UserWarning: Parsing '27/07/2020' in DD/MM/YYYY format. Provide format or specify infer_datetime_format=True for consistent parsing.\n",
      "  cache_array = _maybe_cache(arg, format, cache, convert_listlike)\n",
      "/Users/ariklevy/opt/anaconda3/envs/firstEnv/lib/python3.10/site-packages/pandas/core/tools/datetimes.py:1047: UserWarning: Parsing '28/07/2020' in DD/MM/YYYY format. Provide format or specify infer_datetime_format=True for consistent parsing.\n",
      "  cache_array = _maybe_cache(arg, format, cache, convert_listlike)\n",
      "/Users/ariklevy/opt/anaconda3/envs/firstEnv/lib/python3.10/site-packages/pandas/core/tools/datetimes.py:1047: UserWarning: Parsing '29/07/2020' in DD/MM/YYYY format. Provide format or specify infer_datetime_format=True for consistent parsing.\n",
      "  cache_array = _maybe_cache(arg, format, cache, convert_listlike)\n",
      "/Users/ariklevy/opt/anaconda3/envs/firstEnv/lib/python3.10/site-packages/pandas/core/tools/datetimes.py:1047: UserWarning: Parsing '30/07/2020' in DD/MM/YYYY format. Provide format or specify infer_datetime_format=True for consistent parsing.\n",
      "  cache_array = _maybe_cache(arg, format, cache, convert_listlike)\n",
      "/Users/ariklevy/opt/anaconda3/envs/firstEnv/lib/python3.10/site-packages/pandas/core/tools/datetimes.py:1047: UserWarning: Parsing '31/07/2020' in DD/MM/YYYY format. Provide format or specify infer_datetime_format=True for consistent parsing.\n",
      "  cache_array = _maybe_cache(arg, format, cache, convert_listlike)\n",
      "/Users/ariklevy/opt/anaconda3/envs/firstEnv/lib/python3.10/site-packages/pandas/core/tools/datetimes.py:1047: UserWarning: Parsing '13/08/2020' in DD/MM/YYYY format. Provide format or specify infer_datetime_format=True for consistent parsing.\n",
      "  cache_array = _maybe_cache(arg, format, cache, convert_listlike)\n",
      "/Users/ariklevy/opt/anaconda3/envs/firstEnv/lib/python3.10/site-packages/pandas/core/tools/datetimes.py:1047: UserWarning: Parsing '14/08/2020' in DD/MM/YYYY format. Provide format or specify infer_datetime_format=True for consistent parsing.\n",
      "  cache_array = _maybe_cache(arg, format, cache, convert_listlike)\n",
      "/Users/ariklevy/opt/anaconda3/envs/firstEnv/lib/python3.10/site-packages/pandas/core/tools/datetimes.py:1047: UserWarning: Parsing '15/08/2020' in DD/MM/YYYY format. Provide format or specify infer_datetime_format=True for consistent parsing.\n",
      "  cache_array = _maybe_cache(arg, format, cache, convert_listlike)\n",
      "/Users/ariklevy/opt/anaconda3/envs/firstEnv/lib/python3.10/site-packages/pandas/core/tools/datetimes.py:1047: UserWarning: Parsing '16/08/2020' in DD/MM/YYYY format. Provide format or specify infer_datetime_format=True for consistent parsing.\n",
      "  cache_array = _maybe_cache(arg, format, cache, convert_listlike)\n",
      "/Users/ariklevy/opt/anaconda3/envs/firstEnv/lib/python3.10/site-packages/pandas/core/tools/datetimes.py:1047: UserWarning: Parsing '17/08/2020' in DD/MM/YYYY format. Provide format or specify infer_datetime_format=True for consistent parsing.\n",
      "  cache_array = _maybe_cache(arg, format, cache, convert_listlike)\n",
      "/Users/ariklevy/opt/anaconda3/envs/firstEnv/lib/python3.10/site-packages/pandas/core/tools/datetimes.py:1047: UserWarning: Parsing '18/08/2020' in DD/MM/YYYY format. Provide format or specify infer_datetime_format=True for consistent parsing.\n",
      "  cache_array = _maybe_cache(arg, format, cache, convert_listlike)\n",
      "/Users/ariklevy/opt/anaconda3/envs/firstEnv/lib/python3.10/site-packages/pandas/core/tools/datetimes.py:1047: UserWarning: Parsing '19/08/2020' in DD/MM/YYYY format. Provide format or specify infer_datetime_format=True for consistent parsing.\n",
      "  cache_array = _maybe_cache(arg, format, cache, convert_listlike)\n",
      "/Users/ariklevy/opt/anaconda3/envs/firstEnv/lib/python3.10/site-packages/pandas/core/tools/datetimes.py:1047: UserWarning: Parsing '20/08/2020' in DD/MM/YYYY format. Provide format or specify infer_datetime_format=True for consistent parsing.\n",
      "  cache_array = _maybe_cache(arg, format, cache, convert_listlike)\n",
      "/Users/ariklevy/opt/anaconda3/envs/firstEnv/lib/python3.10/site-packages/pandas/core/tools/datetimes.py:1047: UserWarning: Parsing '21/08/2020' in DD/MM/YYYY format. Provide format or specify infer_datetime_format=True for consistent parsing.\n",
      "  cache_array = _maybe_cache(arg, format, cache, convert_listlike)\n",
      "/Users/ariklevy/opt/anaconda3/envs/firstEnv/lib/python3.10/site-packages/pandas/core/tools/datetimes.py:1047: UserWarning: Parsing '22/08/2020' in DD/MM/YYYY format. Provide format or specify infer_datetime_format=True for consistent parsing.\n",
      "  cache_array = _maybe_cache(arg, format, cache, convert_listlike)\n",
      "/Users/ariklevy/opt/anaconda3/envs/firstEnv/lib/python3.10/site-packages/pandas/core/tools/datetimes.py:1047: UserWarning: Parsing '23/08/2020' in DD/MM/YYYY format. Provide format or specify infer_datetime_format=True for consistent parsing.\n",
      "  cache_array = _maybe_cache(arg, format, cache, convert_listlike)\n",
      "/Users/ariklevy/opt/anaconda3/envs/firstEnv/lib/python3.10/site-packages/pandas/core/tools/datetimes.py:1047: UserWarning: Parsing '24/08/2020' in DD/MM/YYYY format. Provide format or specify infer_datetime_format=True for consistent parsing.\n",
      "  cache_array = _maybe_cache(arg, format, cache, convert_listlike)\n",
      "/Users/ariklevy/opt/anaconda3/envs/firstEnv/lib/python3.10/site-packages/pandas/core/tools/datetimes.py:1047: UserWarning: Parsing '25/08/2020' in DD/MM/YYYY format. Provide format or specify infer_datetime_format=True for consistent parsing.\n",
      "  cache_array = _maybe_cache(arg, format, cache, convert_listlike)\n",
      "/Users/ariklevy/opt/anaconda3/envs/firstEnv/lib/python3.10/site-packages/pandas/core/tools/datetimes.py:1047: UserWarning: Parsing '26/08/2020' in DD/MM/YYYY format. Provide format or specify infer_datetime_format=True for consistent parsing.\n",
      "  cache_array = _maybe_cache(arg, format, cache, convert_listlike)\n",
      "/Users/ariklevy/opt/anaconda3/envs/firstEnv/lib/python3.10/site-packages/pandas/core/tools/datetimes.py:1047: UserWarning: Parsing '27/08/2020' in DD/MM/YYYY format. Provide format or specify infer_datetime_format=True for consistent parsing.\n",
      "  cache_array = _maybe_cache(arg, format, cache, convert_listlike)\n",
      "/Users/ariklevy/opt/anaconda3/envs/firstEnv/lib/python3.10/site-packages/pandas/core/tools/datetimes.py:1047: UserWarning: Parsing '28/08/2020' in DD/MM/YYYY format. Provide format or specify infer_datetime_format=True for consistent parsing.\n",
      "  cache_array = _maybe_cache(arg, format, cache, convert_listlike)\n",
      "/Users/ariklevy/opt/anaconda3/envs/firstEnv/lib/python3.10/site-packages/pandas/core/tools/datetimes.py:1047: UserWarning: Parsing '29/08/2020' in DD/MM/YYYY format. Provide format or specify infer_datetime_format=True for consistent parsing.\n",
      "  cache_array = _maybe_cache(arg, format, cache, convert_listlike)\n",
      "/Users/ariklevy/opt/anaconda3/envs/firstEnv/lib/python3.10/site-packages/pandas/core/tools/datetimes.py:1047: UserWarning: Parsing '30/08/2020' in DD/MM/YYYY format. Provide format or specify infer_datetime_format=True for consistent parsing.\n",
      "  cache_array = _maybe_cache(arg, format, cache, convert_listlike)\n",
      "/Users/ariklevy/opt/anaconda3/envs/firstEnv/lib/python3.10/site-packages/pandas/core/tools/datetimes.py:1047: UserWarning: Parsing '31/08/2020' in DD/MM/YYYY format. Provide format or specify infer_datetime_format=True for consistent parsing.\n",
      "  cache_array = _maybe_cache(arg, format, cache, convert_listlike)\n",
      "/Users/ariklevy/opt/anaconda3/envs/firstEnv/lib/python3.10/site-packages/pandas/core/tools/datetimes.py:1047: UserWarning: Parsing '13/09/2020' in DD/MM/YYYY format. Provide format or specify infer_datetime_format=True for consistent parsing.\n",
      "  cache_array = _maybe_cache(arg, format, cache, convert_listlike)\n",
      "/Users/ariklevy/opt/anaconda3/envs/firstEnv/lib/python3.10/site-packages/pandas/core/tools/datetimes.py:1047: UserWarning: Parsing '14/09/2020' in DD/MM/YYYY format. Provide format or specify infer_datetime_format=True for consistent parsing.\n",
      "  cache_array = _maybe_cache(arg, format, cache, convert_listlike)\n",
      "/Users/ariklevy/opt/anaconda3/envs/firstEnv/lib/python3.10/site-packages/pandas/core/tools/datetimes.py:1047: UserWarning: Parsing '15/09/2020' in DD/MM/YYYY format. Provide format or specify infer_datetime_format=True for consistent parsing.\n",
      "  cache_array = _maybe_cache(arg, format, cache, convert_listlike)\n",
      "/Users/ariklevy/opt/anaconda3/envs/firstEnv/lib/python3.10/site-packages/pandas/core/tools/datetimes.py:1047: UserWarning: Parsing '16/09/2020' in DD/MM/YYYY format. Provide format or specify infer_datetime_format=True for consistent parsing.\n",
      "  cache_array = _maybe_cache(arg, format, cache, convert_listlike)\n",
      "/Users/ariklevy/opt/anaconda3/envs/firstEnv/lib/python3.10/site-packages/pandas/core/tools/datetimes.py:1047: UserWarning: Parsing '17/09/2020' in DD/MM/YYYY format. Provide format or specify infer_datetime_format=True for consistent parsing.\n",
      "  cache_array = _maybe_cache(arg, format, cache, convert_listlike)\n",
      "/Users/ariklevy/opt/anaconda3/envs/firstEnv/lib/python3.10/site-packages/pandas/core/tools/datetimes.py:1047: UserWarning: Parsing '18/09/2020' in DD/MM/YYYY format. Provide format or specify infer_datetime_format=True for consistent parsing.\n",
      "  cache_array = _maybe_cache(arg, format, cache, convert_listlike)\n",
      "/Users/ariklevy/opt/anaconda3/envs/firstEnv/lib/python3.10/site-packages/pandas/core/tools/datetimes.py:1047: UserWarning: Parsing '19/09/2020' in DD/MM/YYYY format. Provide format or specify infer_datetime_format=True for consistent parsing.\n",
      "  cache_array = _maybe_cache(arg, format, cache, convert_listlike)\n",
      "/Users/ariklevy/opt/anaconda3/envs/firstEnv/lib/python3.10/site-packages/pandas/core/tools/datetimes.py:1047: UserWarning: Parsing '20/09/2020' in DD/MM/YYYY format. Provide format or specify infer_datetime_format=True for consistent parsing.\n",
      "  cache_array = _maybe_cache(arg, format, cache, convert_listlike)\n",
      "/Users/ariklevy/opt/anaconda3/envs/firstEnv/lib/python3.10/site-packages/pandas/core/tools/datetimes.py:1047: UserWarning: Parsing '21/09/2020' in DD/MM/YYYY format. Provide format or specify infer_datetime_format=True for consistent parsing.\n",
      "  cache_array = _maybe_cache(arg, format, cache, convert_listlike)\n",
      "/Users/ariklevy/opt/anaconda3/envs/firstEnv/lib/python3.10/site-packages/pandas/core/tools/datetimes.py:1047: UserWarning: Parsing '22/09/2020' in DD/MM/YYYY format. Provide format or specify infer_datetime_format=True for consistent parsing.\n",
      "  cache_array = _maybe_cache(arg, format, cache, convert_listlike)\n",
      "/Users/ariklevy/opt/anaconda3/envs/firstEnv/lib/python3.10/site-packages/pandas/core/tools/datetimes.py:1047: UserWarning: Parsing '23/09/2020' in DD/MM/YYYY format. Provide format or specify infer_datetime_format=True for consistent parsing.\n",
      "  cache_array = _maybe_cache(arg, format, cache, convert_listlike)\n",
      "/Users/ariklevy/opt/anaconda3/envs/firstEnv/lib/python3.10/site-packages/pandas/core/tools/datetimes.py:1047: UserWarning: Parsing '24/09/2020' in DD/MM/YYYY format. Provide format or specify infer_datetime_format=True for consistent parsing.\n",
      "  cache_array = _maybe_cache(arg, format, cache, convert_listlike)\n",
      "/Users/ariklevy/opt/anaconda3/envs/firstEnv/lib/python3.10/site-packages/pandas/core/tools/datetimes.py:1047: UserWarning: Parsing '25/09/2020' in DD/MM/YYYY format. Provide format or specify infer_datetime_format=True for consistent parsing.\n",
      "  cache_array = _maybe_cache(arg, format, cache, convert_listlike)\n",
      "/Users/ariklevy/opt/anaconda3/envs/firstEnv/lib/python3.10/site-packages/pandas/core/tools/datetimes.py:1047: UserWarning: Parsing '26/09/2020' in DD/MM/YYYY format. Provide format or specify infer_datetime_format=True for consistent parsing.\n",
      "  cache_array = _maybe_cache(arg, format, cache, convert_listlike)\n",
      "/Users/ariklevy/opt/anaconda3/envs/firstEnv/lib/python3.10/site-packages/pandas/core/tools/datetimes.py:1047: UserWarning: Parsing '27/09/2020' in DD/MM/YYYY format. Provide format or specify infer_datetime_format=True for consistent parsing.\n",
      "  cache_array = _maybe_cache(arg, format, cache, convert_listlike)\n",
      "/Users/ariklevy/opt/anaconda3/envs/firstEnv/lib/python3.10/site-packages/pandas/core/tools/datetimes.py:1047: UserWarning: Parsing '28/09/2020' in DD/MM/YYYY format. Provide format or specify infer_datetime_format=True for consistent parsing.\n",
      "  cache_array = _maybe_cache(arg, format, cache, convert_listlike)\n",
      "/Users/ariklevy/opt/anaconda3/envs/firstEnv/lib/python3.10/site-packages/pandas/core/tools/datetimes.py:1047: UserWarning: Parsing '29/09/2020' in DD/MM/YYYY format. Provide format or specify infer_datetime_format=True for consistent parsing.\n",
      "  cache_array = _maybe_cache(arg, format, cache, convert_listlike)\n",
      "/Users/ariklevy/opt/anaconda3/envs/firstEnv/lib/python3.10/site-packages/pandas/core/tools/datetimes.py:1047: UserWarning: Parsing '30/09/2020' in DD/MM/YYYY format. Provide format or specify infer_datetime_format=True for consistent parsing.\n",
      "  cache_array = _maybe_cache(arg, format, cache, convert_listlike)\n",
      "/Users/ariklevy/opt/anaconda3/envs/firstEnv/lib/python3.10/site-packages/pandas/core/tools/datetimes.py:1047: UserWarning: Parsing '13/10/2020' in DD/MM/YYYY format. Provide format or specify infer_datetime_format=True for consistent parsing.\n",
      "  cache_array = _maybe_cache(arg, format, cache, convert_listlike)\n",
      "/Users/ariklevy/opt/anaconda3/envs/firstEnv/lib/python3.10/site-packages/pandas/core/tools/datetimes.py:1047: UserWarning: Parsing '14/10/2020' in DD/MM/YYYY format. Provide format or specify infer_datetime_format=True for consistent parsing.\n",
      "  cache_array = _maybe_cache(arg, format, cache, convert_listlike)\n",
      "/Users/ariklevy/opt/anaconda3/envs/firstEnv/lib/python3.10/site-packages/pandas/core/tools/datetimes.py:1047: UserWarning: Parsing '15/10/2020' in DD/MM/YYYY format. Provide format or specify infer_datetime_format=True for consistent parsing.\n",
      "  cache_array = _maybe_cache(arg, format, cache, convert_listlike)\n",
      "/Users/ariklevy/opt/anaconda3/envs/firstEnv/lib/python3.10/site-packages/pandas/core/tools/datetimes.py:1047: UserWarning: Parsing '16/10/2020' in DD/MM/YYYY format. Provide format or specify infer_datetime_format=True for consistent parsing.\n",
      "  cache_array = _maybe_cache(arg, format, cache, convert_listlike)\n",
      "/Users/ariklevy/opt/anaconda3/envs/firstEnv/lib/python3.10/site-packages/pandas/core/tools/datetimes.py:1047: UserWarning: Parsing '17/10/2020' in DD/MM/YYYY format. Provide format or specify infer_datetime_format=True for consistent parsing.\n",
      "  cache_array = _maybe_cache(arg, format, cache, convert_listlike)\n",
      "/Users/ariklevy/opt/anaconda3/envs/firstEnv/lib/python3.10/site-packages/pandas/core/tools/datetimes.py:1047: UserWarning: Parsing '18/10/2020' in DD/MM/YYYY format. Provide format or specify infer_datetime_format=True for consistent parsing.\n",
      "  cache_array = _maybe_cache(arg, format, cache, convert_listlike)\n",
      "/Users/ariklevy/opt/anaconda3/envs/firstEnv/lib/python3.10/site-packages/pandas/core/tools/datetimes.py:1047: UserWarning: Parsing '19/10/2020' in DD/MM/YYYY format. Provide format or specify infer_datetime_format=True for consistent parsing.\n",
      "  cache_array = _maybe_cache(arg, format, cache, convert_listlike)\n",
      "/Users/ariklevy/opt/anaconda3/envs/firstEnv/lib/python3.10/site-packages/pandas/core/tools/datetimes.py:1047: UserWarning: Parsing '20/10/2020' in DD/MM/YYYY format. Provide format or specify infer_datetime_format=True for consistent parsing.\n",
      "  cache_array = _maybe_cache(arg, format, cache, convert_listlike)\n",
      "/Users/ariklevy/opt/anaconda3/envs/firstEnv/lib/python3.10/site-packages/pandas/core/tools/datetimes.py:1047: UserWarning: Parsing '21/10/2020' in DD/MM/YYYY format. Provide format or specify infer_datetime_format=True for consistent parsing.\n",
      "  cache_array = _maybe_cache(arg, format, cache, convert_listlike)\n",
      "/Users/ariklevy/opt/anaconda3/envs/firstEnv/lib/python3.10/site-packages/pandas/core/tools/datetimes.py:1047: UserWarning: Parsing '22/10/2020' in DD/MM/YYYY format. Provide format or specify infer_datetime_format=True for consistent parsing.\n",
      "  cache_array = _maybe_cache(arg, format, cache, convert_listlike)\n",
      "/Users/ariklevy/opt/anaconda3/envs/firstEnv/lib/python3.10/site-packages/pandas/core/tools/datetimes.py:1047: UserWarning: Parsing '23/10/2020' in DD/MM/YYYY format. Provide format or specify infer_datetime_format=True for consistent parsing.\n",
      "  cache_array = _maybe_cache(arg, format, cache, convert_listlike)\n",
      "/Users/ariklevy/opt/anaconda3/envs/firstEnv/lib/python3.10/site-packages/pandas/core/tools/datetimes.py:1047: UserWarning: Parsing '24/10/2020' in DD/MM/YYYY format. Provide format or specify infer_datetime_format=True for consistent parsing.\n",
      "  cache_array = _maybe_cache(arg, format, cache, convert_listlike)\n",
      "/Users/ariklevy/opt/anaconda3/envs/firstEnv/lib/python3.10/site-packages/pandas/core/tools/datetimes.py:1047: UserWarning: Parsing '25/10/2020' in DD/MM/YYYY format. Provide format or specify infer_datetime_format=True for consistent parsing.\n",
      "  cache_array = _maybe_cache(arg, format, cache, convert_listlike)\n",
      "/Users/ariklevy/opt/anaconda3/envs/firstEnv/lib/python3.10/site-packages/pandas/core/tools/datetimes.py:1047: UserWarning: Parsing '26/10/2020' in DD/MM/YYYY format. Provide format or specify infer_datetime_format=True for consistent parsing.\n",
      "  cache_array = _maybe_cache(arg, format, cache, convert_listlike)\n",
      "/Users/ariklevy/opt/anaconda3/envs/firstEnv/lib/python3.10/site-packages/pandas/core/tools/datetimes.py:1047: UserWarning: Parsing '27/10/2020' in DD/MM/YYYY format. Provide format or specify infer_datetime_format=True for consistent parsing.\n",
      "  cache_array = _maybe_cache(arg, format, cache, convert_listlike)\n",
      "/Users/ariklevy/opt/anaconda3/envs/firstEnv/lib/python3.10/site-packages/pandas/core/tools/datetimes.py:1047: UserWarning: Parsing '28/10/2020' in DD/MM/YYYY format. Provide format or specify infer_datetime_format=True for consistent parsing.\n",
      "  cache_array = _maybe_cache(arg, format, cache, convert_listlike)\n",
      "/Users/ariklevy/opt/anaconda3/envs/firstEnv/lib/python3.10/site-packages/pandas/core/tools/datetimes.py:1047: UserWarning: Parsing '29/10/2020' in DD/MM/YYYY format. Provide format or specify infer_datetime_format=True for consistent parsing.\n",
      "  cache_array = _maybe_cache(arg, format, cache, convert_listlike)\n",
      "/Users/ariklevy/opt/anaconda3/envs/firstEnv/lib/python3.10/site-packages/pandas/core/tools/datetimes.py:1047: UserWarning: Parsing '30/10/2020' in DD/MM/YYYY format. Provide format or specify infer_datetime_format=True for consistent parsing.\n",
      "  cache_array = _maybe_cache(arg, format, cache, convert_listlike)\n",
      "/Users/ariklevy/opt/anaconda3/envs/firstEnv/lib/python3.10/site-packages/pandas/core/tools/datetimes.py:1047: UserWarning: Parsing '31/10/2020' in DD/MM/YYYY format. Provide format or specify infer_datetime_format=True for consistent parsing.\n",
      "  cache_array = _maybe_cache(arg, format, cache, convert_listlike)\n",
      "/Users/ariklevy/opt/anaconda3/envs/firstEnv/lib/python3.10/site-packages/pandas/core/tools/datetimes.py:1047: UserWarning: Parsing '13/11/2020' in DD/MM/YYYY format. Provide format or specify infer_datetime_format=True for consistent parsing.\n",
      "  cache_array = _maybe_cache(arg, format, cache, convert_listlike)\n",
      "/Users/ariklevy/opt/anaconda3/envs/firstEnv/lib/python3.10/site-packages/pandas/core/tools/datetimes.py:1047: UserWarning: Parsing '14/11/2020' in DD/MM/YYYY format. Provide format or specify infer_datetime_format=True for consistent parsing.\n",
      "  cache_array = _maybe_cache(arg, format, cache, convert_listlike)\n",
      "/Users/ariklevy/opt/anaconda3/envs/firstEnv/lib/python3.10/site-packages/pandas/core/tools/datetimes.py:1047: UserWarning: Parsing '15/11/2020' in DD/MM/YYYY format. Provide format or specify infer_datetime_format=True for consistent parsing.\n",
      "  cache_array = _maybe_cache(arg, format, cache, convert_listlike)\n",
      "/Users/ariklevy/opt/anaconda3/envs/firstEnv/lib/python3.10/site-packages/pandas/core/tools/datetimes.py:1047: UserWarning: Parsing '16/11/2020' in DD/MM/YYYY format. Provide format or specify infer_datetime_format=True for consistent parsing.\n",
      "  cache_array = _maybe_cache(arg, format, cache, convert_listlike)\n",
      "/Users/ariklevy/opt/anaconda3/envs/firstEnv/lib/python3.10/site-packages/pandas/core/tools/datetimes.py:1047: UserWarning: Parsing '17/11/2020' in DD/MM/YYYY format. Provide format or specify infer_datetime_format=True for consistent parsing.\n",
      "  cache_array = _maybe_cache(arg, format, cache, convert_listlike)\n",
      "/Users/ariklevy/opt/anaconda3/envs/firstEnv/lib/python3.10/site-packages/pandas/core/tools/datetimes.py:1047: UserWarning: Parsing '18/11/2020' in DD/MM/YYYY format. Provide format or specify infer_datetime_format=True for consistent parsing.\n",
      "  cache_array = _maybe_cache(arg, format, cache, convert_listlike)\n",
      "/Users/ariklevy/opt/anaconda3/envs/firstEnv/lib/python3.10/site-packages/pandas/core/tools/datetimes.py:1047: UserWarning: Parsing '19/11/2020' in DD/MM/YYYY format. Provide format or specify infer_datetime_format=True for consistent parsing.\n",
      "  cache_array = _maybe_cache(arg, format, cache, convert_listlike)\n",
      "/Users/ariklevy/opt/anaconda3/envs/firstEnv/lib/python3.10/site-packages/pandas/core/tools/datetimes.py:1047: UserWarning: Parsing '20/11/2020' in DD/MM/YYYY format. Provide format or specify infer_datetime_format=True for consistent parsing.\n",
      "  cache_array = _maybe_cache(arg, format, cache, convert_listlike)\n",
      "/Users/ariklevy/opt/anaconda3/envs/firstEnv/lib/python3.10/site-packages/pandas/core/tools/datetimes.py:1047: UserWarning: Parsing '21/11/2020' in DD/MM/YYYY format. Provide format or specify infer_datetime_format=True for consistent parsing.\n",
      "  cache_array = _maybe_cache(arg, format, cache, convert_listlike)\n",
      "/Users/ariklevy/opt/anaconda3/envs/firstEnv/lib/python3.10/site-packages/pandas/core/tools/datetimes.py:1047: UserWarning: Parsing '22/11/2020' in DD/MM/YYYY format. Provide format or specify infer_datetime_format=True for consistent parsing.\n",
      "  cache_array = _maybe_cache(arg, format, cache, convert_listlike)\n",
      "/Users/ariklevy/opt/anaconda3/envs/firstEnv/lib/python3.10/site-packages/pandas/core/tools/datetimes.py:1047: UserWarning: Parsing '23/11/2020' in DD/MM/YYYY format. Provide format or specify infer_datetime_format=True for consistent parsing.\n",
      "  cache_array = _maybe_cache(arg, format, cache, convert_listlike)\n",
      "/Users/ariklevy/opt/anaconda3/envs/firstEnv/lib/python3.10/site-packages/pandas/core/tools/datetimes.py:1047: UserWarning: Parsing '24/11/2020' in DD/MM/YYYY format. Provide format or specify infer_datetime_format=True for consistent parsing.\n",
      "  cache_array = _maybe_cache(arg, format, cache, convert_listlike)\n",
      "/Users/ariklevy/opt/anaconda3/envs/firstEnv/lib/python3.10/site-packages/pandas/core/tools/datetimes.py:1047: UserWarning: Parsing '25/11/2020' in DD/MM/YYYY format. Provide format or specify infer_datetime_format=True for consistent parsing.\n",
      "  cache_array = _maybe_cache(arg, format, cache, convert_listlike)\n",
      "/Users/ariklevy/opt/anaconda3/envs/firstEnv/lib/python3.10/site-packages/pandas/core/tools/datetimes.py:1047: UserWarning: Parsing '26/11/2020' in DD/MM/YYYY format. Provide format or specify infer_datetime_format=True for consistent parsing.\n",
      "  cache_array = _maybe_cache(arg, format, cache, convert_listlike)\n",
      "/Users/ariklevy/opt/anaconda3/envs/firstEnv/lib/python3.10/site-packages/pandas/core/tools/datetimes.py:1047: UserWarning: Parsing '27/11/2020' in DD/MM/YYYY format. Provide format or specify infer_datetime_format=True for consistent parsing.\n",
      "  cache_array = _maybe_cache(arg, format, cache, convert_listlike)\n",
      "/Users/ariklevy/opt/anaconda3/envs/firstEnv/lib/python3.10/site-packages/pandas/core/tools/datetimes.py:1047: UserWarning: Parsing '28/11/2020' in DD/MM/YYYY format. Provide format or specify infer_datetime_format=True for consistent parsing.\n",
      "  cache_array = _maybe_cache(arg, format, cache, convert_listlike)\n",
      "/Users/ariklevy/opt/anaconda3/envs/firstEnv/lib/python3.10/site-packages/pandas/core/tools/datetimes.py:1047: UserWarning: Parsing '29/11/2020' in DD/MM/YYYY format. Provide format or specify infer_datetime_format=True for consistent parsing.\n",
      "  cache_array = _maybe_cache(arg, format, cache, convert_listlike)\n",
      "/Users/ariklevy/opt/anaconda3/envs/firstEnv/lib/python3.10/site-packages/pandas/core/tools/datetimes.py:1047: UserWarning: Parsing '30/11/2020' in DD/MM/YYYY format. Provide format or specify infer_datetime_format=True for consistent parsing.\n",
      "  cache_array = _maybe_cache(arg, format, cache, convert_listlike)\n",
      "/Users/ariklevy/opt/anaconda3/envs/firstEnv/lib/python3.10/site-packages/pandas/core/tools/datetimes.py:1047: UserWarning: Parsing '13/12/2020' in DD/MM/YYYY format. Provide format or specify infer_datetime_format=True for consistent parsing.\n",
      "  cache_array = _maybe_cache(arg, format, cache, convert_listlike)\n",
      "/Users/ariklevy/opt/anaconda3/envs/firstEnv/lib/python3.10/site-packages/pandas/core/tools/datetimes.py:1047: UserWarning: Parsing '14/12/2020' in DD/MM/YYYY format. Provide format or specify infer_datetime_format=True for consistent parsing.\n",
      "  cache_array = _maybe_cache(arg, format, cache, convert_listlike)\n",
      "/Users/ariklevy/opt/anaconda3/envs/firstEnv/lib/python3.10/site-packages/pandas/core/tools/datetimes.py:1047: UserWarning: Parsing '15/12/2020' in DD/MM/YYYY format. Provide format or specify infer_datetime_format=True for consistent parsing.\n",
      "  cache_array = _maybe_cache(arg, format, cache, convert_listlike)\n",
      "/Users/ariklevy/opt/anaconda3/envs/firstEnv/lib/python3.10/site-packages/pandas/core/tools/datetimes.py:1047: UserWarning: Parsing '16/12/2020' in DD/MM/YYYY format. Provide format or specify infer_datetime_format=True for consistent parsing.\n",
      "  cache_array = _maybe_cache(arg, format, cache, convert_listlike)\n",
      "/Users/ariklevy/opt/anaconda3/envs/firstEnv/lib/python3.10/site-packages/pandas/core/tools/datetimes.py:1047: UserWarning: Parsing '17/12/2020' in DD/MM/YYYY format. Provide format or specify infer_datetime_format=True for consistent parsing.\n",
      "  cache_array = _maybe_cache(arg, format, cache, convert_listlike)\n",
      "/Users/ariklevy/opt/anaconda3/envs/firstEnv/lib/python3.10/site-packages/pandas/core/tools/datetimes.py:1047: UserWarning: Parsing '18/12/2020' in DD/MM/YYYY format. Provide format or specify infer_datetime_format=True for consistent parsing.\n",
      "  cache_array = _maybe_cache(arg, format, cache, convert_listlike)\n",
      "/Users/ariklevy/opt/anaconda3/envs/firstEnv/lib/python3.10/site-packages/pandas/core/tools/datetimes.py:1047: UserWarning: Parsing '19/12/2020' in DD/MM/YYYY format. Provide format or specify infer_datetime_format=True for consistent parsing.\n",
      "  cache_array = _maybe_cache(arg, format, cache, convert_listlike)\n",
      "/Users/ariklevy/opt/anaconda3/envs/firstEnv/lib/python3.10/site-packages/pandas/core/tools/datetimes.py:1047: UserWarning: Parsing '20/12/2020' in DD/MM/YYYY format. Provide format or specify infer_datetime_format=True for consistent parsing.\n",
      "  cache_array = _maybe_cache(arg, format, cache, convert_listlike)\n",
      "/Users/ariklevy/opt/anaconda3/envs/firstEnv/lib/python3.10/site-packages/pandas/core/tools/datetimes.py:1047: UserWarning: Parsing '21/12/2020' in DD/MM/YYYY format. Provide format or specify infer_datetime_format=True for consistent parsing.\n",
      "  cache_array = _maybe_cache(arg, format, cache, convert_listlike)\n",
      "/Users/ariklevy/opt/anaconda3/envs/firstEnv/lib/python3.10/site-packages/pandas/core/tools/datetimes.py:1047: UserWarning: Parsing '22/12/2020' in DD/MM/YYYY format. Provide format or specify infer_datetime_format=True for consistent parsing.\n",
      "  cache_array = _maybe_cache(arg, format, cache, convert_listlike)\n",
      "/Users/ariklevy/opt/anaconda3/envs/firstEnv/lib/python3.10/site-packages/pandas/core/tools/datetimes.py:1047: UserWarning: Parsing '23/12/2020' in DD/MM/YYYY format. Provide format or specify infer_datetime_format=True for consistent parsing.\n",
      "  cache_array = _maybe_cache(arg, format, cache, convert_listlike)\n",
      "/Users/ariklevy/opt/anaconda3/envs/firstEnv/lib/python3.10/site-packages/pandas/core/tools/datetimes.py:1047: UserWarning: Parsing '24/12/2020' in DD/MM/YYYY format. Provide format or specify infer_datetime_format=True for consistent parsing.\n",
      "  cache_array = _maybe_cache(arg, format, cache, convert_listlike)\n",
      "/Users/ariklevy/opt/anaconda3/envs/firstEnv/lib/python3.10/site-packages/pandas/core/tools/datetimes.py:1047: UserWarning: Parsing '25/12/2020' in DD/MM/YYYY format. Provide format or specify infer_datetime_format=True for consistent parsing.\n",
      "  cache_array = _maybe_cache(arg, format, cache, convert_listlike)\n",
      "/Users/ariklevy/opt/anaconda3/envs/firstEnv/lib/python3.10/site-packages/pandas/core/tools/datetimes.py:1047: UserWarning: Parsing '26/12/2020' in DD/MM/YYYY format. Provide format or specify infer_datetime_format=True for consistent parsing.\n",
      "  cache_array = _maybe_cache(arg, format, cache, convert_listlike)\n",
      "/Users/ariklevy/opt/anaconda3/envs/firstEnv/lib/python3.10/site-packages/pandas/core/tools/datetimes.py:1047: UserWarning: Parsing '27/12/2020' in DD/MM/YYYY format. Provide format or specify infer_datetime_format=True for consistent parsing.\n",
      "  cache_array = _maybe_cache(arg, format, cache, convert_listlike)\n",
      "/Users/ariklevy/opt/anaconda3/envs/firstEnv/lib/python3.10/site-packages/pandas/core/tools/datetimes.py:1047: UserWarning: Parsing '28/12/2020' in DD/MM/YYYY format. Provide format or specify infer_datetime_format=True for consistent parsing.\n",
      "  cache_array = _maybe_cache(arg, format, cache, convert_listlike)\n",
      "/Users/ariklevy/opt/anaconda3/envs/firstEnv/lib/python3.10/site-packages/pandas/core/tools/datetimes.py:1047: UserWarning: Parsing '29/12/2020' in DD/MM/YYYY format. Provide format or specify infer_datetime_format=True for consistent parsing.\n",
      "  cache_array = _maybe_cache(arg, format, cache, convert_listlike)\n",
      "/Users/ariklevy/opt/anaconda3/envs/firstEnv/lib/python3.10/site-packages/pandas/core/tools/datetimes.py:1047: UserWarning: Parsing '30/12/2020' in DD/MM/YYYY format. Provide format or specify infer_datetime_format=True for consistent parsing.\n",
      "  cache_array = _maybe_cache(arg, format, cache, convert_listlike)\n",
      "/Users/ariklevy/opt/anaconda3/envs/firstEnv/lib/python3.10/site-packages/pandas/core/tools/datetimes.py:1047: UserWarning: Parsing '31/12/2020' in DD/MM/YYYY format. Provide format or specify infer_datetime_format=True for consistent parsing.\n",
      "  cache_array = _maybe_cache(arg, format, cache, convert_listlike)\n",
      "/Users/ariklevy/opt/anaconda3/envs/firstEnv/lib/python3.10/site-packages/pandas/core/tools/datetimes.py:1047: UserWarning: Parsing '13/01/2019' in DD/MM/YYYY format. Provide format or specify infer_datetime_format=True for consistent parsing.\n",
      "  cache_array = _maybe_cache(arg, format, cache, convert_listlike)\n",
      "/Users/ariklevy/opt/anaconda3/envs/firstEnv/lib/python3.10/site-packages/pandas/core/tools/datetimes.py:1047: UserWarning: Parsing '14/01/2019' in DD/MM/YYYY format. Provide format or specify infer_datetime_format=True for consistent parsing.\n",
      "  cache_array = _maybe_cache(arg, format, cache, convert_listlike)\n",
      "/Users/ariklevy/opt/anaconda3/envs/firstEnv/lib/python3.10/site-packages/pandas/core/tools/datetimes.py:1047: UserWarning: Parsing '15/01/2019' in DD/MM/YYYY format. Provide format or specify infer_datetime_format=True for consistent parsing.\n",
      "  cache_array = _maybe_cache(arg, format, cache, convert_listlike)\n",
      "/Users/ariklevy/opt/anaconda3/envs/firstEnv/lib/python3.10/site-packages/pandas/core/tools/datetimes.py:1047: UserWarning: Parsing '16/01/2019' in DD/MM/YYYY format. Provide format or specify infer_datetime_format=True for consistent parsing.\n",
      "  cache_array = _maybe_cache(arg, format, cache, convert_listlike)\n",
      "/Users/ariklevy/opt/anaconda3/envs/firstEnv/lib/python3.10/site-packages/pandas/core/tools/datetimes.py:1047: UserWarning: Parsing '17/01/2019' in DD/MM/YYYY format. Provide format or specify infer_datetime_format=True for consistent parsing.\n",
      "  cache_array = _maybe_cache(arg, format, cache, convert_listlike)\n",
      "/Users/ariklevy/opt/anaconda3/envs/firstEnv/lib/python3.10/site-packages/pandas/core/tools/datetimes.py:1047: UserWarning: Parsing '18/01/2019' in DD/MM/YYYY format. Provide format or specify infer_datetime_format=True for consistent parsing.\n",
      "  cache_array = _maybe_cache(arg, format, cache, convert_listlike)\n",
      "/Users/ariklevy/opt/anaconda3/envs/firstEnv/lib/python3.10/site-packages/pandas/core/tools/datetimes.py:1047: UserWarning: Parsing '19/01/2019' in DD/MM/YYYY format. Provide format or specify infer_datetime_format=True for consistent parsing.\n",
      "  cache_array = _maybe_cache(arg, format, cache, convert_listlike)\n",
      "/Users/ariklevy/opt/anaconda3/envs/firstEnv/lib/python3.10/site-packages/pandas/core/tools/datetimes.py:1047: UserWarning: Parsing '20/01/2019' in DD/MM/YYYY format. Provide format or specify infer_datetime_format=True for consistent parsing.\n",
      "  cache_array = _maybe_cache(arg, format, cache, convert_listlike)\n",
      "/Users/ariklevy/opt/anaconda3/envs/firstEnv/lib/python3.10/site-packages/pandas/core/tools/datetimes.py:1047: UserWarning: Parsing '21/01/2019' in DD/MM/YYYY format. Provide format or specify infer_datetime_format=True for consistent parsing.\n",
      "  cache_array = _maybe_cache(arg, format, cache, convert_listlike)\n",
      "/Users/ariklevy/opt/anaconda3/envs/firstEnv/lib/python3.10/site-packages/pandas/core/tools/datetimes.py:1047: UserWarning: Parsing '22/01/2019' in DD/MM/YYYY format. Provide format or specify infer_datetime_format=True for consistent parsing.\n",
      "  cache_array = _maybe_cache(arg, format, cache, convert_listlike)\n",
      "/Users/ariklevy/opt/anaconda3/envs/firstEnv/lib/python3.10/site-packages/pandas/core/tools/datetimes.py:1047: UserWarning: Parsing '23/01/2019' in DD/MM/YYYY format. Provide format or specify infer_datetime_format=True for consistent parsing.\n",
      "  cache_array = _maybe_cache(arg, format, cache, convert_listlike)\n",
      "/Users/ariklevy/opt/anaconda3/envs/firstEnv/lib/python3.10/site-packages/pandas/core/tools/datetimes.py:1047: UserWarning: Parsing '24/01/2019' in DD/MM/YYYY format. Provide format or specify infer_datetime_format=True for consistent parsing.\n",
      "  cache_array = _maybe_cache(arg, format, cache, convert_listlike)\n",
      "/Users/ariklevy/opt/anaconda3/envs/firstEnv/lib/python3.10/site-packages/pandas/core/tools/datetimes.py:1047: UserWarning: Parsing '25/01/2019' in DD/MM/YYYY format. Provide format or specify infer_datetime_format=True for consistent parsing.\n",
      "  cache_array = _maybe_cache(arg, format, cache, convert_listlike)\n",
      "/Users/ariklevy/opt/anaconda3/envs/firstEnv/lib/python3.10/site-packages/pandas/core/tools/datetimes.py:1047: UserWarning: Parsing '26/01/2019' in DD/MM/YYYY format. Provide format or specify infer_datetime_format=True for consistent parsing.\n",
      "  cache_array = _maybe_cache(arg, format, cache, convert_listlike)\n",
      "/Users/ariklevy/opt/anaconda3/envs/firstEnv/lib/python3.10/site-packages/pandas/core/tools/datetimes.py:1047: UserWarning: Parsing '27/01/2019' in DD/MM/YYYY format. Provide format or specify infer_datetime_format=True for consistent parsing.\n",
      "  cache_array = _maybe_cache(arg, format, cache, convert_listlike)\n",
      "/Users/ariklevy/opt/anaconda3/envs/firstEnv/lib/python3.10/site-packages/pandas/core/tools/datetimes.py:1047: UserWarning: Parsing '28/01/2019' in DD/MM/YYYY format. Provide format or specify infer_datetime_format=True for consistent parsing.\n",
      "  cache_array = _maybe_cache(arg, format, cache, convert_listlike)\n",
      "/Users/ariklevy/opt/anaconda3/envs/firstEnv/lib/python3.10/site-packages/pandas/core/tools/datetimes.py:1047: UserWarning: Parsing '29/01/2019' in DD/MM/YYYY format. Provide format or specify infer_datetime_format=True for consistent parsing.\n",
      "  cache_array = _maybe_cache(arg, format, cache, convert_listlike)\n",
      "/Users/ariklevy/opt/anaconda3/envs/firstEnv/lib/python3.10/site-packages/pandas/core/tools/datetimes.py:1047: UserWarning: Parsing '30/01/2019' in DD/MM/YYYY format. Provide format or specify infer_datetime_format=True for consistent parsing.\n",
      "  cache_array = _maybe_cache(arg, format, cache, convert_listlike)\n",
      "/Users/ariklevy/opt/anaconda3/envs/firstEnv/lib/python3.10/site-packages/pandas/core/tools/datetimes.py:1047: UserWarning: Parsing '31/01/2019' in DD/MM/YYYY format. Provide format or specify infer_datetime_format=True for consistent parsing.\n",
      "  cache_array = _maybe_cache(arg, format, cache, convert_listlike)\n",
      "/Users/ariklevy/opt/anaconda3/envs/firstEnv/lib/python3.10/site-packages/pandas/core/tools/datetimes.py:1047: UserWarning: Parsing '13/02/2019' in DD/MM/YYYY format. Provide format or specify infer_datetime_format=True for consistent parsing.\n",
      "  cache_array = _maybe_cache(arg, format, cache, convert_listlike)\n",
      "/Users/ariklevy/opt/anaconda3/envs/firstEnv/lib/python3.10/site-packages/pandas/core/tools/datetimes.py:1047: UserWarning: Parsing '14/02/2019' in DD/MM/YYYY format. Provide format or specify infer_datetime_format=True for consistent parsing.\n",
      "  cache_array = _maybe_cache(arg, format, cache, convert_listlike)\n",
      "/Users/ariklevy/opt/anaconda3/envs/firstEnv/lib/python3.10/site-packages/pandas/core/tools/datetimes.py:1047: UserWarning: Parsing '15/02/2019' in DD/MM/YYYY format. Provide format or specify infer_datetime_format=True for consistent parsing.\n",
      "  cache_array = _maybe_cache(arg, format, cache, convert_listlike)\n",
      "/Users/ariklevy/opt/anaconda3/envs/firstEnv/lib/python3.10/site-packages/pandas/core/tools/datetimes.py:1047: UserWarning: Parsing '16/02/2019' in DD/MM/YYYY format. Provide format or specify infer_datetime_format=True for consistent parsing.\n",
      "  cache_array = _maybe_cache(arg, format, cache, convert_listlike)\n",
      "/Users/ariklevy/opt/anaconda3/envs/firstEnv/lib/python3.10/site-packages/pandas/core/tools/datetimes.py:1047: UserWarning: Parsing '17/02/2019' in DD/MM/YYYY format. Provide format or specify infer_datetime_format=True for consistent parsing.\n",
      "  cache_array = _maybe_cache(arg, format, cache, convert_listlike)\n",
      "/Users/ariklevy/opt/anaconda3/envs/firstEnv/lib/python3.10/site-packages/pandas/core/tools/datetimes.py:1047: UserWarning: Parsing '18/02/2019' in DD/MM/YYYY format. Provide format or specify infer_datetime_format=True for consistent parsing.\n",
      "  cache_array = _maybe_cache(arg, format, cache, convert_listlike)\n",
      "/Users/ariklevy/opt/anaconda3/envs/firstEnv/lib/python3.10/site-packages/pandas/core/tools/datetimes.py:1047: UserWarning: Parsing '19/02/2019' in DD/MM/YYYY format. Provide format or specify infer_datetime_format=True for consistent parsing.\n",
      "  cache_array = _maybe_cache(arg, format, cache, convert_listlike)\n",
      "/Users/ariklevy/opt/anaconda3/envs/firstEnv/lib/python3.10/site-packages/pandas/core/tools/datetimes.py:1047: UserWarning: Parsing '20/02/2019' in DD/MM/YYYY format. Provide format or specify infer_datetime_format=True for consistent parsing.\n",
      "  cache_array = _maybe_cache(arg, format, cache, convert_listlike)\n",
      "/Users/ariklevy/opt/anaconda3/envs/firstEnv/lib/python3.10/site-packages/pandas/core/tools/datetimes.py:1047: UserWarning: Parsing '21/02/2019' in DD/MM/YYYY format. Provide format or specify infer_datetime_format=True for consistent parsing.\n",
      "  cache_array = _maybe_cache(arg, format, cache, convert_listlike)\n",
      "/Users/ariklevy/opt/anaconda3/envs/firstEnv/lib/python3.10/site-packages/pandas/core/tools/datetimes.py:1047: UserWarning: Parsing '22/02/2019' in DD/MM/YYYY format. Provide format or specify infer_datetime_format=True for consistent parsing.\n",
      "  cache_array = _maybe_cache(arg, format, cache, convert_listlike)\n",
      "/Users/ariklevy/opt/anaconda3/envs/firstEnv/lib/python3.10/site-packages/pandas/core/tools/datetimes.py:1047: UserWarning: Parsing '23/02/2019' in DD/MM/YYYY format. Provide format or specify infer_datetime_format=True for consistent parsing.\n",
      "  cache_array = _maybe_cache(arg, format, cache, convert_listlike)\n",
      "/Users/ariklevy/opt/anaconda3/envs/firstEnv/lib/python3.10/site-packages/pandas/core/tools/datetimes.py:1047: UserWarning: Parsing '24/02/2019' in DD/MM/YYYY format. Provide format or specify infer_datetime_format=True for consistent parsing.\n",
      "  cache_array = _maybe_cache(arg, format, cache, convert_listlike)\n",
      "/Users/ariklevy/opt/anaconda3/envs/firstEnv/lib/python3.10/site-packages/pandas/core/tools/datetimes.py:1047: UserWarning: Parsing '25/02/2019' in DD/MM/YYYY format. Provide format or specify infer_datetime_format=True for consistent parsing.\n",
      "  cache_array = _maybe_cache(arg, format, cache, convert_listlike)\n",
      "/Users/ariklevy/opt/anaconda3/envs/firstEnv/lib/python3.10/site-packages/pandas/core/tools/datetimes.py:1047: UserWarning: Parsing '26/02/2019' in DD/MM/YYYY format. Provide format or specify infer_datetime_format=True for consistent parsing.\n",
      "  cache_array = _maybe_cache(arg, format, cache, convert_listlike)\n",
      "/Users/ariklevy/opt/anaconda3/envs/firstEnv/lib/python3.10/site-packages/pandas/core/tools/datetimes.py:1047: UserWarning: Parsing '27/02/2019' in DD/MM/YYYY format. Provide format or specify infer_datetime_format=True for consistent parsing.\n",
      "  cache_array = _maybe_cache(arg, format, cache, convert_listlike)\n",
      "/Users/ariklevy/opt/anaconda3/envs/firstEnv/lib/python3.10/site-packages/pandas/core/tools/datetimes.py:1047: UserWarning: Parsing '28/02/2019' in DD/MM/YYYY format. Provide format or specify infer_datetime_format=True for consistent parsing.\n",
      "  cache_array = _maybe_cache(arg, format, cache, convert_listlike)\n",
      "/Users/ariklevy/opt/anaconda3/envs/firstEnv/lib/python3.10/site-packages/pandas/core/tools/datetimes.py:1047: UserWarning: Parsing '13/03/2019' in DD/MM/YYYY format. Provide format or specify infer_datetime_format=True for consistent parsing.\n",
      "  cache_array = _maybe_cache(arg, format, cache, convert_listlike)\n",
      "/Users/ariklevy/opt/anaconda3/envs/firstEnv/lib/python3.10/site-packages/pandas/core/tools/datetimes.py:1047: UserWarning: Parsing '14/03/2019' in DD/MM/YYYY format. Provide format or specify infer_datetime_format=True for consistent parsing.\n",
      "  cache_array = _maybe_cache(arg, format, cache, convert_listlike)\n",
      "/Users/ariklevy/opt/anaconda3/envs/firstEnv/lib/python3.10/site-packages/pandas/core/tools/datetimes.py:1047: UserWarning: Parsing '15/03/2019' in DD/MM/YYYY format. Provide format or specify infer_datetime_format=True for consistent parsing.\n",
      "  cache_array = _maybe_cache(arg, format, cache, convert_listlike)\n",
      "/Users/ariklevy/opt/anaconda3/envs/firstEnv/lib/python3.10/site-packages/pandas/core/tools/datetimes.py:1047: UserWarning: Parsing '16/03/2019' in DD/MM/YYYY format. Provide format or specify infer_datetime_format=True for consistent parsing.\n",
      "  cache_array = _maybe_cache(arg, format, cache, convert_listlike)\n",
      "/Users/ariklevy/opt/anaconda3/envs/firstEnv/lib/python3.10/site-packages/pandas/core/tools/datetimes.py:1047: UserWarning: Parsing '17/03/2019' in DD/MM/YYYY format. Provide format or specify infer_datetime_format=True for consistent parsing.\n",
      "  cache_array = _maybe_cache(arg, format, cache, convert_listlike)\n",
      "/Users/ariklevy/opt/anaconda3/envs/firstEnv/lib/python3.10/site-packages/pandas/core/tools/datetimes.py:1047: UserWarning: Parsing '18/03/2019' in DD/MM/YYYY format. Provide format or specify infer_datetime_format=True for consistent parsing.\n",
      "  cache_array = _maybe_cache(arg, format, cache, convert_listlike)\n",
      "/Users/ariklevy/opt/anaconda3/envs/firstEnv/lib/python3.10/site-packages/pandas/core/tools/datetimes.py:1047: UserWarning: Parsing '19/03/2019' in DD/MM/YYYY format. Provide format or specify infer_datetime_format=True for consistent parsing.\n",
      "  cache_array = _maybe_cache(arg, format, cache, convert_listlike)\n",
      "/Users/ariklevy/opt/anaconda3/envs/firstEnv/lib/python3.10/site-packages/pandas/core/tools/datetimes.py:1047: UserWarning: Parsing '20/03/2019' in DD/MM/YYYY format. Provide format or specify infer_datetime_format=True for consistent parsing.\n",
      "  cache_array = _maybe_cache(arg, format, cache, convert_listlike)\n",
      "/Users/ariklevy/opt/anaconda3/envs/firstEnv/lib/python3.10/site-packages/pandas/core/tools/datetimes.py:1047: UserWarning: Parsing '21/03/2019' in DD/MM/YYYY format. Provide format or specify infer_datetime_format=True for consistent parsing.\n",
      "  cache_array = _maybe_cache(arg, format, cache, convert_listlike)\n",
      "/Users/ariklevy/opt/anaconda3/envs/firstEnv/lib/python3.10/site-packages/pandas/core/tools/datetimes.py:1047: UserWarning: Parsing '22/03/2019' in DD/MM/YYYY format. Provide format or specify infer_datetime_format=True for consistent parsing.\n",
      "  cache_array = _maybe_cache(arg, format, cache, convert_listlike)\n",
      "/Users/ariklevy/opt/anaconda3/envs/firstEnv/lib/python3.10/site-packages/pandas/core/tools/datetimes.py:1047: UserWarning: Parsing '23/03/2019' in DD/MM/YYYY format. Provide format or specify infer_datetime_format=True for consistent parsing.\n",
      "  cache_array = _maybe_cache(arg, format, cache, convert_listlike)\n",
      "/Users/ariklevy/opt/anaconda3/envs/firstEnv/lib/python3.10/site-packages/pandas/core/tools/datetimes.py:1047: UserWarning: Parsing '24/03/2019' in DD/MM/YYYY format. Provide format or specify infer_datetime_format=True for consistent parsing.\n",
      "  cache_array = _maybe_cache(arg, format, cache, convert_listlike)\n",
      "/Users/ariklevy/opt/anaconda3/envs/firstEnv/lib/python3.10/site-packages/pandas/core/tools/datetimes.py:1047: UserWarning: Parsing '25/03/2019' in DD/MM/YYYY format. Provide format or specify infer_datetime_format=True for consistent parsing.\n",
      "  cache_array = _maybe_cache(arg, format, cache, convert_listlike)\n",
      "/Users/ariklevy/opt/anaconda3/envs/firstEnv/lib/python3.10/site-packages/pandas/core/tools/datetimes.py:1047: UserWarning: Parsing '26/03/2019' in DD/MM/YYYY format. Provide format or specify infer_datetime_format=True for consistent parsing.\n",
      "  cache_array = _maybe_cache(arg, format, cache, convert_listlike)\n",
      "/Users/ariklevy/opt/anaconda3/envs/firstEnv/lib/python3.10/site-packages/pandas/core/tools/datetimes.py:1047: UserWarning: Parsing '27/03/2019' in DD/MM/YYYY format. Provide format or specify infer_datetime_format=True for consistent parsing.\n",
      "  cache_array = _maybe_cache(arg, format, cache, convert_listlike)\n",
      "/Users/ariklevy/opt/anaconda3/envs/firstEnv/lib/python3.10/site-packages/pandas/core/tools/datetimes.py:1047: UserWarning: Parsing '28/03/2019' in DD/MM/YYYY format. Provide format or specify infer_datetime_format=True for consistent parsing.\n",
      "  cache_array = _maybe_cache(arg, format, cache, convert_listlike)\n",
      "/Users/ariklevy/opt/anaconda3/envs/firstEnv/lib/python3.10/site-packages/pandas/core/tools/datetimes.py:1047: UserWarning: Parsing '29/03/2019' in DD/MM/YYYY format. Provide format or specify infer_datetime_format=True for consistent parsing.\n",
      "  cache_array = _maybe_cache(arg, format, cache, convert_listlike)\n",
      "/Users/ariklevy/opt/anaconda3/envs/firstEnv/lib/python3.10/site-packages/pandas/core/tools/datetimes.py:1047: UserWarning: Parsing '30/03/2019' in DD/MM/YYYY format. Provide format or specify infer_datetime_format=True for consistent parsing.\n",
      "  cache_array = _maybe_cache(arg, format, cache, convert_listlike)\n",
      "/Users/ariklevy/opt/anaconda3/envs/firstEnv/lib/python3.10/site-packages/pandas/core/tools/datetimes.py:1047: UserWarning: Parsing '31/03/2019' in DD/MM/YYYY format. Provide format or specify infer_datetime_format=True for consistent parsing.\n",
      "  cache_array = _maybe_cache(arg, format, cache, convert_listlike)\n",
      "/Users/ariklevy/opt/anaconda3/envs/firstEnv/lib/python3.10/site-packages/pandas/core/tools/datetimes.py:1047: UserWarning: Parsing '13/04/2019' in DD/MM/YYYY format. Provide format or specify infer_datetime_format=True for consistent parsing.\n",
      "  cache_array = _maybe_cache(arg, format, cache, convert_listlike)\n",
      "/Users/ariklevy/opt/anaconda3/envs/firstEnv/lib/python3.10/site-packages/pandas/core/tools/datetimes.py:1047: UserWarning: Parsing '14/04/2019' in DD/MM/YYYY format. Provide format or specify infer_datetime_format=True for consistent parsing.\n",
      "  cache_array = _maybe_cache(arg, format, cache, convert_listlike)\n",
      "/Users/ariklevy/opt/anaconda3/envs/firstEnv/lib/python3.10/site-packages/pandas/core/tools/datetimes.py:1047: UserWarning: Parsing '15/04/2019' in DD/MM/YYYY format. Provide format or specify infer_datetime_format=True for consistent parsing.\n",
      "  cache_array = _maybe_cache(arg, format, cache, convert_listlike)\n",
      "/Users/ariklevy/opt/anaconda3/envs/firstEnv/lib/python3.10/site-packages/pandas/core/tools/datetimes.py:1047: UserWarning: Parsing '16/04/2019' in DD/MM/YYYY format. Provide format or specify infer_datetime_format=True for consistent parsing.\n",
      "  cache_array = _maybe_cache(arg, format, cache, convert_listlike)\n",
      "/Users/ariklevy/opt/anaconda3/envs/firstEnv/lib/python3.10/site-packages/pandas/core/tools/datetimes.py:1047: UserWarning: Parsing '17/04/2019' in DD/MM/YYYY format. Provide format or specify infer_datetime_format=True for consistent parsing.\n",
      "  cache_array = _maybe_cache(arg, format, cache, convert_listlike)\n",
      "/Users/ariklevy/opt/anaconda3/envs/firstEnv/lib/python3.10/site-packages/pandas/core/tools/datetimes.py:1047: UserWarning: Parsing '18/04/2019' in DD/MM/YYYY format. Provide format or specify infer_datetime_format=True for consistent parsing.\n",
      "  cache_array = _maybe_cache(arg, format, cache, convert_listlike)\n",
      "/Users/ariklevy/opt/anaconda3/envs/firstEnv/lib/python3.10/site-packages/pandas/core/tools/datetimes.py:1047: UserWarning: Parsing '19/04/2019' in DD/MM/YYYY format. Provide format or specify infer_datetime_format=True for consistent parsing.\n",
      "  cache_array = _maybe_cache(arg, format, cache, convert_listlike)\n",
      "/Users/ariklevy/opt/anaconda3/envs/firstEnv/lib/python3.10/site-packages/pandas/core/tools/datetimes.py:1047: UserWarning: Parsing '20/04/2019' in DD/MM/YYYY format. Provide format or specify infer_datetime_format=True for consistent parsing.\n",
      "  cache_array = _maybe_cache(arg, format, cache, convert_listlike)\n",
      "/Users/ariklevy/opt/anaconda3/envs/firstEnv/lib/python3.10/site-packages/pandas/core/tools/datetimes.py:1047: UserWarning: Parsing '21/04/2019' in DD/MM/YYYY format. Provide format or specify infer_datetime_format=True for consistent parsing.\n",
      "  cache_array = _maybe_cache(arg, format, cache, convert_listlike)\n",
      "/Users/ariklevy/opt/anaconda3/envs/firstEnv/lib/python3.10/site-packages/pandas/core/tools/datetimes.py:1047: UserWarning: Parsing '22/04/2019' in DD/MM/YYYY format. Provide format or specify infer_datetime_format=True for consistent parsing.\n",
      "  cache_array = _maybe_cache(arg, format, cache, convert_listlike)\n",
      "/Users/ariklevy/opt/anaconda3/envs/firstEnv/lib/python3.10/site-packages/pandas/core/tools/datetimes.py:1047: UserWarning: Parsing '23/04/2019' in DD/MM/YYYY format. Provide format or specify infer_datetime_format=True for consistent parsing.\n",
      "  cache_array = _maybe_cache(arg, format, cache, convert_listlike)\n",
      "/Users/ariklevy/opt/anaconda3/envs/firstEnv/lib/python3.10/site-packages/pandas/core/tools/datetimes.py:1047: UserWarning: Parsing '24/04/2019' in DD/MM/YYYY format. Provide format or specify infer_datetime_format=True for consistent parsing.\n",
      "  cache_array = _maybe_cache(arg, format, cache, convert_listlike)\n",
      "/Users/ariklevy/opt/anaconda3/envs/firstEnv/lib/python3.10/site-packages/pandas/core/tools/datetimes.py:1047: UserWarning: Parsing '25/04/2019' in DD/MM/YYYY format. Provide format or specify infer_datetime_format=True for consistent parsing.\n",
      "  cache_array = _maybe_cache(arg, format, cache, convert_listlike)\n",
      "/Users/ariklevy/opt/anaconda3/envs/firstEnv/lib/python3.10/site-packages/pandas/core/tools/datetimes.py:1047: UserWarning: Parsing '26/04/2019' in DD/MM/YYYY format. Provide format or specify infer_datetime_format=True for consistent parsing.\n",
      "  cache_array = _maybe_cache(arg, format, cache, convert_listlike)\n",
      "/Users/ariklevy/opt/anaconda3/envs/firstEnv/lib/python3.10/site-packages/pandas/core/tools/datetimes.py:1047: UserWarning: Parsing '27/04/2019' in DD/MM/YYYY format. Provide format or specify infer_datetime_format=True for consistent parsing.\n",
      "  cache_array = _maybe_cache(arg, format, cache, convert_listlike)\n",
      "/Users/ariklevy/opt/anaconda3/envs/firstEnv/lib/python3.10/site-packages/pandas/core/tools/datetimes.py:1047: UserWarning: Parsing '28/04/2019' in DD/MM/YYYY format. Provide format or specify infer_datetime_format=True for consistent parsing.\n",
      "  cache_array = _maybe_cache(arg, format, cache, convert_listlike)\n",
      "/Users/ariklevy/opt/anaconda3/envs/firstEnv/lib/python3.10/site-packages/pandas/core/tools/datetimes.py:1047: UserWarning: Parsing '29/04/2019' in DD/MM/YYYY format. Provide format or specify infer_datetime_format=True for consistent parsing.\n",
      "  cache_array = _maybe_cache(arg, format, cache, convert_listlike)\n",
      "/Users/ariklevy/opt/anaconda3/envs/firstEnv/lib/python3.10/site-packages/pandas/core/tools/datetimes.py:1047: UserWarning: Parsing '30/04/2019' in DD/MM/YYYY format. Provide format or specify infer_datetime_format=True for consistent parsing.\n",
      "  cache_array = _maybe_cache(arg, format, cache, convert_listlike)\n",
      "/Users/ariklevy/opt/anaconda3/envs/firstEnv/lib/python3.10/site-packages/pandas/core/tools/datetimes.py:1047: UserWarning: Parsing '13/05/2019' in DD/MM/YYYY format. Provide format or specify infer_datetime_format=True for consistent parsing.\n",
      "  cache_array = _maybe_cache(arg, format, cache, convert_listlike)\n",
      "/Users/ariklevy/opt/anaconda3/envs/firstEnv/lib/python3.10/site-packages/pandas/core/tools/datetimes.py:1047: UserWarning: Parsing '14/05/2019' in DD/MM/YYYY format. Provide format or specify infer_datetime_format=True for consistent parsing.\n",
      "  cache_array = _maybe_cache(arg, format, cache, convert_listlike)\n",
      "/Users/ariklevy/opt/anaconda3/envs/firstEnv/lib/python3.10/site-packages/pandas/core/tools/datetimes.py:1047: UserWarning: Parsing '15/05/2019' in DD/MM/YYYY format. Provide format or specify infer_datetime_format=True for consistent parsing.\n",
      "  cache_array = _maybe_cache(arg, format, cache, convert_listlike)\n",
      "/Users/ariklevy/opt/anaconda3/envs/firstEnv/lib/python3.10/site-packages/pandas/core/tools/datetimes.py:1047: UserWarning: Parsing '16/05/2019' in DD/MM/YYYY format. Provide format or specify infer_datetime_format=True for consistent parsing.\n",
      "  cache_array = _maybe_cache(arg, format, cache, convert_listlike)\n",
      "/Users/ariklevy/opt/anaconda3/envs/firstEnv/lib/python3.10/site-packages/pandas/core/tools/datetimes.py:1047: UserWarning: Parsing '17/05/2019' in DD/MM/YYYY format. Provide format or specify infer_datetime_format=True for consistent parsing.\n",
      "  cache_array = _maybe_cache(arg, format, cache, convert_listlike)\n",
      "/Users/ariklevy/opt/anaconda3/envs/firstEnv/lib/python3.10/site-packages/pandas/core/tools/datetimes.py:1047: UserWarning: Parsing '18/05/2019' in DD/MM/YYYY format. Provide format or specify infer_datetime_format=True for consistent parsing.\n",
      "  cache_array = _maybe_cache(arg, format, cache, convert_listlike)\n",
      "/Users/ariklevy/opt/anaconda3/envs/firstEnv/lib/python3.10/site-packages/pandas/core/tools/datetimes.py:1047: UserWarning: Parsing '19/05/2019' in DD/MM/YYYY format. Provide format or specify infer_datetime_format=True for consistent parsing.\n",
      "  cache_array = _maybe_cache(arg, format, cache, convert_listlike)\n",
      "/Users/ariklevy/opt/anaconda3/envs/firstEnv/lib/python3.10/site-packages/pandas/core/tools/datetimes.py:1047: UserWarning: Parsing '20/05/2019' in DD/MM/YYYY format. Provide format or specify infer_datetime_format=True for consistent parsing.\n",
      "  cache_array = _maybe_cache(arg, format, cache, convert_listlike)\n",
      "/Users/ariklevy/opt/anaconda3/envs/firstEnv/lib/python3.10/site-packages/pandas/core/tools/datetimes.py:1047: UserWarning: Parsing '21/05/2019' in DD/MM/YYYY format. Provide format or specify infer_datetime_format=True for consistent parsing.\n",
      "  cache_array = _maybe_cache(arg, format, cache, convert_listlike)\n",
      "/Users/ariklevy/opt/anaconda3/envs/firstEnv/lib/python3.10/site-packages/pandas/core/tools/datetimes.py:1047: UserWarning: Parsing '22/05/2019' in DD/MM/YYYY format. Provide format or specify infer_datetime_format=True for consistent parsing.\n",
      "  cache_array = _maybe_cache(arg, format, cache, convert_listlike)\n",
      "/Users/ariklevy/opt/anaconda3/envs/firstEnv/lib/python3.10/site-packages/pandas/core/tools/datetimes.py:1047: UserWarning: Parsing '23/05/2019' in DD/MM/YYYY format. Provide format or specify infer_datetime_format=True for consistent parsing.\n",
      "  cache_array = _maybe_cache(arg, format, cache, convert_listlike)\n",
      "/Users/ariklevy/opt/anaconda3/envs/firstEnv/lib/python3.10/site-packages/pandas/core/tools/datetimes.py:1047: UserWarning: Parsing '24/05/2019' in DD/MM/YYYY format. Provide format or specify infer_datetime_format=True for consistent parsing.\n",
      "  cache_array = _maybe_cache(arg, format, cache, convert_listlike)\n",
      "/Users/ariklevy/opt/anaconda3/envs/firstEnv/lib/python3.10/site-packages/pandas/core/tools/datetimes.py:1047: UserWarning: Parsing '25/05/2019' in DD/MM/YYYY format. Provide format or specify infer_datetime_format=True for consistent parsing.\n",
      "  cache_array = _maybe_cache(arg, format, cache, convert_listlike)\n",
      "/Users/ariklevy/opt/anaconda3/envs/firstEnv/lib/python3.10/site-packages/pandas/core/tools/datetimes.py:1047: UserWarning: Parsing '26/05/2019' in DD/MM/YYYY format. Provide format or specify infer_datetime_format=True for consistent parsing.\n",
      "  cache_array = _maybe_cache(arg, format, cache, convert_listlike)\n",
      "/Users/ariklevy/opt/anaconda3/envs/firstEnv/lib/python3.10/site-packages/pandas/core/tools/datetimes.py:1047: UserWarning: Parsing '27/05/2019' in DD/MM/YYYY format. Provide format or specify infer_datetime_format=True for consistent parsing.\n",
      "  cache_array = _maybe_cache(arg, format, cache, convert_listlike)\n",
      "/Users/ariklevy/opt/anaconda3/envs/firstEnv/lib/python3.10/site-packages/pandas/core/tools/datetimes.py:1047: UserWarning: Parsing '28/05/2019' in DD/MM/YYYY format. Provide format or specify infer_datetime_format=True for consistent parsing.\n",
      "  cache_array = _maybe_cache(arg, format, cache, convert_listlike)\n",
      "/Users/ariklevy/opt/anaconda3/envs/firstEnv/lib/python3.10/site-packages/pandas/core/tools/datetimes.py:1047: UserWarning: Parsing '29/05/2019' in DD/MM/YYYY format. Provide format or specify infer_datetime_format=True for consistent parsing.\n",
      "  cache_array = _maybe_cache(arg, format, cache, convert_listlike)\n",
      "/Users/ariklevy/opt/anaconda3/envs/firstEnv/lib/python3.10/site-packages/pandas/core/tools/datetimes.py:1047: UserWarning: Parsing '30/05/2019' in DD/MM/YYYY format. Provide format or specify infer_datetime_format=True for consistent parsing.\n",
      "  cache_array = _maybe_cache(arg, format, cache, convert_listlike)\n",
      "/Users/ariklevy/opt/anaconda3/envs/firstEnv/lib/python3.10/site-packages/pandas/core/tools/datetimes.py:1047: UserWarning: Parsing '31/05/2019' in DD/MM/YYYY format. Provide format or specify infer_datetime_format=True for consistent parsing.\n",
      "  cache_array = _maybe_cache(arg, format, cache, convert_listlike)\n",
      "/Users/ariklevy/opt/anaconda3/envs/firstEnv/lib/python3.10/site-packages/pandas/core/tools/datetimes.py:1047: UserWarning: Parsing '13/06/2019' in DD/MM/YYYY format. Provide format or specify infer_datetime_format=True for consistent parsing.\n",
      "  cache_array = _maybe_cache(arg, format, cache, convert_listlike)\n",
      "/Users/ariklevy/opt/anaconda3/envs/firstEnv/lib/python3.10/site-packages/pandas/core/tools/datetimes.py:1047: UserWarning: Parsing '14/06/2019' in DD/MM/YYYY format. Provide format or specify infer_datetime_format=True for consistent parsing.\n",
      "  cache_array = _maybe_cache(arg, format, cache, convert_listlike)\n",
      "/Users/ariklevy/opt/anaconda3/envs/firstEnv/lib/python3.10/site-packages/pandas/core/tools/datetimes.py:1047: UserWarning: Parsing '15/06/2019' in DD/MM/YYYY format. Provide format or specify infer_datetime_format=True for consistent parsing.\n",
      "  cache_array = _maybe_cache(arg, format, cache, convert_listlike)\n",
      "/Users/ariklevy/opt/anaconda3/envs/firstEnv/lib/python3.10/site-packages/pandas/core/tools/datetimes.py:1047: UserWarning: Parsing '16/06/2019' in DD/MM/YYYY format. Provide format or specify infer_datetime_format=True for consistent parsing.\n",
      "  cache_array = _maybe_cache(arg, format, cache, convert_listlike)\n",
      "/Users/ariklevy/opt/anaconda3/envs/firstEnv/lib/python3.10/site-packages/pandas/core/tools/datetimes.py:1047: UserWarning: Parsing '17/06/2019' in DD/MM/YYYY format. Provide format or specify infer_datetime_format=True for consistent parsing.\n",
      "  cache_array = _maybe_cache(arg, format, cache, convert_listlike)\n",
      "/Users/ariklevy/opt/anaconda3/envs/firstEnv/lib/python3.10/site-packages/pandas/core/tools/datetimes.py:1047: UserWarning: Parsing '18/06/2019' in DD/MM/YYYY format. Provide format or specify infer_datetime_format=True for consistent parsing.\n",
      "  cache_array = _maybe_cache(arg, format, cache, convert_listlike)\n",
      "/Users/ariklevy/opt/anaconda3/envs/firstEnv/lib/python3.10/site-packages/pandas/core/tools/datetimes.py:1047: UserWarning: Parsing '19/06/2019' in DD/MM/YYYY format. Provide format or specify infer_datetime_format=True for consistent parsing.\n",
      "  cache_array = _maybe_cache(arg, format, cache, convert_listlike)\n",
      "/Users/ariklevy/opt/anaconda3/envs/firstEnv/lib/python3.10/site-packages/pandas/core/tools/datetimes.py:1047: UserWarning: Parsing '20/06/2019' in DD/MM/YYYY format. Provide format or specify infer_datetime_format=True for consistent parsing.\n",
      "  cache_array = _maybe_cache(arg, format, cache, convert_listlike)\n",
      "/Users/ariklevy/opt/anaconda3/envs/firstEnv/lib/python3.10/site-packages/pandas/core/tools/datetimes.py:1047: UserWarning: Parsing '21/06/2019' in DD/MM/YYYY format. Provide format or specify infer_datetime_format=True for consistent parsing.\n",
      "  cache_array = _maybe_cache(arg, format, cache, convert_listlike)\n",
      "/Users/ariklevy/opt/anaconda3/envs/firstEnv/lib/python3.10/site-packages/pandas/core/tools/datetimes.py:1047: UserWarning: Parsing '22/06/2019' in DD/MM/YYYY format. Provide format or specify infer_datetime_format=True for consistent parsing.\n",
      "  cache_array = _maybe_cache(arg, format, cache, convert_listlike)\n",
      "/Users/ariklevy/opt/anaconda3/envs/firstEnv/lib/python3.10/site-packages/pandas/core/tools/datetimes.py:1047: UserWarning: Parsing '23/06/2019' in DD/MM/YYYY format. Provide format or specify infer_datetime_format=True for consistent parsing.\n",
      "  cache_array = _maybe_cache(arg, format, cache, convert_listlike)\n",
      "/Users/ariklevy/opt/anaconda3/envs/firstEnv/lib/python3.10/site-packages/pandas/core/tools/datetimes.py:1047: UserWarning: Parsing '24/06/2019' in DD/MM/YYYY format. Provide format or specify infer_datetime_format=True for consistent parsing.\n",
      "  cache_array = _maybe_cache(arg, format, cache, convert_listlike)\n",
      "/Users/ariklevy/opt/anaconda3/envs/firstEnv/lib/python3.10/site-packages/pandas/core/tools/datetimes.py:1047: UserWarning: Parsing '25/06/2019' in DD/MM/YYYY format. Provide format or specify infer_datetime_format=True for consistent parsing.\n",
      "  cache_array = _maybe_cache(arg, format, cache, convert_listlike)\n",
      "/Users/ariklevy/opt/anaconda3/envs/firstEnv/lib/python3.10/site-packages/pandas/core/tools/datetimes.py:1047: UserWarning: Parsing '26/06/2019' in DD/MM/YYYY format. Provide format or specify infer_datetime_format=True for consistent parsing.\n",
      "  cache_array = _maybe_cache(arg, format, cache, convert_listlike)\n",
      "/Users/ariklevy/opt/anaconda3/envs/firstEnv/lib/python3.10/site-packages/pandas/core/tools/datetimes.py:1047: UserWarning: Parsing '27/06/2019' in DD/MM/YYYY format. Provide format or specify infer_datetime_format=True for consistent parsing.\n",
      "  cache_array = _maybe_cache(arg, format, cache, convert_listlike)\n",
      "/Users/ariklevy/opt/anaconda3/envs/firstEnv/lib/python3.10/site-packages/pandas/core/tools/datetimes.py:1047: UserWarning: Parsing '28/06/2019' in DD/MM/YYYY format. Provide format or specify infer_datetime_format=True for consistent parsing.\n",
      "  cache_array = _maybe_cache(arg, format, cache, convert_listlike)\n",
      "/Users/ariklevy/opt/anaconda3/envs/firstEnv/lib/python3.10/site-packages/pandas/core/tools/datetimes.py:1047: UserWarning: Parsing '29/06/2019' in DD/MM/YYYY format. Provide format or specify infer_datetime_format=True for consistent parsing.\n",
      "  cache_array = _maybe_cache(arg, format, cache, convert_listlike)\n",
      "/Users/ariklevy/opt/anaconda3/envs/firstEnv/lib/python3.10/site-packages/pandas/core/tools/datetimes.py:1047: UserWarning: Parsing '30/06/2019' in DD/MM/YYYY format. Provide format or specify infer_datetime_format=True for consistent parsing.\n",
      "  cache_array = _maybe_cache(arg, format, cache, convert_listlike)\n",
      "/Users/ariklevy/opt/anaconda3/envs/firstEnv/lib/python3.10/site-packages/pandas/core/tools/datetimes.py:1047: UserWarning: Parsing '13/07/2019' in DD/MM/YYYY format. Provide format or specify infer_datetime_format=True for consistent parsing.\n",
      "  cache_array = _maybe_cache(arg, format, cache, convert_listlike)\n",
      "/Users/ariklevy/opt/anaconda3/envs/firstEnv/lib/python3.10/site-packages/pandas/core/tools/datetimes.py:1047: UserWarning: Parsing '14/07/2019' in DD/MM/YYYY format. Provide format or specify infer_datetime_format=True for consistent parsing.\n",
      "  cache_array = _maybe_cache(arg, format, cache, convert_listlike)\n",
      "/Users/ariklevy/opt/anaconda3/envs/firstEnv/lib/python3.10/site-packages/pandas/core/tools/datetimes.py:1047: UserWarning: Parsing '15/07/2019' in DD/MM/YYYY format. Provide format or specify infer_datetime_format=True for consistent parsing.\n",
      "  cache_array = _maybe_cache(arg, format, cache, convert_listlike)\n",
      "/Users/ariklevy/opt/anaconda3/envs/firstEnv/lib/python3.10/site-packages/pandas/core/tools/datetimes.py:1047: UserWarning: Parsing '16/07/2019' in DD/MM/YYYY format. Provide format or specify infer_datetime_format=True for consistent parsing.\n",
      "  cache_array = _maybe_cache(arg, format, cache, convert_listlike)\n",
      "/Users/ariklevy/opt/anaconda3/envs/firstEnv/lib/python3.10/site-packages/pandas/core/tools/datetimes.py:1047: UserWarning: Parsing '17/07/2019' in DD/MM/YYYY format. Provide format or specify infer_datetime_format=True for consistent parsing.\n",
      "  cache_array = _maybe_cache(arg, format, cache, convert_listlike)\n",
      "/Users/ariklevy/opt/anaconda3/envs/firstEnv/lib/python3.10/site-packages/pandas/core/tools/datetimes.py:1047: UserWarning: Parsing '18/07/2019' in DD/MM/YYYY format. Provide format or specify infer_datetime_format=True for consistent parsing.\n",
      "  cache_array = _maybe_cache(arg, format, cache, convert_listlike)\n",
      "/Users/ariklevy/opt/anaconda3/envs/firstEnv/lib/python3.10/site-packages/pandas/core/tools/datetimes.py:1047: UserWarning: Parsing '19/07/2019' in DD/MM/YYYY format. Provide format or specify infer_datetime_format=True for consistent parsing.\n",
      "  cache_array = _maybe_cache(arg, format, cache, convert_listlike)\n",
      "/Users/ariklevy/opt/anaconda3/envs/firstEnv/lib/python3.10/site-packages/pandas/core/tools/datetimes.py:1047: UserWarning: Parsing '20/07/2019' in DD/MM/YYYY format. Provide format or specify infer_datetime_format=True for consistent parsing.\n",
      "  cache_array = _maybe_cache(arg, format, cache, convert_listlike)\n",
      "/Users/ariklevy/opt/anaconda3/envs/firstEnv/lib/python3.10/site-packages/pandas/core/tools/datetimes.py:1047: UserWarning: Parsing '21/07/2019' in DD/MM/YYYY format. Provide format or specify infer_datetime_format=True for consistent parsing.\n",
      "  cache_array = _maybe_cache(arg, format, cache, convert_listlike)\n",
      "/Users/ariklevy/opt/anaconda3/envs/firstEnv/lib/python3.10/site-packages/pandas/core/tools/datetimes.py:1047: UserWarning: Parsing '22/07/2019' in DD/MM/YYYY format. Provide format or specify infer_datetime_format=True for consistent parsing.\n",
      "  cache_array = _maybe_cache(arg, format, cache, convert_listlike)\n",
      "/Users/ariklevy/opt/anaconda3/envs/firstEnv/lib/python3.10/site-packages/pandas/core/tools/datetimes.py:1047: UserWarning: Parsing '23/07/2019' in DD/MM/YYYY format. Provide format or specify infer_datetime_format=True for consistent parsing.\n",
      "  cache_array = _maybe_cache(arg, format, cache, convert_listlike)\n",
      "/Users/ariklevy/opt/anaconda3/envs/firstEnv/lib/python3.10/site-packages/pandas/core/tools/datetimes.py:1047: UserWarning: Parsing '24/07/2019' in DD/MM/YYYY format. Provide format or specify infer_datetime_format=True for consistent parsing.\n",
      "  cache_array = _maybe_cache(arg, format, cache, convert_listlike)\n",
      "/Users/ariklevy/opt/anaconda3/envs/firstEnv/lib/python3.10/site-packages/pandas/core/tools/datetimes.py:1047: UserWarning: Parsing '25/07/2019' in DD/MM/YYYY format. Provide format or specify infer_datetime_format=True for consistent parsing.\n",
      "  cache_array = _maybe_cache(arg, format, cache, convert_listlike)\n",
      "/Users/ariklevy/opt/anaconda3/envs/firstEnv/lib/python3.10/site-packages/pandas/core/tools/datetimes.py:1047: UserWarning: Parsing '26/07/2019' in DD/MM/YYYY format. Provide format or specify infer_datetime_format=True for consistent parsing.\n",
      "  cache_array = _maybe_cache(arg, format, cache, convert_listlike)\n",
      "/Users/ariklevy/opt/anaconda3/envs/firstEnv/lib/python3.10/site-packages/pandas/core/tools/datetimes.py:1047: UserWarning: Parsing '27/07/2019' in DD/MM/YYYY format. Provide format or specify infer_datetime_format=True for consistent parsing.\n",
      "  cache_array = _maybe_cache(arg, format, cache, convert_listlike)\n",
      "/Users/ariklevy/opt/anaconda3/envs/firstEnv/lib/python3.10/site-packages/pandas/core/tools/datetimes.py:1047: UserWarning: Parsing '28/07/2019' in DD/MM/YYYY format. Provide format or specify infer_datetime_format=True for consistent parsing.\n",
      "  cache_array = _maybe_cache(arg, format, cache, convert_listlike)\n",
      "/Users/ariklevy/opt/anaconda3/envs/firstEnv/lib/python3.10/site-packages/pandas/core/tools/datetimes.py:1047: UserWarning: Parsing '29/07/2019' in DD/MM/YYYY format. Provide format or specify infer_datetime_format=True for consistent parsing.\n",
      "  cache_array = _maybe_cache(arg, format, cache, convert_listlike)\n",
      "/Users/ariklevy/opt/anaconda3/envs/firstEnv/lib/python3.10/site-packages/pandas/core/tools/datetimes.py:1047: UserWarning: Parsing '30/07/2019' in DD/MM/YYYY format. Provide format or specify infer_datetime_format=True for consistent parsing.\n",
      "  cache_array = _maybe_cache(arg, format, cache, convert_listlike)\n",
      "/Users/ariklevy/opt/anaconda3/envs/firstEnv/lib/python3.10/site-packages/pandas/core/tools/datetimes.py:1047: UserWarning: Parsing '31/07/2019' in DD/MM/YYYY format. Provide format or specify infer_datetime_format=True for consistent parsing.\n",
      "  cache_array = _maybe_cache(arg, format, cache, convert_listlike)\n",
      "/Users/ariklevy/opt/anaconda3/envs/firstEnv/lib/python3.10/site-packages/pandas/core/tools/datetimes.py:1047: UserWarning: Parsing '13/08/2019' in DD/MM/YYYY format. Provide format or specify infer_datetime_format=True for consistent parsing.\n",
      "  cache_array = _maybe_cache(arg, format, cache, convert_listlike)\n",
      "/Users/ariklevy/opt/anaconda3/envs/firstEnv/lib/python3.10/site-packages/pandas/core/tools/datetimes.py:1047: UserWarning: Parsing '14/08/2019' in DD/MM/YYYY format. Provide format or specify infer_datetime_format=True for consistent parsing.\n",
      "  cache_array = _maybe_cache(arg, format, cache, convert_listlike)\n",
      "/Users/ariklevy/opt/anaconda3/envs/firstEnv/lib/python3.10/site-packages/pandas/core/tools/datetimes.py:1047: UserWarning: Parsing '15/08/2019' in DD/MM/YYYY format. Provide format or specify infer_datetime_format=True for consistent parsing.\n",
      "  cache_array = _maybe_cache(arg, format, cache, convert_listlike)\n",
      "/Users/ariklevy/opt/anaconda3/envs/firstEnv/lib/python3.10/site-packages/pandas/core/tools/datetimes.py:1047: UserWarning: Parsing '16/08/2019' in DD/MM/YYYY format. Provide format or specify infer_datetime_format=True for consistent parsing.\n",
      "  cache_array = _maybe_cache(arg, format, cache, convert_listlike)\n",
      "/Users/ariklevy/opt/anaconda3/envs/firstEnv/lib/python3.10/site-packages/pandas/core/tools/datetimes.py:1047: UserWarning: Parsing '17/08/2019' in DD/MM/YYYY format. Provide format or specify infer_datetime_format=True for consistent parsing.\n",
      "  cache_array = _maybe_cache(arg, format, cache, convert_listlike)\n",
      "/Users/ariklevy/opt/anaconda3/envs/firstEnv/lib/python3.10/site-packages/pandas/core/tools/datetimes.py:1047: UserWarning: Parsing '18/08/2019' in DD/MM/YYYY format. Provide format or specify infer_datetime_format=True for consistent parsing.\n",
      "  cache_array = _maybe_cache(arg, format, cache, convert_listlike)\n",
      "/Users/ariklevy/opt/anaconda3/envs/firstEnv/lib/python3.10/site-packages/pandas/core/tools/datetimes.py:1047: UserWarning: Parsing '19/08/2019' in DD/MM/YYYY format. Provide format or specify infer_datetime_format=True for consistent parsing.\n",
      "  cache_array = _maybe_cache(arg, format, cache, convert_listlike)\n",
      "/Users/ariklevy/opt/anaconda3/envs/firstEnv/lib/python3.10/site-packages/pandas/core/tools/datetimes.py:1047: UserWarning: Parsing '20/08/2019' in DD/MM/YYYY format. Provide format or specify infer_datetime_format=True for consistent parsing.\n",
      "  cache_array = _maybe_cache(arg, format, cache, convert_listlike)\n",
      "/Users/ariklevy/opt/anaconda3/envs/firstEnv/lib/python3.10/site-packages/pandas/core/tools/datetimes.py:1047: UserWarning: Parsing '21/08/2019' in DD/MM/YYYY format. Provide format or specify infer_datetime_format=True for consistent parsing.\n",
      "  cache_array = _maybe_cache(arg, format, cache, convert_listlike)\n",
      "/Users/ariklevy/opt/anaconda3/envs/firstEnv/lib/python3.10/site-packages/pandas/core/tools/datetimes.py:1047: UserWarning: Parsing '22/08/2019' in DD/MM/YYYY format. Provide format or specify infer_datetime_format=True for consistent parsing.\n",
      "  cache_array = _maybe_cache(arg, format, cache, convert_listlike)\n",
      "/Users/ariklevy/opt/anaconda3/envs/firstEnv/lib/python3.10/site-packages/pandas/core/tools/datetimes.py:1047: UserWarning: Parsing '23/08/2019' in DD/MM/YYYY format. Provide format or specify infer_datetime_format=True for consistent parsing.\n",
      "  cache_array = _maybe_cache(arg, format, cache, convert_listlike)\n",
      "/Users/ariklevy/opt/anaconda3/envs/firstEnv/lib/python3.10/site-packages/pandas/core/tools/datetimes.py:1047: UserWarning: Parsing '25/08/2019' in DD/MM/YYYY format. Provide format or specify infer_datetime_format=True for consistent parsing.\n",
      "  cache_array = _maybe_cache(arg, format, cache, convert_listlike)\n",
      "/Users/ariklevy/opt/anaconda3/envs/firstEnv/lib/python3.10/site-packages/pandas/core/tools/datetimes.py:1047: UserWarning: Parsing '26/08/2019' in DD/MM/YYYY format. Provide format or specify infer_datetime_format=True for consistent parsing.\n",
      "  cache_array = _maybe_cache(arg, format, cache, convert_listlike)\n",
      "/Users/ariklevy/opt/anaconda3/envs/firstEnv/lib/python3.10/site-packages/pandas/core/tools/datetimes.py:1047: UserWarning: Parsing '27/08/2019' in DD/MM/YYYY format. Provide format or specify infer_datetime_format=True for consistent parsing.\n",
      "  cache_array = _maybe_cache(arg, format, cache, convert_listlike)\n",
      "/Users/ariklevy/opt/anaconda3/envs/firstEnv/lib/python3.10/site-packages/pandas/core/tools/datetimes.py:1047: UserWarning: Parsing '28/08/2019' in DD/MM/YYYY format. Provide format or specify infer_datetime_format=True for consistent parsing.\n",
      "  cache_array = _maybe_cache(arg, format, cache, convert_listlike)\n",
      "/Users/ariklevy/opt/anaconda3/envs/firstEnv/lib/python3.10/site-packages/pandas/core/tools/datetimes.py:1047: UserWarning: Parsing '29/08/2019' in DD/MM/YYYY format. Provide format or specify infer_datetime_format=True for consistent parsing.\n",
      "  cache_array = _maybe_cache(arg, format, cache, convert_listlike)\n",
      "/Users/ariklevy/opt/anaconda3/envs/firstEnv/lib/python3.10/site-packages/pandas/core/tools/datetimes.py:1047: UserWarning: Parsing '30/08/2019' in DD/MM/YYYY format. Provide format or specify infer_datetime_format=True for consistent parsing.\n",
      "  cache_array = _maybe_cache(arg, format, cache, convert_listlike)\n",
      "/Users/ariklevy/opt/anaconda3/envs/firstEnv/lib/python3.10/site-packages/pandas/core/tools/datetimes.py:1047: UserWarning: Parsing '31/08/2019' in DD/MM/YYYY format. Provide format or specify infer_datetime_format=True for consistent parsing.\n",
      "  cache_array = _maybe_cache(arg, format, cache, convert_listlike)\n",
      "/Users/ariklevy/opt/anaconda3/envs/firstEnv/lib/python3.10/site-packages/pandas/core/tools/datetimes.py:1047: UserWarning: Parsing '13/09/2019' in DD/MM/YYYY format. Provide format or specify infer_datetime_format=True for consistent parsing.\n",
      "  cache_array = _maybe_cache(arg, format, cache, convert_listlike)\n",
      "/Users/ariklevy/opt/anaconda3/envs/firstEnv/lib/python3.10/site-packages/pandas/core/tools/datetimes.py:1047: UserWarning: Parsing '14/09/2019' in DD/MM/YYYY format. Provide format or specify infer_datetime_format=True for consistent parsing.\n",
      "  cache_array = _maybe_cache(arg, format, cache, convert_listlike)\n",
      "/Users/ariklevy/opt/anaconda3/envs/firstEnv/lib/python3.10/site-packages/pandas/core/tools/datetimes.py:1047: UserWarning: Parsing '15/09/2019' in DD/MM/YYYY format. Provide format or specify infer_datetime_format=True for consistent parsing.\n",
      "  cache_array = _maybe_cache(arg, format, cache, convert_listlike)\n",
      "/Users/ariklevy/opt/anaconda3/envs/firstEnv/lib/python3.10/site-packages/pandas/core/tools/datetimes.py:1047: UserWarning: Parsing '16/09/2019' in DD/MM/YYYY format. Provide format or specify infer_datetime_format=True for consistent parsing.\n",
      "  cache_array = _maybe_cache(arg, format, cache, convert_listlike)\n",
      "/Users/ariklevy/opt/anaconda3/envs/firstEnv/lib/python3.10/site-packages/pandas/core/tools/datetimes.py:1047: UserWarning: Parsing '17/09/2019' in DD/MM/YYYY format. Provide format or specify infer_datetime_format=True for consistent parsing.\n",
      "  cache_array = _maybe_cache(arg, format, cache, convert_listlike)\n",
      "/Users/ariklevy/opt/anaconda3/envs/firstEnv/lib/python3.10/site-packages/pandas/core/tools/datetimes.py:1047: UserWarning: Parsing '18/09/2019' in DD/MM/YYYY format. Provide format or specify infer_datetime_format=True for consistent parsing.\n",
      "  cache_array = _maybe_cache(arg, format, cache, convert_listlike)\n",
      "/Users/ariklevy/opt/anaconda3/envs/firstEnv/lib/python3.10/site-packages/pandas/core/tools/datetimes.py:1047: UserWarning: Parsing '19/09/2019' in DD/MM/YYYY format. Provide format or specify infer_datetime_format=True for consistent parsing.\n",
      "  cache_array = _maybe_cache(arg, format, cache, convert_listlike)\n",
      "/Users/ariklevy/opt/anaconda3/envs/firstEnv/lib/python3.10/site-packages/pandas/core/tools/datetimes.py:1047: UserWarning: Parsing '20/09/2019' in DD/MM/YYYY format. Provide format or specify infer_datetime_format=True for consistent parsing.\n",
      "  cache_array = _maybe_cache(arg, format, cache, convert_listlike)\n",
      "/Users/ariklevy/opt/anaconda3/envs/firstEnv/lib/python3.10/site-packages/pandas/core/tools/datetimes.py:1047: UserWarning: Parsing '21/09/2019' in DD/MM/YYYY format. Provide format or specify infer_datetime_format=True for consistent parsing.\n",
      "  cache_array = _maybe_cache(arg, format, cache, convert_listlike)\n",
      "/Users/ariklevy/opt/anaconda3/envs/firstEnv/lib/python3.10/site-packages/pandas/core/tools/datetimes.py:1047: UserWarning: Parsing '22/09/2019' in DD/MM/YYYY format. Provide format or specify infer_datetime_format=True for consistent parsing.\n",
      "  cache_array = _maybe_cache(arg, format, cache, convert_listlike)\n",
      "/Users/ariklevy/opt/anaconda3/envs/firstEnv/lib/python3.10/site-packages/pandas/core/tools/datetimes.py:1047: UserWarning: Parsing '23/09/2019' in DD/MM/YYYY format. Provide format or specify infer_datetime_format=True for consistent parsing.\n",
      "  cache_array = _maybe_cache(arg, format, cache, convert_listlike)\n",
      "/Users/ariklevy/opt/anaconda3/envs/firstEnv/lib/python3.10/site-packages/pandas/core/tools/datetimes.py:1047: UserWarning: Parsing '24/09/2019' in DD/MM/YYYY format. Provide format or specify infer_datetime_format=True for consistent parsing.\n",
      "  cache_array = _maybe_cache(arg, format, cache, convert_listlike)\n",
      "/Users/ariklevy/opt/anaconda3/envs/firstEnv/lib/python3.10/site-packages/pandas/core/tools/datetimes.py:1047: UserWarning: Parsing '25/09/2019' in DD/MM/YYYY format. Provide format or specify infer_datetime_format=True for consistent parsing.\n",
      "  cache_array = _maybe_cache(arg, format, cache, convert_listlike)\n",
      "/Users/ariklevy/opt/anaconda3/envs/firstEnv/lib/python3.10/site-packages/pandas/core/tools/datetimes.py:1047: UserWarning: Parsing '26/09/2019' in DD/MM/YYYY format. Provide format or specify infer_datetime_format=True for consistent parsing.\n",
      "  cache_array = _maybe_cache(arg, format, cache, convert_listlike)\n",
      "/Users/ariklevy/opt/anaconda3/envs/firstEnv/lib/python3.10/site-packages/pandas/core/tools/datetimes.py:1047: UserWarning: Parsing '27/09/2019' in DD/MM/YYYY format. Provide format or specify infer_datetime_format=True for consistent parsing.\n",
      "  cache_array = _maybe_cache(arg, format, cache, convert_listlike)\n",
      "/Users/ariklevy/opt/anaconda3/envs/firstEnv/lib/python3.10/site-packages/pandas/core/tools/datetimes.py:1047: UserWarning: Parsing '28/09/2019' in DD/MM/YYYY format. Provide format or specify infer_datetime_format=True for consistent parsing.\n",
      "  cache_array = _maybe_cache(arg, format, cache, convert_listlike)\n",
      "/Users/ariklevy/opt/anaconda3/envs/firstEnv/lib/python3.10/site-packages/pandas/core/tools/datetimes.py:1047: UserWarning: Parsing '29/09/2019' in DD/MM/YYYY format. Provide format or specify infer_datetime_format=True for consistent parsing.\n",
      "  cache_array = _maybe_cache(arg, format, cache, convert_listlike)\n",
      "/Users/ariklevy/opt/anaconda3/envs/firstEnv/lib/python3.10/site-packages/pandas/core/tools/datetimes.py:1047: UserWarning: Parsing '30/09/2019' in DD/MM/YYYY format. Provide format or specify infer_datetime_format=True for consistent parsing.\n",
      "  cache_array = _maybe_cache(arg, format, cache, convert_listlike)\n",
      "/Users/ariklevy/opt/anaconda3/envs/firstEnv/lib/python3.10/site-packages/pandas/core/tools/datetimes.py:1047: UserWarning: Parsing '13/10/2019' in DD/MM/YYYY format. Provide format or specify infer_datetime_format=True for consistent parsing.\n",
      "  cache_array = _maybe_cache(arg, format, cache, convert_listlike)\n",
      "/Users/ariklevy/opt/anaconda3/envs/firstEnv/lib/python3.10/site-packages/pandas/core/tools/datetimes.py:1047: UserWarning: Parsing '14/10/2019' in DD/MM/YYYY format. Provide format or specify infer_datetime_format=True for consistent parsing.\n",
      "  cache_array = _maybe_cache(arg, format, cache, convert_listlike)\n",
      "/Users/ariklevy/opt/anaconda3/envs/firstEnv/lib/python3.10/site-packages/pandas/core/tools/datetimes.py:1047: UserWarning: Parsing '15/10/2019' in DD/MM/YYYY format. Provide format or specify infer_datetime_format=True for consistent parsing.\n",
      "  cache_array = _maybe_cache(arg, format, cache, convert_listlike)\n",
      "/Users/ariklevy/opt/anaconda3/envs/firstEnv/lib/python3.10/site-packages/pandas/core/tools/datetimes.py:1047: UserWarning: Parsing '16/10/2019' in DD/MM/YYYY format. Provide format or specify infer_datetime_format=True for consistent parsing.\n",
      "  cache_array = _maybe_cache(arg, format, cache, convert_listlike)\n",
      "/Users/ariklevy/opt/anaconda3/envs/firstEnv/lib/python3.10/site-packages/pandas/core/tools/datetimes.py:1047: UserWarning: Parsing '17/10/2019' in DD/MM/YYYY format. Provide format or specify infer_datetime_format=True for consistent parsing.\n",
      "  cache_array = _maybe_cache(arg, format, cache, convert_listlike)\n",
      "/Users/ariklevy/opt/anaconda3/envs/firstEnv/lib/python3.10/site-packages/pandas/core/tools/datetimes.py:1047: UserWarning: Parsing '18/10/2019' in DD/MM/YYYY format. Provide format or specify infer_datetime_format=True for consistent parsing.\n",
      "  cache_array = _maybe_cache(arg, format, cache, convert_listlike)\n",
      "/Users/ariklevy/opt/anaconda3/envs/firstEnv/lib/python3.10/site-packages/pandas/core/tools/datetimes.py:1047: UserWarning: Parsing '19/10/2019' in DD/MM/YYYY format. Provide format or specify infer_datetime_format=True for consistent parsing.\n",
      "  cache_array = _maybe_cache(arg, format, cache, convert_listlike)\n",
      "/Users/ariklevy/opt/anaconda3/envs/firstEnv/lib/python3.10/site-packages/pandas/core/tools/datetimes.py:1047: UserWarning: Parsing '20/10/2019' in DD/MM/YYYY format. Provide format or specify infer_datetime_format=True for consistent parsing.\n",
      "  cache_array = _maybe_cache(arg, format, cache, convert_listlike)\n",
      "/Users/ariklevy/opt/anaconda3/envs/firstEnv/lib/python3.10/site-packages/pandas/core/tools/datetimes.py:1047: UserWarning: Parsing '21/10/2019' in DD/MM/YYYY format. Provide format or specify infer_datetime_format=True for consistent parsing.\n",
      "  cache_array = _maybe_cache(arg, format, cache, convert_listlike)\n",
      "/Users/ariklevy/opt/anaconda3/envs/firstEnv/lib/python3.10/site-packages/pandas/core/tools/datetimes.py:1047: UserWarning: Parsing '22/10/2019' in DD/MM/YYYY format. Provide format or specify infer_datetime_format=True for consistent parsing.\n",
      "  cache_array = _maybe_cache(arg, format, cache, convert_listlike)\n",
      "/Users/ariklevy/opt/anaconda3/envs/firstEnv/lib/python3.10/site-packages/pandas/core/tools/datetimes.py:1047: UserWarning: Parsing '23/10/2019' in DD/MM/YYYY format. Provide format or specify infer_datetime_format=True for consistent parsing.\n",
      "  cache_array = _maybe_cache(arg, format, cache, convert_listlike)\n",
      "/Users/ariklevy/opt/anaconda3/envs/firstEnv/lib/python3.10/site-packages/pandas/core/tools/datetimes.py:1047: UserWarning: Parsing '24/10/2019' in DD/MM/YYYY format. Provide format or specify infer_datetime_format=True for consistent parsing.\n",
      "  cache_array = _maybe_cache(arg, format, cache, convert_listlike)\n",
      "/Users/ariklevy/opt/anaconda3/envs/firstEnv/lib/python3.10/site-packages/pandas/core/tools/datetimes.py:1047: UserWarning: Parsing '25/10/2019' in DD/MM/YYYY format. Provide format or specify infer_datetime_format=True for consistent parsing.\n",
      "  cache_array = _maybe_cache(arg, format, cache, convert_listlike)\n",
      "/Users/ariklevy/opt/anaconda3/envs/firstEnv/lib/python3.10/site-packages/pandas/core/tools/datetimes.py:1047: UserWarning: Parsing '26/10/2019' in DD/MM/YYYY format. Provide format or specify infer_datetime_format=True for consistent parsing.\n",
      "  cache_array = _maybe_cache(arg, format, cache, convert_listlike)\n",
      "/Users/ariklevy/opt/anaconda3/envs/firstEnv/lib/python3.10/site-packages/pandas/core/tools/datetimes.py:1047: UserWarning: Parsing '27/10/2019' in DD/MM/YYYY format. Provide format or specify infer_datetime_format=True for consistent parsing.\n",
      "  cache_array = _maybe_cache(arg, format, cache, convert_listlike)\n",
      "/Users/ariklevy/opt/anaconda3/envs/firstEnv/lib/python3.10/site-packages/pandas/core/tools/datetimes.py:1047: UserWarning: Parsing '28/10/2019' in DD/MM/YYYY format. Provide format or specify infer_datetime_format=True for consistent parsing.\n",
      "  cache_array = _maybe_cache(arg, format, cache, convert_listlike)\n",
      "/Users/ariklevy/opt/anaconda3/envs/firstEnv/lib/python3.10/site-packages/pandas/core/tools/datetimes.py:1047: UserWarning: Parsing '29/10/2019' in DD/MM/YYYY format. Provide format or specify infer_datetime_format=True for consistent parsing.\n",
      "  cache_array = _maybe_cache(arg, format, cache, convert_listlike)\n",
      "/Users/ariklevy/opt/anaconda3/envs/firstEnv/lib/python3.10/site-packages/pandas/core/tools/datetimes.py:1047: UserWarning: Parsing '30/10/2019' in DD/MM/YYYY format. Provide format or specify infer_datetime_format=True for consistent parsing.\n",
      "  cache_array = _maybe_cache(arg, format, cache, convert_listlike)\n",
      "/Users/ariklevy/opt/anaconda3/envs/firstEnv/lib/python3.10/site-packages/pandas/core/tools/datetimes.py:1047: UserWarning: Parsing '31/10/2019' in DD/MM/YYYY format. Provide format or specify infer_datetime_format=True for consistent parsing.\n",
      "  cache_array = _maybe_cache(arg, format, cache, convert_listlike)\n",
      "/Users/ariklevy/opt/anaconda3/envs/firstEnv/lib/python3.10/site-packages/pandas/core/tools/datetimes.py:1047: UserWarning: Parsing '13/11/2019' in DD/MM/YYYY format. Provide format or specify infer_datetime_format=True for consistent parsing.\n",
      "  cache_array = _maybe_cache(arg, format, cache, convert_listlike)\n",
      "/Users/ariklevy/opt/anaconda3/envs/firstEnv/lib/python3.10/site-packages/pandas/core/tools/datetimes.py:1047: UserWarning: Parsing '14/11/2019' in DD/MM/YYYY format. Provide format or specify infer_datetime_format=True for consistent parsing.\n",
      "  cache_array = _maybe_cache(arg, format, cache, convert_listlike)\n",
      "/Users/ariklevy/opt/anaconda3/envs/firstEnv/lib/python3.10/site-packages/pandas/core/tools/datetimes.py:1047: UserWarning: Parsing '15/11/2019' in DD/MM/YYYY format. Provide format or specify infer_datetime_format=True for consistent parsing.\n",
      "  cache_array = _maybe_cache(arg, format, cache, convert_listlike)\n",
      "/Users/ariklevy/opt/anaconda3/envs/firstEnv/lib/python3.10/site-packages/pandas/core/tools/datetimes.py:1047: UserWarning: Parsing '16/11/2019' in DD/MM/YYYY format. Provide format or specify infer_datetime_format=True for consistent parsing.\n",
      "  cache_array = _maybe_cache(arg, format, cache, convert_listlike)\n",
      "/Users/ariklevy/opt/anaconda3/envs/firstEnv/lib/python3.10/site-packages/pandas/core/tools/datetimes.py:1047: UserWarning: Parsing '17/11/2019' in DD/MM/YYYY format. Provide format or specify infer_datetime_format=True for consistent parsing.\n",
      "  cache_array = _maybe_cache(arg, format, cache, convert_listlike)\n",
      "/Users/ariklevy/opt/anaconda3/envs/firstEnv/lib/python3.10/site-packages/pandas/core/tools/datetimes.py:1047: UserWarning: Parsing '18/11/2019' in DD/MM/YYYY format. Provide format or specify infer_datetime_format=True for consistent parsing.\n",
      "  cache_array = _maybe_cache(arg, format, cache, convert_listlike)\n",
      "/Users/ariklevy/opt/anaconda3/envs/firstEnv/lib/python3.10/site-packages/pandas/core/tools/datetimes.py:1047: UserWarning: Parsing '19/11/2019' in DD/MM/YYYY format. Provide format or specify infer_datetime_format=True for consistent parsing.\n",
      "  cache_array = _maybe_cache(arg, format, cache, convert_listlike)\n",
      "/Users/ariklevy/opt/anaconda3/envs/firstEnv/lib/python3.10/site-packages/pandas/core/tools/datetimes.py:1047: UserWarning: Parsing '20/11/2019' in DD/MM/YYYY format. Provide format or specify infer_datetime_format=True for consistent parsing.\n",
      "  cache_array = _maybe_cache(arg, format, cache, convert_listlike)\n",
      "/Users/ariklevy/opt/anaconda3/envs/firstEnv/lib/python3.10/site-packages/pandas/core/tools/datetimes.py:1047: UserWarning: Parsing '21/11/2019' in DD/MM/YYYY format. Provide format or specify infer_datetime_format=True for consistent parsing.\n",
      "  cache_array = _maybe_cache(arg, format, cache, convert_listlike)\n",
      "/Users/ariklevy/opt/anaconda3/envs/firstEnv/lib/python3.10/site-packages/pandas/core/tools/datetimes.py:1047: UserWarning: Parsing '22/11/2019' in DD/MM/YYYY format. Provide format or specify infer_datetime_format=True for consistent parsing.\n",
      "  cache_array = _maybe_cache(arg, format, cache, convert_listlike)\n",
      "/Users/ariklevy/opt/anaconda3/envs/firstEnv/lib/python3.10/site-packages/pandas/core/tools/datetimes.py:1047: UserWarning: Parsing '23/11/2019' in DD/MM/YYYY format. Provide format or specify infer_datetime_format=True for consistent parsing.\n",
      "  cache_array = _maybe_cache(arg, format, cache, convert_listlike)\n",
      "/Users/ariklevy/opt/anaconda3/envs/firstEnv/lib/python3.10/site-packages/pandas/core/tools/datetimes.py:1047: UserWarning: Parsing '24/11/2019' in DD/MM/YYYY format. Provide format or specify infer_datetime_format=True for consistent parsing.\n",
      "  cache_array = _maybe_cache(arg, format, cache, convert_listlike)\n",
      "/Users/ariklevy/opt/anaconda3/envs/firstEnv/lib/python3.10/site-packages/pandas/core/tools/datetimes.py:1047: UserWarning: Parsing '25/11/2019' in DD/MM/YYYY format. Provide format or specify infer_datetime_format=True for consistent parsing.\n",
      "  cache_array = _maybe_cache(arg, format, cache, convert_listlike)\n",
      "/Users/ariklevy/opt/anaconda3/envs/firstEnv/lib/python3.10/site-packages/pandas/core/tools/datetimes.py:1047: UserWarning: Parsing '26/11/2019' in DD/MM/YYYY format. Provide format or specify infer_datetime_format=True for consistent parsing.\n",
      "  cache_array = _maybe_cache(arg, format, cache, convert_listlike)\n",
      "/Users/ariklevy/opt/anaconda3/envs/firstEnv/lib/python3.10/site-packages/pandas/core/tools/datetimes.py:1047: UserWarning: Parsing '27/11/2019' in DD/MM/YYYY format. Provide format or specify infer_datetime_format=True for consistent parsing.\n",
      "  cache_array = _maybe_cache(arg, format, cache, convert_listlike)\n",
      "/Users/ariklevy/opt/anaconda3/envs/firstEnv/lib/python3.10/site-packages/pandas/core/tools/datetimes.py:1047: UserWarning: Parsing '28/11/2019' in DD/MM/YYYY format. Provide format or specify infer_datetime_format=True for consistent parsing.\n",
      "  cache_array = _maybe_cache(arg, format, cache, convert_listlike)\n",
      "/Users/ariklevy/opt/anaconda3/envs/firstEnv/lib/python3.10/site-packages/pandas/core/tools/datetimes.py:1047: UserWarning: Parsing '29/11/2019' in DD/MM/YYYY format. Provide format or specify infer_datetime_format=True for consistent parsing.\n",
      "  cache_array = _maybe_cache(arg, format, cache, convert_listlike)\n",
      "/Users/ariklevy/opt/anaconda3/envs/firstEnv/lib/python3.10/site-packages/pandas/core/tools/datetimes.py:1047: UserWarning: Parsing '30/11/2019' in DD/MM/YYYY format. Provide format or specify infer_datetime_format=True for consistent parsing.\n",
      "  cache_array = _maybe_cache(arg, format, cache, convert_listlike)\n",
      "/Users/ariklevy/opt/anaconda3/envs/firstEnv/lib/python3.10/site-packages/pandas/core/tools/datetimes.py:1047: UserWarning: Parsing '13/12/2019' in DD/MM/YYYY format. Provide format or specify infer_datetime_format=True for consistent parsing.\n",
      "  cache_array = _maybe_cache(arg, format, cache, convert_listlike)\n",
      "/Users/ariklevy/opt/anaconda3/envs/firstEnv/lib/python3.10/site-packages/pandas/core/tools/datetimes.py:1047: UserWarning: Parsing '14/12/2019' in DD/MM/YYYY format. Provide format or specify infer_datetime_format=True for consistent parsing.\n",
      "  cache_array = _maybe_cache(arg, format, cache, convert_listlike)\n",
      "/Users/ariklevy/opt/anaconda3/envs/firstEnv/lib/python3.10/site-packages/pandas/core/tools/datetimes.py:1047: UserWarning: Parsing '15/12/2019' in DD/MM/YYYY format. Provide format or specify infer_datetime_format=True for consistent parsing.\n",
      "  cache_array = _maybe_cache(arg, format, cache, convert_listlike)\n",
      "/Users/ariklevy/opt/anaconda3/envs/firstEnv/lib/python3.10/site-packages/pandas/core/tools/datetimes.py:1047: UserWarning: Parsing '16/12/2019' in DD/MM/YYYY format. Provide format or specify infer_datetime_format=True for consistent parsing.\n",
      "  cache_array = _maybe_cache(arg, format, cache, convert_listlike)\n",
      "/Users/ariklevy/opt/anaconda3/envs/firstEnv/lib/python3.10/site-packages/pandas/core/tools/datetimes.py:1047: UserWarning: Parsing '17/12/2019' in DD/MM/YYYY format. Provide format or specify infer_datetime_format=True for consistent parsing.\n",
      "  cache_array = _maybe_cache(arg, format, cache, convert_listlike)\n",
      "/Users/ariklevy/opt/anaconda3/envs/firstEnv/lib/python3.10/site-packages/pandas/core/tools/datetimes.py:1047: UserWarning: Parsing '18/12/2019' in DD/MM/YYYY format. Provide format or specify infer_datetime_format=True for consistent parsing.\n",
      "  cache_array = _maybe_cache(arg, format, cache, convert_listlike)\n",
      "/Users/ariklevy/opt/anaconda3/envs/firstEnv/lib/python3.10/site-packages/pandas/core/tools/datetimes.py:1047: UserWarning: Parsing '19/12/2019' in DD/MM/YYYY format. Provide format or specify infer_datetime_format=True for consistent parsing.\n",
      "  cache_array = _maybe_cache(arg, format, cache, convert_listlike)\n",
      "/Users/ariklevy/opt/anaconda3/envs/firstEnv/lib/python3.10/site-packages/pandas/core/tools/datetimes.py:1047: UserWarning: Parsing '20/12/2019' in DD/MM/YYYY format. Provide format or specify infer_datetime_format=True for consistent parsing.\n",
      "  cache_array = _maybe_cache(arg, format, cache, convert_listlike)\n",
      "/Users/ariklevy/opt/anaconda3/envs/firstEnv/lib/python3.10/site-packages/pandas/core/tools/datetimes.py:1047: UserWarning: Parsing '21/12/2019' in DD/MM/YYYY format. Provide format or specify infer_datetime_format=True for consistent parsing.\n",
      "  cache_array = _maybe_cache(arg, format, cache, convert_listlike)\n",
      "/Users/ariklevy/opt/anaconda3/envs/firstEnv/lib/python3.10/site-packages/pandas/core/tools/datetimes.py:1047: UserWarning: Parsing '22/12/2019' in DD/MM/YYYY format. Provide format or specify infer_datetime_format=True for consistent parsing.\n",
      "  cache_array = _maybe_cache(arg, format, cache, convert_listlike)\n",
      "/Users/ariklevy/opt/anaconda3/envs/firstEnv/lib/python3.10/site-packages/pandas/core/tools/datetimes.py:1047: UserWarning: Parsing '23/12/2019' in DD/MM/YYYY format. Provide format or specify infer_datetime_format=True for consistent parsing.\n",
      "  cache_array = _maybe_cache(arg, format, cache, convert_listlike)\n",
      "/Users/ariklevy/opt/anaconda3/envs/firstEnv/lib/python3.10/site-packages/pandas/core/tools/datetimes.py:1047: UserWarning: Parsing '24/12/2019' in DD/MM/YYYY format. Provide format or specify infer_datetime_format=True for consistent parsing.\n",
      "  cache_array = _maybe_cache(arg, format, cache, convert_listlike)\n",
      "/Users/ariklevy/opt/anaconda3/envs/firstEnv/lib/python3.10/site-packages/pandas/core/tools/datetimes.py:1047: UserWarning: Parsing '25/12/2019' in DD/MM/YYYY format. Provide format or specify infer_datetime_format=True for consistent parsing.\n",
      "  cache_array = _maybe_cache(arg, format, cache, convert_listlike)\n",
      "/Users/ariklevy/opt/anaconda3/envs/firstEnv/lib/python3.10/site-packages/pandas/core/tools/datetimes.py:1047: UserWarning: Parsing '26/12/2019' in DD/MM/YYYY format. Provide format or specify infer_datetime_format=True for consistent parsing.\n",
      "  cache_array = _maybe_cache(arg, format, cache, convert_listlike)\n",
      "/Users/ariklevy/opt/anaconda3/envs/firstEnv/lib/python3.10/site-packages/pandas/core/tools/datetimes.py:1047: UserWarning: Parsing '27/12/2019' in DD/MM/YYYY format. Provide format or specify infer_datetime_format=True for consistent parsing.\n",
      "  cache_array = _maybe_cache(arg, format, cache, convert_listlike)\n",
      "/Users/ariklevy/opt/anaconda3/envs/firstEnv/lib/python3.10/site-packages/pandas/core/tools/datetimes.py:1047: UserWarning: Parsing '28/12/2019' in DD/MM/YYYY format. Provide format or specify infer_datetime_format=True for consistent parsing.\n",
      "  cache_array = _maybe_cache(arg, format, cache, convert_listlike)\n",
      "/Users/ariklevy/opt/anaconda3/envs/firstEnv/lib/python3.10/site-packages/pandas/core/tools/datetimes.py:1047: UserWarning: Parsing '29/12/2019' in DD/MM/YYYY format. Provide format or specify infer_datetime_format=True for consistent parsing.\n",
      "  cache_array = _maybe_cache(arg, format, cache, convert_listlike)\n",
      "/Users/ariklevy/opt/anaconda3/envs/firstEnv/lib/python3.10/site-packages/pandas/core/tools/datetimes.py:1047: UserWarning: Parsing '30/12/2019' in DD/MM/YYYY format. Provide format or specify infer_datetime_format=True for consistent parsing.\n",
      "  cache_array = _maybe_cache(arg, format, cache, convert_listlike)\n",
      "/Users/ariklevy/opt/anaconda3/envs/firstEnv/lib/python3.10/site-packages/pandas/core/tools/datetimes.py:1047: UserWarning: Parsing '31/12/2019' in DD/MM/YYYY format. Provide format or specify infer_datetime_format=True for consistent parsing.\n",
      "  cache_array = _maybe_cache(arg, format, cache, convert_listlike)\n",
      "/Users/ariklevy/opt/anaconda3/envs/firstEnv/lib/python3.10/site-packages/pandas/core/tools/datetimes.py:1047: UserWarning: Parsing '13/11/2021' in DD/MM/YYYY format. Provide format or specify infer_datetime_format=True for consistent parsing.\n",
      "  cache_array = _maybe_cache(arg, format, cache, convert_listlike)\n",
      "/Users/ariklevy/opt/anaconda3/envs/firstEnv/lib/python3.10/site-packages/pandas/core/tools/datetimes.py:1047: UserWarning: Parsing '14/11/2021' in DD/MM/YYYY format. Provide format or specify infer_datetime_format=True for consistent parsing.\n",
      "  cache_array = _maybe_cache(arg, format, cache, convert_listlike)\n",
      "/Users/ariklevy/opt/anaconda3/envs/firstEnv/lib/python3.10/site-packages/pandas/core/tools/datetimes.py:1047: UserWarning: Parsing '15/11/2021' in DD/MM/YYYY format. Provide format or specify infer_datetime_format=True for consistent parsing.\n",
      "  cache_array = _maybe_cache(arg, format, cache, convert_listlike)\n",
      "/Users/ariklevy/opt/anaconda3/envs/firstEnv/lib/python3.10/site-packages/pandas/core/tools/datetimes.py:1047: UserWarning: Parsing '16/11/2021' in DD/MM/YYYY format. Provide format or specify infer_datetime_format=True for consistent parsing.\n",
      "  cache_array = _maybe_cache(arg, format, cache, convert_listlike)\n",
      "/Users/ariklevy/opt/anaconda3/envs/firstEnv/lib/python3.10/site-packages/pandas/core/tools/datetimes.py:1047: UserWarning: Parsing '17/11/2021' in DD/MM/YYYY format. Provide format or specify infer_datetime_format=True for consistent parsing.\n",
      "  cache_array = _maybe_cache(arg, format, cache, convert_listlike)\n",
      "/Users/ariklevy/opt/anaconda3/envs/firstEnv/lib/python3.10/site-packages/pandas/core/tools/datetimes.py:1047: UserWarning: Parsing '18/11/2021' in DD/MM/YYYY format. Provide format or specify infer_datetime_format=True for consistent parsing.\n",
      "  cache_array = _maybe_cache(arg, format, cache, convert_listlike)\n",
      "/Users/ariklevy/opt/anaconda3/envs/firstEnv/lib/python3.10/site-packages/pandas/core/tools/datetimes.py:1047: UserWarning: Parsing '19/11/2021' in DD/MM/YYYY format. Provide format or specify infer_datetime_format=True for consistent parsing.\n",
      "  cache_array = _maybe_cache(arg, format, cache, convert_listlike)\n",
      "/Users/ariklevy/opt/anaconda3/envs/firstEnv/lib/python3.10/site-packages/pandas/core/tools/datetimes.py:1047: UserWarning: Parsing '20/11/2021' in DD/MM/YYYY format. Provide format or specify infer_datetime_format=True for consistent parsing.\n",
      "  cache_array = _maybe_cache(arg, format, cache, convert_listlike)\n",
      "/Users/ariklevy/opt/anaconda3/envs/firstEnv/lib/python3.10/site-packages/pandas/core/tools/datetimes.py:1047: UserWarning: Parsing '21/11/2021' in DD/MM/YYYY format. Provide format or specify infer_datetime_format=True for consistent parsing.\n",
      "  cache_array = _maybe_cache(arg, format, cache, convert_listlike)\n",
      "/Users/ariklevy/opt/anaconda3/envs/firstEnv/lib/python3.10/site-packages/pandas/core/tools/datetimes.py:1047: UserWarning: Parsing '22/11/2021' in DD/MM/YYYY format. Provide format or specify infer_datetime_format=True for consistent parsing.\n",
      "  cache_array = _maybe_cache(arg, format, cache, convert_listlike)\n",
      "/Users/ariklevy/opt/anaconda3/envs/firstEnv/lib/python3.10/site-packages/pandas/core/tools/datetimes.py:1047: UserWarning: Parsing '23/11/2021' in DD/MM/YYYY format. Provide format or specify infer_datetime_format=True for consistent parsing.\n",
      "  cache_array = _maybe_cache(arg, format, cache, convert_listlike)\n",
      "/Users/ariklevy/opt/anaconda3/envs/firstEnv/lib/python3.10/site-packages/pandas/core/tools/datetimes.py:1047: UserWarning: Parsing '24/11/2021' in DD/MM/YYYY format. Provide format or specify infer_datetime_format=True for consistent parsing.\n",
      "  cache_array = _maybe_cache(arg, format, cache, convert_listlike)\n",
      "/Users/ariklevy/opt/anaconda3/envs/firstEnv/lib/python3.10/site-packages/pandas/core/tools/datetimes.py:1047: UserWarning: Parsing '25/11/2021' in DD/MM/YYYY format. Provide format or specify infer_datetime_format=True for consistent parsing.\n",
      "  cache_array = _maybe_cache(arg, format, cache, convert_listlike)\n",
      "/Users/ariklevy/opt/anaconda3/envs/firstEnv/lib/python3.10/site-packages/pandas/core/tools/datetimes.py:1047: UserWarning: Parsing '26/11/2021' in DD/MM/YYYY format. Provide format or specify infer_datetime_format=True for consistent parsing.\n",
      "  cache_array = _maybe_cache(arg, format, cache, convert_listlike)\n",
      "/Users/ariklevy/opt/anaconda3/envs/firstEnv/lib/python3.10/site-packages/pandas/core/tools/datetimes.py:1047: UserWarning: Parsing '27/11/2021' in DD/MM/YYYY format. Provide format or specify infer_datetime_format=True for consistent parsing.\n",
      "  cache_array = _maybe_cache(arg, format, cache, convert_listlike)\n",
      "/Users/ariklevy/opt/anaconda3/envs/firstEnv/lib/python3.10/site-packages/pandas/core/tools/datetimes.py:1047: UserWarning: Parsing '28/11/2021' in DD/MM/YYYY format. Provide format or specify infer_datetime_format=True for consistent parsing.\n",
      "  cache_array = _maybe_cache(arg, format, cache, convert_listlike)\n",
      "/Users/ariklevy/opt/anaconda3/envs/firstEnv/lib/python3.10/site-packages/pandas/core/tools/datetimes.py:1047: UserWarning: Parsing '29/11/2021' in DD/MM/YYYY format. Provide format or specify infer_datetime_format=True for consistent parsing.\n",
      "  cache_array = _maybe_cache(arg, format, cache, convert_listlike)\n",
      "/Users/ariklevy/opt/anaconda3/envs/firstEnv/lib/python3.10/site-packages/pandas/core/tools/datetimes.py:1047: UserWarning: Parsing '30/11/2021' in DD/MM/YYYY format. Provide format or specify infer_datetime_format=True for consistent parsing.\n",
      "  cache_array = _maybe_cache(arg, format, cache, convert_listlike)\n",
      "/Users/ariklevy/opt/anaconda3/envs/firstEnv/lib/python3.10/site-packages/pandas/core/tools/datetimes.py:1047: UserWarning: Parsing '13/12/2021' in DD/MM/YYYY format. Provide format or specify infer_datetime_format=True for consistent parsing.\n",
      "  cache_array = _maybe_cache(arg, format, cache, convert_listlike)\n",
      "/Users/ariklevy/opt/anaconda3/envs/firstEnv/lib/python3.10/site-packages/pandas/core/tools/datetimes.py:1047: UserWarning: Parsing '14/12/2021' in DD/MM/YYYY format. Provide format or specify infer_datetime_format=True for consistent parsing.\n",
      "  cache_array = _maybe_cache(arg, format, cache, convert_listlike)\n",
      "/Users/ariklevy/opt/anaconda3/envs/firstEnv/lib/python3.10/site-packages/pandas/core/tools/datetimes.py:1047: UserWarning: Parsing '15/12/2021' in DD/MM/YYYY format. Provide format or specify infer_datetime_format=True for consistent parsing.\n",
      "  cache_array = _maybe_cache(arg, format, cache, convert_listlike)\n",
      "/Users/ariklevy/opt/anaconda3/envs/firstEnv/lib/python3.10/site-packages/pandas/core/tools/datetimes.py:1047: UserWarning: Parsing '16/12/2021' in DD/MM/YYYY format. Provide format or specify infer_datetime_format=True for consistent parsing.\n",
      "  cache_array = _maybe_cache(arg, format, cache, convert_listlike)\n",
      "/Users/ariklevy/opt/anaconda3/envs/firstEnv/lib/python3.10/site-packages/pandas/core/tools/datetimes.py:1047: UserWarning: Parsing '17/12/2021' in DD/MM/YYYY format. Provide format or specify infer_datetime_format=True for consistent parsing.\n",
      "  cache_array = _maybe_cache(arg, format, cache, convert_listlike)\n",
      "/Users/ariklevy/opt/anaconda3/envs/firstEnv/lib/python3.10/site-packages/pandas/core/tools/datetimes.py:1047: UserWarning: Parsing '18/12/2021' in DD/MM/YYYY format. Provide format or specify infer_datetime_format=True for consistent parsing.\n",
      "  cache_array = _maybe_cache(arg, format, cache, convert_listlike)\n",
      "/Users/ariklevy/opt/anaconda3/envs/firstEnv/lib/python3.10/site-packages/pandas/core/tools/datetimes.py:1047: UserWarning: Parsing '19/12/2021' in DD/MM/YYYY format. Provide format or specify infer_datetime_format=True for consistent parsing.\n",
      "  cache_array = _maybe_cache(arg, format, cache, convert_listlike)\n",
      "/Users/ariklevy/opt/anaconda3/envs/firstEnv/lib/python3.10/site-packages/pandas/core/tools/datetimes.py:1047: UserWarning: Parsing '20/12/2021' in DD/MM/YYYY format. Provide format or specify infer_datetime_format=True for consistent parsing.\n",
      "  cache_array = _maybe_cache(arg, format, cache, convert_listlike)\n",
      "/Users/ariklevy/opt/anaconda3/envs/firstEnv/lib/python3.10/site-packages/pandas/core/tools/datetimes.py:1047: UserWarning: Parsing '21/12/2021' in DD/MM/YYYY format. Provide format or specify infer_datetime_format=True for consistent parsing.\n",
      "  cache_array = _maybe_cache(arg, format, cache, convert_listlike)\n",
      "/Users/ariklevy/opt/anaconda3/envs/firstEnv/lib/python3.10/site-packages/pandas/core/tools/datetimes.py:1047: UserWarning: Parsing '22/12/2021' in DD/MM/YYYY format. Provide format or specify infer_datetime_format=True for consistent parsing.\n",
      "  cache_array = _maybe_cache(arg, format, cache, convert_listlike)\n",
      "/Users/ariklevy/opt/anaconda3/envs/firstEnv/lib/python3.10/site-packages/pandas/core/tools/datetimes.py:1047: UserWarning: Parsing '23/12/2021' in DD/MM/YYYY format. Provide format or specify infer_datetime_format=True for consistent parsing.\n",
      "  cache_array = _maybe_cache(arg, format, cache, convert_listlike)\n",
      "/Users/ariklevy/opt/anaconda3/envs/firstEnv/lib/python3.10/site-packages/pandas/core/tools/datetimes.py:1047: UserWarning: Parsing '24/12/2021' in DD/MM/YYYY format. Provide format or specify infer_datetime_format=True for consistent parsing.\n",
      "  cache_array = _maybe_cache(arg, format, cache, convert_listlike)\n",
      "/Users/ariklevy/opt/anaconda3/envs/firstEnv/lib/python3.10/site-packages/pandas/core/tools/datetimes.py:1047: UserWarning: Parsing '25/12/2021' in DD/MM/YYYY format. Provide format or specify infer_datetime_format=True for consistent parsing.\n",
      "  cache_array = _maybe_cache(arg, format, cache, convert_listlike)\n",
      "/Users/ariklevy/opt/anaconda3/envs/firstEnv/lib/python3.10/site-packages/pandas/core/tools/datetimes.py:1047: UserWarning: Parsing '26/12/2021' in DD/MM/YYYY format. Provide format or specify infer_datetime_format=True for consistent parsing.\n",
      "  cache_array = _maybe_cache(arg, format, cache, convert_listlike)\n",
      "/Users/ariklevy/opt/anaconda3/envs/firstEnv/lib/python3.10/site-packages/pandas/core/tools/datetimes.py:1047: UserWarning: Parsing '27/12/2021' in DD/MM/YYYY format. Provide format or specify infer_datetime_format=True for consistent parsing.\n",
      "  cache_array = _maybe_cache(arg, format, cache, convert_listlike)\n",
      "/Users/ariklevy/opt/anaconda3/envs/firstEnv/lib/python3.10/site-packages/pandas/core/tools/datetimes.py:1047: UserWarning: Parsing '28/12/2021' in DD/MM/YYYY format. Provide format or specify infer_datetime_format=True for consistent parsing.\n",
      "  cache_array = _maybe_cache(arg, format, cache, convert_listlike)\n",
      "/Users/ariklevy/opt/anaconda3/envs/firstEnv/lib/python3.10/site-packages/pandas/core/tools/datetimes.py:1047: UserWarning: Parsing '29/12/2021' in DD/MM/YYYY format. Provide format or specify infer_datetime_format=True for consistent parsing.\n",
      "  cache_array = _maybe_cache(arg, format, cache, convert_listlike)\n",
      "/Users/ariklevy/opt/anaconda3/envs/firstEnv/lib/python3.10/site-packages/pandas/core/tools/datetimes.py:1047: UserWarning: Parsing '30/12/2021' in DD/MM/YYYY format. Provide format or specify infer_datetime_format=True for consistent parsing.\n",
      "  cache_array = _maybe_cache(arg, format, cache, convert_listlike)\n",
      "/Users/ariklevy/opt/anaconda3/envs/firstEnv/lib/python3.10/site-packages/pandas/core/tools/datetimes.py:1047: UserWarning: Parsing '31/12/2021' in DD/MM/YYYY format. Provide format or specify infer_datetime_format=True for consistent parsing.\n",
      "  cache_array = _maybe_cache(arg, format, cache, convert_listlike)\n",
      "/Users/ariklevy/opt/anaconda3/envs/firstEnv/lib/python3.10/site-packages/pandas/core/tools/datetimes.py:1047: UserWarning: Parsing '13/06/2021' in DD/MM/YYYY format. Provide format or specify infer_datetime_format=True for consistent parsing.\n",
      "  cache_array = _maybe_cache(arg, format, cache, convert_listlike)\n",
      "/Users/ariklevy/opt/anaconda3/envs/firstEnv/lib/python3.10/site-packages/pandas/core/tools/datetimes.py:1047: UserWarning: Parsing '14/06/2021' in DD/MM/YYYY format. Provide format or specify infer_datetime_format=True for consistent parsing.\n",
      "  cache_array = _maybe_cache(arg, format, cache, convert_listlike)\n",
      "/Users/ariklevy/opt/anaconda3/envs/firstEnv/lib/python3.10/site-packages/pandas/core/tools/datetimes.py:1047: UserWarning: Parsing '15/06/2021' in DD/MM/YYYY format. Provide format or specify infer_datetime_format=True for consistent parsing.\n",
      "  cache_array = _maybe_cache(arg, format, cache, convert_listlike)\n",
      "/Users/ariklevy/opt/anaconda3/envs/firstEnv/lib/python3.10/site-packages/pandas/core/tools/datetimes.py:1047: UserWarning: Parsing '16/06/2021' in DD/MM/YYYY format. Provide format or specify infer_datetime_format=True for consistent parsing.\n",
      "  cache_array = _maybe_cache(arg, format, cache, convert_listlike)\n",
      "/Users/ariklevy/opt/anaconda3/envs/firstEnv/lib/python3.10/site-packages/pandas/core/tools/datetimes.py:1047: UserWarning: Parsing '17/06/2021' in DD/MM/YYYY format. Provide format or specify infer_datetime_format=True for consistent parsing.\n",
      "  cache_array = _maybe_cache(arg, format, cache, convert_listlike)\n",
      "/Users/ariklevy/opt/anaconda3/envs/firstEnv/lib/python3.10/site-packages/pandas/core/tools/datetimes.py:1047: UserWarning: Parsing '18/06/2021' in DD/MM/YYYY format. Provide format or specify infer_datetime_format=True for consistent parsing.\n",
      "  cache_array = _maybe_cache(arg, format, cache, convert_listlike)\n",
      "/Users/ariklevy/opt/anaconda3/envs/firstEnv/lib/python3.10/site-packages/pandas/core/tools/datetimes.py:1047: UserWarning: Parsing '19/06/2021' in DD/MM/YYYY format. Provide format or specify infer_datetime_format=True for consistent parsing.\n",
      "  cache_array = _maybe_cache(arg, format, cache, convert_listlike)\n",
      "/Users/ariklevy/opt/anaconda3/envs/firstEnv/lib/python3.10/site-packages/pandas/core/tools/datetimes.py:1047: UserWarning: Parsing '20/06/2021' in DD/MM/YYYY format. Provide format or specify infer_datetime_format=True for consistent parsing.\n",
      "  cache_array = _maybe_cache(arg, format, cache, convert_listlike)\n",
      "/Users/ariklevy/opt/anaconda3/envs/firstEnv/lib/python3.10/site-packages/pandas/core/tools/datetimes.py:1047: UserWarning: Parsing '21/06/2021' in DD/MM/YYYY format. Provide format or specify infer_datetime_format=True for consistent parsing.\n",
      "  cache_array = _maybe_cache(arg, format, cache, convert_listlike)\n",
      "/Users/ariklevy/opt/anaconda3/envs/firstEnv/lib/python3.10/site-packages/pandas/core/tools/datetimes.py:1047: UserWarning: Parsing '22/06/2021' in DD/MM/YYYY format. Provide format or specify infer_datetime_format=True for consistent parsing.\n",
      "  cache_array = _maybe_cache(arg, format, cache, convert_listlike)\n",
      "/Users/ariklevy/opt/anaconda3/envs/firstEnv/lib/python3.10/site-packages/pandas/core/tools/datetimes.py:1047: UserWarning: Parsing '23/06/2021' in DD/MM/YYYY format. Provide format or specify infer_datetime_format=True for consistent parsing.\n",
      "  cache_array = _maybe_cache(arg, format, cache, convert_listlike)\n",
      "/Users/ariklevy/opt/anaconda3/envs/firstEnv/lib/python3.10/site-packages/pandas/core/tools/datetimes.py:1047: UserWarning: Parsing '24/06/2021' in DD/MM/YYYY format. Provide format or specify infer_datetime_format=True for consistent parsing.\n",
      "  cache_array = _maybe_cache(arg, format, cache, convert_listlike)\n",
      "/Users/ariklevy/opt/anaconda3/envs/firstEnv/lib/python3.10/site-packages/pandas/core/tools/datetimes.py:1047: UserWarning: Parsing '25/06/2021' in DD/MM/YYYY format. Provide format or specify infer_datetime_format=True for consistent parsing.\n",
      "  cache_array = _maybe_cache(arg, format, cache, convert_listlike)\n",
      "/Users/ariklevy/opt/anaconda3/envs/firstEnv/lib/python3.10/site-packages/pandas/core/tools/datetimes.py:1047: UserWarning: Parsing '26/06/2021' in DD/MM/YYYY format. Provide format or specify infer_datetime_format=True for consistent parsing.\n",
      "  cache_array = _maybe_cache(arg, format, cache, convert_listlike)\n",
      "/Users/ariklevy/opt/anaconda3/envs/firstEnv/lib/python3.10/site-packages/pandas/core/tools/datetimes.py:1047: UserWarning: Parsing '27/06/2021' in DD/MM/YYYY format. Provide format or specify infer_datetime_format=True for consistent parsing.\n",
      "  cache_array = _maybe_cache(arg, format, cache, convert_listlike)\n",
      "/Users/ariklevy/opt/anaconda3/envs/firstEnv/lib/python3.10/site-packages/pandas/core/tools/datetimes.py:1047: UserWarning: Parsing '28/06/2021' in DD/MM/YYYY format. Provide format or specify infer_datetime_format=True for consistent parsing.\n",
      "  cache_array = _maybe_cache(arg, format, cache, convert_listlike)\n",
      "/Users/ariklevy/opt/anaconda3/envs/firstEnv/lib/python3.10/site-packages/pandas/core/tools/datetimes.py:1047: UserWarning: Parsing '29/06/2021' in DD/MM/YYYY format. Provide format or specify infer_datetime_format=True for consistent parsing.\n",
      "  cache_array = _maybe_cache(arg, format, cache, convert_listlike)\n",
      "/Users/ariklevy/opt/anaconda3/envs/firstEnv/lib/python3.10/site-packages/pandas/core/tools/datetimes.py:1047: UserWarning: Parsing '30/06/2021' in DD/MM/YYYY format. Provide format or specify infer_datetime_format=True for consistent parsing.\n",
      "  cache_array = _maybe_cache(arg, format, cache, convert_listlike)\n",
      "/Users/ariklevy/opt/anaconda3/envs/firstEnv/lib/python3.10/site-packages/pandas/core/tools/datetimes.py:1047: UserWarning: Parsing '13/07/2021' in DD/MM/YYYY format. Provide format or specify infer_datetime_format=True for consistent parsing.\n",
      "  cache_array = _maybe_cache(arg, format, cache, convert_listlike)\n",
      "/Users/ariklevy/opt/anaconda3/envs/firstEnv/lib/python3.10/site-packages/pandas/core/tools/datetimes.py:1047: UserWarning: Parsing '14/07/2021' in DD/MM/YYYY format. Provide format or specify infer_datetime_format=True for consistent parsing.\n",
      "  cache_array = _maybe_cache(arg, format, cache, convert_listlike)\n",
      "/Users/ariklevy/opt/anaconda3/envs/firstEnv/lib/python3.10/site-packages/pandas/core/tools/datetimes.py:1047: UserWarning: Parsing '15/07/2021' in DD/MM/YYYY format. Provide format or specify infer_datetime_format=True for consistent parsing.\n",
      "  cache_array = _maybe_cache(arg, format, cache, convert_listlike)\n",
      "/Users/ariklevy/opt/anaconda3/envs/firstEnv/lib/python3.10/site-packages/pandas/core/tools/datetimes.py:1047: UserWarning: Parsing '16/07/2021' in DD/MM/YYYY format. Provide format or specify infer_datetime_format=True for consistent parsing.\n",
      "  cache_array = _maybe_cache(arg, format, cache, convert_listlike)\n",
      "/Users/ariklevy/opt/anaconda3/envs/firstEnv/lib/python3.10/site-packages/pandas/core/tools/datetimes.py:1047: UserWarning: Parsing '17/07/2021' in DD/MM/YYYY format. Provide format or specify infer_datetime_format=True for consistent parsing.\n",
      "  cache_array = _maybe_cache(arg, format, cache, convert_listlike)\n",
      "/Users/ariklevy/opt/anaconda3/envs/firstEnv/lib/python3.10/site-packages/pandas/core/tools/datetimes.py:1047: UserWarning: Parsing '18/07/2021' in DD/MM/YYYY format. Provide format or specify infer_datetime_format=True for consistent parsing.\n",
      "  cache_array = _maybe_cache(arg, format, cache, convert_listlike)\n",
      "/Users/ariklevy/opt/anaconda3/envs/firstEnv/lib/python3.10/site-packages/pandas/core/tools/datetimes.py:1047: UserWarning: Parsing '19/07/2021' in DD/MM/YYYY format. Provide format or specify infer_datetime_format=True for consistent parsing.\n",
      "  cache_array = _maybe_cache(arg, format, cache, convert_listlike)\n",
      "/Users/ariklevy/opt/anaconda3/envs/firstEnv/lib/python3.10/site-packages/pandas/core/tools/datetimes.py:1047: UserWarning: Parsing '20/07/2021' in DD/MM/YYYY format. Provide format or specify infer_datetime_format=True for consistent parsing.\n",
      "  cache_array = _maybe_cache(arg, format, cache, convert_listlike)\n",
      "/Users/ariklevy/opt/anaconda3/envs/firstEnv/lib/python3.10/site-packages/pandas/core/tools/datetimes.py:1047: UserWarning: Parsing '21/07/2021' in DD/MM/YYYY format. Provide format or specify infer_datetime_format=True for consistent parsing.\n",
      "  cache_array = _maybe_cache(arg, format, cache, convert_listlike)\n",
      "/Users/ariklevy/opt/anaconda3/envs/firstEnv/lib/python3.10/site-packages/pandas/core/tools/datetimes.py:1047: UserWarning: Parsing '22/07/2021' in DD/MM/YYYY format. Provide format or specify infer_datetime_format=True for consistent parsing.\n",
      "  cache_array = _maybe_cache(arg, format, cache, convert_listlike)\n",
      "/Users/ariklevy/opt/anaconda3/envs/firstEnv/lib/python3.10/site-packages/pandas/core/tools/datetimes.py:1047: UserWarning: Parsing '23/07/2021' in DD/MM/YYYY format. Provide format or specify infer_datetime_format=True for consistent parsing.\n",
      "  cache_array = _maybe_cache(arg, format, cache, convert_listlike)\n",
      "/Users/ariklevy/opt/anaconda3/envs/firstEnv/lib/python3.10/site-packages/pandas/core/tools/datetimes.py:1047: UserWarning: Parsing '24/07/2021' in DD/MM/YYYY format. Provide format or specify infer_datetime_format=True for consistent parsing.\n",
      "  cache_array = _maybe_cache(arg, format, cache, convert_listlike)\n",
      "/Users/ariklevy/opt/anaconda3/envs/firstEnv/lib/python3.10/site-packages/pandas/core/tools/datetimes.py:1047: UserWarning: Parsing '25/07/2021' in DD/MM/YYYY format. Provide format or specify infer_datetime_format=True for consistent parsing.\n",
      "  cache_array = _maybe_cache(arg, format, cache, convert_listlike)\n",
      "/Users/ariklevy/opt/anaconda3/envs/firstEnv/lib/python3.10/site-packages/pandas/core/tools/datetimes.py:1047: UserWarning: Parsing '26/07/2021' in DD/MM/YYYY format. Provide format or specify infer_datetime_format=True for consistent parsing.\n",
      "  cache_array = _maybe_cache(arg, format, cache, convert_listlike)\n",
      "/Users/ariklevy/opt/anaconda3/envs/firstEnv/lib/python3.10/site-packages/pandas/core/tools/datetimes.py:1047: UserWarning: Parsing '27/07/2021' in DD/MM/YYYY format. Provide format or specify infer_datetime_format=True for consistent parsing.\n",
      "  cache_array = _maybe_cache(arg, format, cache, convert_listlike)\n",
      "/Users/ariklevy/opt/anaconda3/envs/firstEnv/lib/python3.10/site-packages/pandas/core/tools/datetimes.py:1047: UserWarning: Parsing '28/07/2021' in DD/MM/YYYY format. Provide format or specify infer_datetime_format=True for consistent parsing.\n",
      "  cache_array = _maybe_cache(arg, format, cache, convert_listlike)\n",
      "/Users/ariklevy/opt/anaconda3/envs/firstEnv/lib/python3.10/site-packages/pandas/core/tools/datetimes.py:1047: UserWarning: Parsing '29/07/2021' in DD/MM/YYYY format. Provide format or specify infer_datetime_format=True for consistent parsing.\n",
      "  cache_array = _maybe_cache(arg, format, cache, convert_listlike)\n",
      "/Users/ariklevy/opt/anaconda3/envs/firstEnv/lib/python3.10/site-packages/pandas/core/tools/datetimes.py:1047: UserWarning: Parsing '30/07/2021' in DD/MM/YYYY format. Provide format or specify infer_datetime_format=True for consistent parsing.\n",
      "  cache_array = _maybe_cache(arg, format, cache, convert_listlike)\n",
      "/Users/ariklevy/opt/anaconda3/envs/firstEnv/lib/python3.10/site-packages/pandas/core/tools/datetimes.py:1047: UserWarning: Parsing '31/07/2021' in DD/MM/YYYY format. Provide format or specify infer_datetime_format=True for consistent parsing.\n",
      "  cache_array = _maybe_cache(arg, format, cache, convert_listlike)\n",
      "/Users/ariklevy/opt/anaconda3/envs/firstEnv/lib/python3.10/site-packages/pandas/core/tools/datetimes.py:1047: UserWarning: Parsing '13/08/2021' in DD/MM/YYYY format. Provide format or specify infer_datetime_format=True for consistent parsing.\n",
      "  cache_array = _maybe_cache(arg, format, cache, convert_listlike)\n",
      "/Users/ariklevy/opt/anaconda3/envs/firstEnv/lib/python3.10/site-packages/pandas/core/tools/datetimes.py:1047: UserWarning: Parsing '14/08/2021' in DD/MM/YYYY format. Provide format or specify infer_datetime_format=True for consistent parsing.\n",
      "  cache_array = _maybe_cache(arg, format, cache, convert_listlike)\n",
      "/Users/ariklevy/opt/anaconda3/envs/firstEnv/lib/python3.10/site-packages/pandas/core/tools/datetimes.py:1047: UserWarning: Parsing '15/08/2021' in DD/MM/YYYY format. Provide format or specify infer_datetime_format=True for consistent parsing.\n",
      "  cache_array = _maybe_cache(arg, format, cache, convert_listlike)\n",
      "/Users/ariklevy/opt/anaconda3/envs/firstEnv/lib/python3.10/site-packages/pandas/core/tools/datetimes.py:1047: UserWarning: Parsing '16/08/2021' in DD/MM/YYYY format. Provide format or specify infer_datetime_format=True for consistent parsing.\n",
      "  cache_array = _maybe_cache(arg, format, cache, convert_listlike)\n",
      "/Users/ariklevy/opt/anaconda3/envs/firstEnv/lib/python3.10/site-packages/pandas/core/tools/datetimes.py:1047: UserWarning: Parsing '17/08/2021' in DD/MM/YYYY format. Provide format or specify infer_datetime_format=True for consistent parsing.\n",
      "  cache_array = _maybe_cache(arg, format, cache, convert_listlike)\n",
      "/Users/ariklevy/opt/anaconda3/envs/firstEnv/lib/python3.10/site-packages/pandas/core/tools/datetimes.py:1047: UserWarning: Parsing '18/08/2021' in DD/MM/YYYY format. Provide format or specify infer_datetime_format=True for consistent parsing.\n",
      "  cache_array = _maybe_cache(arg, format, cache, convert_listlike)\n",
      "/Users/ariklevy/opt/anaconda3/envs/firstEnv/lib/python3.10/site-packages/pandas/core/tools/datetimes.py:1047: UserWarning: Parsing '19/08/2021' in DD/MM/YYYY format. Provide format or specify infer_datetime_format=True for consistent parsing.\n",
      "  cache_array = _maybe_cache(arg, format, cache, convert_listlike)\n",
      "/Users/ariklevy/opt/anaconda3/envs/firstEnv/lib/python3.10/site-packages/pandas/core/tools/datetimes.py:1047: UserWarning: Parsing '20/08/2021' in DD/MM/YYYY format. Provide format or specify infer_datetime_format=True for consistent parsing.\n",
      "  cache_array = _maybe_cache(arg, format, cache, convert_listlike)\n",
      "/Users/ariklevy/opt/anaconda3/envs/firstEnv/lib/python3.10/site-packages/pandas/core/tools/datetimes.py:1047: UserWarning: Parsing '21/08/2021' in DD/MM/YYYY format. Provide format or specify infer_datetime_format=True for consistent parsing.\n",
      "  cache_array = _maybe_cache(arg, format, cache, convert_listlike)\n",
      "/Users/ariklevy/opt/anaconda3/envs/firstEnv/lib/python3.10/site-packages/pandas/core/tools/datetimes.py:1047: UserWarning: Parsing '22/08/2021' in DD/MM/YYYY format. Provide format or specify infer_datetime_format=True for consistent parsing.\n",
      "  cache_array = _maybe_cache(arg, format, cache, convert_listlike)\n",
      "/Users/ariklevy/opt/anaconda3/envs/firstEnv/lib/python3.10/site-packages/pandas/core/tools/datetimes.py:1047: UserWarning: Parsing '23/08/2021' in DD/MM/YYYY format. Provide format or specify infer_datetime_format=True for consistent parsing.\n",
      "  cache_array = _maybe_cache(arg, format, cache, convert_listlike)\n",
      "/Users/ariklevy/opt/anaconda3/envs/firstEnv/lib/python3.10/site-packages/pandas/core/tools/datetimes.py:1047: UserWarning: Parsing '24/08/2021' in DD/MM/YYYY format. Provide format or specify infer_datetime_format=True for consistent parsing.\n",
      "  cache_array = _maybe_cache(arg, format, cache, convert_listlike)\n",
      "/Users/ariklevy/opt/anaconda3/envs/firstEnv/lib/python3.10/site-packages/pandas/core/tools/datetimes.py:1047: UserWarning: Parsing '25/08/2021' in DD/MM/YYYY format. Provide format or specify infer_datetime_format=True for consistent parsing.\n",
      "  cache_array = _maybe_cache(arg, format, cache, convert_listlike)\n",
      "/Users/ariklevy/opt/anaconda3/envs/firstEnv/lib/python3.10/site-packages/pandas/core/tools/datetimes.py:1047: UserWarning: Parsing '26/08/2021' in DD/MM/YYYY format. Provide format or specify infer_datetime_format=True for consistent parsing.\n",
      "  cache_array = _maybe_cache(arg, format, cache, convert_listlike)\n",
      "/Users/ariklevy/opt/anaconda3/envs/firstEnv/lib/python3.10/site-packages/pandas/core/tools/datetimes.py:1047: UserWarning: Parsing '27/08/2021' in DD/MM/YYYY format. Provide format or specify infer_datetime_format=True for consistent parsing.\n",
      "  cache_array = _maybe_cache(arg, format, cache, convert_listlike)\n",
      "/Users/ariklevy/opt/anaconda3/envs/firstEnv/lib/python3.10/site-packages/pandas/core/tools/datetimes.py:1047: UserWarning: Parsing '28/08/2021' in DD/MM/YYYY format. Provide format or specify infer_datetime_format=True for consistent parsing.\n",
      "  cache_array = _maybe_cache(arg, format, cache, convert_listlike)\n",
      "/Users/ariklevy/opt/anaconda3/envs/firstEnv/lib/python3.10/site-packages/pandas/core/tools/datetimes.py:1047: UserWarning: Parsing '29/08/2021' in DD/MM/YYYY format. Provide format or specify infer_datetime_format=True for consistent parsing.\n",
      "  cache_array = _maybe_cache(arg, format, cache, convert_listlike)\n",
      "/Users/ariklevy/opt/anaconda3/envs/firstEnv/lib/python3.10/site-packages/pandas/core/tools/datetimes.py:1047: UserWarning: Parsing '30/08/2021' in DD/MM/YYYY format. Provide format or specify infer_datetime_format=True for consistent parsing.\n",
      "  cache_array = _maybe_cache(arg, format, cache, convert_listlike)\n",
      "/Users/ariklevy/opt/anaconda3/envs/firstEnv/lib/python3.10/site-packages/pandas/core/tools/datetimes.py:1047: UserWarning: Parsing '31/08/2021' in DD/MM/YYYY format. Provide format or specify infer_datetime_format=True for consistent parsing.\n",
      "  cache_array = _maybe_cache(arg, format, cache, convert_listlike)\n",
      "/Users/ariklevy/opt/anaconda3/envs/firstEnv/lib/python3.10/site-packages/pandas/core/tools/datetimes.py:1047: UserWarning: Parsing '13/09/2021' in DD/MM/YYYY format. Provide format or specify infer_datetime_format=True for consistent parsing.\n",
      "  cache_array = _maybe_cache(arg, format, cache, convert_listlike)\n",
      "/Users/ariklevy/opt/anaconda3/envs/firstEnv/lib/python3.10/site-packages/pandas/core/tools/datetimes.py:1047: UserWarning: Parsing '14/09/2021' in DD/MM/YYYY format. Provide format or specify infer_datetime_format=True for consistent parsing.\n",
      "  cache_array = _maybe_cache(arg, format, cache, convert_listlike)\n",
      "/Users/ariklevy/opt/anaconda3/envs/firstEnv/lib/python3.10/site-packages/pandas/core/tools/datetimes.py:1047: UserWarning: Parsing '15/09/2021' in DD/MM/YYYY format. Provide format or specify infer_datetime_format=True for consistent parsing.\n",
      "  cache_array = _maybe_cache(arg, format, cache, convert_listlike)\n",
      "/Users/ariklevy/opt/anaconda3/envs/firstEnv/lib/python3.10/site-packages/pandas/core/tools/datetimes.py:1047: UserWarning: Parsing '16/09/2021' in DD/MM/YYYY format. Provide format or specify infer_datetime_format=True for consistent parsing.\n",
      "  cache_array = _maybe_cache(arg, format, cache, convert_listlike)\n",
      "/Users/ariklevy/opt/anaconda3/envs/firstEnv/lib/python3.10/site-packages/pandas/core/tools/datetimes.py:1047: UserWarning: Parsing '17/09/2021' in DD/MM/YYYY format. Provide format or specify infer_datetime_format=True for consistent parsing.\n",
      "  cache_array = _maybe_cache(arg, format, cache, convert_listlike)\n",
      "/Users/ariklevy/opt/anaconda3/envs/firstEnv/lib/python3.10/site-packages/pandas/core/tools/datetimes.py:1047: UserWarning: Parsing '18/09/2021' in DD/MM/YYYY format. Provide format or specify infer_datetime_format=True for consistent parsing.\n",
      "  cache_array = _maybe_cache(arg, format, cache, convert_listlike)\n",
      "/Users/ariklevy/opt/anaconda3/envs/firstEnv/lib/python3.10/site-packages/pandas/core/tools/datetimes.py:1047: UserWarning: Parsing '19/09/2021' in DD/MM/YYYY format. Provide format or specify infer_datetime_format=True for consistent parsing.\n",
      "  cache_array = _maybe_cache(arg, format, cache, convert_listlike)\n",
      "/Users/ariklevy/opt/anaconda3/envs/firstEnv/lib/python3.10/site-packages/pandas/core/tools/datetimes.py:1047: UserWarning: Parsing '20/09/2021' in DD/MM/YYYY format. Provide format or specify infer_datetime_format=True for consistent parsing.\n",
      "  cache_array = _maybe_cache(arg, format, cache, convert_listlike)\n",
      "/Users/ariklevy/opt/anaconda3/envs/firstEnv/lib/python3.10/site-packages/pandas/core/tools/datetimes.py:1047: UserWarning: Parsing '21/09/2021' in DD/MM/YYYY format. Provide format or specify infer_datetime_format=True for consistent parsing.\n",
      "  cache_array = _maybe_cache(arg, format, cache, convert_listlike)\n",
      "/Users/ariklevy/opt/anaconda3/envs/firstEnv/lib/python3.10/site-packages/pandas/core/tools/datetimes.py:1047: UserWarning: Parsing '13/01/2021' in DD/MM/YYYY format. Provide format or specify infer_datetime_format=True for consistent parsing.\n",
      "  cache_array = _maybe_cache(arg, format, cache, convert_listlike)\n",
      "/Users/ariklevy/opt/anaconda3/envs/firstEnv/lib/python3.10/site-packages/pandas/core/tools/datetimes.py:1047: UserWarning: Parsing '14/01/2021' in DD/MM/YYYY format. Provide format or specify infer_datetime_format=True for consistent parsing.\n",
      "  cache_array = _maybe_cache(arg, format, cache, convert_listlike)\n",
      "/Users/ariklevy/opt/anaconda3/envs/firstEnv/lib/python3.10/site-packages/pandas/core/tools/datetimes.py:1047: UserWarning: Parsing '15/01/2021' in DD/MM/YYYY format. Provide format or specify infer_datetime_format=True for consistent parsing.\n",
      "  cache_array = _maybe_cache(arg, format, cache, convert_listlike)\n",
      "/Users/ariklevy/opt/anaconda3/envs/firstEnv/lib/python3.10/site-packages/pandas/core/tools/datetimes.py:1047: UserWarning: Parsing '16/01/2021' in DD/MM/YYYY format. Provide format or specify infer_datetime_format=True for consistent parsing.\n",
      "  cache_array = _maybe_cache(arg, format, cache, convert_listlike)\n",
      "/Users/ariklevy/opt/anaconda3/envs/firstEnv/lib/python3.10/site-packages/pandas/core/tools/datetimes.py:1047: UserWarning: Parsing '17/01/2021' in DD/MM/YYYY format. Provide format or specify infer_datetime_format=True for consistent parsing.\n",
      "  cache_array = _maybe_cache(arg, format, cache, convert_listlike)\n",
      "/Users/ariklevy/opt/anaconda3/envs/firstEnv/lib/python3.10/site-packages/pandas/core/tools/datetimes.py:1047: UserWarning: Parsing '18/01/2021' in DD/MM/YYYY format. Provide format or specify infer_datetime_format=True for consistent parsing.\n",
      "  cache_array = _maybe_cache(arg, format, cache, convert_listlike)\n",
      "/Users/ariklevy/opt/anaconda3/envs/firstEnv/lib/python3.10/site-packages/pandas/core/tools/datetimes.py:1047: UserWarning: Parsing '19/01/2021' in DD/MM/YYYY format. Provide format or specify infer_datetime_format=True for consistent parsing.\n",
      "  cache_array = _maybe_cache(arg, format, cache, convert_listlike)\n",
      "/Users/ariklevy/opt/anaconda3/envs/firstEnv/lib/python3.10/site-packages/pandas/core/tools/datetimes.py:1047: UserWarning: Parsing '20/01/2021' in DD/MM/YYYY format. Provide format or specify infer_datetime_format=True for consistent parsing.\n",
      "  cache_array = _maybe_cache(arg, format, cache, convert_listlike)\n",
      "/Users/ariklevy/opt/anaconda3/envs/firstEnv/lib/python3.10/site-packages/pandas/core/tools/datetimes.py:1047: UserWarning: Parsing '21/01/2021' in DD/MM/YYYY format. Provide format or specify infer_datetime_format=True for consistent parsing.\n",
      "  cache_array = _maybe_cache(arg, format, cache, convert_listlike)\n",
      "/Users/ariklevy/opt/anaconda3/envs/firstEnv/lib/python3.10/site-packages/pandas/core/tools/datetimes.py:1047: UserWarning: Parsing '22/01/2021' in DD/MM/YYYY format. Provide format or specify infer_datetime_format=True for consistent parsing.\n",
      "  cache_array = _maybe_cache(arg, format, cache, convert_listlike)\n",
      "/Users/ariklevy/opt/anaconda3/envs/firstEnv/lib/python3.10/site-packages/pandas/core/tools/datetimes.py:1047: UserWarning: Parsing '23/01/2021' in DD/MM/YYYY format. Provide format or specify infer_datetime_format=True for consistent parsing.\n",
      "  cache_array = _maybe_cache(arg, format, cache, convert_listlike)\n",
      "/Users/ariklevy/opt/anaconda3/envs/firstEnv/lib/python3.10/site-packages/pandas/core/tools/datetimes.py:1047: UserWarning: Parsing '24/01/2021' in DD/MM/YYYY format. Provide format or specify infer_datetime_format=True for consistent parsing.\n",
      "  cache_array = _maybe_cache(arg, format, cache, convert_listlike)\n",
      "/Users/ariklevy/opt/anaconda3/envs/firstEnv/lib/python3.10/site-packages/pandas/core/tools/datetimes.py:1047: UserWarning: Parsing '25/01/2021' in DD/MM/YYYY format. Provide format or specify infer_datetime_format=True for consistent parsing.\n",
      "  cache_array = _maybe_cache(arg, format, cache, convert_listlike)\n",
      "/Users/ariklevy/opt/anaconda3/envs/firstEnv/lib/python3.10/site-packages/pandas/core/tools/datetimes.py:1047: UserWarning: Parsing '13/10/2021' in DD/MM/YYYY format. Provide format or specify infer_datetime_format=True for consistent parsing.\n",
      "  cache_array = _maybe_cache(arg, format, cache, convert_listlike)\n",
      "/Users/ariklevy/opt/anaconda3/envs/firstEnv/lib/python3.10/site-packages/pandas/core/tools/datetimes.py:1047: UserWarning: Parsing '14/10/2021' in DD/MM/YYYY format. Provide format or specify infer_datetime_format=True for consistent parsing.\n",
      "  cache_array = _maybe_cache(arg, format, cache, convert_listlike)\n",
      "/Users/ariklevy/opt/anaconda3/envs/firstEnv/lib/python3.10/site-packages/pandas/core/tools/datetimes.py:1047: UserWarning: Parsing '15/10/2021' in DD/MM/YYYY format. Provide format or specify infer_datetime_format=True for consistent parsing.\n",
      "  cache_array = _maybe_cache(arg, format, cache, convert_listlike)\n",
      "/Users/ariklevy/opt/anaconda3/envs/firstEnv/lib/python3.10/site-packages/pandas/core/tools/datetimes.py:1047: UserWarning: Parsing '16/10/2021' in DD/MM/YYYY format. Provide format or specify infer_datetime_format=True for consistent parsing.\n",
      "  cache_array = _maybe_cache(arg, format, cache, convert_listlike)\n",
      "/Users/ariklevy/opt/anaconda3/envs/firstEnv/lib/python3.10/site-packages/pandas/core/tools/datetimes.py:1047: UserWarning: Parsing '17/10/2021' in DD/MM/YYYY format. Provide format or specify infer_datetime_format=True for consistent parsing.\n",
      "  cache_array = _maybe_cache(arg, format, cache, convert_listlike)\n",
      "/Users/ariklevy/opt/anaconda3/envs/firstEnv/lib/python3.10/site-packages/pandas/core/tools/datetimes.py:1047: UserWarning: Parsing '18/10/2021' in DD/MM/YYYY format. Provide format or specify infer_datetime_format=True for consistent parsing.\n",
      "  cache_array = _maybe_cache(arg, format, cache, convert_listlike)\n",
      "/Users/ariklevy/opt/anaconda3/envs/firstEnv/lib/python3.10/site-packages/pandas/core/tools/datetimes.py:1047: UserWarning: Parsing '19/10/2021' in DD/MM/YYYY format. Provide format or specify infer_datetime_format=True for consistent parsing.\n",
      "  cache_array = _maybe_cache(arg, format, cache, convert_listlike)\n",
      "/Users/ariklevy/opt/anaconda3/envs/firstEnv/lib/python3.10/site-packages/pandas/core/tools/datetimes.py:1047: UserWarning: Parsing '20/10/2021' in DD/MM/YYYY format. Provide format or specify infer_datetime_format=True for consistent parsing.\n",
      "  cache_array = _maybe_cache(arg, format, cache, convert_listlike)\n",
      "/Users/ariklevy/opt/anaconda3/envs/firstEnv/lib/python3.10/site-packages/pandas/core/tools/datetimes.py:1047: UserWarning: Parsing '24/08/2019' in DD/MM/YYYY format. Provide format or specify infer_datetime_format=True for consistent parsing.\n",
      "  cache_array = _maybe_cache(arg, format, cache, convert_listlike)\n",
      "/Users/ariklevy/opt/anaconda3/envs/firstEnv/lib/python3.10/site-packages/pandas/core/tools/datetimes.py:1047: UserWarning: Parsing '26/01/2021' in DD/MM/YYYY format. Provide format or specify infer_datetime_format=True for consistent parsing.\n",
      "  cache_array = _maybe_cache(arg, format, cache, convert_listlike)\n",
      "/Users/ariklevy/opt/anaconda3/envs/firstEnv/lib/python3.10/site-packages/pandas/core/tools/datetimes.py:1047: UserWarning: Parsing '27/01/2021' in DD/MM/YYYY format. Provide format or specify infer_datetime_format=True for consistent parsing.\n",
      "  cache_array = _maybe_cache(arg, format, cache, convert_listlike)\n",
      "/Users/ariklevy/opt/anaconda3/envs/firstEnv/lib/python3.10/site-packages/pandas/core/tools/datetimes.py:1047: UserWarning: Parsing '28/01/2021' in DD/MM/YYYY format. Provide format or specify infer_datetime_format=True for consistent parsing.\n",
      "  cache_array = _maybe_cache(arg, format, cache, convert_listlike)\n",
      "/Users/ariklevy/opt/anaconda3/envs/firstEnv/lib/python3.10/site-packages/pandas/core/tools/datetimes.py:1047: UserWarning: Parsing '29/01/2021' in DD/MM/YYYY format. Provide format or specify infer_datetime_format=True for consistent parsing.\n",
      "  cache_array = _maybe_cache(arg, format, cache, convert_listlike)\n",
      "/Users/ariklevy/opt/anaconda3/envs/firstEnv/lib/python3.10/site-packages/pandas/core/tools/datetimes.py:1047: UserWarning: Parsing '30/01/2021' in DD/MM/YYYY format. Provide format or specify infer_datetime_format=True for consistent parsing.\n",
      "  cache_array = _maybe_cache(arg, format, cache, convert_listlike)\n",
      "/Users/ariklevy/opt/anaconda3/envs/firstEnv/lib/python3.10/site-packages/pandas/core/tools/datetimes.py:1047: UserWarning: Parsing '31/01/2021' in DD/MM/YYYY format. Provide format or specify infer_datetime_format=True for consistent parsing.\n",
      "  cache_array = _maybe_cache(arg, format, cache, convert_listlike)\n",
      "/Users/ariklevy/opt/anaconda3/envs/firstEnv/lib/python3.10/site-packages/pandas/core/tools/datetimes.py:1047: UserWarning: Parsing '24/09/2021' in DD/MM/YYYY format. Provide format or specify infer_datetime_format=True for consistent parsing.\n",
      "  cache_array = _maybe_cache(arg, format, cache, convert_listlike)\n",
      "/Users/ariklevy/opt/anaconda3/envs/firstEnv/lib/python3.10/site-packages/pandas/core/tools/datetimes.py:1047: UserWarning: Parsing '25/09/2021' in DD/MM/YYYY format. Provide format or specify infer_datetime_format=True for consistent parsing.\n",
      "  cache_array = _maybe_cache(arg, format, cache, convert_listlike)\n",
      "/Users/ariklevy/opt/anaconda3/envs/firstEnv/lib/python3.10/site-packages/pandas/core/tools/datetimes.py:1047: UserWarning: Parsing '27/09/2021' in DD/MM/YYYY format. Provide format or specify infer_datetime_format=True for consistent parsing.\n",
      "  cache_array = _maybe_cache(arg, format, cache, convert_listlike)\n",
      "/Users/ariklevy/opt/anaconda3/envs/firstEnv/lib/python3.10/site-packages/pandas/core/tools/datetimes.py:1047: UserWarning: Parsing '21/10/2021' in DD/MM/YYYY format. Provide format or specify infer_datetime_format=True for consistent parsing.\n",
      "  cache_array = _maybe_cache(arg, format, cache, convert_listlike)\n",
      "/Users/ariklevy/opt/anaconda3/envs/firstEnv/lib/python3.10/site-packages/pandas/core/tools/datetimes.py:1047: UserWarning: Parsing '22/10/2021' in DD/MM/YYYY format. Provide format or specify infer_datetime_format=True for consistent parsing.\n",
      "  cache_array = _maybe_cache(arg, format, cache, convert_listlike)\n",
      "/Users/ariklevy/opt/anaconda3/envs/firstEnv/lib/python3.10/site-packages/pandas/core/tools/datetimes.py:1047: UserWarning: Parsing '24/10/2021' in DD/MM/YYYY format. Provide format or specify infer_datetime_format=True for consistent parsing.\n",
      "  cache_array = _maybe_cache(arg, format, cache, convert_listlike)\n",
      "/Users/ariklevy/opt/anaconda3/envs/firstEnv/lib/python3.10/site-packages/pandas/core/tools/datetimes.py:1047: UserWarning: Parsing '27/10/2021' in DD/MM/YYYY format. Provide format or specify infer_datetime_format=True for consistent parsing.\n",
      "  cache_array = _maybe_cache(arg, format, cache, convert_listlike)\n",
      "/Users/ariklevy/opt/anaconda3/envs/firstEnv/lib/python3.10/site-packages/pandas/core/tools/datetimes.py:1047: UserWarning: Parsing '28/10/2021' in DD/MM/YYYY format. Provide format or specify infer_datetime_format=True for consistent parsing.\n",
      "  cache_array = _maybe_cache(arg, format, cache, convert_listlike)\n",
      "/Users/ariklevy/opt/anaconda3/envs/firstEnv/lib/python3.10/site-packages/pandas/core/tools/datetimes.py:1047: UserWarning: Parsing '22/09/2021' in DD/MM/YYYY format. Provide format or specify infer_datetime_format=True for consistent parsing.\n",
      "  cache_array = _maybe_cache(arg, format, cache, convert_listlike)\n",
      "/Users/ariklevy/opt/anaconda3/envs/firstEnv/lib/python3.10/site-packages/pandas/core/tools/datetimes.py:1047: UserWarning: Parsing '23/09/2021' in DD/MM/YYYY format. Provide format or specify infer_datetime_format=True for consistent parsing.\n",
      "  cache_array = _maybe_cache(arg, format, cache, convert_listlike)\n",
      "/Users/ariklevy/opt/anaconda3/envs/firstEnv/lib/python3.10/site-packages/pandas/core/tools/datetimes.py:1047: UserWarning: Parsing '26/09/2021' in DD/MM/YYYY format. Provide format or specify infer_datetime_format=True for consistent parsing.\n",
      "  cache_array = _maybe_cache(arg, format, cache, convert_listlike)\n",
      "/Users/ariklevy/opt/anaconda3/envs/firstEnv/lib/python3.10/site-packages/pandas/core/tools/datetimes.py:1047: UserWarning: Parsing '28/09/2021' in DD/MM/YYYY format. Provide format or specify infer_datetime_format=True for consistent parsing.\n",
      "  cache_array = _maybe_cache(arg, format, cache, convert_listlike)\n",
      "/Users/ariklevy/opt/anaconda3/envs/firstEnv/lib/python3.10/site-packages/pandas/core/tools/datetimes.py:1047: UserWarning: Parsing '29/09/2021' in DD/MM/YYYY format. Provide format or specify infer_datetime_format=True for consistent parsing.\n",
      "  cache_array = _maybe_cache(arg, format, cache, convert_listlike)\n",
      "/Users/ariklevy/opt/anaconda3/envs/firstEnv/lib/python3.10/site-packages/pandas/core/tools/datetimes.py:1047: UserWarning: Parsing '30/09/2021' in DD/MM/YYYY format. Provide format or specify infer_datetime_format=True for consistent parsing.\n",
      "  cache_array = _maybe_cache(arg, format, cache, convert_listlike)\n",
      "/Users/ariklevy/opt/anaconda3/envs/firstEnv/lib/python3.10/site-packages/pandas/core/tools/datetimes.py:1047: UserWarning: Parsing '23/10/2021' in DD/MM/YYYY format. Provide format or specify infer_datetime_format=True for consistent parsing.\n",
      "  cache_array = _maybe_cache(arg, format, cache, convert_listlike)\n",
      "/Users/ariklevy/opt/anaconda3/envs/firstEnv/lib/python3.10/site-packages/pandas/core/tools/datetimes.py:1047: UserWarning: Parsing '25/10/2021' in DD/MM/YYYY format. Provide format or specify infer_datetime_format=True for consistent parsing.\n",
      "  cache_array = _maybe_cache(arg, format, cache, convert_listlike)\n",
      "/Users/ariklevy/opt/anaconda3/envs/firstEnv/lib/python3.10/site-packages/pandas/core/tools/datetimes.py:1047: UserWarning: Parsing '26/10/2021' in DD/MM/YYYY format. Provide format or specify infer_datetime_format=True for consistent parsing.\n",
      "  cache_array = _maybe_cache(arg, format, cache, convert_listlike)\n",
      "/Users/ariklevy/opt/anaconda3/envs/firstEnv/lib/python3.10/site-packages/pandas/core/tools/datetimes.py:1047: UserWarning: Parsing '29/10/2021' in DD/MM/YYYY format. Provide format or specify infer_datetime_format=True for consistent parsing.\n",
      "  cache_array = _maybe_cache(arg, format, cache, convert_listlike)\n",
      "/Users/ariklevy/opt/anaconda3/envs/firstEnv/lib/python3.10/site-packages/pandas/core/tools/datetimes.py:1047: UserWarning: Parsing '30/10/2021' in DD/MM/YYYY format. Provide format or specify infer_datetime_format=True for consistent parsing.\n",
      "  cache_array = _maybe_cache(arg, format, cache, convert_listlike)\n",
      "/Users/ariklevy/opt/anaconda3/envs/firstEnv/lib/python3.10/site-packages/pandas/core/tools/datetimes.py:1047: UserWarning: Parsing '31/10/2021' in DD/MM/YYYY format. Provide format or specify infer_datetime_format=True for consistent parsing.\n",
      "  cache_array = _maybe_cache(arg, format, cache, convert_listlike)\n"
     ]
    }
   ],
   "source": [
    "df['date_time'] = pd.to_datetime(df.date)"
   ]
  },
  {
   "cell_type": "code",
   "execution_count": 23,
   "id": "b81c2c66",
   "metadata": {
    "ExecuteTime": {
     "end_time": "2022-06-10T10:26:25.171689Z",
     "start_time": "2022-06-10T10:26:25.133053Z"
    },
    "hidden": true
   },
   "outputs": [],
   "source": [
    "df['day_of_the_week'] = df.date_time.apply(lambda x: x.weekday())\n",
    "df['month'] = df.date_time.apply(lambda x: x.month)"
   ]
  },
  {
   "cell_type": "markdown",
   "id": "60c77141",
   "metadata": {
    "hidden": true
   },
   "source": [
    "Removing new datetime column as I don't need it anymore"
   ]
  },
  {
   "cell_type": "code",
   "execution_count": 24,
   "id": "6e9ce920",
   "metadata": {
    "ExecuteTime": {
     "end_time": "2022-06-10T10:26:27.106343Z",
     "start_time": "2022-06-10T10:26:27.102391Z"
    },
    "hidden": true
   },
   "outputs": [
    {
     "data": {
      "text/plain": [
       "0    11280\n",
       "1    10906\n",
       "2    10501\n",
       "3    10374\n",
       "4     9529\n",
       "6     8556\n",
       "5     8054\n",
       "Name: day_of_the_week, dtype: int64"
      ]
     },
     "execution_count": 24,
     "metadata": {},
     "output_type": "execute_result"
    }
   ],
   "source": [
    "df.day_of_the_week.value_counts()"
   ]
  },
  {
   "cell_type": "code",
   "execution_count": 25,
   "id": "477ea641",
   "metadata": {
    "ExecuteTime": {
     "end_time": "2022-06-10T10:26:33.776056Z",
     "start_time": "2022-06-10T10:26:33.736627Z"
    },
    "hidden": true
   },
   "outputs": [],
   "source": [
    "df.drop('date_time', axis=1, inplace=True)"
   ]
  },
  {
   "cell_type": "markdown",
   "id": "032900d0",
   "metadata": {
    "hidden": true
   },
   "source": [
    "-------"
   ]
  },
  {
   "cell_type": "markdown",
   "id": "0480974f",
   "metadata": {
    "heading_collapsed": true
   },
   "source": [
    "## English language detection\n",
    "- To be completely certain that all texts are in english"
   ]
  },
  {
   "cell_type": "code",
   "execution_count": 29,
   "id": "ed0788a8",
   "metadata": {
    "ExecuteTime": {
     "end_time": "2022-06-09T17:22:15.270727Z",
     "start_time": "2022-06-09T17:03:43.744636Z"
    },
    "hidden": true
   },
   "outputs": [],
   "source": [
    "language = []\n",
    "for text in df['text']:\n",
    "    language.append(detect(text))"
   ]
  },
  {
   "cell_type": "code",
   "execution_count": 36,
   "id": "a99599e9",
   "metadata": {
    "ExecuteTime": {
     "end_time": "2022-06-09T17:23:39.263856Z",
     "start_time": "2022-06-09T17:23:39.254862Z"
    },
    "hidden": true
   },
   "outputs": [],
   "source": [
    "for lang in language:\n",
    "    if lang != 'en':\n",
    "        print(lang)"
   ]
  },
  {
   "cell_type": "markdown",
   "id": "c817a0bf",
   "metadata": {
    "hidden": true
   },
   "source": [
    "----"
   ]
  },
  {
   "cell_type": "markdown",
   "id": "06163363",
   "metadata": {
    "heading_collapsed": true
   },
   "source": [
    "## Cleaning text Column"
   ]
  },
  {
   "cell_type": "markdown",
   "id": "d90099f5",
   "metadata": {
    "hidden": true
   },
   "source": [
    "### Lower casing text"
   ]
  },
  {
   "cell_type": "code",
   "execution_count": 26,
   "id": "9f07c9b3",
   "metadata": {
    "ExecuteTime": {
     "end_time": "2022-06-10T10:26:40.184483Z",
     "start_time": "2022-06-10T10:26:40.180644Z"
    },
    "hidden": true
   },
   "outputs": [
    {
     "data": {
      "text/plain": [
       "0        Making Python Programs Blazingly Fast\\n\\nLet’s...\n",
       "1        Understanding and implementing a fully convolu...\n",
       "2        Python Beginner 6 New Features in Python 3.8 f...\n",
       "3        How to be fancy with Python\\n\\nPython is cool....\n",
       "4        From scratch to search: playing with your data...\n",
       "                               ...                        \n",
       "69195    The way ahead\\n\\nWherever I go these days, at ...\n",
       "69196    The most beautiful theory of all\\n\\nA century ...\n",
       "69197    Why people get happier as they get older\\n\\nAs...\n",
       "69198    Is The Economist left- or right-wing?\\n\\nNeith...\n",
       "69199    How the internet unleashed a burst of cartooni...\n",
       "Name: text, Length: 69200, dtype: object"
      ]
     },
     "execution_count": 26,
     "metadata": {},
     "output_type": "execute_result"
    }
   ],
   "source": [
    "df.text"
   ]
  },
  {
   "cell_type": "code",
   "execution_count": 27,
   "id": "5083ff24",
   "metadata": {
    "ExecuteTime": {
     "end_time": "2022-06-10T10:26:58.453564Z",
     "start_time": "2022-06-10T10:26:40.601341Z"
    },
    "hidden": true,
    "scrolled": true
   },
   "outputs": [],
   "source": [
    "df['text'] = df['text'].apply(lambda x: \" \".join(word.lower() for word in str(x).split()))"
   ]
  },
  {
   "cell_type": "code",
   "execution_count": 28,
   "id": "2eec3f89",
   "metadata": {
    "ExecuteTime": {
     "end_time": "2022-06-10T10:26:58.493325Z",
     "start_time": "2022-06-10T10:26:58.485893Z"
    },
    "hidden": true
   },
   "outputs": [
    {
     "data": {
      "text/plain": [
       "0        making python programs blazingly fast let’s lo...\n",
       "1        understanding and implementing a fully convolu...\n",
       "2        python beginner 6 new features in python 3.8 f...\n",
       "3        how to be fancy with python python is cool. re...\n",
       "4        from scratch to search: playing with your data...\n",
       "                               ...                        \n",
       "69195    the way ahead wherever i go these days, at hom...\n",
       "69196    the most beautiful theory of all a century ago...\n",
       "69197    why people get happier as they get older as pe...\n",
       "69198    is the economist left- or right-wing? neither....\n",
       "69199    how the internet unleashed a burst of cartooni...\n",
       "Name: text, Length: 69200, dtype: object"
      ]
     },
     "execution_count": 28,
     "metadata": {},
     "output_type": "execute_result"
    }
   ],
   "source": [
    "df['text']"
   ]
  },
  {
   "cell_type": "markdown",
   "id": "f11018aa",
   "metadata": {
    "hidden": true
   },
   "source": [
    "-------"
   ]
  },
  {
   "cell_type": "markdown",
   "id": "0506c004",
   "metadata": {
    "hidden": true
   },
   "source": [
    "### Remove stop words - Before and after removing punctuation as some stop words have punctuation"
   ]
  },
  {
   "cell_type": "code",
   "execution_count": 29,
   "id": "56275b5e",
   "metadata": {
    "ExecuteTime": {
     "end_time": "2022-06-10T10:26:58.535846Z",
     "start_time": "2022-06-10T10:26:58.516037Z"
    },
    "hidden": true
   },
   "outputs": [],
   "source": [
    "from nltk.corpus import stopwords\n",
    "stop_words = stopwords.words('english')"
   ]
  },
  {
   "cell_type": "code",
   "execution_count": 30,
   "id": "82f057c2",
   "metadata": {
    "ExecuteTime": {
     "end_time": "2022-06-10T10:26:58.559962Z",
     "start_time": "2022-06-10T10:26:58.555331Z"
    },
    "hidden": true
   },
   "outputs": [
    {
     "data": {
      "text/plain": [
       "['i',\n",
       " 'me',\n",
       " 'my',\n",
       " 'myself',\n",
       " 'we',\n",
       " 'our',\n",
       " 'ours',\n",
       " 'ourselves',\n",
       " 'you',\n",
       " \"you're\",\n",
       " \"you've\",\n",
       " \"you'll\",\n",
       " \"you'd\",\n",
       " 'your',\n",
       " 'yours',\n",
       " 'yourself',\n",
       " 'yourselves',\n",
       " 'he',\n",
       " 'him',\n",
       " 'his',\n",
       " 'himself',\n",
       " 'she',\n",
       " \"she's\",\n",
       " 'her',\n",
       " 'hers',\n",
       " 'herself',\n",
       " 'it',\n",
       " \"it's\",\n",
       " 'its',\n",
       " 'itself',\n",
       " 'they',\n",
       " 'them',\n",
       " 'their',\n",
       " 'theirs',\n",
       " 'themselves',\n",
       " 'what',\n",
       " 'which',\n",
       " 'who',\n",
       " 'whom',\n",
       " 'this',\n",
       " 'that',\n",
       " \"that'll\",\n",
       " 'these',\n",
       " 'those',\n",
       " 'am',\n",
       " 'is',\n",
       " 'are',\n",
       " 'was',\n",
       " 'were',\n",
       " 'be',\n",
       " 'been',\n",
       " 'being',\n",
       " 'have',\n",
       " 'has',\n",
       " 'had',\n",
       " 'having',\n",
       " 'do',\n",
       " 'does',\n",
       " 'did',\n",
       " 'doing',\n",
       " 'a',\n",
       " 'an',\n",
       " 'the',\n",
       " 'and',\n",
       " 'but',\n",
       " 'if',\n",
       " 'or',\n",
       " 'because',\n",
       " 'as',\n",
       " 'until',\n",
       " 'while',\n",
       " 'of',\n",
       " 'at',\n",
       " 'by',\n",
       " 'for',\n",
       " 'with',\n",
       " 'about',\n",
       " 'against',\n",
       " 'between',\n",
       " 'into',\n",
       " 'through',\n",
       " 'during',\n",
       " 'before',\n",
       " 'after',\n",
       " 'above',\n",
       " 'below',\n",
       " 'to',\n",
       " 'from',\n",
       " 'up',\n",
       " 'down',\n",
       " 'in',\n",
       " 'out',\n",
       " 'on',\n",
       " 'off',\n",
       " 'over',\n",
       " 'under',\n",
       " 'again',\n",
       " 'further',\n",
       " 'then',\n",
       " 'once',\n",
       " 'here',\n",
       " 'there',\n",
       " 'when',\n",
       " 'where',\n",
       " 'why',\n",
       " 'how',\n",
       " 'all',\n",
       " 'any',\n",
       " 'both',\n",
       " 'each',\n",
       " 'few',\n",
       " 'more',\n",
       " 'most',\n",
       " 'other',\n",
       " 'some',\n",
       " 'such',\n",
       " 'no',\n",
       " 'nor',\n",
       " 'not',\n",
       " 'only',\n",
       " 'own',\n",
       " 'same',\n",
       " 'so',\n",
       " 'than',\n",
       " 'too',\n",
       " 'very',\n",
       " 's',\n",
       " 't',\n",
       " 'can',\n",
       " 'will',\n",
       " 'just',\n",
       " 'don',\n",
       " \"don't\",\n",
       " 'should',\n",
       " \"should've\",\n",
       " 'now',\n",
       " 'd',\n",
       " 'll',\n",
       " 'm',\n",
       " 'o',\n",
       " 're',\n",
       " 've',\n",
       " 'y',\n",
       " 'ain',\n",
       " 'aren',\n",
       " \"aren't\",\n",
       " 'couldn',\n",
       " \"couldn't\",\n",
       " 'didn',\n",
       " \"didn't\",\n",
       " 'doesn',\n",
       " \"doesn't\",\n",
       " 'hadn',\n",
       " \"hadn't\",\n",
       " 'hasn',\n",
       " \"hasn't\",\n",
       " 'haven',\n",
       " \"haven't\",\n",
       " 'isn',\n",
       " \"isn't\",\n",
       " 'ma',\n",
       " 'mightn',\n",
       " \"mightn't\",\n",
       " 'mustn',\n",
       " \"mustn't\",\n",
       " 'needn',\n",
       " \"needn't\",\n",
       " 'shan',\n",
       " \"shan't\",\n",
       " 'shouldn',\n",
       " \"shouldn't\",\n",
       " 'wasn',\n",
       " \"wasn't\",\n",
       " 'weren',\n",
       " \"weren't\",\n",
       " 'won',\n",
       " \"won't\",\n",
       " 'wouldn',\n",
       " \"wouldn't\"]"
      ]
     },
     "execution_count": 30,
     "metadata": {},
     "output_type": "execute_result"
    }
   ],
   "source": [
    "stop_words"
   ]
  },
  {
   "cell_type": "code",
   "execution_count": 31,
   "id": "f183c239",
   "metadata": {
    "ExecuteTime": {
     "end_time": "2022-06-10T10:29:17.018686Z",
     "start_time": "2022-06-10T10:26:59.830118Z"
    },
    "hidden": true
   },
   "outputs": [],
   "source": [
    "df['text'] = df['text'].apply(lambda x: \" \".join(word for word in x.split() if word not in stop_words))"
   ]
  },
  {
   "cell_type": "code",
   "execution_count": 32,
   "id": "d4fbefa2",
   "metadata": {
    "ExecuteTime": {
     "end_time": "2022-06-10T10:29:17.057367Z",
     "start_time": "2022-06-10T10:29:17.046252Z"
    },
    "hidden": true
   },
   "outputs": [
    {
     "data": {
      "text/plain": [
       "0        making python programs blazingly fast let’s lo...\n",
       "1        understanding implementing fully convolutional...\n",
       "2        python beginner 6 new features python 3.8 pyth...\n",
       "3        fancy python python cool. really cool. however...\n",
       "4        scratch search: playing data (elasticsearch in...\n",
       "                               ...                        \n",
       "69195    way ahead wherever go days, home abroad, peopl...\n",
       "69196    beautiful theory century ago albert einstein c...\n",
       "69197    people get happier get older people age, gain ...\n",
       "69198    economist left- right-wing? neither. consider ...\n",
       "69199    internet unleashed burst cartooning creativity...\n",
       "Name: text, Length: 69200, dtype: object"
      ]
     },
     "execution_count": 32,
     "metadata": {},
     "output_type": "execute_result"
    }
   ],
   "source": [
    "df['text']"
   ]
  },
  {
   "cell_type": "markdown",
   "id": "30312781",
   "metadata": {
    "hidden": true
   },
   "source": [
    "-------"
   ]
  },
  {
   "cell_type": "markdown",
   "id": "3a585ce2",
   "metadata": {
    "hidden": true
   },
   "source": [
    "### Remove punctuation and numbers"
   ]
  },
  {
   "cell_type": "code",
   "execution_count": 33,
   "id": "91d150c7",
   "metadata": {
    "ExecuteTime": {
     "end_time": "2022-06-10T10:29:32.322886Z",
     "start_time": "2022-06-10T10:29:17.082392Z"
    },
    "hidden": true
   },
   "outputs": [
    {
     "name": "stderr",
     "output_type": "stream",
     "text": [
      "/var/folders/0g/2n4dpfnj6xg2x7twpn7nk6nh0000gn/T/ipykernel_3139/700514169.py:1: FutureWarning: The default value of regex will change from True to False in a future version.\n",
      "  df['text'] = df['text'].str.replace('[^a-z ]', '')\n",
      "/var/folders/0g/2n4dpfnj6xg2x7twpn7nk6nh0000gn/T/ipykernel_3139/700514169.py:2: FutureWarning: The default value of regex will change from True to False in a future version.\n",
      "  df['text'] = df['text'].str.replace(r\"\\s\\s+\",' ') # this replaces two or more white spcaes with just one\n"
     ]
    }
   ],
   "source": [
    "df['text'] = df['text'].str.replace('[^a-z ]', '')\n",
    "df['text'] = df['text'].str.replace(r\"\\s\\s+\",' ') # this replaces two or more white spcaes with just one"
   ]
  },
  {
   "cell_type": "code",
   "execution_count": 34,
   "id": "35ea5acb",
   "metadata": {
    "ExecuteTime": {
     "end_time": "2022-06-10T10:29:32.385451Z",
     "start_time": "2022-06-10T10:29:32.380499Z"
    },
    "hidden": true
   },
   "outputs": [
    {
     "data": {
      "text/plain": [
       "0        making python programs blazingly fast lets loo...\n",
       "1        understanding implementing fully convolutional...\n",
       "2        python beginner new features python python new...\n",
       "3        fancy python python cool really cool however l...\n",
       "4        scratch search playing data elasticsearch inge...\n",
       "                               ...                        \n",
       "69195    way ahead wherever go days home abroad people ...\n",
       "69196    beautiful theory century ago albert einstein c...\n",
       "69197    people get happier get older people age gain s...\n",
       "69198    economist left rightwing neither consider radi...\n",
       "69199    internet unleashed burst cartooning creativity...\n",
       "Name: text, Length: 69200, dtype: object"
      ]
     },
     "execution_count": 34,
     "metadata": {},
     "output_type": "execute_result"
    }
   ],
   "source": [
    "df['text']"
   ]
  },
  {
   "cell_type": "markdown",
   "id": "5754750a",
   "metadata": {
    "hidden": true
   },
   "source": [
    "-------"
   ]
  },
  {
   "cell_type": "markdown",
   "id": "a1fc22e5",
   "metadata": {
    "hidden": true
   },
   "source": [
    "### Remove stop words"
   ]
  },
  {
   "cell_type": "code",
   "execution_count": 35,
   "id": "4123be56",
   "metadata": {
    "ExecuteTime": {
     "end_time": "2022-06-10T10:31:11.808641Z",
     "start_time": "2022-06-10T10:29:32.404991Z"
    },
    "hidden": true
   },
   "outputs": [],
   "source": [
    "df['text'] = df['text'].apply(lambda x: \" \".join(word for word in x.split() if word not in stop_words))"
   ]
  },
  {
   "cell_type": "code",
   "execution_count": 36,
   "id": "324c161a",
   "metadata": {
    "ExecuteTime": {
     "end_time": "2022-06-10T10:31:34.298526Z",
     "start_time": "2022-06-10T10:31:11.876073Z"
    },
    "hidden": true
   },
   "outputs": [
    {
     "data": {
      "text/plain": [
       "745284"
      ]
     },
     "execution_count": 36,
     "metadata": {},
     "output_type": "execute_result"
    }
   ],
   "source": [
    "len(pd.Series(\" \".join(df['text']).split()).value_counts())"
   ]
  },
  {
   "cell_type": "code",
   "execution_count": 37,
   "id": "060d298e",
   "metadata": {
    "ExecuteTime": {
     "end_time": "2022-06-10T10:31:49.383473Z",
     "start_time": "2022-06-10T10:31:34.332873Z"
    },
    "hidden": true
   },
   "outputs": [
    {
     "data": {
      "text/plain": [
       "48860083"
      ]
     },
     "execution_count": 37,
     "metadata": {},
     "output_type": "execute_result"
    }
   ],
   "source": [
    "len(pd.Series(\" \".join(df['text']).split()))"
   ]
  },
  {
   "cell_type": "code",
   "execution_count": 38,
   "id": "89b9a0cd",
   "metadata": {
    "ExecuteTime": {
     "end_time": "2022-06-10T10:32:08.089152Z",
     "start_time": "2022-06-10T10:31:49.420010Z"
    },
    "hidden": true
   },
   "outputs": [
    {
     "data": {
      "text/plain": [
       "data         473027\n",
       "one          242467\n",
       "time         209104\n",
       "use          197272\n",
       "like         192220\n",
       "model        184427\n",
       "also         167276\n",
       "get          154375\n",
       "using        154328\n",
       "need         151935\n",
       "make         143100\n",
       "people       139342\n",
       "would        138726\n",
       "new          138348\n",
       "first        136429\n",
       "work         128953\n",
       "learning     121763\n",
       "want         119998\n",
       "see          118537\n",
       "way          114720\n",
       "used         113129\n",
       "image        108839\n",
       "many         107657\n",
       "different    105770\n",
       "dont         103775\n",
       "example      101914\n",
       "us            99217\n",
       "even          98522\n",
       "code          97534\n",
       "well          97437\n",
       "two           97154\n",
       "know          94977\n",
       "could         93368\n",
       "value         92355\n",
       "function      91753\n",
       "create        91283\n",
       "set           86751\n",
       "good          86003\n",
       "number        84120\n",
       "may           82973\n",
       "dtype: int64"
      ]
     },
     "execution_count": 38,
     "metadata": {},
     "output_type": "execute_result"
    }
   ],
   "source": [
    "pd.Series(\" \".join(df['text']).split()).value_counts()[:40]"
   ]
  },
  {
   "cell_type": "markdown",
   "id": "3901a051",
   "metadata": {
    "hidden": true
   },
   "source": [
    "-------"
   ]
  },
  {
   "cell_type": "markdown",
   "id": "07b15698",
   "metadata": {
    "hidden": true
   },
   "source": [
    "### Lemmatization"
   ]
  },
  {
   "cell_type": "code",
   "execution_count": 39,
   "id": "8f84ff6c",
   "metadata": {
    "ExecuteTime": {
     "end_time": "2022-06-10T10:32:08.114826Z",
     "start_time": "2022-06-10T10:32:08.112934Z"
    },
    "hidden": true
   },
   "outputs": [],
   "source": [
    "import nltk\n",
    "from textblob import Word\n",
    "#nltk.download()"
   ]
  },
  {
   "cell_type": "code",
   "execution_count": 40,
   "id": "ea8271e9",
   "metadata": {
    "ExecuteTime": {
     "end_time": "2022-06-10T10:35:30.407999Z",
     "start_time": "2022-06-10T10:32:08.143409Z"
    },
    "hidden": true
   },
   "outputs": [],
   "source": [
    "df['text'] = df['text'].apply(lambda x: \" \".join(Word(word).lemmatize() for word in x.split()))"
   ]
  },
  {
   "cell_type": "code",
   "execution_count": 41,
   "id": "518c742e",
   "metadata": {
    "ExecuteTime": {
     "end_time": "2022-06-10T10:35:30.450070Z",
     "start_time": "2022-06-10T10:35:30.443534Z"
    },
    "hidden": true
   },
   "outputs": [
    {
     "data": {
      "text/plain": [
       "0        making python program blazingly fast let look ...\n",
       "1        understanding implementing fully convolutional...\n",
       "2        python beginner new feature python python newb...\n",
       "3        fancy python python cool really cool however l...\n",
       "4        scratch search playing data elasticsearch inge...\n",
       "                               ...                        \n",
       "69195    way ahead wherever go day home abroad people a...\n",
       "69196    beautiful theory century ago albert einstein c...\n",
       "69197    people get happier get older people age gain s...\n",
       "69198    economist left rightwing neither consider radi...\n",
       "69199    internet unleashed burst cartooning creativity...\n",
       "Name: text, Length: 69200, dtype: object"
      ]
     },
     "execution_count": 41,
     "metadata": {},
     "output_type": "execute_result"
    }
   ],
   "source": [
    "df['text']"
   ]
  },
  {
   "cell_type": "code",
   "execution_count": 42,
   "id": "cce38594",
   "metadata": {
    "ExecuteTime": {
     "end_time": "2022-06-10T10:35:54.202538Z",
     "start_time": "2022-06-10T10:35:30.468761Z"
    },
    "hidden": true
   },
   "outputs": [
    {
     "data": {
      "text/plain": [
       "729122"
      ]
     },
     "execution_count": 42,
     "metadata": {},
     "output_type": "execute_result"
    }
   ],
   "source": [
    "len(pd.Series(\" \".join(df['text']).split()).value_counts())"
   ]
  },
  {
   "cell_type": "markdown",
   "id": "218cfe1a",
   "metadata": {
    "hidden": true
   },
   "source": [
    "------"
   ]
  },
  {
   "cell_type": "markdown",
   "id": "6078bd23",
   "metadata": {
    "hidden": true
   },
   "source": [
    "### Sentiment Analyser"
   ]
  },
  {
   "cell_type": "code",
   "execution_count": 43,
   "id": "a6dd66c0",
   "metadata": {
    "ExecuteTime": {
     "end_time": "2022-06-10T10:38:49.818729Z",
     "start_time": "2022-06-10T10:35:54.227765Z"
    },
    "hidden": true
   },
   "outputs": [
    {
     "data": {
      "text/plain": [
       "0        (0.04971340388007055, 0.40773074661963543)\n",
       "1        (0.11043365549179505, 0.39827091513138024)\n",
       "2        (0.08111111111111112, 0.47074074074074074)\n",
       "3         (0.20963642213642217, 0.4807861432861434)\n",
       "4         (0.09084165122626665, 0.4359698800724437)\n",
       "                            ...                    \n",
       "69195    (0.08379030993161427, 0.38577157444005294)\n",
       "69196      (0.1279141458955123, 0.4687573718551984)\n",
       "69197    (0.06104942725313093, 0.41337938467568097)\n",
       "69198     (0.11327855817651733, 0.3206224048060783)\n",
       "69199    (0.11283705183705188, 0.46867395852011223)\n",
       "Name: text, Length: 69200, dtype: object"
      ]
     },
     "execution_count": 43,
     "metadata": {},
     "output_type": "execute_result"
    }
   ],
   "source": [
    "sentiment = df['text'].apply(lambda x: TextBlob(x).sentiment)\n",
    "sentiment"
   ]
  },
  {
   "cell_type": "code",
   "execution_count": 44,
   "id": "a4ec8edc",
   "metadata": {
    "ExecuteTime": {
     "end_time": "2022-06-10T10:38:50.002636Z",
     "start_time": "2022-06-10T10:38:49.852186Z"
    },
    "hidden": true
   },
   "outputs": [],
   "source": [
    "polarity = []\n",
    "subjectivity = []\n",
    "\n",
    "for row in sentiment:\n",
    "    polarity.append(row[0])\n",
    "    subjectivity.append(row[1])\n",
    "\n",
    "df['polarity'] = polarity\n",
    "df['subjectivity'] = subjectivity"
   ]
  },
  {
   "cell_type": "markdown",
   "id": "a895829c",
   "metadata": {
    "heading_collapsed": true
   },
   "source": [
    "## Now I will do the same for the title and subtitle columns"
   ]
  },
  {
   "cell_type": "code",
   "execution_count": 1,
   "id": "fc702499",
   "metadata": {
    "ExecuteTime": {
     "end_time": "2022-06-14T06:59:32.540345Z",
     "start_time": "2022-06-14T06:59:32.536559Z"
    },
    "hidden": true
   },
   "outputs": [],
   "source": [
    "def clean_text(df, column_name):\n",
    "    # lower case\n",
    "    df[column_name] = df[column_name].apply(lambda x: \" \".join(word.lower() for word in str(x).split()))\n",
    "    \n",
    "    # remove punctuation\n",
    "    df[column_name] = df[column_name].str.replace('[^a-z ]', '')\n",
    "    \n",
    "    # this replaces two or more white spcaes with just one\n",
    "    df[column_name] = df[column_name].str.replace(r\"\\s\\s+\",' ') \n",
    "    \n",
    "    # remove stop words\n",
    "    df[column_name] = df[column_name].apply(lambda x: \" \".join(word for word in x.split() if word not in stop_words))\n",
    "    \n",
    "    # lemmatize\n",
    "    df[column_name] = df[column_name].apply(lambda x: \" \".join(Word(word).lemmatize() for word in x.split()))\n",
    "    \n",
    "    return df"
   ]
  },
  {
   "cell_type": "code",
   "execution_count": 45,
   "id": "9a57681b",
   "metadata": {
    "ExecuteTime": {
     "end_time": "2022-06-10T10:38:53.044978Z",
     "start_time": "2022-06-10T10:38:50.209070Z"
    },
    "hidden": true
   },
   "outputs": [
    {
     "name": "stderr",
     "output_type": "stream",
     "text": [
      "/var/folders/0g/2n4dpfnj6xg2x7twpn7nk6nh0000gn/T/ipykernel_3139/4220007506.py:4: FutureWarning: The default value of regex will change from True to False in a future version.\n",
      "  df['title'] = df['title'].str.replace('[^a-z ]', '')\n",
      "/var/folders/0g/2n4dpfnj6xg2x7twpn7nk6nh0000gn/T/ipykernel_3139/4220007506.py:5: FutureWarning: The default value of regex will change from True to False in a future version.\n",
      "  df['title'] = df['title'].str.replace(r\"\\s\\s+\",' ') # this replaces two or more white spcaes with just one\n"
     ]
    }
   ],
   "source": [
    "# lower case\n",
    "df['title'] = df['title'].apply(lambda x: \" \".join(word.lower() for word in str(x).split()))\n",
    "# remove punctuation\n",
    "df['title'] = df['title'].str.replace('[^a-z ]', '')\n",
    "df['title'] = df['title'].str.replace(r\"\\s\\s+\",' ') # this replaces two or more white spcaes with just one\n",
    "# remove stop words\n",
    "df['title'] = df['title'].apply(lambda x: \" \".join(word for word in x.split() if word not in stop_words))\n",
    "# lemmatize\n",
    "df['title'] = df['title'].apply(lambda x: \" \".join(Word(word).lemmatize() for word in x.split()))"
   ]
  },
  {
   "cell_type": "code",
   "execution_count": 46,
   "id": "833d550d",
   "metadata": {
    "ExecuteTime": {
     "end_time": "2022-06-10T10:38:54.875623Z",
     "start_time": "2022-06-10T10:38:53.262103Z"
    },
    "hidden": true
   },
   "outputs": [
    {
     "name": "stderr",
     "output_type": "stream",
     "text": [
      "/var/folders/0g/2n4dpfnj6xg2x7twpn7nk6nh0000gn/T/ipykernel_3139/4102634730.py:4: FutureWarning: The default value of regex will change from True to False in a future version.\n",
      "  df['subtitle'] = df['subtitle'].str.replace('[^a-z ]', '')\n",
      "/var/folders/0g/2n4dpfnj6xg2x7twpn7nk6nh0000gn/T/ipykernel_3139/4102634730.py:5: FutureWarning: The default value of regex will change from True to False in a future version.\n",
      "  df['subtitle'] = df['subtitle'].str.replace(r\"\\s\\s+\",' ') # this replaces two or more white spcaes with just one\n"
     ]
    }
   ],
   "source": [
    "# lower case\n",
    "df['subtitle'] = df['subtitle'].apply(lambda x: \" \".join(word.lower() for word in str(x).split()))\n",
    "# remove punctuation\n",
    "df['subtitle'] = df['subtitle'].str.replace('[^a-z ]', '')\n",
    "df['subtitle'] = df['subtitle'].str.replace(r\"\\s\\s+\",' ') # this replaces two or more white spcaes with just one\n",
    "# remove stop words\n",
    "df['subtitle'] = df['subtitle'].apply(lambda x: \" \".join(word for word in x.split() if word not in stop_words))\n",
    "# lemmatize\n",
    "df['subtitle'] = df['subtitle'].apply(lambda x: \" \".join(Word(word).lemmatize() for word in x.split()))"
   ]
  },
  {
   "cell_type": "code",
   "execution_count": 47,
   "id": "04af2c4e",
   "metadata": {
    "ExecuteTime": {
     "end_time": "2022-06-10T10:38:55.086366Z",
     "start_time": "2022-06-10T10:38:55.077211Z"
    },
    "hidden": true
   },
   "outputs": [
    {
     "data": {
      "text/html": [
       "<div>\n",
       "<style scoped>\n",
       "    .dataframe tbody tr th:only-of-type {\n",
       "        vertical-align: middle;\n",
       "    }\n",
       "\n",
       "    .dataframe tbody tr th {\n",
       "        vertical-align: top;\n",
       "    }\n",
       "\n",
       "    .dataframe thead th {\n",
       "        text-align: right;\n",
       "    }\n",
       "</style>\n",
       "<table border=\"1\" class=\"dataframe\">\n",
       "  <thead>\n",
       "    <tr style=\"text-align: right;\">\n",
       "      <th></th>\n",
       "      <th>date</th>\n",
       "      <th>title</th>\n",
       "      <th>subtitle</th>\n",
       "      <th>claps</th>\n",
       "      <th>responses</th>\n",
       "      <th>author_handle</th>\n",
       "      <th>story_url</th>\n",
       "      <th>reading_time</th>\n",
       "      <th>text</th>\n",
       "      <th>author_followers</th>\n",
       "      <th>publication</th>\n",
       "      <th>number_of_words</th>\n",
       "      <th>number_of_characters</th>\n",
       "      <th>day_of_the_week</th>\n",
       "      <th>month</th>\n",
       "      <th>polarity</th>\n",
       "      <th>subjectivity</th>\n",
       "    </tr>\n",
       "  </thead>\n",
       "  <tbody>\n",
       "    <tr>\n",
       "      <th>0</th>\n",
       "      <td>01/01/2020</td>\n",
       "      <td>making python program blazingly fast</td>\n",
       "      <td>let look performance python program see</td>\n",
       "      <td>3400.0</td>\n",
       "      <td>3</td>\n",
       "      <td>@martin.heinz</td>\n",
       "      <td>https://towardsdatascience.com/making-python-p...</td>\n",
       "      <td>5</td>\n",
       "      <td>making python program blazingly fast let look ...</td>\n",
       "      <td>3800.0</td>\n",
       "      <td>towardsdatascience</td>\n",
       "      <td>1056</td>\n",
       "      <td>6175</td>\n",
       "      <td>2</td>\n",
       "      <td>1</td>\n",
       "      <td>0.049713</td>\n",
       "      <td>0.407731</td>\n",
       "    </tr>\n",
       "    <tr>\n",
       "      <th>1</th>\n",
       "      <td>01/01/2020</td>\n",
       "      <td>implementing fully convolutional network fcn t...</td>\n",
       "      <td>tutorial building training</td>\n",
       "      <td>543.0</td>\n",
       "      <td>4</td>\n",
       "      <td>@himanshurawlani</td>\n",
       "      <td>https://towardsdatascience.com/implementing-a-...</td>\n",
       "      <td>11</td>\n",
       "      <td>understanding implementing fully convolutional...</td>\n",
       "      <td>331.0</td>\n",
       "      <td>towardsdatascience</td>\n",
       "      <td>2527</td>\n",
       "      <td>15729</td>\n",
       "      <td>2</td>\n",
       "      <td>1</td>\n",
       "      <td>0.110434</td>\n",
       "      <td>0.398271</td>\n",
       "    </tr>\n",
       "    <tr>\n",
       "      <th>2</th>\n",
       "      <td>01/01/2020</td>\n",
       "      <td>new feature python python newbie</td>\n",
       "      <td>python beginner</td>\n",
       "      <td>1800.0</td>\n",
       "      <td>4</td>\n",
       "      <td>@edenau</td>\n",
       "      <td>https://towardsdatascience.com/6-new-features-...</td>\n",
       "      <td>4</td>\n",
       "      <td>python beginner new feature python python newb...</td>\n",
       "      <td>1700.0</td>\n",
       "      <td>towardsdatascience</td>\n",
       "      <td>712</td>\n",
       "      <td>4174</td>\n",
       "      <td>2</td>\n",
       "      <td>1</td>\n",
       "      <td>0.081111</td>\n",
       "      <td>0.470741</td>\n",
       "    </tr>\n",
       "    <tr>\n",
       "      <th>3</th>\n",
       "      <td>01/01/2020</td>\n",
       "      <td>fancy python</td>\n",
       "      <td>python trick make life easier</td>\n",
       "      <td>1700.0</td>\n",
       "      <td>12</td>\n",
       "      <td>@dipam44</td>\n",
       "      <td>https://towardsdatascience.com/how-to-be-fancy...</td>\n",
       "      <td>5</td>\n",
       "      <td>fancy python python cool really cool however l...</td>\n",
       "      <td>625.0</td>\n",
       "      <td>towardsdatascience</td>\n",
       "      <td>607</td>\n",
       "      <td>3328</td>\n",
       "      <td>2</td>\n",
       "      <td>1</td>\n",
       "      <td>0.209636</td>\n",
       "      <td>0.480786</td>\n",
       "    </tr>\n",
       "    <tr>\n",
       "      <th>4</th>\n",
       "      <td>01/01/2020</td>\n",
       "      <td>scratch search playing data elasticsearch inge...</td>\n",
       "      <td>one pipeline rule</td>\n",
       "      <td>239.0</td>\n",
       "      <td>1</td>\n",
       "      <td>@stanislavprihoda</td>\n",
       "      <td>https://towardsdatascience.com/from-scratch-to...</td>\n",
       "      <td>9</td>\n",
       "      <td>scratch search playing data elasticsearch inge...</td>\n",
       "      <td>88.0</td>\n",
       "      <td>towardsdatascience</td>\n",
       "      <td>2158</td>\n",
       "      <td>14087</td>\n",
       "      <td>2</td>\n",
       "      <td>1</td>\n",
       "      <td>0.090842</td>\n",
       "      <td>0.435970</td>\n",
       "    </tr>\n",
       "  </tbody>\n",
       "</table>\n",
       "</div>"
      ],
      "text/plain": [
       "         date                                              title  \\\n",
       "0  01/01/2020               making python program blazingly fast   \n",
       "1  01/01/2020  implementing fully convolutional network fcn t...   \n",
       "2  01/01/2020                   new feature python python newbie   \n",
       "3  01/01/2020                                       fancy python   \n",
       "4  01/01/2020  scratch search playing data elasticsearch inge...   \n",
       "\n",
       "                                  subtitle   claps  responses  \\\n",
       "0  let look performance python program see  3400.0          3   \n",
       "1               tutorial building training   543.0          4   \n",
       "2                          python beginner  1800.0          4   \n",
       "3            python trick make life easier  1700.0         12   \n",
       "4                        one pipeline rule   239.0          1   \n",
       "\n",
       "       author_handle                                          story_url  \\\n",
       "0      @martin.heinz  https://towardsdatascience.com/making-python-p...   \n",
       "1   @himanshurawlani  https://towardsdatascience.com/implementing-a-...   \n",
       "2            @edenau  https://towardsdatascience.com/6-new-features-...   \n",
       "3           @dipam44  https://towardsdatascience.com/how-to-be-fancy...   \n",
       "4  @stanislavprihoda  https://towardsdatascience.com/from-scratch-to...   \n",
       "\n",
       "   reading_time                                               text  \\\n",
       "0             5  making python program blazingly fast let look ...   \n",
       "1            11  understanding implementing fully convolutional...   \n",
       "2             4  python beginner new feature python python newb...   \n",
       "3             5  fancy python python cool really cool however l...   \n",
       "4             9  scratch search playing data elasticsearch inge...   \n",
       "\n",
       "   author_followers         publication  number_of_words  \\\n",
       "0            3800.0  towardsdatascience             1056   \n",
       "1             331.0  towardsdatascience             2527   \n",
       "2            1700.0  towardsdatascience              712   \n",
       "3             625.0  towardsdatascience              607   \n",
       "4              88.0  towardsdatascience             2158   \n",
       "\n",
       "   number_of_characters  day_of_the_week  month  polarity  subjectivity  \n",
       "0                  6175                2      1  0.049713      0.407731  \n",
       "1                 15729                2      1  0.110434      0.398271  \n",
       "2                  4174                2      1  0.081111      0.470741  \n",
       "3                  3328                2      1  0.209636      0.480786  \n",
       "4                 14087                2      1  0.090842      0.435970  "
      ]
     },
     "execution_count": 47,
     "metadata": {},
     "output_type": "execute_result"
    }
   ],
   "source": [
    "df.head()"
   ]
  },
  {
   "cell_type": "markdown",
   "id": "cce46c66",
   "metadata": {
    "hidden": true
   },
   "source": [
    "-------"
   ]
  },
  {
   "cell_type": "code",
   "execution_count": 48,
   "id": "e099602d",
   "metadata": {
    "ExecuteTime": {
     "end_time": "2022-06-10T10:38:55.347012Z",
     "start_time": "2022-06-10T10:38:55.283931Z"
    },
    "hidden": true
   },
   "outputs": [
    {
     "name": "stdout",
     "output_type": "stream",
     "text": [
      "<class 'pandas.core.frame.DataFrame'>\n",
      "RangeIndex: 69200 entries, 0 to 69199\n",
      "Data columns (total 17 columns):\n",
      " #   Column                Non-Null Count  Dtype  \n",
      "---  ------                --------------  -----  \n",
      " 0   date                  69200 non-null  object \n",
      " 1   title                 69200 non-null  object \n",
      " 2   subtitle              69200 non-null  object \n",
      " 3   claps                 69200 non-null  float64\n",
      " 4   responses             69200 non-null  int64  \n",
      " 5   author_handle         69200 non-null  object \n",
      " 6   story_url             69200 non-null  object \n",
      " 7   reading_time          69200 non-null  int64  \n",
      " 8   text                  69200 non-null  object \n",
      " 9   author_followers      69200 non-null  float64\n",
      " 10  publication           69200 non-null  object \n",
      " 11  number_of_words       69200 non-null  int64  \n",
      " 12  number_of_characters  69200 non-null  int64  \n",
      " 13  day_of_the_week       69200 non-null  int64  \n",
      " 14  month                 69200 non-null  int64  \n",
      " 15  polarity              69200 non-null  float64\n",
      " 16  subjectivity          69200 non-null  float64\n",
      "dtypes: float64(4), int64(6), object(7)\n",
      "memory usage: 9.0+ MB\n"
     ]
    }
   ],
   "source": [
    "df.info()"
   ]
  },
  {
   "cell_type": "markdown",
   "id": "a44e1017",
   "metadata": {
    "hidden": true
   },
   "source": [
    "Even though it says there are no nulls there are some columns with empty spaces"
   ]
  },
  {
   "cell_type": "code",
   "execution_count": 49,
   "id": "7a4775fa",
   "metadata": {
    "ExecuteTime": {
     "end_time": "2022-06-10T10:38:55.564350Z",
     "start_time": "2022-06-10T10:38:55.534837Z"
    },
    "hidden": true
   },
   "outputs": [],
   "source": [
    "df = df[df.title != '']"
   ]
  },
  {
   "cell_type": "code",
   "execution_count": 50,
   "id": "717a2029",
   "metadata": {
    "ExecuteTime": {
     "end_time": "2022-06-10T10:38:55.756549Z",
     "start_time": "2022-06-10T10:38:55.754265Z"
    },
    "hidden": true
   },
   "outputs": [
    {
     "data": {
      "text/plain": [
       "69188"
      ]
     },
     "execution_count": 50,
     "metadata": {},
     "output_type": "execute_result"
    }
   ],
   "source": [
    "len(df)"
   ]
  },
  {
   "cell_type": "code",
   "execution_count": 51,
   "id": "2d4874c1",
   "metadata": {
    "ExecuteTime": {
     "end_time": "2022-06-10T10:38:55.971790Z",
     "start_time": "2022-06-10T10:38:55.955842Z"
    },
    "hidden": true
   },
   "outputs": [],
   "source": [
    "df.subtitle = df.subtitle.apply(lambda x: '-' if x == '' else x)"
   ]
  },
  {
   "cell_type": "markdown",
   "id": "6463ac6f",
   "metadata": {
    "hidden": true
   },
   "source": [
    "-----"
   ]
  },
  {
   "cell_type": "markdown",
   "id": "07ffc89a",
   "metadata": {
    "heading_collapsed": true
   },
   "source": [
    "## Creating new target columns"
   ]
  },
  {
   "cell_type": "markdown",
   "id": "b0e0fea6",
   "metadata": {
    "hidden": true
   },
   "source": [
    "### Creating new column of claps per quartile"
   ]
  },
  {
   "cell_type": "code",
   "execution_count": 52,
   "id": "d7e156ff",
   "metadata": {
    "ExecuteTime": {
     "end_time": "2022-06-10T10:38:56.166658Z",
     "start_time": "2022-06-10T10:38:56.163451Z"
    },
    "hidden": true
   },
   "outputs": [],
   "source": [
    "def claps_per_quartile(x):\n",
    "   \n",
    "    low_q = df.claps.quantile(0.25)\n",
    "    median = df.claps.quantile(0.5)\n",
    "    high_q = df.claps.quantile(0.75)\n",
    "\n",
    "    if x < low_q:\n",
    "        return 0\n",
    "    if low_q <= x < median:\n",
    "        return 1\n",
    "    if median <= x < high_q:\n",
    "        return 2\n",
    "    if high_q <= x:\n",
    "        return 3"
   ]
  },
  {
   "cell_type": "code",
   "execution_count": 53,
   "id": "4d51d0ca",
   "metadata": {
    "ExecuteTime": {
     "end_time": "2022-06-10T10:43:09.159982Z",
     "start_time": "2022-06-10T10:38:56.353629Z"
    },
    "hidden": true
   },
   "outputs": [],
   "source": [
    "df['claps_per_quartile'] = df.claps.apply(claps_per_quartile)"
   ]
  },
  {
   "cell_type": "markdown",
   "id": "a175ae78",
   "metadata": {
    "hidden": true
   },
   "source": [
    "### Creating new Binary column of Claps by Median"
   ]
  },
  {
   "cell_type": "code",
   "execution_count": 54,
   "id": "dd03c395",
   "metadata": {
    "ExecuteTime": {
     "end_time": "2022-06-10T10:43:09.428207Z",
     "start_time": "2022-06-10T10:43:09.424988Z"
    },
    "hidden": true
   },
   "outputs": [],
   "source": [
    "def claps_binary(x):\n",
    "\n",
    "    median = df.claps.quantile(0.5)\n",
    "    \n",
    "    if x < median:\n",
    "        return 0\n",
    "    else:\n",
    "        return 1"
   ]
  },
  {
   "cell_type": "code",
   "execution_count": 55,
   "id": "ae89f6ef",
   "metadata": {
    "ExecuteTime": {
     "end_time": "2022-06-10T10:44:36.146732Z",
     "start_time": "2022-06-10T10:43:09.637829Z"
    },
    "hidden": true
   },
   "outputs": [],
   "source": [
    "df['claps_binary'] = df.claps.apply(claps_binary)"
   ]
  },
  {
   "cell_type": "code",
   "execution_count": 56,
   "id": "414f2650",
   "metadata": {
    "ExecuteTime": {
     "end_time": "2022-06-10T10:45:07.181212Z",
     "start_time": "2022-06-10T10:45:07.131621Z"
    },
    "hidden": true
   },
   "outputs": [
    {
     "data": {
      "text/html": [
       "<div>\n",
       "<style scoped>\n",
       "    .dataframe tbody tr th:only-of-type {\n",
       "        vertical-align: middle;\n",
       "    }\n",
       "\n",
       "    .dataframe tbody tr th {\n",
       "        vertical-align: top;\n",
       "    }\n",
       "\n",
       "    .dataframe thead th {\n",
       "        text-align: right;\n",
       "    }\n",
       "</style>\n",
       "<table border=\"1\" class=\"dataframe\">\n",
       "  <thead>\n",
       "    <tr style=\"text-align: right;\">\n",
       "      <th></th>\n",
       "      <th>date</th>\n",
       "      <th>title</th>\n",
       "      <th>subtitle</th>\n",
       "      <th>claps</th>\n",
       "      <th>responses</th>\n",
       "      <th>author_handle</th>\n",
       "      <th>story_url</th>\n",
       "      <th>reading_time</th>\n",
       "      <th>text</th>\n",
       "      <th>author_followers</th>\n",
       "      <th>publication</th>\n",
       "      <th>number_of_words</th>\n",
       "      <th>number_of_characters</th>\n",
       "      <th>day_of_the_week</th>\n",
       "      <th>month</th>\n",
       "      <th>polarity</th>\n",
       "      <th>subjectivity</th>\n",
       "      <th>claps_per_quartile</th>\n",
       "      <th>claps_binary</th>\n",
       "    </tr>\n",
       "  </thead>\n",
       "  <tbody>\n",
       "    <tr>\n",
       "      <th>0</th>\n",
       "      <td>01/01/2020</td>\n",
       "      <td>making python program blazingly fast</td>\n",
       "      <td>let look performance python program see</td>\n",
       "      <td>3400.0</td>\n",
       "      <td>3</td>\n",
       "      <td>@martin.heinz</td>\n",
       "      <td>https://towardsdatascience.com/making-python-p...</td>\n",
       "      <td>5</td>\n",
       "      <td>making python program blazingly fast let look ...</td>\n",
       "      <td>3800.0</td>\n",
       "      <td>towardsdatascience</td>\n",
       "      <td>1056</td>\n",
       "      <td>6175</td>\n",
       "      <td>2</td>\n",
       "      <td>1</td>\n",
       "      <td>0.049713</td>\n",
       "      <td>0.407731</td>\n",
       "      <td>3</td>\n",
       "      <td>1</td>\n",
       "    </tr>\n",
       "    <tr>\n",
       "      <th>1</th>\n",
       "      <td>01/01/2020</td>\n",
       "      <td>implementing fully convolutional network fcn t...</td>\n",
       "      <td>tutorial building training</td>\n",
       "      <td>543.0</td>\n",
       "      <td>4</td>\n",
       "      <td>@himanshurawlani</td>\n",
       "      <td>https://towardsdatascience.com/implementing-a-...</td>\n",
       "      <td>11</td>\n",
       "      <td>understanding implementing fully convolutional...</td>\n",
       "      <td>331.0</td>\n",
       "      <td>towardsdatascience</td>\n",
       "      <td>2527</td>\n",
       "      <td>15729</td>\n",
       "      <td>2</td>\n",
       "      <td>1</td>\n",
       "      <td>0.110434</td>\n",
       "      <td>0.398271</td>\n",
       "      <td>3</td>\n",
       "      <td>1</td>\n",
       "    </tr>\n",
       "    <tr>\n",
       "      <th>2</th>\n",
       "      <td>01/01/2020</td>\n",
       "      <td>new feature python python newbie</td>\n",
       "      <td>python beginner</td>\n",
       "      <td>1800.0</td>\n",
       "      <td>4</td>\n",
       "      <td>@edenau</td>\n",
       "      <td>https://towardsdatascience.com/6-new-features-...</td>\n",
       "      <td>4</td>\n",
       "      <td>python beginner new feature python python newb...</td>\n",
       "      <td>1700.0</td>\n",
       "      <td>towardsdatascience</td>\n",
       "      <td>712</td>\n",
       "      <td>4174</td>\n",
       "      <td>2</td>\n",
       "      <td>1</td>\n",
       "      <td>0.081111</td>\n",
       "      <td>0.470741</td>\n",
       "      <td>3</td>\n",
       "      <td>1</td>\n",
       "    </tr>\n",
       "    <tr>\n",
       "      <th>3</th>\n",
       "      <td>01/01/2020</td>\n",
       "      <td>fancy python</td>\n",
       "      <td>python trick make life easier</td>\n",
       "      <td>1700.0</td>\n",
       "      <td>12</td>\n",
       "      <td>@dipam44</td>\n",
       "      <td>https://towardsdatascience.com/how-to-be-fancy...</td>\n",
       "      <td>5</td>\n",
       "      <td>fancy python python cool really cool however l...</td>\n",
       "      <td>625.0</td>\n",
       "      <td>towardsdatascience</td>\n",
       "      <td>607</td>\n",
       "      <td>3328</td>\n",
       "      <td>2</td>\n",
       "      <td>1</td>\n",
       "      <td>0.209636</td>\n",
       "      <td>0.480786</td>\n",
       "      <td>3</td>\n",
       "      <td>1</td>\n",
       "    </tr>\n",
       "    <tr>\n",
       "      <th>4</th>\n",
       "      <td>01/01/2020</td>\n",
       "      <td>scratch search playing data elasticsearch inge...</td>\n",
       "      <td>one pipeline rule</td>\n",
       "      <td>239.0</td>\n",
       "      <td>1</td>\n",
       "      <td>@stanislavprihoda</td>\n",
       "      <td>https://towardsdatascience.com/from-scratch-to...</td>\n",
       "      <td>9</td>\n",
       "      <td>scratch search playing data elasticsearch inge...</td>\n",
       "      <td>88.0</td>\n",
       "      <td>towardsdatascience</td>\n",
       "      <td>2158</td>\n",
       "      <td>14087</td>\n",
       "      <td>2</td>\n",
       "      <td>1</td>\n",
       "      <td>0.090842</td>\n",
       "      <td>0.435970</td>\n",
       "      <td>3</td>\n",
       "      <td>1</td>\n",
       "    </tr>\n",
       "    <tr>\n",
       "      <th>...</th>\n",
       "      <td>...</td>\n",
       "      <td>...</td>\n",
       "      <td>...</td>\n",
       "      <td>...</td>\n",
       "      <td>...</td>\n",
       "      <td>...</td>\n",
       "      <td>...</td>\n",
       "      <td>...</td>\n",
       "      <td>...</td>\n",
       "      <td>...</td>\n",
       "      <td>...</td>\n",
       "      <td>...</td>\n",
       "      <td>...</td>\n",
       "      <td>...</td>\n",
       "      <td>...</td>\n",
       "      <td>...</td>\n",
       "      <td>...</td>\n",
       "      <td>...</td>\n",
       "      <td>...</td>\n",
       "    </tr>\n",
       "    <tr>\n",
       "      <th>69195</th>\n",
       "      <td>01/01/2021</td>\n",
       "      <td>way ahead</td>\n",
       "      <td>-</td>\n",
       "      <td>2500.0</td>\n",
       "      <td>99</td>\n",
       "      <td>@potus44</td>\n",
       "      <td>https://medium.economist.com/the-way-ahead-65b...</td>\n",
       "      <td>13</td>\n",
       "      <td>way ahead wherever go day home abroad people a...</td>\n",
       "      <td>3800.0</td>\n",
       "      <td>uxplanet</td>\n",
       "      <td>2955</td>\n",
       "      <td>18433</td>\n",
       "      <td>4</td>\n",
       "      <td>1</td>\n",
       "      <td>0.083790</td>\n",
       "      <td>0.385772</td>\n",
       "      <td>3</td>\n",
       "      <td>1</td>\n",
       "    </tr>\n",
       "    <tr>\n",
       "      <th>69196</th>\n",
       "      <td>01/01/2021</td>\n",
       "      <td>beautiful theory</td>\n",
       "      <td>century ago albert einstein changed way human saw</td>\n",
       "      <td>4600.0</td>\n",
       "      <td>21</td>\n",
       "      <td>@the_economist</td>\n",
       "      <td>https://medium.economist.com/the-most-beautifu...</td>\n",
       "      <td>16</td>\n",
       "      <td>beautiful theory century ago albert einstein c...</td>\n",
       "      <td>334000.0</td>\n",
       "      <td>uxplanet</td>\n",
       "      <td>3953</td>\n",
       "      <td>24166</td>\n",
       "      <td>4</td>\n",
       "      <td>1</td>\n",
       "      <td>0.127914</td>\n",
       "      <td>0.468757</td>\n",
       "      <td>3</td>\n",
       "      <td>1</td>\n",
       "    </tr>\n",
       "    <tr>\n",
       "      <th>69197</th>\n",
       "      <td>01/01/2021</td>\n",
       "      <td>people get happier get older</td>\n",
       "      <td>people age gain spend life</td>\n",
       "      <td>316.0</td>\n",
       "      <td>11</td>\n",
       "      <td>@the_economist</td>\n",
       "      <td>https://medium.economist.com/why-people-get-ha...</td>\n",
       "      <td>11</td>\n",
       "      <td>people get happier get older people age gain s...</td>\n",
       "      <td>334000.0</td>\n",
       "      <td>uxplanet</td>\n",
       "      <td>2410</td>\n",
       "      <td>14495</td>\n",
       "      <td>4</td>\n",
       "      <td>1</td>\n",
       "      <td>0.061049</td>\n",
       "      <td>0.413379</td>\n",
       "      <td>3</td>\n",
       "      <td>1</td>\n",
       "    </tr>\n",
       "    <tr>\n",
       "      <th>69198</th>\n",
       "      <td>01/01/2021</td>\n",
       "      <td>economist left rightwing</td>\n",
       "      <td>neither consider radical centre</td>\n",
       "      <td>551.0</td>\n",
       "      <td>39</td>\n",
       "      <td>@the_economist</td>\n",
       "      <td>https://medium.economist.com/is-the-economist-...</td>\n",
       "      <td>3</td>\n",
       "      <td>economist left rightwing neither consider radi...</td>\n",
       "      <td>334000.0</td>\n",
       "      <td>uxplanet</td>\n",
       "      <td>572</td>\n",
       "      <td>3599</td>\n",
       "      <td>4</td>\n",
       "      <td>1</td>\n",
       "      <td>0.113279</td>\n",
       "      <td>0.320622</td>\n",
       "      <td>3</td>\n",
       "      <td>1</td>\n",
       "    </tr>\n",
       "    <tr>\n",
       "      <th>69199</th>\n",
       "      <td>01/01/2021</td>\n",
       "      <td>internet unleashed burst cartooning creativity</td>\n",
       "      <td>free huge syndicate touchy</td>\n",
       "      <td>347.0</td>\n",
       "      <td>9</td>\n",
       "      <td>@the_economist</td>\n",
       "      <td>https://medium.economist.com/how-the-internet-...</td>\n",
       "      <td>9</td>\n",
       "      <td>internet unleashed burst cartooning creativity...</td>\n",
       "      <td>334000.0</td>\n",
       "      <td>uxplanet</td>\n",
       "      <td>2117</td>\n",
       "      <td>13075</td>\n",
       "      <td>4</td>\n",
       "      <td>1</td>\n",
       "      <td>0.112837</td>\n",
       "      <td>0.468674</td>\n",
       "      <td>3</td>\n",
       "      <td>1</td>\n",
       "    </tr>\n",
       "  </tbody>\n",
       "</table>\n",
       "<p>69188 rows × 19 columns</p>\n",
       "</div>"
      ],
      "text/plain": [
       "             date                                              title  \\\n",
       "0      01/01/2020               making python program blazingly fast   \n",
       "1      01/01/2020  implementing fully convolutional network fcn t...   \n",
       "2      01/01/2020                   new feature python python newbie   \n",
       "3      01/01/2020                                       fancy python   \n",
       "4      01/01/2020  scratch search playing data elasticsearch inge...   \n",
       "...           ...                                                ...   \n",
       "69195  01/01/2021                                          way ahead   \n",
       "69196  01/01/2021                                   beautiful theory   \n",
       "69197  01/01/2021                       people get happier get older   \n",
       "69198  01/01/2021                           economist left rightwing   \n",
       "69199  01/01/2021     internet unleashed burst cartooning creativity   \n",
       "\n",
       "                                                subtitle   claps  responses  \\\n",
       "0                let look performance python program see  3400.0          3   \n",
       "1                             tutorial building training   543.0          4   \n",
       "2                                        python beginner  1800.0          4   \n",
       "3                          python trick make life easier  1700.0         12   \n",
       "4                                      one pipeline rule   239.0          1   \n",
       "...                                                  ...     ...        ...   \n",
       "69195                                                  -  2500.0         99   \n",
       "69196  century ago albert einstein changed way human saw  4600.0         21   \n",
       "69197                         people age gain spend life   316.0         11   \n",
       "69198                    neither consider radical centre   551.0         39   \n",
       "69199                         free huge syndicate touchy   347.0          9   \n",
       "\n",
       "           author_handle                                          story_url  \\\n",
       "0          @martin.heinz  https://towardsdatascience.com/making-python-p...   \n",
       "1       @himanshurawlani  https://towardsdatascience.com/implementing-a-...   \n",
       "2                @edenau  https://towardsdatascience.com/6-new-features-...   \n",
       "3               @dipam44  https://towardsdatascience.com/how-to-be-fancy...   \n",
       "4      @stanislavprihoda  https://towardsdatascience.com/from-scratch-to...   \n",
       "...                  ...                                                ...   \n",
       "69195           @potus44  https://medium.economist.com/the-way-ahead-65b...   \n",
       "69196     @the_economist  https://medium.economist.com/the-most-beautifu...   \n",
       "69197     @the_economist  https://medium.economist.com/why-people-get-ha...   \n",
       "69198     @the_economist  https://medium.economist.com/is-the-economist-...   \n",
       "69199     @the_economist  https://medium.economist.com/how-the-internet-...   \n",
       "\n",
       "       reading_time                                               text  \\\n",
       "0                 5  making python program blazingly fast let look ...   \n",
       "1                11  understanding implementing fully convolutional...   \n",
       "2                 4  python beginner new feature python python newb...   \n",
       "3                 5  fancy python python cool really cool however l...   \n",
       "4                 9  scratch search playing data elasticsearch inge...   \n",
       "...             ...                                                ...   \n",
       "69195            13  way ahead wherever go day home abroad people a...   \n",
       "69196            16  beautiful theory century ago albert einstein c...   \n",
       "69197            11  people get happier get older people age gain s...   \n",
       "69198             3  economist left rightwing neither consider radi...   \n",
       "69199             9  internet unleashed burst cartooning creativity...   \n",
       "\n",
       "       author_followers         publication  number_of_words  \\\n",
       "0                3800.0  towardsdatascience             1056   \n",
       "1                 331.0  towardsdatascience             2527   \n",
       "2                1700.0  towardsdatascience              712   \n",
       "3                 625.0  towardsdatascience              607   \n",
       "4                  88.0  towardsdatascience             2158   \n",
       "...                 ...                 ...              ...   \n",
       "69195            3800.0            uxplanet             2955   \n",
       "69196          334000.0            uxplanet             3953   \n",
       "69197          334000.0            uxplanet             2410   \n",
       "69198          334000.0            uxplanet              572   \n",
       "69199          334000.0            uxplanet             2117   \n",
       "\n",
       "       number_of_characters  day_of_the_week  month  polarity  subjectivity  \\\n",
       "0                      6175                2      1  0.049713      0.407731   \n",
       "1                     15729                2      1  0.110434      0.398271   \n",
       "2                      4174                2      1  0.081111      0.470741   \n",
       "3                      3328                2      1  0.209636      0.480786   \n",
       "4                     14087                2      1  0.090842      0.435970   \n",
       "...                     ...              ...    ...       ...           ...   \n",
       "69195                 18433                4      1  0.083790      0.385772   \n",
       "69196                 24166                4      1  0.127914      0.468757   \n",
       "69197                 14495                4      1  0.061049      0.413379   \n",
       "69198                  3599                4      1  0.113279      0.320622   \n",
       "69199                 13075                4      1  0.112837      0.468674   \n",
       "\n",
       "       claps_per_quartile  claps_binary  \n",
       "0                       3             1  \n",
       "1                       3             1  \n",
       "2                       3             1  \n",
       "3                       3             1  \n",
       "4                       3             1  \n",
       "...                   ...           ...  \n",
       "69195                   3             1  \n",
       "69196                   3             1  \n",
       "69197                   3             1  \n",
       "69198                   3             1  \n",
       "69199                   3             1  \n",
       "\n",
       "[69188 rows x 19 columns]"
      ]
     },
     "execution_count": 56,
     "metadata": {},
     "output_type": "execute_result"
    }
   ],
   "source": [
    "df"
   ]
  },
  {
   "cell_type": "markdown",
   "id": "cc0e7fe6",
   "metadata": {
    "hidden": true
   },
   "source": [
    "----"
   ]
  },
  {
   "cell_type": "markdown",
   "id": "85e30450",
   "metadata": {
    "hidden": true
   },
   "source": [
    "--------"
   ]
  },
  {
   "cell_type": "markdown",
   "id": "f09d55a6",
   "metadata": {
    "heading_collapsed": true
   },
   "source": [
    "## Saving to CSV"
   ]
  },
  {
   "cell_type": "code",
   "execution_count": 57,
   "id": "6c4a43b9",
   "metadata": {
    "ExecuteTime": {
     "end_time": "2022-06-10T11:02:47.155997Z",
     "start_time": "2022-06-10T11:02:40.933553Z"
    },
    "hidden": true
   },
   "outputs": [],
   "source": [
    "df.to_csv('df_final_no_numbers.csv', index=False)"
   ]
  }
 ],
 "metadata": {
  "kernelspec": {
   "display_name": "firstEnv",
   "language": "python",
   "name": "firstenv"
  },
  "language_info": {
   "codemirror_mode": {
    "name": "ipython",
    "version": 3
   },
   "file_extension": ".py",
   "mimetype": "text/x-python",
   "name": "python",
   "nbconvert_exporter": "python",
   "pygments_lexer": "ipython3",
   "version": "3.10.4"
  },
  "toc": {
   "base_numbering": 1,
   "nav_menu": {},
   "number_sections": true,
   "sideBar": true,
   "skip_h1_title": false,
   "title_cell": "Table of Contents",
   "title_sidebar": "Contents",
   "toc_cell": false,
   "toc_position": {
    "height": "calc(100% - 180px)",
    "left": "10px",
    "top": "150px",
    "width": "349.078px"
   },
   "toc_section_display": true,
   "toc_window_display": true
  },
  "varInspector": {
   "cols": {
    "lenName": 16,
    "lenType": 16,
    "lenVar": 40
   },
   "kernels_config": {
    "python": {
     "delete_cmd_postfix": "",
     "delete_cmd_prefix": "del ",
     "library": "var_list.py",
     "varRefreshCmd": "print(var_dic_list())"
    },
    "r": {
     "delete_cmd_postfix": ") ",
     "delete_cmd_prefix": "rm(",
     "library": "var_list.r",
     "varRefreshCmd": "cat(var_dic_list()) "
    }
   },
   "types_to_exclude": [
    "module",
    "function",
    "builtin_function_or_method",
    "instance",
    "_Feature"
   ],
   "window_display": false
  }
 },
 "nbformat": 4,
 "nbformat_minor": 5
}
