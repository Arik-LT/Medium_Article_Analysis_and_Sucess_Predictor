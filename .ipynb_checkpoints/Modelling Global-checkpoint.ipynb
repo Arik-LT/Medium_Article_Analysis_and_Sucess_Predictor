{
 "cells": [
  {
   "cell_type": "markdown",
   "id": "07d58bb5",
   "metadata": {},
   "source": [
    "## Imports"
   ]
  },
  {
   "cell_type": "code",
   "execution_count": 235,
   "id": "dcb2e724",
   "metadata": {
    "ExecuteTime": {
     "end_time": "2022-06-20T09:08:28.371819Z",
     "start_time": "2022-06-20T09:08:28.368773Z"
    }
   },
   "outputs": [],
   "source": [
    "import pandas as pd\n",
    "import numpy as np\n",
    "import re\n",
    "\n",
    "from textblob import TextBlob, Word\n",
    "\n",
    "import matplotlib.pyplot as plt\n",
    "import seaborn as sns\n",
    "import plotly.express as px\n",
    "import scipy\n",
    "from datetime import datetime"
   ]
  },
  {
   "cell_type": "code",
   "execution_count": null,
   "id": "0ab1f996",
   "metadata": {
    "ExecuteTime": {
     "end_time": "2022-06-17T14:25:29.128769Z",
     "start_time": "2022-06-17T14:25:29.128762Z"
    }
   },
   "outputs": [],
   "source": [
    "from sklearn.model_selection import train_test_split\n",
    "from sklearn.preprocessing import StandardScaler\n",
    "\n",
    "from sklearn.feature_extraction.text import CountVectorizer\n",
    "\n",
    "from sklearn.linear_model import LogisticRegression, LogisticRegressionCV, ElasticNetCV\n",
    "from sklearn.model_selection import cross_val_score, StratifiedKFold\n",
    "from sklearn.naive_bayes import MultinomialNB\n",
    "from sklearn.ensemble import RandomForestClassifier, GradientBoostingClassifier\n",
    "from sklearn.model_selection import GridSearchCV, RandomizedSearchCV\n",
    "from sklearn.svm import LinearSVC\n",
    "from xgboost import XGBClassifier\n",
    "from sklearn.metrics import accuracy_score\n",
    "\n",
    "from sklearn.pipeline import Pipeline\n",
    "from sklearn.metrics import roc_auc_score, plot_roc_curve, f1_score, plot_precision_recall_curve"
   ]
  },
  {
   "cell_type": "markdown",
   "id": "c4753b18",
   "metadata": {},
   "source": [
    "### Last clean before model"
   ]
  },
  {
   "cell_type": "code",
   "execution_count": 139,
   "id": "64c140e2",
   "metadata": {
    "ExecuteTime": {
     "end_time": "2022-06-17T14:22:34.073910Z",
     "start_time": "2022-06-17T14:22:30.585279Z"
    }
   },
   "outputs": [],
   "source": [
    "df = pd.read_csv('df_final_no_numbers.csv')\n",
    "df.subtitle = df.subtitle.apply(lambda x: 0 if x == '-' else 1)\n",
    "df.subtitle = df.subtitle.apply(str)\n",
    "df.day_of_the_week = df.day_of_the_week.apply(str)\n",
    "df = df[(df['publication'] != 'personal-growth') & (df['publication'] != 'uxplanet')]\n",
    "df.reset_index(drop=True, inplace=True)\n",
    "\n"
   ]
  },
  {
   "cell_type": "code",
   "execution_count": 140,
   "id": "a4cc33ff",
   "metadata": {
    "ExecuteTime": {
     "end_time": "2022-06-17T14:22:34.087445Z",
     "start_time": "2022-06-17T14:22:34.076648Z"
    }
   },
   "outputs": [
    {
     "data": {
      "text/html": [
       "<div>\n",
       "<style scoped>\n",
       "    .dataframe tbody tr th:only-of-type {\n",
       "        vertical-align: middle;\n",
       "    }\n",
       "\n",
       "    .dataframe tbody tr th {\n",
       "        vertical-align: top;\n",
       "    }\n",
       "\n",
       "    .dataframe thead th {\n",
       "        text-align: right;\n",
       "    }\n",
       "</style>\n",
       "<table border=\"1\" class=\"dataframe\">\n",
       "  <thead>\n",
       "    <tr style=\"text-align: right;\">\n",
       "      <th></th>\n",
       "      <th>date</th>\n",
       "      <th>title</th>\n",
       "      <th>subtitle</th>\n",
       "      <th>claps</th>\n",
       "      <th>responses</th>\n",
       "      <th>author_handle</th>\n",
       "      <th>story_url</th>\n",
       "      <th>reading_time</th>\n",
       "      <th>text</th>\n",
       "      <th>author_followers</th>\n",
       "      <th>publication</th>\n",
       "      <th>number_of_words</th>\n",
       "      <th>number_of_characters</th>\n",
       "      <th>day_of_the_week</th>\n",
       "      <th>month</th>\n",
       "      <th>polarity</th>\n",
       "      <th>subjectivity</th>\n",
       "      <th>claps_per_quartile</th>\n",
       "      <th>claps_binary</th>\n",
       "    </tr>\n",
       "  </thead>\n",
       "  <tbody>\n",
       "    <tr>\n",
       "      <th>0</th>\n",
       "      <td>01/01/2020</td>\n",
       "      <td>making python program blazingly fast</td>\n",
       "      <td>1</td>\n",
       "      <td>3400.0</td>\n",
       "      <td>3</td>\n",
       "      <td>@martin.heinz</td>\n",
       "      <td>https://towardsdatascience.com/making-python-p...</td>\n",
       "      <td>5</td>\n",
       "      <td>making python program blazingly fast let look ...</td>\n",
       "      <td>3800.0</td>\n",
       "      <td>towardsdatascience</td>\n",
       "      <td>1056</td>\n",
       "      <td>6175</td>\n",
       "      <td>2</td>\n",
       "      <td>1</td>\n",
       "      <td>0.049713</td>\n",
       "      <td>0.407731</td>\n",
       "      <td>3</td>\n",
       "      <td>1</td>\n",
       "    </tr>\n",
       "    <tr>\n",
       "      <th>1</th>\n",
       "      <td>01/01/2020</td>\n",
       "      <td>implementing fully convolutional network fcn t...</td>\n",
       "      <td>1</td>\n",
       "      <td>543.0</td>\n",
       "      <td>4</td>\n",
       "      <td>@himanshurawlani</td>\n",
       "      <td>https://towardsdatascience.com/implementing-a-...</td>\n",
       "      <td>11</td>\n",
       "      <td>understanding implementing fully convolutional...</td>\n",
       "      <td>331.0</td>\n",
       "      <td>towardsdatascience</td>\n",
       "      <td>2527</td>\n",
       "      <td>15729</td>\n",
       "      <td>2</td>\n",
       "      <td>1</td>\n",
       "      <td>0.110434</td>\n",
       "      <td>0.398271</td>\n",
       "      <td>3</td>\n",
       "      <td>1</td>\n",
       "    </tr>\n",
       "    <tr>\n",
       "      <th>2</th>\n",
       "      <td>01/01/2020</td>\n",
       "      <td>new feature python python newbie</td>\n",
       "      <td>1</td>\n",
       "      <td>1800.0</td>\n",
       "      <td>4</td>\n",
       "      <td>@edenau</td>\n",
       "      <td>https://towardsdatascience.com/6-new-features-...</td>\n",
       "      <td>4</td>\n",
       "      <td>python beginner new feature python python newb...</td>\n",
       "      <td>1700.0</td>\n",
       "      <td>towardsdatascience</td>\n",
       "      <td>712</td>\n",
       "      <td>4174</td>\n",
       "      <td>2</td>\n",
       "      <td>1</td>\n",
       "      <td>0.081111</td>\n",
       "      <td>0.470741</td>\n",
       "      <td>3</td>\n",
       "      <td>1</td>\n",
       "    </tr>\n",
       "    <tr>\n",
       "      <th>3</th>\n",
       "      <td>01/01/2020</td>\n",
       "      <td>fancy python</td>\n",
       "      <td>1</td>\n",
       "      <td>1700.0</td>\n",
       "      <td>12</td>\n",
       "      <td>@dipam44</td>\n",
       "      <td>https://towardsdatascience.com/how-to-be-fancy...</td>\n",
       "      <td>5</td>\n",
       "      <td>fancy python python cool really cool however l...</td>\n",
       "      <td>625.0</td>\n",
       "      <td>towardsdatascience</td>\n",
       "      <td>607</td>\n",
       "      <td>3328</td>\n",
       "      <td>2</td>\n",
       "      <td>1</td>\n",
       "      <td>0.209636</td>\n",
       "      <td>0.480786</td>\n",
       "      <td>3</td>\n",
       "      <td>1</td>\n",
       "    </tr>\n",
       "    <tr>\n",
       "      <th>4</th>\n",
       "      <td>01/01/2020</td>\n",
       "      <td>scratch search playing data elasticsearch inge...</td>\n",
       "      <td>1</td>\n",
       "      <td>239.0</td>\n",
       "      <td>1</td>\n",
       "      <td>@stanislavprihoda</td>\n",
       "      <td>https://towardsdatascience.com/from-scratch-to...</td>\n",
       "      <td>9</td>\n",
       "      <td>scratch search playing data elasticsearch inge...</td>\n",
       "      <td>88.0</td>\n",
       "      <td>towardsdatascience</td>\n",
       "      <td>2158</td>\n",
       "      <td>14087</td>\n",
       "      <td>2</td>\n",
       "      <td>1</td>\n",
       "      <td>0.090842</td>\n",
       "      <td>0.435970</td>\n",
       "      <td>3</td>\n",
       "      <td>1</td>\n",
       "    </tr>\n",
       "  </tbody>\n",
       "</table>\n",
       "</div>"
      ],
      "text/plain": [
       "         date                                              title subtitle  \\\n",
       "0  01/01/2020               making python program blazingly fast        1   \n",
       "1  01/01/2020  implementing fully convolutional network fcn t...        1   \n",
       "2  01/01/2020                   new feature python python newbie        1   \n",
       "3  01/01/2020                                       fancy python        1   \n",
       "4  01/01/2020  scratch search playing data elasticsearch inge...        1   \n",
       "\n",
       "    claps  responses      author_handle  \\\n",
       "0  3400.0          3      @martin.heinz   \n",
       "1   543.0          4   @himanshurawlani   \n",
       "2  1800.0          4            @edenau   \n",
       "3  1700.0         12           @dipam44   \n",
       "4   239.0          1  @stanislavprihoda   \n",
       "\n",
       "                                           story_url  reading_time  \\\n",
       "0  https://towardsdatascience.com/making-python-p...             5   \n",
       "1  https://towardsdatascience.com/implementing-a-...            11   \n",
       "2  https://towardsdatascience.com/6-new-features-...             4   \n",
       "3  https://towardsdatascience.com/how-to-be-fancy...             5   \n",
       "4  https://towardsdatascience.com/from-scratch-to...             9   \n",
       "\n",
       "                                                text  author_followers  \\\n",
       "0  making python program blazingly fast let look ...            3800.0   \n",
       "1  understanding implementing fully convolutional...             331.0   \n",
       "2  python beginner new feature python python newb...            1700.0   \n",
       "3  fancy python python cool really cool however l...             625.0   \n",
       "4  scratch search playing data elasticsearch inge...              88.0   \n",
       "\n",
       "          publication  number_of_words  number_of_characters day_of_the_week  \\\n",
       "0  towardsdatascience             1056                  6175               2   \n",
       "1  towardsdatascience             2527                 15729               2   \n",
       "2  towardsdatascience              712                  4174               2   \n",
       "3  towardsdatascience              607                  3328               2   \n",
       "4  towardsdatascience             2158                 14087               2   \n",
       "\n",
       "   month  polarity  subjectivity  claps_per_quartile  claps_binary  \n",
       "0      1  0.049713      0.407731                   3             1  \n",
       "1      1  0.110434      0.398271                   3             1  \n",
       "2      1  0.081111      0.470741                   3             1  \n",
       "3      1  0.209636      0.480786                   3             1  \n",
       "4      1  0.090842      0.435970                   3             1  "
      ]
     },
     "execution_count": 140,
     "metadata": {},
     "output_type": "execute_result"
    }
   ],
   "source": [
    "df.head()"
   ]
  },
  {
   "cell_type": "markdown",
   "id": "3f81eb38",
   "metadata": {},
   "source": [
    "------"
   ]
  },
  {
   "cell_type": "markdown",
   "id": "654711d3",
   "metadata": {},
   "source": [
    "## Simple look at data"
   ]
  },
  {
   "cell_type": "code",
   "execution_count": 141,
   "id": "40b72af7",
   "metadata": {
    "ExecuteTime": {
     "end_time": "2022-06-17T14:22:34.096258Z",
     "start_time": "2022-06-17T14:22:34.088661Z"
    }
   },
   "outputs": [
    {
     "data": {
      "text/plain": [
       "towardsdatascience    27195\n",
       "datadriveninvestor    14261\n",
       "swlh                   9986\n",
       "uxdesign               6553\n",
       "writingcooperative     4448\n",
       "better-marketing       4418\n",
       "better-humans          1506\n",
       "the-mission             472\n",
       "startup-grind           296\n",
       "Name: publication, dtype: int64"
      ]
     },
     "execution_count": 141,
     "metadata": {},
     "output_type": "execute_result"
    }
   ],
   "source": [
    "df.publication.value_counts()"
   ]
  },
  {
   "cell_type": "code",
   "execution_count": 142,
   "id": "d538f34a",
   "metadata": {
    "ExecuteTime": {
     "end_time": "2022-06-17T14:22:34.133318Z",
     "start_time": "2022-06-17T14:22:34.097423Z"
    }
   },
   "outputs": [
    {
     "data": {
      "text/html": [
       "<div>\n",
       "<style scoped>\n",
       "    .dataframe tbody tr th:only-of-type {\n",
       "        vertical-align: middle;\n",
       "    }\n",
       "\n",
       "    .dataframe tbody tr th {\n",
       "        vertical-align: top;\n",
       "    }\n",
       "\n",
       "    .dataframe thead th {\n",
       "        text-align: right;\n",
       "    }\n",
       "</style>\n",
       "<table border=\"1\" class=\"dataframe\">\n",
       "  <thead>\n",
       "    <tr style=\"text-align: right;\">\n",
       "      <th></th>\n",
       "      <th>claps</th>\n",
       "      <th>responses</th>\n",
       "      <th>reading_time</th>\n",
       "      <th>author_followers</th>\n",
       "      <th>number_of_words</th>\n",
       "      <th>number_of_characters</th>\n",
       "      <th>month</th>\n",
       "      <th>polarity</th>\n",
       "      <th>subjectivity</th>\n",
       "      <th>claps_per_quartile</th>\n",
       "      <th>claps_binary</th>\n",
       "    </tr>\n",
       "  </thead>\n",
       "  <tbody>\n",
       "    <tr>\n",
       "      <th>count</th>\n",
       "      <td>69135.000000</td>\n",
       "      <td>69135.000000</td>\n",
       "      <td>69135.000000</td>\n",
       "      <td>69135.000000</td>\n",
       "      <td>69135.000000</td>\n",
       "      <td>69135.000000</td>\n",
       "      <td>69135.000000</td>\n",
       "      <td>69135.000000</td>\n",
       "      <td>69135.000000</td>\n",
       "      <td>69135.000000</td>\n",
       "      <td>69135.000000</td>\n",
       "    </tr>\n",
       "    <tr>\n",
       "      <th>mean</th>\n",
       "      <td>257.153569</td>\n",
       "      <td>1.912938</td>\n",
       "      <td>6.491690</td>\n",
       "      <td>3780.866233</td>\n",
       "      <td>1314.883633</td>\n",
       "      <td>7971.710103</td>\n",
       "      <td>6.095711</td>\n",
       "      <td>0.117113</td>\n",
       "      <td>0.461171</td>\n",
       "      <td>1.504578</td>\n",
       "      <td>0.501309</td>\n",
       "    </tr>\n",
       "    <tr>\n",
       "      <th>std</th>\n",
       "      <td>806.714441</td>\n",
       "      <td>6.620316</td>\n",
       "      <td>3.584353</td>\n",
       "      <td>17869.251507</td>\n",
       "      <td>826.495984</td>\n",
       "      <td>5113.054354</td>\n",
       "      <td>3.486655</td>\n",
       "      <td>0.067479</td>\n",
       "      <td>0.064929</td>\n",
       "      <td>1.115267</td>\n",
       "      <td>0.500002</td>\n",
       "    </tr>\n",
       "    <tr>\n",
       "      <th>min</th>\n",
       "      <td>0.000000</td>\n",
       "      <td>0.000000</td>\n",
       "      <td>1.000000</td>\n",
       "      <td>1.000000</td>\n",
       "      <td>201.000000</td>\n",
       "      <td>1044.000000</td>\n",
       "      <td>1.000000</td>\n",
       "      <td>-0.373631</td>\n",
       "      <td>0.117686</td>\n",
       "      <td>0.000000</td>\n",
       "      <td>0.000000</td>\n",
       "    </tr>\n",
       "    <tr>\n",
       "      <th>25%</th>\n",
       "      <td>40.000000</td>\n",
       "      <td>0.000000</td>\n",
       "      <td>4.000000</td>\n",
       "      <td>57.000000</td>\n",
       "      <td>798.000000</td>\n",
       "      <td>4785.000000</td>\n",
       "      <td>3.000000</td>\n",
       "      <td>0.074728</td>\n",
       "      <td>0.421012</td>\n",
       "      <td>1.000000</td>\n",
       "      <td>0.000000</td>\n",
       "    </tr>\n",
       "    <tr>\n",
       "      <th>50%</th>\n",
       "      <td>95.000000</td>\n",
       "      <td>0.000000</td>\n",
       "      <td>6.000000</td>\n",
       "      <td>241.000000</td>\n",
       "      <td>1130.000000</td>\n",
       "      <td>6801.000000</td>\n",
       "      <td>6.000000</td>\n",
       "      <td>0.115497</td>\n",
       "      <td>0.463336</td>\n",
       "      <td>2.000000</td>\n",
       "      <td>1.000000</td>\n",
       "    </tr>\n",
       "    <tr>\n",
       "      <th>75%</th>\n",
       "      <td>222.000000</td>\n",
       "      <td>2.000000</td>\n",
       "      <td>8.000000</td>\n",
       "      <td>1300.000000</td>\n",
       "      <td>1607.000000</td>\n",
       "      <td>9754.000000</td>\n",
       "      <td>9.000000</td>\n",
       "      <td>0.158415</td>\n",
       "      <td>0.503280</td>\n",
       "      <td>3.000000</td>\n",
       "      <td>1.000000</td>\n",
       "    </tr>\n",
       "    <tr>\n",
       "      <th>max</th>\n",
       "      <td>70000.000000</td>\n",
       "      <td>433.000000</td>\n",
       "      <td>292.000000</td>\n",
       "      <td>268000.000000</td>\n",
       "      <td>17364.000000</td>\n",
       "      <td>100000.000000</td>\n",
       "      <td>12.000000</td>\n",
       "      <td>0.636302</td>\n",
       "      <td>0.782483</td>\n",
       "      <td>3.000000</td>\n",
       "      <td>1.000000</td>\n",
       "    </tr>\n",
       "  </tbody>\n",
       "</table>\n",
       "</div>"
      ],
      "text/plain": [
       "              claps     responses  reading_time  author_followers  \\\n",
       "count  69135.000000  69135.000000  69135.000000      69135.000000   \n",
       "mean     257.153569      1.912938      6.491690       3780.866233   \n",
       "std      806.714441      6.620316      3.584353      17869.251507   \n",
       "min        0.000000      0.000000      1.000000          1.000000   \n",
       "25%       40.000000      0.000000      4.000000         57.000000   \n",
       "50%       95.000000      0.000000      6.000000        241.000000   \n",
       "75%      222.000000      2.000000      8.000000       1300.000000   \n",
       "max    70000.000000    433.000000    292.000000     268000.000000   \n",
       "\n",
       "       number_of_words  number_of_characters         month      polarity  \\\n",
       "count     69135.000000          69135.000000  69135.000000  69135.000000   \n",
       "mean       1314.883633           7971.710103      6.095711      0.117113   \n",
       "std         826.495984           5113.054354      3.486655      0.067479   \n",
       "min         201.000000           1044.000000      1.000000     -0.373631   \n",
       "25%         798.000000           4785.000000      3.000000      0.074728   \n",
       "50%        1130.000000           6801.000000      6.000000      0.115497   \n",
       "75%        1607.000000           9754.000000      9.000000      0.158415   \n",
       "max       17364.000000         100000.000000     12.000000      0.636302   \n",
       "\n",
       "       subjectivity  claps_per_quartile  claps_binary  \n",
       "count  69135.000000        69135.000000  69135.000000  \n",
       "mean       0.461171            1.504578      0.501309  \n",
       "std        0.064929            1.115267      0.500002  \n",
       "min        0.117686            0.000000      0.000000  \n",
       "25%        0.421012            1.000000      0.000000  \n",
       "50%        0.463336            2.000000      1.000000  \n",
       "75%        0.503280            3.000000      1.000000  \n",
       "max        0.782483            3.000000      1.000000  "
      ]
     },
     "execution_count": 142,
     "metadata": {},
     "output_type": "execute_result"
    }
   ],
   "source": [
    "df.describe()"
   ]
  },
  {
   "cell_type": "markdown",
   "id": "ded4349f",
   "metadata": {},
   "source": [
    "------"
   ]
  },
  {
   "cell_type": "markdown",
   "id": "85f5dd43",
   "metadata": {},
   "source": [
    "## Data Pre Processing"
   ]
  },
  {
   "cell_type": "markdown",
   "id": "31d14991",
   "metadata": {},
   "source": [
    "### Selecting X and y for models"
   ]
  },
  {
   "cell_type": "code",
   "execution_count": 143,
   "id": "f2f1120f",
   "metadata": {
    "ExecuteTime": {
     "end_time": "2022-06-17T14:22:34.137703Z",
     "start_time": "2022-06-17T14:22:34.134394Z"
    }
   },
   "outputs": [
    {
     "data": {
      "text/plain": [
       "Index(['title', 'text', 'author_followers', 'number_of_words', 'polarity',\n",
       "       'subjectivity', 'publication_better-marketing',\n",
       "       'publication_datadriveninvestor', 'publication_startup-grind',\n",
       "       'publication_swlh', 'publication_the-mission',\n",
       "       'publication_towardsdatascience', 'publication_uxdesign',\n",
       "       'publication_writingcooperative', 'day_of_the_week_1',\n",
       "       'day_of_the_week_2', 'day_of_the_week_3', 'day_of_the_week_4',\n",
       "       'day_of_the_week_5', 'day_of_the_week_6', 'subtitle_1'],\n",
       "      dtype='object')"
      ]
     },
     "execution_count": 143,
     "metadata": {},
     "output_type": "execute_result"
    }
   ],
   "source": [
    "X_.columns\n"
   ]
  },
  {
   "cell_type": "code",
   "execution_count": 144,
   "id": "982cc23a",
   "metadata": {
    "ExecuteTime": {
     "end_time": "2022-06-17T14:22:34.152447Z",
     "start_time": "2022-06-17T14:22:34.138860Z"
    }
   },
   "outputs": [
    {
     "data": {
      "text/plain": [
       "array(['towardsdatascience', 'swlh', 'writingcooperative',\n",
       "       'datadriveninvestor', 'uxdesign', 'the-mission', 'startup-grind',\n",
       "       'better-humans', 'better-marketing'], dtype=object)"
      ]
     },
     "execution_count": 144,
     "metadata": {},
     "output_type": "execute_result"
    }
   ],
   "source": [
    "df.publication.unique()\n"
   ]
  },
  {
   "cell_type": "code",
   "execution_count": 145,
   "id": "833968ad",
   "metadata": {
    "ExecuteTime": {
     "end_time": "2022-06-17T14:22:34.156657Z",
     "start_time": "2022-06-17T14:22:34.154711Z"
    }
   },
   "outputs": [],
   "source": [
    "y = df.claps_binary\n"
   ]
  },
  {
   "cell_type": "code",
   "execution_count": 200,
   "id": "bd5ab26f",
   "metadata": {
    "ExecuteTime": {
     "end_time": "2022-06-18T10:30:57.980968Z",
     "start_time": "2022-06-18T10:30:56.661413Z"
    },
    "scrolled": true
   },
   "outputs": [
    {
     "name": "stdout",
     "output_type": "stream",
     "text": [
      "<class 'pandas.core.frame.DataFrame'>\n",
      "RangeIndex: 69135 entries, 0 to 69134\n",
      "Data columns (total 19 columns):\n",
      " #   Column                Non-Null Count  Dtype  \n",
      "---  ------                --------------  -----  \n",
      " 0   date                  69135 non-null  object \n",
      " 1   title                 69135 non-null  object \n",
      " 2   subtitle              69135 non-null  object \n",
      " 3   claps                 69135 non-null  float64\n",
      " 4   responses             69135 non-null  int64  \n",
      " 5   author_handle         69135 non-null  object \n",
      " 6   story_url             69135 non-null  object \n",
      " 7   reading_time          69135 non-null  int64  \n",
      " 8   text                  69135 non-null  object \n",
      " 9   author_followers      69135 non-null  float64\n",
      " 10  publication           69135 non-null  object \n",
      " 11  number_of_words       69135 non-null  int64  \n",
      " 12  number_of_characters  69135 non-null  int64  \n",
      " 13  day_of_the_week       69135 non-null  object \n",
      " 14  month                 69135 non-null  int64  \n",
      " 15  polarity              69135 non-null  float64\n",
      " 16  subjectivity          69135 non-null  float64\n",
      " 17  claps_per_quartile    69135 non-null  int64  \n",
      " 18  claps_binary          69135 non-null  int64  \n",
      "dtypes: float64(4), int64(7), object(8)\n",
      "memory usage: 10.0+ MB\n"
     ]
    }
   ],
   "source": [
    "df.info()\n"
   ]
  },
  {
   "cell_type": "code",
   "execution_count": 214,
   "id": "77a53002",
   "metadata": {
    "ExecuteTime": {
     "end_time": "2022-06-20T07:34:42.979707Z",
     "start_time": "2022-06-20T07:34:42.907630Z"
    }
   },
   "outputs": [
    {
     "data": {
      "text/html": [
       "<div>\n",
       "<style scoped>\n",
       "    .dataframe tbody tr th:only-of-type {\n",
       "        vertical-align: middle;\n",
       "    }\n",
       "\n",
       "    .dataframe tbody tr th {\n",
       "        vertical-align: top;\n",
       "    }\n",
       "\n",
       "    .dataframe thead th {\n",
       "        text-align: right;\n",
       "    }\n",
       "</style>\n",
       "<table border=\"1\" class=\"dataframe\">\n",
       "  <thead>\n",
       "    <tr style=\"text-align: right;\">\n",
       "      <th></th>\n",
       "      <th>title</th>\n",
       "      <th>text</th>\n",
       "      <th>author_followers</th>\n",
       "      <th>number_of_words</th>\n",
       "      <th>polarity</th>\n",
       "      <th>subjectivity</th>\n",
       "      <th>publication_better-marketing</th>\n",
       "      <th>publication_datadriveninvestor</th>\n",
       "      <th>publication_startup-grind</th>\n",
       "      <th>publication_swlh</th>\n",
       "      <th>...</th>\n",
       "      <th>publication_towardsdatascience</th>\n",
       "      <th>publication_uxdesign</th>\n",
       "      <th>publication_writingcooperative</th>\n",
       "      <th>day_of_the_week_1</th>\n",
       "      <th>day_of_the_week_2</th>\n",
       "      <th>day_of_the_week_3</th>\n",
       "      <th>day_of_the_week_4</th>\n",
       "      <th>day_of_the_week_5</th>\n",
       "      <th>day_of_the_week_6</th>\n",
       "      <th>subtitle_1</th>\n",
       "    </tr>\n",
       "  </thead>\n",
       "  <tbody>\n",
       "    <tr>\n",
       "      <th>0</th>\n",
       "      <td>making python program blazingly fast</td>\n",
       "      <td>making python program blazingly fast let look ...</td>\n",
       "      <td>3800.0</td>\n",
       "      <td>1056</td>\n",
       "      <td>0.049713</td>\n",
       "      <td>0.407731</td>\n",
       "      <td>0</td>\n",
       "      <td>0</td>\n",
       "      <td>0</td>\n",
       "      <td>0</td>\n",
       "      <td>...</td>\n",
       "      <td>1</td>\n",
       "      <td>0</td>\n",
       "      <td>0</td>\n",
       "      <td>0</td>\n",
       "      <td>1</td>\n",
       "      <td>0</td>\n",
       "      <td>0</td>\n",
       "      <td>0</td>\n",
       "      <td>0</td>\n",
       "      <td>1</td>\n",
       "    </tr>\n",
       "    <tr>\n",
       "      <th>1</th>\n",
       "      <td>implementing fully convolutional network fcn t...</td>\n",
       "      <td>understanding implementing fully convolutional...</td>\n",
       "      <td>331.0</td>\n",
       "      <td>2527</td>\n",
       "      <td>0.110434</td>\n",
       "      <td>0.398271</td>\n",
       "      <td>0</td>\n",
       "      <td>0</td>\n",
       "      <td>0</td>\n",
       "      <td>0</td>\n",
       "      <td>...</td>\n",
       "      <td>1</td>\n",
       "      <td>0</td>\n",
       "      <td>0</td>\n",
       "      <td>0</td>\n",
       "      <td>1</td>\n",
       "      <td>0</td>\n",
       "      <td>0</td>\n",
       "      <td>0</td>\n",
       "      <td>0</td>\n",
       "      <td>1</td>\n",
       "    </tr>\n",
       "    <tr>\n",
       "      <th>2</th>\n",
       "      <td>new feature python python newbie</td>\n",
       "      <td>python beginner new feature python python newb...</td>\n",
       "      <td>1700.0</td>\n",
       "      <td>712</td>\n",
       "      <td>0.081111</td>\n",
       "      <td>0.470741</td>\n",
       "      <td>0</td>\n",
       "      <td>0</td>\n",
       "      <td>0</td>\n",
       "      <td>0</td>\n",
       "      <td>...</td>\n",
       "      <td>1</td>\n",
       "      <td>0</td>\n",
       "      <td>0</td>\n",
       "      <td>0</td>\n",
       "      <td>1</td>\n",
       "      <td>0</td>\n",
       "      <td>0</td>\n",
       "      <td>0</td>\n",
       "      <td>0</td>\n",
       "      <td>1</td>\n",
       "    </tr>\n",
       "    <tr>\n",
       "      <th>3</th>\n",
       "      <td>fancy python</td>\n",
       "      <td>fancy python python cool really cool however l...</td>\n",
       "      <td>625.0</td>\n",
       "      <td>607</td>\n",
       "      <td>0.209636</td>\n",
       "      <td>0.480786</td>\n",
       "      <td>0</td>\n",
       "      <td>0</td>\n",
       "      <td>0</td>\n",
       "      <td>0</td>\n",
       "      <td>...</td>\n",
       "      <td>1</td>\n",
       "      <td>0</td>\n",
       "      <td>0</td>\n",
       "      <td>0</td>\n",
       "      <td>1</td>\n",
       "      <td>0</td>\n",
       "      <td>0</td>\n",
       "      <td>0</td>\n",
       "      <td>0</td>\n",
       "      <td>1</td>\n",
       "    </tr>\n",
       "    <tr>\n",
       "      <th>4</th>\n",
       "      <td>scratch search playing data elasticsearch inge...</td>\n",
       "      <td>scratch search playing data elasticsearch inge...</td>\n",
       "      <td>88.0</td>\n",
       "      <td>2158</td>\n",
       "      <td>0.090842</td>\n",
       "      <td>0.435970</td>\n",
       "      <td>0</td>\n",
       "      <td>0</td>\n",
       "      <td>0</td>\n",
       "      <td>0</td>\n",
       "      <td>...</td>\n",
       "      <td>1</td>\n",
       "      <td>0</td>\n",
       "      <td>0</td>\n",
       "      <td>0</td>\n",
       "      <td>1</td>\n",
       "      <td>0</td>\n",
       "      <td>0</td>\n",
       "      <td>0</td>\n",
       "      <td>0</td>\n",
       "      <td>1</td>\n",
       "    </tr>\n",
       "  </tbody>\n",
       "</table>\n",
       "<p>5 rows × 21 columns</p>\n",
       "</div>"
      ],
      "text/plain": [
       "                                               title  \\\n",
       "0               making python program blazingly fast   \n",
       "1  implementing fully convolutional network fcn t...   \n",
       "2                   new feature python python newbie   \n",
       "3                                       fancy python   \n",
       "4  scratch search playing data elasticsearch inge...   \n",
       "\n",
       "                                                text  author_followers  \\\n",
       "0  making python program blazingly fast let look ...            3800.0   \n",
       "1  understanding implementing fully convolutional...             331.0   \n",
       "2  python beginner new feature python python newb...            1700.0   \n",
       "3  fancy python python cool really cool however l...             625.0   \n",
       "4  scratch search playing data elasticsearch inge...              88.0   \n",
       "\n",
       "   number_of_words  polarity  subjectivity  publication_better-marketing  \\\n",
       "0             1056  0.049713      0.407731                             0   \n",
       "1             2527  0.110434      0.398271                             0   \n",
       "2              712  0.081111      0.470741                             0   \n",
       "3              607  0.209636      0.480786                             0   \n",
       "4             2158  0.090842      0.435970                             0   \n",
       "\n",
       "   publication_datadriveninvestor  publication_startup-grind  \\\n",
       "0                               0                          0   \n",
       "1                               0                          0   \n",
       "2                               0                          0   \n",
       "3                               0                          0   \n",
       "4                               0                          0   \n",
       "\n",
       "   publication_swlh  ...  publication_towardsdatascience  \\\n",
       "0                 0  ...                               1   \n",
       "1                 0  ...                               1   \n",
       "2                 0  ...                               1   \n",
       "3                 0  ...                               1   \n",
       "4                 0  ...                               1   \n",
       "\n",
       "   publication_uxdesign  publication_writingcooperative  day_of_the_week_1  \\\n",
       "0                     0                               0                  0   \n",
       "1                     0                               0                  0   \n",
       "2                     0                               0                  0   \n",
       "3                     0                               0                  0   \n",
       "4                     0                               0                  0   \n",
       "\n",
       "   day_of_the_week_2  day_of_the_week_3  day_of_the_week_4  day_of_the_week_5  \\\n",
       "0                  1                  0                  0                  0   \n",
       "1                  1                  0                  0                  0   \n",
       "2                  1                  0                  0                  0   \n",
       "3                  1                  0                  0                  0   \n",
       "4                  1                  0                  0                  0   \n",
       "\n",
       "   day_of_the_week_6  subtitle_1  \n",
       "0                  0           1  \n",
       "1                  0           1  \n",
       "2                  0           1  \n",
       "3                  0           1  \n",
       "4                  0           1  \n",
       "\n",
       "[5 rows x 21 columns]"
      ]
     },
     "execution_count": 214,
     "metadata": {},
     "output_type": "execute_result"
    }
   ],
   "source": [
    "X_ = df[['title', 'text','subtitle', 'author_followers', 'publication', 'number_of_words', 'day_of_the_week', 'polarity', 'subjectivity']]\n",
    "X_ = pd.get_dummies(X_, columns=['publication', 'day_of_the_week', 'subtitle'], drop_first=True)\n",
    "\n",
    "X_.head()"
   ]
  },
  {
   "cell_type": "markdown",
   "id": "6bb533df",
   "metadata": {},
   "source": [
    "------"
   ]
  },
  {
   "cell_type": "markdown",
   "id": "6b067209",
   "metadata": {},
   "source": [
    "### Train test split"
   ]
  },
  {
   "cell_type": "code",
   "execution_count": 215,
   "id": "f6f72c3c",
   "metadata": {
    "ExecuteTime": {
     "end_time": "2022-06-20T07:34:58.527744Z",
     "start_time": "2022-06-20T07:34:58.500449Z"
    }
   },
   "outputs": [
    {
     "name": "stdout",
     "output_type": "stream",
     "text": [
      "(46320, 21)\n",
      "(22815, 21)\n",
      "(46320,)\n",
      "(22815,)\n"
     ]
    }
   ],
   "source": [
    "X_train, X_test, y_train, y_test = train_test_split(X_, y, test_size=0.33, random_state=42, stratify=y)\n",
    "\n",
    "print(X_train.shape)\n",
    "print(X_test.shape)\n",
    "print(y_train.shape)\n",
    "print(y_test.shape)\n"
   ]
  },
  {
   "cell_type": "markdown",
   "id": "36abacbd",
   "metadata": {},
   "source": [
    "### Work on training set"
   ]
  },
  {
   "cell_type": "markdown",
   "id": "efd36fbe",
   "metadata": {},
   "source": [
    "#### Cvec text of training set"
   ]
  },
  {
   "cell_type": "code",
   "execution_count": 216,
   "id": "abcb214b",
   "metadata": {
    "ExecuteTime": {
     "end_time": "2022-06-20T07:36:39.976269Z",
     "start_time": "2022-06-20T07:35:13.880393Z"
    }
   },
   "outputs": [
    {
     "data": {
      "text/plain": [
       "(46320, 1000000)"
      ]
     },
     "execution_count": 216,
     "metadata": {},
     "output_type": "execute_result"
    }
   ],
   "source": [
    "cvec = CountVectorizer(ngram_range=(1,2), max_features=1000000)\n",
    "\n",
    "X_train_text = cvec.fit_transform(X_train.text)\n",
    "X_train_text.shape\n"
   ]
  },
  {
   "cell_type": "markdown",
   "id": "0c092c61",
   "metadata": {},
   "source": [
    "#### Cvec title of training set"
   ]
  },
  {
   "cell_type": "code",
   "execution_count": 217,
   "id": "2531d470",
   "metadata": {
    "ExecuteTime": {
     "end_time": "2022-06-20T07:36:57.199948Z",
     "start_time": "2022-06-20T07:36:56.596731Z"
    }
   },
   "outputs": [
    {
     "data": {
      "text/plain": [
       "(46320, 154499)"
      ]
     },
     "execution_count": 217,
     "metadata": {},
     "output_type": "execute_result"
    }
   ],
   "source": [
    "cvec_2 = CountVectorizer(ngram_range=(1,2))\n",
    "\n",
    "X_train_title = cvec_2.fit_transform(X_train.title)\n",
    "X_train_title.shape\n"
   ]
  },
  {
   "cell_type": "markdown",
   "id": "b6778454",
   "metadata": {},
   "source": [
    "#### Turn remaining columns into sparse matrix form"
   ]
  },
  {
   "cell_type": "code",
   "execution_count": 218,
   "id": "01885a34",
   "metadata": {
    "ExecuteTime": {
     "end_time": "2022-06-20T07:37:12.433091Z",
     "start_time": "2022-06-20T07:37:12.411078Z"
    }
   },
   "outputs": [],
   "source": [
    "train_to_sparse = X_train.drop(['title', 'text'], axis=1)\n",
    "sparse_df_train = scipy.sparse.csr_matrix(train_to_sparse.values)\n"
   ]
  },
  {
   "cell_type": "markdown",
   "id": "dee62f01",
   "metadata": {},
   "source": [
    "#### Merge three train columns together"
   ]
  },
  {
   "cell_type": "code",
   "execution_count": 219,
   "id": "6b103323",
   "metadata": {
    "ExecuteTime": {
     "end_time": "2022-06-20T07:37:28.202373Z",
     "start_time": "2022-06-20T07:37:27.635955Z"
    }
   },
   "outputs": [
    {
     "data": {
      "text/plain": [
       "(46320, 1154518)"
      ]
     },
     "execution_count": 219,
     "metadata": {},
     "output_type": "execute_result"
    }
   ],
   "source": [
    "X_train = scipy.sparse.hstack((X_train_text, X_train_title, sparse_df_train))\n",
    "X_train.shape"
   ]
  },
  {
   "cell_type": "markdown",
   "id": "b366b3f6",
   "metadata": {},
   "source": [
    "-------"
   ]
  },
  {
   "cell_type": "markdown",
   "id": "cf27271c",
   "metadata": {},
   "source": [
    "### Work on test set"
   ]
  },
  {
   "cell_type": "markdown",
   "id": "f57100f8",
   "metadata": {},
   "source": [
    "#### Cvec text of test set"
   ]
  },
  {
   "cell_type": "code",
   "execution_count": 220,
   "id": "c3e9d1bc",
   "metadata": {
    "ExecuteTime": {
     "end_time": "2022-06-20T07:38:06.442432Z",
     "start_time": "2022-06-20T07:37:44.238005Z"
    }
   },
   "outputs": [
    {
     "data": {
      "text/plain": [
       "(22815, 1000000)"
      ]
     },
     "execution_count": 220,
     "metadata": {},
     "output_type": "execute_result"
    }
   ],
   "source": [
    "X_test_text = cvec.transform(X_test.text)\n",
    "X_test_text.shape\n"
   ]
  },
  {
   "cell_type": "markdown",
   "id": "349a6c24",
   "metadata": {},
   "source": [
    "#### Cvec title of test set"
   ]
  },
  {
   "cell_type": "code",
   "execution_count": 221,
   "id": "e1e1032e",
   "metadata": {
    "ExecuteTime": {
     "end_time": "2022-06-20T07:38:22.888448Z",
     "start_time": "2022-06-20T07:38:22.690037Z"
    }
   },
   "outputs": [
    {
     "data": {
      "text/plain": [
       "(22815, 154499)"
      ]
     },
     "execution_count": 221,
     "metadata": {},
     "output_type": "execute_result"
    }
   ],
   "source": [
    "X_test_title = cvec_2.transform(X_test.title)\n",
    "X_test_title.shape\n"
   ]
  },
  {
   "cell_type": "markdown",
   "id": "54e2122b",
   "metadata": {},
   "source": [
    "#### Turn remaining columns into sparse matrix form"
   ]
  },
  {
   "cell_type": "code",
   "execution_count": 222,
   "id": "00c4702e",
   "metadata": {
    "ExecuteTime": {
     "end_time": "2022-06-20T07:38:38.115447Z",
     "start_time": "2022-06-20T07:38:38.104413Z"
    }
   },
   "outputs": [],
   "source": [
    "test_to_sparse = X_test.drop(['title', 'text'], axis=1)\n",
    "sparse_df_test = scipy.sparse.csr_matrix(test_to_sparse.values)\n"
   ]
  },
  {
   "cell_type": "markdown",
   "id": "9d388bc7",
   "metadata": {},
   "source": [
    "#### Merge three train columns together"
   ]
  },
  {
   "cell_type": "code",
   "execution_count": 223,
   "id": "9427b462",
   "metadata": {
    "ExecuteTime": {
     "end_time": "2022-06-20T07:38:53.284819Z",
     "start_time": "2022-06-20T07:38:53.126655Z"
    }
   },
   "outputs": [
    {
     "data": {
      "text/plain": [
       "(22815, 1154518)"
      ]
     },
     "execution_count": 223,
     "metadata": {},
     "output_type": "execute_result"
    }
   ],
   "source": [
    "X_test = scipy.sparse.hstack((X_test_text, X_test_title, sparse_df_test))\n",
    "X_test.shape\n"
   ]
  },
  {
   "cell_type": "code",
   "execution_count": 224,
   "id": "0de3aa65",
   "metadata": {
    "ExecuteTime": {
     "end_time": "2022-06-20T07:39:09.072834Z",
     "start_time": "2022-06-20T07:39:09.070886Z"
    }
   },
   "outputs": [
    {
     "name": "stdout",
     "output_type": "stream",
     "text": [
      "(46320, 1154518)\n",
      "(22815, 1154518)\n"
     ]
    }
   ],
   "source": [
    "print(X_train.shape)\n",
    "print(X_test.shape)\n"
   ]
  },
  {
   "cell_type": "markdown",
   "id": "f5bc9fa2",
   "metadata": {},
   "source": [
    "Adding the string title to each of the token feature names of the title column so that they can be distinguished from the text tokens when interpreting coefficients and feature importance"
   ]
  },
  {
   "cell_type": "code",
   "execution_count": 225,
   "id": "fa3cdc1d",
   "metadata": {
    "ExecuteTime": {
     "end_time": "2022-06-20T07:39:24.202555Z",
     "start_time": "2022-06-20T07:39:24.045519Z"
    }
   },
   "outputs": [
    {
     "data": {
      "text/plain": [
       "['aaa (Title)',\n",
       " 'aaa dilemma (Title)',\n",
       " 'aaa game (Title)',\n",
       " 'aaa testing (Title)',\n",
       " 'aadhaar (Title)',\n",
       " 'aadhaar website (Title)',\n",
       " 'aamas (Title)',\n",
       " 'aamas free (Title)',\n",
       " 'aapl (Title)',\n",
       " 'aapl record (Title)']"
      ]
     },
     "execution_count": 225,
     "metadata": {},
     "output_type": "execute_result"
    }
   ],
   "source": [
    "title_feature_names = [token + ' (Title)' for token in cvec_2.get_feature_names()]\n",
    "title_feature_names[:10]\n"
   ]
  },
  {
   "cell_type": "code",
   "execution_count": 226,
   "id": "44731099",
   "metadata": {
    "ExecuteTime": {
     "end_time": "2022-06-20T07:39:41.243226Z",
     "start_time": "2022-06-20T07:39:39.791834Z"
    }
   },
   "outputs": [],
   "source": [
    "feature_names = cvec.get_feature_names() + title_feature_names + list(train_to_sparse.columns)\n"
   ]
  },
  {
   "cell_type": "markdown",
   "id": "e418b265",
   "metadata": {},
   "source": [
    "## Modelling"
   ]
  },
  {
   "cell_type": "markdown",
   "id": "5602d5ea",
   "metadata": {},
   "source": [
    "### Logistic Regression"
   ]
  },
  {
   "cell_type": "code",
   "execution_count": 227,
   "id": "1615b8a5",
   "metadata": {
    "ExecuteTime": {
     "end_time": "2022-06-20T09:05:18.003496Z",
     "start_time": "2022-06-20T07:40:00.247764Z"
    },
    "scrolled": true
   },
   "outputs": [
    {
     "name": "stderr",
     "output_type": "stream",
     "text": [
      "/Users/ariklevy/opt/anaconda3/lib/python3.9/site-packages/sklearn/linear_model/_logistic.py:763: ConvergenceWarning: lbfgs failed to converge (status=1):\n",
      "STOP: TOTAL NO. of ITERATIONS REACHED LIMIT.\n",
      "\n",
      "Increase the number of iterations (max_iter) or scale the data as shown in:\n",
      "    https://scikit-learn.org/stable/modules/preprocessing.html\n",
      "Please also refer to the documentation for alternative solver options:\n",
      "    https://scikit-learn.org/stable/modules/linear_model.html#logistic-regression\n",
      "  n_iter_i = _check_optimize_result(\n",
      "/Users/ariklevy/opt/anaconda3/lib/python3.9/site-packages/sklearn/linear_model/_logistic.py:763: ConvergenceWarning: lbfgs failed to converge (status=1):\n",
      "STOP: TOTAL NO. of ITERATIONS REACHED LIMIT.\n",
      "\n",
      "Increase the number of iterations (max_iter) or scale the data as shown in:\n",
      "    https://scikit-learn.org/stable/modules/preprocessing.html\n",
      "Please also refer to the documentation for alternative solver options:\n",
      "    https://scikit-learn.org/stable/modules/linear_model.html#logistic-regression\n",
      "  n_iter_i = _check_optimize_result(\n",
      "/Users/ariklevy/opt/anaconda3/lib/python3.9/site-packages/sklearn/linear_model/_logistic.py:763: ConvergenceWarning: lbfgs failed to converge (status=1):\n",
      "STOP: TOTAL NO. of ITERATIONS REACHED LIMIT.\n",
      "\n",
      "Increase the number of iterations (max_iter) or scale the data as shown in:\n",
      "    https://scikit-learn.org/stable/modules/preprocessing.html\n",
      "Please also refer to the documentation for alternative solver options:\n",
      "    https://scikit-learn.org/stable/modules/linear_model.html#logistic-regression\n",
      "  n_iter_i = _check_optimize_result(\n",
      "/Users/ariklevy/opt/anaconda3/lib/python3.9/site-packages/sklearn/linear_model/_logistic.py:763: ConvergenceWarning: lbfgs failed to converge (status=1):\n",
      "STOP: TOTAL NO. of ITERATIONS REACHED LIMIT.\n",
      "\n",
      "Increase the number of iterations (max_iter) or scale the data as shown in:\n",
      "    https://scikit-learn.org/stable/modules/preprocessing.html\n",
      "Please also refer to the documentation for alternative solver options:\n",
      "    https://scikit-learn.org/stable/modules/linear_model.html#logistic-regression\n",
      "  n_iter_i = _check_optimize_result(\n",
      "/Users/ariklevy/opt/anaconda3/lib/python3.9/site-packages/sklearn/linear_model/_logistic.py:763: ConvergenceWarning: lbfgs failed to converge (status=1):\n",
      "STOP: TOTAL NO. of ITERATIONS REACHED LIMIT.\n",
      "\n",
      "Increase the number of iterations (max_iter) or scale the data as shown in:\n",
      "    https://scikit-learn.org/stable/modules/preprocessing.html\n",
      "Please also refer to the documentation for alternative solver options:\n",
      "    https://scikit-learn.org/stable/modules/linear_model.html#logistic-regression\n",
      "  n_iter_i = _check_optimize_result(\n",
      "/Users/ariklevy/opt/anaconda3/lib/python3.9/site-packages/sklearn/linear_model/_logistic.py:763: ConvergenceWarning: lbfgs failed to converge (status=1):\n",
      "STOP: TOTAL NO. of ITERATIONS REACHED LIMIT.\n",
      "\n",
      "Increase the number of iterations (max_iter) or scale the data as shown in:\n",
      "    https://scikit-learn.org/stable/modules/preprocessing.html\n",
      "Please also refer to the documentation for alternative solver options:\n",
      "    https://scikit-learn.org/stable/modules/linear_model.html#logistic-regression\n",
      "  n_iter_i = _check_optimize_result(\n"
     ]
    },
    {
     "name": "stdout",
     "output_type": "stream",
     "text": [
      "Training Score: 0.9924006908462867\n",
      "Test Score: 0.6443129520052597\n",
      "Cross Validation Score: [0.63903282 0.63655009 0.63935665 0.64108377 0.63892487]\n",
      "Mean cross Validation Score: 0.6389896373056996\n",
      "Standard Deviation of Cross Validation Score: 0.0014475867542521836\n"
     ]
    }
   ],
   "source": [
    "log_model = LogisticRegression(n_jobs=7, max_iter=5000)\n",
    "log_model.fit(X_train, y_train)\n",
    "\n",
    "cv = cross_val_score(log_model, X_train, y_train, cv=5)\n",
    "\n",
    "print('Training Score:', log_model.score(X_train, y_train))\n",
    "print('Test Score:',log_model.score(X_test, y_test))\n",
    "print('Cross Validation Score:', cv)\n",
    "print('Mean cross Validation Score:',cv.mean())\n",
    "print('Standard Deviation of Cross Validation Score:',cv.std())\n"
   ]
  },
  {
   "cell_type": "markdown",
   "id": "a8bc07c7",
   "metadata": {},
   "source": [
    "#### Model Coefficients"
   ]
  },
  {
   "cell_type": "markdown",
   "id": "b5cae171",
   "metadata": {},
   "source": [
    "Extracting the absolute value of all the coefficients so we know how much of an influence they have on the target, whether positive or negative."
   ]
  },
  {
   "cell_type": "code",
   "execution_count": 228,
   "id": "055d6878",
   "metadata": {
    "ExecuteTime": {
     "end_time": "2022-06-20T09:05:43.952842Z",
     "start_time": "2022-06-20T09:05:43.586751Z"
    }
   },
   "outputs": [],
   "source": [
    "log_coef = log_model.coef_[0]\n",
    "\n",
    "effect = []\n",
    "for item in log_coef:\n",
    "    if item >0:\n",
    "        effect.append('Positive')\n",
    "    elif item < 0:\n",
    "        effect.append('Negative')\n",
    "    else:\n",
    "        effect.append('No Effect')\n",
    "        \n",
    "absolute_values = np.absolute(log_coef)\n"
   ]
  },
  {
   "cell_type": "code",
   "execution_count": 229,
   "id": "fc0667e3",
   "metadata": {
    "ExecuteTime": {
     "end_time": "2022-06-20T09:06:05.189221Z",
     "start_time": "2022-06-20T09:06:05.186330Z"
    }
   },
   "outputs": [
    {
     "data": {
      "text/plain": [
       "1154518"
      ]
     },
     "execution_count": 229,
     "metadata": {},
     "output_type": "execute_result"
    }
   ],
   "source": [
    "len(feature_names)"
   ]
  },
  {
   "cell_type": "code",
   "execution_count": 230,
   "id": "a80dbf18",
   "metadata": {
    "ExecuteTime": {
     "end_time": "2022-06-20T09:06:25.033143Z",
     "start_time": "2022-06-20T09:06:25.029901Z"
    }
   },
   "outputs": [
    {
     "data": {
      "text/plain": [
       "1154518"
      ]
     },
     "execution_count": 230,
     "metadata": {},
     "output_type": "execute_result"
    }
   ],
   "source": [
    "len(absolute_values)"
   ]
  },
  {
   "cell_type": "code",
   "execution_count": 240,
   "id": "e22a346d",
   "metadata": {
    "ExecuteTime": {
     "end_time": "2022-06-20T09:10:41.723521Z",
     "start_time": "2022-06-20T09:10:41.250983Z"
    }
   },
   "outputs": [
    {
     "data": {
      "text/html": [
       "<div>\n",
       "<style scoped>\n",
       "    .dataframe tbody tr th:only-of-type {\n",
       "        vertical-align: middle;\n",
       "    }\n",
       "\n",
       "    .dataframe tbody tr th {\n",
       "        vertical-align: top;\n",
       "    }\n",
       "\n",
       "    .dataframe thead th {\n",
       "        text-align: right;\n",
       "    }\n",
       "</style>\n",
       "<table border=\"1\" class=\"dataframe\">\n",
       "  <thead>\n",
       "    <tr style=\"text-align: right;\">\n",
       "      <th></th>\n",
       "      <th>feature_names</th>\n",
       "      <th>absolute_coefs</th>\n",
       "      <th>effect</th>\n",
       "    </tr>\n",
       "  </thead>\n",
       "  <tbody>\n",
       "    <tr>\n",
       "      <th>1154503</th>\n",
       "      <td>publication_better-marketing</td>\n",
       "      <td>4.147400</td>\n",
       "      <td>Positive</td>\n",
       "    </tr>\n",
       "    <tr>\n",
       "      <th>1154508</th>\n",
       "      <td>publication_towardsdatascience</td>\n",
       "      <td>2.603390</td>\n",
       "      <td>Negative</td>\n",
       "    </tr>\n",
       "    <tr>\n",
       "      <th>1154504</th>\n",
       "      <td>publication_datadriveninvestor</td>\n",
       "      <td>2.210373</td>\n",
       "      <td>Negative</td>\n",
       "    </tr>\n",
       "    <tr>\n",
       "      <th>150601</th>\n",
       "      <td>commerce</td>\n",
       "      <td>1.274212</td>\n",
       "      <td>Negative</td>\n",
       "    </tr>\n",
       "    <tr>\n",
       "      <th>1154507</th>\n",
       "      <td>publication_the-mission</td>\n",
       "      <td>1.146993</td>\n",
       "      <td>Negative</td>\n",
       "    </tr>\n",
       "    <tr>\n",
       "      <th>1154506</th>\n",
       "      <td>publication_swlh</td>\n",
       "      <td>1.107102</td>\n",
       "      <td>Negative</td>\n",
       "    </tr>\n",
       "    <tr>\n",
       "      <th>1107396</th>\n",
       "      <td>python (Title)</td>\n",
       "      <td>1.036517</td>\n",
       "      <td>Positive</td>\n",
       "    </tr>\n",
       "    <tr>\n",
       "      <th>1154517</th>\n",
       "      <td>subtitle_1</td>\n",
       "      <td>0.907119</td>\n",
       "      <td>Positive</td>\n",
       "    </tr>\n",
       "    <tr>\n",
       "      <th>576360</th>\n",
       "      <td>next commerce</td>\n",
       "      <td>0.873198</td>\n",
       "      <td>Negative</td>\n",
       "    </tr>\n",
       "    <tr>\n",
       "      <th>799530</th>\n",
       "      <td>sklar</td>\n",
       "      <td>0.840535</td>\n",
       "      <td>Negative</td>\n",
       "    </tr>\n",
       "    <tr>\n",
       "      <th>901432</th>\n",
       "      <td>training dataset</td>\n",
       "      <td>0.813509</td>\n",
       "      <td>Negative</td>\n",
       "    </tr>\n",
       "    <tr>\n",
       "      <th>641378</th>\n",
       "      <td>pickle</td>\n",
       "      <td>0.766312</td>\n",
       "      <td>Positive</td>\n",
       "    </tr>\n",
       "    <tr>\n",
       "      <th>995293</th>\n",
       "      <td>yearold</td>\n",
       "      <td>0.748435</td>\n",
       "      <td>Positive</td>\n",
       "    </tr>\n",
       "    <tr>\n",
       "      <th>241175</th>\n",
       "      <td>dilemma</td>\n",
       "      <td>0.745686</td>\n",
       "      <td>Negative</td>\n",
       "    </tr>\n",
       "    <tr>\n",
       "      <th>491095</th>\n",
       "      <td>literacy</td>\n",
       "      <td>0.739712</td>\n",
       "      <td>Negative</td>\n",
       "    </tr>\n",
       "    <tr>\n",
       "      <th>415437</th>\n",
       "      <td>implies</td>\n",
       "      <td>0.728977</td>\n",
       "      <td>Positive</td>\n",
       "    </tr>\n",
       "    <tr>\n",
       "      <th>133641</th>\n",
       "      <td>clap</td>\n",
       "      <td>0.715591</td>\n",
       "      <td>Positive</td>\n",
       "    </tr>\n",
       "    <tr>\n",
       "      <th>775205</th>\n",
       "      <td>sensitivity</td>\n",
       "      <td>0.713697</td>\n",
       "      <td>Negative</td>\n",
       "    </tr>\n",
       "    <tr>\n",
       "      <th>72903</th>\n",
       "      <td>baseball</td>\n",
       "      <td>0.712809</td>\n",
       "      <td>Negative</td>\n",
       "    </tr>\n",
       "    <tr>\n",
       "      <th>449785</th>\n",
       "      <td>joining</td>\n",
       "      <td>0.703429</td>\n",
       "      <td>Positive</td>\n",
       "    </tr>\n",
       "    <tr>\n",
       "      <th>665067</th>\n",
       "      <td>prefect</td>\n",
       "      <td>0.695296</td>\n",
       "      <td>Positive</td>\n",
       "    </tr>\n",
       "    <tr>\n",
       "      <th>1154505</th>\n",
       "      <td>publication_startup-grind</td>\n",
       "      <td>0.692207</td>\n",
       "      <td>Negative</td>\n",
       "    </tr>\n",
       "    <tr>\n",
       "      <th>2307</th>\n",
       "      <td>acceleration</td>\n",
       "      <td>0.691753</td>\n",
       "      <td>Positive</td>\n",
       "    </tr>\n",
       "    <tr>\n",
       "      <th>1097528</th>\n",
       "      <td>part (Title)</td>\n",
       "      <td>0.683171</td>\n",
       "      <td>Negative</td>\n",
       "    </tr>\n",
       "    <tr>\n",
       "      <th>423732</th>\n",
       "      <td>indicating</td>\n",
       "      <td>0.675813</td>\n",
       "      <td>Negative</td>\n",
       "    </tr>\n",
       "    <tr>\n",
       "      <th>325859</th>\n",
       "      <td>flink</td>\n",
       "      <td>0.673615</td>\n",
       "      <td>Negative</td>\n",
       "    </tr>\n",
       "    <tr>\n",
       "      <th>404500</th>\n",
       "      <td>hyland</td>\n",
       "      <td>0.665301</td>\n",
       "      <td>Negative</td>\n",
       "    </tr>\n",
       "    <tr>\n",
       "      <th>686464</th>\n",
       "      <td>provided author</td>\n",
       "      <td>0.659989</td>\n",
       "      <td>Positive</td>\n",
       "    </tr>\n",
       "    <tr>\n",
       "      <th>731690</th>\n",
       "      <td>resident</td>\n",
       "      <td>0.651930</td>\n",
       "      <td>Negative</td>\n",
       "    </tr>\n",
       "    <tr>\n",
       "      <th>385785</th>\n",
       "      <td>health data</td>\n",
       "      <td>0.650489</td>\n",
       "      <td>Positive</td>\n",
       "    </tr>\n",
       "  </tbody>\n",
       "</table>\n",
       "</div>"
      ],
      "text/plain": [
       "                          feature_names  absolute_coefs    effect\n",
       "1154503    publication_better-marketing        4.147400  Positive\n",
       "1154508  publication_towardsdatascience        2.603390  Negative\n",
       "1154504  publication_datadriveninvestor        2.210373  Negative\n",
       "150601                         commerce        1.274212  Negative\n",
       "1154507         publication_the-mission        1.146993  Negative\n",
       "1154506                publication_swlh        1.107102  Negative\n",
       "1107396                  python (Title)        1.036517  Positive\n",
       "1154517                      subtitle_1        0.907119  Positive\n",
       "576360                    next commerce        0.873198  Negative\n",
       "799530                            sklar        0.840535  Negative\n",
       "901432                 training dataset        0.813509  Negative\n",
       "641378                           pickle        0.766312  Positive\n",
       "995293                          yearold        0.748435  Positive\n",
       "241175                          dilemma        0.745686  Negative\n",
       "491095                         literacy        0.739712  Negative\n",
       "415437                          implies        0.728977  Positive\n",
       "133641                             clap        0.715591  Positive\n",
       "775205                      sensitivity        0.713697  Negative\n",
       "72903                          baseball        0.712809  Negative\n",
       "449785                          joining        0.703429  Positive\n",
       "665067                          prefect        0.695296  Positive\n",
       "1154505       publication_startup-grind        0.692207  Negative\n",
       "2307                       acceleration        0.691753  Positive\n",
       "1097528                    part (Title)        0.683171  Negative\n",
       "423732                       indicating        0.675813  Negative\n",
       "325859                            flink        0.673615  Negative\n",
       "404500                           hyland        0.665301  Negative\n",
       "686464                  provided author        0.659989  Positive\n",
       "731690                         resident        0.651930  Negative\n",
       "385785                      health data        0.650489  Positive"
      ]
     },
     "execution_count": 240,
     "metadata": {},
     "output_type": "execute_result"
    }
   ],
   "source": [
    "dict_features = {'feature_names': feature_names, 'absolute_coefs': absolute_values, 'effect':effect}\n",
    "log_coefs_absolute = pd.DataFrame(dict_features).sort_values('absolute_coefs', ascending=False).head(30)\n",
    "log_coefs_absolute"
   ]
  },
  {
   "cell_type": "markdown",
   "id": "3da2596b",
   "metadata": {},
   "source": [
    "<div class=\"girk\">\n",
    "The coefficients of a logistic model \n",
    "</div><i class=\"fa fa-lightbulb-o \"></i>"
   ]
  },
  {
   "cell_type": "code",
   "execution_count": 245,
   "id": "fa0c0880",
   "metadata": {
    "ExecuteTime": {
     "end_time": "2022-06-20T09:14:01.959672Z",
     "start_time": "2022-06-20T09:14:01.739386Z"
    }
   },
   "outputs": [
    {
     "data": {
      "image/png": "[encoded data removed]",
      "text/plain": [
       "<Figure size 720x720 with 1 Axes>"
      ]
     },
     "metadata": {
      "needs_background": "light"
     },
     "output_type": "display_data"
    }
   ],
   "source": [
    "plt.figure(figsize=(10,10))\n",
    "sns.barplot(x='absolute_coefs', y='feature_names', data=log_coefs_absolute);\n",
    "plt.title('Model Coefficients Head')\n",
    "plt.show()"
   ]
  },
  {
   "cell_type": "markdown",
   "id": "78aa9e65",
   "metadata": {},
   "source": [
    "--------"
   ]
  },
  {
   "cell_type": "markdown",
   "id": "a5f8c1c3",
   "metadata": {},
   "source": [
    "### Logistic Regression - Grid Search"
   ]
  },
  {
   "cell_type": "markdown",
   "id": "7382fea7",
   "metadata": {},
   "source": [
    "'saga' solver works faster for large datasets and also can be used in conjunction with l1 and l2 penalties"
   ]
  },
  {
   "cell_type": "code",
   "execution_count": 202,
   "id": "a973ec6d",
   "metadata": {
    "ExecuteTime": {
     "end_time": "2022-06-19T07:25:51.683636Z",
     "start_time": "2022-06-18T14:27:41.497982Z"
    },
    "scrolled": true
   },
   "outputs": [
    {
     "name": "stdout",
     "output_type": "stream",
     "text": [
      "Fitting 5 folds for each of 14 candidates, totalling 70 fits\n"
     ]
    },
    {
     "name": "stderr",
     "output_type": "stream",
     "text": [
      "/Users/ariklevy/opt/anaconda3/lib/python3.9/site-packages/sklearn/linear_model/_sag.py:328: ConvergenceWarning: The max_iter was reached which means the coef_ did not converge\n",
      "  warnings.warn(\"The max_iter was reached which means \"\n",
      "/Users/ariklevy/opt/anaconda3/lib/python3.9/site-packages/sklearn/linear_model/_sag.py:328: ConvergenceWarning: The max_iter was reached which means the coef_ did not converge\n",
      "  warnings.warn(\"The max_iter was reached which means \"\n",
      "/Users/ariklevy/opt/anaconda3/lib/python3.9/site-packages/sklearn/linear_model/_sag.py:328: ConvergenceWarning: The max_iter was reached which means the coef_ did not converge\n",
      "  warnings.warn(\"The max_iter was reached which means \"\n",
      "/Users/ariklevy/opt/anaconda3/lib/python3.9/site-packages/sklearn/linear_model/_sag.py:328: ConvergenceWarning: The max_iter was reached which means the coef_ did not converge\n",
      "  warnings.warn(\"The max_iter was reached which means \"\n",
      "/Users/ariklevy/opt/anaconda3/lib/python3.9/site-packages/sklearn/linear_model/_sag.py:328: ConvergenceWarning: The max_iter was reached which means the coef_ did not converge\n",
      "  warnings.warn(\"The max_iter was reached which means \"\n",
      "/Users/ariklevy/opt/anaconda3/lib/python3.9/site-packages/sklearn/linear_model/_sag.py:328: ConvergenceWarning: The max_iter was reached which means the coef_ did not converge\n",
      "  warnings.warn(\"The max_iter was reached which means \"\n",
      "/Users/ariklevy/opt/anaconda3/lib/python3.9/site-packages/sklearn/linear_model/_sag.py:328: ConvergenceWarning: The max_iter was reached which means the coef_ did not converge\n",
      "  warnings.warn(\"The max_iter was reached which means \"\n",
      "/Users/ariklevy/opt/anaconda3/lib/python3.9/site-packages/sklearn/linear_model/_sag.py:328: ConvergenceWarning: The max_iter was reached which means the coef_ did not converge\n",
      "  warnings.warn(\"The max_iter was reached which means \"\n",
      "/Users/ariklevy/opt/anaconda3/lib/python3.9/site-packages/sklearn/linear_model/_sag.py:328: ConvergenceWarning: The max_iter was reached which means the coef_ did not converge\n",
      "  warnings.warn(\"The max_iter was reached which means \"\n",
      "/Users/ariklevy/opt/anaconda3/lib/python3.9/site-packages/sklearn/linear_model/_sag.py:328: ConvergenceWarning: The max_iter was reached which means the coef_ did not converge\n",
      "  warnings.warn(\"The max_iter was reached which means \"\n",
      "/Users/ariklevy/opt/anaconda3/lib/python3.9/site-packages/sklearn/linear_model/_sag.py:328: ConvergenceWarning: The max_iter was reached which means the coef_ did not converge\n",
      "  warnings.warn(\"The max_iter was reached which means \"\n",
      "/Users/ariklevy/opt/anaconda3/lib/python3.9/site-packages/sklearn/linear_model/_sag.py:328: ConvergenceWarning: The max_iter was reached which means the coef_ did not converge\n",
      "  warnings.warn(\"The max_iter was reached which means \"\n",
      "/Users/ariklevy/opt/anaconda3/lib/python3.9/site-packages/sklearn/linear_model/_sag.py:328: ConvergenceWarning: The max_iter was reached which means the coef_ did not converge\n",
      "  warnings.warn(\"The max_iter was reached which means \"\n",
      "/Users/ariklevy/opt/anaconda3/lib/python3.9/site-packages/sklearn/linear_model/_sag.py:328: ConvergenceWarning: The max_iter was reached which means the coef_ did not converge\n",
      "  warnings.warn(\"The max_iter was reached which means \"\n",
      "/Users/ariklevy/opt/anaconda3/lib/python3.9/site-packages/sklearn/linear_model/_sag.py:328: ConvergenceWarning: The max_iter was reached which means the coef_ did not converge\n",
      "  warnings.warn(\"The max_iter was reached which means \"\n",
      "/Users/ariklevy/opt/anaconda3/lib/python3.9/site-packages/sklearn/linear_model/_sag.py:328: ConvergenceWarning: The max_iter was reached which means the coef_ did not converge\n",
      "  warnings.warn(\"The max_iter was reached which means \"\n",
      "/Users/ariklevy/opt/anaconda3/lib/python3.9/site-packages/sklearn/linear_model/_sag.py:328: ConvergenceWarning: The max_iter was reached which means the coef_ did not converge\n",
      "  warnings.warn(\"The max_iter was reached which means \"\n",
      "/Users/ariklevy/opt/anaconda3/lib/python3.9/site-packages/sklearn/linear_model/_sag.py:328: ConvergenceWarning: The max_iter was reached which means the coef_ did not converge\n",
      "  warnings.warn(\"The max_iter was reached which means \"\n",
      "/Users/ariklevy/opt/anaconda3/lib/python3.9/site-packages/sklearn/linear_model/_sag.py:328: ConvergenceWarning: The max_iter was reached which means the coef_ did not converge\n",
      "  warnings.warn(\"The max_iter was reached which means \"\n",
      "/Users/ariklevy/opt/anaconda3/lib/python3.9/site-packages/sklearn/linear_model/_sag.py:328: ConvergenceWarning: The max_iter was reached which means the coef_ did not converge\n",
      "  warnings.warn(\"The max_iter was reached which means \"\n",
      "/Users/ariklevy/opt/anaconda3/lib/python3.9/site-packages/sklearn/linear_model/_sag.py:328: ConvergenceWarning: The max_iter was reached which means the coef_ did not converge\n",
      "  warnings.warn(\"The max_iter was reached which means \"\n",
      "/Users/ariklevy/opt/anaconda3/lib/python3.9/site-packages/sklearn/linear_model/_sag.py:328: ConvergenceWarning: The max_iter was reached which means the coef_ did not converge\n",
      "  warnings.warn(\"The max_iter was reached which means \"\n",
      "/Users/ariklevy/opt/anaconda3/lib/python3.9/site-packages/sklearn/linear_model/_sag.py:328: ConvergenceWarning: The max_iter was reached which means the coef_ did not converge\n",
      "  warnings.warn(\"The max_iter was reached which means \"\n",
      "/Users/ariklevy/opt/anaconda3/lib/python3.9/site-packages/sklearn/linear_model/_sag.py:328: ConvergenceWarning: The max_iter was reached which means the coef_ did not converge\n",
      "  warnings.warn(\"The max_iter was reached which means \"\n",
      "/Users/ariklevy/opt/anaconda3/lib/python3.9/site-packages/sklearn/linear_model/_sag.py:328: ConvergenceWarning: The max_iter was reached which means the coef_ did not converge\n",
      "  warnings.warn(\"The max_iter was reached which means \"\n",
      "/Users/ariklevy/opt/anaconda3/lib/python3.9/site-packages/sklearn/linear_model/_sag.py:328: ConvergenceWarning: The max_iter was reached which means the coef_ did not converge\n",
      "  warnings.warn(\"The max_iter was reached which means \"\n",
      "/Users/ariklevy/opt/anaconda3/lib/python3.9/site-packages/sklearn/linear_model/_sag.py:328: ConvergenceWarning: The max_iter was reached which means the coef_ did not converge\n",
      "  warnings.warn(\"The max_iter was reached which means \"\n",
      "/Users/ariklevy/opt/anaconda3/lib/python3.9/site-packages/sklearn/linear_model/_sag.py:328: ConvergenceWarning: The max_iter was reached which means the coef_ did not converge\n",
      "  warnings.warn(\"The max_iter was reached which means \"\n",
      "/Users/ariklevy/opt/anaconda3/lib/python3.9/site-packages/sklearn/linear_model/_sag.py:328: ConvergenceWarning: The max_iter was reached which means the coef_ did not converge\n",
      "  warnings.warn(\"The max_iter was reached which means \"\n",
      "/Users/ariklevy/opt/anaconda3/lib/python3.9/site-packages/sklearn/linear_model/_sag.py:328: ConvergenceWarning: The max_iter was reached which means the coef_ did not converge\n",
      "  warnings.warn(\"The max_iter was reached which means \"\n",
      "/Users/ariklevy/opt/anaconda3/lib/python3.9/site-packages/sklearn/linear_model/_sag.py:328: ConvergenceWarning: The max_iter was reached which means the coef_ did not converge\n",
      "  warnings.warn(\"The max_iter was reached which means \"\n",
      "/Users/ariklevy/opt/anaconda3/lib/python3.9/site-packages/sklearn/linear_model/_sag.py:328: ConvergenceWarning: The max_iter was reached which means the coef_ did not converge\n",
      "  warnings.warn(\"The max_iter was reached which means \"\n",
      "/Users/ariklevy/opt/anaconda3/lib/python3.9/site-packages/sklearn/linear_model/_sag.py:328: ConvergenceWarning: The max_iter was reached which means the coef_ did not converge\n",
      "  warnings.warn(\"The max_iter was reached which means \"\n",
      "/Users/ariklevy/opt/anaconda3/lib/python3.9/site-packages/sklearn/linear_model/_sag.py:328: ConvergenceWarning: The max_iter was reached which means the coef_ did not converge\n",
      "  warnings.warn(\"The max_iter was reached which means \"\n",
      "/Users/ariklevy/opt/anaconda3/lib/python3.9/site-packages/sklearn/linear_model/_sag.py:328: ConvergenceWarning: The max_iter was reached which means the coef_ did not converge\n",
      "  warnings.warn(\"The max_iter was reached which means \"\n",
      "/Users/ariklevy/opt/anaconda3/lib/python3.9/site-packages/sklearn/linear_model/_sag.py:328: ConvergenceWarning: The max_iter was reached which means the coef_ did not converge\n",
      "  warnings.warn(\"The max_iter was reached which means \"\n"
     ]
    },
    {
     "name": "stderr",
     "output_type": "stream",
     "text": [
      "/Users/ariklevy/opt/anaconda3/lib/python3.9/site-packages/sklearn/linear_model/_sag.py:328: ConvergenceWarning: The max_iter was reached which means the coef_ did not converge\n",
      "  warnings.warn(\"The max_iter was reached which means \"\n",
      "/Users/ariklevy/opt/anaconda3/lib/python3.9/site-packages/sklearn/linear_model/_sag.py:328: ConvergenceWarning: The max_iter was reached which means the coef_ did not converge\n",
      "  warnings.warn(\"The max_iter was reached which means \"\n",
      "/Users/ariklevy/opt/anaconda3/lib/python3.9/site-packages/sklearn/linear_model/_sag.py:328: ConvergenceWarning: The max_iter was reached which means the coef_ did not converge\n",
      "  warnings.warn(\"The max_iter was reached which means \"\n",
      "/Users/ariklevy/opt/anaconda3/lib/python3.9/site-packages/sklearn/linear_model/_sag.py:328: ConvergenceWarning: The max_iter was reached which means the coef_ did not converge\n",
      "  warnings.warn(\"The max_iter was reached which means \"\n",
      "/Users/ariklevy/opt/anaconda3/lib/python3.9/site-packages/sklearn/linear_model/_sag.py:328: ConvergenceWarning: The max_iter was reached which means the coef_ did not converge\n",
      "  warnings.warn(\"The max_iter was reached which means \"\n",
      "/Users/ariklevy/opt/anaconda3/lib/python3.9/site-packages/sklearn/linear_model/_sag.py:328: ConvergenceWarning: The max_iter was reached which means the coef_ did not converge\n",
      "  warnings.warn(\"The max_iter was reached which means \"\n",
      "/Users/ariklevy/opt/anaconda3/lib/python3.9/site-packages/sklearn/linear_model/_sag.py:328: ConvergenceWarning: The max_iter was reached which means the coef_ did not converge\n",
      "  warnings.warn(\"The max_iter was reached which means \"\n",
      "/Users/ariklevy/opt/anaconda3/lib/python3.9/site-packages/sklearn/linear_model/_sag.py:328: ConvergenceWarning: The max_iter was reached which means the coef_ did not converge\n",
      "  warnings.warn(\"The max_iter was reached which means \"\n",
      "/Users/ariklevy/opt/anaconda3/lib/python3.9/site-packages/sklearn/linear_model/_sag.py:328: ConvergenceWarning: The max_iter was reached which means the coef_ did not converge\n",
      "  warnings.warn(\"The max_iter was reached which means \"\n",
      "/Users/ariklevy/opt/anaconda3/lib/python3.9/site-packages/sklearn/linear_model/_sag.py:328: ConvergenceWarning: The max_iter was reached which means the coef_ did not converge\n",
      "  warnings.warn(\"The max_iter was reached which means \"\n",
      "/Users/ariklevy/opt/anaconda3/lib/python3.9/site-packages/sklearn/linear_model/_sag.py:328: ConvergenceWarning: The max_iter was reached which means the coef_ did not converge\n",
      "  warnings.warn(\"The max_iter was reached which means \"\n",
      "/Users/ariklevy/opt/anaconda3/lib/python3.9/site-packages/sklearn/linear_model/_sag.py:328: ConvergenceWarning: The max_iter was reached which means the coef_ did not converge\n",
      "  warnings.warn(\"The max_iter was reached which means \"\n",
      "/Users/ariklevy/opt/anaconda3/lib/python3.9/site-packages/sklearn/linear_model/_sag.py:328: ConvergenceWarning: The max_iter was reached which means the coef_ did not converge\n",
      "  warnings.warn(\"The max_iter was reached which means \"\n",
      "/Users/ariklevy/opt/anaconda3/lib/python3.9/site-packages/sklearn/linear_model/_sag.py:328: ConvergenceWarning: The max_iter was reached which means the coef_ did not converge\n",
      "  warnings.warn(\"The max_iter was reached which means \"\n",
      "/Users/ariklevy/opt/anaconda3/lib/python3.9/site-packages/sklearn/linear_model/_sag.py:328: ConvergenceWarning: The max_iter was reached which means the coef_ did not converge\n",
      "  warnings.warn(\"The max_iter was reached which means \"\n",
      "/Users/ariklevy/opt/anaconda3/lib/python3.9/site-packages/sklearn/linear_model/_sag.py:328: ConvergenceWarning: The max_iter was reached which means the coef_ did not converge\n",
      "  warnings.warn(\"The max_iter was reached which means \"\n",
      "/Users/ariklevy/opt/anaconda3/lib/python3.9/site-packages/sklearn/linear_model/_sag.py:328: ConvergenceWarning: The max_iter was reached which means the coef_ did not converge\n",
      "  warnings.warn(\"The max_iter was reached which means \"\n",
      "/Users/ariklevy/opt/anaconda3/lib/python3.9/site-packages/sklearn/linear_model/_sag.py:328: ConvergenceWarning: The max_iter was reached which means the coef_ did not converge\n",
      "  warnings.warn(\"The max_iter was reached which means \"\n",
      "/Users/ariklevy/opt/anaconda3/lib/python3.9/site-packages/sklearn/linear_model/_sag.py:328: ConvergenceWarning: The max_iter was reached which means the coef_ did not converge\n",
      "  warnings.warn(\"The max_iter was reached which means \"\n",
      "/Users/ariklevy/opt/anaconda3/lib/python3.9/site-packages/sklearn/linear_model/_sag.py:328: ConvergenceWarning: The max_iter was reached which means the coef_ did not converge\n",
      "  warnings.warn(\"The max_iter was reached which means \"\n",
      "/Users/ariklevy/opt/anaconda3/lib/python3.9/site-packages/sklearn/linear_model/_sag.py:328: ConvergenceWarning: The max_iter was reached which means the coef_ did not converge\n",
      "  warnings.warn(\"The max_iter was reached which means \"\n",
      "/Users/ariklevy/opt/anaconda3/lib/python3.9/site-packages/sklearn/linear_model/_sag.py:328: ConvergenceWarning: The max_iter was reached which means the coef_ did not converge\n",
      "  warnings.warn(\"The max_iter was reached which means \"\n",
      "/Users/ariklevy/opt/anaconda3/lib/python3.9/site-packages/sklearn/linear_model/_sag.py:328: ConvergenceWarning: The max_iter was reached which means the coef_ did not converge\n",
      "  warnings.warn(\"The max_iter was reached which means \"\n",
      "/Users/ariklevy/opt/anaconda3/lib/python3.9/site-packages/sklearn/linear_model/_sag.py:328: ConvergenceWarning: The max_iter was reached which means the coef_ did not converge\n",
      "  warnings.warn(\"The max_iter was reached which means \"\n",
      "/Users/ariklevy/opt/anaconda3/lib/python3.9/site-packages/sklearn/linear_model/_sag.py:328: ConvergenceWarning: The max_iter was reached which means the coef_ did not converge\n",
      "  warnings.warn(\"The max_iter was reached which means \"\n",
      "/Users/ariklevy/opt/anaconda3/lib/python3.9/site-packages/sklearn/linear_model/_sag.py:328: ConvergenceWarning: The max_iter was reached which means the coef_ did not converge\n",
      "  warnings.warn(\"The max_iter was reached which means \"\n",
      "/Users/ariklevy/opt/anaconda3/lib/python3.9/site-packages/sklearn/linear_model/_sag.py:328: ConvergenceWarning: The max_iter was reached which means the coef_ did not converge\n",
      "  warnings.warn(\"The max_iter was reached which means \"\n",
      "/Users/ariklevy/opt/anaconda3/lib/python3.9/site-packages/sklearn/linear_model/_sag.py:328: ConvergenceWarning: The max_iter was reached which means the coef_ did not converge\n",
      "  warnings.warn(\"The max_iter was reached which means \"\n",
      "/Users/ariklevy/opt/anaconda3/lib/python3.9/site-packages/sklearn/linear_model/_sag.py:328: ConvergenceWarning: The max_iter was reached which means the coef_ did not converge\n",
      "  warnings.warn(\"The max_iter was reached which means \"\n"
     ]
    },
    {
     "name": "stdout",
     "output_type": "stream",
     "text": [
      "[CV] END ...................C=0.001, penalty=l2, solver=saga; total time= 1.7min\n",
      "[CV] END ....................C=0.01, penalty=l1, solver=saga; total time= 3.5min\n",
      "[CV] END .....................C=0.1, penalty=l2, solver=saga; total time= 1.2min\n",
      "[CV] END ....................C=1.0, penalty=l1, solver=saga; total time=285.6min\n",
      "[CV] END ..................C=100.0, penalty=l1, solver=saga; total time=517.5min\n",
      "[CV] END ..................C=1000.0, penalty=l2, solver=saga; total time= 1.2min\n",
      "[CV] END ...................C=0.001, penalty=l2, solver=saga; total time= 1.7min\n",
      "[CV] END ....................C=0.01, penalty=l1, solver=saga; total time= 2.9min\n",
      "[CV] END .....................C=0.1, penalty=l2, solver=saga; total time= 1.4min\n",
      "[CV] END ....................C=1.0, penalty=l1, solver=saga; total time=285.2min\n",
      "[CV] END ....................C=10.0, penalty=l2, solver=saga; total time= 1.1min\n",
      "[CV] END ..................C=100.0, penalty=l1, solver=saga; total time=517.1min\n",
      "[CV] END ..................C=1000.0, penalty=l2, solver=saga; total time= 1.2min\n",
      "[CV] END ...................C=0.001, penalty=l2, solver=saga; total time= 1.7min\n",
      "[CV] END ....................C=0.01, penalty=l1, solver=saga; total time= 3.1min\n",
      "[CV] END .....................C=0.1, penalty=l2, solver=saga; total time= 1.4min\n",
      "[CV] END ....................C=1.0, penalty=l1, solver=saga; total time=285.4min\n",
      "[CV] END ....................C=10.0, penalty=l2, solver=saga; total time= 1.1min\n",
      "[CV] END ..................C=100.0, penalty=l1, solver=saga; total time=517.1min\n",
      "[CV] END ..................C=1000.0, penalty=l2, solver=saga; total time= 1.1min\n",
      "[CV] END ...................C=0.001, penalty=l2, solver=saga; total time= 1.7min\n",
      "[CV] END ....................C=0.01, penalty=l1, solver=saga; total time= 2.9min\n",
      "[CV] END .....................C=0.1, penalty=l2, solver=saga; total time= 1.4min\n",
      "[CV] END ....................C=1.0, penalty=l1, solver=saga; total time=285.0min\n",
      "[CV] END ....................C=10.0, penalty=l2, solver=saga; total time= 1.1min\n",
      "[CV] END ..................C=100.0, penalty=l1, solver=saga; total time=517.8min\n",
      "[CV] END ..................C=1000.0, penalty=l2, solver=saga; total time= 1.1min\n",
      "[CV] END ...................C=0.001, penalty=l2, solver=saga; total time= 1.7min\n",
      "[CV] END ....................C=0.01, penalty=l1, solver=saga; total time= 2.9min\n",
      "[CV] END .....................C=0.1, penalty=l2, solver=saga; total time= 1.4min\n",
      "[CV] END ....................C=1.0, penalty=l1, solver=saga; total time=284.6min\n",
      "[CV] END ....................C=10.0, penalty=l2, solver=saga; total time=  53.2s\n",
      "[CV] END ....................C=10.0, penalty=l2, solver=saga; total time= 1.1min\n",
      "[CV] END ..................C=100.0, penalty=l1, solver=saga; total time=517.9min\n",
      "[CV] END ..................C=1000.0, penalty=l2, solver=saga; total time=  51.7s\n"
     ]
    },
    {
     "name": "stderr",
     "output_type": "stream",
     "text": [
      "/Users/ariklevy/opt/anaconda3/lib/python3.9/site-packages/sklearn/linear_model/_sag.py:328: ConvergenceWarning: The max_iter was reached which means the coef_ did not converge\n",
      "  warnings.warn(\"The max_iter was reached which means \"\n",
      "/Users/ariklevy/opt/anaconda3/lib/python3.9/site-packages/sklearn/linear_model/_sag.py:328: ConvergenceWarning: The max_iter was reached which means the coef_ did not converge\n",
      "  warnings.warn(\"The max_iter was reached which means \"\n",
      "/Users/ariklevy/opt/anaconda3/lib/python3.9/site-packages/sklearn/linear_model/_sag.py:328: ConvergenceWarning: The max_iter was reached which means the coef_ did not converge\n",
      "  warnings.warn(\"The max_iter was reached which means \"\n",
      "/Users/ariklevy/opt/anaconda3/lib/python3.9/site-packages/sklearn/linear_model/_sag.py:328: ConvergenceWarning: The max_iter was reached which means the coef_ did not converge\n",
      "  warnings.warn(\"The max_iter was reached which means \"\n",
      "/Users/ariklevy/opt/anaconda3/lib/python3.9/site-packages/sklearn/linear_model/_sag.py:328: ConvergenceWarning: The max_iter was reached which means the coef_ did not converge\n",
      "  warnings.warn(\"The max_iter was reached which means \"\n"
     ]
    },
    {
     "name": "stdout",
     "output_type": "stream",
     "text": [
      "Best parameters  {'C': 0.001, 'penalty': 'l1', 'solver': 'saga'}\n",
      "Accuracy : 0.5013169257340242\n"
     ]
    },
    {
     "name": "stderr",
     "output_type": "stream",
     "text": [
      "/Users/ariklevy/opt/anaconda3/lib/python3.9/site-packages/sklearn/linear_model/_sag.py:328: ConvergenceWarning: The max_iter was reached which means the coef_ did not converge\n",
      "  warnings.warn(\"The max_iter was reached which means \"\n"
     ]
    }
   ],
   "source": [
    "grid={\"C\":np.logspace(-3,3,7), \"penalty\":[\"l1\",\"l2\"], 'solver':['saga']}\n",
    "\n",
    "logreg = LogisticRegression()\n",
    "logreg_cv = GridSearchCV(logreg, grid, cv=5, n_jobs=-1, verbose=2)\n",
    "logreg_cv.fit(X_train, y_train)\n",
    "\n",
    "print(\"Best parameters \",logreg_cv.best_params_)\n",
    "print(\"Accuracy :\",logreg_cv.best_score_)"
   ]
  },
  {
   "cell_type": "code",
   "execution_count": null,
   "id": "7696da3c",
   "metadata": {},
   "outputs": [],
   "source": []
  },
  {
   "cell_type": "markdown",
   "id": "7709a9c9",
   "metadata": {},
   "source": [
    "-------"
   ]
  },
  {
   "cell_type": "markdown",
   "id": "08ef21f5",
   "metadata": {},
   "source": [
    "### Linear SVC"
   ]
  },
  {
   "cell_type": "code",
   "execution_count": 198,
   "id": "56c134d9",
   "metadata": {
    "ExecuteTime": {
     "end_time": "2022-06-18T06:47:20.473385Z",
     "start_time": "2022-06-18T06:42:35.821952Z"
    }
   },
   "outputs": [
    {
     "name": "stdout",
     "output_type": "stream",
     "text": [
      "[LibLinear]............................................................................................................................................................................................................................................................................................................\n",
      "optimization finished, #iter = 3000\n",
      "\n",
      "WARNING: reaching max number of iterations\n",
      "Using -s 2 may be faster (also see FAQ)\n",
      "\n",
      "Objective value = -26.290072\n",
      "nSV = 41311\n"
     ]
    },
    {
     "name": "stderr",
     "output_type": "stream",
     "text": [
      "/Users/ariklevy/opt/anaconda3/lib/python3.9/site-packages/sklearn/svm/_base.py:985: ConvergenceWarning: Liblinear failed to converge, increase the number of iterations.\n",
      "  warnings.warn(\"Liblinear failed to converge, increase \"\n"
     ]
    },
    {
     "name": "stdout",
     "output_type": "stream",
     "text": [
      "0.930958549222798\n",
      "0.6453210607056761\n"
     ]
    }
   ],
   "source": [
    "lsvc = LinearSVC(verbose=2, max_iter=3000, random_state=42)\n",
    "\n",
    "lsvc.fit(X_train, y_train)\n",
    "\n",
    "print(lsvc.score(X_train,y_train))\n",
    "print(lsvc.score(X_test, y_test))"
   ]
  },
  {
   "cell_type": "markdown",
   "id": "9d6d07c7",
   "metadata": {},
   "source": [
    "### Linear SVC - Randomized Search"
   ]
  },
  {
   "cell_type": "code",
   "execution_count": 199,
   "id": "8f0a0b90",
   "metadata": {
    "ExecuteTime": {
     "end_time": "2022-06-18T08:52:00.757436Z",
     "start_time": "2022-06-18T06:49:23.808247Z"
    },
    "scrolled": true
   },
   "outputs": [
    {
     "name": "stdout",
     "output_type": "stream",
     "text": [
      "Fitting 5 folds for each of 5 candidates, totalling 25 fits\n"
     ]
    },
    {
     "name": "stderr",
     "output_type": "stream",
     "text": [
      "/Users/ariklevy/opt/anaconda3/lib/python3.9/site-packages/sklearn/svm/_base.py:985: ConvergenceWarning: Liblinear failed to converge, increase the number of iterations.\n",
      "  warnings.warn(\"Liblinear failed to converge, increase \"\n",
      "/Users/ariklevy/opt/anaconda3/lib/python3.9/site-packages/sklearn/svm/_base.py:985: ConvergenceWarning: Liblinear failed to converge, increase the number of iterations.\n",
      "  warnings.warn(\"Liblinear failed to converge, increase \"\n",
      "/Users/ariklevy/opt/anaconda3/lib/python3.9/site-packages/sklearn/svm/_base.py:985: ConvergenceWarning: Liblinear failed to converge, increase the number of iterations.\n",
      "  warnings.warn(\"Liblinear failed to converge, increase \"\n",
      "/Users/ariklevy/opt/anaconda3/lib/python3.9/site-packages/sklearn/svm/_base.py:985: ConvergenceWarning: Liblinear failed to converge, increase the number of iterations.\n",
      "  warnings.warn(\"Liblinear failed to converge, increase \"\n",
      "/Users/ariklevy/opt/anaconda3/lib/python3.9/site-packages/sklearn/svm/_base.py:985: ConvergenceWarning: Liblinear failed to converge, increase the number of iterations.\n",
      "  warnings.warn(\"Liblinear failed to converge, increase \"\n",
      "/Users/ariklevy/opt/anaconda3/lib/python3.9/site-packages/sklearn/svm/_base.py:985: ConvergenceWarning: Liblinear failed to converge, increase the number of iterations.\n",
      "  warnings.warn(\"Liblinear failed to converge, increase \"\n",
      "/Users/ariklevy/opt/anaconda3/lib/python3.9/site-packages/sklearn/svm/_base.py:985: ConvergenceWarning: Liblinear failed to converge, increase the number of iterations.\n",
      "  warnings.warn(\"Liblinear failed to converge, increase \"\n",
      "/Users/ariklevy/opt/anaconda3/lib/python3.9/site-packages/sklearn/svm/_base.py:985: ConvergenceWarning: Liblinear failed to converge, increase the number of iterations.\n",
      "  warnings.warn(\"Liblinear failed to converge, increase \"\n",
      "/Users/ariklevy/opt/anaconda3/lib/python3.9/site-packages/sklearn/svm/_base.py:985: ConvergenceWarning: Liblinear failed to converge, increase the number of iterations.\n",
      "  warnings.warn(\"Liblinear failed to converge, increase \"\n",
      "/Users/ariklevy/opt/anaconda3/lib/python3.9/site-packages/sklearn/svm/_base.py:985: ConvergenceWarning: Liblinear failed to converge, increase the number of iterations.\n",
      "  warnings.warn(\"Liblinear failed to converge, increase \"\n",
      "/Users/ariklevy/opt/anaconda3/lib/python3.9/site-packages/sklearn/svm/_base.py:985: ConvergenceWarning: Liblinear failed to converge, increase the number of iterations.\n",
      "  warnings.warn(\"Liblinear failed to converge, increase \"\n",
      "/Users/ariklevy/opt/anaconda3/lib/python3.9/site-packages/sklearn/svm/_base.py:985: ConvergenceWarning: Liblinear failed to converge, increase the number of iterations.\n",
      "  warnings.warn(\"Liblinear failed to converge, increase \"\n",
      "/Users/ariklevy/opt/anaconda3/lib/python3.9/site-packages/sklearn/svm/_base.py:985: ConvergenceWarning: Liblinear failed to converge, increase the number of iterations.\n",
      "  warnings.warn(\"Liblinear failed to converge, increase \"\n",
      "/Users/ariklevy/opt/anaconda3/lib/python3.9/site-packages/sklearn/svm/_base.py:985: ConvergenceWarning: Liblinear failed to converge, increase the number of iterations.\n",
      "  warnings.warn(\"Liblinear failed to converge, increase \"\n",
      "/Users/ariklevy/opt/anaconda3/lib/python3.9/site-packages/sklearn/svm/_base.py:985: ConvergenceWarning: Liblinear failed to converge, increase the number of iterations.\n",
      "  warnings.warn(\"Liblinear failed to converge, increase \"\n",
      "/Users/ariklevy/opt/anaconda3/lib/python3.9/site-packages/sklearn/svm/_base.py:985: ConvergenceWarning: Liblinear failed to converge, increase the number of iterations.\n",
      "  warnings.warn(\"Liblinear failed to converge, increase \"\n",
      "/Users/ariklevy/opt/anaconda3/lib/python3.9/site-packages/sklearn/svm/_base.py:985: ConvergenceWarning: Liblinear failed to converge, increase the number of iterations.\n",
      "  warnings.warn(\"Liblinear failed to converge, increase \"\n",
      "/Users/ariklevy/opt/anaconda3/lib/python3.9/site-packages/sklearn/svm/_base.py:985: ConvergenceWarning: Liblinear failed to converge, increase the number of iterations.\n",
      "  warnings.warn(\"Liblinear failed to converge, increase \"\n",
      "/Users/ariklevy/opt/anaconda3/lib/python3.9/site-packages/sklearn/svm/_base.py:985: ConvergenceWarning: Liblinear failed to converge, increase the number of iterations.\n",
      "  warnings.warn(\"Liblinear failed to converge, increase \"\n",
      "/Users/ariklevy/opt/anaconda3/lib/python3.9/site-packages/sklearn/svm/_base.py:985: ConvergenceWarning: Liblinear failed to converge, increase the number of iterations.\n",
      "  warnings.warn(\"Liblinear failed to converge, increase \"\n"
     ]
    },
    {
     "name": "stdout",
     "output_type": "stream",
     "text": [
      "[CV] END ............................................C=0.001; total time=57.2min\n",
      "[CV] END .........................................C=15.00025; total time=53.2min\n",
      "[CV] END ..........................................C=5.00075; total time=57.5min\n",
      "[CV] END .........................................C=15.00025; total time=52.9min\n",
      "[CV] END ..........................................C=5.00075; total time=57.2min\n",
      "[CV] END .........................................C=15.00025; total time=53.2min\n",
      "[CV] END ............................................C=0.001; total time=57.2min\n",
      "[CV] END .........................................C=15.00025; total time=53.2min\n",
      "[CV] END ............................................C=0.001; total time=57.7min\n",
      "[CV] END .........................................C=15.00025; total time=52.8min\n"
     ]
    },
    {
     "name": "stderr",
     "output_type": "stream",
     "text": [
      "/Users/ariklevy/opt/anaconda3/lib/python3.9/site-packages/sklearn/svm/_base.py:985: ConvergenceWarning: Liblinear failed to converge, increase the number of iterations.\n",
      "  warnings.warn(\"Liblinear failed to converge, increase \"\n",
      "/Users/ariklevy/opt/anaconda3/lib/python3.9/site-packages/sklearn/svm/_base.py:985: ConvergenceWarning: Liblinear failed to converge, increase the number of iterations.\n",
      "  warnings.warn(\"Liblinear failed to converge, increase \"\n",
      "/Users/ariklevy/opt/anaconda3/lib/python3.9/site-packages/sklearn/svm/_base.py:985: ConvergenceWarning: Liblinear failed to converge, increase the number of iterations.\n",
      "  warnings.warn(\"Liblinear failed to converge, increase \"\n",
      "/Users/ariklevy/opt/anaconda3/lib/python3.9/site-packages/sklearn/svm/_base.py:985: ConvergenceWarning: Liblinear failed to converge, increase the number of iterations.\n",
      "  warnings.warn(\"Liblinear failed to converge, increase \"\n",
      "/Users/ariklevy/opt/anaconda3/lib/python3.9/site-packages/sklearn/svm/_base.py:985: ConvergenceWarning: Liblinear failed to converge, increase the number of iterations.\n",
      "  warnings.warn(\"Liblinear failed to converge, increase \"\n"
     ]
    },
    {
     "name": "stdout",
     "output_type": "stream",
     "text": [
      "[CV] END ..........................................C=5.00075; total time=56.9min\n",
      "[CV] END ...............................C=10.000499999999999; total time=53.1min\n",
      "[CV] END .............................................C=20.0; total time= 7.4min\n",
      "0.6475388601036268\n"
     ]
    },
    {
     "name": "stderr",
     "output_type": "stream",
     "text": [
      "/Users/ariklevy/opt/anaconda3/lib/python3.9/site-packages/sklearn/svm/_base.py:985: ConvergenceWarning: Liblinear failed to converge, increase the number of iterations.\n",
      "  warnings.warn(\"Liblinear failed to converge, increase \"\n"
     ]
    }
   ],
   "source": [
    "params = {\n",
    "            'C': np.linspace(0.001, 20, 5)\n",
    "            }\n",
    "\n",
    "lsvc = LinearSVC( max_iter=3000, random_state=42)\n",
    "svc_grid = RandomizedSearchCV(lsvc, params, n_iter=5, n_jobs = -1, verbose=2)\n",
    "svc_grid.fit(X_train, y_train)\n",
    "\n",
    "print(svc_grid.best_score_)"
   ]
  },
  {
   "cell_type": "markdown",
   "id": "60e76e74",
   "metadata": {},
   "source": [
    "-------"
   ]
  },
  {
   "cell_type": "markdown",
   "id": "f2efcf36",
   "metadata": {},
   "source": [
    "### XGBoost - Simple"
   ]
  },
  {
   "cell_type": "markdown",
   "id": "b57f8e5f",
   "metadata": {},
   "source": [
    "#### Using weight"
   ]
  },
  {
   "cell_type": "code",
   "execution_count": 161,
   "id": "1f14fc24",
   "metadata": {
    "ExecuteTime": {
     "end_time": "2022-06-17T14:26:19.144202Z",
     "start_time": "2022-06-17T14:25:32.834212Z"
    }
   },
   "outputs": [
    {
     "data": {
      "text/plain": [
       "XGBClassifier(base_score=0.5, booster='gbtree', colsample_bylevel=1,\n",
       "              colsample_bynode=1, colsample_bytree=1, enable_categorical=False,\n",
       "              eval_metric='mlogloss', gamma=0, gpu_id=-1,\n",
       "              importance_type='weight', interaction_constraints='',\n",
       "              learning_rate=0.300000012, max_delta_step=0, max_depth=6,\n",
       "              min_child_weight=1, missing=nan, monotone_constraints='()',\n",
       "              n_estimators=100, n_jobs=-1, num_parallel_tree=1,\n",
       "              predictor='auto', random_state=0, reg_alpha=0, reg_lambda=1,\n",
       "              scale_pos_weight=1, subsample=1, tree_method='exact',\n",
       "              use_label_encoder=False, validate_parameters=1, verbosity=None)"
      ]
     },
     "execution_count": 161,
     "metadata": {},
     "output_type": "execute_result"
    }
   ],
   "source": [
    "xgb_model = XGBClassifier(use_label_encoder=False, eval_metric='mlogloss', n_jobs=-1, importance_type='weight')\n",
    "xgb_model.fit(X_train, y_train)\n"
   ]
  },
  {
   "cell_type": "code",
   "execution_count": null,
   "id": "8648ebc6",
   "metadata": {
    "ExecuteTime": {
     "end_time": "2022-06-18T14:27:37.352887Z",
     "start_time": "2022-06-18T14:27:37.352880Z"
    }
   },
   "outputs": [],
   "source": [
    "print(xgb_model.score(X_train,y_train))\n",
    "print(xgb_model.score(X_test, y_test))\n"
   ]
  },
  {
   "cell_type": "code",
   "execution_count": 162,
   "id": "73ae0733",
   "metadata": {
    "ExecuteTime": {
     "end_time": "2022-06-17T14:26:32.734313Z",
     "start_time": "2022-06-17T14:26:29.740032Z"
    }
   },
   "outputs": [
    {
     "name": "stdout",
     "output_type": "stream",
     "text": [
      "0.8101899827288428\n",
      "0.6885820731974578\n"
     ]
    }
   ],
   "source": [
    "print(xgb_model.score(X_train,y_train))\n",
    "print(xgb_model.score(X_test, y_test))\n"
   ]
  },
  {
   "cell_type": "code",
   "execution_count": 163,
   "id": "be575a87",
   "metadata": {
    "ExecuteTime": {
     "end_time": "2022-06-17T14:26:44.234003Z",
     "start_time": "2022-06-17T14:26:43.300757Z"
    }
   },
   "outputs": [
    {
     "data": {
      "text/html": [
       "<div>\n",
       "<style scoped>\n",
       "    .dataframe tbody tr th:only-of-type {\n",
       "        vertical-align: middle;\n",
       "    }\n",
       "\n",
       "    .dataframe tbody tr th {\n",
       "        vertical-align: top;\n",
       "    }\n",
       "\n",
       "    .dataframe thead th {\n",
       "        text-align: right;\n",
       "    }\n",
       "</style>\n",
       "<table border=\"1\" class=\"dataframe\">\n",
       "  <thead>\n",
       "    <tr style=\"text-align: right;\">\n",
       "      <th></th>\n",
       "      <th>feature_names</th>\n",
       "      <th>feature_importance</th>\n",
       "    </tr>\n",
       "  </thead>\n",
       "  <tbody>\n",
       "    <tr>\n",
       "      <th>1154499</th>\n",
       "      <td>author_followers</td>\n",
       "      <td>0.029560</td>\n",
       "    </tr>\n",
       "    <tr>\n",
       "      <th>1154500</th>\n",
       "      <td>number_of_words</td>\n",
       "      <td>0.006128</td>\n",
       "    </tr>\n",
       "    <tr>\n",
       "      <th>1154502</th>\n",
       "      <td>subjectivity</td>\n",
       "      <td>0.005768</td>\n",
       "    </tr>\n",
       "    <tr>\n",
       "      <th>1154501</th>\n",
       "      <td>polarity</td>\n",
       "      <td>0.005407</td>\n",
       "    </tr>\n",
       "    <tr>\n",
       "      <th>1154517</th>\n",
       "      <td>subtitle_1</td>\n",
       "      <td>0.004686</td>\n",
       "    </tr>\n",
       "    <tr>\n",
       "      <th>1154504</th>\n",
       "      <td>publication_datadriveninvestor</td>\n",
       "      <td>0.004686</td>\n",
       "    </tr>\n",
       "    <tr>\n",
       "      <th>480344</th>\n",
       "      <td>like</td>\n",
       "      <td>0.003605</td>\n",
       "    </tr>\n",
       "    <tr>\n",
       "      <th>596725</th>\n",
       "      <td>one</td>\n",
       "      <td>0.003605</td>\n",
       "    </tr>\n",
       "    <tr>\n",
       "      <th>526267</th>\n",
       "      <td>may</td>\n",
       "      <td>0.003605</td>\n",
       "    </tr>\n",
       "    <tr>\n",
       "      <th>51893</th>\n",
       "      <td>article</td>\n",
       "      <td>0.003244</td>\n",
       "    </tr>\n",
       "    <tr>\n",
       "      <th>470208</th>\n",
       "      <td>learning</td>\n",
       "      <td>0.003244</td>\n",
       "    </tr>\n",
       "    <tr>\n",
       "      <th>628547</th>\n",
       "      <td>people</td>\n",
       "      <td>0.003244</td>\n",
       "    </tr>\n",
       "    <tr>\n",
       "      <th>691995</th>\n",
       "      <td>python</td>\n",
       "      <td>0.003244</td>\n",
       "    </tr>\n",
       "    <tr>\n",
       "      <th>985080</th>\n",
       "      <td>would</td>\n",
       "      <td>0.002884</td>\n",
       "    </tr>\n",
       "    <tr>\n",
       "      <th>342497</th>\n",
       "      <td>function</td>\n",
       "      <td>0.002884</td>\n",
       "    </tr>\n",
       "    <tr>\n",
       "      <th>934629</th>\n",
       "      <td>user</td>\n",
       "      <td>0.002884</td>\n",
       "    </tr>\n",
       "    <tr>\n",
       "      <th>989561</th>\n",
       "      <td>writing</td>\n",
       "      <td>0.002884</td>\n",
       "    </tr>\n",
       "    <tr>\n",
       "      <th>757089</th>\n",
       "      <td>say</td>\n",
       "      <td>0.002523</td>\n",
       "    </tr>\n",
       "    <tr>\n",
       "      <th>152751</th>\n",
       "      <td>company</td>\n",
       "      <td>0.002523</td>\n",
       "    </tr>\n",
       "    <tr>\n",
       "      <th>27397</th>\n",
       "      <td>already</td>\n",
       "      <td>0.002523</td>\n",
       "    </tr>\n",
       "    <tr>\n",
       "      <th>499379</th>\n",
       "      <td>looking</td>\n",
       "      <td>0.002523</td>\n",
       "    </tr>\n",
       "    <tr>\n",
       "      <th>103105</th>\n",
       "      <td>business</td>\n",
       "      <td>0.002523</td>\n",
       "    </tr>\n",
       "    <tr>\n",
       "      <th>284458</th>\n",
       "      <td>even</td>\n",
       "      <td>0.002523</td>\n",
       "    </tr>\n",
       "    <tr>\n",
       "      <th>988608</th>\n",
       "      <td>writer</td>\n",
       "      <td>0.002523</td>\n",
       "    </tr>\n",
       "    <tr>\n",
       "      <th>941487</th>\n",
       "      <td>value</td>\n",
       "      <td>0.002523</td>\n",
       "    </tr>\n",
       "    <tr>\n",
       "      <th>886818</th>\n",
       "      <td>time</td>\n",
       "      <td>0.002523</td>\n",
       "    </tr>\n",
       "    <tr>\n",
       "      <th>122762</th>\n",
       "      <td>change</td>\n",
       "      <td>0.002523</td>\n",
       "    </tr>\n",
       "    <tr>\n",
       "      <th>1154508</th>\n",
       "      <td>publication_towardsdatascience</td>\n",
       "      <td>0.002523</td>\n",
       "    </tr>\n",
       "    <tr>\n",
       "      <th>1154503</th>\n",
       "      <td>publication_better-marketing</td>\n",
       "      <td>0.002523</td>\n",
       "    </tr>\n",
       "    <tr>\n",
       "      <th>141854</th>\n",
       "      <td>code</td>\n",
       "      <td>0.002163</td>\n",
       "    </tr>\n",
       "  </tbody>\n",
       "</table>\n",
       "</div>"
      ],
      "text/plain": [
       "                          feature_names  feature_importance\n",
       "1154499                author_followers            0.029560\n",
       "1154500                 number_of_words            0.006128\n",
       "1154502                    subjectivity            0.005768\n",
       "1154501                        polarity            0.005407\n",
       "1154517                      subtitle_1            0.004686\n",
       "1154504  publication_datadriveninvestor            0.004686\n",
       "480344                             like            0.003605\n",
       "596725                              one            0.003605\n",
       "526267                              may            0.003605\n",
       "51893                           article            0.003244\n",
       "470208                         learning            0.003244\n",
       "628547                           people            0.003244\n",
       "691995                           python            0.003244\n",
       "985080                            would            0.002884\n",
       "342497                         function            0.002884\n",
       "934629                             user            0.002884\n",
       "989561                          writing            0.002884\n",
       "757089                              say            0.002523\n",
       "152751                          company            0.002523\n",
       "27397                           already            0.002523\n",
       "499379                          looking            0.002523\n",
       "103105                         business            0.002523\n",
       "284458                             even            0.002523\n",
       "988608                           writer            0.002523\n",
       "941487                            value            0.002523\n",
       "886818                             time            0.002523\n",
       "122762                           change            0.002523\n",
       "1154508  publication_towardsdatascience            0.002523\n",
       "1154503    publication_better-marketing            0.002523\n",
       "141854                             code            0.002163"
      ]
     },
     "execution_count": 163,
     "metadata": {},
     "output_type": "execute_result"
    }
   ],
   "source": [
    "dict_features = {'feature_names': feature_names, 'feature_importance': xgb_model.feature_importances_}\n",
    "pd.DataFrame(dict_features).sort_values('feature_importance', ascending=False).head(30)\n"
   ]
  },
  {
   "cell_type": "markdown",
   "id": "fa52e6fe",
   "metadata": {},
   "source": [
    "#### Normal"
   ]
  },
  {
   "cell_type": "code",
   "execution_count": null,
   "id": "79f2cd2e",
   "metadata": {
    "ExecuteTime": {
     "start_time": "2022-06-20T10:12:46.987Z"
    }
   },
   "outputs": [],
   "source": [
    "xgb_model = XGBClassifier(use_label_encoder=False, eval_metric='mlogloss', n_jobs=-1)\n",
    "xgb_model.fit(X_train, y_train, eval_set=[(X_test, y_test)])\n"
   ]
  },
  {
   "cell_type": "code",
   "execution_count": 164,
   "id": "e93d9904",
   "metadata": {
    "ExecuteTime": {
     "end_time": "2022-06-17T14:27:40.729161Z",
     "start_time": "2022-06-17T14:26:53.916183Z"
    }
   },
   "outputs": [
    {
     "data": {
      "text/plain": [
       "XGBClassifier(base_score=0.5, booster='gbtree', colsample_bylevel=1,\n",
       "              colsample_bynode=1, colsample_bytree=1, enable_categorical=False,\n",
       "              eval_metric='mlogloss', gamma=0, gpu_id=-1, importance_type=None,\n",
       "              interaction_constraints='', learning_rate=0.300000012,\n",
       "              max_delta_step=0, max_depth=6, min_child_weight=1, missing=nan,\n",
       "              monotone_constraints='()', n_estimators=100, n_jobs=-1,\n",
       "              num_parallel_tree=1, predictor='auto', random_state=0,\n",
       "              reg_alpha=0, reg_lambda=1, scale_pos_weight=1, subsample=1,\n",
       "              tree_method='exact', use_label_encoder=False,\n",
       "              validate_parameters=1, verbosity=None)"
      ]
     },
     "execution_count": 164,
     "metadata": {},
     "output_type": "execute_result"
    }
   ],
   "source": [
    "xgb_model = XGBClassifier(use_label_encoder=False, eval_metric='mlogloss', n_jobs=-1)\n",
    "xgb_model.fit(X_train, y_train)\n"
   ]
  },
  {
   "cell_type": "code",
   "execution_count": 165,
   "id": "9f3358cb",
   "metadata": {
    "ExecuteTime": {
     "end_time": "2022-06-17T14:27:53.995250Z",
     "start_time": "2022-06-17T14:27:51.217173Z"
    }
   },
   "outputs": [
    {
     "name": "stdout",
     "output_type": "stream",
     "text": [
      "0.8101899827288428\n",
      "0.6885820731974578\n"
     ]
    }
   ],
   "source": [
    "print(xgb_model.score(X_train,y_train))\n",
    "print(xgb_model.score(X_test, y_test))\n"
   ]
  },
  {
   "cell_type": "code",
   "execution_count": 166,
   "id": "db139358",
   "metadata": {
    "ExecuteTime": {
     "end_time": "2022-06-17T14:28:04.429051Z",
     "start_time": "2022-06-17T14:28:04.426059Z"
    }
   },
   "outputs": [],
   "source": [
    "import eli5\n"
   ]
  },
  {
   "cell_type": "code",
   "execution_count": 210,
   "id": "dc36ea02",
   "metadata": {
    "ExecuteTime": {
     "end_time": "2022-06-19T22:55:16.966878Z",
     "start_time": "2022-06-19T22:55:16.434028Z"
    }
   },
   "outputs": [
    {
     "data": {
      "text/html": [
       "\n",
       "    <style>\n",
       "    table.eli5-weights tr:hover {\n",
       "        filter: brightness(85%);\n",
       "    }\n",
       "</style>\n",
       "\n",
       "\n",
       "\n",
       "    \n",
       "\n",
       "    \n",
       "\n",
       "    \n",
       "\n",
       "    \n",
       "\n",
       "    \n",
       "\n",
       "    \n",
       "\n",
       "\n",
       "    \n",
       "\n",
       "    \n",
       "\n",
       "    \n",
       "\n",
       "    \n",
       "\n",
       "    \n",
       "\n",
       "    \n",
       "\n",
       "\n",
       "    \n",
       "\n",
       "    \n",
       "\n",
       "    \n",
       "\n",
       "    \n",
       "\n",
       "    \n",
       "        <table class=\"eli5-weights eli5-feature-importances\" style=\"border-collapse: collapse; border: none; margin-top: 0em; table-layout: auto;\">\n",
       "    <thead>\n",
       "    <tr style=\"border: none;\">\n",
       "        <th style=\"padding: 0 1em 0 0.5em; text-align: right; border: none;\">Weight</th>\n",
       "        <th style=\"padding: 0 0.5em 0 0.5em; text-align: left; border: none;\">Feature</th>\n",
       "    </tr>\n",
       "    </thead>\n",
       "    <tbody>\n",
       "    \n",
       "        <tr style=\"background-color: hsl(120, 100.00%, 80.00%); border: none;\">\n",
       "            <td style=\"padding: 0 1em 0 0.5em; text-align: right; border: none;\">\n",
       "                0.0178\n",
       "                \n",
       "            </td>\n",
       "            <td style=\"padding: 0 0.5em 0 0.5em; text-align: left; border: none;\">\n",
       "                publication_datadriveninvestor\n",
       "            </td>\n",
       "        </tr>\n",
       "    \n",
       "        <tr style=\"background-color: hsl(120, 100.00%, 80.22%); border: none;\">\n",
       "            <td style=\"padding: 0 1em 0 0.5em; text-align: right; border: none;\">\n",
       "                0.0175\n",
       "                \n",
       "            </td>\n",
       "            <td style=\"padding: 0 0.5em 0 0.5em; text-align: left; border: none;\">\n",
       "                publication_towardsdatascience\n",
       "            </td>\n",
       "        </tr>\n",
       "    \n",
       "        <tr style=\"background-color: hsl(120, 100.00%, 83.48%); border: none;\">\n",
       "            <td style=\"padding: 0 1em 0 0.5em; text-align: right; border: none;\">\n",
       "                0.0135\n",
       "                \n",
       "            </td>\n",
       "            <td style=\"padding: 0 0.5em 0 0.5em; text-align: left; border: none;\">\n",
       "                publication_the-mission\n",
       "            </td>\n",
       "        </tr>\n",
       "    \n",
       "        <tr style=\"background-color: hsl(120, 100.00%, 85.55%); border: none;\">\n",
       "            <td style=\"padding: 0 1em 0 0.5em; text-align: right; border: none;\">\n",
       "                0.0112\n",
       "                \n",
       "            </td>\n",
       "            <td style=\"padding: 0 0.5em 0 0.5em; text-align: left; border: none;\">\n",
       "                publication_better-marketing\n",
       "            </td>\n",
       "        </tr>\n",
       "    \n",
       "        <tr style=\"background-color: hsl(120, 100.00%, 90.98%); border: none;\">\n",
       "            <td style=\"padding: 0 1em 0 0.5em; text-align: right; border: none;\">\n",
       "                0.0057\n",
       "                \n",
       "            </td>\n",
       "            <td style=\"padding: 0 0.5em 0 0.5em; text-align: left; border: none;\">\n",
       "                publication_swlh\n",
       "            </td>\n",
       "        </tr>\n",
       "    \n",
       "        <tr style=\"background-color: hsl(120, 100.00%, 91.44%); border: none;\">\n",
       "            <td style=\"padding: 0 1em 0 0.5em; text-align: right; border: none;\">\n",
       "                0.0053\n",
       "                \n",
       "            </td>\n",
       "            <td style=\"padding: 0 0.5em 0 0.5em; text-align: left; border: none;\">\n",
       "                author_followers\n",
       "            </td>\n",
       "        </tr>\n",
       "    \n",
       "        <tr style=\"background-color: hsl(120, 100.00%, 91.54%); border: none;\">\n",
       "            <td style=\"padding: 0 1em 0 0.5em; text-align: right; border: none;\">\n",
       "                0.0052\n",
       "                \n",
       "            </td>\n",
       "            <td style=\"padding: 0 0.5em 0 0.5em; text-align: left; border: none;\">\n",
       "                write\n",
       "            </td>\n",
       "        </tr>\n",
       "    \n",
       "        <tr style=\"background-color: hsl(120, 100.00%, 92.96%); border: none;\">\n",
       "            <td style=\"padding: 0 1em 0 0.5em; text-align: right; border: none;\">\n",
       "                0.0040\n",
       "                \n",
       "            </td>\n",
       "            <td style=\"padding: 0 0.5em 0 0.5em; text-align: left; border: none;\">\n",
       "                operating cash\n",
       "            </td>\n",
       "        </tr>\n",
       "    \n",
       "        <tr style=\"background-color: hsl(120, 100.00%, 93.24%); border: none;\">\n",
       "            <td style=\"padding: 0 1em 0 0.5em; text-align: right; border: none;\">\n",
       "                0.0038\n",
       "                \n",
       "            </td>\n",
       "            <td style=\"padding: 0 0.5em 0 0.5em; text-align: left; border: none;\">\n",
       "                coffee\n",
       "            </td>\n",
       "        </tr>\n",
       "    \n",
       "        <tr style=\"background-color: hsl(120, 100.00%, 93.57%); border: none;\">\n",
       "            <td style=\"padding: 0 1em 0 0.5em; text-align: right; border: none;\">\n",
       "                0.0035\n",
       "                \n",
       "            </td>\n",
       "            <td style=\"padding: 0 0.5em 0 0.5em; text-align: left; border: none;\">\n",
       "                medium link\n",
       "            </td>\n",
       "        </tr>\n",
       "    \n",
       "        <tr style=\"background-color: hsl(120, 100.00%, 93.59%); border: none;\">\n",
       "            <td style=\"padding: 0 1em 0 0.5em; text-align: right; border: none;\">\n",
       "                0.0035\n",
       "                \n",
       "            </td>\n",
       "            <td style=\"padding: 0 0.5em 0 0.5em; text-align: left; border: none;\">\n",
       "                author\n",
       "            </td>\n",
       "        </tr>\n",
       "    \n",
       "        <tr style=\"background-color: hsl(120, 100.00%, 93.73%); border: none;\">\n",
       "            <td style=\"padding: 0 1em 0 0.5em; text-align: right; border: none;\">\n",
       "                0.0034\n",
       "                \n",
       "            </td>\n",
       "            <td style=\"padding: 0 0.5em 0 0.5em; text-align: left; border: none;\">\n",
       "                opensource\n",
       "            </td>\n",
       "        </tr>\n",
       "    \n",
       "        <tr style=\"background-color: hsl(120, 100.00%, 93.89%); border: none;\">\n",
       "            <td style=\"padding: 0 1em 0 0.5em; text-align: right; border: none;\">\n",
       "                0.0033\n",
       "                \n",
       "            </td>\n",
       "            <td style=\"padding: 0 0.5em 0 0.5em; text-align: left; border: none;\">\n",
       "                facebook linkedin\n",
       "            </td>\n",
       "        </tr>\n",
       "    \n",
       "        <tr style=\"background-color: hsl(120, 100.00%, 93.98%); border: none;\">\n",
       "            <td style=\"padding: 0 1em 0 0.5em; text-align: right; border: none;\">\n",
       "                0.0032\n",
       "                \n",
       "            </td>\n",
       "            <td style=\"padding: 0 0.5em 0 0.5em; text-align: left; border: none;\">\n",
       "                amzn\n",
       "            </td>\n",
       "        </tr>\n",
       "    \n",
       "        <tr style=\"background-color: hsl(120, 100.00%, 93.98%); border: none;\">\n",
       "            <td style=\"padding: 0 1em 0 0.5em; text-align: right; border: none;\">\n",
       "                0.0032\n",
       "                \n",
       "            </td>\n",
       "            <td style=\"padding: 0 0.5em 0 0.5em; text-align: left; border: none;\">\n",
       "                dont\n",
       "            </td>\n",
       "        </tr>\n",
       "    \n",
       "        <tr style=\"background-color: hsl(120, 100.00%, 94.09%); border: none;\">\n",
       "            <td style=\"padding: 0 1em 0 0.5em; text-align: right; border: none;\">\n",
       "                0.0031\n",
       "                \n",
       "            </td>\n",
       "            <td style=\"padding: 0 0.5em 0 0.5em; text-align: left; border: none;\">\n",
       "                publication_startup-grind\n",
       "            </td>\n",
       "        </tr>\n",
       "    \n",
       "        <tr style=\"background-color: hsl(120, 100.00%, 94.20%); border: none;\">\n",
       "            <td style=\"padding: 0 1em 0 0.5em; text-align: right; border: none;\">\n",
       "                0.0030\n",
       "                \n",
       "            </td>\n",
       "            <td style=\"padding: 0 0.5em 0 0.5em; text-align: left; border: none;\">\n",
       "                freepikcom\n",
       "            </td>\n",
       "        </tr>\n",
       "    \n",
       "        <tr style=\"background-color: hsl(120, 100.00%, 94.53%); border: none;\">\n",
       "            <td style=\"padding: 0 1em 0 0.5em; text-align: right; border: none;\">\n",
       "                0.0028\n",
       "                \n",
       "            </td>\n",
       "            <td style=\"padding: 0 0.5em 0 0.5em; text-align: left; border: none;\">\n",
       "                subtitle_1\n",
       "            </td>\n",
       "        </tr>\n",
       "    \n",
       "        <tr style=\"background-color: hsl(120, 100.00%, 94.89%); border: none;\">\n",
       "            <td style=\"padding: 0 1em 0 0.5em; text-align: right; border: none;\">\n",
       "                0.0025\n",
       "                \n",
       "            </td>\n",
       "            <td style=\"padding: 0 0.5em 0 0.5em; text-align: left; border: none;\">\n",
       "                writing\n",
       "            </td>\n",
       "        </tr>\n",
       "    \n",
       "        <tr style=\"background-color: hsl(120, 100.00%, 95.09%); border: none;\">\n",
       "            <td style=\"padding: 0 1em 0 0.5em; text-align: right; border: none;\">\n",
       "                0.0024\n",
       "                \n",
       "            </td>\n",
       "            <td style=\"padding: 0 0.5em 0 0.5em; text-align: left; border: none;\">\n",
       "                design\n",
       "            </td>\n",
       "        </tr>\n",
       "    \n",
       "    \n",
       "        \n",
       "            <tr style=\"background-color: hsl(120, 100.00%, 95.09%); border: none;\">\n",
       "                <td colspan=\"2\" style=\"padding: 0 0.5em 0 0.5em; text-align: center; border: none; white-space: nowrap;\">\n",
       "                    <i>&hellip; 1154498 more &hellip;</i>\n",
       "                </td>\n",
       "            </tr>\n",
       "        \n",
       "    \n",
       "    </tbody>\n",
       "</table>\n",
       "    \n",
       "\n",
       "    \n",
       "\n",
       "\n",
       "    \n",
       "\n",
       "    \n",
       "\n",
       "    \n",
       "\n",
       "    \n",
       "\n",
       "    \n",
       "\n",
       "    \n",
       "\n",
       "\n",
       "\n"
      ],
      "text/plain": [
       "<IPython.core.display.HTML object>"
      ]
     },
     "execution_count": 210,
     "metadata": {},
     "output_type": "execute_result"
    }
   ],
   "source": [
    "eli5.show_weights(xgb_model, feature_names=feature_names)\n"
   ]
  },
  {
   "cell_type": "code",
   "execution_count": 168,
   "id": "2ba02298",
   "metadata": {
    "ExecuteTime": {
     "end_time": "2022-06-17T14:28:25.274370Z",
     "start_time": "2022-06-17T14:28:24.444180Z"
    }
   },
   "outputs": [
    {
     "data": {
      "text/html": [
       "<div>\n",
       "<style scoped>\n",
       "    .dataframe tbody tr th:only-of-type {\n",
       "        vertical-align: middle;\n",
       "    }\n",
       "\n",
       "    .dataframe tbody tr th {\n",
       "        vertical-align: top;\n",
       "    }\n",
       "\n",
       "    .dataframe thead th {\n",
       "        text-align: right;\n",
       "    }\n",
       "</style>\n",
       "<table border=\"1\" class=\"dataframe\">\n",
       "  <thead>\n",
       "    <tr style=\"text-align: right;\">\n",
       "      <th></th>\n",
       "      <th>feature_names</th>\n",
       "      <th>feature_importance</th>\n",
       "    </tr>\n",
       "  </thead>\n",
       "  <tbody>\n",
       "    <tr>\n",
       "      <th>1154504</th>\n",
       "      <td>publication_datadriveninvestor</td>\n",
       "      <td>0.017780</td>\n",
       "    </tr>\n",
       "    <tr>\n",
       "      <th>1154508</th>\n",
       "      <td>publication_towardsdatascience</td>\n",
       "      <td>0.017499</td>\n",
       "    </tr>\n",
       "    <tr>\n",
       "      <th>1154507</th>\n",
       "      <td>publication_the-mission</td>\n",
       "      <td>0.013533</td>\n",
       "    </tr>\n",
       "    <tr>\n",
       "      <th>1154503</th>\n",
       "      <td>publication_better-marketing</td>\n",
       "      <td>0.011179</td>\n",
       "    </tr>\n",
       "    <tr>\n",
       "      <th>1154506</th>\n",
       "      <td>publication_swlh</td>\n",
       "      <td>0.005705</td>\n",
       "    </tr>\n",
       "    <tr>\n",
       "      <th>1154499</th>\n",
       "      <td>author_followers</td>\n",
       "      <td>0.005290</td>\n",
       "    </tr>\n",
       "    <tr>\n",
       "      <th>987508</th>\n",
       "      <td>write</td>\n",
       "      <td>0.005204</td>\n",
       "    </tr>\n",
       "    <tr>\n",
       "      <th>602011</th>\n",
       "      <td>operating cash</td>\n",
       "      <td>0.004003</td>\n",
       "    </tr>\n",
       "    <tr>\n",
       "      <th>144081</th>\n",
       "      <td>coffee</td>\n",
       "      <td>0.003777</td>\n",
       "    </tr>\n",
       "    <tr>\n",
       "      <th>533180</th>\n",
       "      <td>medium link</td>\n",
       "      <td>0.003512</td>\n",
       "    </tr>\n",
       "    <tr>\n",
       "      <th>61907</th>\n",
       "      <td>author</td>\n",
       "      <td>0.003502</td>\n",
       "    </tr>\n",
       "    <tr>\n",
       "      <th>601816</th>\n",
       "      <td>opensource</td>\n",
       "      <td>0.003390</td>\n",
       "    </tr>\n",
       "    <tr>\n",
       "      <th>303545</th>\n",
       "      <td>facebook linkedin</td>\n",
       "      <td>0.003271</td>\n",
       "    </tr>\n",
       "    <tr>\n",
       "      <th>34133</th>\n",
       "      <td>amzn</td>\n",
       "      <td>0.003201</td>\n",
       "    </tr>\n",
       "    <tr>\n",
       "      <th>252785</th>\n",
       "      <td>dont</td>\n",
       "      <td>0.003197</td>\n",
       "    </tr>\n",
       "    <tr>\n",
       "      <th>1154505</th>\n",
       "      <td>publication_startup-grind</td>\n",
       "      <td>0.003116</td>\n",
       "    </tr>\n",
       "    <tr>\n",
       "      <th>339062</th>\n",
       "      <td>freepikcom</td>\n",
       "      <td>0.003032</td>\n",
       "    </tr>\n",
       "    <tr>\n",
       "      <th>1154517</th>\n",
       "      <td>subtitle_1</td>\n",
       "      <td>0.002789</td>\n",
       "    </tr>\n",
       "    <tr>\n",
       "      <th>989561</th>\n",
       "      <td>writing</td>\n",
       "      <td>0.002532</td>\n",
       "    </tr>\n",
       "    <tr>\n",
       "      <th>226170</th>\n",
       "      <td>design</td>\n",
       "      <td>0.002388</td>\n",
       "    </tr>\n",
       "    <tr>\n",
       "      <th>98856</th>\n",
       "      <td>brought</td>\n",
       "      <td>0.002318</td>\n",
       "    </tr>\n",
       "    <tr>\n",
       "      <th>1154500</th>\n",
       "      <td>number_of_words</td>\n",
       "      <td>0.002161</td>\n",
       "    </tr>\n",
       "    <tr>\n",
       "      <th>436285</th>\n",
       "      <td>intention providing</td>\n",
       "      <td>0.002096</td>\n",
       "    </tr>\n",
       "    <tr>\n",
       "      <th>988608</th>\n",
       "      <td>writer</td>\n",
       "      <td>0.002061</td>\n",
       "    </tr>\n",
       "    <tr>\n",
       "      <th>917157</th>\n",
       "      <td>ui</td>\n",
       "      <td>0.002008</td>\n",
       "    </tr>\n",
       "    <tr>\n",
       "      <th>858430</th>\n",
       "      <td>takeaway</td>\n",
       "      <td>0.001934</td>\n",
       "    </tr>\n",
       "    <tr>\n",
       "      <th>119958</th>\n",
       "      <td>ceo</td>\n",
       "      <td>0.001799</td>\n",
       "    </tr>\n",
       "    <tr>\n",
       "      <th>1013279</th>\n",
       "      <td>bi (Title)</td>\n",
       "      <td>0.001722</td>\n",
       "    </tr>\n",
       "    <tr>\n",
       "      <th>216874</th>\n",
       "      <td>deep learning</td>\n",
       "      <td>0.001704</td>\n",
       "    </tr>\n",
       "    <tr>\n",
       "      <th>98923</th>\n",
       "      <td>brought salesforce</td>\n",
       "      <td>0.001639</td>\n",
       "    </tr>\n",
       "  </tbody>\n",
       "</table>\n",
       "</div>"
      ],
      "text/plain": [
       "                          feature_names  feature_importance\n",
       "1154504  publication_datadriveninvestor            0.017780\n",
       "1154508  publication_towardsdatascience            0.017499\n",
       "1154507         publication_the-mission            0.013533\n",
       "1154503    publication_better-marketing            0.011179\n",
       "1154506                publication_swlh            0.005705\n",
       "1154499                author_followers            0.005290\n",
       "987508                            write            0.005204\n",
       "602011                   operating cash            0.004003\n",
       "144081                           coffee            0.003777\n",
       "533180                      medium link            0.003512\n",
       "61907                            author            0.003502\n",
       "601816                       opensource            0.003390\n",
       "303545                facebook linkedin            0.003271\n",
       "34133                              amzn            0.003201\n",
       "252785                             dont            0.003197\n",
       "1154505       publication_startup-grind            0.003116\n",
       "339062                       freepikcom            0.003032\n",
       "1154517                      subtitle_1            0.002789\n",
       "989561                          writing            0.002532\n",
       "226170                           design            0.002388\n",
       "98856                           brought            0.002318\n",
       "1154500                 number_of_words            0.002161\n",
       "436285              intention providing            0.002096\n",
       "988608                           writer            0.002061\n",
       "917157                               ui            0.002008\n",
       "858430                         takeaway            0.001934\n",
       "119958                              ceo            0.001799\n",
       "1013279                      bi (Title)            0.001722\n",
       "216874                    deep learning            0.001704\n",
       "98923                brought salesforce            0.001639"
      ]
     },
     "execution_count": 168,
     "metadata": {},
     "output_type": "execute_result"
    }
   ],
   "source": [
    "dict_features = {'feature_names': feature_names, 'feature_importance': xgb_model.feature_importances_}\n",
    "pd.DataFrame(dict_features).sort_values('feature_importance', ascending=False).head(30)\n"
   ]
  },
  {
   "cell_type": "code",
   "execution_count": 169,
   "id": "e94e416e",
   "metadata": {
    "ExecuteTime": {
     "end_time": "2022-06-17T14:28:35.383915Z",
     "start_time": "2022-06-17T14:28:34.968051Z"
    }
   },
   "outputs": [
    {
     "data": {
      "image/png": "[encoded data removed]",
      "text/plain": [
       "<Figure size 432x288 with 2 Axes>"
      ]
     },
     "metadata": {
      "needs_background": "light"
     },
     "output_type": "display_data"
    }
   ],
   "source": [
    "from sklearn.metrics import plot_confusion_matrix, plot_roc_curve, classification_report\n",
    "\n",
    "plot_confusion_matrix(xgb_model,X_test, y_test, cmap='Blues', labels=[1, 0], values_format='.0f')\n",
    "plt.show()\n"
   ]
  },
  {
   "cell_type": "code",
   "execution_count": 170,
   "id": "b5f60b42",
   "metadata": {
    "ExecuteTime": {
     "end_time": "2022-06-17T14:28:46.374750Z",
     "start_time": "2022-06-17T14:28:46.097548Z"
    }
   },
   "outputs": [
    {
     "name": "stdout",
     "output_type": "stream",
     "text": [
      "0.6885820731974578\n",
      "              precision    recall  f1-score   support\n",
      "\n",
      "           0     0.6764    0.7201    0.6975     11378\n",
      "           1     0.7024    0.6573    0.6791     11437\n",
      "\n",
      "    accuracy                         0.6886     22815\n",
      "   macro avg     0.6894    0.6887    0.6883     22815\n",
      "weighted avg     0.6894    0.6886    0.6883     22815\n",
      "\n"
     ]
    }
   ],
   "source": [
    "y_pred = xgb_model.predict(X_test)\n",
    "accuracy = accuracy_score(y_test, y_pred)\n",
    "print(accuracy)\n",
    "print(classification_report(y_test, y_pred, digits=4))\n"
   ]
  },
  {
   "cell_type": "code",
   "execution_count": 171,
   "id": "517b29d5",
   "metadata": {
    "ExecuteTime": {
     "end_time": "2022-06-17T14:28:56.845779Z",
     "start_time": "2022-06-17T14:28:56.832387Z"
    }
   },
   "outputs": [
    {
     "name": "stdout",
     "output_type": "stream",
     "text": [
      "0.6886633013803577\n",
      "0.6790731288676093\n"
     ]
    }
   ],
   "source": [
    "print(roc_auc_score(y_test, y_pred))\n",
    "print(f1_score(y_test, y_pred))\n"
   ]
  },
  {
   "cell_type": "code",
   "execution_count": 172,
   "id": "47d4b41a",
   "metadata": {
    "ExecuteTime": {
     "end_time": "2022-06-17T14:29:07.359586Z",
     "start_time": "2022-06-17T14:29:06.964318Z"
    }
   },
   "outputs": [
    {
     "data": {
      "text/plain": [
       "<sklearn.metrics._plot.roc_curve.RocCurveDisplay at 0x7f8ec2478fd0>"
      ]
     },
     "execution_count": 172,
     "metadata": {},
     "output_type": "execute_result"
    },
    {
     "data": {
      "image/png": "[encoded data removed]",
      "text/plain": [
       "<Figure size 432x288 with 1 Axes>"
      ]
     },
     "metadata": {
      "needs_background": "light"
     },
     "output_type": "display_data"
    }
   ],
   "source": [
    "plot_roc_curve(xgb_model, X_test, y_test)\n"
   ]
  },
  {
   "cell_type": "markdown",
   "id": "42566c19",
   "metadata": {},
   "source": [
    "The ROC curve measures plots the true positive rate (TPR) versus the false positive rate, as the threshold for predicting 1 changes.\n",
    "\n",
    "- We measure the area under the curve. Whichs is 0.91\n",
    "- If the TPR is always 1, the area under the curve is 1 (it cannot be larger). This is equivalent to perfect prediction.\n",
    "- When the area under the curve is 0.50, this is equivalent to the baseline (chance) prediction (marked by the diagonal line)."
   ]
  },
  {
   "cell_type": "code",
   "execution_count": 173,
   "id": "99e32f67",
   "metadata": {
    "ExecuteTime": {
     "end_time": "2022-06-17T14:29:17.456628Z",
     "start_time": "2022-06-17T14:29:17.158233Z"
    }
   },
   "outputs": [
    {
     "data": {
      "text/plain": [
       "<sklearn.metrics._plot.precision_recall_curve.PrecisionRecallDisplay at 0x7f8f7bafd550>"
      ]
     },
     "execution_count": 173,
     "metadata": {},
     "output_type": "execute_result"
    },
    {
     "data": {
      "image/png": "[encoded data removed]",
      "text/plain": [
       "<Figure size 432x288 with 1 Axes>"
      ]
     },
     "metadata": {
      "needs_background": "light"
     },
     "output_type": "display_data"
    }
   ],
   "source": [
    "plot_precision_recall_curve(xgb_model, X_test, y_test)\n"
   ]
  },
  {
   "cell_type": "markdown",
   "id": "f3c545b6",
   "metadata": {},
   "source": [
    "---------"
   ]
  },
  {
   "cell_type": "markdown",
   "id": "031ada71",
   "metadata": {},
   "source": [
    "### XGBoost - RandomCV"
   ]
  },
  {
   "cell_type": "code",
   "execution_count": 174,
   "id": "d113afd5",
   "metadata": {
    "ExecuteTime": {
     "end_time": "2022-06-17T14:29:27.027815Z",
     "start_time": "2022-06-17T14:29:27.025356Z"
    }
   },
   "outputs": [],
   "source": [
    "# A parameter grid for XGBoost\n",
    "# A parameter grid for XGBoost\n",
    "params = {\n",
    "        'min_child_weight': [1, 5, 10],\n",
    "        'gamma': [0.5, 1, 1.5, 2, 5],\n",
    "        'subsample': [0.6, 0.8, 1.0],\n",
    "        'colsample_bytree': [0.6, 0.8, 1.0],\n",
    "        'max_depth': [5, 7, 9, 11],\n",
    "        'n_estimators': [500, 600, 700],\n",
    "        'learning_rate':[0.01, 0.05, 0.1]\n",
    "        }\n"
   ]
  },
  {
   "cell_type": "code",
   "execution_count": 175,
   "id": "1f02500e",
   "metadata": {
    "ExecuteTime": {
     "end_time": "2022-06-17T14:29:36.572580Z",
     "start_time": "2022-06-17T14:29:36.570305Z"
    }
   },
   "outputs": [],
   "source": [
    "xgb = XGBClassifier( objective='binary:logistic', nthread=1)\n"
   ]
  },
  {
   "cell_type": "code",
   "execution_count": 176,
   "id": "0c79d855",
   "metadata": {
    "ExecuteTime": {
     "end_time": "2022-06-17T19:35:55.921664Z",
     "start_time": "2022-06-17T14:29:46.184394Z"
    }
   },
   "outputs": [
    {
     "name": "stdout",
     "output_type": "stream",
     "text": [
      "Fitting 5 folds for each of 15 candidates, totalling 75 fits\n"
     ]
    },
    {
     "name": "stderr",
     "output_type": "stream",
     "text": [
      "/Users/ariklevy/opt/anaconda3/lib/python3.9/site-packages/xgboost/sklearn.py:1224: UserWarning: The use of label encoder in XGBClassifier is deprecated and will be removed in a future release. To remove this warning, do the following: 1) Pass option use_label_encoder=False when constructing XGBClassifier object; and 2) Encode your labels (y) as integers starting with 0, i.e. 0, 1, 2, ..., [num_class - 1].\n",
      "  warnings.warn(label_encoder_deprecation_msg, UserWarning)\n",
      "/Users/ariklevy/opt/anaconda3/lib/python3.9/site-packages/xgboost/sklearn.py:1224: UserWarning: The use of label encoder in XGBClassifier is deprecated and will be removed in a future release. To remove this warning, do the following: 1) Pass option use_label_encoder=False when constructing XGBClassifier object; and 2) Encode your labels (y) as integers starting with 0, i.e. 0, 1, 2, ..., [num_class - 1].\n",
      "  warnings.warn(label_encoder_deprecation_msg, UserWarning)\n",
      "/Users/ariklevy/opt/anaconda3/lib/python3.9/site-packages/xgboost/sklearn.py:1224: UserWarning: The use of label encoder in XGBClassifier is deprecated and will be removed in a future release. To remove this warning, do the following: 1) Pass option use_label_encoder=False when constructing XGBClassifier object; and 2) Encode your labels (y) as integers starting with 0, i.e. 0, 1, 2, ..., [num_class - 1].\n",
      "  warnings.warn(label_encoder_deprecation_msg, UserWarning)\n",
      "/Users/ariklevy/opt/anaconda3/lib/python3.9/site-packages/xgboost/sklearn.py:1224: UserWarning: The use of label encoder in XGBClassifier is deprecated and will be removed in a future release. To remove this warning, do the following: 1) Pass option use_label_encoder=False when constructing XGBClassifier object; and 2) Encode your labels (y) as integers starting with 0, i.e. 0, 1, 2, ..., [num_class - 1].\n",
      "  warnings.warn(label_encoder_deprecation_msg, UserWarning)\n",
      "/Users/ariklevy/opt/anaconda3/lib/python3.9/site-packages/xgboost/sklearn.py:1224: UserWarning: The use of label encoder in XGBClassifier is deprecated and will be removed in a future release. To remove this warning, do the following: 1) Pass option use_label_encoder=False when constructing XGBClassifier object; and 2) Encode your labels (y) as integers starting with 0, i.e. 0, 1, 2, ..., [num_class - 1].\n",
      "  warnings.warn(label_encoder_deprecation_msg, UserWarning)\n",
      "/Users/ariklevy/opt/anaconda3/lib/python3.9/site-packages/xgboost/sklearn.py:1224: UserWarning: The use of label encoder in XGBClassifier is deprecated and will be removed in a future release. To remove this warning, do the following: 1) Pass option use_label_encoder=False when constructing XGBClassifier object; and 2) Encode your labels (y) as integers starting with 0, i.e. 0, 1, 2, ..., [num_class - 1].\n",
      "  warnings.warn(label_encoder_deprecation_msg, UserWarning)\n",
      "/Users/ariklevy/opt/anaconda3/lib/python3.9/site-packages/xgboost/sklearn.py:1224: UserWarning: The use of label encoder in XGBClassifier is deprecated and will be removed in a future release. To remove this warning, do the following: 1) Pass option use_label_encoder=False when constructing XGBClassifier object; and 2) Encode your labels (y) as integers starting with 0, i.e. 0, 1, 2, ..., [num_class - 1].\n",
      "  warnings.warn(label_encoder_deprecation_msg, UserWarning)\n",
      "/Users/ariklevy/opt/anaconda3/lib/python3.9/site-packages/xgboost/sklearn.py:1224: UserWarning: The use of label encoder in XGBClassifier is deprecated and will be removed in a future release. To remove this warning, do the following: 1) Pass option use_label_encoder=False when constructing XGBClassifier object; and 2) Encode your labels (y) as integers starting with 0, i.e. 0, 1, 2, ..., [num_class - 1].\n",
      "  warnings.warn(label_encoder_deprecation_msg, UserWarning)\n",
      "/Users/ariklevy/opt/anaconda3/lib/python3.9/site-packages/xgboost/sklearn.py:1224: UserWarning: The use of label encoder in XGBClassifier is deprecated and will be removed in a future release. To remove this warning, do the following: 1) Pass option use_label_encoder=False when constructing XGBClassifier object; and 2) Encode your labels (y) as integers starting with 0, i.e. 0, 1, 2, ..., [num_class - 1].\n",
      "  warnings.warn(label_encoder_deprecation_msg, UserWarning)\n",
      "/Users/ariklevy/opt/anaconda3/lib/python3.9/site-packages/xgboost/sklearn.py:1224: UserWarning: The use of label encoder in XGBClassifier is deprecated and will be removed in a future release. To remove this warning, do the following: 1) Pass option use_label_encoder=False when constructing XGBClassifier object; and 2) Encode your labels (y) as integers starting with 0, i.e. 0, 1, 2, ..., [num_class - 1].\n",
      "  warnings.warn(label_encoder_deprecation_msg, UserWarning)\n",
      "/Users/ariklevy/opt/anaconda3/lib/python3.9/site-packages/xgboost/sklearn.py:1224: UserWarning: The use of label encoder in XGBClassifier is deprecated and will be removed in a future release. To remove this warning, do the following: 1) Pass option use_label_encoder=False when constructing XGBClassifier object; and 2) Encode your labels (y) as integers starting with 0, i.e. 0, 1, 2, ..., [num_class - 1].\n",
      "  warnings.warn(label_encoder_deprecation_msg, UserWarning)\n",
      "/Users/ariklevy/opt/anaconda3/lib/python3.9/site-packages/xgboost/sklearn.py:1224: UserWarning: The use of label encoder in XGBClassifier is deprecated and will be removed in a future release. To remove this warning, do the following: 1) Pass option use_label_encoder=False when constructing XGBClassifier object; and 2) Encode your labels (y) as integers starting with 0, i.e. 0, 1, 2, ..., [num_class - 1].\n",
      "  warnings.warn(label_encoder_deprecation_msg, UserWarning)\n",
      "/Users/ariklevy/opt/anaconda3/lib/python3.9/site-packages/xgboost/sklearn.py:1224: UserWarning: The use of label encoder in XGBClassifier is deprecated and will be removed in a future release. To remove this warning, do the following: 1) Pass option use_label_encoder=False when constructing XGBClassifier object; and 2) Encode your labels (y) as integers starting with 0, i.e. 0, 1, 2, ..., [num_class - 1].\n",
      "  warnings.warn(label_encoder_deprecation_msg, UserWarning)\n",
      "/Users/ariklevy/opt/anaconda3/lib/python3.9/site-packages/xgboost/sklearn.py:1224: UserWarning: The use of label encoder in XGBClassifier is deprecated and will be removed in a future release. To remove this warning, do the following: 1) Pass option use_label_encoder=False when constructing XGBClassifier object; and 2) Encode your labels (y) as integers starting with 0, i.e. 0, 1, 2, ..., [num_class - 1].\n",
      "  warnings.warn(label_encoder_deprecation_msg, UserWarning)\n",
      "/Users/ariklevy/opt/anaconda3/lib/python3.9/site-packages/xgboost/sklearn.py:1224: UserWarning: The use of label encoder in XGBClassifier is deprecated and will be removed in a future release. To remove this warning, do the following: 1) Pass option use_label_encoder=False when constructing XGBClassifier object; and 2) Encode your labels (y) as integers starting with 0, i.e. 0, 1, 2, ..., [num_class - 1].\n",
      "  warnings.warn(label_encoder_deprecation_msg, UserWarning)\n",
      "/Users/ariklevy/opt/anaconda3/lib/python3.9/site-packages/xgboost/sklearn.py:1224: UserWarning: The use of label encoder in XGBClassifier is deprecated and will be removed in a future release. To remove this warning, do the following: 1) Pass option use_label_encoder=False when constructing XGBClassifier object; and 2) Encode your labels (y) as integers starting with 0, i.e. 0, 1, 2, ..., [num_class - 1].\n",
      "  warnings.warn(label_encoder_deprecation_msg, UserWarning)\n",
      "/Users/ariklevy/opt/anaconda3/lib/python3.9/site-packages/xgboost/sklearn.py:1224: UserWarning: The use of label encoder in XGBClassifier is deprecated and will be removed in a future release. To remove this warning, do the following: 1) Pass option use_label_encoder=False when constructing XGBClassifier object; and 2) Encode your labels (y) as integers starting with 0, i.e. 0, 1, 2, ..., [num_class - 1].\n",
      "  warnings.warn(label_encoder_deprecation_msg, UserWarning)\n",
      "/Users/ariklevy/opt/anaconda3/lib/python3.9/site-packages/xgboost/sklearn.py:1224: UserWarning: The use of label encoder in XGBClassifier is deprecated and will be removed in a future release. To remove this warning, do the following: 1) Pass option use_label_encoder=False when constructing XGBClassifier object; and 2) Encode your labels (y) as integers starting with 0, i.e. 0, 1, 2, ..., [num_class - 1].\n",
      "  warnings.warn(label_encoder_deprecation_msg, UserWarning)\n"
     ]
    },
    {
     "name": "stderr",
     "output_type": "stream",
     "text": [
      "/Users/ariklevy/opt/anaconda3/lib/python3.9/site-packages/xgboost/sklearn.py:1224: UserWarning: The use of label encoder in XGBClassifier is deprecated and will be removed in a future release. To remove this warning, do the following: 1) Pass option use_label_encoder=False when constructing XGBClassifier object; and 2) Encode your labels (y) as integers starting with 0, i.e. 0, 1, 2, ..., [num_class - 1].\n",
      "  warnings.warn(label_encoder_deprecation_msg, UserWarning)\n",
      "/Users/ariklevy/opt/anaconda3/lib/python3.9/site-packages/xgboost/sklearn.py:1224: UserWarning: The use of label encoder in XGBClassifier is deprecated and will be removed in a future release. To remove this warning, do the following: 1) Pass option use_label_encoder=False when constructing XGBClassifier object; and 2) Encode your labels (y) as integers starting with 0, i.e. 0, 1, 2, ..., [num_class - 1].\n",
      "  warnings.warn(label_encoder_deprecation_msg, UserWarning)\n",
      "/Users/ariklevy/opt/anaconda3/lib/python3.9/site-packages/xgboost/sklearn.py:1224: UserWarning: The use of label encoder in XGBClassifier is deprecated and will be removed in a future release. To remove this warning, do the following: 1) Pass option use_label_encoder=False when constructing XGBClassifier object; and 2) Encode your labels (y) as integers starting with 0, i.e. 0, 1, 2, ..., [num_class - 1].\n",
      "  warnings.warn(label_encoder_deprecation_msg, UserWarning)\n",
      "/Users/ariklevy/opt/anaconda3/lib/python3.9/site-packages/xgboost/sklearn.py:1224: UserWarning: The use of label encoder in XGBClassifier is deprecated and will be removed in a future release. To remove this warning, do the following: 1) Pass option use_label_encoder=False when constructing XGBClassifier object; and 2) Encode your labels (y) as integers starting with 0, i.e. 0, 1, 2, ..., [num_class - 1].\n",
      "  warnings.warn(label_encoder_deprecation_msg, UserWarning)\n",
      "/Users/ariklevy/opt/anaconda3/lib/python3.9/site-packages/xgboost/sklearn.py:1224: UserWarning: The use of label encoder in XGBClassifier is deprecated and will be removed in a future release. To remove this warning, do the following: 1) Pass option use_label_encoder=False when constructing XGBClassifier object; and 2) Encode your labels (y) as integers starting with 0, i.e. 0, 1, 2, ..., [num_class - 1].\n",
      "  warnings.warn(label_encoder_deprecation_msg, UserWarning)\n",
      "/Users/ariklevy/opt/anaconda3/lib/python3.9/site-packages/xgboost/sklearn.py:1224: UserWarning: The use of label encoder in XGBClassifier is deprecated and will be removed in a future release. To remove this warning, do the following: 1) Pass option use_label_encoder=False when constructing XGBClassifier object; and 2) Encode your labels (y) as integers starting with 0, i.e. 0, 1, 2, ..., [num_class - 1].\n",
      "  warnings.warn(label_encoder_deprecation_msg, UserWarning)\n",
      "/Users/ariklevy/opt/anaconda3/lib/python3.9/site-packages/xgboost/sklearn.py:1224: UserWarning: The use of label encoder in XGBClassifier is deprecated and will be removed in a future release. To remove this warning, do the following: 1) Pass option use_label_encoder=False when constructing XGBClassifier object; and 2) Encode your labels (y) as integers starting with 0, i.e. 0, 1, 2, ..., [num_class - 1].\n",
      "  warnings.warn(label_encoder_deprecation_msg, UserWarning)\n",
      "/Users/ariklevy/opt/anaconda3/lib/python3.9/site-packages/xgboost/sklearn.py:1224: UserWarning: The use of label encoder in XGBClassifier is deprecated and will be removed in a future release. To remove this warning, do the following: 1) Pass option use_label_encoder=False when constructing XGBClassifier object; and 2) Encode your labels (y) as integers starting with 0, i.e. 0, 1, 2, ..., [num_class - 1].\n",
      "  warnings.warn(label_encoder_deprecation_msg, UserWarning)\n",
      "/Users/ariklevy/opt/anaconda3/lib/python3.9/site-packages/xgboost/sklearn.py:1224: UserWarning: The use of label encoder in XGBClassifier is deprecated and will be removed in a future release. To remove this warning, do the following: 1) Pass option use_label_encoder=False when constructing XGBClassifier object; and 2) Encode your labels (y) as integers starting with 0, i.e. 0, 1, 2, ..., [num_class - 1].\n",
      "  warnings.warn(label_encoder_deprecation_msg, UserWarning)\n",
      "/Users/ariklevy/opt/anaconda3/lib/python3.9/site-packages/xgboost/sklearn.py:1224: UserWarning: The use of label encoder in XGBClassifier is deprecated and will be removed in a future release. To remove this warning, do the following: 1) Pass option use_label_encoder=False when constructing XGBClassifier object; and 2) Encode your labels (y) as integers starting with 0, i.e. 0, 1, 2, ..., [num_class - 1].\n",
      "  warnings.warn(label_encoder_deprecation_msg, UserWarning)\n",
      "/Users/ariklevy/opt/anaconda3/lib/python3.9/site-packages/xgboost/sklearn.py:1224: UserWarning: The use of label encoder in XGBClassifier is deprecated and will be removed in a future release. To remove this warning, do the following: 1) Pass option use_label_encoder=False when constructing XGBClassifier object; and 2) Encode your labels (y) as integers starting with 0, i.e. 0, 1, 2, ..., [num_class - 1].\n",
      "  warnings.warn(label_encoder_deprecation_msg, UserWarning)\n",
      "/Users/ariklevy/opt/anaconda3/lib/python3.9/site-packages/xgboost/sklearn.py:1224: UserWarning: The use of label encoder in XGBClassifier is deprecated and will be removed in a future release. To remove this warning, do the following: 1) Pass option use_label_encoder=False when constructing XGBClassifier object; and 2) Encode your labels (y) as integers starting with 0, i.e. 0, 1, 2, ..., [num_class - 1].\n",
      "  warnings.warn(label_encoder_deprecation_msg, UserWarning)\n",
      "/Users/ariklevy/opt/anaconda3/lib/python3.9/site-packages/xgboost/sklearn.py:1224: UserWarning: The use of label encoder in XGBClassifier is deprecated and will be removed in a future release. To remove this warning, do the following: 1) Pass option use_label_encoder=False when constructing XGBClassifier object; and 2) Encode your labels (y) as integers starting with 0, i.e. 0, 1, 2, ..., [num_class - 1].\n",
      "  warnings.warn(label_encoder_deprecation_msg, UserWarning)\n",
      "/Users/ariklevy/opt/anaconda3/lib/python3.9/site-packages/xgboost/sklearn.py:1224: UserWarning: The use of label encoder in XGBClassifier is deprecated and will be removed in a future release. To remove this warning, do the following: 1) Pass option use_label_encoder=False when constructing XGBClassifier object; and 2) Encode your labels (y) as integers starting with 0, i.e. 0, 1, 2, ..., [num_class - 1].\n",
      "  warnings.warn(label_encoder_deprecation_msg, UserWarning)\n",
      "/Users/ariklevy/opt/anaconda3/lib/python3.9/site-packages/xgboost/sklearn.py:1224: UserWarning: The use of label encoder in XGBClassifier is deprecated and will be removed in a future release. To remove this warning, do the following: 1) Pass option use_label_encoder=False when constructing XGBClassifier object; and 2) Encode your labels (y) as integers starting with 0, i.e. 0, 1, 2, ..., [num_class - 1].\n",
      "  warnings.warn(label_encoder_deprecation_msg, UserWarning)\n",
      "/Users/ariklevy/opt/anaconda3/lib/python3.9/site-packages/xgboost/sklearn.py:1224: UserWarning: The use of label encoder in XGBClassifier is deprecated and will be removed in a future release. To remove this warning, do the following: 1) Pass option use_label_encoder=False when constructing XGBClassifier object; and 2) Encode your labels (y) as integers starting with 0, i.e. 0, 1, 2, ..., [num_class - 1].\n",
      "  warnings.warn(label_encoder_deprecation_msg, UserWarning)\n",
      "/Users/ariklevy/opt/anaconda3/lib/python3.9/site-packages/xgboost/sklearn.py:1224: UserWarning: The use of label encoder in XGBClassifier is deprecated and will be removed in a future release. To remove this warning, do the following: 1) Pass option use_label_encoder=False when constructing XGBClassifier object; and 2) Encode your labels (y) as integers starting with 0, i.e. 0, 1, 2, ..., [num_class - 1].\n",
      "  warnings.warn(label_encoder_deprecation_msg, UserWarning)\n",
      "/Users/ariklevy/opt/anaconda3/lib/python3.9/site-packages/xgboost/sklearn.py:1224: UserWarning: The use of label encoder in XGBClassifier is deprecated and will be removed in a future release. To remove this warning, do the following: 1) Pass option use_label_encoder=False when constructing XGBClassifier object; and 2) Encode your labels (y) as integers starting with 0, i.e. 0, 1, 2, ..., [num_class - 1].\n",
      "  warnings.warn(label_encoder_deprecation_msg, UserWarning)\n"
     ]
    },
    {
     "name": "stderr",
     "output_type": "stream",
     "text": [
      "/Users/ariklevy/opt/anaconda3/lib/python3.9/site-packages/xgboost/sklearn.py:1224: UserWarning: The use of label encoder in XGBClassifier is deprecated and will be removed in a future release. To remove this warning, do the following: 1) Pass option use_label_encoder=False when constructing XGBClassifier object; and 2) Encode your labels (y) as integers starting with 0, i.e. 0, 1, 2, ..., [num_class - 1].\n",
      "  warnings.warn(label_encoder_deprecation_msg, UserWarning)\n",
      "/Users/ariklevy/opt/anaconda3/lib/python3.9/site-packages/xgboost/sklearn.py:1224: UserWarning: The use of label encoder in XGBClassifier is deprecated and will be removed in a future release. To remove this warning, do the following: 1) Pass option use_label_encoder=False when constructing XGBClassifier object; and 2) Encode your labels (y) as integers starting with 0, i.e. 0, 1, 2, ..., [num_class - 1].\n",
      "  warnings.warn(label_encoder_deprecation_msg, UserWarning)\n",
      "/Users/ariklevy/opt/anaconda3/lib/python3.9/site-packages/xgboost/sklearn.py:1224: UserWarning: The use of label encoder in XGBClassifier is deprecated and will be removed in a future release. To remove this warning, do the following: 1) Pass option use_label_encoder=False when constructing XGBClassifier object; and 2) Encode your labels (y) as integers starting with 0, i.e. 0, 1, 2, ..., [num_class - 1].\n",
      "  warnings.warn(label_encoder_deprecation_msg, UserWarning)\n",
      "/Users/ariklevy/opt/anaconda3/lib/python3.9/site-packages/xgboost/sklearn.py:1224: UserWarning: The use of label encoder in XGBClassifier is deprecated and will be removed in a future release. To remove this warning, do the following: 1) Pass option use_label_encoder=False when constructing XGBClassifier object; and 2) Encode your labels (y) as integers starting with 0, i.e. 0, 1, 2, ..., [num_class - 1].\n",
      "  warnings.warn(label_encoder_deprecation_msg, UserWarning)\n",
      "/Users/ariklevy/opt/anaconda3/lib/python3.9/site-packages/xgboost/sklearn.py:1224: UserWarning: The use of label encoder in XGBClassifier is deprecated and will be removed in a future release. To remove this warning, do the following: 1) Pass option use_label_encoder=False when constructing XGBClassifier object; and 2) Encode your labels (y) as integers starting with 0, i.e. 0, 1, 2, ..., [num_class - 1].\n",
      "  warnings.warn(label_encoder_deprecation_msg, UserWarning)\n",
      "/Users/ariklevy/opt/anaconda3/lib/python3.9/site-packages/xgboost/sklearn.py:1224: UserWarning: The use of label encoder in XGBClassifier is deprecated and will be removed in a future release. To remove this warning, do the following: 1) Pass option use_label_encoder=False when constructing XGBClassifier object; and 2) Encode your labels (y) as integers starting with 0, i.e. 0, 1, 2, ..., [num_class - 1].\n",
      "  warnings.warn(label_encoder_deprecation_msg, UserWarning)\n",
      "/Users/ariklevy/opt/anaconda3/lib/python3.9/site-packages/xgboost/sklearn.py:1224: UserWarning: The use of label encoder in XGBClassifier is deprecated and will be removed in a future release. To remove this warning, do the following: 1) Pass option use_label_encoder=False when constructing XGBClassifier object; and 2) Encode your labels (y) as integers starting with 0, i.e. 0, 1, 2, ..., [num_class - 1].\n",
      "  warnings.warn(label_encoder_deprecation_msg, UserWarning)\n",
      "/Users/ariklevy/opt/anaconda3/lib/python3.9/site-packages/xgboost/sklearn.py:1224: UserWarning: The use of label encoder in XGBClassifier is deprecated and will be removed in a future release. To remove this warning, do the following: 1) Pass option use_label_encoder=False when constructing XGBClassifier object; and 2) Encode your labels (y) as integers starting with 0, i.e. 0, 1, 2, ..., [num_class - 1].\n",
      "  warnings.warn(label_encoder_deprecation_msg, UserWarning)\n",
      "/Users/ariklevy/opt/anaconda3/lib/python3.9/site-packages/xgboost/sklearn.py:1224: UserWarning: The use of label encoder in XGBClassifier is deprecated and will be removed in a future release. To remove this warning, do the following: 1) Pass option use_label_encoder=False when constructing XGBClassifier object; and 2) Encode your labels (y) as integers starting with 0, i.e. 0, 1, 2, ..., [num_class - 1].\n",
      "  warnings.warn(label_encoder_deprecation_msg, UserWarning)\n",
      "/Users/ariklevy/opt/anaconda3/lib/python3.9/site-packages/xgboost/sklearn.py:1224: UserWarning: The use of label encoder in XGBClassifier is deprecated and will be removed in a future release. To remove this warning, do the following: 1) Pass option use_label_encoder=False when constructing XGBClassifier object; and 2) Encode your labels (y) as integers starting with 0, i.e. 0, 1, 2, ..., [num_class - 1].\n",
      "  warnings.warn(label_encoder_deprecation_msg, UserWarning)\n",
      "/Users/ariklevy/opt/anaconda3/lib/python3.9/site-packages/xgboost/sklearn.py:1224: UserWarning: The use of label encoder in XGBClassifier is deprecated and will be removed in a future release. To remove this warning, do the following: 1) Pass option use_label_encoder=False when constructing XGBClassifier object; and 2) Encode your labels (y) as integers starting with 0, i.e. 0, 1, 2, ..., [num_class - 1].\n",
      "  warnings.warn(label_encoder_deprecation_msg, UserWarning)\n",
      "/Users/ariklevy/opt/anaconda3/lib/python3.9/site-packages/xgboost/sklearn.py:1224: UserWarning: The use of label encoder in XGBClassifier is deprecated and will be removed in a future release. To remove this warning, do the following: 1) Pass option use_label_encoder=False when constructing XGBClassifier object; and 2) Encode your labels (y) as integers starting with 0, i.e. 0, 1, 2, ..., [num_class - 1].\n",
      "  warnings.warn(label_encoder_deprecation_msg, UserWarning)\n",
      "/Users/ariklevy/opt/anaconda3/lib/python3.9/site-packages/xgboost/sklearn.py:1224: UserWarning: The use of label encoder in XGBClassifier is deprecated and will be removed in a future release. To remove this warning, do the following: 1) Pass option use_label_encoder=False when constructing XGBClassifier object; and 2) Encode your labels (y) as integers starting with 0, i.e. 0, 1, 2, ..., [num_class - 1].\n",
      "  warnings.warn(label_encoder_deprecation_msg, UserWarning)\n",
      "/Users/ariklevy/opt/anaconda3/lib/python3.9/site-packages/xgboost/sklearn.py:1224: UserWarning: The use of label encoder in XGBClassifier is deprecated and will be removed in a future release. To remove this warning, do the following: 1) Pass option use_label_encoder=False when constructing XGBClassifier object; and 2) Encode your labels (y) as integers starting with 0, i.e. 0, 1, 2, ..., [num_class - 1].\n",
      "  warnings.warn(label_encoder_deprecation_msg, UserWarning)\n",
      "/Users/ariklevy/opt/anaconda3/lib/python3.9/site-packages/xgboost/sklearn.py:1224: UserWarning: The use of label encoder in XGBClassifier is deprecated and will be removed in a future release. To remove this warning, do the following: 1) Pass option use_label_encoder=False when constructing XGBClassifier object; and 2) Encode your labels (y) as integers starting with 0, i.e. 0, 1, 2, ..., [num_class - 1].\n",
      "  warnings.warn(label_encoder_deprecation_msg, UserWarning)\n",
      "/Users/ariklevy/opt/anaconda3/lib/python3.9/site-packages/xgboost/sklearn.py:1224: UserWarning: The use of label encoder in XGBClassifier is deprecated and will be removed in a future release. To remove this warning, do the following: 1) Pass option use_label_encoder=False when constructing XGBClassifier object; and 2) Encode your labels (y) as integers starting with 0, i.e. 0, 1, 2, ..., [num_class - 1].\n",
      "  warnings.warn(label_encoder_deprecation_msg, UserWarning)\n",
      "/Users/ariklevy/opt/anaconda3/lib/python3.9/site-packages/xgboost/sklearn.py:1224: UserWarning: The use of label encoder in XGBClassifier is deprecated and will be removed in a future release. To remove this warning, do the following: 1) Pass option use_label_encoder=False when constructing XGBClassifier object; and 2) Encode your labels (y) as integers starting with 0, i.e. 0, 1, 2, ..., [num_class - 1].\n",
      "  warnings.warn(label_encoder_deprecation_msg, UserWarning)\n",
      "/Users/ariklevy/opt/anaconda3/lib/python3.9/site-packages/xgboost/sklearn.py:1224: UserWarning: The use of label encoder in XGBClassifier is deprecated and will be removed in a future release. To remove this warning, do the following: 1) Pass option use_label_encoder=False when constructing XGBClassifier object; and 2) Encode your labels (y) as integers starting with 0, i.e. 0, 1, 2, ..., [num_class - 1].\n",
      "  warnings.warn(label_encoder_deprecation_msg, UserWarning)\n"
     ]
    },
    {
     "name": "stderr",
     "output_type": "stream",
     "text": [
      "/Users/ariklevy/opt/anaconda3/lib/python3.9/site-packages/xgboost/sklearn.py:1224: UserWarning: The use of label encoder in XGBClassifier is deprecated and will be removed in a future release. To remove this warning, do the following: 1) Pass option use_label_encoder=False when constructing XGBClassifier object; and 2) Encode your labels (y) as integers starting with 0, i.e. 0, 1, 2, ..., [num_class - 1].\n",
      "  warnings.warn(label_encoder_deprecation_msg, UserWarning)\n",
      "/Users/ariklevy/opt/anaconda3/lib/python3.9/site-packages/xgboost/sklearn.py:1224: UserWarning: The use of label encoder in XGBClassifier is deprecated and will be removed in a future release. To remove this warning, do the following: 1) Pass option use_label_encoder=False when constructing XGBClassifier object; and 2) Encode your labels (y) as integers starting with 0, i.e. 0, 1, 2, ..., [num_class - 1].\n",
      "  warnings.warn(label_encoder_deprecation_msg, UserWarning)\n",
      "/Users/ariklevy/opt/anaconda3/lib/python3.9/site-packages/xgboost/sklearn.py:1224: UserWarning: The use of label encoder in XGBClassifier is deprecated and will be removed in a future release. To remove this warning, do the following: 1) Pass option use_label_encoder=False when constructing XGBClassifier object; and 2) Encode your labels (y) as integers starting with 0, i.e. 0, 1, 2, ..., [num_class - 1].\n",
      "  warnings.warn(label_encoder_deprecation_msg, UserWarning)\n",
      "/Users/ariklevy/opt/anaconda3/lib/python3.9/site-packages/xgboost/sklearn.py:1224: UserWarning: The use of label encoder in XGBClassifier is deprecated and will be removed in a future release. To remove this warning, do the following: 1) Pass option use_label_encoder=False when constructing XGBClassifier object; and 2) Encode your labels (y) as integers starting with 0, i.e. 0, 1, 2, ..., [num_class - 1].\n",
      "  warnings.warn(label_encoder_deprecation_msg, UserWarning)\n",
      "/Users/ariklevy/opt/anaconda3/lib/python3.9/site-packages/xgboost/sklearn.py:1224: UserWarning: The use of label encoder in XGBClassifier is deprecated and will be removed in a future release. To remove this warning, do the following: 1) Pass option use_label_encoder=False when constructing XGBClassifier object; and 2) Encode your labels (y) as integers starting with 0, i.e. 0, 1, 2, ..., [num_class - 1].\n",
      "  warnings.warn(label_encoder_deprecation_msg, UserWarning)\n",
      "/Users/ariklevy/opt/anaconda3/lib/python3.9/site-packages/xgboost/sklearn.py:1224: UserWarning: The use of label encoder in XGBClassifier is deprecated and will be removed in a future release. To remove this warning, do the following: 1) Pass option use_label_encoder=False when constructing XGBClassifier object; and 2) Encode your labels (y) as integers starting with 0, i.e. 0, 1, 2, ..., [num_class - 1].\n",
      "  warnings.warn(label_encoder_deprecation_msg, UserWarning)\n",
      "/Users/ariklevy/opt/anaconda3/lib/python3.9/site-packages/xgboost/sklearn.py:1224: UserWarning: The use of label encoder in XGBClassifier is deprecated and will be removed in a future release. To remove this warning, do the following: 1) Pass option use_label_encoder=False when constructing XGBClassifier object; and 2) Encode your labels (y) as integers starting with 0, i.e. 0, 1, 2, ..., [num_class - 1].\n",
      "  warnings.warn(label_encoder_deprecation_msg, UserWarning)\n",
      "/Users/ariklevy/opt/anaconda3/lib/python3.9/site-packages/xgboost/sklearn.py:1224: UserWarning: The use of label encoder in XGBClassifier is deprecated and will be removed in a future release. To remove this warning, do the following: 1) Pass option use_label_encoder=False when constructing XGBClassifier object; and 2) Encode your labels (y) as integers starting with 0, i.e. 0, 1, 2, ..., [num_class - 1].\n",
      "  warnings.warn(label_encoder_deprecation_msg, UserWarning)\n",
      "/Users/ariklevy/opt/anaconda3/lib/python3.9/site-packages/xgboost/sklearn.py:1224: UserWarning: The use of label encoder in XGBClassifier is deprecated and will be removed in a future release. To remove this warning, do the following: 1) Pass option use_label_encoder=False when constructing XGBClassifier object; and 2) Encode your labels (y) as integers starting with 0, i.e. 0, 1, 2, ..., [num_class - 1].\n",
      "  warnings.warn(label_encoder_deprecation_msg, UserWarning)\n",
      "/Users/ariklevy/opt/anaconda3/lib/python3.9/site-packages/xgboost/sklearn.py:1224: UserWarning: The use of label encoder in XGBClassifier is deprecated and will be removed in a future release. To remove this warning, do the following: 1) Pass option use_label_encoder=False when constructing XGBClassifier object; and 2) Encode your labels (y) as integers starting with 0, i.e. 0, 1, 2, ..., [num_class - 1].\n",
      "  warnings.warn(label_encoder_deprecation_msg, UserWarning)\n",
      "/Users/ariklevy/opt/anaconda3/lib/python3.9/site-packages/xgboost/sklearn.py:1224: UserWarning: The use of label encoder in XGBClassifier is deprecated and will be removed in a future release. To remove this warning, do the following: 1) Pass option use_label_encoder=False when constructing XGBClassifier object; and 2) Encode your labels (y) as integers starting with 0, i.e. 0, 1, 2, ..., [num_class - 1].\n",
      "  warnings.warn(label_encoder_deprecation_msg, UserWarning)\n",
      "/Users/ariklevy/opt/anaconda3/lib/python3.9/site-packages/xgboost/sklearn.py:1224: UserWarning: The use of label encoder in XGBClassifier is deprecated and will be removed in a future release. To remove this warning, do the following: 1) Pass option use_label_encoder=False when constructing XGBClassifier object; and 2) Encode your labels (y) as integers starting with 0, i.e. 0, 1, 2, ..., [num_class - 1].\n",
      "  warnings.warn(label_encoder_deprecation_msg, UserWarning)\n",
      "/Users/ariklevy/opt/anaconda3/lib/python3.9/site-packages/xgboost/sklearn.py:1224: UserWarning: The use of label encoder in XGBClassifier is deprecated and will be removed in a future release. To remove this warning, do the following: 1) Pass option use_label_encoder=False when constructing XGBClassifier object; and 2) Encode your labels (y) as integers starting with 0, i.e. 0, 1, 2, ..., [num_class - 1].\n",
      "  warnings.warn(label_encoder_deprecation_msg, UserWarning)\n",
      "/Users/ariklevy/opt/anaconda3/lib/python3.9/site-packages/xgboost/sklearn.py:1224: UserWarning: The use of label encoder in XGBClassifier is deprecated and will be removed in a future release. To remove this warning, do the following: 1) Pass option use_label_encoder=False when constructing XGBClassifier object; and 2) Encode your labels (y) as integers starting with 0, i.e. 0, 1, 2, ..., [num_class - 1].\n",
      "  warnings.warn(label_encoder_deprecation_msg, UserWarning)\n",
      "/Users/ariklevy/opt/anaconda3/lib/python3.9/site-packages/xgboost/sklearn.py:1224: UserWarning: The use of label encoder in XGBClassifier is deprecated and will be removed in a future release. To remove this warning, do the following: 1) Pass option use_label_encoder=False when constructing XGBClassifier object; and 2) Encode your labels (y) as integers starting with 0, i.e. 0, 1, 2, ..., [num_class - 1].\n",
      "  warnings.warn(label_encoder_deprecation_msg, UserWarning)\n",
      "/Users/ariklevy/opt/anaconda3/lib/python3.9/site-packages/xgboost/sklearn.py:1224: UserWarning: The use of label encoder in XGBClassifier is deprecated and will be removed in a future release. To remove this warning, do the following: 1) Pass option use_label_encoder=False when constructing XGBClassifier object; and 2) Encode your labels (y) as integers starting with 0, i.e. 0, 1, 2, ..., [num_class - 1].\n",
      "  warnings.warn(label_encoder_deprecation_msg, UserWarning)\n",
      "/Users/ariklevy/opt/anaconda3/lib/python3.9/site-packages/xgboost/sklearn.py:1224: UserWarning: The use of label encoder in XGBClassifier is deprecated and will be removed in a future release. To remove this warning, do the following: 1) Pass option use_label_encoder=False when constructing XGBClassifier object; and 2) Encode your labels (y) as integers starting with 0, i.e. 0, 1, 2, ..., [num_class - 1].\n",
      "  warnings.warn(label_encoder_deprecation_msg, UserWarning)\n",
      "/Users/ariklevy/opt/anaconda3/lib/python3.9/site-packages/xgboost/sklearn.py:1224: UserWarning: The use of label encoder in XGBClassifier is deprecated and will be removed in a future release. To remove this warning, do the following: 1) Pass option use_label_encoder=False when constructing XGBClassifier object; and 2) Encode your labels (y) as integers starting with 0, i.e. 0, 1, 2, ..., [num_class - 1].\n",
      "  warnings.warn(label_encoder_deprecation_msg, UserWarning)\n"
     ]
    },
    {
     "name": "stderr",
     "output_type": "stream",
     "text": [
      "/Users/ariklevy/opt/anaconda3/lib/python3.9/site-packages/xgboost/sklearn.py:1224: UserWarning: The use of label encoder in XGBClassifier is deprecated and will be removed in a future release. To remove this warning, do the following: 1) Pass option use_label_encoder=False when constructing XGBClassifier object; and 2) Encode your labels (y) as integers starting with 0, i.e. 0, 1, 2, ..., [num_class - 1].\n",
      "  warnings.warn(label_encoder_deprecation_msg, UserWarning)\n",
      "/Users/ariklevy/opt/anaconda3/lib/python3.9/site-packages/xgboost/sklearn.py:1224: UserWarning: The use of label encoder in XGBClassifier is deprecated and will be removed in a future release. To remove this warning, do the following: 1) Pass option use_label_encoder=False when constructing XGBClassifier object; and 2) Encode your labels (y) as integers starting with 0, i.e. 0, 1, 2, ..., [num_class - 1].\n",
      "  warnings.warn(label_encoder_deprecation_msg, UserWarning)\n",
      "/Users/ariklevy/opt/anaconda3/lib/python3.9/site-packages/xgboost/sklearn.py:1224: UserWarning: The use of label encoder in XGBClassifier is deprecated and will be removed in a future release. To remove this warning, do the following: 1) Pass option use_label_encoder=False when constructing XGBClassifier object; and 2) Encode your labels (y) as integers starting with 0, i.e. 0, 1, 2, ..., [num_class - 1].\n",
      "  warnings.warn(label_encoder_deprecation_msg, UserWarning)\n"
     ]
    },
    {
     "name": "stdout",
     "output_type": "stream",
     "text": [
      "[17:30:09] WARNING: ../src/learner.cc:1115: Starting in XGBoost 1.3.0, the default evaluation metric used with the objective 'binary:logistic' was changed from 'error' to 'logloss'. Explicitly set eval_metric if you'd like to restore the old behavior.\n",
      "[CV 5/5] END colsample_bytree=0.8, gamma=5, learning_rate=0.01, max_depth=7, min_child_weight=5, n_estimators=500, subsample=0.8;, score=0.694 total time=29.6min\n",
      "[17:59:37] WARNING: ../src/learner.cc:1115: Starting in XGBoost 1.3.0, the default evaluation metric used with the objective 'binary:logistic' was changed from 'error' to 'logloss'. Explicitly set eval_metric if you'd like to restore the old behavior.\n",
      "[CV 3/5] END colsample_bytree=0.6, gamma=0.5, learning_rate=0.1, max_depth=5, min_child_weight=5, n_estimators=500, subsample=1.0;, score=0.696 total time=16.2min\n",
      "[18:15:54] WARNING: ../src/learner.cc:1115: Starting in XGBoost 1.3.0, the default evaluation metric used with the objective 'binary:logistic' was changed from 'error' to 'logloss'. Explicitly set eval_metric if you'd like to restore the old behavior.\n",
      "[CV 4/5] END colsample_bytree=0.6, gamma=2, learning_rate=0.1, max_depth=11, min_child_weight=10, n_estimators=700, subsample=0.8;, score=0.694 total time=46.6min\n",
      "[19:02:30] WARNING: ../src/learner.cc:1115: Starting in XGBoost 1.3.0, the default evaluation metric used with the objective 'binary:logistic' was changed from 'error' to 'logloss'. Explicitly set eval_metric if you'd like to restore the old behavior.\n",
      "[CV 3/5] END colsample_bytree=0.6, gamma=1.5, learning_rate=0.1, max_depth=5, min_child_weight=1, n_estimators=600, subsample=0.6;, score=0.693 total time=19.4min\n",
      "[19:21:55] WARNING: ../src/learner.cc:1115: Starting in XGBoost 1.3.0, the default evaluation metric used with the objective 'binary:logistic' was changed from 'error' to 'logloss'. Explicitly set eval_metric if you'd like to restore the old behavior.\n",
      "[CV 2/5] END colsample_bytree=1.0, gamma=5, learning_rate=0.1, max_depth=5, min_child_weight=1, n_estimators=700, subsample=1.0;, score=0.698 total time=36.0min\n",
      "[19:57:55] WARNING: ../src/learner.cc:1115: Starting in XGBoost 1.3.0, the default evaluation metric used with the objective 'binary:logistic' was changed from 'error' to 'logloss'. Explicitly set eval_metric if you'd like to restore the old behavior.\n",
      "[CV 3/5] END colsample_bytree=1.0, gamma=0.5, learning_rate=0.01, max_depth=7, min_child_weight=1, n_estimators=500, subsample=1.0;, score=0.698 total time=38.2min\n",
      "[20:36:07] WARNING: ../src/learner.cc:1115: Starting in XGBoost 1.3.0, the default evaluation metric used with the objective 'binary:logistic' was changed from 'error' to 'logloss'. Explicitly set eval_metric if you'd like to restore the old behavior.\n",
      "[CV 1/5] END colsample_bytree=0.6, gamma=1, learning_rate=0.01, max_depth=9, min_child_weight=10, n_estimators=500, subsample=0.6;, score=0.694 total time=30.7min\n",
      "[17:30:09] WARNING: ../src/learner.cc:1115: Starting in XGBoost 1.3.0, the default evaluation metric used with the objective 'binary:logistic' was changed from 'error' to 'logloss'. Explicitly set eval_metric if you'd like to restore the old behavior.\n",
      "[CV 1/5] END colsample_bytree=0.8, gamma=5, learning_rate=0.01, max_depth=7, min_child_weight=5, n_estimators=500, subsample=0.8;, score=0.693 total time=29.6min\n",
      "[17:59:41] WARNING: ../src/learner.cc:1115: Starting in XGBoost 1.3.0, the default evaluation metric used with the objective 'binary:logistic' was changed from 'error' to 'logloss'. Explicitly set eval_metric if you'd like to restore the old behavior.\n",
      "[CV 4/5] END colsample_bytree=0.6, gamma=0.5, learning_rate=0.1, max_depth=5, min_child_weight=5, n_estimators=500, subsample=1.0;, score=0.695 total time=14.6min\n",
      "[18:14:19] WARNING: ../src/learner.cc:1115: Starting in XGBoost 1.3.0, the default evaluation metric used with the objective 'binary:logistic' was changed from 'error' to 'logloss'. Explicitly set eval_metric if you'd like to restore the old behavior.\n",
      "[CV 1/5] END colsample_bytree=0.6, gamma=2, learning_rate=0.1, max_depth=11, min_child_weight=10, n_estimators=700, subsample=0.8;, score=0.687 total time=47.8min\n",
      "[19:02:04] WARNING: ../src/learner.cc:1115: Starting in XGBoost 1.3.0, the default evaluation metric used with the objective 'binary:logistic' was changed from 'error' to 'logloss'. Explicitly set eval_metric if you'd like to restore the old behavior.\n",
      "[CV 2/5] END colsample_bytree=0.6, gamma=1.5, learning_rate=0.1, max_depth=5, min_child_weight=1, n_estimators=600, subsample=0.6;, score=0.692 total time=19.5min\n",
      "[19:21:39] WARNING: ../src/learner.cc:1115: Starting in XGBoost 1.3.0, the default evaluation metric used with the objective 'binary:logistic' was changed from 'error' to 'logloss'. Explicitly set eval_metric if you'd like to restore the old behavior.\n",
      "[CV 5/5] END colsample_bytree=0.6, gamma=5, learning_rate=0.05, max_depth=9, min_child_weight=1, n_estimators=600, subsample=0.6;, score=0.691 total time=37.9min\n",
      "[19:59:37] WARNING: ../src/learner.cc:1115: Starting in XGBoost 1.3.0, the default evaluation metric used with the objective 'binary:logistic' was changed from 'error' to 'logloss'. Explicitly set eval_metric if you'd like to restore the old behavior.\n",
      "[CV 4/5] END colsample_bytree=1.0, gamma=0.5, learning_rate=0.01, max_depth=7, min_child_weight=1, n_estimators=500, subsample=1.0;, score=0.696 total time=37.7min\n",
      "[20:37:21] WARNING: ../src/learner.cc:1115: Starting in XGBoost 1.3.0, the default evaluation metric used with the objective 'binary:logistic' was changed from 'error' to 'logloss'. Explicitly set eval_metric if you'd like to restore the old behavior.\n",
      "[CV 2/5] END colsample_bytree=0.6, gamma=1, learning_rate=0.01, max_depth=9, min_child_weight=10, n_estimators=500, subsample=0.6;, score=0.693 total time=30.5min\n",
      "[17:30:09] WARNING: ../src/learner.cc:1115: Starting in XGBoost 1.3.0, the default evaluation metric used with the objective 'binary:logistic' was changed from 'error' to 'logloss'. Explicitly set eval_metric if you'd like to restore the old behavior.\n",
      "[CV 4/5] END colsample_bytree=0.6, gamma=0.5, learning_rate=0.1, max_depth=9, min_child_weight=5, n_estimators=700, subsample=0.8;, score=0.701 total time=41.5min\n",
      "[18:11:36] WARNING: ../src/learner.cc:1115: Starting in XGBoost 1.3.0, the default evaluation metric used with the objective 'binary:logistic' was changed from 'error' to 'logloss'. Explicitly set eval_metric if you'd like to restore the old behavior.\n",
      "[CV 5/5] END colsample_bytree=0.8, gamma=1, learning_rate=0.01, max_depth=7, min_child_weight=10, n_estimators=700, subsample=0.8;, score=0.694 total time=40.7min\n",
      "[18:52:19] WARNING: ../src/learner.cc:1115: Starting in XGBoost 1.3.0, the default evaluation metric used with the objective 'binary:logistic' was changed from 'error' to 'logloss'. Explicitly set eval_metric if you'd like to restore the old behavior.\n",
      "[CV 5/5] END colsample_bytree=0.6, gamma=1, learning_rate=0.1, max_depth=9, min_child_weight=5, n_estimators=500, subsample=0.6;, score=0.693 total time=29.4min\n",
      "[19:21:43] WARNING: ../src/learner.cc:1115: Starting in XGBoost 1.3.0, the default evaluation metric used with the objective 'binary:logistic' was changed from 'error' to 'logloss'. Explicitly set eval_metric if you'd like to restore the old behavior.\n",
      "[CV 1/5] END colsample_bytree=1.0, gamma=5, learning_rate=0.1, max_depth=5, min_child_weight=1, n_estimators=700, subsample=1.0;, score=0.689 total time=35.5min\n",
      "[19:57:14] WARNING: ../src/learner.cc:1115: Starting in XGBoost 1.3.0, the default evaluation metric used with the objective 'binary:logistic' was changed from 'error' to 'logloss'. Explicitly set eval_metric if you'd like to restore the old behavior.\n",
      "[CV 2/5] END colsample_bytree=1.0, gamma=0.5, learning_rate=0.01, max_depth=7, min_child_weight=1, n_estimators=500, subsample=1.0;, score=0.694 total time=40.3min\n",
      "[20:37:33] WARNING: ../src/learner.cc:1115: Starting in XGBoost 1.3.0, the default evaluation metric used with the objective 'binary:logistic' was changed from 'error' to 'logloss'. Explicitly set eval_metric if you'd like to restore the old behavior.\n",
      "[CV 3/5] END colsample_bytree=0.6, gamma=1, learning_rate=0.01, max_depth=9, min_child_weight=10, n_estimators=500, subsample=0.6;, score=0.701 total time=31.2min\n"
     ]
    },
    {
     "name": "stdout",
     "output_type": "stream",
     "text": [
      "[17:30:09] WARNING: ../src/learner.cc:1115: Starting in XGBoost 1.3.0, the default evaluation metric used with the objective 'binary:logistic' was changed from 'error' to 'logloss'. Explicitly set eval_metric if you'd like to restore the old behavior.\n",
      "[CV 2/5] END colsample_bytree=0.8, gamma=5, learning_rate=0.01, max_depth=7, min_child_weight=5, n_estimators=500, subsample=0.8;, score=0.696 total time=34.1min\n",
      "[18:04:09] WARNING: ../src/learner.cc:1115: Starting in XGBoost 1.3.0, the default evaluation metric used with the objective 'binary:logistic' was changed from 'error' to 'logloss'. Explicitly set eval_metric if you'd like to restore the old behavior.\n",
      "[CV 5/5] END colsample_bytree=0.6, gamma=0.5, learning_rate=0.1, max_depth=5, min_child_weight=5, n_estimators=500, subsample=1.0;, score=0.691 total time=16.8min\n",
      "[18:20:59] WARNING: ../src/learner.cc:1115: Starting in XGBoost 1.3.0, the default evaluation metric used with the objective 'binary:logistic' was changed from 'error' to 'logloss'. Explicitly set eval_metric if you'd like to restore the old behavior.\n",
      "[CV 5/5] END colsample_bytree=0.6, gamma=2, learning_rate=0.1, max_depth=11, min_child_weight=10, n_estimators=700, subsample=0.8;, score=0.689 total time=46.2min\n",
      "[19:07:07] WARNING: ../src/learner.cc:1115: Starting in XGBoost 1.3.0, the default evaluation metric used with the objective 'binary:logistic' was changed from 'error' to 'logloss'. Explicitly set eval_metric if you'd like to restore the old behavior.\n",
      "[CV 5/5] END colsample_bytree=0.6, gamma=1.5, learning_rate=0.1, max_depth=5, min_child_weight=1, n_estimators=600, subsample=0.6;, score=0.686 total time=19.2min\n",
      "[19:26:19] WARNING: ../src/learner.cc:1115: Starting in XGBoost 1.3.0, the default evaluation metric used with the objective 'binary:logistic' was changed from 'error' to 'logloss'. Explicitly set eval_metric if you'd like to restore the old behavior.\n",
      "[CV 5/5] END colsample_bytree=1.0, gamma=5, learning_rate=0.1, max_depth=5, min_child_weight=1, n_estimators=700, subsample=1.0;, score=0.692 total time=33.7min\n",
      "[20:00:00] WARNING: ../src/learner.cc:1115: Starting in XGBoost 1.3.0, the default evaluation metric used with the objective 'binary:logistic' was changed from 'error' to 'logloss'. Explicitly set eval_metric if you'd like to restore the old behavior.\n",
      "[CV 5/5] END colsample_bytree=1.0, gamma=0.5, learning_rate=0.01, max_depth=7, min_child_weight=1, n_estimators=500, subsample=1.0;, score=0.694 total time=40.1min\n",
      "[20:40:04] WARNING: ../src/learner.cc:1115: Starting in XGBoost 1.3.0, the default evaluation metric used with the objective 'binary:logistic' was changed from 'error' to 'logloss'. Explicitly set eval_metric if you'd like to restore the old behavior.\n",
      "[CV 5/5] END colsample_bytree=0.6, gamma=1, learning_rate=0.01, max_depth=9, min_child_weight=10, n_estimators=500, subsample=0.6;, score=0.694 total time=29.7min\n",
      "[17:30:09] WARNING: ../src/learner.cc:1115: Starting in XGBoost 1.3.0, the default evaluation metric used with the objective 'binary:logistic' was changed from 'error' to 'logloss'. Explicitly set eval_metric if you'd like to restore the old behavior.\n",
      "[CV 1/5] END colsample_bytree=0.6, gamma=0.5, learning_rate=0.1, max_depth=9, min_child_weight=5, n_estimators=700, subsample=0.8;, score=0.687 total time=37.9min\n",
      "[18:07:59] WARNING: ../src/learner.cc:1115: Starting in XGBoost 1.3.0, the default evaluation metric used with the objective 'binary:logistic' was changed from 'error' to 'logloss'. Explicitly set eval_metric if you'd like to restore the old behavior.\n",
      "[CV 3/5] END colsample_bytree=0.8, gamma=1, learning_rate=0.01, max_depth=7, min_child_weight=10, n_estimators=700, subsample=0.8;, score=0.699 total time=41.4min\n",
      "[18:49:24] WARNING: ../src/learner.cc:1115: Starting in XGBoost 1.3.0, the default evaluation metric used with the objective 'binary:logistic' was changed from 'error' to 'logloss'. Explicitly set eval_metric if you'd like to restore the old behavior.\n",
      "[CV 4/5] END colsample_bytree=0.6, gamma=1, learning_rate=0.1, max_depth=9, min_child_weight=5, n_estimators=500, subsample=0.6;, score=0.696 total time=29.3min\n",
      "[19:18:43] WARNING: ../src/learner.cc:1115: Starting in XGBoost 1.3.0, the default evaluation metric used with the objective 'binary:logistic' was changed from 'error' to 'logloss'. Explicitly set eval_metric if you'd like to restore the old behavior.\n",
      "[CV 4/5] END colsample_bytree=0.6, gamma=5, learning_rate=0.05, max_depth=9, min_child_weight=1, n_estimators=600, subsample=0.6;, score=0.700 total time=37.8min\n",
      "[19:56:27] WARNING: ../src/learner.cc:1115: Starting in XGBoost 1.3.0, the default evaluation metric used with the objective 'binary:logistic' was changed from 'error' to 'logloss'. Explicitly set eval_metric if you'd like to restore the old behavior.\n",
      "[CV 5/5] END colsample_bytree=0.6, gamma=1.5, learning_rate=0.1, max_depth=7, min_child_weight=10, n_estimators=500, subsample=0.6;, score=0.684 total time=21.0min\n",
      "[20:17:28] WARNING: ../src/learner.cc:1115: Starting in XGBoost 1.3.0, the default evaluation metric used with the objective 'binary:logistic' was changed from 'error' to 'logloss'. Explicitly set eval_metric if you'd like to restore the old behavior.\n",
      "[CV 5/5] END colsample_bytree=0.6, gamma=2, learning_rate=0.1, max_depth=5, min_child_weight=10, n_estimators=700, subsample=1.0;, score=0.690 total time=21.8min\n",
      "[20:39:17] WARNING: ../src/learner.cc:1115: Starting in XGBoost 1.3.0, the default evaluation metric used with the objective 'binary:logistic' was changed from 'error' to 'logloss'. Explicitly set eval_metric if you'd like to restore the old behavior.\n",
      "[CV 4/5] END colsample_bytree=0.6, gamma=1, learning_rate=0.01, max_depth=9, min_child_weight=10, n_estimators=500, subsample=0.6;, score=0.698 total time=30.5min\n"
     ]
    },
    {
     "name": "stderr",
     "output_type": "stream",
     "text": [
      "/Users/ariklevy/opt/anaconda3/lib/python3.9/site-packages/xgboost/sklearn.py:1224: UserWarning: The use of label encoder in XGBClassifier is deprecated and will be removed in a future release. To remove this warning, do the following: 1) Pass option use_label_encoder=False when constructing XGBClassifier object; and 2) Encode your labels (y) as integers starting with 0, i.e. 0, 1, 2, ..., [num_class - 1].\n",
      "  warnings.warn(label_encoder_deprecation_msg, UserWarning)\n"
     ]
    },
    {
     "name": "stdout",
     "output_type": "stream",
     "text": [
      "[21:46:07] WARNING: ../src/learner.cc:1115: Starting in XGBoost 1.3.0, the default evaluation metric used with the objective 'binary:logistic' was changed from 'error' to 'logloss'. Explicitly set eval_metric if you'd like to restore the old behavior.\n",
      "[17:30:09] WARNING: ../src/learner.cc:1115: Starting in XGBoost 1.3.0, the default evaluation metric used with the objective 'binary:logistic' was changed from 'error' to 'logloss'. Explicitly set eval_metric if you'd like to restore the old behavior.\n",
      "[CV 5/5] END colsample_bytree=0.6, gamma=0.5, learning_rate=0.1, max_depth=9, min_child_weight=5, n_estimators=700, subsample=0.8;, score=0.690 total time=37.6min\n",
      "[18:07:43] WARNING: ../src/learner.cc:1115: Starting in XGBoost 1.3.0, the default evaluation metric used with the objective 'binary:logistic' was changed from 'error' to 'logloss'. Explicitly set eval_metric if you'd like to restore the old behavior.\n",
      "[CV 1/5] END colsample_bytree=0.8, gamma=1, learning_rate=0.01, max_depth=7, min_child_weight=10, n_estimators=700, subsample=0.8;, score=0.693 total time=39.7min\n",
      "[18:47:26] WARNING: ../src/learner.cc:1115: Starting in XGBoost 1.3.0, the default evaluation metric used with the objective 'binary:logistic' was changed from 'error' to 'logloss'. Explicitly set eval_metric if you'd like to restore the old behavior.\n",
      "[CV 1/5] END colsample_bytree=0.6, gamma=1, learning_rate=0.1, max_depth=9, min_child_weight=5, n_estimators=500, subsample=0.6;, score=0.686 total time=28.5min\n",
      "[19:15:58] WARNING: ../src/learner.cc:1115: Starting in XGBoost 1.3.0, the default evaluation metric used with the objective 'binary:logistic' was changed from 'error' to 'logloss'. Explicitly set eval_metric if you'd like to restore the old behavior.\n",
      "[CV 2/5] END colsample_bytree=0.6, gamma=5, learning_rate=0.05, max_depth=9, min_child_weight=1, n_estimators=600, subsample=0.6;, score=0.698 total time=35.5min\n",
      "[19:51:26] WARNING: ../src/learner.cc:1115: Starting in XGBoost 1.3.0, the default evaluation metric used with the objective 'binary:logistic' was changed from 'error' to 'logloss'. Explicitly set eval_metric if you'd like to restore the old behavior.\n",
      "[CV 2/5] END colsample_bytree=0.6, gamma=1.5, learning_rate=0.1, max_depth=7, min_child_weight=10, n_estimators=500, subsample=0.6;, score=0.694 total time=21.7min\n",
      "[20:13:04] WARNING: ../src/learner.cc:1115: Starting in XGBoost 1.3.0, the default evaluation metric used with the objective 'binary:logistic' was changed from 'error' to 'logloss'. Explicitly set eval_metric if you'd like to restore the old behavior.\n",
      "[CV 1/5] END colsample_bytree=0.6, gamma=2, learning_rate=0.1, max_depth=5, min_child_weight=10, n_estimators=700, subsample=1.0;, score=0.692 total time=20.1min\n",
      "[20:33:12] WARNING: ../src/learner.cc:1115: Starting in XGBoost 1.3.0, the default evaluation metric used with the objective 'binary:logistic' was changed from 'error' to 'logloss'. Explicitly set eval_metric if you'd like to restore the old behavior.\n",
      "[CV 2/5] END colsample_bytree=0.8, gamma=1.5, learning_rate=0.05, max_depth=5, min_child_weight=10, n_estimators=600, subsample=1.0;, score=0.696 total time=23.6min\n",
      "[20:56:51] WARNING: ../src/learner.cc:1115: Starting in XGBoost 1.3.0, the default evaluation metric used with the objective 'binary:logistic' was changed from 'error' to 'logloss'. Explicitly set eval_metric if you'd like to restore the old behavior.\n",
      "[CV 1/5] END colsample_bytree=0.8, gamma=1, learning_rate=0.01, max_depth=9, min_child_weight=10, n_estimators=700, subsample=0.6;, score=0.698 total time=45.7min\n",
      "[17:30:09] WARNING: ../src/learner.cc:1115: Starting in XGBoost 1.3.0, the default evaluation metric used with the objective 'binary:logistic' was changed from 'error' to 'logloss'. Explicitly set eval_metric if you'd like to restore the old behavior.\n",
      "[CV 2/5] END colsample_bytree=0.6, gamma=0.5, learning_rate=0.1, max_depth=9, min_child_weight=5, n_estimators=700, subsample=0.8;, score=0.693 total time=37.7min\n",
      "[18:07:49] WARNING: ../src/learner.cc:1115: Starting in XGBoost 1.3.0, the default evaluation metric used with the objective 'binary:logistic' was changed from 'error' to 'logloss'. Explicitly set eval_metric if you'd like to restore the old behavior.\n",
      "[CV 2/5] END colsample_bytree=0.8, gamma=1, learning_rate=0.01, max_depth=7, min_child_weight=10, n_estimators=700, subsample=0.8;, score=0.696 total time=40.0min\n",
      "[18:47:49] WARNING: ../src/learner.cc:1115: Starting in XGBoost 1.3.0, the default evaluation metric used with the objective 'binary:logistic' was changed from 'error' to 'logloss'. Explicitly set eval_metric if you'd like to restore the old behavior.\n",
      "[CV 3/5] END colsample_bytree=0.6, gamma=1, learning_rate=0.1, max_depth=9, min_child_weight=5, n_estimators=500, subsample=0.6;, score=0.690 total time=28.0min\n",
      "[19:15:50] WARNING: ../src/learner.cc:1115: Starting in XGBoost 1.3.0, the default evaluation metric used with the objective 'binary:logistic' was changed from 'error' to 'logloss'. Explicitly set eval_metric if you'd like to restore the old behavior.\n",
      "[CV 1/5] END colsample_bytree=0.6, gamma=5, learning_rate=0.05, max_depth=9, min_child_weight=1, n_estimators=600, subsample=0.6;, score=0.695 total time=35.6min\n",
      "[19:51:23] WARNING: ../src/learner.cc:1115: Starting in XGBoost 1.3.0, the default evaluation metric used with the objective 'binary:logistic' was changed from 'error' to 'logloss'. Explicitly set eval_metric if you'd like to restore the old behavior.\n",
      "[CV 1/5] END colsample_bytree=0.6, gamma=1.5, learning_rate=0.1, max_depth=7, min_child_weight=10, n_estimators=500, subsample=0.6;, score=0.686 total time=21.8min\n",
      "[20:13:12] WARNING: ../src/learner.cc:1115: Starting in XGBoost 1.3.0, the default evaluation metric used with the objective 'binary:logistic' was changed from 'error' to 'logloss'. Explicitly set eval_metric if you'd like to restore the old behavior.\n",
      "[CV 2/5] END colsample_bytree=0.6, gamma=2, learning_rate=0.1, max_depth=5, min_child_weight=10, n_estimators=700, subsample=1.0;, score=0.695 total time=19.5min\n",
      "[20:32:44] WARNING: ../src/learner.cc:1115: Starting in XGBoost 1.3.0, the default evaluation metric used with the objective 'binary:logistic' was changed from 'error' to 'logloss'. Explicitly set eval_metric if you'd like to restore the old behavior.\n",
      "[CV 1/5] END colsample_bytree=0.8, gamma=1.5, learning_rate=0.05, max_depth=5, min_child_weight=10, n_estimators=600, subsample=1.0;, score=0.694 total time=25.4min\n",
      "[20:58:10] WARNING: ../src/learner.cc:1115: Starting in XGBoost 1.3.0, the default evaluation metric used with the objective 'binary:logistic' was changed from 'error' to 'logloss'. Explicitly set eval_metric if you'd like to restore the old behavior.\n",
      "[CV 2/5] END colsample_bytree=0.8, gamma=1, learning_rate=0.01, max_depth=9, min_child_weight=10, n_estimators=700, subsample=0.6;, score=0.696 total time=45.7min\n",
      "[17:30:09] WARNING: ../src/learner.cc:1115: Starting in XGBoost 1.3.0, the default evaluation metric used with the objective 'binary:logistic' was changed from 'error' to 'logloss'. Explicitly set eval_metric if you'd like to restore the old behavior.\n",
      "[CV 4/5] END colsample_bytree=0.8, gamma=5, learning_rate=0.01, max_depth=7, min_child_weight=5, n_estimators=500, subsample=0.8;, score=0.696 total time=29.4min\n",
      "[17:59:29] WARNING: ../src/learner.cc:1115: Starting in XGBoost 1.3.0, the default evaluation metric used with the objective 'binary:logistic' was changed from 'error' to 'logloss'. Explicitly set eval_metric if you'd like to restore the old behavior.\n",
      "[CV 1/5] END colsample_bytree=0.6, gamma=0.5, learning_rate=0.1, max_depth=5, min_child_weight=5, n_estimators=500, subsample=1.0;, score=0.692 total time=15.1min\n",
      "[18:14:40] WARNING: ../src/learner.cc:1115: Starting in XGBoost 1.3.0, the default evaluation metric used with the objective 'binary:logistic' was changed from 'error' to 'logloss'. Explicitly set eval_metric if you'd like to restore the old behavior.\n",
      "[CV 3/5] END colsample_bytree=0.6, gamma=2, learning_rate=0.1, max_depth=11, min_child_weight=10, n_estimators=700, subsample=0.8;, score=0.698 total time=48.1min\n",
      "[19:02:40] WARNING: ../src/learner.cc:1115: Starting in XGBoost 1.3.0, the default evaluation metric used with the objective 'binary:logistic' was changed from 'error' to 'logloss'. Explicitly set eval_metric if you'd like to restore the old behavior.\n",
      "[CV 4/5] END colsample_bytree=0.6, gamma=1.5, learning_rate=0.1, max_depth=5, min_child_weight=1, n_estimators=600, subsample=0.6;, score=0.702 total time=20.7min\n",
      "[19:23:24] WARNING: ../src/learner.cc:1115: Starting in XGBoost 1.3.0, the default evaluation metric used with the objective 'binary:logistic' was changed from 'error' to 'logloss'. Explicitly set eval_metric if you'd like to restore the old behavior.\n",
      "[CV 4/5] END colsample_bytree=1.0, gamma=5, learning_rate=0.1, max_depth=5, min_child_weight=1, n_estimators=700, subsample=1.0;, score=0.700 total time=33.5min\n",
      "[19:56:56] WARNING: ../src/learner.cc:1115: Starting in XGBoost 1.3.0, the default evaluation metric used with the objective 'binary:logistic' was changed from 'error' to 'logloss'. Explicitly set eval_metric if you'd like to restore the old behavior.\n",
      "[CV 1/5] END colsample_bytree=1.0, gamma=0.5, learning_rate=0.01, max_depth=7, min_child_weight=1, n_estimators=500, subsample=1.0;, score=0.692 total time=37.5min\n",
      "[20:34:21] WARNING: ../src/learner.cc:1115: Starting in XGBoost 1.3.0, the default evaluation metric used with the objective 'binary:logistic' was changed from 'error' to 'logloss'. Explicitly set eval_metric if you'd like to restore the old behavior.\n",
      "[CV 3/5] END colsample_bytree=0.8, gamma=1.5, learning_rate=0.05, max_depth=5, min_child_weight=10, n_estimators=600, subsample=1.0;, score=0.702 total time=24.5min\n",
      "[20:58:52] WARNING: ../src/learner.cc:1115: Starting in XGBoost 1.3.0, the default evaluation metric used with the objective 'binary:logistic' was changed from 'error' to 'logloss'. Explicitly set eval_metric if you'd like to restore the old behavior.\n",
      "[CV 3/5] END colsample_bytree=0.8, gamma=1, learning_rate=0.01, max_depth=9, min_child_weight=10, n_estimators=700, subsample=0.6;, score=0.702 total time=45.3min\n"
     ]
    },
    {
     "name": "stdout",
     "output_type": "stream",
     "text": [
      "[17:30:09] WARNING: ../src/learner.cc:1115: Starting in XGBoost 1.3.0, the default evaluation metric used with the objective 'binary:logistic' was changed from 'error' to 'logloss'. Explicitly set eval_metric if you'd like to restore the old behavior.\n",
      "[CV 3/5] END colsample_bytree=0.6, gamma=0.5, learning_rate=0.1, max_depth=9, min_child_weight=5, n_estimators=700, subsample=0.8;, score=0.696 total time=38.0min\n",
      "[18:08:02] WARNING: ../src/learner.cc:1115: Starting in XGBoost 1.3.0, the default evaluation metric used with the objective 'binary:logistic' was changed from 'error' to 'logloss'. Explicitly set eval_metric if you'd like to restore the old behavior.\n",
      "[CV 4/5] END colsample_bytree=0.8, gamma=1, learning_rate=0.01, max_depth=7, min_child_weight=10, n_estimators=700, subsample=0.8;, score=0.699 total time=39.7min\n",
      "[18:47:47] WARNING: ../src/learner.cc:1115: Starting in XGBoost 1.3.0, the default evaluation metric used with the objective 'binary:logistic' was changed from 'error' to 'logloss'. Explicitly set eval_metric if you'd like to restore the old behavior.\n",
      "[CV 2/5] END colsample_bytree=0.6, gamma=1, learning_rate=0.1, max_depth=9, min_child_weight=5, n_estimators=500, subsample=0.6;, score=0.686 total time=28.5min\n",
      "[19:16:14] WARNING: ../src/learner.cc:1115: Starting in XGBoost 1.3.0, the default evaluation metric used with the objective 'binary:logistic' was changed from 'error' to 'logloss'. Explicitly set eval_metric if you'd like to restore the old behavior.\n",
      "[CV 3/5] END colsample_bytree=0.6, gamma=5, learning_rate=0.05, max_depth=9, min_child_weight=1, n_estimators=600, subsample=0.6;, score=0.703 total time=36.5min\n",
      "[19:52:44] WARNING: ../src/learner.cc:1115: Starting in XGBoost 1.3.0, the default evaluation metric used with the objective 'binary:logistic' was changed from 'error' to 'logloss'. Explicitly set eval_metric if you'd like to restore the old behavior.\n",
      "[CV 3/5] END colsample_bytree=0.6, gamma=1.5, learning_rate=0.1, max_depth=7, min_child_weight=10, n_estimators=500, subsample=0.6;, score=0.694 total time=21.6min\n",
      "[20:14:21] WARNING: ../src/learner.cc:1115: Starting in XGBoost 1.3.0, the default evaluation metric used with the objective 'binary:logistic' was changed from 'error' to 'logloss'. Explicitly set eval_metric if you'd like to restore the old behavior.\n",
      "[CV 3/5] END colsample_bytree=0.6, gamma=2, learning_rate=0.1, max_depth=5, min_child_weight=10, n_estimators=700, subsample=1.0;, score=0.700 total time=20.8min\n",
      "[20:35:10] WARNING: ../src/learner.cc:1115: Starting in XGBoost 1.3.0, the default evaluation metric used with the objective 'binary:logistic' was changed from 'error' to 'logloss'. Explicitly set eval_metric if you'd like to restore the old behavior.\n",
      "[CV 4/5] END colsample_bytree=0.8, gamma=1.5, learning_rate=0.05, max_depth=5, min_child_weight=10, n_estimators=600, subsample=1.0;, score=0.700 total time=24.4min\n",
      "[20:59:38] WARNING: ../src/learner.cc:1115: Starting in XGBoost 1.3.0, the default evaluation metric used with the objective 'binary:logistic' was changed from 'error' to 'logloss'. Explicitly set eval_metric if you'd like to restore the old behavior.\n",
      "[CV 4/5] END colsample_bytree=0.8, gamma=1, learning_rate=0.01, max_depth=9, min_child_weight=10, n_estimators=700, subsample=0.6;, score=0.700 total time=44.7min\n",
      "[17:30:09] WARNING: ../src/learner.cc:1115: Starting in XGBoost 1.3.0, the default evaluation metric used with the objective 'binary:logistic' was changed from 'error' to 'logloss'. Explicitly set eval_metric if you'd like to restore the old behavior.\n",
      "[CV 3/5] END colsample_bytree=0.8, gamma=5, learning_rate=0.01, max_depth=7, min_child_weight=5, n_estimators=500, subsample=0.8;, score=0.698 total time=29.5min\n",
      "[17:59:35] WARNING: ../src/learner.cc:1115: Starting in XGBoost 1.3.0, the default evaluation metric used with the objective 'binary:logistic' was changed from 'error' to 'logloss'. Explicitly set eval_metric if you'd like to restore the old behavior.\n",
      "[CV 2/5] END colsample_bytree=0.6, gamma=0.5, learning_rate=0.1, max_depth=5, min_child_weight=5, n_estimators=500, subsample=1.0;, score=0.694 total time=14.9min\n",
      "[18:14:33] WARNING: ../src/learner.cc:1115: Starting in XGBoost 1.3.0, the default evaluation metric used with the objective 'binary:logistic' was changed from 'error' to 'logloss'. Explicitly set eval_metric if you'd like to restore the old behavior.\n",
      "[CV 2/5] END colsample_bytree=0.6, gamma=2, learning_rate=0.1, max_depth=11, min_child_weight=10, n_estimators=700, subsample=0.8;, score=0.691 total time=46.8min\n",
      "[19:01:20] WARNING: ../src/learner.cc:1115: Starting in XGBoost 1.3.0, the default evaluation metric used with the objective 'binary:logistic' was changed from 'error' to 'logloss'. Explicitly set eval_metric if you'd like to restore the old behavior.\n",
      "[CV 1/5] END colsample_bytree=0.6, gamma=1.5, learning_rate=0.1, max_depth=5, min_child_weight=1, n_estimators=600, subsample=0.6;, score=0.688 total time=20.9min\n",
      "[19:22:17] WARNING: ../src/learner.cc:1115: Starting in XGBoost 1.3.0, the default evaluation metric used with the objective 'binary:logistic' was changed from 'error' to 'logloss'. Explicitly set eval_metric if you'd like to restore the old behavior.\n",
      "[CV 3/5] END colsample_bytree=1.0, gamma=5, learning_rate=0.1, max_depth=5, min_child_weight=1, n_estimators=700, subsample=1.0;, score=0.699 total time=31.8min\n",
      "[19:54:04] WARNING: ../src/learner.cc:1115: Starting in XGBoost 1.3.0, the default evaluation metric used with the objective 'binary:logistic' was changed from 'error' to 'logloss'. Explicitly set eval_metric if you'd like to restore the old behavior.\n",
      "[CV 4/5] END colsample_bytree=0.6, gamma=1.5, learning_rate=0.1, max_depth=7, min_child_weight=10, n_estimators=500, subsample=0.6;, score=0.696 total time=21.3min\n",
      "[20:15:23] WARNING: ../src/learner.cc:1115: Starting in XGBoost 1.3.0, the default evaluation metric used with the objective 'binary:logistic' was changed from 'error' to 'logloss'. Explicitly set eval_metric if you'd like to restore the old behavior.\n",
      "[CV 4/5] END colsample_bytree=0.6, gamma=2, learning_rate=0.1, max_depth=5, min_child_weight=10, n_estimators=700, subsample=1.0;, score=0.700 total time=20.1min\n",
      "[20:35:27] WARNING: ../src/learner.cc:1115: Starting in XGBoost 1.3.0, the default evaluation metric used with the objective 'binary:logistic' was changed from 'error' to 'logloss'. Explicitly set eval_metric if you'd like to restore the old behavior.\n",
      "[CV 5/5] END colsample_bytree=0.8, gamma=1.5, learning_rate=0.05, max_depth=5, min_child_weight=10, n_estimators=600, subsample=1.0;, score=0.688 total time=26.5min\n",
      "[21:02:02] WARNING: ../src/learner.cc:1115: Starting in XGBoost 1.3.0, the default evaluation metric used with the objective 'binary:logistic' was changed from 'error' to 'logloss'. Explicitly set eval_metric if you'd like to restore the old behavior.\n",
      "[CV 5/5] END colsample_bytree=0.8, gamma=1, learning_rate=0.01, max_depth=9, min_child_weight=10, n_estimators=700, subsample=0.6;, score=0.697 total time=44.1min\n"
     ]
    },
    {
     "data": {
      "text/plain": [
       "RandomizedSearchCV(cv=5,\n",
       "                   estimator=XGBClassifier(base_score=None, booster=None,\n",
       "                                           colsample_bylevel=None,\n",
       "                                           colsample_bynode=None,\n",
       "                                           colsample_bytree=None,\n",
       "                                           enable_categorical=False, gamma=None,\n",
       "                                           gpu_id=None, importance_type=None,\n",
       "                                           interaction_constraints=None,\n",
       "                                           learning_rate=None,\n",
       "                                           max_delta_step=None, max_depth=None,\n",
       "                                           min_child_weight=None, missing=nan,\n",
       "                                           monotone_constraints...\n",
       "                                           scale_pos_weight=None,\n",
       "                                           subsample=None, tree_method=None,\n",
       "                                           validate_parameters=None,\n",
       "                                           verbosity=None),\n",
       "                   n_iter=15, n_jobs=-1,\n",
       "                   param_distributions={'colsample_bytree': [0.6, 0.8, 1.0],\n",
       "                                        'gamma': [0.5, 1, 1.5, 2, 5],\n",
       "                                        'learning_rate': [0.01, 0.05, 0.1],\n",
       "                                        'max_depth': [5, 7, 9, 11],\n",
       "                                        'min_child_weight': [1, 5, 10],\n",
       "                                        'n_estimators': [500, 600, 700],\n",
       "                                        'subsample': [0.6, 0.8, 1.0]},\n",
       "                   random_state=1001, verbose=3)"
      ]
     },
     "execution_count": 176,
     "metadata": {},
     "output_type": "execute_result"
    }
   ],
   "source": [
    "folds = 5\n",
    "param_comb = 15\n",
    "\n",
    "random_search = RandomizedSearchCV(xgb, param_distributions=params, n_iter=param_comb,\n",
    "                                   n_jobs=-1, cv=folds, verbose=3, random_state=1001 )\n",
    "\n",
    "random_search.fit(X_train, y_train)\n"
   ]
  },
  {
   "cell_type": "code",
   "execution_count": 177,
   "id": "2b34cda1",
   "metadata": {
    "ExecuteTime": {
     "end_time": "2022-06-17T19:36:07.792993Z",
     "start_time": "2022-06-17T19:36:07.790012Z"
    }
   },
   "outputs": [
    {
     "data": {
      "text/plain": [
       "0.6987046632124353"
      ]
     },
     "execution_count": 177,
     "metadata": {},
     "output_type": "execute_result"
    }
   ],
   "source": [
    "random_search.best_score_\n"
   ]
  },
  {
   "cell_type": "code",
   "execution_count": 178,
   "id": "d51b07af",
   "metadata": {
    "ExecuteTime": {
     "end_time": "2022-06-17T19:36:17.256577Z",
     "start_time": "2022-06-17T19:36:17.253816Z"
    }
   },
   "outputs": [
    {
     "data": {
      "text/plain": [
       "{'subsample': 0.6,\n",
       " 'n_estimators': 700,\n",
       " 'min_child_weight': 10,\n",
       " 'max_depth': 9,\n",
       " 'learning_rate': 0.01,\n",
       " 'gamma': 1,\n",
       " 'colsample_bytree': 0.8}"
      ]
     },
     "execution_count": 178,
     "metadata": {},
     "output_type": "execute_result"
    }
   ],
   "source": [
    "random_search.best_params_"
   ]
  },
  {
   "cell_type": "markdown",
   "id": "8eaa94b3",
   "metadata": {},
   "source": [
    "OLD model below:"
   ]
  },
  {
   "cell_type": "code",
   "execution_count": 97,
   "id": "d6b644e7",
   "metadata": {
    "ExecuteTime": {
     "end_time": "2022-06-13T18:57:07.760275Z",
     "start_time": "2022-06-13T18:57:07.757659Z"
    }
   },
   "outputs": [
    {
     "data": {
      "text/plain": [
       "{'subsample': 0.8,\n",
       " 'n_estimators': 700,\n",
       " 'min_child_weight': 5,\n",
       " 'max_depth': 9,\n",
       " 'gamma': 1.5,\n",
       " 'colsample_bytree': 0.6}"
      ]
     },
     "execution_count": 97,
     "metadata": {},
     "output_type": "execute_result"
    }
   ],
   "source": [
    "random_search.best_params_"
   ]
  },
  {
   "cell_type": "code",
   "execution_count": 179,
   "id": "c14f834e",
   "metadata": {
    "ExecuteTime": {
     "end_time": "2022-06-17T19:36:26.796670Z",
     "start_time": "2022-06-17T19:36:26.790313Z"
    }
   },
   "outputs": [
    {
     "data": {
      "text/plain": [
       "{'mean_fit_time': array([1826.25282598, 2311.67309322,  931.29622083, 2418.29215684,\n",
       "        2825.17886753, 1723.68336277, 1196.13001776, 2198.05872183,\n",
       "        2044.3814579 , 1288.98782272, 2324.48039184, 1226.56836696,\n",
       "        1492.05901027, 1830.54262729, 2705.60275416]),\n",
       " 'std_fit_time': array([109.46429866,  89.20918946,  50.51537794,  38.92163212,\n",
       "         42.75526034,  32.35558638,  43.00144547,  62.66489792,\n",
       "         90.42927755,  17.07861935,  71.94966558,  46.82160269,\n",
       "         59.74179126,  29.10829116,  37.22004773]),\n",
       " 'mean_score_time': array([1.00750146, 1.01880631, 0.6530262 , 1.13386822, 1.08965964,\n",
       "        0.83447623, 0.70983024, 1.01882935, 0.72738676, 0.7608006 ,\n",
       "        0.95069699, 0.73119788, 0.73906879, 0.99327917, 1.03865857]),\n",
       " 'std_score_time': array([0.0395851 , 0.05187044, 0.00693184, 0.13559799, 0.03072862,\n",
       "        0.03164841, 0.03663779, 0.08225856, 0.02783096, 0.02669239,\n",
       "        0.01302762, 0.03411513, 0.02544411, 0.07640177, 0.04774887]),\n",
       " 'param_subsample': masked_array(data=[0.8, 0.8, 1.0, 0.8, 0.8, 0.6, 0.6, 0.6, 1.0, 0.6, 1.0,\n",
       "                    1.0, 1.0, 0.6, 0.6],\n",
       "              mask=[False, False, False, False, False, False, False, False,\n",
       "                    False, False, False, False, False, False, False],\n",
       "        fill_value='?',\n",
       "             dtype=object),\n",
       " 'param_n_estimators': masked_array(data=[500, 700, 500, 700, 700, 500, 600, 600, 700, 500, 500,\n",
       "                    700, 600, 500, 700],\n",
       "              mask=[False, False, False, False, False, False, False, False,\n",
       "                    False, False, False, False, False, False, False],\n",
       "        fill_value='?',\n",
       "             dtype=object),\n",
       " 'param_min_child_weight': masked_array(data=[5, 5, 5, 10, 10, 5, 1, 1, 1, 10, 1, 10, 10, 10, 10],\n",
       "              mask=[False, False, False, False, False, False, False, False,\n",
       "                    False, False, False, False, False, False, False],\n",
       "        fill_value='?',\n",
       "             dtype=object),\n",
       " 'param_max_depth': masked_array(data=[7, 9, 5, 7, 11, 9, 5, 9, 5, 7, 7, 5, 5, 9, 9],\n",
       "              mask=[False, False, False, False, False, False, False, False,\n",
       "                    False, False, False, False, False, False, False],\n",
       "        fill_value='?',\n",
       "             dtype=object),\n",
       " 'param_learning_rate': masked_array(data=[0.01, 0.1, 0.1, 0.01, 0.1, 0.1, 0.1, 0.05, 0.1, 0.1,\n",
       "                    0.01, 0.1, 0.05, 0.01, 0.01],\n",
       "              mask=[False, False, False, False, False, False, False, False,\n",
       "                    False, False, False, False, False, False, False],\n",
       "        fill_value='?',\n",
       "             dtype=object),\n",
       " 'param_gamma': masked_array(data=[5, 0.5, 0.5, 1, 2, 1, 1.5, 5, 5, 1.5, 0.5, 2, 1.5, 1,\n",
       "                    1],\n",
       "              mask=[False, False, False, False, False, False, False, False,\n",
       "                    False, False, False, False, False, False, False],\n",
       "        fill_value='?',\n",
       "             dtype=object),\n",
       " 'param_colsample_bytree': masked_array(data=[0.8, 0.6, 0.6, 0.8, 0.6, 0.6, 0.6, 0.6, 1.0, 0.6, 1.0,\n",
       "                    0.6, 0.8, 0.6, 0.8],\n",
       "              mask=[False, False, False, False, False, False, False, False,\n",
       "                    False, False, False, False, False, False, False],\n",
       "        fill_value='?',\n",
       "             dtype=object),\n",
       " 'params': [{'subsample': 0.8,\n",
       "   'n_estimators': 500,\n",
       "   'min_child_weight': 5,\n",
       "   'max_depth': 7,\n",
       "   'learning_rate': 0.01,\n",
       "   'gamma': 5,\n",
       "   'colsample_bytree': 0.8},\n",
       "  {'subsample': 0.8,\n",
       "   'n_estimators': 700,\n",
       "   'min_child_weight': 5,\n",
       "   'max_depth': 9,\n",
       "   'learning_rate': 0.1,\n",
       "   'gamma': 0.5,\n",
       "   'colsample_bytree': 0.6},\n",
       "  {'subsample': 1.0,\n",
       "   'n_estimators': 500,\n",
       "   'min_child_weight': 5,\n",
       "   'max_depth': 5,\n",
       "   'learning_rate': 0.1,\n",
       "   'gamma': 0.5,\n",
       "   'colsample_bytree': 0.6},\n",
       "  {'subsample': 0.8,\n",
       "   'n_estimators': 700,\n",
       "   'min_child_weight': 10,\n",
       "   'max_depth': 7,\n",
       "   'learning_rate': 0.01,\n",
       "   'gamma': 1,\n",
       "   'colsample_bytree': 0.8},\n",
       "  {'subsample': 0.8,\n",
       "   'n_estimators': 700,\n",
       "   'min_child_weight': 10,\n",
       "   'max_depth': 11,\n",
       "   'learning_rate': 0.1,\n",
       "   'gamma': 2,\n",
       "   'colsample_bytree': 0.6},\n",
       "  {'subsample': 0.6,\n",
       "   'n_estimators': 500,\n",
       "   'min_child_weight': 5,\n",
       "   'max_depth': 9,\n",
       "   'learning_rate': 0.1,\n",
       "   'gamma': 1,\n",
       "   'colsample_bytree': 0.6},\n",
       "  {'subsample': 0.6,\n",
       "   'n_estimators': 600,\n",
       "   'min_child_weight': 1,\n",
       "   'max_depth': 5,\n",
       "   'learning_rate': 0.1,\n",
       "   'gamma': 1.5,\n",
       "   'colsample_bytree': 0.6},\n",
       "  {'subsample': 0.6,\n",
       "   'n_estimators': 600,\n",
       "   'min_child_weight': 1,\n",
       "   'max_depth': 9,\n",
       "   'learning_rate': 0.05,\n",
       "   'gamma': 5,\n",
       "   'colsample_bytree': 0.6},\n",
       "  {'subsample': 1.0,\n",
       "   'n_estimators': 700,\n",
       "   'min_child_weight': 1,\n",
       "   'max_depth': 5,\n",
       "   'learning_rate': 0.1,\n",
       "   'gamma': 5,\n",
       "   'colsample_bytree': 1.0},\n",
       "  {'subsample': 0.6,\n",
       "   'n_estimators': 500,\n",
       "   'min_child_weight': 10,\n",
       "   'max_depth': 7,\n",
       "   'learning_rate': 0.1,\n",
       "   'gamma': 1.5,\n",
       "   'colsample_bytree': 0.6},\n",
       "  {'subsample': 1.0,\n",
       "   'n_estimators': 500,\n",
       "   'min_child_weight': 1,\n",
       "   'max_depth': 7,\n",
       "   'learning_rate': 0.01,\n",
       "   'gamma': 0.5,\n",
       "   'colsample_bytree': 1.0},\n",
       "  {'subsample': 1.0,\n",
       "   'n_estimators': 700,\n",
       "   'min_child_weight': 10,\n",
       "   'max_depth': 5,\n",
       "   'learning_rate': 0.1,\n",
       "   'gamma': 2,\n",
       "   'colsample_bytree': 0.6},\n",
       "  {'subsample': 1.0,\n",
       "   'n_estimators': 600,\n",
       "   'min_child_weight': 10,\n",
       "   'max_depth': 5,\n",
       "   'learning_rate': 0.05,\n",
       "   'gamma': 1.5,\n",
       "   'colsample_bytree': 0.8},\n",
       "  {'subsample': 0.6,\n",
       "   'n_estimators': 500,\n",
       "   'min_child_weight': 10,\n",
       "   'max_depth': 9,\n",
       "   'learning_rate': 0.01,\n",
       "   'gamma': 1,\n",
       "   'colsample_bytree': 0.6},\n",
       "  {'subsample': 0.6,\n",
       "   'n_estimators': 700,\n",
       "   'min_child_weight': 10,\n",
       "   'max_depth': 9,\n",
       "   'learning_rate': 0.01,\n",
       "   'gamma': 1,\n",
       "   'colsample_bytree': 0.8}],\n",
       " 'split0_test_score': array([0.6925734 , 0.6865285 , 0.69224957, 0.69332902, 0.68728411,\n",
       "        0.68642055, 0.68803972, 0.69537997, 0.68944301, 0.68620466,\n",
       "        0.69235751, 0.69214162, 0.69430052, 0.69440846, 0.69753886]),\n",
       " 'split1_test_score': array([0.6957038 , 0.69289724, 0.69408463, 0.69613558, 0.69127807,\n",
       "        0.68609672, 0.69203368, 0.69840242, 0.69829447, 0.69408463,\n",
       "        0.69365285, 0.69516408, 0.69645941, 0.69268135, 0.69645941]),\n",
       " 'split2_test_score': array([0.69786269, 0.69591969, 0.69624352, 0.69926598, 0.69829447,\n",
       "        0.68976684, 0.69278929, 0.70315199, 0.69937392, 0.69408463,\n",
       "        0.6976468 , 0.70023748, 0.70185665, 0.70056131, 0.70239637]),\n",
       " 'split3_test_score': array([0.69591969, 0.70131693, 0.69527202, 0.69937392, 0.69365285,\n",
       "        0.6957038 , 0.70153282, 0.70023748, 0.69969775, 0.69613558,\n",
       "        0.6957038 , 0.6998057 , 0.69958981, 0.69807858, 0.69991364]),\n",
       " 'split4_test_score': array([0.69419257, 0.68998273, 0.69149396, 0.69440846, 0.68933506,\n",
       "        0.69289724, 0.68588083, 0.69073834, 0.69235751, 0.68361399,\n",
       "        0.69430052, 0.68955095, 0.68771589, 0.69386874, 0.69721503]),\n",
       " 'mean_test_score': array([0.69525043, 0.69332902, 0.69386874, 0.69650259, 0.69196891,\n",
       "        0.69017703, 0.69205527, 0.69758204, 0.69583333, 0.6908247 ,\n",
       "        0.6947323 , 0.69537997, 0.69598446, 0.69591969, 0.69870466]),\n",
       " 'std_test_score': array([0.00177555, 0.0050626 , 0.00178419, 0.0024687 , 0.00380027,\n",
       "        0.00371142, 0.00537794, 0.00425286, 0.00415799, 0.00495578,\n",
       "        0.0018127 , 0.00418792, 0.00487671, 0.00293879, 0.0021776 ]),\n",
       " 'rank_test_score': array([ 8, 11, 10,  3, 13, 15, 12,  2,  6, 14,  9,  7,  4,  5,  1],\n",
       "       dtype=int32)}"
      ]
     },
     "execution_count": 179,
     "metadata": {},
     "output_type": "execute_result"
    }
   ],
   "source": [
    "random_search.cv_results_"
   ]
  },
  {
   "cell_type": "code",
   "execution_count": 180,
   "id": "2ef0bf23",
   "metadata": {
    "ExecuteTime": {
     "end_time": "2022-06-17T19:36:38.891582Z",
     "start_time": "2022-06-17T19:36:36.348969Z"
    }
   },
   "outputs": [
    {
     "data": {
      "text/plain": [
       "array([[0.75263286, 0.24736716],\n",
       "       [0.46653086, 0.53346914],\n",
       "       [0.5058078 , 0.49419218],\n",
       "       ...,\n",
       "       [0.03010672, 0.9698933 ],\n",
       "       [0.22396612, 0.7760339 ],\n",
       "       [0.64041877, 0.3595812 ]], dtype=float32)"
      ]
     },
     "execution_count": 180,
     "metadata": {},
     "output_type": "execute_result"
    }
   ],
   "source": [
    "random_search.predict_proba(X_test)"
   ]
  },
  {
   "cell_type": "code",
   "execution_count": 181,
   "id": "3899dbca",
   "metadata": {
    "ExecuteTime": {
     "end_time": "2022-06-17T19:36:50.804088Z",
     "start_time": "2022-06-17T19:36:48.436348Z"
    }
   },
   "outputs": [
    {
     "name": "stdout",
     "output_type": "stream",
     "text": [
      "              precision    recall  f1-score   support\n",
      "\n",
      "           0       0.69      0.74      0.71     11378\n",
      "           1       0.72      0.66      0.69     11437\n",
      "\n",
      "    accuracy                           0.70     22815\n",
      "   macro avg       0.70      0.70      0.70     22815\n",
      "weighted avg       0.70      0.70      0.70     22815\n",
      "\n"
     ]
    }
   ],
   "source": [
    "y_pred = random_search.predict(X_test)\n",
    "\n",
    "print(classification_report(y_test, y_pred))\n",
    "\n"
   ]
  },
  {
   "cell_type": "code",
   "execution_count": 182,
   "id": "9ec66575",
   "metadata": {
    "ExecuteTime": {
     "end_time": "2022-06-17T19:37:00.309150Z",
     "start_time": "2022-06-17T19:37:00.307164Z"
    }
   },
   "outputs": [],
   "source": [
    "best_xgb = random_search.best_estimator_\n"
   ]
  },
  {
   "cell_type": "code",
   "execution_count": 183,
   "id": "6b8f74f3",
   "metadata": {
    "ExecuteTime": {
     "end_time": "2022-06-17T19:37:09.825076Z",
     "start_time": "2022-06-17T19:37:09.813580Z"
    }
   },
   "outputs": [
    {
     "name": "stdout",
     "output_type": "stream",
     "text": [
      "0.7016556711906952\n",
      "0.6901760931883332\n"
     ]
    }
   ],
   "source": [
    "print(roc_auc_score(y_test, y_pred))\n",
    "print(f1_score(y_test, y_pred))\n"
   ]
  },
  {
   "cell_type": "code",
   "execution_count": 184,
   "id": "1358b750",
   "metadata": {
    "ExecuteTime": {
     "end_time": "2022-06-17T19:37:21.777347Z",
     "start_time": "2022-06-17T19:37:19.334811Z"
    }
   },
   "outputs": [
    {
     "data": {
      "image/png": "[encoded data removed]",
      "text/plain": [
       "<Figure size 432x288 with 1 Axes>"
      ]
     },
     "metadata": {
      "needs_background": "light"
     },
     "output_type": "display_data"
    }
   ],
   "source": [
    "plot_roc_curve(best_xgb, X_test, y_test);\n"
   ]
  },
  {
   "cell_type": "code",
   "execution_count": 185,
   "id": "d66da984",
   "metadata": {
    "ExecuteTime": {
     "end_time": "2022-06-17T19:37:33.748685Z",
     "start_time": "2022-06-17T19:37:31.298360Z"
    }
   },
   "outputs": [
    {
     "data": {
      "image/png": "[encoded data removed]",
      "text/plain": [
       "<Figure size 432x288 with 2 Axes>"
      ]
     },
     "metadata": {
      "needs_background": "light"
     },
     "output_type": "display_data"
    }
   ],
   "source": [
    "plot_confusion_matrix(best_xgb, X_test, y_test, cmap='Blues', labels=[1, 0], values_format='.0f')\n",
    "plt.show()"
   ]
  },
  {
   "cell_type": "markdown",
   "id": "90a76589",
   "metadata": {},
   "source": [
    "#### Feature Importance"
   ]
  },
  {
   "cell_type": "code",
   "execution_count": 186,
   "id": "75677099",
   "metadata": {
    "ExecuteTime": {
     "end_time": "2022-06-17T19:37:43.280686Z",
     "start_time": "2022-06-17T19:37:43.277499Z"
    }
   },
   "outputs": [
    {
     "data": {
      "text/plain": [
       "XGBClassifier(base_score=0.5, booster='gbtree', colsample_bylevel=1,\n",
       "              colsample_bynode=1, colsample_bytree=0.8,\n",
       "              enable_categorical=False, gamma=1, gpu_id=-1,\n",
       "              importance_type=None, interaction_constraints='',\n",
       "              learning_rate=0.01, max_delta_step=0, max_depth=9,\n",
       "              min_child_weight=10, missing=nan, monotone_constraints='()',\n",
       "              n_estimators=700, n_jobs=1, nthread=1, num_parallel_tree=1,\n",
       "              predictor='auto', random_state=0, reg_alpha=0, reg_lambda=1,\n",
       "              scale_pos_weight=1, subsample=0.6, tree_method='exact',\n",
       "              validate_parameters=1, verbosity=None)"
      ]
     },
     "execution_count": 186,
     "metadata": {},
     "output_type": "execute_result"
    }
   ],
   "source": [
    "random_search.best_estimator_\n"
   ]
  },
  {
   "cell_type": "code",
   "execution_count": 187,
   "id": "06987088",
   "metadata": {
    "ExecuteTime": {
     "end_time": "2022-06-17T19:37:53.376119Z",
     "start_time": "2022-06-17T19:37:52.824600Z"
    }
   },
   "outputs": [],
   "source": [
    "feature_importance = best_xgb.feature_importances_\n"
   ]
  },
  {
   "cell_type": "code",
   "execution_count": 188,
   "id": "ee613528",
   "metadata": {
    "ExecuteTime": {
     "end_time": "2022-06-17T19:38:02.985946Z",
     "start_time": "2022-06-17T19:38:02.984201Z"
    }
   },
   "outputs": [],
   "source": [
    "dict_features = {'feature_names': feature_names, 'feature_importance': feature_importance}\n"
   ]
  },
  {
   "cell_type": "code",
   "execution_count": 189,
   "id": "10d063fc",
   "metadata": {
    "ExecuteTime": {
     "end_time": "2022-06-17T19:38:12.927016Z",
     "start_time": "2022-06-17T19:38:12.510150Z"
    }
   },
   "outputs": [
    {
     "data": {
      "text/html": [
       "<div>\n",
       "<style scoped>\n",
       "    .dataframe tbody tr th:only-of-type {\n",
       "        vertical-align: middle;\n",
       "    }\n",
       "\n",
       "    .dataframe tbody tr th {\n",
       "        vertical-align: top;\n",
       "    }\n",
       "\n",
       "    .dataframe thead th {\n",
       "        text-align: right;\n",
       "    }\n",
       "</style>\n",
       "<table border=\"1\" class=\"dataframe\">\n",
       "  <thead>\n",
       "    <tr style=\"text-align: right;\">\n",
       "      <th></th>\n",
       "      <th>feature_names</th>\n",
       "      <th>feature_importance</th>\n",
       "    </tr>\n",
       "  </thead>\n",
       "  <tbody>\n",
       "    <tr>\n",
       "      <th>1154504</th>\n",
       "      <td>publication_datadriveninvestor</td>\n",
       "      <td>0.003655</td>\n",
       "    </tr>\n",
       "    <tr>\n",
       "      <th>1154510</th>\n",
       "      <td>publication_writingcooperative</td>\n",
       "      <td>0.002218</td>\n",
       "    </tr>\n",
       "    <tr>\n",
       "      <th>1154508</th>\n",
       "      <td>publication_towardsdatascience</td>\n",
       "      <td>0.002149</td>\n",
       "    </tr>\n",
       "    <tr>\n",
       "      <th>1154503</th>\n",
       "      <td>publication_better-marketing</td>\n",
       "      <td>0.001903</td>\n",
       "    </tr>\n",
       "    <tr>\n",
       "      <th>1154507</th>\n",
       "      <td>publication_the-mission</td>\n",
       "      <td>0.001374</td>\n",
       "    </tr>\n",
       "    <tr>\n",
       "      <th>1154499</th>\n",
       "      <td>author_followers</td>\n",
       "      <td>0.001253</td>\n",
       "    </tr>\n",
       "    <tr>\n",
       "      <th>1154509</th>\n",
       "      <td>publication_uxdesign</td>\n",
       "      <td>0.001231</td>\n",
       "    </tr>\n",
       "    <tr>\n",
       "      <th>581437</th>\n",
       "      <td>nonus</td>\n",
       "      <td>0.001022</td>\n",
       "    </tr>\n",
       "    <tr>\n",
       "      <th>98923</th>\n",
       "      <td>brought salesforce</td>\n",
       "      <td>0.000956</td>\n",
       "    </tr>\n",
       "    <tr>\n",
       "      <th>989561</th>\n",
       "      <td>writing</td>\n",
       "      <td>0.000919</td>\n",
       "    </tr>\n",
       "    <tr>\n",
       "      <th>1154506</th>\n",
       "      <td>publication_swlh</td>\n",
       "      <td>0.000799</td>\n",
       "    </tr>\n",
       "    <tr>\n",
       "      <th>506849</th>\n",
       "      <td>mad house</td>\n",
       "      <td>0.000781</td>\n",
       "    </tr>\n",
       "    <tr>\n",
       "      <th>988608</th>\n",
       "      <td>writer</td>\n",
       "      <td>0.000770</td>\n",
       "    </tr>\n",
       "    <tr>\n",
       "      <th>602011</th>\n",
       "      <td>operating cash</td>\n",
       "      <td>0.000761</td>\n",
       "    </tr>\n",
       "    <tr>\n",
       "      <th>1154505</th>\n",
       "      <td>publication_startup-grind</td>\n",
       "      <td>0.000736</td>\n",
       "    </tr>\n",
       "    <tr>\n",
       "      <th>687923</th>\n",
       "      <td>public affair</td>\n",
       "      <td>0.000706</td>\n",
       "    </tr>\n",
       "    <tr>\n",
       "      <th>754845</th>\n",
       "      <td>salesforce</td>\n",
       "      <td>0.000669</td>\n",
       "    </tr>\n",
       "    <tr>\n",
       "      <th>1154517</th>\n",
       "      <td>subtitle_1</td>\n",
       "      <td>0.000646</td>\n",
       "    </tr>\n",
       "    <tr>\n",
       "      <th>163508</th>\n",
       "      <td>connect twitter</td>\n",
       "      <td>0.000611</td>\n",
       "    </tr>\n",
       "    <tr>\n",
       "      <th>311371</th>\n",
       "      <td>federal government</td>\n",
       "      <td>0.000610</td>\n",
       "    </tr>\n",
       "    <tr>\n",
       "      <th>116624</th>\n",
       "      <td>cash flow</td>\n",
       "      <td>0.000580</td>\n",
       "    </tr>\n",
       "    <tr>\n",
       "      <th>692351</th>\n",
       "      <td>python function</td>\n",
       "      <td>0.000562</td>\n",
       "    </tr>\n",
       "    <tr>\n",
       "      <th>987508</th>\n",
       "      <td>write</td>\n",
       "      <td>0.000561</td>\n",
       "    </tr>\n",
       "    <tr>\n",
       "      <th>216874</th>\n",
       "      <td>deep learning</td>\n",
       "      <td>0.000557</td>\n",
       "    </tr>\n",
       "    <tr>\n",
       "      <th>787050</th>\n",
       "      <td>shortterm investment</td>\n",
       "      <td>0.000554</td>\n",
       "    </tr>\n",
       "    <tr>\n",
       "      <th>144081</th>\n",
       "      <td>coffee</td>\n",
       "      <td>0.000547</td>\n",
       "    </tr>\n",
       "    <tr>\n",
       "      <th>303545</th>\n",
       "      <td>facebook linkedin</td>\n",
       "      <td>0.000545</td>\n",
       "    </tr>\n",
       "    <tr>\n",
       "      <th>137954</th>\n",
       "      <td>click link</td>\n",
       "      <td>0.000529</td>\n",
       "    </tr>\n",
       "    <tr>\n",
       "      <th>498213</th>\n",
       "      <td>look example</td>\n",
       "      <td>0.000517</td>\n",
       "    </tr>\n",
       "    <tr>\n",
       "      <th>144104</th>\n",
       "      <td>coffee data</td>\n",
       "      <td>0.000516</td>\n",
       "    </tr>\n",
       "  </tbody>\n",
       "</table>\n",
       "</div>"
      ],
      "text/plain": [
       "                          feature_names  feature_importance\n",
       "1154504  publication_datadriveninvestor            0.003655\n",
       "1154510  publication_writingcooperative            0.002218\n",
       "1154508  publication_towardsdatascience            0.002149\n",
       "1154503    publication_better-marketing            0.001903\n",
       "1154507         publication_the-mission            0.001374\n",
       "1154499                author_followers            0.001253\n",
       "1154509            publication_uxdesign            0.001231\n",
       "581437                            nonus            0.001022\n",
       "98923                brought salesforce            0.000956\n",
       "989561                          writing            0.000919\n",
       "1154506                publication_swlh            0.000799\n",
       "506849                        mad house            0.000781\n",
       "988608                           writer            0.000770\n",
       "602011                   operating cash            0.000761\n",
       "1154505       publication_startup-grind            0.000736\n",
       "687923                    public affair            0.000706\n",
       "754845                       salesforce            0.000669\n",
       "1154517                      subtitle_1            0.000646\n",
       "163508                  connect twitter            0.000611\n",
       "311371               federal government            0.000610\n",
       "116624                        cash flow            0.000580\n",
       "692351                  python function            0.000562\n",
       "987508                            write            0.000561\n",
       "216874                    deep learning            0.000557\n",
       "787050             shortterm investment            0.000554\n",
       "144081                           coffee            0.000547\n",
       "303545                facebook linkedin            0.000545\n",
       "137954                       click link            0.000529\n",
       "498213                     look example            0.000517\n",
       "144104                      coffee data            0.000516"
      ]
     },
     "execution_count": 189,
     "metadata": {},
     "output_type": "execute_result"
    }
   ],
   "source": [
    "pd.DataFrame(dict_features).sort_values('feature_importance', ascending=False).head(30)\n"
   ]
  },
  {
   "cell_type": "markdown",
   "id": "dc20ec45",
   "metadata": {},
   "source": [
    "----"
   ]
  },
  {
   "cell_type": "markdown",
   "id": "845f0a01",
   "metadata": {},
   "source": [
    "### Gradient Boost - Basic"
   ]
  },
  {
   "cell_type": "code",
   "execution_count": 190,
   "id": "42b60bab",
   "metadata": {
    "ExecuteTime": {
     "end_time": "2022-06-17T20:42:52.102746Z",
     "start_time": "2022-06-17T19:38:22.444942Z"
    }
   },
   "outputs": [
    {
     "name": "stdout",
     "output_type": "stream",
     "text": [
      "      Iter       Train Loss   Remaining Time \n",
      "         1           1.2547            9.14m\n",
      "         2           1.2193            8.20m\n",
      "         3           1.1981            7.66m\n",
      "         4           1.1907            7.25m\n",
      "         5           1.1847            6.91m\n",
      "         6           1.1768            6.93m\n",
      "         7           1.1683            6.94m\n",
      "         8           1.1646            6.67m\n",
      "         9           1.1589            6.63m\n",
      "        10           1.1552            6.46m\n",
      "        11           1.1521            6.29m\n",
      "        12           1.1496            6.12m\n",
      "        13           1.1466            6.07m\n",
      "        14           1.1430            6.05m\n",
      "        15           1.1412            5.90m\n",
      "        16           1.1391            5.78m\n",
      "        17           1.1357            5.66m\n",
      "        18           1.1332            5.55m\n",
      "        19           1.1307            5.45m\n",
      "        20           1.1289            5.34m\n",
      "        21           1.1271            5.25m\n",
      "        22           1.1252            5.16m\n",
      "        23           1.1232            5.07m\n",
      "        24           1.1214            4.97m\n",
      "        25           1.1197            4.88m\n",
      "        26           1.1179            4.80m\n",
      "        27           1.1167            4.71m\n",
      "        28           1.1141            4.63m\n",
      "        29           1.1122            4.55m\n",
      "        30           1.1109            4.47m\n",
      "        31           1.1093            4.39m\n",
      "        32           1.1077            4.32m\n",
      "        33           1.1060            4.24m\n",
      "        34           1.1040            4.17m\n",
      "        35           1.1027            4.09m\n",
      "        36           1.1014            4.02m\n",
      "        37           1.0989            3.95m\n",
      "        38           1.0963            3.90m\n",
      "        39           1.0944            3.83m\n",
      "        40           1.0928            3.75m\n",
      "        41           1.0915            3.68m\n",
      "        42           1.0892            3.62m\n",
      "        43           1.0881            3.55m\n",
      "        44           1.0869            3.48m\n",
      "        45           1.0855            3.41m\n",
      "        46           1.0841            3.34m\n",
      "        47           1.0824            3.28m\n",
      "        48           1.0813            3.21m\n",
      "        49           1.0799            3.14m\n",
      "        50           1.0786            3.08m\n",
      "        51           1.0771            3.01m\n",
      "        52           1.0758            2.94m\n",
      "        53           1.0740            2.88m\n",
      "        54           1.0728            2.82m\n",
      "        55           1.0717            2.75m\n",
      "        56           1.0707            2.69m\n",
      "        57           1.0699            2.62m\n",
      "        58           1.0674            2.57m\n",
      "        59           1.0655            2.51m\n",
      "        60           1.0641            2.44m\n",
      "        61           1.0629            2.38m\n",
      "        62           1.0617            2.32m\n",
      "        63           1.0608            2.25m\n",
      "        64           1.0594            2.19m\n",
      "        65           1.0577            2.13m\n",
      "        66           1.0563            2.06m\n",
      "        67           1.0551            2.00m\n",
      "        68           1.0542            1.94m\n",
      "        69           1.0527            1.88m\n",
      "        70           1.0511            1.81m\n",
      "        71           1.0500            1.75m\n",
      "        72           1.0490            1.69m\n",
      "        73           1.0478            1.63m\n",
      "        74           1.0468            1.57m\n",
      "        75           1.0457            1.51m\n",
      "        76           1.0446            1.44m\n",
      "        77           1.0434            1.38m\n",
      "        78           1.0421            1.32m\n",
      "        79           1.0404            1.26m\n",
      "        80           1.0394            1.20m\n",
      "        81           1.0382            1.14m\n",
      "        82           1.0372            1.08m\n",
      "        83           1.0359            1.02m\n",
      "        84           1.0351           57.47s\n",
      "        85           1.0339           53.85s\n",
      "        86           1.0328           50.23s\n",
      "        87           1.0318           46.61s\n",
      "        88           1.0301           43.06s\n",
      "        89           1.0281           39.46s\n",
      "        90           1.0262           35.88s\n",
      "        91           1.0252           32.28s\n",
      "        92           1.0242           28.67s\n",
      "        93           1.0232           25.09s\n",
      "        94           1.0222           21.50s\n",
      "        95           1.0213           17.90s\n",
      "        96           1.0197           14.32s\n",
      "        97           1.0185           10.73s\n",
      "        98           1.0173            7.15s\n",
      "        99           1.0158            3.58s\n",
      "       100           1.0145            0.00s\n",
      "      Iter       Train Loss   Remaining Time \n",
      "         1           1.2524           13.86m\n",
      "         2           1.2171           13.24m\n",
      "         3           1.2001           12.57m\n",
      "         4           1.1904           12.14m\n",
      "         5           1.1802           12.17m\n",
      "         6           1.1737           11.99m\n",
      "         7           1.1647           11.98m\n",
      "         8           1.1591           11.82m\n",
      "         9           1.1545           11.71m\n",
      "        10           1.1503           11.51m\n",
      "        11           1.1481           11.27m\n",
      "        12           1.1445           11.06m\n",
      "        13           1.1422           10.85m\n",
      "        14           1.1403           10.66m\n",
      "        15           1.1372           10.49m\n",
      "        16           1.1337           10.34m\n",
      "        17           1.1311           10.19m\n",
      "        18           1.1278           10.06m\n",
      "        19           1.1243            9.97m\n",
      "        20           1.1211            9.86m\n",
      "        21           1.1190            9.70m\n",
      "        22           1.1164            9.55m\n",
      "        23           1.1142            9.41m\n",
      "        24           1.1125            9.26m\n",
      "        25           1.1100            9.12m\n",
      "        26           1.1073            8.98m\n",
      "        27           1.1049            8.85m\n",
      "        28           1.1021            8.71m\n",
      "        29           1.0999            8.58m\n",
      "        30           1.0980            8.44m\n",
      "        31           1.0963            8.31m\n",
      "        32           1.0947            8.17m\n",
      "        33           1.0920            8.05m\n",
      "        34           1.0890            7.93m\n",
      "        35           1.0874            7.80m\n",
      "        36           1.0859            7.67m\n",
      "        37           1.0837            7.54m\n",
      "        38           1.0797            7.43m\n",
      "        39           1.0773            7.31m\n",
      "        40           1.0751            7.19m\n",
      "        41           1.0733            7.06m\n",
      "        42           1.0709            6.94m\n",
      "        43           1.0690            6.81m\n",
      "        44           1.0676            6.68m\n",
      "        45           1.0663            6.56m\n",
      "        46           1.0646            6.43m\n",
      "        47           1.0634            6.31m\n",
      "        48           1.0620            6.18m\n",
      "        49           1.0608            6.06m\n",
      "        50           1.0590            5.94m\n",
      "        51           1.0565            5.82m\n",
      "        52           1.0551            5.69m\n",
      "        53           1.0537            5.57m\n",
      "        54           1.0522            5.45m\n",
      "        55           1.0505            5.33m\n",
      "        56           1.0493            5.21m\n",
      "        57           1.0473            5.08m\n",
      "        58           1.0460            4.96m\n",
      "        59           1.0440            4.84m\n",
      "        60           1.0424            4.72m\n",
      "        61           1.0408            4.60m\n",
      "        62           1.0382            4.49m\n",
      "        63           1.0363            4.37m\n",
      "        64           1.0352            4.25m\n",
      "        65           1.0329            4.13m\n",
      "        66           1.0315            4.01m\n",
      "        67           1.0303            3.89m\n",
      "        68           1.0291            3.77m\n",
      "        69           1.0278            3.65m\n",
      "        70           1.0267            3.53m\n",
      "        71           1.0251            3.41m\n",
      "        72           1.0240            3.29m\n",
      "        73           1.0229            3.17m\n",
      "        74           1.0218            3.05m\n",
      "        75           1.0191            2.94m\n",
      "        76           1.0173            2.82m\n",
      "        77           1.0146            2.70m\n",
      "        78           1.0129            2.58m\n",
      "        79           1.0118            2.47m\n",
      "        80           1.0105            2.35m\n",
      "        81           1.0086            2.23m\n"
     ]
    },
    {
     "name": "stdout",
     "output_type": "stream",
     "text": [
      "        82           1.0075            2.11m\n",
      "        83           1.0063            1.99m\n",
      "        84           1.0046            1.88m\n",
      "        85           1.0031            1.76m\n",
      "        86           1.0016            1.64m\n",
      "        87           1.0007            1.52m\n",
      "        88           0.9996            1.41m\n",
      "        89           0.9970            1.29m\n",
      "        90           0.9959            1.17m\n",
      "        91           0.9944            1.05m\n",
      "        92           0.9932           56.18s\n",
      "        93           0.9920           49.14s\n",
      "        94           0.9911           42.11s\n",
      "        95           0.9900           35.08s\n",
      "        96           0.9883           28.06s\n",
      "        97           0.9866           21.04s\n",
      "        98           0.9855           14.03s\n",
      "        99           0.9841            7.01s\n",
      "       100           0.9825            0.00s\n",
      "      Iter       Train Loss   Remaining Time \n",
      "         1           1.2558           13.90m\n",
      "         2           1.2225           12.99m\n",
      "         3           1.2033           12.65m\n",
      "         4           1.1931           12.24m\n",
      "         5           1.1809           12.12m\n",
      "         6           1.1744           11.94m\n",
      "         7           1.1696           11.83m\n",
      "         8           1.1642           11.66m\n",
      "         9           1.1591           11.58m\n",
      "        10           1.1552           11.36m\n",
      "        11           1.1495           11.26m\n",
      "        12           1.1457           11.07m\n",
      "        13           1.1420           10.92m\n",
      "        14           1.1393           10.72m\n",
      "        15           1.1365           10.56m\n",
      "        16           1.1328           10.41m\n",
      "        17           1.1297           10.25m\n",
      "        18           1.1271           10.09m\n",
      "        19           1.1254            9.93m\n",
      "        20           1.1237            9.77m\n",
      "        21           1.1207            9.64m\n",
      "        22           1.1168            9.53m\n",
      "        23           1.1135            9.39m\n",
      "        24           1.1110            9.26m\n",
      "        25           1.1089            9.11m\n",
      "        26           1.1070            8.97m\n",
      "        27           1.1049            8.83m\n",
      "        28           1.1033            8.70m\n",
      "        29           1.1015            8.56m\n",
      "        30           1.0997            8.43m\n",
      "        31           1.0982            8.30m\n",
      "        32           1.0965            8.18m\n",
      "        33           1.0949            8.05m\n",
      "        34           1.0928            7.92m\n",
      "        35           1.0902            7.80m\n",
      "        36           1.0884            7.67m\n",
      "        37           1.0864            7.54m\n",
      "        38           1.0836            7.44m\n",
      "        39           1.0822            7.31m\n",
      "        40           1.0805            7.18m\n",
      "        41           1.0790            7.06m\n",
      "        42           1.0771            6.94m\n",
      "        43           1.0745            6.82m\n",
      "        44           1.0721            6.70m\n",
      "        45           1.0706            6.57m\n",
      "        46           1.0682            6.45m\n",
      "        47           1.0670            6.32m\n",
      "        48           1.0659            6.20m\n",
      "        49           1.0642            6.07m\n",
      "        50           1.0629            5.95m\n",
      "        51           1.0608            5.83m\n",
      "        52           1.0595            5.70m\n",
      "        53           1.0582            5.58m\n",
      "        54           1.0563            5.46m\n",
      "        55           1.0541            5.34m\n",
      "        56           1.0526            5.22m\n",
      "        57           1.0513            5.09m\n",
      "        58           1.0499            4.97m\n",
      "        59           1.0484            4.85m\n",
      "        60           1.0473            4.73m\n",
      "        61           1.0459            4.61m\n",
      "        62           1.0433            4.49m\n",
      "        63           1.0421            4.37m\n",
      "        64           1.0399            4.25m\n",
      "        65           1.0386            4.13m\n",
      "        66           1.0370            4.01m\n",
      "        67           1.0356            3.89m\n",
      "        68           1.0345            3.77m\n",
      "        69           1.0334            3.65m\n",
      "        70           1.0319            3.53m\n",
      "        71           1.0307            3.42m\n",
      "        72           1.0294            3.30m\n",
      "        73           1.0278            3.18m\n",
      "        74           1.0260            3.06m\n",
      "        75           1.0242            2.94m\n",
      "        76           1.0231            2.82m\n",
      "        77           1.0220            2.70m\n",
      "        78           1.0201            2.58m\n",
      "        79           1.0183            2.47m\n",
      "        80           1.0173            2.35m\n",
      "        81           1.0157            2.23m\n",
      "        82           1.0147            2.11m\n",
      "        83           1.0128            1.99m\n",
      "        84           1.0118            1.88m\n",
      "        85           1.0106            1.76m\n",
      "        86           1.0089            1.64m\n",
      "        87           1.0062            1.52m\n",
      "        88           1.0037            1.41m\n",
      "        89           1.0013            1.29m\n",
      "        90           1.0000            1.17m\n",
      "        91           0.9987            1.06m\n",
      "        92           0.9970           56.29s\n",
      "        93           0.9956           49.25s\n",
      "        94           0.9944           42.20s\n",
      "        95           0.9935           35.15s\n",
      "        96           0.9922           28.12s\n",
      "        97           0.9910           21.08s\n",
      "        98           0.9895           14.05s\n",
      "        99           0.9883            7.02s\n",
      "       100           0.9873            0.00s\n",
      "      Iter       Train Loss   Remaining Time \n",
      "         1           1.2552           13.78m\n",
      "         2           1.2225           12.89m\n",
      "         3           1.2018           12.55m\n",
      "         4           1.1919           12.13m\n",
      "         5           1.1849           11.90m\n",
      "         6           1.1796           11.63m\n",
      "         7           1.1748           11.42m\n",
      "         8           1.1646           11.46m\n",
      "         9           1.1593           11.35m\n",
      "        10           1.1548           11.19m\n",
      "        11           1.1522           10.98m\n",
      "        12           1.1488           10.83m\n",
      "        13           1.1462           10.65m\n",
      "        14           1.1432           10.48m\n",
      "        15           1.1405           10.32m\n",
      "        16           1.1384           10.16m\n",
      "        17           1.1364           10.01m\n",
      "        18           1.1340            9.86m\n",
      "        19           1.1311            9.77m\n",
      "        20           1.1285            9.64m\n",
      "        21           1.1257            9.54m\n",
      "        22           1.1233            9.40m\n",
      "        23           1.1210            9.26m\n",
      "        24           1.1191            9.12m\n",
      "        25           1.1174            8.98m\n",
      "        26           1.1135            8.90m\n",
      "        27           1.1092            8.80m\n",
      "        28           1.1071            8.67m\n",
      "        29           1.1047            8.53m\n",
      "        30           1.1032            8.40m\n",
      "        31           1.0995            8.29m\n",
      "        32           1.0975            8.16m\n",
      "        33           1.0952            8.03m\n",
      "        34           1.0935            7.90m\n",
      "        35           1.0915            7.77m\n",
      "        36           1.0897            7.64m\n",
      "        37           1.0880            7.52m\n",
      "        38           1.0861            7.39m\n",
      "        39           1.0846            7.26m\n",
      "        40           1.0827            7.14m\n",
      "        41           1.0804            7.01m\n",
      "        42           1.0767            6.91m\n",
      "        43           1.0752            6.79m\n",
      "        44           1.0735            6.66m\n",
      "        45           1.0718            6.54m\n",
      "        46           1.0700            6.41m\n",
      "        47           1.0684            6.29m\n",
      "        48           1.0665            6.17m\n",
      "        49           1.0652            6.04m\n",
      "        50           1.0633            5.92m\n",
      "        51           1.0607            5.80m\n",
      "        52           1.0584            5.68m\n",
      "        53           1.0567            5.56m\n",
      "        54           1.0556            5.43m\n",
      "        55           1.0542            5.31m\n",
      "        56           1.0528            5.19m\n",
      "        57           1.0514            5.07m\n",
      "        58           1.0498            4.95m\n",
      "        59           1.0480            4.83m\n",
      "        60           1.0467            4.71m\n",
      "        61           1.0451            4.59m\n",
      "        62           1.0434            4.47m\n"
     ]
    },
    {
     "name": "stdout",
     "output_type": "stream",
     "text": [
      "        63           1.0420            4.35m\n",
      "        64           1.0401            4.24m\n",
      "        65           1.0385            4.12m\n",
      "        66           1.0365            4.00m\n",
      "        67           1.0343            3.88m\n",
      "        68           1.0326            3.76m\n",
      "        69           1.0314            3.64m\n",
      "        70           1.0300            3.52m\n",
      "        71           1.0283            3.40m\n",
      "        72           1.0269            3.28m\n",
      "        73           1.0256            3.17m\n",
      "        74           1.0245            3.05m\n",
      "        75           1.0235            2.93m\n",
      "        76           1.0222            2.81m\n",
      "        77           1.0210            2.69m\n",
      "        78           1.0200            2.57m\n",
      "        79           1.0188            2.46m\n",
      "        80           1.0175            2.34m\n",
      "        81           1.0162            2.22m\n",
      "        82           1.0147            2.10m\n",
      "        83           1.0132            1.99m\n",
      "        84           1.0119            1.87m\n",
      "        85           1.0110            1.75m\n",
      "        86           1.0091            1.64m\n",
      "        87           1.0075            1.52m\n",
      "        88           1.0063            1.40m\n",
      "        89           1.0047            1.28m\n",
      "        90           1.0031            1.17m\n",
      "        91           1.0019            1.05m\n",
      "        92           1.0009           56.01s\n",
      "        93           0.9992           49.00s\n",
      "        94           0.9975           41.99s\n",
      "        95           0.9958           34.99s\n",
      "        96           0.9937           28.01s\n",
      "        97           0.9927           21.00s\n",
      "        98           0.9918           14.00s\n",
      "        99           0.9908            7.00s\n",
      "       100           0.9898            0.00s\n",
      "      Iter       Train Loss   Remaining Time \n",
      "         1           1.2551           13.82m\n",
      "         2           1.2229           12.96m\n",
      "         3           1.2019           12.86m\n",
      "         4           1.1912           12.55m\n",
      "         5           1.1855           12.17m\n",
      "         6           1.1789           12.03m\n",
      "         7           1.1698           11.90m\n",
      "         8           1.1637           11.78m\n",
      "         9           1.1585           11.63m\n",
      "        10           1.1544           11.44m\n",
      "        11           1.1518           11.21m\n",
      "        12           1.1478           11.06m\n",
      "        13           1.1447           10.87m\n",
      "        14           1.1402           10.78m\n",
      "        15           1.1375           10.59m\n",
      "        16           1.1345           10.43m\n",
      "        17           1.1318           10.27m\n",
      "        18           1.1295           10.10m\n",
      "        19           1.1276            9.94m\n",
      "        20           1.1251            9.80m\n",
      "        21           1.1232            9.65m\n",
      "        22           1.1217            9.50m\n",
      "        23           1.1190            9.36m\n",
      "        24           1.1168            9.21m\n",
      "        25           1.1138            9.09m\n",
      "        26           1.1110            8.97m\n",
      "        27           1.1078            8.88m\n",
      "        28           1.1056            8.75m\n",
      "        29           1.1042            8.61m\n",
      "        30           1.1019            8.48m\n",
      "        31           1.1005            8.34m\n",
      "        32           1.0983            8.21m\n",
      "        33           1.0967            8.08m\n",
      "        34           1.0950            7.94m\n",
      "        35           1.0935            7.81m\n",
      "        36           1.0908            7.69m\n",
      "        37           1.0896            7.56m\n",
      "        38           1.0883            7.43m\n",
      "        39           1.0868            7.30m\n",
      "        40           1.0851            7.17m\n",
      "        41           1.0835            7.04m\n",
      "        42           1.0816            6.92m\n",
      "        43           1.0799            6.79m\n",
      "        44           1.0781            6.67m\n",
      "        45           1.0760            6.55m\n",
      "        46           1.0744            6.42m\n",
      "        47           1.0725            6.30m\n",
      "        48           1.0706            6.18m\n",
      "        49           1.0691            6.05m\n",
      "        50           1.0678            5.93m\n",
      "        51           1.0663            5.81m\n",
      "        52           1.0643            5.69m\n",
      "        53           1.0619            5.58m\n",
      "        54           1.0600            5.45m\n",
      "        55           1.0585            5.33m\n",
      "        56           1.0571            5.21m\n",
      "        57           1.0554            5.09m\n",
      "        58           1.0538            4.97m\n",
      "        59           1.0524            4.85m\n",
      "        60           1.0512            4.73m\n",
      "        61           1.0501            4.60m\n",
      "        62           1.0474            4.49m\n",
      "        63           1.0456            4.37m\n",
      "        64           1.0442            4.25m\n",
      "        65           1.0431            4.13m\n",
      "        66           1.0415            4.01m\n",
      "        67           1.0405            3.89m\n",
      "        68           1.0393            3.77m\n",
      "        69           1.0371            3.65m\n",
      "        70           1.0360            3.53m\n",
      "        71           1.0349            3.41m\n",
      "        72           1.0335            3.29m\n",
      "        73           1.0323            3.17m\n",
      "        74           1.0309            3.05m\n",
      "        75           1.0287            2.94m\n",
      "        76           1.0277            2.82m\n",
      "        77           1.0256            2.70m\n",
      "        78           1.0242            2.58m\n",
      "        79           1.0219            2.47m\n",
      "        80           1.0207            2.35m\n",
      "        81           1.0189            2.23m\n",
      "        82           1.0174            2.11m\n",
      "        83           1.0158            1.99m\n",
      "        84           1.0136            1.88m\n",
      "        85           1.0125            1.76m\n",
      "        86           1.0114            1.64m\n",
      "        87           1.0104            1.52m\n",
      "        88           1.0091            1.41m\n",
      "        89           1.0070            1.29m\n",
      "        90           1.0055            1.17m\n",
      "        91           1.0033            1.05m\n",
      "        92           1.0022           56.21s\n",
      "        93           0.9997           49.19s\n",
      "        94           0.9983           42.15s\n",
      "        95           0.9973           35.12s\n",
      "        96           0.9961           28.09s\n",
      "        97           0.9944           21.07s\n",
      "        98           0.9930           14.04s\n",
      "        99           0.9918            7.02s\n",
      "       100           0.9902            0.00s\n",
      "      Iter       Train Loss   Remaining Time \n",
      "         1           1.2557           13.83m\n",
      "         2           1.2184           13.22m\n",
      "         3           1.1977           12.78m\n",
      "         4           1.1883           12.45m\n",
      "         5           1.1826           12.16m\n",
      "         6           1.1772           11.90m\n",
      "         7           1.1711           11.84m\n",
      "         8           1.1645           11.68m\n",
      "         9           1.1602           11.48m\n",
      "        10           1.1563           11.26m\n",
      "        11           1.1521           11.13m\n",
      "        12           1.1499           10.92m\n",
      "        13           1.1471           10.76m\n",
      "        14           1.1443           10.59m\n",
      "        15           1.1413           10.42m\n",
      "        16           1.1393           10.25m\n",
      "        17           1.1361           10.13m\n",
      "        18           1.1337            9.97m\n",
      "        19           1.1318            9.82m\n",
      "        20           1.1296            9.67m\n",
      "        21           1.1274            9.53m\n",
      "        22           1.1251            9.39m\n",
      "        23           1.1220            9.25m\n",
      "        24           1.1187            9.12m\n",
      "        25           1.1142            9.05m\n",
      "        26           1.1120            8.92m\n",
      "        27           1.1096            8.78m\n",
      "        28           1.1076            8.65m\n",
      "        29           1.1059            8.52m\n",
      "        30           1.1044            8.38m\n",
      "        31           1.1024            8.26m\n",
      "        32           1.0992            8.15m\n",
      "        33           1.0978            8.02m\n",
      "        34           1.0963            7.89m\n",
      "        35           1.0946            7.76m\n",
      "        36           1.0923            7.63m\n",
      "        37           1.0903            7.51m\n",
      "        38           1.0878            7.38m\n",
      "        39           1.0861            7.25m\n",
      "        40           1.0835            7.13m\n",
      "        41           1.0819            7.00m\n",
      "        42           1.0795            6.89m\n",
      "        43           1.0777            6.76m\n"
     ]
    },
    {
     "name": "stdout",
     "output_type": "stream",
     "text": [
      "        44           1.0757            6.64m\n",
      "        45           1.0739            6.52m\n",
      "        46           1.0726            6.39m\n",
      "        47           1.0713            6.27m\n",
      "        48           1.0691            6.15m\n",
      "        49           1.0674            6.03m\n",
      "        50           1.0661            5.91m\n",
      "        51           1.0649            5.78m\n",
      "        52           1.0637            5.66m\n",
      "        53           1.0621            5.54m\n",
      "        54           1.0605            5.42m\n",
      "        55           1.0591            5.30m\n",
      "        56           1.0571            5.18m\n",
      "        57           1.0548            5.06m\n",
      "        58           1.0523            4.94m\n",
      "        59           1.0509            4.82m\n",
      "        60           1.0495            4.70m\n",
      "        61           1.0484            4.58m\n",
      "        62           1.0471            4.46m\n",
      "        63           1.0459            4.34m\n",
      "        64           1.0447            4.23m\n",
      "        65           1.0430            4.11m\n",
      "        66           1.0419            3.99m\n",
      "        67           1.0402            3.87m\n",
      "        68           1.0388            3.75m\n",
      "        69           1.0372            3.63m\n",
      "        70           1.0354            3.51m\n",
      "        71           1.0337            3.39m\n",
      "        72           1.0321            3.28m\n",
      "        73           1.0306            3.16m\n",
      "        74           1.0291            3.04m\n",
      "        75           1.0258            2.93m\n",
      "        76           1.0233            2.81m\n",
      "        77           1.0222            2.70m\n",
      "        78           1.0207            2.58m\n",
      "        79           1.0193            2.46m\n",
      "        80           1.0179            2.34m\n",
      "        81           1.0165            2.22m\n",
      "        82           1.0153            2.11m\n",
      "        83           1.0133            1.99m\n",
      "        84           1.0123            1.87m\n",
      "        85           1.0104            1.75m\n",
      "        86           1.0092            1.64m\n",
      "        87           1.0080            1.52m\n",
      "        88           1.0067            1.40m\n",
      "        89           1.0043            1.29m\n",
      "        90           1.0024            1.17m\n",
      "        91           1.0012            1.05m\n",
      "        92           0.9998           56.07s\n",
      "        93           0.9989           49.04s\n",
      "        94           0.9964           42.04s\n",
      "        95           0.9949           35.03s\n",
      "        96           0.9930           28.03s\n",
      "        97           0.9920           21.02s\n",
      "        98           0.9903           14.01s\n",
      "        99           0.9891            7.00s\n",
      "       100           0.9871            0.00s\n",
      "Training Score: 0.7435233160621761\n",
      "Test Score: 0.6785009861932939\n",
      "Cross Validation Score: [0.66882556 0.67249568 0.67789292 0.67843264 0.67238774]\n",
      "Mean cross Validation Score: 0.674006908462867\n",
      "Standard Deviation of Cross Validation Score: 0.003645272992393426\n"
     ]
    }
   ],
   "source": [
    "model = GradientBoostingClassifier(\n",
    "    n_estimators=100,\n",
    "    criterion='friedman_mse',\n",
    "    loss='deviance',\n",
    "    max_depth=3,\n",
    "    learning_rate=1.0,\n",
    "    random_state=1,\n",
    "    verbose=2)\n",
    "\n",
    "model.fit(X_train, y_train)\n",
    "cv = cross_val_score(model, X_train, y_train, cv=5)\n",
    "\n",
    "print('Training Score:', model.score(X_train, y_train))\n",
    "print('Test Score:',model.score(X_test, y_test))\n",
    "print('Cross Validation Score:', cv)\n",
    "print('Mean cross Validation Score:',cv.mean())\n",
    "print('Standard Deviation of Cross Validation Score:',cv.std())\n"
   ]
  },
  {
   "cell_type": "code",
   "execution_count": 191,
   "id": "c57d91f7",
   "metadata": {
    "ExecuteTime": {
     "end_time": "2022-06-17T20:43:02.532888Z",
     "start_time": "2022-06-17T20:43:02.367931Z"
    }
   },
   "outputs": [],
   "source": [
    "y_pred = model.predict(X_test)\n"
   ]
  },
  {
   "cell_type": "code",
   "execution_count": 192,
   "id": "7a86206f",
   "metadata": {
    "ExecuteTime": {
     "end_time": "2022-06-17T20:43:12.078371Z",
     "start_time": "2022-06-17T20:43:12.067655Z"
    }
   },
   "outputs": [
    {
     "name": "stdout",
     "output_type": "stream",
     "text": [
      "0.6785671850188548\n",
      "0.6706479277984824\n"
     ]
    }
   ],
   "source": [
    "print(roc_auc_score(y_test, y_pred))\n",
    "print(f1_score(y_test, y_pred))\n"
   ]
  },
  {
   "cell_type": "code",
   "execution_count": 193,
   "id": "0272cd16",
   "metadata": {
    "ExecuteTime": {
     "end_time": "2022-06-17T20:43:21.831382Z",
     "start_time": "2022-06-17T20:43:21.600725Z"
    }
   },
   "outputs": [
    {
     "data": {
      "image/png": "[encoded data removed]",
      "text/plain": [
       "<Figure size 432x288 with 1 Axes>"
      ]
     },
     "metadata": {
      "needs_background": "light"
     },
     "output_type": "display_data"
    }
   ],
   "source": [
    "plot_roc_curve(model, X_test, y_test);\n"
   ]
  },
  {
   "cell_type": "code",
   "execution_count": 194,
   "id": "9d6e51cc",
   "metadata": {
    "ExecuteTime": {
     "end_time": "2022-06-17T20:43:31.584317Z",
     "start_time": "2022-06-17T20:43:31.350018Z"
    }
   },
   "outputs": [
    {
     "data": {
      "image/png": "[encoded data removed]",
      "text/plain": [
       "<Figure size 432x288 with 2 Axes>"
      ]
     },
     "metadata": {
      "needs_background": "light"
     },
     "output_type": "display_data"
    }
   ],
   "source": [
    "plot_confusion_matrix(model, X_test, y_test, cmap='Blues', labels=[1, 0], values_format='.0f')\n",
    "plt.show()\n"
   ]
  },
  {
   "cell_type": "code",
   "execution_count": 195,
   "id": "096487dd",
   "metadata": {
    "ExecuteTime": {
     "end_time": "2022-06-17T20:43:42.343443Z",
     "start_time": "2022-06-17T20:43:41.138420Z"
    }
   },
   "outputs": [],
   "source": [
    "gradient_boost_features = model.feature_importances_\n"
   ]
  },
  {
   "cell_type": "code",
   "execution_count": 196,
   "id": "42f15b84",
   "metadata": {
    "ExecuteTime": {
     "end_time": "2022-06-17T20:43:52.503759Z",
     "start_time": "2022-06-17T20:43:52.100621Z"
    }
   },
   "outputs": [
    {
     "data": {
      "text/html": [
       "<div>\n",
       "<style scoped>\n",
       "    .dataframe tbody tr th:only-of-type {\n",
       "        vertical-align: middle;\n",
       "    }\n",
       "\n",
       "    .dataframe tbody tr th {\n",
       "        vertical-align: top;\n",
       "    }\n",
       "\n",
       "    .dataframe thead th {\n",
       "        text-align: right;\n",
       "    }\n",
       "</style>\n",
       "<table border=\"1\" class=\"dataframe\">\n",
       "  <thead>\n",
       "    <tr style=\"text-align: right;\">\n",
       "      <th></th>\n",
       "      <th>feature_names</th>\n",
       "      <th>feature_importance</th>\n",
       "    </tr>\n",
       "  </thead>\n",
       "  <tbody>\n",
       "    <tr>\n",
       "      <th>1154499</th>\n",
       "      <td>author_followers</td>\n",
       "      <td>0.237178</td>\n",
       "    </tr>\n",
       "    <tr>\n",
       "      <th>1154504</th>\n",
       "      <td>publication_datadriveninvestor</td>\n",
       "      <td>0.150518</td>\n",
       "    </tr>\n",
       "    <tr>\n",
       "      <th>1154508</th>\n",
       "      <td>publication_towardsdatascience</td>\n",
       "      <td>0.088500</td>\n",
       "    </tr>\n",
       "    <tr>\n",
       "      <th>1154500</th>\n",
       "      <td>number_of_words</td>\n",
       "      <td>0.026401</td>\n",
       "    </tr>\n",
       "    <tr>\n",
       "      <th>1154503</th>\n",
       "      <td>publication_better-marketing</td>\n",
       "      <td>0.019135</td>\n",
       "    </tr>\n",
       "    <tr>\n",
       "      <th>1154507</th>\n",
       "      <td>publication_the-mission</td>\n",
       "      <td>0.018392</td>\n",
       "    </tr>\n",
       "    <tr>\n",
       "      <th>1154517</th>\n",
       "      <td>subtitle_1</td>\n",
       "      <td>0.010742</td>\n",
       "    </tr>\n",
       "    <tr>\n",
       "      <th>989561</th>\n",
       "      <td>writing</td>\n",
       "      <td>0.010481</td>\n",
       "    </tr>\n",
       "    <tr>\n",
       "      <th>1154505</th>\n",
       "      <td>publication_startup-grind</td>\n",
       "      <td>0.007387</td>\n",
       "    </tr>\n",
       "    <tr>\n",
       "      <th>1154506</th>\n",
       "      <td>publication_swlh</td>\n",
       "      <td>0.006971</td>\n",
       "    </tr>\n",
       "    <tr>\n",
       "      <th>691995</th>\n",
       "      <td>python</td>\n",
       "      <td>0.006619</td>\n",
       "    </tr>\n",
       "    <tr>\n",
       "      <th>226170</th>\n",
       "      <td>design</td>\n",
       "      <td>0.006239</td>\n",
       "    </tr>\n",
       "    <tr>\n",
       "      <th>602011</th>\n",
       "      <td>operating cash</td>\n",
       "      <td>0.005824</td>\n",
       "    </tr>\n",
       "    <tr>\n",
       "      <th>144104</th>\n",
       "      <td>coffee data</td>\n",
       "      <td>0.005141</td>\n",
       "    </tr>\n",
       "    <tr>\n",
       "      <th>448204</th>\n",
       "      <td>jim katzaman</td>\n",
       "      <td>0.004269</td>\n",
       "    </tr>\n",
       "    <tr>\n",
       "      <th>411128</th>\n",
       "      <td>image author</td>\n",
       "      <td>0.004070</td>\n",
       "    </tr>\n",
       "    <tr>\n",
       "      <th>533180</th>\n",
       "      <td>medium link</td>\n",
       "      <td>0.003941</td>\n",
       "    </tr>\n",
       "    <tr>\n",
       "      <th>103105</th>\n",
       "      <td>business</td>\n",
       "      <td>0.003788</td>\n",
       "    </tr>\n",
       "    <tr>\n",
       "      <th>948909</th>\n",
       "      <td>via freepikcom</td>\n",
       "      <td>0.003770</td>\n",
       "    </tr>\n",
       "    <tr>\n",
       "      <th>216874</th>\n",
       "      <td>deep learning</td>\n",
       "      <td>0.003212</td>\n",
       "    </tr>\n",
       "    <tr>\n",
       "      <th>480344</th>\n",
       "      <td>like</td>\n",
       "      <td>0.003195</td>\n",
       "    </tr>\n",
       "    <tr>\n",
       "      <th>959279</th>\n",
       "      <td>warranty written</td>\n",
       "      <td>0.002724</td>\n",
       "    </tr>\n",
       "    <tr>\n",
       "      <th>47065</th>\n",
       "      <td>architecture</td>\n",
       "      <td>0.002653</td>\n",
       "    </tr>\n",
       "    <tr>\n",
       "      <th>778555</th>\n",
       "      <td>service</td>\n",
       "      <td>0.002507</td>\n",
       "    </tr>\n",
       "    <tr>\n",
       "      <th>4401</th>\n",
       "      <td>account earn</td>\n",
       "      <td>0.002445</td>\n",
       "    </tr>\n",
       "    <tr>\n",
       "      <th>403028</th>\n",
       "      <td>human daily</td>\n",
       "      <td>0.002366</td>\n",
       "    </tr>\n",
       "    <tr>\n",
       "      <th>992355</th>\n",
       "      <td>wwwdatadriveninvestorcom</td>\n",
       "      <td>0.002234</td>\n",
       "    </tr>\n",
       "    <tr>\n",
       "      <th>575124</th>\n",
       "      <td>new technical</td>\n",
       "      <td>0.002212</td>\n",
       "    </tr>\n",
       "    <tr>\n",
       "      <th>133641</th>\n",
       "      <td>clap</td>\n",
       "      <td>0.002194</td>\n",
       "    </tr>\n",
       "    <tr>\n",
       "      <th>41096</th>\n",
       "      <td>app</td>\n",
       "      <td>0.002037</td>\n",
       "    </tr>\n",
       "  </tbody>\n",
       "</table>\n",
       "</div>"
      ],
      "text/plain": [
       "                          feature_names  feature_importance\n",
       "1154499                author_followers            0.237178\n",
       "1154504  publication_datadriveninvestor            0.150518\n",
       "1154508  publication_towardsdatascience            0.088500\n",
       "1154500                 number_of_words            0.026401\n",
       "1154503    publication_better-marketing            0.019135\n",
       "1154507         publication_the-mission            0.018392\n",
       "1154517                      subtitle_1            0.010742\n",
       "989561                          writing            0.010481\n",
       "1154505       publication_startup-grind            0.007387\n",
       "1154506                publication_swlh            0.006971\n",
       "691995                           python            0.006619\n",
       "226170                           design            0.006239\n",
       "602011                   operating cash            0.005824\n",
       "144104                      coffee data            0.005141\n",
       "448204                     jim katzaman            0.004269\n",
       "411128                     image author            0.004070\n",
       "533180                      medium link            0.003941\n",
       "103105                         business            0.003788\n",
       "948909                   via freepikcom            0.003770\n",
       "216874                    deep learning            0.003212\n",
       "480344                             like            0.003195\n",
       "959279                 warranty written            0.002724\n",
       "47065                      architecture            0.002653\n",
       "778555                          service            0.002507\n",
       "4401                       account earn            0.002445\n",
       "403028                      human daily            0.002366\n",
       "992355         wwwdatadriveninvestorcom            0.002234\n",
       "575124                    new technical            0.002212\n",
       "133641                             clap            0.002194\n",
       "41096                               app            0.002037"
      ]
     },
     "execution_count": 196,
     "metadata": {},
     "output_type": "execute_result"
    }
   ],
   "source": [
    "dict_features = {'feature_names': feature_names, 'feature_importance': gradient_boost_features}\n",
    "pd.DataFrame(dict_features).sort_values('feature_importance', ascending=False).head(30)\n"
   ]
  },
  {
   "cell_type": "markdown",
   "id": "2d22046d",
   "metadata": {
    "ExecuteTime": {
     "end_time": "2022-06-15T15:48:55.287380Z",
     "start_time": "2022-06-15T15:48:55.250464Z"
    }
   },
   "source": [
    "Generally, importance provides a score that indicates how useful or valuable each feature was in the construction of the boosted decision trees within the model. The more an attribute is used to make key decisions with decision trees, the higher its relative importance."
   ]
  },
  {
   "cell_type": "markdown",
   "id": "a5f5e6f4",
   "metadata": {},
   "source": [
    "-----"
   ]
  },
  {
   "cell_type": "markdown",
   "id": "42d73008",
   "metadata": {},
   "source": [
    "### Gradient Boost - RandomCV"
   ]
  },
  {
   "cell_type": "code",
   "execution_count": 186,
   "id": "97b9aeb3",
   "metadata": {
    "ExecuteTime": {
     "end_time": "2022-06-15T15:55:00.760179Z",
     "start_time": "2022-06-15T15:55:00.743281Z"
    }
   },
   "outputs": [],
   "source": [
    "parameters = {\n",
    "    \"learning_rate\": [0.01, 0.05, 0.15, 0.2],\n",
    "    \"min_samples_split\": np.linspace(0.1, 0.5, 4),\n",
    "    \"min_samples_leaf\": np.linspace(0.1, 0.5, 4),\n",
    "    \"max_depth\":[3,5,8],\n",
    "    \"max_features\":[\"log2\",\"sqrt\"],\n",
    "    \"criterion\": [\"friedman_mse\",  \"mse\"],\n",
    "    \"subsample\":[0.5, 0.8, 1.0],\n",
    "    \"n_estimators\":[10],\n",
    "    }\n"
   ]
  },
  {
   "cell_type": "code",
   "execution_count": null,
   "id": "a599c6b2",
   "metadata": {
    "ExecuteTime": {
     "end_time": "2022-06-14T05:55:34.473347Z",
     "start_time": "2022-06-13T20:05:03.698531Z"
    }
   },
   "outputs": [],
   "source": [
    "#passing the scoring function in the GridSearchCV\n",
    "gradient_grid = RandomizedSearchCV(GradientBoostingClassifier(), parameters, refit=False, cv=5, n_jobs=-1, verbose=1)\n",
    "\n",
    "gradient_grid.fit(X_train, y_train)"
   ]
  },
  {
   "cell_type": "code",
   "execution_count": null,
   "id": "6434aed4",
   "metadata": {
    "ExecuteTime": {
     "end_time": "2022-06-14T05:55:34.691347Z",
     "start_time": "2022-06-14T05:55:34.691339Z"
    }
   },
   "outputs": [],
   "source": [
    "gradient_gridgradien_grid.best_score)\n",
    "(gradient_grid.score(X_test, y_test))\n"
   ]
  }
 ],
 "metadata": {
  "kernelspec": {
   "display_name": "Python 3 (ipykernel)",
   "language": "python",
   "name": "python3"
  },
  "language_info": {
   "codemirror_mode": {
    "name": "ipython",
    "version": 3
   },
   "file_extension": ".py",
   "mimetype": "text/x-python",
   "name": "python",
   "nbconvert_exporter": "python",
   "pygments_lexer": "ipython3",
   "version": "3.9.7"
  },
  "toc": {
   "base_numbering": 1,
   "nav_menu": {},
   "number_sections": true,
   "sideBar": true,
   "skip_h1_title": false,
   "title_cell": "Table of Contents",
   "title_sidebar": "Contents",
   "toc_cell": false,
   "toc_position": {
    "height": "calc(100% - 180px)",
    "left": "10px",
    "top": "150px",
    "width": "262.094px"
   },
   "toc_section_display": true,
   "toc_window_display": true
  },
  "varInspector": {
   "cols": {
    "lenName": 16,
    "lenType": 16,
    "lenVar": 40
   },
   "kernels_config": {
    "python": {
     "delete_cmd_postfix": "",
     "delete_cmd_prefix": "del ",
     "library": "var_list.py",
     "varRefreshCmd": "print(var_dic_list())"
    },
    "r": {
     "delete_cmd_postfix": ") ",
     "delete_cmd_prefix": "rm(",
     "library": "var_list.r",
     "varRefreshCmd": "cat(var_dic_list()) "
    }
   },
   "types_to_exclude": [
    "module",
    "function",
    "builtin_function_or_method",
    "instance",
    "_Feature"
   ],
   "window_display": false
  }
 },
 "nbformat": 4,
 "nbformat_minor": 5
}
