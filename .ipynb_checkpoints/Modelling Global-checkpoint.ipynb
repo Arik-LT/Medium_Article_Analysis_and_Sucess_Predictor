{
 "cells": [
  {
   "cell_type": "markdown",
   "id": "d4212cd7-40ad-49d2-a194-367cdb8c9920",
   "metadata": {
    "tags": []
   },
   "source": [
    "## Hypothesis"
   ]
  },
  {
   "cell_type": "markdown",
   "id": "8b67290f-783f-4439-ab53-02faa302c41a",
   "metadata": {},
   "source": [
    "<h4> Investigative approach of the determinants of medium article success </h4>\n",
    "\n",
    "- Target: Claps (aka likes)\n",
    "- Classification task, achieved by splitting the amount of likes by median to create two classes.\n",
    "- Median Value for claps: 95 claps\n",
    "\n",
    "Questions:\n",
    "- What are the most important features of a good article?\n",
    "- Are there any particular topics/words that receive more claps?\n",
    "\n",
    "Main Modles:\n",
    "- Logistic Regression\n",
    "- Linear SVM\n",
    "- XGBoost\n",
    "\n",
    "Results:\n",
    "- Accuracy score of 0.7, ie was able to correctly classify articles as belonging to class 0 (less than 95 claps) or class 1 (over 95 claps) with 70% accuracy\n",
    "- 0.20 over Baseline"
   ]
  },
  {
   "cell_type": "markdown",
   "id": "07d58bb5",
   "metadata": {
    "heading_collapsed": true
   },
   "source": [
    "## Imports"
   ]
  },
  {
   "cell_type": "code",
   "execution_count": null,
   "id": "dcb2e724",
   "metadata": {
    "ExecuteTime": {
     "end_time": "2022-06-22T13:48:01.165078Z",
     "start_time": "2022-06-22T13:48:01.142967Z"
    },
    "hidden": true
   },
   "outputs": [],
   "source": [
    "import pandas as pd\n",
    "import numpy as np\n",
    "import re\n",
    "\n",
    "from textblob import TextBlob, Word\n",
    "\n",
    "import matplotlib.pyplot as plt\n",
    "import seaborn as sns\n",
    "import plotly.express as px\n",
    "import scipy\n",
    "from datetime import datetime"
   ]
  },
  {
   "cell_type": "code",
   "execution_count": null,
   "id": "0ab1f996",
   "metadata": {
    "ExecuteTime": {
     "end_time": "2022-06-22T13:48:01.180185Z",
     "start_time": "2022-06-22T13:48:01.168095Z"
    },
    "hidden": true
   },
   "outputs": [],
   "source": [
    "from sklearn.model_selection import train_test_split\n",
    "from sklearn.preprocessing import StandardScaler\n",
    "\n",
    "from sklearn.feature_extraction.text import CountVectorizer\n",
    "\n",
    "from sklearn.linear_model import LogisticRegression, LogisticRegressionCV, ElasticNetCV\n",
    "from sklearn.model_selection import cross_val_score, StratifiedKFold\n",
    "from sklearn.naive_bayes import MultinomialNB\n",
    "from sklearn.ensemble import RandomForestClassifier, GradientBoostingClassifier\n",
    "from sklearn.model_selection import GridSearchCV, RandomizedSearchCV\n",
    "from sklearn.svm import LinearSVC\n",
    "from xgboost import XGBClassifier\n",
    "from sklearn.metrics import accuracy_score\n",
    "\n",
    "from sklearn.pipeline import Pipeline\n",
    "from sklearn.metrics import roc_auc_score, plot_roc_curve, f1_score, plot_precision_recall_curve"
   ]
  },
  {
   "cell_type": "markdown",
   "id": "c4753b18",
   "metadata": {
    "heading_collapsed": true,
    "hidden": true
   },
   "source": [
    "### Last clean before model"
   ]
  },
  {
   "cell_type": "code",
   "execution_count": null,
   "id": "64c140e2",
   "metadata": {
    "ExecuteTime": {
     "end_time": "2022-06-22T13:48:06.201263Z",
     "start_time": "2022-06-22T13:48:01.181388Z"
    },
    "hidden": true
   },
   "outputs": [],
   "source": [
    "df = pd.read_csv('df_final_no_numbers.csv')\n",
    "df.subtitle = df.subtitle.apply(lambda x: 0 if x == '-' else 1)\n",
    "df.subtitle = df.subtitle.apply(str)\n",
    "df.day_of_the_week = df.day_of_the_week.apply(str)\n",
    "df = df[(df['publication'] != 'personal-growth')\n",
    "        & (df['publication'] != 'uxplanet')]\n",
    "df.reset_index(drop=True, inplace=True)"
   ]
  },
  {
   "cell_type": "code",
   "execution_count": null,
   "id": "a4cc33ff",
   "metadata": {
    "ExecuteTime": {
     "end_time": "2022-06-22T13:48:06.223135Z",
     "start_time": "2022-06-22T13:48:06.202200Z"
    },
    "hidden": true
   },
   "outputs": [],
   "source": [
    "df.head()"
   ]
  },
  {
   "cell_type": "markdown",
   "id": "3f81eb38",
   "metadata": {
    "hidden": true
   },
   "source": [
    "------"
   ]
  },
  {
   "cell_type": "markdown",
   "id": "654711d3",
   "metadata": {},
   "source": [
    "## Simple look at data"
   ]
  },
  {
   "cell_type": "code",
   "execution_count": null,
   "id": "40b72af7",
   "metadata": {
    "ExecuteTime": {
     "end_time": "2022-06-22T13:48:06.245105Z",
     "start_time": "2022-06-22T13:48:06.225365Z"
    }
   },
   "outputs": [],
   "source": [
    "df.publication.value_counts()"
   ]
  },
  {
   "cell_type": "code",
   "execution_count": null,
   "id": "d538f34a",
   "metadata": {
    "ExecuteTime": {
     "end_time": "2022-06-22T13:48:06.323488Z",
     "start_time": "2022-06-22T13:48:06.246358Z"
    }
   },
   "outputs": [],
   "source": [
    "df.describe()"
   ]
  },
  {
   "cell_type": "markdown",
   "id": "ded4349f",
   "metadata": {},
   "source": [
    "------"
   ]
  },
  {
   "cell_type": "markdown",
   "id": "85f5dd43",
   "metadata": {},
   "source": [
    "## Data Pre Processing"
   ]
  },
  {
   "cell_type": "markdown",
   "id": "31d14991",
   "metadata": {},
   "source": [
    "### Selecting X and y for models"
   ]
  },
  {
   "cell_type": "code",
   "execution_count": null,
   "id": "0623af83",
   "metadata": {
    "ExecuteTime": {
     "end_time": "2022-06-22T13:48:06.353284Z",
     "start_time": "2022-06-22T13:48:06.329756Z"
    }
   },
   "outputs": [],
   "source": [
    "df.publication.unique()\n"
   ]
  },
  {
   "cell_type": "code",
   "execution_count": null,
   "id": "833968ad",
   "metadata": {
    "ExecuteTime": {
     "end_time": "2022-06-22T13:48:06.410419Z",
     "start_time": "2022-06-22T13:48:06.354339Z"
    }
   },
   "outputs": [],
   "source": [
    "y = df.claps_binary\n"
   ]
  },
  {
   "cell_type": "code",
   "execution_count": null,
   "id": "c7c16752",
   "metadata": {
    "ExecuteTime": {
     "end_time": "2022-06-22T13:48:06.474954Z",
     "start_time": "2022-06-22T13:48:06.411420Z"
    },
    "scrolled": true
   },
   "outputs": [],
   "source": [
    "df.info()\n"
   ]
  },
  {
   "cell_type": "code",
   "execution_count": null,
   "id": "77a53002",
   "metadata": {
    "ExecuteTime": {
     "end_time": "2022-06-22T13:48:06.548774Z",
     "start_time": "2022-06-22T13:48:06.476618Z"
    }
   },
   "outputs": [],
   "source": [
    "X_ = df[['title', 'text','subtitle', 'author_followers', 'publication', 'number_of_words', 'day_of_the_week', 'polarity', 'subjectivity']]\n",
    "X_ = pd.get_dummies(X_, columns=['publication', 'day_of_the_week', 'subtitle'], drop_first=True)\n",
    "\n",
    "X_.head()"
   ]
  },
  {
   "cell_type": "markdown",
   "id": "6bb533df",
   "metadata": {},
   "source": [
    "------"
   ]
  },
  {
   "cell_type": "markdown",
   "id": "6b067209",
   "metadata": {},
   "source": [
    "### Train test split"
   ]
  },
  {
   "cell_type": "code",
   "execution_count": null,
   "id": "f6f72c3c",
   "metadata": {
    "ExecuteTime": {
     "end_time": "2022-06-22T13:48:06.666279Z",
     "start_time": "2022-06-22T13:48:06.550098Z"
    }
   },
   "outputs": [],
   "source": [
    "X_train, X_test, y_train, y_test = train_test_split(X_, y, test_size=0.33, random_state=42, stratify=y)\n",
    "\n",
    "print(X_train.shape)\n",
    "print(X_test.shape)\n",
    "print(y_train.shape)\n",
    "print(y_test.shape)\n"
   ]
  },
  {
   "cell_type": "markdown",
   "id": "36abacbd",
   "metadata": {},
   "source": [
    "### Work on training set"
   ]
  },
  {
   "cell_type": "markdown",
   "id": "efd36fbe",
   "metadata": {},
   "source": [
    "#### Cvec text of training set"
   ]
  },
  {
   "cell_type": "code",
   "execution_count": null,
   "id": "abcb214b",
   "metadata": {
    "ExecuteTime": {
     "end_time": "2022-06-22T13:49:54.543811Z",
     "start_time": "2022-06-22T13:48:06.667703Z"
    }
   },
   "outputs": [],
   "source": [
    "cvec = CountVectorizer(ngram_range=(1,2), max_features=1000000)\n",
    "\n",
    "X_train_text = cvec.fit_transform(X_train.text)\n",
    "X_train_text.shape\n"
   ]
  },
  {
   "cell_type": "markdown",
   "id": "0c092c61",
   "metadata": {},
   "source": [
    "#### Cvec title of training set"
   ]
  },
  {
   "cell_type": "code",
   "execution_count": null,
   "id": "2531d470",
   "metadata": {
    "ExecuteTime": {
     "end_time": "2022-06-22T13:49:55.245916Z",
     "start_time": "2022-06-22T13:49:54.550326Z"
    }
   },
   "outputs": [],
   "source": [
    "cvec_2 = CountVectorizer(ngram_range=(1,2))\n",
    "\n",
    "X_train_title = cvec_2.fit_transform(X_train.title)\n",
    "X_train_title.shape\n"
   ]
  },
  {
   "cell_type": "markdown",
   "id": "b6778454",
   "metadata": {},
   "source": [
    "#### Turn remaining columns into sparse matrix form"
   ]
  },
  {
   "cell_type": "code",
   "execution_count": null,
   "id": "01885a34",
   "metadata": {
    "ExecuteTime": {
     "end_time": "2022-06-22T13:49:55.273503Z",
     "start_time": "2022-06-22T13:49:55.247187Z"
    }
   },
   "outputs": [],
   "source": [
    "train_to_sparse = X_train.drop(['title', 'text'], axis=1)\n",
    "sparse_df_train = scipy.sparse.csr_matrix(train_to_sparse.values)\n"
   ]
  },
  {
   "cell_type": "markdown",
   "id": "dee62f01",
   "metadata": {},
   "source": [
    "#### Merge three train columns together"
   ]
  },
  {
   "cell_type": "code",
   "execution_count": null,
   "id": "6b103323",
   "metadata": {
    "ExecuteTime": {
     "end_time": "2022-06-22T13:49:56.619448Z",
     "start_time": "2022-06-22T13:49:55.274720Z"
    }
   },
   "outputs": [],
   "source": [
    "X_train = scipy.sparse.hstack((X_train_text, X_train_title, sparse_df_train))\n",
    "X_train.shape"
   ]
  },
  {
   "cell_type": "markdown",
   "id": "b366b3f6",
   "metadata": {},
   "source": [
    "-------"
   ]
  },
  {
   "cell_type": "markdown",
   "id": "cf27271c",
   "metadata": {},
   "source": [
    "### Work on test set"
   ]
  },
  {
   "cell_type": "markdown",
   "id": "f57100f8",
   "metadata": {},
   "source": [
    "#### Cvec text of test set"
   ]
  },
  {
   "cell_type": "code",
   "execution_count": null,
   "id": "c3e9d1bc",
   "metadata": {
    "ExecuteTime": {
     "end_time": "2022-06-22T13:50:21.001543Z",
     "start_time": "2022-06-22T13:49:56.620440Z"
    }
   },
   "outputs": [],
   "source": [
    "X_test_text = cvec.transform(X_test.text)\n",
    "X_test_text.shape\n"
   ]
  },
  {
   "cell_type": "markdown",
   "id": "349a6c24",
   "metadata": {},
   "source": [
    "#### Cvec title of test set"
   ]
  },
  {
   "cell_type": "code",
   "execution_count": null,
   "id": "e1e1032e",
   "metadata": {
    "ExecuteTime": {
     "end_time": "2022-06-22T13:50:21.225527Z",
     "start_time": "2022-06-22T13:50:21.003261Z"
    }
   },
   "outputs": [],
   "source": [
    "X_test_title = cvec_2.transform(X_test.title)\n",
    "X_test_title.shape\n"
   ]
  },
  {
   "cell_type": "markdown",
   "id": "54e2122b",
   "metadata": {},
   "source": [
    "#### Turn remaining columns into sparse matrix form"
   ]
  },
  {
   "cell_type": "code",
   "execution_count": null,
   "id": "00c4702e",
   "metadata": {
    "ExecuteTime": {
     "end_time": "2022-06-22T13:50:21.243544Z",
     "start_time": "2022-06-22T13:50:21.226470Z"
    }
   },
   "outputs": [],
   "source": [
    "test_to_sparse = X_test.drop(['title', 'text'], axis=1)\n",
    "sparse_df_test = scipy.sparse.csr_matrix(test_to_sparse.values)\n"
   ]
  },
  {
   "cell_type": "markdown",
   "id": "9d388bc7",
   "metadata": {},
   "source": [
    "#### Merge three train columns together"
   ]
  },
  {
   "cell_type": "code",
   "execution_count": null,
   "id": "9427b462",
   "metadata": {
    "ExecuteTime": {
     "end_time": "2022-06-22T13:50:21.668990Z",
     "start_time": "2022-06-22T13:50:21.244604Z"
    }
   },
   "outputs": [],
   "source": [
    "X_test = scipy.sparse.hstack((X_test_text, X_test_title, sparse_df_test))\n",
    "X_test.shape\n"
   ]
  },
  {
   "cell_type": "code",
   "execution_count": null,
   "id": "5431c6df",
   "metadata": {
    "ExecuteTime": {
     "end_time": "2022-06-22T13:50:27.112607Z",
     "start_time": "2022-06-22T13:50:21.673187Z"
    }
   },
   "outputs": [],
   "source": [
    "scaler=StandardScaler(with_mean=False)\n",
    "\n",
    "X_train = scaler.fit_transform(X_train)\n",
    "X_test = scaler.transform(X_test)"
   ]
  },
  {
   "cell_type": "code",
   "execution_count": null,
   "id": "0de3aa65",
   "metadata": {
    "ExecuteTime": {
     "end_time": "2022-06-22T15:36:44.862149Z",
     "start_time": "2022-06-22T15:36:44.860077Z"
    }
   },
   "outputs": [],
   "source": [
    "print(X_train.shape)\n",
    "print(X_test.shape)"
   ]
  },
  {
   "cell_type": "markdown",
   "id": "e453912c",
   "metadata": {},
   "source": [
    "Adding the string title to each of the token feature names of the title column so that they can be distinguished from the text tokens when interpreting coefficients and feature importance"
   ]
  },
  {
   "cell_type": "code",
   "execution_count": null,
   "id": "ac24295f",
   "metadata": {
    "ExecuteTime": {
     "end_time": "2022-06-22T13:50:27.268127Z",
     "start_time": "2022-06-22T13:50:27.123096Z"
    }
   },
   "outputs": [],
   "source": [
    "title_feature_names = [token + ' (Title)' for token in cvec_2.get_feature_names()]\n",
    "title_feature_names[:10]\n"
   ]
  },
  {
   "cell_type": "code",
   "execution_count": null,
   "id": "6887e88b",
   "metadata": {
    "ExecuteTime": {
     "end_time": "2022-06-22T13:50:29.091444Z",
     "start_time": "2022-06-22T13:50:27.269136Z"
    }
   },
   "outputs": [],
   "source": [
    "feature_names = cvec.get_feature_names() + title_feature_names + list(train_to_sparse.columns)"
   ]
  },
  {
   "cell_type": "markdown",
   "id": "e418b265",
   "metadata": {},
   "source": [
    "## Modelling"
   ]
  },
  {
   "cell_type": "markdown",
   "id": "6dfd2c5f",
   "metadata": {},
   "source": [
    "### Logistic Regression"
   ]
  },
  {
   "cell_type": "code",
   "execution_count": null,
   "id": "5ca217e9",
   "metadata": {
    "ExecuteTime": {
     "end_time": "2022-06-22T13:53:52.588831Z",
     "start_time": "2022-06-22T13:50:29.092879Z"
    },
    "scrolled": true
   },
   "outputs": [],
   "source": [
    "log_model = LogisticRegression(n_jobs=7, max_iter=5000)\n",
    "log_model.fit(X_train, y_train)\n",
    "\n",
    "cv = cross_val_score(log_model, X_train, y_train, cv=5)\n",
    "\n",
    "print('Training Score:', log_model.score(X_train, y_train))\n",
    "print('Test Score:', log_model.score(X_test, y_test))\n",
    "print('Cross Validation Score:', cv)\n",
    "print('Mean cross Validation Score:', cv.mean())\n",
    "print('Standard Deviation of Cross Validation Score:', cv.std())"
   ]
  },
  {
   "cell_type": "code",
   "execution_count": null,
   "id": "2708c2f2",
   "metadata": {
    "ExecuteTime": {
     "end_time": "2022-06-22T13:53:52.646624Z",
     "start_time": "2022-06-22T13:53:52.590718Z"
    }
   },
   "outputs": [],
   "source": [
    "y_pred = log_model.predict(X_test)\n",
    "\n",
    "print(classification_report(y_test, y_pred))"
   ]
  },
  {
   "cell_type": "code",
   "execution_count": null,
   "id": "69e66652",
   "metadata": {
    "ExecuteTime": {
     "end_time": "2022-06-22T13:53:53.205990Z",
     "start_time": "2022-06-22T13:53:52.647592Z"
    }
   },
   "outputs": [],
   "source": [
    "plot_confusion_matrix(log_model, X_test, y_test, cmap='Blues', labels=[1, 0], values_format='.0f')\n",
    "plt.show()"
   ]
  },
  {
   "cell_type": "markdown",
   "id": "97979f21",
   "metadata": {},
   "source": [
    "#### Model Coefficients"
   ]
  },
  {
   "cell_type": "markdown",
   "id": "0c61cc02",
   "metadata": {},
   "source": [
    "Extracting the absolute value of all the coefficients so we know how much of an influence they have on the target, whether positive or negative."
   ]
  },
  {
   "cell_type": "code",
   "execution_count": null,
   "id": "30944ce0",
   "metadata": {},
   "outputs": [],
   "source": [
    "log_coef = log_model.coef_[0]\n",
    "absolute_values = np.absolute(log_coef)"
   ]
  },
  {
   "cell_type": "code",
   "execution_count": null,
   "id": "3543d571",
   "metadata": {
    "ExecuteTime": {
     "end_time": "2022-06-22T18:19:59.337520Z",
     "start_time": "2022-06-22T18:19:59.313040Z"
    }
   },
   "outputs": [],
   "source": [
    "def calc_effect(coefs): \n",
    "    effect = []\n",
    "    for item in coefs:\n",
    "        if item > 0:\n",
    "            effect.append('Positive')\n",
    "        elif item < 0:\n",
    "            effect.append('Negative')\n",
    "        else:\n",
    "            effect.append('No Effect')\n",
    "    \n",
    "    return effect"
   ]
  },
  {
   "cell_type": "code",
   "execution_count": null,
   "id": "dc03e31b",
   "metadata": {
    "ExecuteTime": {
     "end_time": "2022-06-22T13:53:54.221532Z",
     "start_time": "2022-06-22T13:53:53.564832Z"
    }
   },
   "outputs": [],
   "source": [
    "dict_features = {'feature_names': feature_names,\n",
    "                 'absolute_coefs': absolute_values, 'effect': effect}\n",
    "log_coefs_absolute = pd.DataFrame(dict_features).sort_values(\n",
    "    'absolute_coefs', ascending=False).head(30)\n",
    "log_coefs_absolute"
   ]
  },
  {
   "cell_type": "markdown",
   "id": "1b6294ec",
   "metadata": {},
   "source": [
    "------"
   ]
  },
  {
   "cell_type": "markdown",
   "id": "f4d53b8c",
   "metadata": {},
   "source": [
    "The presence of a these features will result in an increase or decrease of logit(p) of the value of the coefficients. Where logit(p) is log(p/1-p). and p is the probability of Y being class 1. \n",
    "\n",
    "Y can take two values, either 0 or 1. P{Y=1} is called the probability of success. Hence logit(p) = log(P{Y=1}/P{Y=0}). This is called the log-odds ratio.\n",
    "\n",
    "Hence a 1 unit increase in X₁ (or in this case, the presence of the feature) will result in b increase in the log-odds ratio of success : failure.\n",
    "\n",
    "The log-odds ratio is simply the logarithm of the odds ratio. The reason logarithm is introduced is simply because the logarithmic function will yield a lovely normal distribution while shrinking extremely large values of P{Y=1}/P{Y=0}. Also, the logarithmic function is monotonically increasing, so it won’t ruin the order of the original sequence of numbers.\n",
    "\n",
    "Lets take the case of having python in the title: It will result in a 1.036517 increase in logit(p) or log(p/1-p). Now, if log(p/1–p) increases by 1.036517, that means that p/(1 — p) will increase by exp(1.036517) = 2.81.\n",
    "\n",
    "This is a 181% increase in the odds of belonging to class 1, i.e having an amount of claps higher than 95 (assuming that the variable female remains fixed).\n"
   ]
  },
  {
   "cell_type": "code",
   "execution_count": null,
   "id": "efe4808d",
   "metadata": {
    "ExecuteTime": {
     "end_time": "2022-06-22T13:53:54.365318Z",
     "start_time": "2022-06-22T13:53:54.222324Z"
    }
   },
   "outputs": [],
   "source": [
    "fig = px.bar(log_coefs_absolute, x='absolute_coefs',\n",
    "             y='feature_names', color='effect', title='Absolute coefficients', width=700, height=800)\n",
    "\n",
    "fig.show()"
   ]
  },
  {
   "cell_type": "markdown",
   "id": "5e53eae5",
   "metadata": {},
   "source": [
    "-----"
   ]
  },
  {
   "cell_type": "markdown",
   "id": "06c5bcc6",
   "metadata": {},
   "source": [
    "#### Coefficients for each category i.e Text, Title and other features"
   ]
  },
  {
   "cell_type": "code",
   "execution_count": null,
   "id": "3d26edb1",
   "metadata": {
    "ExecuteTime": {
     "end_time": "2022-06-22T18:02:55.350781Z",
     "start_time": "2022-06-22T18:02:53.627697Z"
    }
   },
   "outputs": [],
   "source": [
    "print(len(cvec.get_feature_names()))\n",
    "print(len(title_feature_names))\n",
    "print(len(train_to_sparse.columns))\n",
    "print(len(feature_names))"
   ]
  },
  {
   "cell_type": "code",
   "execution_count": null,
   "id": "d3df0cd4",
   "metadata": {
    "ExecuteTime": {
     "end_time": "2022-06-22T19:52:10.157501Z",
     "start_time": "2022-06-22T19:52:10.154214Z"
    }
   },
   "outputs": [],
   "source": [
    "n_effect = calc_effect(log_coef[-19:])"
   ]
  },
  {
   "cell_type": "code",
   "execution_count": null,
   "id": "4a7174e7",
   "metadata": {
    "ExecuteTime": {
     "end_time": "2022-06-22T19:52:52.680742Z",
     "start_time": "2022-06-22T19:52:52.676154Z"
    },
    "scrolled": true
   },
   "outputs": [],
   "source": [
    "n_features_dict = {'Feature names': train_to_sparse.columns,\n",
    "                   'Absolute coefficients': np.absolute(log_coef[-19:]), 'Effect': n_effect}\n",
    "feautres_coef_df = pd.DataFrame(n_features_dict).sort_values(\n",
    "    by='Absolute coefficients', ascending=False)"
   ]
  },
  {
   "cell_type": "code",
   "execution_count": null,
   "id": "7cc813f8",
   "metadata": {
    "ExecuteTime": {
     "end_time": "2022-06-22T19:55:28.277435Z",
     "start_time": "2022-06-22T19:55:28.201139Z"
    }
   },
   "outputs": [],
   "source": [
    "fig = px.bar(feautres_coef_df, y='Absolute coefficients',\n",
    "             x='Feature names', color='Effect', title='Absolute coefficients', width=900, height=600)\n",
    "\n",
    "fig.show()"
   ]
  },
  {
   "cell_type": "markdown",
   "id": "98b3afb6",
   "metadata": {},
   "source": [
    "------"
   ]
  },
  {
   "cell_type": "markdown",
   "id": "6f1c6088",
   "metadata": {},
   "source": [
    "Title"
   ]
  },
  {
   "cell_type": "code",
   "execution_count": null,
   "id": "148b589d",
   "metadata": {
    "ExecuteTime": {
     "end_time": "2022-06-22T20:00:31.959057Z",
     "start_time": "2022-06-22T20:00:31.910949Z"
    }
   },
   "outputs": [],
   "source": [
    "n_effect = calc_effect(log_coef[1000000:1154499])"
   ]
  },
  {
   "cell_type": "code",
   "execution_count": null,
   "id": "98dc2ce4",
   "metadata": {
    "ExecuteTime": {
     "end_time": "2022-06-22T20:01:54.993531Z",
     "start_time": "2022-06-22T20:01:54.954483Z"
    },
    "scrolled": true
   },
   "outputs": [],
   "source": [
    "n_features_dict = {'Feature names': title_feature_names,\n",
    "                   'Absolute coefficients': np.absolute(log_coef[1000000:1154499]), 'Effect': n_effect}\n",
    "feautres_coef_df = pd.DataFrame(n_features_dict).sort_values(\n",
    "    by='Absolute coefficients', ascending=False).iloc[:15,:]\n",
    "feautres_coef_df"
   ]
  },
  {
   "cell_type": "code",
   "execution_count": null,
   "id": "93f7cbb8",
   "metadata": {
    "ExecuteTime": {
     "end_time": "2022-06-22T20:02:04.417363Z",
     "start_time": "2022-06-22T20:02:04.371770Z"
    }
   },
   "outputs": [],
   "source": [
    "fig = px.bar(feautres_coef_df, y='Absolute coefficients',\n",
    "             x='Feature names', color='Effect', title='Absolute coefficients', width=900, height=600)\n",
    "\n",
    "fig.show()"
   ]
  },
  {
   "cell_type": "markdown",
   "id": "f8d55220",
   "metadata": {},
   "source": [
    "Text"
   ]
  },
  {
   "cell_type": "code",
   "execution_count": null,
   "id": "8ef6e5b6",
   "metadata": {
    "ExecuteTime": {
     "end_time": "2022-06-22T20:04:45.415153Z",
     "start_time": "2022-06-22T20:04:45.109339Z"
    }
   },
   "outputs": [],
   "source": [
    "n_effect = calc_effect(log_coef[:1000000])"
   ]
  },
  {
   "cell_type": "code",
   "execution_count": null,
   "id": "ff2a6047",
   "metadata": {
    "ExecuteTime": {
     "end_time": "2022-06-22T20:05:22.320043Z",
     "start_time": "2022-06-22T20:05:20.016756Z"
    },
    "scrolled": true
   },
   "outputs": [],
   "source": [
    "n_features_dict = {'Feature names': cvec.get_feature_names(),\n",
    "                   'Absolute coefficients': np.absolute(log_coef[:1000000]), 'Effect': n_effect}\n",
    "feautres_coef_df = pd.DataFrame(n_features_dict).sort_values(\n",
    "    by='Absolute coefficients', ascending=False).iloc[:15,:]\n",
    "feautres_coef_df"
   ]
  },
  {
   "cell_type": "code",
   "execution_count": null,
   "id": "19b86a5e",
   "metadata": {
    "ExecuteTime": {
     "end_time": "2022-06-22T20:05:37.017117Z",
     "start_time": "2022-06-22T20:05:36.933444Z"
    }
   },
   "outputs": [],
   "source": [
    "fig = px.bar(feautres_coef_df, y='Absolute coefficients',\n",
    "             x='Feature names', color='Effect', title='Absolute coefficients', width=900, height=600)\n",
    "\n",
    "fig.show()"
   ]
  },
  {
   "cell_type": "markdown",
   "id": "7cfd970f",
   "metadata": {},
   "source": [
    "--------"
   ]
  },
  {
   "cell_type": "markdown",
   "id": "1e13e7d0",
   "metadata": {},
   "source": [
    "### Logistic Regression - Grid Search"
   ]
  },
  {
   "cell_type": "markdown",
   "id": "c768042e",
   "metadata": {},
   "source": [
    "'saga' solver works faster for large datasets and also can be used in conjunction with l1 and l2 penalties"
   ]
  },
  {
   "cell_type": "code",
   "execution_count": null,
   "id": "f6323690",
   "metadata": {
    "ExecuteTime": {
     "end_time": "2022-06-19T07:25:51.683636Z",
     "start_time": "2022-06-18T14:27:41.497982Z"
    },
    "scrolled": true
   },
   "outputs": [],
   "source": [
    "grid={\"C\":np.logspace(-3,3,7), \"penalty\":[\"l1\",\"l2\"], 'solver':['saga']}\n",
    "\n",
    "logreg = LogisticRegression()\n",
    "logreg_cv = GridSearchCV(logreg, grid, cv=5, n_jobs=-1, verbose=2)\n",
    "logreg_cv.fit(X_train, y_train)\n",
    "\n",
    "print(\"Best parameters \",logreg_cv.best_params_)\n",
    "print(\"Accuracy :\",logreg_cv.best_score_)"
   ]
  },
  {
   "cell_type": "code",
   "execution_count": null,
   "id": "d0ac5d65",
   "metadata": {},
   "outputs": [],
   "source": []
  },
  {
   "cell_type": "markdown",
   "id": "2ba556a8",
   "metadata": {},
   "source": [
    "-------"
   ]
  },
  {
   "cell_type": "markdown",
   "id": "c2caf375",
   "metadata": {},
   "source": [
    "### Linear SVC"
   ]
  },
  {
   "cell_type": "code",
   "execution_count": null,
   "id": "5a9459ef",
   "metadata": {
    "ExecuteTime": {
     "end_time": "2022-06-18T06:47:20.473385Z",
     "start_time": "2022-06-18T06:42:35.821952Z"
    }
   },
   "outputs": [],
   "source": [
    "lsvc = LinearSVC(verbose=2, max_iter=3000, random_state=42)\n",
    "\n",
    "lsvc.fit(X_train, y_train)\n",
    "\n",
    "print(lsvc.score(X_train,y_train))\n",
    "print(lsvc.score(X_test, y_test))"
   ]
  },
  {
   "cell_type": "markdown",
   "id": "3436c34c",
   "metadata": {},
   "source": [
    "### Linear SVC - Randomized Search"
   ]
  },
  {
   "cell_type": "code",
   "execution_count": null,
   "id": "67977972",
   "metadata": {
    "ExecuteTime": {
     "end_time": "2022-06-18T08:52:00.757436Z",
     "start_time": "2022-06-18T06:49:23.808247Z"
    },
    "scrolled": true
   },
   "outputs": [],
   "source": [
    "params = {\n",
    "    'C': np.linspace(0.001, 20, 5)\n",
    "}\n",
    "\n",
    "lsvc = LinearSVC(max_iter=3000, random_state=42)\n",
    "svc_grid = RandomizedSearchCV(lsvc, params, n_iter=5, n_jobs=-1, verbose=2)\n",
    "svc_grid.fit(X_train, y_train)\n",
    "\n",
    "print(svc_grid.best_score_)"
   ]
  },
  {
   "cell_type": "markdown",
   "id": "adf4469f",
   "metadata": {},
   "source": [
    "-------"
   ]
  },
  {
   "cell_type": "markdown",
   "id": "f2efcf36",
   "metadata": {},
   "source": [
    "### XGBoost - Simple"
   ]
  },
  {
   "cell_type": "markdown",
   "id": "0d1fd1bb",
   "metadata": {},
   "source": [
    "#### Using weight"
   ]
  },
  {
   "cell_type": "code",
   "execution_count": null,
   "id": "1f7ff187",
   "metadata": {
    "ExecuteTime": {
     "end_time": "2022-06-22T15:38:39.383962Z",
     "start_time": "2022-06-22T15:37:51.932810Z"
    }
   },
   "outputs": [],
   "source": [
    "xgb_model = XGBClassifier(use_label_encoder=False, eval_metric='mlogloss', n_jobs=-1, importance_type='weight')\n",
    "xgb_model.fit(X_train, y_train)"
   ]
  },
  {
   "cell_type": "code",
   "execution_count": null,
   "id": "8c88fdae",
   "metadata": {
    "ExecuteTime": {
     "end_time": "2022-06-22T15:38:49.458849Z",
     "start_time": "2022-06-22T15:38:48.626234Z"
    }
   },
   "outputs": [],
   "source": [
    "print(xgb_model.score(X_train,y_train))\n",
    "print(xgb_model.score(X_test, y_test))\n"
   ]
  },
  {
   "cell_type": "code",
   "execution_count": null,
   "id": "64df4d48",
   "metadata": {
    "ExecuteTime": {
     "end_time": "2022-06-22T15:38:59.523187Z",
     "start_time": "2022-06-22T15:38:58.416964Z"
    }
   },
   "outputs": [],
   "source": [
    "dict_features = {'feature_names': feature_names, 'feature_importance': xgb_model.feature_importances_}\n",
    "pd.DataFrame(dict_features).sort_values('feature_importance', ascending=False).head(30)\n"
   ]
  },
  {
   "cell_type": "markdown",
   "id": "e80d7e0b",
   "metadata": {},
   "source": [
    "#### Normal"
   ]
  },
  {
   "cell_type": "code",
   "execution_count": null,
   "id": "e93d9904",
   "metadata": {
    "ExecuteTime": {
     "end_time": "2022-06-22T15:39:51.328708Z",
     "start_time": "2022-06-22T15:39:07.682577Z"
    }
   },
   "outputs": [],
   "source": [
    "xgb_model = XGBClassifier(use_label_encoder=False, eval_metric='error', n_jobs=-1)\n",
    "xgb_model.fit(X_train, y_train)\n"
   ]
  },
  {
   "cell_type": "code",
   "execution_count": null,
   "id": "b2adeccf",
   "metadata": {
    "ExecuteTime": {
     "end_time": "2022-06-22T15:43:02.667744Z",
     "start_time": "2022-06-22T15:39:59.600722Z"
    }
   },
   "outputs": [],
   "source": [
    "cv_xgb = cross_val_score(xgb_model, X_train, y_train)\n",
    "\n",
    "print(cv_xgb)\n",
    "print(cv_xgb.mean())\n",
    "print(xgb_model.score(X_train,y_train))\n",
    "print(xgb_model.score(X_test, y_test))"
   ]
  },
  {
   "cell_type": "code",
   "execution_count": null,
   "id": "97b0f443",
   "metadata": {
    "ExecuteTime": {
     "end_time": "2022-06-22T15:43:11.600144Z",
     "start_time": "2022-06-22T15:43:10.904692Z"
    }
   },
   "outputs": [],
   "source": [
    "dict_features = {'feature_names': feature_names, 'feature_importance': xgb_model.feature_importances_}\n",
    "pd.DataFrame(dict_features).sort_values('feature_importance', ascending=False).head(30)\n"
   ]
  },
  {
   "cell_type": "code",
   "execution_count": null,
   "id": "d8e166c7",
   "metadata": {
    "ExecuteTime": {
     "end_time": "2022-06-22T15:43:20.177451Z",
     "start_time": "2022-06-22T15:43:19.758389Z"
    }
   },
   "outputs": [],
   "source": [
    "from sklearn.metrics import plot_confusion_matrix, plot_roc_curve, classification_report"
   ]
  },
  {
   "cell_type": "code",
   "execution_count": null,
   "id": "08cdba3f-17ee-4842-8164-d9bab0718845",
   "metadata": {},
   "outputs": [],
   "source": [
    "plot_confusion_matrix(xgb_model,X_test, y_test, cmap='Blues', labels=[1, 0], values_format='.0f')\n",
    "plt.show()\n"
   ]
  },
  {
   "cell_type": "code",
   "execution_count": null,
   "id": "738a83f5",
   "metadata": {
    "ExecuteTime": {
     "end_time": "2022-06-22T15:43:28.603644Z",
     "start_time": "2022-06-22T15:43:28.243323Z"
    }
   },
   "outputs": [],
   "source": [
    "y_pred = xgb_model.predict(X_test)\n",
    "accuracy = accuracy_score(y_test, y_pred)\n",
    "print(accuracy)\n",
    "print(classification_report(y_test, y_pred, digits=4))\n"
   ]
  },
  {
   "cell_type": "code",
   "execution_count": null,
   "id": "4ead9b17",
   "metadata": {
    "ExecuteTime": {
     "end_time": "2022-06-22T15:43:36.701454Z",
     "start_time": "2022-06-22T15:43:36.691395Z"
    }
   },
   "outputs": [],
   "source": [
    "print(roc_auc_score(y_test, y_pred))\n",
    "print(f1_score(y_test, y_pred))"
   ]
  },
  {
   "cell_type": "code",
   "execution_count": null,
   "id": "47d4b41a",
   "metadata": {
    "ExecuteTime": {
     "end_time": "2022-06-22T15:43:45.144451Z",
     "start_time": "2022-06-22T15:43:44.743444Z"
    }
   },
   "outputs": [],
   "source": [
    "plot_roc_curve(xgb_model, X_test, y_test);\n",
    "plt.title('Reciever Operator Curve')\n",
    "plt.show()"
   ]
  },
  {
   "cell_type": "markdown",
   "id": "13d9bc12",
   "metadata": {},
   "source": [
    "The ROC curve measures plots the true positive rate (TPR) versus the false positive rate, as the threshold for predicting 1 changes.\n",
    "\n",
    "- We measure the area under the curve. Whichs is 0.76\n",
    "- If the TPR is always 1, the area under the curve is 1 (it cannot be larger). This is equivalent to perfect prediction.\n",
    "- When the area under the curve is 0.50, this is equivalent to the baseline (chance) prediction (marked by the diagonal line)."
   ]
  },
  {
   "cell_type": "code",
   "execution_count": null,
   "id": "99e32f67",
   "metadata": {
    "ExecuteTime": {
     "end_time": "2022-06-22T15:43:53.595374Z",
     "start_time": "2022-06-22T15:43:53.187487Z"
    }
   },
   "outputs": [],
   "source": [
    "plot_precision_recall_curve(xgb_model, X_test, y_test);\n",
    "plt.title('Precision Recall Curve')\n",
    "plt.show()"
   ]
  },
  {
   "cell_type": "markdown",
   "id": "f3c545b6",
   "metadata": {},
   "source": [
    "---------"
   ]
  },
  {
   "cell_type": "markdown",
   "id": "031ada71",
   "metadata": {},
   "source": [
    "### XGBoost - RandomCV"
   ]
  },
  {
   "cell_type": "markdown",
   "id": "ac7464d8",
   "metadata": {},
   "source": [
    "- Min Child Weight - Minimum sum of instance weight (hessian) needed in a child. If the tree partition step results in a leaf node with the sum of instance weight less than min_child_weight, then the building process will give up further partitioning. The larger min_child_weight is, the more conservative the algorithm will be.\n",
    "- Gamma - Minimum loss reduction required to make a further partition on a leaf node of the tree. The larger gamma is, the more conservative the algorithm will be.\n",
    "- Subsample - ratio of the training instances. Setting it to 0.5 means that XGBoost would randomly sample half of the training data prior to growing trees. and this will prevent overfitting. Subsampling will occur once in every boosting iteration.\n",
    "- colsample_bytree - is the subsample ratio of columns when constructing each tree.\n",
    "- Maximum depth of a tree. Increasing this value will make the model more complex and more likely to overfit. \n",
    "- learning rate - Step size shrinkage used in update to prevents overfitting. After each boosting step, we can directly get the weights of new features, and eta shrinks the feature weights to make the boosting process more conservative."
   ]
  },
  {
   "cell_type": "code",
   "execution_count": null,
   "id": "d113afd5",
   "metadata": {
    "ExecuteTime": {
     "end_time": "2022-06-22T15:20:36.712786Z",
     "start_time": "2022-06-22T15:20:36.689730Z"
    }
   },
   "outputs": [],
   "source": [
    "# A parameter grid for XGBoost\n",
    "# A parameter grid for XGBoost\n",
    "params = {\n",
    "        'min_child_weight': [1, 5, 10],\n",
    "        'gamma': [0.5, 1, 1.5, 2, 5],\n",
    "        'subsample': [0.6, 0.8, 1.0],\n",
    "        'colsample_bytree': [0.6, 0.8, 1.0],\n",
    "        'max_depth': [5, 7, 9, 11],\n",
    "        'n_estimators': [500, 600, 700],\n",
    "        'learning_rate':[0.01, 0.05, 0.1]\n",
    "        }"
   ]
  },
  {
   "cell_type": "code",
   "execution_count": null,
   "id": "1f02500e",
   "metadata": {
    "ExecuteTime": {
     "end_time": "2022-06-22T15:20:47.952670Z",
     "start_time": "2022-06-22T15:20:47.949171Z"
    }
   },
   "outputs": [],
   "source": [
    "xgb = XGBClassifier( objective='binary:logistic', nthread=1)"
   ]
  },
  {
   "cell_type": "code",
   "execution_count": null,
   "id": "0c79d855",
   "metadata": {
    "ExecuteTime": {
     "end_time": "2022-06-22T15:36:08.559618Z",
     "start_time": "2022-06-22T15:20:57.443417Z"
    },
    "tags": []
   },
   "outputs": [],
   "source": [
    "folds = 5\n",
    "param_comb = 15\n",
    "\n",
    "random_search = RandomizedSearchCV(xgb, param_distributions=params, n_iter=param_comb,\n",
    "                                   n_jobs=5, cv=folds, verbose=3, random_state=1001 )\n",
    "\n",
    "random_search.fit(X_train, y_train)\n"
   ]
  },
  {
   "cell_type": "markdown",
   "id": "bad57a99",
   "metadata": {},
   "source": [
    "------"
   ]
  },
  {
   "cell_type": "code",
   "execution_count": null,
   "id": "2b34cda1",
   "metadata": {
    "ExecuteTime": {
     "end_time": "2022-06-22T15:36:08.594957Z",
     "start_time": "2022-06-22T15:36:08.594950Z"
    }
   },
   "outputs": [],
   "source": [
    "random_search.best_score_"
   ]
  },
  {
   "cell_type": "code",
   "execution_count": null,
   "id": "3899dbca",
   "metadata": {
    "ExecuteTime": {
     "end_time": "2022-06-22T15:36:08.614231Z",
     "start_time": "2022-06-22T15:36:08.614223Z"
    }
   },
   "outputs": [],
   "source": [
    "y_pred = random_search.predict(X_test)\n",
    "\n",
    "print(classification_report(y_test, y_pred))"
   ]
  },
  {
   "cell_type": "code",
   "execution_count": null,
   "id": "6b8f74f3",
   "metadata": {
    "ExecuteTime": {
     "end_time": "2022-06-17T19:37:09.825076Z",
     "start_time": "2022-06-17T19:37:09.813580Z"
    }
   },
   "outputs": [],
   "source": [
    "print(roc_auc_score(y_test, y_pred))\n",
    "print(f1_score(y_test, y_pred))\n"
   ]
  },
  {
   "cell_type": "code",
   "execution_count": null,
   "id": "1358b750",
   "metadata": {
    "ExecuteTime": {
     "end_time": "2022-06-21T13:07:27.166032Z",
     "start_time": "2022-06-21T13:07:26.284122Z"
    }
   },
   "outputs": [],
   "source": [
    "plot_roc_curve(best_xgb, X_test, y_test);\n",
    "plt.title('Reciever Operator Curve')\n",
    "plt.show()"
   ]
  },
  {
   "cell_type": "code",
   "execution_count": null,
   "id": "d66da984",
   "metadata": {
    "ExecuteTime": {
     "end_time": "2022-06-17T19:37:33.748685Z",
     "start_time": "2022-06-17T19:37:31.298360Z"
    }
   },
   "outputs": [],
   "source": [
    "plot_confusion_matrix(best_xgb, X_test, y_test, cmap='Blues', labels=[1, 0], values_format='.0f')\n",
    "plt.show()"
   ]
  },
  {
   "cell_type": "markdown",
   "id": "f1fd191b",
   "metadata": {
    "tags": []
   },
   "source": [
    "#### Feature Importance"
   ]
  },
  {
   "cell_type": "code",
   "execution_count": null,
   "id": "47a4c1ca",
   "metadata": {
    "ExecuteTime": {
     "end_time": "2022-06-17T19:37:43.280686Z",
     "start_time": "2022-06-17T19:37:43.277499Z"
    }
   },
   "outputs": [],
   "source": [
    "random_search.best_estimator_\n"
   ]
  },
  {
   "cell_type": "code",
   "execution_count": null,
   "id": "ac6564ba",
   "metadata": {
    "ExecuteTime": {
     "end_time": "2022-06-17T19:37:53.376119Z",
     "start_time": "2022-06-17T19:37:52.824600Z"
    }
   },
   "outputs": [],
   "source": [
    "feature_importance = best_xgb.feature_importances_\n"
   ]
  },
  {
   "cell_type": "code",
   "execution_count": null,
   "id": "1caa7a08",
   "metadata": {
    "ExecuteTime": {
     "end_time": "2022-06-17T19:38:02.985946Z",
     "start_time": "2022-06-17T19:38:02.984201Z"
    }
   },
   "outputs": [],
   "source": [
    "dict_features = {'feature_names': feature_names, 'feature_importance': feature_importance}\n"
   ]
  },
  {
   "cell_type": "code",
   "execution_count": null,
   "id": "89a39ea4",
   "metadata": {
    "ExecuteTime": {
     "end_time": "2022-06-21T14:43:57.605683Z",
     "start_time": "2022-06-21T14:43:56.987901Z"
    },
    "tags": []
   },
   "outputs": [],
   "source": [
    "xgb_importance = pd.DataFrame(dict_features).sort_values('feature_importance', ascending=False).head(30)\n",
    "xgb_importance"
   ]
  },
  {
   "cell_type": "code",
   "execution_count": null,
   "id": "1663875d",
   "metadata": {
    "ExecuteTime": {
     "end_time": "2022-06-22T15:36:08.687140Z",
     "start_time": "2022-06-22T15:36:08.687126Z"
    },
    "scrolled": true
   },
   "outputs": [],
   "source": [
    "fig = px.bar(xgb_importance, y='feature_names',\n",
    "             x='feature_importance', title='Feature Importance', width=700, height=800)\n",
    "\n",
    "fig.show()"
   ]
  },
  {
   "cell_type": "markdown",
   "id": "4739a43b",
   "metadata": {},
   "source": [
    "--------"
   ]
  },
  {
   "cell_type": "code",
   "execution_count": null,
   "id": "97d47098",
   "metadata": {
    "ExecuteTime": {
     "end_time": "2022-06-17T19:36:07.792993Z",
     "start_time": "2022-06-17T19:36:07.790012Z"
    }
   },
   "outputs": [],
   "source": [
    "random_search.best_score_"
   ]
  },
  {
   "cell_type": "code",
   "execution_count": null,
   "id": "53a208a7",
   "metadata": {
    "ExecuteTime": {
     "end_time": "2022-06-17T19:36:17.256577Z",
     "start_time": "2022-06-17T19:36:17.253816Z"
    }
   },
   "outputs": [],
   "source": [
    "random_search.best_params_"
   ]
  },
  {
   "cell_type": "code",
   "execution_count": null,
   "id": "c14f834e",
   "metadata": {
    "ExecuteTime": {
     "end_time": "2022-06-21T06:52:56.822999Z",
     "start_time": "2022-06-21T06:52:56.789154Z"
    },
    "scrolled": true
   },
   "outputs": [],
   "source": [
    "pd.DataFrame(random_search.cv_results_)"
   ]
  },
  {
   "cell_type": "code",
   "execution_count": null,
   "id": "2ef0bf23",
   "metadata": {
    "ExecuteTime": {
     "end_time": "2022-06-17T19:36:38.891582Z",
     "start_time": "2022-06-17T19:36:36.348969Z"
    }
   },
   "outputs": [],
   "source": [
    "random_search.predict_proba(X_test)"
   ]
  },
  {
   "cell_type": "code",
   "execution_count": null,
   "id": "e2566cb3",
   "metadata": {
    "ExecuteTime": {
     "end_time": "2022-06-17T19:36:50.804088Z",
     "start_time": "2022-06-17T19:36:48.436348Z"
    }
   },
   "outputs": [],
   "source": [
    "y_pred = random_search.predict(X_test)\n",
    "\n",
    "print(classification_report(y_test, y_pred))"
   ]
  },
  {
   "cell_type": "code",
   "execution_count": null,
   "id": "2ddebde4",
   "metadata": {
    "ExecuteTime": {
     "end_time": "2022-06-17T19:37:00.309150Z",
     "start_time": "2022-06-17T19:37:00.307164Z"
    }
   },
   "outputs": [],
   "source": [
    "best_xgb = random_search.best_estimator_\n"
   ]
  },
  {
   "cell_type": "code",
   "execution_count": null,
   "id": "72cbf4b7",
   "metadata": {
    "ExecuteTime": {
     "end_time": "2022-06-17T19:37:09.825076Z",
     "start_time": "2022-06-17T19:37:09.813580Z"
    }
   },
   "outputs": [],
   "source": [
    "print(roc_auc_score(y_test, y_pred))\n",
    "print(f1_score(y_test, y_pred))\n"
   ]
  },
  {
   "cell_type": "code",
   "execution_count": null,
   "id": "bc72d565",
   "metadata": {
    "ExecuteTime": {
     "end_time": "2022-06-21T13:07:27.166032Z",
     "start_time": "2022-06-21T13:07:26.284122Z"
    }
   },
   "outputs": [],
   "source": [
    "plot_roc_curve(best_xgb, X_test, y_test);\n",
    "plt.title('Reciever Operator Curve')\n",
    "plt.show()"
   ]
  },
  {
   "cell_type": "code",
   "execution_count": null,
   "id": "c8bca469",
   "metadata": {
    "ExecuteTime": {
     "end_time": "2022-06-17T19:37:33.748685Z",
     "start_time": "2022-06-17T19:37:31.298360Z"
    }
   },
   "outputs": [],
   "source": [
    "plot_confusion_matrix(best_xgb, X_test, y_test, cmap='Blues', labels=[1, 0], values_format='.0f')\n",
    "plt.show()"
   ]
  },
  {
   "cell_type": "markdown",
   "id": "f1fd191b",
   "metadata": {
    "tags": []
   },
   "source": [
    "#### Feature Importance"
   ]
  },
  {
   "cell_type": "code",
   "execution_count": null,
   "id": "47a4c1ca",
   "metadata": {
    "ExecuteTime": {
     "end_time": "2022-06-17T19:37:43.280686Z",
     "start_time": "2022-06-17T19:37:43.277499Z"
    }
   },
   "outputs": [],
   "source": [
    "random_search.best_estimator_\n"
   ]
  },
  {
   "cell_type": "code",
   "execution_count": null,
   "id": "ac6564ba",
   "metadata": {
    "ExecuteTime": {
     "end_time": "2022-06-17T19:37:53.376119Z",
     "start_time": "2022-06-17T19:37:52.824600Z"
    }
   },
   "outputs": [],
   "source": [
    "feature_importance = best_xgb.feature_importances_\n"
   ]
  },
  {
   "cell_type": "code",
   "execution_count": null,
   "id": "1caa7a08",
   "metadata": {
    "ExecuteTime": {
     "end_time": "2022-06-17T19:38:02.985946Z",
     "start_time": "2022-06-17T19:38:02.984201Z"
    }
   },
   "outputs": [],
   "source": [
    "dict_features = {'feature_names': feature_names, 'feature_importance': feature_importance}\n"
   ]
  },
  {
   "cell_type": "code",
   "execution_count": null,
   "id": "89a39ea4",
   "metadata": {
    "ExecuteTime": {
     "end_time": "2022-06-21T14:43:57.605683Z",
     "start_time": "2022-06-21T14:43:56.987901Z"
    },
    "tags": []
   },
   "outputs": [],
   "source": [
    "xgb_importance = pd.DataFrame(dict_features).sort_values('feature_importance', ascending=False).head(30)\n",
    "xgb_importance"
   ]
  },
  {
   "cell_type": "code",
   "execution_count": null,
   "id": "370a00d2",
   "metadata": {
    "ExecuteTime": {
     "end_time": "2022-06-21T14:46:47.944549Z",
     "start_time": "2022-06-21T14:46:47.892793Z"
    },
    "scrolled": true
   },
   "outputs": [],
   "source": [
    "fig = px.bar(xgb_importance, y='feature_names',\n",
    "             x='feature_importance', title='Feature Importance', width=700, height=800)\n",
    "\n",
    "fig.show()"
   ]
  },
  {
   "cell_type": "markdown",
   "id": "dc20ec45",
   "metadata": {},
   "source": [
    "----"
   ]
  },
  {
   "cell_type": "markdown",
   "id": "994e561c",
   "metadata": {
    "ExecuteTime": {
     "end_time": "2022-06-15T15:48:55.287380Z",
     "start_time": "2022-06-15T15:48:55.250464Z"
    }
   },
   "source": [
    "Generally, importance provides a score that indicates how useful or valuable each feature was in the construction of the boosted decision trees within the model. The more an attribute is used to make key decisions with decision trees, the higher its relative importance."
   ]
  },
  {
   "cell_type": "markdown",
   "id": "1590ddee-8b5d-4279-8ff2-375100eec589",
   "metadata": {},
   "source": [
    "-------"
   ]
  },
  {
   "cell_type": "markdown",
   "id": "05a93801-091e-4483-b7ad-4cadad80f7c4",
   "metadata": {},
   "source": [
    "## Conclusion"
   ]
  },
  {
   "cell_type": "code",
   "execution_count": null,
   "id": "9beb8d7d-1557-46ad-9add-ee73974e554b",
   "metadata": {},
   "outputs": [],
   "source": []
  },
  {
   "cell_type": "markdown",
   "id": "827f097b-0cd6-4ee7-9ec5-40ca01d99272",
   "metadata": {},
   "source": [
    "## Next Steps"
   ]
  },
  {
   "cell_type": "code",
   "execution_count": null,
   "id": "379c40bb-17c0-425c-9947-523734b682cb",
   "metadata": {},
   "outputs": [],
   "source": []
  }
 ],
 "metadata": {
  "kernelspec": {
   "display_name": "Python 3 (ipykernel)",
   "language": "python",
   "name": "python3"
  },
  "language_info": {
   "codemirror_mode": {
    "name": "ipython",
    "version": 3
   },
   "file_extension": ".py",
   "mimetype": "text/x-python",
   "name": "python",
   "nbconvert_exporter": "python",
   "pygments_lexer": "ipython3",
   "version": "3.9.7"
  },
  "toc": {
   "base_numbering": 1,
   "nav_menu": {},
   "number_sections": true,
   "sideBar": true,
   "skip_h1_title": false,
   "title_cell": "Table of Contents",
   "title_sidebar": "Contents",
   "toc_cell": false,
   "toc_position": {
    "height": "calc(100% - 180px)",
    "left": "10px",
    "top": "150px",
    "width": "262.094px"
   },
   "toc_section_display": true,
   "toc_window_display": true
  },
  "toc-autonumbering": false,
  "toc-showmarkdowntxt": true,
  "varInspector": {
   "cols": {
    "lenName": 16,
    "lenType": 16,
    "lenVar": 40
   },
   "kernels_config": {
    "python": {
     "delete_cmd_postfix": "",
     "delete_cmd_prefix": "del ",
     "library": "var_list.py",
     "varRefreshCmd": "print(var_dic_list())"
    },
    "r": {
     "delete_cmd_postfix": ") ",
     "delete_cmd_prefix": "rm(",
     "library": "var_list.r",
     "varRefreshCmd": "cat(var_dic_list()) "
    }
   },
   "types_to_exclude": [
    "module",
    "function",
    "builtin_function_or_method",
    "instance",
    "_Feature"
   ],
   "window_display": false
  }
 },
 "nbformat": 4,
 "nbformat_minor": 5
}
