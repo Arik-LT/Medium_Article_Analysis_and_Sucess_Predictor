{
 "cells": [
  {
   "cell_type": "code",
   "execution_count": 1,
   "id": "5a14673f",
   "metadata": {
    "ExecuteTime": {
     "end_time": "2022-06-16T15:27:02.576936Z",
     "start_time": "2022-06-16T15:26:49.508730Z"
    }
   },
   "outputs": [],
   "source": [
    "import pandas as pd\n",
    "import numpy as np\n",
    "import re\n",
    "\n",
    "from textblob import TextBlob, Word\n",
    "\n",
    "import matplotlib.pyplot as plt\n",
    "import seaborn as sns\n",
    "import plotly.express as px\n",
    "import nltk"
   ]
  },
  {
   "cell_type": "code",
   "execution_count": 32,
   "id": "5e248e30",
   "metadata": {
    "ExecuteTime": {
     "end_time": "2022-06-16T15:54:41.195128Z",
     "start_time": "2022-06-16T15:54:31.889615Z"
    }
   },
   "outputs": [],
   "source": [
    "df = pd.read_csv('raw_full_dataset.csv')"
   ]
  },
  {
   "cell_type": "code",
   "execution_count": 33,
   "id": "cab45d17",
   "metadata": {
    "ExecuteTime": {
     "end_time": "2022-06-16T15:54:41.339327Z",
     "start_time": "2022-06-16T15:54:41.209124Z"
    }
   },
   "outputs": [],
   "source": [
    "df.drop_duplicates(subset=['story_url'], inplace=True)\n",
    "df.drop_duplicates(subset=['title'], inplace=True)\n",
    "df = df[df.story_url != '-']\n",
    "df = df[df.author_followers != '-']\n",
    "\n",
    "df.reset_index(inplace=True, drop=True)"
   ]
  },
  {
   "cell_type": "code",
   "execution_count": 34,
   "id": "d914a3f7",
   "metadata": {
    "ExecuteTime": {
     "end_time": "2022-06-16T15:54:41.349548Z",
     "start_time": "2022-06-16T15:54:41.347920Z"
    }
   },
   "outputs": [],
   "source": [
    "text = df.text.iloc[3000]"
   ]
  },
  {
   "cell_type": "code",
   "execution_count": 37,
   "id": "02c8bd49",
   "metadata": {
    "ExecuteTime": {
     "end_time": "2022-06-16T20:25:42.051242Z",
     "start_time": "2022-06-16T20:25:42.012480Z"
    }
   },
   "outputs": [],
   "source": [
    "import string\n"
   ]
  },
  {
   "cell_type": "code",
   "execution_count": 39,
   "id": "1846fa96",
   "metadata": {
    "ExecuteTime": {
     "end_time": "2022-06-16T20:27:32.870271Z",
     "start_time": "2022-06-16T20:27:32.856101Z"
    }
   },
   "outputs": [
    {
     "data": {
      "text/plain": [
       "'5 way gain realworld data science experience gaining data science experience without data science job seems daunting one biggest question get people trying break data science “how gain data science experience don’t data science job” answer question i’ve put together following top 5 way gain useful realworld data science experience build small project volunteer data scientist join meetup create tutorial contribute open source project i’ll go one detail give specific action take certainly don’t need everything list start applying data science job advice would focus one two thing list don’t try everything build small project first probably favorite method gaining realworld data science experience build small project say “small” it’s complete endtoend project try accomplish many thing won’t accomplish anything you’re better picking one specific skill making small project showcasing github page portfolio here’s example quick project could work 1 collect clean messy dataset collecting cleaning messy dataset great way showcase following realworld skill scope project plan collecting data working different data format csv json xml different data collection method sql apis webscraping thinking different datacleaning task best way create data cleaning project find messy dataset pick tool focus skill here’s source messy datasets 2 explore dataset exploring dataset also know exploratory data analysis eda great way showcase ability following form relevant question investigate question utilize different type plot present finding here’s source performing exploratory analysis 3 make prediction would recommend creating data cleaning exploratory project machine learning project machine learning far popular you’re likely spend time cleaning exploring data realworld data science job said it’s still important understand basic machine learning i’d recommend putting together either logistic regression linear regression model great model they’re much easier interpret something like random forest it’s vital understand basic trying complicate thing here’s couple datasets get started make sure document work write neatly great tool use jupyter notebook allow write execute code also able document work using markdown you’ve written project sure document work github profile well github portfolio page here’s additional resource building data science project volunteer data scientist volunteering time data scientist another great way gain experience another benefit you’re contributing time better good one option getting started data science volunteering datakind either volunteer join project submit project here’s field datakind tackling critical humanitarian issue education poverty health human right environment city datakind ton awesome project get involved here’s sample another great option drivendata company host online competition focused social impact similar kaggle rather focusing business impact effort social good area drivendata hold competition international development health education research conservation pulic service drivendata really interesting competition here’s sample present past competition volunteering data science project social good also great building teamwork skill big part data science able communicate work others data science team volunteer great way develop skill grow join meetup meetups another great way gain realworld experience data science event held person local city range educational presentation teambased coding project meetups great also provide great networking opportunity get access realworld data scientist company different size background find local meetups quick internet search “your city” “data science meetups” quick search new york here’s found meetups range educational informative example “data science new york” meetup’s goal “…to prepare attendee data science well expand set skill practicing data scientists” past meetups include following introduction generalized linear model data science project night linear regression detail data science project night get advice work project don’t project work others project event like great way learn others technical skill like coding machine learning also better communicator team member “scala python spark data science” meetup provides hand coding practice recent meetups include basic python game — sharpen python skill building simple console game introduction natural language processing python intro applied statistic data science meetups really awesome way get hand experience learn others create tutorial teaching skill showcasing blog post another awesome way gain experience you’ll showcase others perform skill you’ve advertised resume also showcase communication skill workplace need able good listener well good teacher here’s idea different type tutorial type project teach useful skill — clean messy dataset knowledge skill — interpret coefficient logistic regression model advanced skill — write algorithm scratch backpropagation work would start tutorial useful skill knowledge skill good useful skill teach something like “how detect missing value r” could find messy dataset walk process detecting messy value sure show code along way explain function you’re using exactly they’re blog post data cleaning r good example type project knowledge skill another great type project especially you’re learning something maybe something like “interpreting coefficient logistic regression model” favorite way learn something fast try teach ever thought understood something try explain someone realize can’t try taking topic writing blog post really explain detail try use lot technical jargon able understand topic explain simple detail truly valuable skill employer want see contribute open source project final way gain data science experience contributing open sourceprojects great way get familiar popular data science library here’s sample open source project data science contributing open source get familiar version control git don’t experience git big deal here’s great resource get started contributing open source project seem intimidating keep mind don’t necessarily need contribute code open source project always looking contribution documentation example freecodecamp always looking contribution programming guide want get started contributing check freecodecamp’s contribution guideline open source project usually sort contribution guideline it’s good read here’s contributing guideline open source project mentioned previously you’re still feeling overwhelmed worry check beginner guide getting started open source project contributing open source increase coding software skill teach work others you’ll constantly communicating people running project well others contributing open source community great way learn others contributing effort really amazing open source project conclusion getting experience data scientist without data science job intimidating best way dive right start applying data science skill article went following 5 way gain useful realworld data science experience build small project volunteer data scientist join meetup create tutorial contribute open source project start focusing one sure document work linkedin profile github portfolio page'"
      ]
     },
     "execution_count": 39,
     "metadata": {},
     "output_type": "execute_result"
    }
   ],
   "source": [
    "text = \" \".join(word.lower() for word in str(text).split())\n",
    "\n",
    "# remove punctuation\n",
    "text = text.translate(str.maketrans('', '', string.punctuation))\n",
    "#text = df['title'].str.replace(r\"\\s\\s+\",' ') # this replaces two or more white spcaes with just one\n",
    "\n",
    "# remove stop words\n",
    "text = \" \".join(word for word in text.split() if word not in stop_words)\n",
    "# lemmatize\n",
    "text = \" \".join(Word(word).lemmatize() for word in text.split())\n",
    "text"
   ]
  },
  {
   "cell_type": "code",
   "execution_count": null,
   "id": "1ca3b8d2",
   "metadata": {},
   "outputs": [],
   "source": []
  },
  {
   "cell_type": "code",
   "execution_count": 5,
   "id": "fc7156f4",
   "metadata": {
    "ExecuteTime": {
     "end_time": "2022-06-14T07:00:29.491528Z",
     "start_time": "2022-06-14T07:00:29.481714Z"
    }
   },
   "outputs": [
    {
     "data": {
      "text/html": [
       "<div>\n",
       "<style scoped>\n",
       "    .dataframe tbody tr th:only-of-type {\n",
       "        vertical-align: middle;\n",
       "    }\n",
       "\n",
       "    .dataframe tbody tr th {\n",
       "        vertical-align: top;\n",
       "    }\n",
       "\n",
       "    .dataframe thead th {\n",
       "        text-align: right;\n",
       "    }\n",
       "</style>\n",
       "<table border=\"1\" class=\"dataframe\">\n",
       "  <thead>\n",
       "    <tr style=\"text-align: right;\">\n",
       "      <th></th>\n",
       "      <th>date</th>\n",
       "      <th>title</th>\n",
       "      <th>subtitle</th>\n",
       "      <th>claps</th>\n",
       "      <th>responses</th>\n",
       "      <th>author_handle</th>\n",
       "      <th>story_url</th>\n",
       "      <th>reading_time</th>\n",
       "      <th>text</th>\n",
       "      <th>author_followers</th>\n",
       "      <th>publication</th>\n",
       "    </tr>\n",
       "  </thead>\n",
       "  <tbody>\n",
       "    <tr>\n",
       "      <th>0</th>\n",
       "      <td>01/01/2020</td>\n",
       "      <td>Making Python Programs Blazingly Fast</td>\n",
       "      <td>Let’s look at the performance of our Python pr...</td>\n",
       "      <td>3.4K</td>\n",
       "      <td>3</td>\n",
       "      <td>https://towardsdatascience.com/@martin.heinz</td>\n",
       "      <td>https://towardsdatascience.com/making-python-p...</td>\n",
       "      <td>5</td>\n",
       "      <td>Making Python Programs Blazingly Fast\\n\\nLet’s...</td>\n",
       "      <td>3.8K</td>\n",
       "      <td>NaN</td>\n",
       "    </tr>\n",
       "    <tr>\n",
       "      <th>1</th>\n",
       "      <td>01/01/2020</td>\n",
       "      <td>Implementing a fully convolutional network (FC...</td>\n",
       "      <td>A tutorial on building, training and…</td>\n",
       "      <td>543</td>\n",
       "      <td>4</td>\n",
       "      <td>https://towardsdatascience.com/@himanshurawlani</td>\n",
       "      <td>https://towardsdatascience.com/implementing-a-...</td>\n",
       "      <td>11</td>\n",
       "      <td>Understanding and implementing a fully convolu...</td>\n",
       "      <td>331</td>\n",
       "      <td>NaN</td>\n",
       "    </tr>\n",
       "    <tr>\n",
       "      <th>2</th>\n",
       "      <td>01/01/2020</td>\n",
       "      <td>6 New Features in Python 3.8 for Python Newbies</td>\n",
       "      <td>Python Beginner</td>\n",
       "      <td>1.8K</td>\n",
       "      <td>4</td>\n",
       "      <td>https://towardsdatascience.com/@edenau</td>\n",
       "      <td>https://towardsdatascience.com/6-new-features-...</td>\n",
       "      <td>4</td>\n",
       "      <td>Python Beginner 6 New Features in Python 3.8 f...</td>\n",
       "      <td>1.7K</td>\n",
       "      <td>NaN</td>\n",
       "    </tr>\n",
       "    <tr>\n",
       "      <th>3</th>\n",
       "      <td>01/01/2020</td>\n",
       "      <td>How to be fancy with Python</td>\n",
       "      <td>Python tricks that will make your life easier</td>\n",
       "      <td>1.7K</td>\n",
       "      <td>12</td>\n",
       "      <td>https://towardsdatascience.com/@dipam44</td>\n",
       "      <td>https://towardsdatascience.com/how-to-be-fancy...</td>\n",
       "      <td>5</td>\n",
       "      <td>How to be fancy with Python\\n\\nPython is cool....</td>\n",
       "      <td>625</td>\n",
       "      <td>NaN</td>\n",
       "    </tr>\n",
       "    <tr>\n",
       "      <th>4</th>\n",
       "      <td>01/01/2020</td>\n",
       "      <td>Perfectly Privacy-Preserving AI</td>\n",
       "      <td>Data Privacy</td>\n",
       "      <td>0</td>\n",
       "      <td>0</td>\n",
       "      <td>https://towardsdatascience.com/@patriciathaine</td>\n",
       "      <td>-</td>\n",
       "      <td>10</td>\n",
       "      <td>-</td>\n",
       "      <td>-</td>\n",
       "      <td>NaN</td>\n",
       "    </tr>\n",
       "  </tbody>\n",
       "</table>\n",
       "</div>"
      ],
      "text/plain": [
       "         date                                              title  \\\n",
       "0  01/01/2020              Making Python Programs Blazingly Fast   \n",
       "1  01/01/2020  Implementing a fully convolutional network (FC...   \n",
       "2  01/01/2020    6 New Features in Python 3.8 for Python Newbies   \n",
       "3  01/01/2020                        How to be fancy with Python   \n",
       "4  01/01/2020                    Perfectly Privacy-Preserving AI   \n",
       "\n",
       "                                            subtitle claps  responses  \\\n",
       "0  Let’s look at the performance of our Python pr...  3.4K          3   \n",
       "1              A tutorial on building, training and…   543          4   \n",
       "2                                    Python Beginner  1.8K          4   \n",
       "3      Python tricks that will make your life easier  1.7K         12   \n",
       "4                                       Data Privacy     0          0   \n",
       "\n",
       "                                     author_handle  \\\n",
       "0     https://towardsdatascience.com/@martin.heinz   \n",
       "1  https://towardsdatascience.com/@himanshurawlani   \n",
       "2           https://towardsdatascience.com/@edenau   \n",
       "3          https://towardsdatascience.com/@dipam44   \n",
       "4   https://towardsdatascience.com/@patriciathaine   \n",
       "\n",
       "                                           story_url  reading_time  \\\n",
       "0  https://towardsdatascience.com/making-python-p...             5   \n",
       "1  https://towardsdatascience.com/implementing-a-...            11   \n",
       "2  https://towardsdatascience.com/6-new-features-...             4   \n",
       "3  https://towardsdatascience.com/how-to-be-fancy...             5   \n",
       "4                                                  -            10   \n",
       "\n",
       "                                                text author_followers  \\\n",
       "0  Making Python Programs Blazingly Fast\\n\\nLet’s...             3.8K   \n",
       "1  Understanding and implementing a fully convolu...              331   \n",
       "2  Python Beginner 6 New Features in Python 3.8 f...             1.7K   \n",
       "3  How to be fancy with Python\\n\\nPython is cool....              625   \n",
       "4                                                  -                -   \n",
       "\n",
       "  publication  \n",
       "0         NaN  \n",
       "1         NaN  \n",
       "2         NaN  \n",
       "3         NaN  \n",
       "4         NaN  "
      ]
     },
     "execution_count": 5,
     "metadata": {},
     "output_type": "execute_result"
    }
   ],
   "source": [
    "df.head()"
   ]
  },
  {
   "cell_type": "code",
   "execution_count": 12,
   "id": "5a63ee61",
   "metadata": {
    "ExecuteTime": {
     "end_time": "2022-06-16T15:29:42.007445Z",
     "start_time": "2022-06-16T15:29:41.998541Z"
    }
   },
   "outputs": [],
   "source": [
    "from nltk.corpus import stopwords\n",
    "stop_words = stopwords.words('english')"
   ]
  },
  {
   "cell_type": "code",
   "execution_count": 10,
   "id": "d05f2a97",
   "metadata": {
    "ExecuteTime": {
     "end_time": "2022-06-14T07:12:34.112833Z",
     "start_time": "2022-06-14T07:04:13.419965Z"
    }
   },
   "outputs": [
    {
     "name": "stderr",
     "output_type": "stream",
     "text": [
      "/var/folders/0g/2n4dpfnj6xg2x7twpn7nk6nh0000gn/T/ipykernel_66657/3869721140.py:6: FutureWarning: The default value of regex will change from True to False in a future version.\n",
      "  df[column_name] = df[column_name].str.replace('[^a-z ]', '')\n",
      "/var/folders/0g/2n4dpfnj6xg2x7twpn7nk6nh0000gn/T/ipykernel_66657/3869721140.py:9: FutureWarning: The default value of regex will change from True to False in a future version.\n",
      "  df[column_name] = df[column_name].str.replace(r\"\\s\\s+\",' ')\n"
     ]
    },
    {
     "data": {
      "text/html": [
       "<div>\n",
       "<style scoped>\n",
       "    .dataframe tbody tr th:only-of-type {\n",
       "        vertical-align: middle;\n",
       "    }\n",
       "\n",
       "    .dataframe tbody tr th {\n",
       "        vertical-align: top;\n",
       "    }\n",
       "\n",
       "    .dataframe thead th {\n",
       "        text-align: right;\n",
       "    }\n",
       "</style>\n",
       "<table border=\"1\" class=\"dataframe\">\n",
       "  <thead>\n",
       "    <tr style=\"text-align: right;\">\n",
       "      <th></th>\n",
       "      <th>date</th>\n",
       "      <th>title</th>\n",
       "      <th>subtitle</th>\n",
       "      <th>claps</th>\n",
       "      <th>responses</th>\n",
       "      <th>author_handle</th>\n",
       "      <th>story_url</th>\n",
       "      <th>reading_time</th>\n",
       "      <th>text</th>\n",
       "      <th>author_followers</th>\n",
       "      <th>publication</th>\n",
       "    </tr>\n",
       "  </thead>\n",
       "  <tbody>\n",
       "    <tr>\n",
       "      <th>0</th>\n",
       "      <td>01/01/2020</td>\n",
       "      <td>Making Python Programs Blazingly Fast</td>\n",
       "      <td>Let’s look at the performance of our Python pr...</td>\n",
       "      <td>3.4K</td>\n",
       "      <td>3</td>\n",
       "      <td>https://towardsdatascience.com/@martin.heinz</td>\n",
       "      <td>https://towardsdatascience.com/making-python-p...</td>\n",
       "      <td>5</td>\n",
       "      <td>making python program blazingly fast let look ...</td>\n",
       "      <td>3.8K</td>\n",
       "      <td>NaN</td>\n",
       "    </tr>\n",
       "    <tr>\n",
       "      <th>1</th>\n",
       "      <td>01/01/2020</td>\n",
       "      <td>Implementing a fully convolutional network (FC...</td>\n",
       "      <td>A tutorial on building, training and…</td>\n",
       "      <td>543</td>\n",
       "      <td>4</td>\n",
       "      <td>https://towardsdatascience.com/@himanshurawlani</td>\n",
       "      <td>https://towardsdatascience.com/implementing-a-...</td>\n",
       "      <td>11</td>\n",
       "      <td>understanding implementing fully convolutional...</td>\n",
       "      <td>331</td>\n",
       "      <td>NaN</td>\n",
       "    </tr>\n",
       "    <tr>\n",
       "      <th>2</th>\n",
       "      <td>01/01/2020</td>\n",
       "      <td>6 New Features in Python 3.8 for Python Newbies</td>\n",
       "      <td>Python Beginner</td>\n",
       "      <td>1.8K</td>\n",
       "      <td>4</td>\n",
       "      <td>https://towardsdatascience.com/@edenau</td>\n",
       "      <td>https://towardsdatascience.com/6-new-features-...</td>\n",
       "      <td>4</td>\n",
       "      <td>python beginner new feature python python newb...</td>\n",
       "      <td>1.7K</td>\n",
       "      <td>NaN</td>\n",
       "    </tr>\n",
       "    <tr>\n",
       "      <th>3</th>\n",
       "      <td>01/01/2020</td>\n",
       "      <td>How to be fancy with Python</td>\n",
       "      <td>Python tricks that will make your life easier</td>\n",
       "      <td>1.7K</td>\n",
       "      <td>12</td>\n",
       "      <td>https://towardsdatascience.com/@dipam44</td>\n",
       "      <td>https://towardsdatascience.com/how-to-be-fancy...</td>\n",
       "      <td>5</td>\n",
       "      <td>fancy python python cool really cool however l...</td>\n",
       "      <td>625</td>\n",
       "      <td>NaN</td>\n",
       "    </tr>\n",
       "    <tr>\n",
       "      <th>4</th>\n",
       "      <td>01/01/2020</td>\n",
       "      <td>Perfectly Privacy-Preserving AI</td>\n",
       "      <td>Data Privacy</td>\n",
       "      <td>0</td>\n",
       "      <td>0</td>\n",
       "      <td>https://towardsdatascience.com/@patriciathaine</td>\n",
       "      <td>-</td>\n",
       "      <td>10</td>\n",
       "      <td></td>\n",
       "      <td>-</td>\n",
       "      <td>NaN</td>\n",
       "    </tr>\n",
       "  </tbody>\n",
       "</table>\n",
       "</div>"
      ],
      "text/plain": [
       "         date                                              title  \\\n",
       "0  01/01/2020              Making Python Programs Blazingly Fast   \n",
       "1  01/01/2020  Implementing a fully convolutional network (FC...   \n",
       "2  01/01/2020    6 New Features in Python 3.8 for Python Newbies   \n",
       "3  01/01/2020                        How to be fancy with Python   \n",
       "4  01/01/2020                    Perfectly Privacy-Preserving AI   \n",
       "\n",
       "                                            subtitle claps  responses  \\\n",
       "0  Let’s look at the performance of our Python pr...  3.4K          3   \n",
       "1              A tutorial on building, training and…   543          4   \n",
       "2                                    Python Beginner  1.8K          4   \n",
       "3      Python tricks that will make your life easier  1.7K         12   \n",
       "4                                       Data Privacy     0          0   \n",
       "\n",
       "                                     author_handle  \\\n",
       "0     https://towardsdatascience.com/@martin.heinz   \n",
       "1  https://towardsdatascience.com/@himanshurawlani   \n",
       "2           https://towardsdatascience.com/@edenau   \n",
       "3          https://towardsdatascience.com/@dipam44   \n",
       "4   https://towardsdatascience.com/@patriciathaine   \n",
       "\n",
       "                                           story_url  reading_time  \\\n",
       "0  https://towardsdatascience.com/making-python-p...             5   \n",
       "1  https://towardsdatascience.com/implementing-a-...            11   \n",
       "2  https://towardsdatascience.com/6-new-features-...             4   \n",
       "3  https://towardsdatascience.com/how-to-be-fancy...             5   \n",
       "4                                                  -            10   \n",
       "\n",
       "                                                text author_followers  \\\n",
       "0  making python program blazingly fast let look ...             3.8K   \n",
       "1  understanding implementing fully convolutional...              331   \n",
       "2  python beginner new feature python python newb...             1.7K   \n",
       "3  fancy python python cool really cool however l...              625   \n",
       "4                                                                   -   \n",
       "\n",
       "  publication  \n",
       "0         NaN  \n",
       "1         NaN  \n",
       "2         NaN  \n",
       "3         NaN  \n",
       "4         NaN  "
      ]
     },
     "execution_count": 10,
     "metadata": {},
     "output_type": "execute_result"
    }
   ],
   "source": [
    "df = clean_text(df, 'text')\n",
    "df.head()"
   ]
  },
  {
   "cell_type": "code",
   "execution_count": null,
   "id": "1d738ad4",
   "metadata": {},
   "outputs": [],
   "source": []
  },
  {
   "cell_type": "code",
   "execution_count": null,
   "id": "baa1f818",
   "metadata": {},
   "outputs": [],
   "source": []
  },
  {
   "cell_type": "code",
   "execution_count": null,
   "id": "f13f0e2b",
   "metadata": {},
   "outputs": [],
   "source": []
  },
  {
   "cell_type": "code",
   "execution_count": null,
   "id": "dbfcfdd9",
   "metadata": {},
   "outputs": [],
   "source": []
  },
  {
   "cell_type": "code",
   "execution_count": null,
   "id": "844b6a7a",
   "metadata": {},
   "outputs": [],
   "source": []
  },
  {
   "cell_type": "code",
   "execution_count": 23,
   "id": "62db60e8",
   "metadata": {
    "ExecuteTime": {
     "end_time": "2022-06-11T18:09:41.643497Z",
     "start_time": "2022-06-11T18:09:41.625166Z"
    }
   },
   "outputs": [],
   "source": [
    "def preprocess(df):\n",
    "    stopwords = nltk.corpus.stopwords.words('english')\n",
    "    df['title_process'] = df['title'].astype(str)\n",
    "    df['title_process'] = df['title_process'].apply(lambda x : x.lower())\n",
    "    df['title_process'] = df['title_process'].apply(lambda x : nltk.word_tokenize(x))\n",
    "    df['title_process'] = df['title_process'].apply(lambda x : [item for item in x if item not in stopwords])\n",
    "    df['title_process'] = df['title_process'].apply(lambda x : \" \".join(x))\n",
    "    df['title_process'] = df['title_process'].str.replace('@[^\\s]+', \"\")\n",
    "    df['title_process'] = df['title_process'].str.replace('https?:\\/\\/.*[\\r\\n]*', '')\n",
    "    df['title_process'] = df['title_process'].str.normalize('NFKD').str.encode('ascii', errors='ignore').str.decode('utf-8')\n",
    "    df['title_process'] = df['title_process'].str.replace('\\d+', '')\n",
    "    df['title_process'] = df['title_process'].str.replace('[^\\w\\s]', '')\n",
    "    return df"
   ]
  },
  {
   "cell_type": "code",
   "execution_count": 24,
   "id": "59ba78b6",
   "metadata": {
    "ExecuteTime": {
     "end_time": "2022-06-11T18:09:49.558709Z",
     "start_time": "2022-06-11T18:09:42.011182Z"
    }
   },
   "outputs": [
    {
     "name": "stderr",
     "output_type": "stream",
     "text": [
      "/var/folders/0g/2n4dpfnj6xg2x7twpn7nk6nh0000gn/T/ipykernel_9052/241149828.py:8: FutureWarning: The default value of regex will change from True to False in a future version.\n",
      "  df['title_process'] = df['title_process'].str.replace('@[^\\s]+', \"\")\n",
      "/var/folders/0g/2n4dpfnj6xg2x7twpn7nk6nh0000gn/T/ipykernel_9052/241149828.py:9: FutureWarning: The default value of regex will change from True to False in a future version.\n",
      "  df['title_process'] = df['title_process'].str.replace('https?:\\/\\/.*[\\r\\n]*', '')\n",
      "/var/folders/0g/2n4dpfnj6xg2x7twpn7nk6nh0000gn/T/ipykernel_9052/241149828.py:11: FutureWarning: The default value of regex will change from True to False in a future version.\n",
      "  df['title_process'] = df['title_process'].str.replace('\\d+', '')\n",
      "/var/folders/0g/2n4dpfnj6xg2x7twpn7nk6nh0000gn/T/ipykernel_9052/241149828.py:12: FutureWarning: The default value of regex will change from True to False in a future version.\n",
      "  df['title_process'] = df['title_process'].str.replace('[^\\w\\s]', '')\n"
     ]
    }
   ],
   "source": [
    "df = preprocess(df)"
   ]
  },
  {
   "cell_type": "code",
   "execution_count": 22,
   "id": "eec7413a",
   "metadata": {
    "ExecuteTime": {
     "end_time": "2022-06-16T15:32:07.981943Z",
     "start_time": "2022-06-16T15:32:07.978602Z"
    }
   },
   "outputs": [
    {
     "data": {
      "text/plain": [
       "'5 Ways To Gain Real-World Data Science Experience\\n\\nGaining data science experience without having a data science job seems daunting.\\n\\nOne of the biggest questions I get from people trying to break in to data science is “how do I gain data science experience if I don’t have a data science job?”.\\n\\nTo answer this question, I’ve put together the following top 5 ways to gain useful, real-world, data science experience:\\n\\nBuild Small Projects\\n\\nVolunteer as a Data Scientist\\n\\nJoin a Meetup\\n\\nCreate Tutorials\\n\\nContribute to Open Source Projects\\n\\nI’ll go through each one of these in detail, and give you specific actions to take.\\n\\nYou certainly don’t need to do everything on this list before you can start applying for data science jobs.\\n\\nMy advice would be to focus on one or two things in this list, don’t try to do everything at once.\\n\\nBuild Small Projects\\n\\nMy first, and probably favorite method, for gaining real-world data science experience is to build small projects.\\n\\nI say “small” because it’s not a complete end-to-end project.\\n\\nIf you try and accomplish too many things at once, you won’t accomplish anything.\\n\\nYou’re better off picking one specific skill, making a small project, and showcasing it on your GitHub Pages portfolio.\\n\\nHere’s some examples of quick projects you could work on.\\n\\n1. Collect and Clean a Messy Dataset\\n\\nCollecting and cleaning messy dataset is a great way to showcase the following real-world skills:\\n\\nHow to scope a project and plan for collecting data\\n\\nWorking with different data formats (CSV, JSON, XML)\\n\\nDifferent data collection methods (SQL, APIs, web-scraping)\\n\\nThinking through different data-cleaning tasks\\n\\nThe best way to create a data cleaning project is to find a messy dataset, pick a tool, and focus in on a skill.\\n\\nHere’s some sources of messy datasets:\\n\\n2. Explore a Dataset\\n\\nExploring a dataset, also know as exploratory data analysis (EDA) is a great way to showcase your ability to do the following:\\n\\nForm relevant questions\\n\\nInvestigate those questions\\n\\nUtilize different types of plots\\n\\nPresent your findings\\n\\nHere’s some sources for performing an exploratory analysis:\\n\\n3. Make Predictions\\n\\nI would recommend creating a data cleaning or exploratory project before a machine learning project.\\n\\nMachine learning is by far more popular, but you’re likely to spend more time cleaning and exploring data in a real-world data science job.\\n\\nThat being said, it’s still important to understand the basics of machine learning. I’d recommend putting together either a logistic regression, or linear regression model.\\n\\nThese are great models because they’re much easier to interpret than something like a random forest. It’s vital to understand the basics before trying to over complicate things.\\n\\nHere’s a couple of datasets to get you started:\\n\\nMake sure to document all of your work, and write it up neatly.\\n\\nA great tool to use is Jupyter Notebooks. This will allow you to write and execute your code, while also being able to document your work using Markdown.\\n\\nOnce you’ve written up your project, be sure to document your work on your github profile as well as your github portfolio page.\\n\\nHere’s some additional resources for building data science projects.\\n\\nVolunteer as a Data Scientist\\n\\nVolunteering your time as a data scientist is another great way to gain some experience.\\n\\nAnother benefit is that you’re contributing your time for the better good.\\n\\nOne option for getting started with Data Science volunteering is with DataKind.\\n\\nYou can either volunteer to join a project, or you can submit your own project.\\n\\nHere’s some of the fields in which DataKind is tackling critical humanitarian issues:\\n\\nEducation\\n\\nPoverty\\n\\nHealth\\n\\nHuman rights\\n\\nEnvironment\\n\\nCities\\n\\nDataKind has a ton of awesome projects to get involved with. Here’s a sample of just a few:\\n\\nAnother great option is DrivenData.\\n\\nThis company hosts online competitions focused on social impact.\\n\\nIts similar to Kaggle, but rather than focusing on business impacts, the efforts are for social good.\\n\\nSome of the areas that DrivenData holds competitions in are:\\n\\nInternational development\\n\\nHealth\\n\\nEducation\\n\\nResearch and conservation\\n\\nPulic service\\n\\nDrivenData has some really interesting competitions. Here’s a sample of some present and past competitions:\\n\\nVolunteering on data science projects for social good is also great for building your teamwork skills.\\n\\nA big part of data science is being able to communicate and work with others. Being on data science team as a volunteer is a great way to develop those skills and grow.\\n\\nJoin a Meetup\\n\\nMeetups are another great way to gain some real-world experience in data science.\\n\\nThese are events that are held in person in your local city.\\n\\nThey can range from educational presentations to team-based coding projects.\\n\\nMeetups are great because they also provide great networking opportunities.\\n\\nYou can get access to real-world data scientists from companies of all different sizes and backgrounds.\\n\\nTo find your local meetups just do a quick internet search on “your city” + “data science meetups”.\\n\\nI did a quick search on New York, and here’s what I found:\\n\\nThese meetups range from educational to informative.\\n\\nFor example, the “Data Science for All: New York” meetup’s goal is “…to prepare attendees for doing data science as well as expand the set of skills of practicing data scientists.”\\n\\nSome of their past meetups include the following:\\n\\nAn introduction to Generalized Linear Models\\n\\nData Science Project Night\\n\\nLinear Regression in Detail\\n\\nAt the Data Science Project Night you can get advice on and work on projects. If you don’t have a project, you can work with others on their projects.\\n\\nEvents like this are a great way to learn from others. Both about technical skills like coding and machine learning, but also how to be a better communicator and team member.\\n\\nThe “Scala + Python + Spark + Data Science” meetup provides hands on coding practice. Some of their recent meetups include:\\n\\nBasic Python Games — Sharpen Your Python Skills By Building Simple Console Games\\n\\nIntroduction to Natural Language Processing in Python\\n\\nIntro to Applied Statistics for Data Science\\n\\nMeetups are really an awesome way to get some hands on experience, and learn from others.\\n\\nCreate Tutorials\\n\\nTeaching a skill and showcasing it in a blog post is another awesome way to gain experience.\\n\\nYou’ll showcase to others that you can perform the skills that you’ve advertised on your resume.\\n\\nIt also showcases your communication skills. In the workplace you need to be able to be a good listener as well as a good teacher.\\n\\nHere’s a few ideas for different types of tutorial type projects:\\n\\nTeach a useful skill — how to clean a messy dataset\\n\\nKnowledge skill — how to interpret the coefficients of a logistic regression model\\n\\nAdvanced skill — write an algorithm from scratch (how does backpropagation work?)\\n\\nI would start with doing a tutorial on a useful skill or knowledge skill.\\n\\nA good useful skill to teach is something like, “how to detect missing values with R”.\\n\\nYou could find a messy dataset and then walk through your process of detecting messy values.\\n\\nBe sure to show your code along the way, and explain what functions you’re using, and what exactly they’re doing.\\n\\nMy blog post on Data Cleaning with R is a good example of this type of project.\\n\\nA knowledge skill is another great type of project, especially if you’re learning something. Maybe something like “interpreting coefficients of a logistic regression model”.\\n\\nMy favorite way to learn something fast is to try and teach it.\\n\\nHave you ever thought you understood something, and then you try to explain it to someone, and realize you can’t?\\n\\nTry taking a topic and writing a blog post on it. Really explain the details, but try not to use a lot of technical jargon.\\n\\nBeing able to understand a topic and explain it in simple detail is a truly valuable skill that employers want to see.\\n\\nContribute to open source projects\\n\\nThe final way to gain data science experience is by contributing to open sourceprojects.\\n\\nThis is a great way to get familiar with popular data science libraries. Here’s a sample of some open source projects in data science:\\n\\nContributing to open source will get you familiar with version control and git.\\n\\nIf you don’t have any experience with git, not a big deal, here’s some great resources to get you started:\\n\\nContributing to open source projects can seem intimidating, but keep in mind you don’t necessarily need to contribute code.\\n\\nOpen source projects are always looking for contributions to their documentation.\\n\\nFor example, freeCodeCamp is always looking for contributions to their programming guides.\\n\\nIf you want to get started contributing, check out freeCodeCamp’s contribution guidelines.\\n\\nOpen source project will usually have some sort of contribution guidelines, so it’s good to read through those.\\n\\nHere’s the contributing guidelines for the open source project I mentioned previously:\\n\\nIf you’re still feeling overwhelmed, no worries, check out these beginner guides for getting started with open source projects:\\n\\nContributing to open source will not only increase your coding and software skills, but it will teach you how to work with others.\\n\\nYou’ll be constantly communicating with people running the project, as well as others contributing in the open source community.\\n\\nThis is a great way to learn from others, while contributing to your efforts to really amazing open source projects.\\n\\nConclusion\\n\\nGetting experience as a data scientist without having a data science job can be intimidating.\\n\\nThe best way to do it is to dive right in and start applying data science skills.\\n\\nIn this article we went over the following 5 ways to gain useful, real-world, data science experience:\\n\\nBuild Small Projects Volunteer as a Data Scientist Join a Meetup Create Tutorials Contribute to Open Source Projects\\n\\nStart by just focusing on one, and be sure to document your work on you LinkedIn profile and your GitHub portfolio page.'"
      ]
     },
     "execution_count": 22,
     "metadata": {},
     "output_type": "execute_result"
    }
   ],
   "source": [
    "df.text.iloc[3000]"
   ]
  },
  {
   "cell_type": "code",
   "execution_count": 9,
   "id": "f4ffa652",
   "metadata": {
    "ExecuteTime": {
     "end_time": "2022-06-10T08:53:43.006974Z",
     "start_time": "2022-06-10T08:53:27.665483Z"
    }
   },
   "outputs": [
    {
     "data": {
      "text/plain": [
       "0        making python programs blazingly fast let’s lo...\n",
       "1        understanding and implementing a fully convolu...\n",
       "2        python beginner 6 new features in python 3.8 f...\n",
       "3        how to be fancy with python python is cool. re...\n",
       "4        from scratch to search: playing with your data...\n",
       "                               ...                        \n",
       "76359    the most beautiful theory of all a century ago...\n",
       "76360    why people get happier as they get older as pe...\n",
       "76361    is the economist left- or right-wing? neither....\n",
       "76362    how the internet unleashed a burst of cartooni...\n",
       "76363    remove paywalls from search results “for the c...\n",
       "Name: text, Length: 76364, dtype: object"
      ]
     },
     "execution_count": 9,
     "metadata": {},
     "output_type": "execute_result"
    }
   ],
   "source": [
    "# lower case\n",
    "df['text'] = df['text'].apply(lambda x: \" \".join(word.lower() for word in str(x).split()))\n",
    "# remove punctuation\n",
    "df['text']"
   ]
  }
 ],
 "metadata": {
  "kernelspec": {
   "display_name": "Python 3 (ipykernel)",
   "language": "python",
   "name": "python3"
  },
  "language_info": {
   "codemirror_mode": {
    "name": "ipython",
    "version": 3
   },
   "file_extension": ".py",
   "mimetype": "text/x-python",
   "name": "python",
   "nbconvert_exporter": "python",
   "pygments_lexer": "ipython3",
   "version": "3.9.7"
  },
  "toc": {
   "base_numbering": 1,
   "nav_menu": {},
   "number_sections": true,
   "sideBar": true,
   "skip_h1_title": false,
   "title_cell": "Table of Contents",
   "title_sidebar": "Contents",
   "toc_cell": false,
   "toc_position": {},
   "toc_section_display": true,
   "toc_window_display": false
  },
  "varInspector": {
   "cols": {
    "lenName": 16,
    "lenType": 16,
    "lenVar": 40
   },
   "kernels_config": {
    "python": {
     "delete_cmd_postfix": "",
     "delete_cmd_prefix": "del ",
     "library": "var_list.py",
     "varRefreshCmd": "print(var_dic_list())"
    },
    "r": {
     "delete_cmd_postfix": ") ",
     "delete_cmd_prefix": "rm(",
     "library": "var_list.r",
     "varRefreshCmd": "cat(var_dic_list()) "
    }
   },
   "types_to_exclude": [
    "module",
    "function",
    "builtin_function_or_method",
    "instance",
    "_Feature"
   ],
   "window_display": false
  }
 },
 "nbformat": 4,
 "nbformat_minor": 5
}
